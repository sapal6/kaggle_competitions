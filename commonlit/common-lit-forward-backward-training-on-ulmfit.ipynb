{
 "cells": [
  {
   "cell_type": "markdown",
   "id": "c8c30a07",
   "metadata": {
    "_cell_guid": "b1076dfc-b9ad-4769-8c92-a6c4dae69d19",
    "_uuid": "8f2839f25d086af736a60e9eeb907d3b93b6e0e5",
    "papermill": {
     "duration": 0.166484,
     "end_time": "2021-07-30T04:32:06.137989",
     "exception": false,
     "start_time": "2021-07-30T04:32:05.971505",
     "status": "completed"
    },
    "tags": []
   },
   "source": [
    "Training a LSTM model with ULMFIT approach on original text and then on reversed text. Then ensembaling the predictions of both.\n",
    "\n",
    "Inpiration source [here](https://www.kaggle.com/gurharkhalsa/backwards-forwards-ulmfit-ensemble)."
   ]
  },
  {
   "cell_type": "code",
   "execution_count": 1,
   "id": "d1c8abc0",
   "metadata": {
    "collapsed": true,
    "execution": {
     "iopub.execute_input": "2021-07-30T04:32:06.481064Z",
     "iopub.status.busy": "2021-07-30T04:32:06.476021Z",
     "iopub.status.idle": "2021-07-30T04:32:41.034169Z",
     "shell.execute_reply": "2021-07-30T04:32:41.033428Z",
     "shell.execute_reply.started": "2021-07-29T07:18:17.309508Z"
    },
    "jupyter": {
     "outputs_hidden": true
    },
    "papermill": {
     "duration": 34.797281,
     "end_time": "2021-07-30T04:32:41.034382",
     "exception": false,
     "start_time": "2021-07-30T04:32:06.237101",
     "status": "completed"
    },
    "tags": []
   },
   "outputs": [
    {
     "name": "stdout",
     "output_type": "stream",
     "text": [
      "Collecting spacy==3.1.1\r\n",
      "  Downloading spacy-3.1.1-cp37-cp37m-manylinux_2_17_x86_64.manylinux2014_x86_64.whl (6.4 MB)\r\n",
      "\u001b[K     |████████████████████████████████| 6.4 MB 6.3 MB/s \r\n",
      "\u001b[?25hRequirement already satisfied: pydantic!=1.8,!=1.8.1,<1.9.0,>=1.7.4 in /opt/conda/lib/python3.7/site-packages (from spacy==3.1.1) (1.8.2)\r\n",
      "Collecting typer<0.4.0,>=0.3.0\r\n",
      "  Downloading typer-0.3.2-py3-none-any.whl (21 kB)\r\n",
      "Requirement already satisfied: setuptools in /opt/conda/lib/python3.7/site-packages (from spacy==3.1.1) (49.6.0.post20210108)\r\n",
      "Requirement already satisfied: requests<3.0.0,>=2.13.0 in /opt/conda/lib/python3.7/site-packages (from spacy==3.1.1) (2.25.1)\r\n",
      "Collecting catalogue<2.1.0,>=2.0.4\r\n",
      "  Downloading catalogue-2.0.4-py3-none-any.whl (16 kB)\r\n",
      "Requirement already satisfied: jinja2 in /opt/conda/lib/python3.7/site-packages (from spacy==3.1.1) (3.0.1)\r\n",
      "Collecting srsly<3.0.0,>=2.4.1\r\n",
      "  Downloading srsly-2.4.1-cp37-cp37m-manylinux2014_x86_64.whl (456 kB)\r\n",
      "\u001b[K     |████████████████████████████████| 456 kB 9.6 MB/s \r\n",
      "\u001b[?25hRequirement already satisfied: tqdm<5.0.0,>=4.38.0 in /opt/conda/lib/python3.7/site-packages (from spacy==3.1.1) (4.61.1)\r\n",
      "Requirement already satisfied: packaging>=20.0 in /opt/conda/lib/python3.7/site-packages (from spacy==3.1.1) (20.9)\r\n",
      "Requirement already satisfied: murmurhash<1.1.0,>=0.28.0 in /opt/conda/lib/python3.7/site-packages (from spacy==3.1.1) (1.0.5)\r\n",
      "Requirement already satisfied: numpy>=1.15.0 in /opt/conda/lib/python3.7/site-packages (from spacy==3.1.1) (1.19.5)\r\n",
      "Requirement already satisfied: typing-extensions<4.0.0.0,>=3.7.4 in /opt/conda/lib/python3.7/site-packages (from spacy==3.1.1) (3.7.4.3)\r\n",
      "Collecting thinc<8.1.0,>=8.0.8\r\n",
      "  Downloading thinc-8.0.8-cp37-cp37m-manylinux_2_17_x86_64.manylinux2014_x86_64.whl (621 kB)\r\n",
      "\u001b[K     |████████████████████████████████| 621 kB 9.6 MB/s \r\n",
      "\u001b[?25hRequirement already satisfied: cymem<2.1.0,>=2.0.2 in /opt/conda/lib/python3.7/site-packages (from spacy==3.1.1) (2.0.5)\r\n",
      "Requirement already satisfied: wasabi<1.1.0,>=0.8.1 in /opt/conda/lib/python3.7/site-packages (from spacy==3.1.1) (0.8.2)\r\n",
      "Requirement already satisfied: blis<0.8.0,>=0.4.0 in /opt/conda/lib/python3.7/site-packages (from spacy==3.1.1) (0.7.4)\r\n",
      "Collecting spacy-legacy<3.1.0,>=3.0.7\r\n",
      "  Downloading spacy_legacy-3.0.8-py2.py3-none-any.whl (14 kB)\r\n",
      "Collecting pathy>=0.3.5\r\n",
      "  Downloading pathy-0.6.0-py3-none-any.whl (42 kB)\r\n",
      "\u001b[K     |████████████████████████████████| 42 kB 680 kB/s \r\n",
      "\u001b[?25hRequirement already satisfied: preshed<3.1.0,>=3.0.2 in /opt/conda/lib/python3.7/site-packages (from spacy==3.1.1) (3.0.5)\r\n",
      "Requirement already satisfied: zipp>=0.5 in /opt/conda/lib/python3.7/site-packages (from catalogue<2.1.0,>=2.0.4->spacy==3.1.1) (3.4.1)\r\n",
      "Requirement already satisfied: pyparsing>=2.0.2 in /opt/conda/lib/python3.7/site-packages (from packaging>=20.0->spacy==3.1.1) (2.4.7)\r\n",
      "Requirement already satisfied: smart-open<6.0.0,>=5.0.0 in /opt/conda/lib/python3.7/site-packages (from pathy>=0.3.5->spacy==3.1.1) (5.1.0)\r\n",
      "Requirement already satisfied: idna<3,>=2.5 in /opt/conda/lib/python3.7/site-packages (from requests<3.0.0,>=2.13.0->spacy==3.1.1) (2.10)\r\n",
      "Requirement already satisfied: urllib3<1.27,>=1.21.1 in /opt/conda/lib/python3.7/site-packages (from requests<3.0.0,>=2.13.0->spacy==3.1.1) (1.26.5)\r\n",
      "Requirement already satisfied: chardet<5,>=3.0.2 in /opt/conda/lib/python3.7/site-packages (from requests<3.0.0,>=2.13.0->spacy==3.1.1) (4.0.0)\r\n",
      "Requirement already satisfied: certifi>=2017.4.17 in /opt/conda/lib/python3.7/site-packages (from requests<3.0.0,>=2.13.0->spacy==3.1.1) (2021.5.30)\r\n",
      "Requirement already satisfied: click<7.2.0,>=7.1.1 in /opt/conda/lib/python3.7/site-packages (from typer<0.4.0,>=0.3.0->spacy==3.1.1) (7.1.2)\r\n",
      "Requirement already satisfied: MarkupSafe>=2.0 in /opt/conda/lib/python3.7/site-packages (from jinja2->spacy==3.1.1) (2.0.1)\r\n",
      "Installing collected packages: catalogue, typer, srsly, thinc, spacy-legacy, pathy, spacy\r\n",
      "  Attempting uninstall: catalogue\r\n",
      "    Found existing installation: catalogue 1.0.0\r\n",
      "    Uninstalling catalogue-1.0.0:\r\n",
      "      Successfully uninstalled catalogue-1.0.0\r\n",
      "  Attempting uninstall: srsly\r\n",
      "    Found existing installation: srsly 1.0.5\r\n",
      "    Uninstalling srsly-1.0.5:\r\n",
      "      Successfully uninstalled srsly-1.0.5\r\n",
      "  Attempting uninstall: thinc\r\n",
      "    Found existing installation: thinc 7.4.5\r\n",
      "    Uninstalling thinc-7.4.5:\r\n",
      "      Successfully uninstalled thinc-7.4.5\r\n",
      "  Attempting uninstall: spacy\r\n",
      "    Found existing installation: spacy 2.3.7\r\n",
      "    Uninstalling spacy-2.3.7:\r\n",
      "      Successfully uninstalled spacy-2.3.7\r\n",
      "\u001b[31mERROR: pip's dependency resolver does not currently take into account all the packages that are installed. This behaviour is the source of the following dependency conflicts.\r\n",
      "fastai 2.2.7 requires spacy<3, but you have spacy 3.1.1 which is incompatible.\r\n",
      "en-core-web-sm 2.3.1 requires spacy<2.4.0,>=2.3.0, but you have spacy 3.1.1 which is incompatible.\r\n",
      "en-core-web-lg 2.3.1 requires spacy<2.4.0,>=2.3.0, but you have spacy 3.1.1 which is incompatible.\r\n",
      "allennlp 2.5.0 requires spacy<3.1,>=2.1.0, but you have spacy 3.1.1 which is incompatible.\u001b[0m\r\n",
      "Successfully installed catalogue-2.0.4 pathy-0.6.0 spacy-3.1.1 spacy-legacy-3.0.8 srsly-2.4.1 thinc-8.0.8 typer-0.3.2\r\n",
      "\u001b[33mWARNING: Running pip as root will break packages and permissions. You should install packages reliably by using venv: https://pip.pypa.io/warnings/venv\u001b[0m\r\n"
     ]
    }
   ],
   "source": [
    "#!pip install --no-index --find-links=\"../input/commonlit-pkgs-offline-download\" spacy==3.1.1\n",
    "!pip install spacy==3.1.1"
   ]
  },
  {
   "cell_type": "code",
   "execution_count": 2,
   "id": "147d43a0",
   "metadata": {
    "collapsed": true,
    "execution": {
     "iopub.execute_input": "2021-07-30T04:32:41.209513Z",
     "iopub.status.busy": "2021-07-30T04:32:41.204978Z",
     "iopub.status.idle": "2021-07-30T04:39:12.767601Z",
     "shell.execute_reply": "2021-07-30T04:39:12.768208Z",
     "shell.execute_reply.started": "2021-07-29T07:24:55.983447Z"
    },
    "jupyter": {
     "outputs_hidden": true
    },
    "papermill": {
     "duration": 391.652432,
     "end_time": "2021-07-30T04:39:12.768449",
     "exception": false,
     "start_time": "2021-07-30T04:32:41.116017",
     "status": "completed"
    },
    "tags": []
   },
   "outputs": [
    {
     "name": "stdout",
     "output_type": "stream",
     "text": [
      "Collecting package metadata (current_repodata.json): - \b\b\\ \b\b| \b\b/ \b\b- \b\b\\ \b\b| \b\b/ \b\b- \b\b\\ \b\b| \b\b/ \b\b- \b\b\\ \b\b| \b\b/ \b\b- \b\b\\ \b\b| \b\b/ \b\b- \b\b\\ \b\b| \b\b/ \b\b- \b\b\\ \b\b| \b\b/ \b\b- \b\b\\ \b\b| \b\b/ \b\b- \b\b\\ \b\b| \b\b/ \b\b- \b\b\\ \b\b| \b\b/ \b\b- \b\b\\ \b\b| \b\b/ \b\b- \b\b\\ \b\b| \b\b/ \b\b- \b\b\\ \b\b| \b\b/ \b\b- \b\b\\ \b\b| \b\b/ \b\b- \b\b\\ \b\b| \b\b/ \b\b- \b\b\\ \b\b| \b\b/ \b\b- \b\b\\ \b\b| \b\b/ \b\b- \b\b\\ \b\b| \b\b/ \b\b- \b\b\\ \b\b| \b\b/ \b\b- \b\b\\ \b\b| \b\b/ \b\b- \b\b\\ \b\b| \b\b/ \b\b- \b\b\\ \b\b| \b\b/ \b\b- \b\b\\ \b\b| \b\b/ \b\b- \b\b\\ \b\b| \b\b/ \b\b- \b\b\\ \b\b| \b\b/ \b\b- \b\b\\ \b\b| \b\b/ \b\b- \b\b\\ \b\b| \b\b/ \b\b- \b\b\\ \b\b| \b\b/ \b\b- \b\b\\ \b\b| \b\b/ \b\b- \b\b\\ \b\b| \b\b/ \b\b- \b\b\\ \b\b| \b\b/ \b\b- \b\b\\ \b\b| \b\b/ \b\b- \b\b\\ \b\b| \b\b/ \b\b- \b\b\\ \b\b| \b\b/ \b\b- \b\b\\ \b\b| \b\b/ \b\b- \b\b\\ \b\b| \b\b/ \b\b- \b\b\\ \b\b| \b\b/ \b\b- \b\b\\ \b\b| \b\b/ \b\b- \b\b\\ \b\b| \b\b/ \b\b- \b\b\\ \b\b| \b\b/ \b\b- \b\b\\ \b\b| \b\b/ \b\b- \b\b\\ \b\b| \b\b/ \b\b- \b\b\\ \b\b| \b\b/ \b\b- \b\b\\ \b\b| \b\b/ \b\b- \b\b\\ \b\b| \b\b/ \b\b- \b\b\\ \b\b| \b\b/ \b\b- \b\b\\ \b\b| \b\b/ \b\b- \b\b\\ \b\b| \b\b/ \b\b- \b\b\\ \b\b| \b\b/ \b\b- \b\b\\ \b\b| \b\b/ \b\bdone\r\n",
      "Solving environment: \\ \b\b| \b\b/ \b\b- \b\b\\ \b\b| \b\b/ \b\b- \b\b\\ \b\b| \b\b/ \b\b- \b\b\\ \b\b| \b\b/ \b\b- \b\b\\ \b\b| \b\b/ \b\b- \b\b\\ \b\b| \b\b/ \b\b- \b\b\\ \b\b| \b\b/ \b\b- \b\b\\ \b\b| \b\b/ \b\b- \b\b\\ \b\b| \b\b/ \b\b- \b\b\\ \b\b| \b\b/ \b\b- \b\b\\ \b\b| \b\b/ \b\b- \b\b\\ \b\b| \b\b/ \b\b- \b\b\\ \b\b| \b\b/ \b\b- \b\b\\ \b\b| \b\b/ \b\b- \b\b\\ \b\b| \b\b/ \b\b- \b\b\\ \b\b| \b\b/ \b\b- \b\b\\ \b\b| \b\b/ \b\b- \b\b\\ \b\b| \b\b/ \b\b- \b\b\\ \b\b| \b\b/ \b\b- \b\b\\ \b\b| \b\b/ \b\b- \b\b\\ \b\b| \b\b/ \b\b- \b\b\\ \b\b| \b\b/ \b\b- \b\b\\ \b\b| \b\b/ \b\b- \b\b\\ \b\b| \b\b/ \b\b- \b\b\\ \b\b| \b\b/ \b\b- \b\b\\ \b\b| \b\b/ \b\b- \b\b\\ \b\b| \b\b/ \b\b- \b\b\\ \b\b| \b\b/ \b\b- \b\b\\ \b\b| \b\b/ \b\b- \b\b\\ \b\b| \b\b/ \b\b- \b\b\\ \b\b| \b\b/ \b\b- \b\b\\ \b\b| \b\b/ \b\b- \b\b\\ \b\b| \b\b/ \b\b- \b\b\\ \b\b| \b\b/ \b\b- \b\b\\ \b\b| \b\b/ \b\b- \b\b\\ \b\b| \b\b/ \b\b- \b\b\\ \b\b| \b\b/ \b\b- \b\b\\ \b\b| \b\b/ \b\b- \b\b\\ \b\b| \b\b/ \b\b- \b\b\\ \b\b| \b\b/ \b\b- \b\b\\ \b\b| \b\b/ \b\b- \b\b\\ \b\b| \b\b/ \b\b- \b\b\\ \b\b| \b\b/ \b\b- \b\b\\ \b\b| \b\b/ \b\b- \b\b\\ \b\b| \b\b/ \b\b- \b\b\\ \b\b| \b\b/ \b\b- \b\b\\ \b\b| \b\b/ \b\b- \b\b\\ \b\b| \b\b/ \b\b- \b\b\\ \b\b| \b\b/ \b\b- \b\b\\ \b\b| \b\b/ \b\b- \b\b\\ \b\b| \b\b/ \b\b- \b\b\\ \b\b| \b\b/ \b\b- \b\b\\ \b\b| \b\b/ \b\b- \b\b\\ \b\b| \b\b/ \b\b- \b\b\\ \b\b| \b\b/ \b\b- \b\b\\ \b\b| \b\b/ \b\b- \b\b\\ \b\b| \b\b/ \b\b- \b\b\\ \b\b| \b\b/ \b\b- \b\b\\ \b\b| \b\b/ \b\b- \b\b\\ \b\b| \b\b/ \b\b- \b\b\\ \b\b| \b\b/ \b\b- \b\b\\ \b\b| \b\b/ \b\b- \b\b\\ \b\b| \b\b/ \b\b- \b\b\\ \b\b| \b\b/ \b\b- \b\b\\ \b\b| \b\b/ \b\b- \b\b\\ \b\b| \b\b/ \b\b- \b\b\\ \b\b| \b\b/ \b\b- \b\b\\ \b\b| \b\b/ \b\b- \b\b\\ \b\b| \b\b/ \b\b- \b\b\\ \b\b| \b\b/ \b\b- \b\b\\ \b\b| \b\b/ \b\b- \b\b\\ \b\b| \b\b/ \b\b- \b\b\\ \b\b| \b\b/ \b\b- \b\b\\ \b\b| \b\b/ \b\b- \b\b\\ \b\b| \b\b/ \b\b- \b\b\\ \b\b| \b\b/ \b\b- \b\b\\ \b\b| \b\b/ \b\b- \b\b\\ \b\b| \b\b/ \b\b- \b\b\\ \b\b| \b\b/ \b\b- \b\b\\ \b\b| \b\b/ \b\b- \b\b\\ \b\b| \b\b/ \b\b- \b\b\\ \b\b| \b\b/ \b\b- \b\b\\ \b\b| \b\b/ \b\b- \b\b\\ \b\b| \b\b/ \b\b- \b\b\\ \b\b| \b\b/ \b\b- \b\b\\ \b\b| \b\b/ \b\b- \b\b\\ \b\b| \b\b/ \b\b- \b\b\\ \b\b| \b\b/ \b\b- \b\b\\ \b\b| \b\b/ \b\b- \b\b\\ \b\b| \b\b/ \b\b- \b\b\\ \b\b| \b\b/ \b\b- \b\b\\ \b\b| \b\b/ \b\b- \b\b\\ \b\b| \b\b/ \b\b- \b\b\\ \b\b| \b\b/ \b\b- \b\b\\ \b\b| \b\b/ \b\b- \b\b\\ \b\b| \b\b/ \b\b- \b\b\\ \b\b| \b\b/ \b\b- \b\b\\ \b\b| \b\b/ \b\b- \b\b\\ \b\b| \b\b/ \b\b- \b\b\\ \b\b| \b\b/ \b\b- \b\b\\ \b\b| \b\b/ \b\b- \b\b\\ \b\b| \b\b/ \b\b- \b\b\\ \b\b| \b\b/ \b\b- \b\b\\ \b\b| \b\b/ \b\b- \b\b\\ \b\b| \b\b/ \b\b- \b\b\\ \b\b| \b\b/ \b\b- \b\b\\ \b\b| \b\b/ \b\b- \b\b\\ \b\b| \b\b/ \b\b- \b\b\\ \b\b| \b\b/ \b\b- \b\b\\ \b\b| \b\b/ \b\b- \b\b\\ \b\b| \b\b/ \b\b- \b\b\\ \b\b| \b\b/ \b\b- \b\b\\ \b\b| \b\b/ \b\b- \b\b\\ \b\b| \b\b/ \b\b- \b\b\\ \b\b| \b\b/ \b\b- \b\b\\ \b\b| \b\b/ \b\b- \b\b\\ \b\b| \b\b/ \b\b- \b\b\\ \b\b| \b\b/ \b\b- \b\b\\ \b\b| \b\b/ \b\b- \b\b\\ \b\b| \b\b/ \b\b- \b\b\\ \b\b| \b\b/ \b\b- \b\b\\ \b\b| \b\b/ \b\b- \b\b\\ \b\b| \b\b/ \b\b- \b\b\\ \b\b| \b\b/ \b\b- \b\b\\ \b\b| \b\b/ \b\b- \b\b\\ \b\b| \b\b/ \b\b- \b\b\\ \b\b| \b\b/ \b\b- \b\b\\ \b\b| \b\b/ \b\b- \b\b\\ \b\b| \b\b/ \b\b- \b\b\\ \b\b| \b\b/ \b\b- \b\b\\ \b\b| \b\b/ \b\b- \b\b\\ \b\b| \b\b/ \b\b- \b\b\\ \b\b| \b\b/ \b\b- \b\b\\ \b\b| \b\b/ \b\b- \b\b\\ \b\b| \b\b/ \b\b- \b\b\\ \b\b| \b\b/ \b\b- \b\b\\ \b\b| \b\b/ \b\b- \b\b\\ \b\b| \b\b/ \b\b- \b\b\\ \b\b| \b\b/ \b\b- \b\b\\ \b\b| \b\b/ \b\b- \b\b\\ \b\b| \b\b/ \b\b- \b\b\\ \b\b| \b\b/ \b\b- \b\b\\ \b\b| \b\b/ \b\b- \b\b\\ \b\b| \b\b/ \b\b- \b\b\\ \b\b| \b\b/ \b\b- \b\b\\ \b\b| \b\b/ \b\b- \b\b\\ \b\b| \b\b/ \b\b- \b\b\\ \b\b| \b\b/ \b\b- \b\b\\ \b\b| \b\b/ \b\b- \b\b\\ \b\b| \b\b/ \b\b- \b\b\\ \b\b| \b\b/ \b\b- \b\b\\ \b\b| \b\b/ \b\b- \b\b\\ \b\b| \b\b/ \b\b- \b\b\\ \b\b| \b\b/ \b\b- \b\b\\ \b\b| \b\b/ \b\b- \b\b\\ \b\b| \b\b/ \b\b- \b\b\\ \b\b| \b\b/ \b\b- \b\b\\ \b\b| \b\b/ \b\b- \b\b\\ \b\b| \b\b/ \b\b- \b\b\\ \b\b| \b\b/ \b\b- \b\b\\ \b\b| \b\b/ \b\b- \b\b\\ \b\b| \b\b/ \b\b- \b\b\\ \b\b| \b\b/ \b\b- \b\b\\ \b\b| \b\b/ \b\b- \b\b\\ \b\b| \b\b/ \b\b- \b\b\\ \b\b| \b\b/ \b\b- \b\b\\ \b\b| \b\b/ \b\b- \b\b\\ \b\b| \b\b/ \b\b- \b\b\\ \b\b| \b\b/ \b\b- \b\b\\ \b\b| \b\b/ \b\b- \b\b\\ \b\b| \b\b/ \b\b- \b\b\\ \b\b| \b\b/ \b\b- \b\b\\ \b\b| \b\b/ \b\b- \b\b\\ \b\b| \b\b/ \b\b- \b\b\\ \b\b| \b\b/ \b\b- \b\b\\ \b\b| \b\b/ \b\b- \b\b\\ \b\b| \b\b/ \b\b- \b\b\\ \b\b| \b\b/ \b\b- \b\b\\ \b\b| \b\b/ \b\b- \b\b\\ \b\b| \b\b/ \b\b- \b\b\\ \b\b| \b\b/ \b\b- \b\b\\ \b\b| \b\b/ \b\b- \b\b\\ \b\b| \b\b/ \b\b- \b\b\\ \b\b| \b\b/ \b\b- \b\b\\ \b\b| \b\b/ \b\b- \b\b\\ \b\b| \b\b/ \b\b- \b\b\\ \b\b| \b\b/ \b\b- \b\b\\ \b\b| \b\b/ \b\b- \b\b\\ \b\b| \b\b/ \b\b- \b\b\\ \b\b| \b\b/ \b\b- \b\b\\ \b\b| \b\b/ \b\b- \b\b\\ \b\b| \b\b/ \b\b- \b\b\\ \b\b| \b\b/ \b\b- \b\b\\ \b\b| \b\b/ \b\b- \b\b\\ \b\b| \b\b/ \b\b- \b\b\\ \b\b| \b\b/ \b\b- \b\b\\ \b\b| \b\b/ \b\b- \b\b\\ \b\b| \b\b/ \b\b- \b\b\\ \b\b| \b\b/ \b\b- \b\b\\ \b\b| \b\b/ \b\b- \b\b\\ \b\b| \b\b/ \b\b- \b\b\\ \b\b| \b\b/ \b\b- \b\b\\ \b\b| \b\b/ \b\b- \b\b\\ \b\b| \b\b/ \b\b- \b\b\\ \b\b| \b\b/ \b\b- \b\b\\ \b\b| \b\b/ \b\b- \b\b\\ \b\b| \b\b/ \b\b- \b\b\\ \b\b| \b\b/ \b\b- \b\b\\ \b\b| \b\b/ \b\b- \b\b\\ \b\b| \b\b/ \b\b- \b\b\\ \b\b| \b\b/ \b\b- \b\b\\ \b\b| \b\b/ \b\b- \b\b\\ \b\b| \b\b/ \b\b- \b\b\\ \b\b| \b\b/ \b\b- \b\b\\ \b\b| \b\b/ \b\b- \b\b\\ \b\b| \b\b/ \b\b- \b\b\\ \b\b| \b\b/ \b\b- \b\b\\ \b\b| \b\b/ \b\b- \b\b\\ \b\b| \b\b/ \b\b- \b\b\\ \b\b| \b\b/ \b\b- \b\b\\ \b\b| \b\b/ \b\b- \b\b\\ \b\b| \b\b/ \b\b- \b\b\\ \b\b| \b\b/ \b\b- \b\b\\ \b\b| \b\b/ \b\b- \b\b\\ \b\bdone\r\n",
      "\r\n",
      "\r\n",
      "==> WARNING: A newer version of conda exists. <==\r\n",
      "  current version: 4.9.2\r\n",
      "  latest version: 4.10.3\r\n",
      "\r\n",
      "Please update conda by running\r\n",
      "\r\n",
      "    $ conda update -n base conda\r\n",
      "\r\n",
      "\r\n",
      "\r\n",
      "## Package Plan ##\r\n",
      "\r\n",
      "  environment location: /opt/conda\r\n",
      "\r\n",
      "  added / updated specs:\r\n",
      "    - fastai=2.4.1\r\n",
      "\r\n",
      "\r\n",
      "The following packages will be downloaded:\r\n",
      "\r\n",
      "    package                    |            build\r\n",
      "    ---------------------------|-----------------\r\n",
      "    _pytorch_select-0.1        |            cpu_0           3 KB\r\n",
      "    catalogue-2.0.4            |   py37h89c1867_0          30 KB  conda-forge\r\n",
      "    cymem-2.0.5                |   py37hcd2ae1e_2          42 KB  conda-forge\r\n",
      "    cython-blis-0.7.4          |   py37h902c9e0_0         3.9 MB  conda-forge\r\n",
      "    fastai-2.4.1               |             py_0         144 KB  fastai\r\n",
      "    fastcore-1.3.20            |             py_0          46 KB  fastai\r\n",
      "    fastprogress-1.0.0         |     pyh39e3cac_0          17 KB  fastai\r\n",
      "    murmurhash-1.0.5           |   py37hcd2ae1e_0          26 KB  conda-forge\r\n",
      "    pathy-0.6.0                |     pyhd8ed1ab_0          37 KB  conda-forge\r\n",
      "    preshed-3.0.5              |   py37hcd2ae1e_1         117 KB  conda-forge\r\n",
      "    pytorch-1.7.1              |py3.7_cuda11.0.221_cudnn8.0.5_0       771.1 MB  pytorch\r\n",
      "    shellingham-1.4.0          |     pyh44b312d_0          11 KB  conda-forge\r\n",
      "    smart_open-5.1.0           |     pyhd8ed1ab_1          42 KB  conda-forge\r\n",
      "    spacy-3.1.1                |   py37hda21425_0         6.2 MB  conda-forge\r\n",
      "    spacy-legacy-3.0.8         |     pyhd8ed1ab_0          15 KB  conda-forge\r\n",
      "    srsly-2.4.1                |   py37hcd2ae1e_0         529 KB  conda-forge\r\n",
      "    thinc-8.0.8                |   py37hda21425_0         704 KB  conda-forge\r\n",
      "    torchaudio-0.7.2           |             py37         9.9 MB  pytorch\r\n",
      "    torchtext-0.8.1            |             py37         8.0 MB  pytorch\r\n",
      "    torchvision-0.8.2          |cpu_py37ha229d99_0         6.4 MB\r\n",
      "    typer-0.3.2                |     pyhd8ed1ab_0          23 KB  conda-forge\r\n",
      "    wasabi-0.8.2               |     pyh44b312d_0          23 KB  conda-forge\r\n",
      "    ------------------------------------------------------------\r\n",
      "                                           Total:       807.4 MB\r\n",
      "\r\n",
      "The following NEW packages will be INSTALLED:\r\n",
      "\r\n",
      "  _pytorch_select    pkgs/main/linux-64::_pytorch_select-0.1-cpu_0\r\n",
      "  catalogue          conda-forge/linux-64::catalogue-2.0.4-py37h89c1867_0\r\n",
      "  cymem              conda-forge/linux-64::cymem-2.0.5-py37hcd2ae1e_2\r\n",
      "  cython-blis        conda-forge/linux-64::cython-blis-0.7.4-py37h902c9e0_0\r\n",
      "  fastai             fastai/noarch::fastai-2.4.1-py_0\r\n",
      "  fastcore           fastai/noarch::fastcore-1.3.20-py_0\r\n",
      "  fastprogress       fastai/noarch::fastprogress-1.0.0-pyh39e3cac_0\r\n",
      "  murmurhash         conda-forge/linux-64::murmurhash-1.0.5-py37hcd2ae1e_0\r\n",
      "  pathy              conda-forge/noarch::pathy-0.6.0-pyhd8ed1ab_0\r\n",
      "  preshed            conda-forge/linux-64::preshed-3.0.5-py37hcd2ae1e_1\r\n",
      "  shellingham        conda-forge/noarch::shellingham-1.4.0-pyh44b312d_0\r\n",
      "  smart_open         conda-forge/noarch::smart_open-5.1.0-pyhd8ed1ab_1\r\n",
      "  spacy              conda-forge/linux-64::spacy-3.1.1-py37hda21425_0\r\n",
      "  spacy-legacy       conda-forge/noarch::spacy-legacy-3.0.8-pyhd8ed1ab_0\r\n",
      "  srsly              conda-forge/linux-64::srsly-2.4.1-py37hcd2ae1e_0\r\n",
      "  thinc              conda-forge/linux-64::thinc-8.0.8-py37hda21425_0\r\n",
      "  typer              conda-forge/noarch::typer-0.3.2-pyhd8ed1ab_0\r\n",
      "  wasabi             conda-forge/noarch::wasabi-0.8.2-pyh44b312d_0\r\n",
      "\r\n",
      "The following packages will be UPDATED:\r\n",
      "\r\n",
      "  pytorch             1.7.0-py3.7_cuda11.0.221_cudnn8.0.3_0 --> 1.7.1-py3.7_cuda11.0.221_cudnn8.0.5_0\r\n",
      "  torchaudio                                     0.7.0-py37 --> 0.7.2-py37\r\n",
      "  torchtext                                      0.8.0-py37 --> 0.8.1-py37\r\n",
      "  torchvision         pytorch::torchvision-0.8.1-py37_cu110 --> pkgs/main::torchvision-0.8.2-cpu_py37ha229d99_0\r\n",
      "\r\n",
      "\r\n",
      "Proceed ([y]/n)? \r\n",
      "\r\n",
      "Downloading and Extracting Packages\r\n",
      "srsly-2.4.1          | 529 KB    | ##################################### | 100% \r\n",
      "fastai-2.4.1         | 144 KB    | ##################################### | 100% \r\n",
      "spacy-3.1.1          | 6.2 MB    | ##################################### | 100% \r\n",
      "pathy-0.6.0          | 37 KB     | ##################################### | 100% \r\n",
      "pytorch-1.7.1        | 771.1 MB  | ##################################### | 100% \r\n",
      "typer-0.3.2          | 23 KB     | ##################################### | 100% \r\n",
      "_pytorch_select-0.1  | 3 KB      | ##################################### | 100% \r\n",
      "smart_open-5.1.0     | 42 KB     | ##################################### | 100% \r\n",
      "shellingham-1.4.0    | 11 KB     | ##################################### | 100% \r\n",
      "torchvision-0.8.2    | 6.4 MB    | ##################################### | 100% \r\n",
      "torchaudio-0.7.2     | 9.9 MB    | ##################################### | 100% \r\n",
      "preshed-3.0.5        | 117 KB    | ##################################### | 100% \r\n",
      "fastcore-1.3.20      | 46 KB     | ##################################### | 100% \r\n",
      "catalogue-2.0.4      | 30 KB     | ##################################### | 100% \r\n",
      "torchtext-0.8.1      | 8.0 MB    | ##################################### | 100% \r\n",
      "spacy-legacy-3.0.8   | 15 KB     | ##################################### | 100% \r\n",
      "murmurhash-1.0.5     | 26 KB     | ##################################### | 100% \r\n",
      "fastprogress-1.0.0   | 17 KB     | ##################################### | 100% \r\n",
      "cython-blis-0.7.4    | 3.9 MB    | ##################################### | 100% \r\n",
      "cymem-2.0.5          | 42 KB     | ##################################### | 100% \r\n",
      "thinc-8.0.8          | 704 KB    | ##################################### | 100% \r\n",
      "wasabi-0.8.2         | 23 KB     | ##################################### | 100% \r\n",
      "Preparing transaction: / \b\b- \b\b\\ \b\b| \b\b/ \b\bdone\r\n",
      "Verifying transaction: \\ \b\b| \b\b/ \b\b- \b\b\\ \b\b| \b\b/ \b\b- \b\b\\ \b\b| \b\b/ \b\b- \b\b\\ \b\b| \b\b/ \b\b- \b\b\\ \b\b| \b\b/ \b\b- \b\b\\ \b\b| \b\b/ \b\b- \b\b\\ \b\b| \b\b/ \b\b- \b\b\\ \b\b| \b\b/ \b\b- \b\b\\ \b\b| \b\b/ \b\b- \b\b\\ \b\b| \b\b/ \b\b- \b\b\\ \b\b| \b\b/ \b\b- \b\b\\ \b\b| \b\bdone\r\n",
      "Executing transaction: - \b\b\\ \b\b| \b\b/ \b\b- \b\b\\ \b\b| \b\b/ \b\b- \b\b\\ \b\b| \b\b/ \b\b- \b\b\\ \b\b| \b\b/ \b\b- \b\b\\ \b\b| \b\b/ \b\b- \b\b\\ \b\b| \b\b/ \b\b- \b\b\\ \b\b| \b\b/ \b\b- \b\b\\ \b\b| \b\b/ \b\b- \b\b\\ \b\b| \b\b/ \b\b- \b\b\\ \b\b| \b\b/ \b\b- \b\b\\ \b\b| \b\b/ \b\b- \b\b\\ \b\b| \b\b/ \b\b- \b\b\\ \b\b| \b\b/ \b\b- \b\b\\ \b\b| \b\b/ \b\b- \b\b\\ \b\b| \b\b/ \b\b- \b\b\\ \b\b| \b\b/ \b\b- \b\b\\ \b\b| \b\b/ \b\b- \b\b\\ \b\b| \b\b/ \b\b- \b\b\\ \b\b| \b\b/ \b\b- \b\b\\ \b\b| \b\b/ \b\b- \b\b\\ \b\b| \b\b/ \b\b- \b\b\\ \b\b| \b\b/ \b\b- \b\b\\ \b\b| \b\b/ \b\b- \b\b\\ \b\b| \b\b/ \b\b- \b\b\\ \b\b| \b\b/ \b\b- \b\b\\ \b\b| \b\b/ \b\b- \b\b\\ \b\b| \b\b/ \b\b- \b\b\\ \b\b| \b\b/ \b\b- \b\b\\ \b\b| \b\b/ \b\b- \b\b\\ \b\b| \b\b/ \b\b- \b\b\\ \b\b| \b\b/ \b\b- \b\b\\ \b\b| \b\b/ \b\b- \b\b\\ \b\b| \b\b/ \b\b- \b\b\\ \b\b| \b\b/ \b\b- \b\b\\ \b\b| \b\b/ \b\b- \b\b\\ \b\b| \b\b/ \b\b- \b\b\\ \b\b| \b\b/ \b\b- \b\b\\ \b\b| \b\b/ \b\b- \b\b\\ \b\b| \b\b/ \b\b- \b\b\\ \b\b| \b\b/ \b\b- \b\b\\ \b\b| \b\b/ \b\b- \b\b\\ \b\b| \b\b/ \b\b- \b\b\\ \b\b| \b\b/ \b\b- \b\b\\ \b\b| \b\b/ \b\b- \b\b\\ \b\b| \b\b/ \b\b- \b\b\\ \b\b| \b\b/ \b\b- \b\b\\ \b\b| \b\b/ \b\b- \b\b\\ \b\b| \b\b/ \b\b- \b\b\\ \b\b| \b\b/ \b\b- \b\b\\ \b\b| \b\b/ \b\b- \b\b\\ \b\b| \b\b/ \b\b- \b\b\\ \b\b| \b\b/ \b\b- \b\b\\ \b\b| \b\b/ \b\b- \b\b\\ \b\b| \b\b/ \b\b- \b\b\\ \b\b| \b\b/ \b\b- \b\b\\ \b\b| \b\b/ \b\b- \b\b\\ \b\b| \b\b/ \b\b- \b\b\\ \b\b| \b\b/ \b\b- \b\b\\ \b\b| \b\b/ \b\b- \b\b\\ \b\b| \b\b/ \b\b- \b\b\\ \b\b| \b\b/ \b\b- \b\b\\ \b\b| \b\b/ \b\b- \b\b\\ \b\b| \b\b/ \b\b- \b\b\\ \b\b| \b\b/ \b\b- \b\b\\ \b\b| \b\b/ \b\b- \b\b\\ \b\b| \b\b/ \b\b- \b\b\\ \b\b| \b\b/ \b\b- \b\b\\ \b\b| \b\b/ \b\b- \b\b\\ \b\b| \b\b/ \b\b- \b\b\\ \b\b| \b\b/ \b\b- \b\b\\ \b\b| \b\b/ \b\b- \b\b\\ \b\b| \b\b/ \b\b- \b\b\\ \b\b| \b\b/ \b\b- \b\b\\ \b\b| \b\b/ \b\b- \b\b\\ \b\b| \b\b/ \b\b- \b\b\\ \b\b| \b\b/ \b\b- \b\b\\ \b\b| \b\b/ \b\b- \b\b\\ \b\b| \b\b/ \b\b- \b\b\\ \b\b| \b\b/ \b\b- \b\b\\ \b\b| \b\b/ \b\b- \b\b\\ \b\b| \b\b/ \b\b- \b\b\\ \b\b| \b\b/ \b\b- \b\b\\ \b\b| \b\b/ \b\b- \b\b\\ \b\b| \b\b/ \b\b- \b\b\\ \b\b| \b\b/ \b\b- \b\b\\ \b\b| \b\b/ \b\b- \b\b\\ \b\b| \b\b/ \b\b- \b\b\\ \b\b| \b\b/ \b\b- \b\b\\ \b\b| \b\b/ \b\b- \b\b\\ \b\b| \b\b/ \b\b- \b\b\\ \b\b| \b\b/ \b\b- \b\b\\ \b\b| \b\b/ \b\b- \b\b\\ \b\b| \b\b/ \b\b- \b\b\\ \b\b| \b\b/ \b\b- \b\b\\ \b\b| \b\b/ \b\b- \b\b\\ \b\b| \b\b/ \b\b- \b\b\\ \b\b| \b\b/ \b\b- \b\b\\ \b\b| \b\b/ \b\b- \b\b\\ \b\b| \b\b/ \b\b- \b\b\\ \b\b| \b\b/ \b\b- \b\b\\ \b\b| \b\b/ \b\b- \b\b\\ \b\b| \b\b/ \b\b- \b\b\\ \b\b| \b\b/ \b\b- \b\b\\ \b\b| \b\b/ \b\b- \b\b\\ \b\b| \b\b/ \b\b- \b\b\\ \b\b| \b\b/ \b\b- \b\b\\ \b\b| \b\b/ \b\b- \b\b\\ \b\b| \b\b/ \b\b- \b\b\\ \b\b| \b\b/ \b\b- \b\bdone\r\n",
      "yes: standard output: Broken pipe\r\n"
     ]
    }
   ],
   "source": [
    "#!pip install --no-index --find-links=\"../input/commonlit-pkgs-offline-download\" fastai==2.4.1\n",
    "!yes Y|conda install -c fastai fastai=2.4.1"
   ]
  },
  {
   "cell_type": "markdown",
   "id": "e2c9fb44",
   "metadata": {
    "papermill": {
     "duration": 0.731212,
     "end_time": "2021-07-30T04:39:14.258240",
     "exception": false,
     "start_time": "2021-07-30T04:39:13.527028",
     "status": "completed"
    },
    "tags": []
   },
   "source": [
    "## Import libraries"
   ]
  },
  {
   "cell_type": "code",
   "execution_count": 3,
   "id": "8b1b849f",
   "metadata": {
    "execution": {
     "iopub.execute_input": "2021-07-30T04:39:16.033455Z",
     "iopub.status.busy": "2021-07-30T04:39:16.032402Z",
     "iopub.status.idle": "2021-07-30T04:39:16.044498Z",
     "shell.execute_reply": "2021-07-30T04:39:16.045165Z",
     "shell.execute_reply.started": "2021-07-29T06:26:40.850612Z"
    },
    "papermill": {
     "duration": 0.905667,
     "end_time": "2021-07-30T04:39:16.045349",
     "exception": false,
     "start_time": "2021-07-30T04:39:15.139682",
     "status": "completed"
    },
    "tags": []
   },
   "outputs": [
    {
     "data": {
      "text/plain": [
       "'2.4.1'"
      ]
     },
     "execution_count": 3,
     "metadata": {},
     "output_type": "execute_result"
    }
   ],
   "source": [
    "import fastai\n",
    "fastai.__version__"
   ]
  },
  {
   "cell_type": "code",
   "execution_count": 4,
   "id": "a62127c2",
   "metadata": {
    "execution": {
     "iopub.execute_input": "2021-07-30T04:39:17.454030Z",
     "iopub.status.busy": "2021-07-30T04:39:17.452827Z",
     "iopub.status.idle": "2021-07-30T04:39:29.907177Z",
     "shell.execute_reply": "2021-07-30T04:39:29.906006Z",
     "shell.execute_reply.started": "2021-07-29T17:10:58.490298Z"
    },
    "papermill": {
     "duration": 13.157818,
     "end_time": "2021-07-30T04:39:29.907338",
     "exception": false,
     "start_time": "2021-07-30T04:39:16.749520",
     "status": "completed"
    },
    "tags": []
   },
   "outputs": [],
   "source": [
    "from typing import *\n",
    "from pandas.core.frame import DataFrame\n",
    "from fastai.text.all import *"
   ]
  },
  {
   "cell_type": "code",
   "execution_count": 5,
   "id": "93ad3f41",
   "metadata": {
    "execution": {
     "iopub.execute_input": "2021-07-30T04:39:31.306541Z",
     "iopub.status.busy": "2021-07-30T04:39:31.305581Z",
     "iopub.status.idle": "2021-07-30T04:39:31.308708Z",
     "shell.execute_reply": "2021-07-30T04:39:31.309400Z",
     "shell.execute_reply.started": "2021-07-29T17:11:10.36744Z"
    },
    "papermill": {
     "duration": 0.705764,
     "end_time": "2021-07-30T04:39:31.309587",
     "exception": false,
     "start_time": "2021-07-30T04:39:30.603823",
     "status": "completed"
    },
    "tags": []
   },
   "outputs": [],
   "source": [
    "path = Path('../input')\n",
    "op_path = Path('/kaggle/working')\n",
    "train_path = path/'commonlitreadabilityprize/train.csv'\n",
    "test_path = path/'commonlitreadabilityprize/test.csv'\n",
    "aug_path = path/'common-lit-datset-with-synonym-replacement/aug_df.csv'\n",
    "cbt_path = path/'commonlit-infusing-data-with-same-domain-data/vanilla_comlit_train_infused_with_cbt.csv'\n",
    "cbt_aug_df_path = path/'commonlit-infusing-data-with-same-domain-data/aug_comlit_infused_with_cbt.csv'"
   ]
  },
  {
   "cell_type": "code",
   "execution_count": 6,
   "id": "863e6e0c",
   "metadata": {
    "execution": {
     "iopub.execute_input": "2021-07-30T04:39:32.733608Z",
     "iopub.status.busy": "2021-07-30T04:39:32.732957Z",
     "iopub.status.idle": "2021-07-30T04:39:41.215721Z",
     "shell.execute_reply": "2021-07-30T04:39:41.216279Z",
     "shell.execute_reply.started": "2021-07-29T17:11:35.600072Z"
    },
    "papermill": {
     "duration": 9.190538,
     "end_time": "2021-07-30T04:39:41.216522",
     "exception": false,
     "start_time": "2021-07-30T04:39:32.025984",
     "status": "completed"
    },
    "tags": []
   },
   "outputs": [],
   "source": [
    "df_train = pd.read_csv(train_path)\n",
    "df_test = pd.read_csv(test_path)\n",
    "df_all = pd.concat([df_train, df_test])\n",
    "df_aug = pd.read_csv(aug_path)\n",
    "df_cbt = pd.read_csv(cbt_path)\n",
    "df_cbt_aug = pd.read_csv(cbt_aug_df_path)\n",
    "df_cbt_subset = df_cbt[:8000]"
   ]
  },
  {
   "cell_type": "code",
   "execution_count": 7,
   "id": "2cfef073",
   "metadata": {
    "execution": {
     "iopub.execute_input": "2021-07-30T04:39:42.628608Z",
     "iopub.status.busy": "2021-07-30T04:39:42.627837Z",
     "iopub.status.idle": "2021-07-30T04:39:42.648929Z",
     "shell.execute_reply": "2021-07-30T04:39:42.649500Z",
     "shell.execute_reply.started": "2021-07-29T07:31:42.110094Z"
    },
    "papermill": {
     "duration": 0.724192,
     "end_time": "2021-07-30T04:39:42.649696",
     "exception": false,
     "start_time": "2021-07-30T04:39:41.925504",
     "status": "completed"
    },
    "tags": []
   },
   "outputs": [
    {
     "data": {
      "text/html": [
       "<div>\n",
       "<style scoped>\n",
       "    .dataframe tbody tr th:only-of-type {\n",
       "        vertical-align: middle;\n",
       "    }\n",
       "\n",
       "    .dataframe tbody tr th {\n",
       "        vertical-align: top;\n",
       "    }\n",
       "\n",
       "    .dataframe thead th {\n",
       "        text-align: right;\n",
       "    }\n",
       "</style>\n",
       "<table border=\"1\" class=\"dataframe\">\n",
       "  <thead>\n",
       "    <tr style=\"text-align: right;\">\n",
       "      <th></th>\n",
       "      <th>Unnamed: 0</th>\n",
       "      <th>id</th>\n",
       "      <th>url_legal</th>\n",
       "      <th>license</th>\n",
       "      <th>excerpt</th>\n",
       "      <th>target</th>\n",
       "      <th>standard_error</th>\n",
       "    </tr>\n",
       "  </thead>\n",
       "  <tbody>\n",
       "    <tr>\n",
       "      <th>0</th>\n",
       "      <td>0</td>\n",
       "      <td>c12129c31</td>\n",
       "      <td>NaN</td>\n",
       "      <td>NaN</td>\n",
       "      <td>When the young people returned to the ballroom, it presented a decidedly changed appearance. Instead of an interior scene, it was a winter landscape.\\nThe floor was covered with snow-white canvas, not laid on smoothly, but rumpled over bumps and hillocks, like a real snow field. The numerous palms and evergreens that had decorated the room, were powdered with flour and strewn with tufts of cotton, like snow. Also diamond dust had been lightly sprinkled on them, and glittering crystal icicles hung from the branches.\\nAt each end of the room, on the wall, hung a beautiful bear-skin rug.\\nThe...</td>\n",
       "      <td>-0.340259</td>\n",
       "      <td>0.464009</td>\n",
       "    </tr>\n",
       "  </tbody>\n",
       "</table>\n",
       "</div>"
      ],
      "text/plain": [
       "   Unnamed: 0         id url_legal license  \\\n",
       "0           0  c12129c31       NaN     NaN   \n",
       "\n",
       "                                                                                                                                                                                                                                                                                                                                                                                                                                                                                                                                                                                                                   excerpt  \\\n",
       "0  When the young people returned to the ballroom, it presented a decidedly changed appearance. Instead of an interior scene, it was a winter landscape.\\nThe floor was covered with snow-white canvas, not laid on smoothly, but rumpled over bumps and hillocks, like a real snow field. The numerous palms and evergreens that had decorated the room, were powdered with flour and strewn with tufts of cotton, like snow. Also diamond dust had been lightly sprinkled on them, and glittering crystal icicles hung from the branches.\\nAt each end of the room, on the wall, hung a beautiful bear-skin rug.\\nThe...   \n",
       "\n",
       "     target  standard_error  \n",
       "0 -0.340259        0.464009  "
      ]
     },
     "execution_count": 7,
     "metadata": {},
     "output_type": "execute_result"
    }
   ],
   "source": [
    "df_aug.head(1)"
   ]
  },
  {
   "cell_type": "code",
   "execution_count": 8,
   "id": "25ce712b",
   "metadata": {
    "execution": {
     "iopub.execute_input": "2021-07-30T04:39:44.264979Z",
     "iopub.status.busy": "2021-07-30T04:39:44.263907Z",
     "iopub.status.idle": "2021-07-30T04:39:44.272903Z",
     "shell.execute_reply": "2021-07-30T04:39:44.274321Z",
     "shell.execute_reply.started": "2021-07-29T17:12:14.775792Z"
    },
    "papermill": {
     "duration": 0.925333,
     "end_time": "2021-07-30T04:39:44.274591",
     "exception": false,
     "start_time": "2021-07-30T04:39:43.349258",
     "status": "completed"
    },
    "tags": []
   },
   "outputs": [
    {
     "data": {
      "text/html": [
       "<div>\n",
       "<style scoped>\n",
       "    .dataframe tbody tr th:only-of-type {\n",
       "        vertical-align: middle;\n",
       "    }\n",
       "\n",
       "    .dataframe tbody tr th {\n",
       "        vertical-align: top;\n",
       "    }\n",
       "\n",
       "    .dataframe thead th {\n",
       "        text-align: right;\n",
       "    }\n",
       "</style>\n",
       "<table border=\"1\" class=\"dataframe\">\n",
       "  <thead>\n",
       "    <tr style=\"text-align: right;\">\n",
       "      <th></th>\n",
       "      <th>Unnamed: 0</th>\n",
       "      <th>excerpt</th>\n",
       "      <th>target</th>\n",
       "    </tr>\n",
       "  </thead>\n",
       "  <tbody>\n",
       "    <tr>\n",
       "      <th>128177</th>\n",
       "      <td>120768</td>\n",
       "      <td>Knots of gazers and gossips were collected in the churchyard , at the bridge , and at the spot where the hat and pumpkin had been found .The stories of Brouwer , of Bones , and a whole budget of others were called to mind ; and when they had diligently considered them all , and compared them with the symptoms of the present case , they shook their heads , and came to the conclusion that Ichabod had been carried off by the Galloping Hessian .As he was a bachelor , and in nobody 's debt , nobody troubled his head any more about him ; the school was removed to a different quarter of the hollo...</td>\n",
       "      <td>NaN</td>\n",
       "    </tr>\n",
       "  </tbody>\n",
       "</table>\n",
       "</div>"
      ],
      "text/plain": [
       "        Unnamed: 0  \\\n",
       "128177      120768   \n",
       "\n",
       "                                                                                                                                                                                                                                                                                                                                                                                                                                                                                                                                                                                                                        excerpt  \\\n",
       "128177  Knots of gazers and gossips were collected in the churchyard , at the bridge , and at the spot where the hat and pumpkin had been found .The stories of Brouwer , of Bones , and a whole budget of others were called to mind ; and when they had diligently considered them all , and compared them with the symptoms of the present case , they shook their heads , and came to the conclusion that Ichabod had been carried off by the Galloping Hessian .As he was a bachelor , and in nobody 's debt , nobody troubled his head any more about him ; the school was removed to a different quarter of the hollo...   \n",
       "\n",
       "        target  \n",
       "128177     NaN  "
      ]
     },
     "execution_count": 8,
     "metadata": {},
     "output_type": "execute_result"
    }
   ],
   "source": [
    "df_cbt_aug.tail(1)"
   ]
  },
  {
   "cell_type": "markdown",
   "id": "46bb2920",
   "metadata": {
    "papermill": {
     "duration": 0.691393,
     "end_time": "2021-07-30T04:39:46.080761",
     "exception": false,
     "start_time": "2021-07-30T04:39:45.389368",
     "status": "completed"
    },
    "tags": []
   },
   "source": [
    "## Fill nan targets with median value"
   ]
  },
  {
   "cell_type": "code",
   "execution_count": 9,
   "id": "00cc8c90",
   "metadata": {
    "execution": {
     "iopub.execute_input": "2021-07-30T04:39:47.551548Z",
     "iopub.status.busy": "2021-07-30T04:39:47.550316Z",
     "iopub.status.idle": "2021-07-30T04:39:47.557526Z",
     "shell.execute_reply": "2021-07-30T04:39:47.558046Z",
     "shell.execute_reply.started": "2021-07-29T17:15:29.788764Z"
    },
    "papermill": {
     "duration": 0.733012,
     "end_time": "2021-07-30T04:39:47.558231",
     "exception": false,
     "start_time": "2021-07-30T04:39:46.825219",
     "status": "completed"
    },
    "tags": []
   },
   "outputs": [],
   "source": [
    "df_cbt_aug['target'] = df_cbt_aug['target'].fillna(df_cbt_aug['target'].median())"
   ]
  },
  {
   "cell_type": "code",
   "execution_count": 10,
   "id": "3b01af4f",
   "metadata": {
    "execution": {
     "iopub.execute_input": "2021-07-30T04:39:49.281287Z",
     "iopub.status.busy": "2021-07-30T04:39:49.280011Z",
     "iopub.status.idle": "2021-07-30T04:39:49.284739Z",
     "shell.execute_reply": "2021-07-30T04:39:49.285348Z",
     "shell.execute_reply.started": "2021-07-29T17:15:31.381565Z"
    },
    "papermill": {
     "duration": 0.715471,
     "end_time": "2021-07-30T04:39:49.285540",
     "exception": false,
     "start_time": "2021-07-30T04:39:48.570069",
     "status": "completed"
    },
    "tags": []
   },
   "outputs": [
    {
     "data": {
      "text/html": [
       "<div>\n",
       "<style scoped>\n",
       "    .dataframe tbody tr th:only-of-type {\n",
       "        vertical-align: middle;\n",
       "    }\n",
       "\n",
       "    .dataframe tbody tr th {\n",
       "        vertical-align: top;\n",
       "    }\n",
       "\n",
       "    .dataframe thead th {\n",
       "        text-align: right;\n",
       "    }\n",
       "</style>\n",
       "<table border=\"1\" class=\"dataframe\">\n",
       "  <thead>\n",
       "    <tr style=\"text-align: right;\">\n",
       "      <th></th>\n",
       "      <th>Unnamed: 0</th>\n",
       "      <th>excerpt</th>\n",
       "      <th>target</th>\n",
       "    </tr>\n",
       "  </thead>\n",
       "  <tbody>\n",
       "    <tr>\n",
       "      <th>128177</th>\n",
       "      <td>120768</td>\n",
       "      <td>Knots of gazers and gossips were collected in the churchyard , at the bridge , and at the spot where the hat and pumpkin had been found .The stories of Brouwer , of Bones , and a whole budget of others were called to mind ; and when they had diligently considered them all , and compared them with the symptoms of the present case , they shook their heads , and came to the conclusion that Ichabod had been carried off by the Galloping Hessian .As he was a bachelor , and in nobody 's debt , nobody troubled his head any more about him ; the school was removed to a different quarter of the hollo...</td>\n",
       "      <td>-0.913327</td>\n",
       "    </tr>\n",
       "  </tbody>\n",
       "</table>\n",
       "</div>"
      ],
      "text/plain": [
       "        Unnamed: 0  \\\n",
       "128177      120768   \n",
       "\n",
       "                                                                                                                                                                                                                                                                                                                                                                                                                                                                                                                                                                                                                        excerpt  \\\n",
       "128177  Knots of gazers and gossips were collected in the churchyard , at the bridge , and at the spot where the hat and pumpkin had been found .The stories of Brouwer , of Bones , and a whole budget of others were called to mind ; and when they had diligently considered them all , and compared them with the symptoms of the present case , they shook their heads , and came to the conclusion that Ichabod had been carried off by the Galloping Hessian .As he was a bachelor , and in nobody 's debt , nobody troubled his head any more about him ; the school was removed to a different quarter of the hollo...   \n",
       "\n",
       "          target  \n",
       "128177 -0.913327  "
      ]
     },
     "execution_count": 10,
     "metadata": {},
     "output_type": "execute_result"
    }
   ],
   "source": [
    "df_cbt_aug.tail(1)"
   ]
  },
  {
   "cell_type": "code",
   "execution_count": 11,
   "id": "f58acaaf",
   "metadata": {
    "execution": {
     "iopub.execute_input": "2021-07-30T04:39:50.689611Z",
     "iopub.status.busy": "2021-07-30T04:39:50.688762Z",
     "iopub.status.idle": "2021-07-30T04:39:50.693460Z",
     "shell.execute_reply": "2021-07-30T04:39:50.692749Z"
    },
    "papermill": {
     "duration": 0.709449,
     "end_time": "2021-07-30T04:39:50.693635",
     "exception": false,
     "start_time": "2021-07-30T04:39:49.984186",
     "status": "completed"
    },
    "tags": []
   },
   "outputs": [],
   "source": [
    "df_cbt_aug_subset = df_cbt_aug[:10000]"
   ]
  },
  {
   "cell_type": "markdown",
   "id": "1919ca7e",
   "metadata": {
    "papermill": {
     "duration": 0.70772,
     "end_time": "2021-07-30T04:39:52.102749",
     "exception": false,
     "start_time": "2021-07-30T04:39:51.395029",
     "status": "completed"
    },
    "tags": []
   },
   "source": [
    "## The backwards model\n",
    "Trained on text in reverse order"
   ]
  },
  {
   "cell_type": "markdown",
   "id": "a2d49da5",
   "metadata": {
    "execution": {
     "iopub.execute_input": "2021-07-08T01:26:47.689931Z",
     "iopub.status.busy": "2021-07-08T01:26:47.689445Z",
     "iopub.status.idle": "2021-07-08T01:26:47.698096Z",
     "shell.execute_reply": "2021-07-08T01:26:47.696851Z",
     "shell.execute_reply.started": "2021-07-08T01:26:47.689895Z"
    },
    "papermill": {
     "duration": 0.696855,
     "end_time": "2021-07-30T04:39:53.496640",
     "exception": false,
     "start_time": "2021-07-30T04:39:52.799785",
     "status": "completed"
    },
    "tags": []
   },
   "source": [
    "## The dataloader"
   ]
  },
  {
   "cell_type": "code",
   "execution_count": 12,
   "id": "8f2b43d3",
   "metadata": {
    "execution": {
     "iopub.execute_input": "2021-07-30T04:39:54.926414Z",
     "iopub.status.busy": "2021-07-30T04:39:54.925209Z",
     "iopub.status.idle": "2021-07-30T04:41:26.794498Z",
     "shell.execute_reply": "2021-07-30T04:41:26.793917Z",
     "shell.execute_reply.started": "2021-07-29T07:32:00.773858Z"
    },
    "papermill": {
     "duration": 92.563505,
     "end_time": "2021-07-30T04:41:26.794688",
     "exception": false,
     "start_time": "2021-07-30T04:39:54.231183",
     "status": "completed"
    },
    "tags": []
   },
   "outputs": [
    {
     "data": {
      "text/html": [],
      "text/plain": [
       "<IPython.core.display.HTML object>"
      ]
     },
     "metadata": {},
     "output_type": "display_data"
    },
    {
     "name": "stderr",
     "output_type": "stream",
     "text": [
      "/opt/conda/lib/python3.7/site-packages/numpy/core/_asarray.py:83: VisibleDeprecationWarning: Creating an ndarray from ragged nested sequences (which is a list-or-tuple of lists-or-tuples-or ndarrays with different lengths or shapes) is deprecated. If you meant to do this, you must specify 'dtype=object' when creating the ndarray\n",
      "  return array(a, dtype, copy=False, order=order)\n"
     ]
    }
   ],
   "source": [
    "dls_lm_back = TextDataLoaders.from_df(df_cbt_subset, text_col='excerpt',\n",
    "                                      is_lm=True, valid_pct=0.1,\n",
    "                                      bs=256, seq_len=72, backwards=True)"
   ]
  },
  {
   "cell_type": "code",
   "execution_count": 13,
   "id": "ef1cc4df",
   "metadata": {
    "execution": {
     "iopub.execute_input": "2021-07-30T04:41:28.572964Z",
     "iopub.status.busy": "2021-07-30T04:41:28.552580Z",
     "iopub.status.idle": "2021-07-30T04:41:29.124232Z",
     "shell.execute_reply": "2021-07-30T04:41:29.124776Z",
     "shell.execute_reply.started": "2021-07-29T07:40:53.263138Z"
    },
    "papermill": {
     "duration": 1.295959,
     "end_time": "2021-07-30T04:41:29.124974",
     "exception": false,
     "start_time": "2021-07-30T04:41:27.829015",
     "status": "completed"
    },
    "tags": []
   },
   "outputs": [
    {
     "data": {
      "text/html": [
       "<table border=\"1\" class=\"dataframe\">\n",
       "  <thead>\n",
       "    <tr style=\"text-align: right;\">\n",
       "      <th></th>\n",
       "      <th>text</th>\n",
       "      <th>text_</th>\n",
       "    </tr>\n",
       "  </thead>\n",
       "  <tbody>\n",
       "    <tr>\n",
       "      <th>0</th>\n",
       "      <td>'' ! blood as red all turned has , is girl the where sea the , why xxmaj ` ` . mother a of anxiety the all with , queen the cried '' ? dear , it is what xxmaj ` ` . excitement obvious in , monarch the exclaimed suddenly '' ! word my xxmaj … ? be he can earth on where .but hand on adventure an is there where</td>\n",
       "      <td>! blood as red all turned has , is girl the where sea the , why xxmaj ` ` . mother a of anxiety the all with , queen the cried '' ? dear , it is what xxmaj ` ` . excitement obvious in , monarch the exclaimed suddenly '' ! word my xxmaj … ? be he can earth on where .but hand on adventure an is there where ,</td>\n",
       "    </tr>\n",
       "    <tr>\n",
       "      <th>1</th>\n",
       "      <td>her by her held and feet her at himself threw he , saying so '' . lover faithful most your of aid the refuse not .do you hold that hands unworthy the from , princess xxmaj my , you rescue to here me brought who , mermaid friendly a of help unexpected the for but captive a be now even should i where , earth the of end other the to chariot</td>\n",
       "      <td>by her held and feet her at himself threw he , saying so '' . lover faithful most your of aid the refuse not .do you hold that hands unworthy the from , princess xxmaj my , you rescue to here me brought who , mermaid friendly a of help unexpected the for but captive a be now even should i where , earth the of end other the to chariot her</td>\n",
       "    </tr>\n",
       "    <tr>\n",
       "      <th>2</th>\n",
       "      <td>she then '' . fur your burn n't do you care take only , fire the by down lie ` ` , mother the said '' , bear poor my xxmaj ` ` '' . little a myself warm to wish only and , frozen half am i xxbos '' ! prigio xxmaj prince xxmaj live long xxmaj ` ` : shoute and sword his lifted and , horse his with ,</td>\n",
       "      <td>then '' . fur your burn n't do you care take only , fire the by down lie ` ` , mother the said '' , bear poor my xxmaj ` ` '' . little a myself warm to wish only and , frozen half am i xxbos '' ! prigio xxmaj prince xxmaj live long xxmaj ` ` : shoute and sword his lifted and , horse his with , alive</td>\n",
       "    </tr>\n",
       "    <tr>\n",
       "      <th>3</th>\n",
       "      <td>` . queen xxmaj the asked '' ? then say you would what , all after , brother your not was he supposing but xxmaj ` ` . him with angry not am i ` ` ; said she '' , madam , no ! ah xxmaj ` ` '' ? it for him punish i .shall out you turned he saw i ` ` ; said she '' , brother bad</td>\n",
       "      <td>. queen xxmaj the asked '' ? then say you would what , all after , brother your not was he supposing but xxmaj ` ` . him with angry not am i ` ` ; said she '' , madam , no ! ah xxmaj ` ` '' ? it for him punish i .shall out you turned he saw i ` ` ; said she '' , brother bad a</td>\n",
       "    </tr>\n",
       "    <tr>\n",
       "      <th>4</th>\n",
       "      <td>fifty are .here me to one all 's it ` ` , father the said '' , will you what learn xxmaj ` ` '' . living a me gain will which art an of master be shall i way that in and , shudder to learn and out set 'll i then , daylight till wait only ; willingly , father , yes xxmaj ` ` '' . you with do</td>\n",
       "      <td>are .here me to one all 's it ` ` , father the said '' , will you what learn xxmaj ` ` '' . living a me gain will which art an of master be shall i way that in and , shudder to learn and out set 'll i then , daylight till wait only ; willingly , father , yes xxmaj ` ` '' . you with do to</td>\n",
       "    </tr>\n",
       "    <tr>\n",
       "      <th>5</th>\n",
       "      <td>. mother her find to house the in went and chair the on down dolly her put edith xxmaj then xxmaj . longer hour an half for waited she then and ; came helen xxmaj no and four struck clock town big the but xxmaj . waited and table the at chair a in sat she then and xxmaj . two for table the set had nurse her where trees the under</td>\n",
       "      <td>mother her find to house the in went and chair the on down dolly her put edith xxmaj then xxmaj . longer hour an half for waited she then and ; came helen xxmaj no and four struck clock town big the but xxmaj . waited and table the at chair a in sat she then and xxmaj . two for table the set had nurse her where trees the under out</td>\n",
       "    </tr>\n",
       "    <tr>\n",
       "      <th>6</th>\n",
       "      <td>you if -- it know people let to not best it find will you , clever are you .if this remember to induced be never can , children dear my , world the but ; stupid so born being for fault in much as just were people other the ? that for blamed be to he was , -rrb- you to happened have may as -lrb- clever born been had prince the</td>\n",
       "      <td>if -- it know people let to not best it find will you , clever are you .if this remember to induced be never can , children dear my , world the but ; stupid so born being for fault in much as just were people other the ? that for blamed be to he was , -rrb- you to happened have may as -lrb- clever born been had prince the if</td>\n",
       "    </tr>\n",
       "    <tr>\n",
       "      <th>7</th>\n",
       "      <td>no xxmaj ` ` . was castle the whereabout knew wind xxmaj west xxmaj the if hear to like would and , her with there come had he so , again him find to about traveling was she now that and , moon the of west and sun the of east lay which castle the at up prince xxmaj the had have to ought who one the was brought had he whom</td>\n",
       "      <td>xxmaj ` ` . was castle the whereabout knew wind xxmaj west xxmaj the if hear to like would and , her with there come had he so , again him find to about traveling was she now that and , moon the of west and sun the of east lay which castle the at up prince xxmaj the had have to ought who one the was brought had he whom girl</td>\n",
       "    </tr>\n",
       "    <tr>\n",
       "      <th>8</th>\n",
       "      <td>xxmaj the was .there her before out thrust slipper glass her in foot little her with , monarch reigning the of grandmother the , cinderella xxmaj was .there ancestors royal the of portraits with hung , room splendid a was .it it over talking parlour summer their in breakfast at sitting were queen and king the and , party christening the for near drew time the , .now child fine very a</td>\n",
       "      <td>the was .there her before out thrust slipper glass her in foot little her with , monarch reigning the of grandmother the , cinderella xxmaj was .there ancestors royal the of portraits with hung , room splendid a was .it it over talking parlour summer their in breakfast at sitting were queen and king the and , party christening the for near drew time the , .now child fine very a --</td>\n",
       "    </tr>\n",
       "  </tbody>\n",
       "</table>"
      ],
      "text/plain": [
       "<IPython.core.display.HTML object>"
      ]
     },
     "metadata": {},
     "output_type": "display_data"
    }
   ],
   "source": [
    "dls_lm_back.show_batch(min_n=3)"
   ]
  },
  {
   "cell_type": "markdown",
   "id": "7e3f98bd",
   "metadata": {
    "execution": {
     "iopub.execute_input": "2021-07-08T01:27:14.802008Z",
     "iopub.status.busy": "2021-07-08T01:27:14.801669Z",
     "iopub.status.idle": "2021-07-08T01:27:14.812267Z",
     "shell.execute_reply": "2021-07-08T01:27:14.811024Z",
     "shell.execute_reply.started": "2021-07-08T01:27:14.801972Z"
    },
    "papermill": {
     "duration": 0.706825,
     "end_time": "2021-07-30T04:41:30.576625",
     "exception": false,
     "start_time": "2021-07-30T04:41:29.869800",
     "status": "completed"
    },
    "tags": []
   },
   "source": [
    "## The backwards model"
   ]
  },
  {
   "cell_type": "code",
   "execution_count": 14,
   "id": "e69be940",
   "metadata": {
    "execution": {
     "iopub.execute_input": "2021-07-30T04:41:32.005753Z",
     "iopub.status.busy": "2021-07-30T04:41:32.004579Z",
     "iopub.status.idle": "2021-07-30T04:41:39.542719Z",
     "shell.execute_reply": "2021-07-30T04:41:39.542078Z",
     "shell.execute_reply.started": "2021-07-29T07:40:55.912228Z"
    },
    "papermill": {
     "duration": 8.256934,
     "end_time": "2021-07-30T04:41:39.542886",
     "exception": false,
     "start_time": "2021-07-30T04:41:31.285952",
     "status": "completed"
    },
    "tags": []
   },
   "outputs": [
    {
     "data": {
      "text/html": [],
      "text/plain": [
       "<IPython.core.display.HTML object>"
      ]
     },
     "metadata": {},
     "output_type": "display_data"
    }
   ],
   "source": [
    "learn_back = language_model_learner(dls_lm_back,\n",
    "                               AWD_LSTM,\n",
    "                               drop_mult=2.0,\n",
    "                               metrics=[accuracy, Perplexity()], \n",
    "                               path=path,\n",
    "                              wd=0.5).to_fp16()"
   ]
  },
  {
   "cell_type": "markdown",
   "id": "1e9d3f7d",
   "metadata": {
    "papermill": {
     "duration": 0.712481,
     "end_time": "2021-07-30T04:41:40.964906",
     "exception": false,
     "start_time": "2021-07-30T04:41:40.252425",
     "status": "completed"
    },
    "tags": []
   },
   "source": [
    "## Training the model"
   ]
  },
  {
   "cell_type": "code",
   "execution_count": 15,
   "id": "8b2168e9",
   "metadata": {
    "execution": {
     "iopub.execute_input": "2021-07-30T04:41:42.376401Z",
     "iopub.status.busy": "2021-07-30T04:41:42.375017Z",
     "iopub.status.idle": "2021-07-30T04:41:42.377852Z",
     "shell.execute_reply": "2021-07-30T04:41:42.378940Z",
     "shell.execute_reply.started": "2021-07-29T07:41:03.130204Z"
    },
    "papermill": {
     "duration": 0.707118,
     "end_time": "2021-07-30T04:41:42.379127",
     "exception": false,
     "start_time": "2021-07-30T04:41:41.672009",
     "status": "completed"
    },
    "tags": []
   },
   "outputs": [],
   "source": [
    "learn_back.path = op_path"
   ]
  },
  {
   "cell_type": "code",
   "execution_count": 16,
   "id": "4fe82aa6",
   "metadata": {
    "execution": {
     "iopub.execute_input": "2021-07-30T04:41:43.823555Z",
     "iopub.status.busy": "2021-07-30T04:41:43.815613Z",
     "iopub.status.idle": "2021-07-30T04:44:25.451803Z",
     "shell.execute_reply": "2021-07-30T04:44:25.451219Z",
     "shell.execute_reply.started": "2021-07-29T07:41:03.138506Z"
    },
    "papermill": {
     "duration": 162.363678,
     "end_time": "2021-07-30T04:44:25.451989",
     "exception": false,
     "start_time": "2021-07-30T04:41:43.088311",
     "status": "completed"
    },
    "tags": []
   },
   "outputs": [
    {
     "data": {
      "text/html": [
       "<table border=\"1\" class=\"dataframe\">\n",
       "  <thead>\n",
       "    <tr style=\"text-align: left;\">\n",
       "      <th>epoch</th>\n",
       "      <th>train_loss</th>\n",
       "      <th>valid_loss</th>\n",
       "      <th>accuracy</th>\n",
       "      <th>perplexity</th>\n",
       "      <th>time</th>\n",
       "    </tr>\n",
       "  </thead>\n",
       "  <tbody>\n",
       "    <tr>\n",
       "      <td>0</td>\n",
       "      <td>5.505924</td>\n",
       "      <td>4.937426</td>\n",
       "      <td>0.209017</td>\n",
       "      <td>139.410950</td>\n",
       "      <td>02:41</td>\n",
       "    </tr>\n",
       "  </tbody>\n",
       "</table>"
      ],
      "text/plain": [
       "<IPython.core.display.HTML object>"
      ]
     },
     "metadata": {},
     "output_type": "display_data"
    }
   ],
   "source": [
    "learn_back.fit_one_cycle(1, 1e-2)"
   ]
  },
  {
   "cell_type": "code",
   "execution_count": 17,
   "id": "723c2b36",
   "metadata": {
    "execution": {
     "iopub.execute_input": "2021-07-30T04:44:26.926392Z",
     "iopub.status.busy": "2021-07-30T04:44:26.925492Z",
     "iopub.status.idle": "2021-07-30T04:44:26.929656Z",
     "shell.execute_reply": "2021-07-30T04:44:26.929041Z",
     "shell.execute_reply.started": "2021-07-29T07:47:44.688481Z"
    },
    "papermill": {
     "duration": 0.725599,
     "end_time": "2021-07-30T04:44:26.929810",
     "exception": false,
     "start_time": "2021-07-30T04:44:26.204211",
     "status": "completed"
    },
    "tags": []
   },
   "outputs": [],
   "source": [
    "def show_me_lrs(learn):\n",
    "    suggestions = namedtuple('Suggestions', [\"min\", \"steep\",\n",
    "                                            \"valley\", \"slide\"])\n",
    "    lr_min, lr_steep,lr_valley, lr_slide = learn.lr_find(suggest_funcs=(minimum, steep,valley, slide))\n",
    "    suggested_lrs = suggestions(lr_min, lr_steep, lr_valley, lr_slide)\n",
    "    \n",
    "    print(f\"Minimum/10:\\t{lr_min:.2e}\\\n",
    "          \\nSteepest point:\\t{lr_steep:.2e}\\\n",
    "          \\nLongest valley:\\t{lr_valley:.2e}\\\n",
    "          \\nSlide interval:\\t{lr_slide:.2e}\")\n",
    "    \n",
    "    return suggested_lrs"
   ]
  },
  {
   "cell_type": "code",
   "execution_count": 18,
   "id": "edfabe99",
   "metadata": {
    "execution": {
     "iopub.execute_input": "2021-07-30T04:44:28.368482Z",
     "iopub.status.busy": "2021-07-30T04:44:28.367230Z",
     "iopub.status.idle": "2021-07-30T04:45:57.564237Z",
     "shell.execute_reply": "2021-07-30T04:45:57.563598Z",
     "shell.execute_reply.started": "2021-07-29T07:47:44.698011Z"
    },
    "papermill": {
     "duration": 89.925371,
     "end_time": "2021-07-30T04:45:57.564395",
     "exception": false,
     "start_time": "2021-07-30T04:44:27.639024",
     "status": "completed"
    },
    "tags": []
   },
   "outputs": [
    {
     "data": {
      "text/html": [],
      "text/plain": [
       "<IPython.core.display.HTML object>"
      ]
     },
     "metadata": {},
     "output_type": "display_data"
    },
    {
     "name": "stderr",
     "output_type": "stream",
     "text": [
      "/opt/conda/lib/python3.7/site-packages/fastai/callback/schedule.py:270: UserWarning: color is redundantly defined by the 'color' keyword argument and the fmt string \"ro\" (-> color='r'). The keyword argument will take precedence.\n",
      "  ax.plot(val, idx, 'ro', label=nm, c=color)\n"
     ]
    },
    {
     "name": "stdout",
     "output_type": "stream",
     "text": [
      "Minimum/10:\t1.20e-02          \n",
      "Steepest point:\t9.12e-07          \n",
      "Longest valley:\t3.63e-03          \n",
      "Slide interval:\t1.32e-02\n"
     ]
    },
    {
     "data": {
      "image/png": "[encoded data removed]",
      "text/plain": [
       "<Figure size 432x288 with 1 Axes>"
      ]
     },
     "metadata": {
      "needs_background": "light"
     },
     "output_type": "display_data"
    }
   ],
   "source": [
    "suggested_lrs = show_me_lrs(learn_back)"
   ]
  },
  {
   "cell_type": "code",
   "execution_count": 19,
   "id": "74df14d5",
   "metadata": {
    "execution": {
     "iopub.execute_input": "2021-07-30T04:45:59.011323Z",
     "iopub.status.busy": "2021-07-30T04:45:59.010219Z",
     "iopub.status.idle": "2021-07-30T04:54:47.399261Z",
     "shell.execute_reply": "2021-07-30T04:54:47.398650Z",
     "shell.execute_reply.started": "2021-07-29T07:49:07.823012Z"
    },
    "papermill": {
     "duration": 529.114872,
     "end_time": "2021-07-30T04:54:47.399426",
     "exception": false,
     "start_time": "2021-07-30T04:45:58.284554",
     "status": "completed"
    },
    "tags": []
   },
   "outputs": [
    {
     "data": {
      "text/html": [
       "<table border=\"1\" class=\"dataframe\">\n",
       "  <thead>\n",
       "    <tr style=\"text-align: left;\">\n",
       "      <th>epoch</th>\n",
       "      <th>train_loss</th>\n",
       "      <th>valid_loss</th>\n",
       "      <th>accuracy</th>\n",
       "      <th>perplexity</th>\n",
       "      <th>time</th>\n",
       "    </tr>\n",
       "  </thead>\n",
       "  <tbody>\n",
       "    <tr>\n",
       "      <td>0</td>\n",
       "      <td>3.995468</td>\n",
       "      <td>3.271096</td>\n",
       "      <td>0.373703</td>\n",
       "      <td>26.340179</td>\n",
       "      <td>02:55</td>\n",
       "    </tr>\n",
       "    <tr>\n",
       "      <td>1</td>\n",
       "      <td>3.056203</td>\n",
       "      <td>2.374376</td>\n",
       "      <td>0.531905</td>\n",
       "      <td>10.744309</td>\n",
       "      <td>02:56</td>\n",
       "    </tr>\n",
       "    <tr>\n",
       "      <td>2</td>\n",
       "      <td>2.542395</td>\n",
       "      <td>2.010818</td>\n",
       "      <td>0.613037</td>\n",
       "      <td>7.469425</td>\n",
       "      <td>02:56</td>\n",
       "    </tr>\n",
       "  </tbody>\n",
       "</table>"
      ],
      "text/plain": [
       "<IPython.core.display.HTML object>"
      ]
     },
     "metadata": {},
     "output_type": "display_data"
    }
   ],
   "source": [
    "learn_back.unfreeze()\n",
    "learn_back.fit_one_cycle(3, suggested_lrs.slide)"
   ]
  },
  {
   "cell_type": "markdown",
   "id": "e9ef89ac",
   "metadata": {
    "papermill": {
     "duration": 0.72271,
     "end_time": "2021-07-30T04:54:48.842023",
     "exception": false,
     "start_time": "2021-07-30T04:54:48.119313",
     "status": "completed"
    },
    "tags": []
   },
   "source": [
    "good enough accuracy, let;s save it"
   ]
  },
  {
   "cell_type": "code",
   "execution_count": 20,
   "id": "1025eb0b",
   "metadata": {
    "execution": {
     "iopub.execute_input": "2021-07-30T04:54:50.614160Z",
     "iopub.status.busy": "2021-07-30T04:54:50.613045Z",
     "iopub.status.idle": "2021-07-30T04:54:50.844426Z",
     "shell.execute_reply": "2021-07-30T04:54:50.843802Z",
     "shell.execute_reply.started": "2021-07-29T08:13:32.252324Z"
    },
    "papermill": {
     "duration": 1.28814,
     "end_time": "2021-07-30T04:54:50.844595",
     "exception": false,
     "start_time": "2021-07-30T04:54:49.556455",
     "status": "completed"
    },
    "tags": []
   },
   "outputs": [],
   "source": [
    "learn_back.path = Path(\".\")\n",
    "learn_back.save_encoder('./back_final_encoder')"
   ]
  },
  {
   "cell_type": "markdown",
   "id": "af7a3f93",
   "metadata": {
    "papermill": {
     "duration": 0.721196,
     "end_time": "2021-07-30T04:54:52.280748",
     "exception": false,
     "start_time": "2021-07-30T04:54:51.559552",
     "status": "completed"
    },
    "tags": []
   },
   "source": [
    "## Backward Text regressor"
   ]
  },
  {
   "cell_type": "code",
   "execution_count": 21,
   "id": "d723869a",
   "metadata": {
    "execution": {
     "iopub.execute_input": "2021-07-30T04:54:53.728684Z",
     "iopub.status.busy": "2021-07-30T04:54:53.723498Z",
     "iopub.status.idle": "2021-07-30T04:54:53.991459Z",
     "shell.execute_reply": "2021-07-30T04:54:53.990823Z",
     "shell.execute_reply.started": "2021-07-29T08:13:35.409267Z"
    },
    "papermill": {
     "duration": 0.999807,
     "end_time": "2021-07-30T04:54:53.991640",
     "exception": false,
     "start_time": "2021-07-30T04:54:52.991833",
     "status": "completed"
    },
    "tags": []
   },
   "outputs": [],
   "source": [
    "data = DataBlock(\n",
    "       blocks=(TextBlock.from_df('excerpt', \n",
    "                                 vocab=dls_lm_back.vocab, seq_len=72,\n",
    "                                 backwards=True), RegressionBlock),\n",
    "       get_x=ColReader('text'),get_y=ColReader('target'),\n",
    "       splitter=TrainTestSplitter(test_size=0.2))"
   ]
  },
  {
   "cell_type": "code",
   "execution_count": 22,
   "id": "7947e160",
   "metadata": {
    "execution": {
     "iopub.execute_input": "2021-07-30T04:54:55.431513Z",
     "iopub.status.busy": "2021-07-30T04:54:55.429172Z",
     "iopub.status.idle": "2021-07-30T04:54:55.432443Z",
     "shell.execute_reply": "2021-07-30T04:54:55.433029Z",
     "shell.execute_reply.started": "2021-07-29T07:00:05.786961Z"
    },
    "papermill": {
     "duration": 0.724479,
     "end_time": "2021-07-30T04:54:55.433227",
     "exception": false,
     "start_time": "2021-07-30T04:54:54.708748",
     "status": "completed"
    },
    "tags": []
   },
   "outputs": [],
   "source": [
    "#data.summary(df_train)"
   ]
  },
  {
   "cell_type": "code",
   "execution_count": 23,
   "id": "817d131c",
   "metadata": {
    "execution": {
     "iopub.execute_input": "2021-07-30T04:54:56.883582Z",
     "iopub.status.busy": "2021-07-30T04:54:56.882467Z",
     "iopub.status.idle": "2021-07-30T04:56:19.808295Z",
     "shell.execute_reply": "2021-07-30T04:56:19.808826Z",
     "shell.execute_reply.started": "2021-07-29T08:13:39.766061Z"
    },
    "papermill": {
     "duration": 83.662011,
     "end_time": "2021-07-30T04:56:19.809276",
     "exception": false,
     "start_time": "2021-07-30T04:54:56.147265",
     "status": "completed"
    },
    "tags": []
   },
   "outputs": [
    {
     "data": {
      "text/html": [],
      "text/plain": [
       "<IPython.core.display.HTML object>"
      ]
     },
     "metadata": {},
     "output_type": "display_data"
    },
    {
     "name": "stderr",
     "output_type": "stream",
     "text": [
      "/opt/conda/lib/python3.7/site-packages/numpy/core/_asarray.py:83: VisibleDeprecationWarning: Creating an ndarray from ragged nested sequences (which is a list-or-tuple of lists-or-tuples-or ndarrays with different lengths or shapes) is deprecated. If you meant to do this, you must specify 'dtype=object' when creating the ndarray\n",
      "  return array(a, dtype, copy=False, order=order)\n"
     ]
    }
   ],
   "source": [
    "dls_reg_back = data.dataloaders(df_cbt_aug_subset, bs=128)"
   ]
  },
  {
   "cell_type": "markdown",
   "id": "f01a4139",
   "metadata": {
    "papermill": {
     "duration": 0.755122,
     "end_time": "2021-07-30T04:56:21.334559",
     "exception": false,
     "start_time": "2021-07-30T04:56:20.579437",
     "status": "completed"
    },
    "tags": []
   },
   "source": [
    "## The regression model"
   ]
  },
  {
   "cell_type": "code",
   "execution_count": 24,
   "id": "415d071f",
   "metadata": {
    "execution": {
     "iopub.execute_input": "2021-07-30T04:56:22.860645Z",
     "iopub.status.busy": "2021-07-30T04:56:22.859583Z",
     "iopub.status.idle": "2021-07-30T04:56:23.821369Z",
     "shell.execute_reply": "2021-07-30T04:56:23.822019Z",
     "shell.execute_reply.started": "2021-07-29T08:14:56.65511Z"
    },
    "papermill": {
     "duration": 1.722616,
     "end_time": "2021-07-30T04:56:23.822215",
     "exception": false,
     "start_time": "2021-07-30T04:56:22.099599",
     "status": "completed"
    },
    "tags": []
   },
   "outputs": [],
   "source": [
    "learn_reg_back = text_classifier_learner(dls_reg_back, AWD_LSTM, drop_mult=2.0,\n",
    "                                opt_func=QHAdam,\n",
    "                                metrics=rmse,\n",
    "                                   wd=1.0).to_fp16()"
   ]
  },
  {
   "cell_type": "code",
   "execution_count": 25,
   "id": "617a7db7",
   "metadata": {
    "execution": {
     "iopub.execute_input": "2021-07-30T04:56:25.271246Z",
     "iopub.status.busy": "2021-07-30T04:56:25.270026Z",
     "iopub.status.idle": "2021-07-30T04:56:25.364080Z",
     "shell.execute_reply": "2021-07-30T04:56:25.364590Z",
     "shell.execute_reply.started": "2021-07-29T07:00:46.264123Z"
    },
    "papermill": {
     "duration": 0.82408,
     "end_time": "2021-07-30T04:56:25.364868",
     "exception": false,
     "start_time": "2021-07-30T04:56:24.540788",
     "status": "completed"
    },
    "tags": []
   },
   "outputs": [],
   "source": [
    "learn_reg_back.path = Path(\".\")\n",
    "learn_reg_back = learn_reg_back.load_encoder('./back_final_encoder')"
   ]
  },
  {
   "cell_type": "markdown",
   "id": "04888eda",
   "metadata": {
    "papermill": {
     "duration": 0.719678,
     "end_time": "2021-07-30T04:56:26.804833",
     "exception": false,
     "start_time": "2021-07-30T04:56:26.085155",
     "status": "completed"
    },
    "tags": []
   },
   "source": [
    "## Training backwards regresion model"
   ]
  },
  {
   "cell_type": "code",
   "execution_count": 26,
   "id": "2183c1cf",
   "metadata": {
    "execution": {
     "iopub.execute_input": "2021-07-30T04:56:28.251880Z",
     "iopub.status.busy": "2021-07-30T04:56:28.250521Z",
     "iopub.status.idle": "2021-07-30T04:56:55.111423Z",
     "shell.execute_reply": "2021-07-30T04:56:55.110534Z",
     "shell.execute_reply.started": "2021-07-29T08:15:05.375969Z"
    },
    "papermill": {
     "duration": 27.590912,
     "end_time": "2021-07-30T04:56:55.111581",
     "exception": false,
     "start_time": "2021-07-30T04:56:27.520669",
     "status": "completed"
    },
    "tags": []
   },
   "outputs": [
    {
     "data": {
      "text/html": [
       "<table border=\"1\" class=\"dataframe\">\n",
       "  <thead>\n",
       "    <tr style=\"text-align: left;\">\n",
       "      <th>epoch</th>\n",
       "      <th>train_loss</th>\n",
       "      <th>valid_loss</th>\n",
       "      <th>_rmse</th>\n",
       "      <th>time</th>\n",
       "    </tr>\n",
       "  </thead>\n",
       "  <tbody>\n",
       "    <tr>\n",
       "      <td>0</td>\n",
       "      <td>0.927656</td>\n",
       "      <td>1.129395</td>\n",
       "      <td>1.062730</td>\n",
       "      <td>00:26</td>\n",
       "    </tr>\n",
       "  </tbody>\n",
       "</table>"
      ],
      "text/plain": [
       "<IPython.core.display.HTML object>"
      ]
     },
     "metadata": {},
     "output_type": "display_data"
    }
   ],
   "source": [
    "learn_reg_back.fit_one_cycle(1, 2e-2)"
   ]
  },
  {
   "cell_type": "code",
   "execution_count": 27,
   "id": "ad78e89e",
   "metadata": {
    "execution": {
     "iopub.execute_input": "2021-07-30T04:56:56.554752Z",
     "iopub.status.busy": "2021-07-30T04:56:56.553633Z",
     "iopub.status.idle": "2021-07-30T04:57:27.407594Z",
     "shell.execute_reply": "2021-07-30T04:57:27.408170Z",
     "shell.execute_reply.started": "2021-07-29T08:15:32.374905Z"
    },
    "papermill": {
     "duration": 31.577484,
     "end_time": "2021-07-30T04:57:27.408378",
     "exception": false,
     "start_time": "2021-07-30T04:56:55.830894",
     "status": "completed"
    },
    "tags": []
   },
   "outputs": [
    {
     "data": {
      "text/html": [],
      "text/plain": [
       "<IPython.core.display.HTML object>"
      ]
     },
     "metadata": {},
     "output_type": "display_data"
    },
    {
     "name": "stderr",
     "output_type": "stream",
     "text": [
      "/opt/conda/lib/python3.7/site-packages/fastai/callback/schedule.py:270: UserWarning: color is redundantly defined by the 'color' keyword argument and the fmt string \"ro\" (-> color='r'). The keyword argument will take precedence.\n",
      "  ax.plot(val, idx, 'ro', label=nm, c=color)\n"
     ]
    },
    {
     "name": "stdout",
     "output_type": "stream",
     "text": [
      "Minimum/10:\t6.31e-08          \n",
      "Steepest point:\t1.10e-06          \n",
      "Longest valley:\t7.59e-03          \n",
      "Slide interval:\t5.25e-03\n"
     ]
    },
    {
     "data": {
      "image/png": "[encoded data removed]",
      "text/plain": [
       "<Figure size 432x288 with 1 Axes>"
      ]
     },
     "metadata": {
      "needs_background": "light"
     },
     "output_type": "display_data"
    }
   ],
   "source": [
    "suggested_lrs = show_me_lrs(learn_reg_back)"
   ]
  },
  {
   "cell_type": "code",
   "execution_count": 28,
   "id": "ef56e3e3",
   "metadata": {
    "execution": {
     "iopub.execute_input": "2021-07-30T04:57:28.851202Z",
     "iopub.status.busy": "2021-07-30T04:57:28.850334Z",
     "iopub.status.idle": "2021-07-30T04:57:58.571425Z",
     "shell.execute_reply": "2021-07-30T04:57:58.572005Z",
     "shell.execute_reply.started": "2021-07-29T08:16:02.162184Z"
    },
    "papermill": {
     "duration": 30.444979,
     "end_time": "2021-07-30T04:57:58.572231",
     "exception": false,
     "start_time": "2021-07-30T04:57:28.127252",
     "status": "completed"
    },
    "tags": []
   },
   "outputs": [
    {
     "data": {
      "text/html": [
       "<table border=\"1\" class=\"dataframe\">\n",
       "  <thead>\n",
       "    <tr style=\"text-align: left;\">\n",
       "      <th>epoch</th>\n",
       "      <th>train_loss</th>\n",
       "      <th>valid_loss</th>\n",
       "      <th>_rmse</th>\n",
       "      <th>time</th>\n",
       "    </tr>\n",
       "  </thead>\n",
       "  <tbody>\n",
       "    <tr>\n",
       "      <td>0</td>\n",
       "      <td>0.588799</td>\n",
       "      <td>0.822445</td>\n",
       "      <td>0.906888</td>\n",
       "      <td>00:29</td>\n",
       "    </tr>\n",
       "  </tbody>\n",
       "</table>"
      ],
      "text/plain": [
       "<IPython.core.display.HTML object>"
      ]
     },
     "metadata": {},
     "output_type": "display_data"
    }
   ],
   "source": [
    "learn_reg_back.freeze_to(-2)\n",
    "learn_reg_back.fit_one_cycle(1, suggested_lrs.slide)"
   ]
  },
  {
   "cell_type": "code",
   "execution_count": 29,
   "id": "6635788d",
   "metadata": {
    "execution": {
     "iopub.execute_input": "2021-07-30T04:58:00.115314Z",
     "iopub.status.busy": "2021-07-30T04:58:00.114215Z",
     "iopub.status.idle": "2021-07-30T04:58:34.530682Z",
     "shell.execute_reply": "2021-07-30T04:58:34.531270Z",
     "shell.execute_reply.started": "2021-07-29T08:17:39.240225Z"
    },
    "papermill": {
     "duration": 35.148743,
     "end_time": "2021-07-30T04:58:34.531494",
     "exception": false,
     "start_time": "2021-07-30T04:57:59.382751",
     "status": "completed"
    },
    "tags": []
   },
   "outputs": [
    {
     "data": {
      "text/html": [],
      "text/plain": [
       "<IPython.core.display.HTML object>"
      ]
     },
     "metadata": {},
     "output_type": "display_data"
    },
    {
     "name": "stderr",
     "output_type": "stream",
     "text": [
      "/opt/conda/lib/python3.7/site-packages/fastai/callback/schedule.py:270: UserWarning: color is redundantly defined by the 'color' keyword argument and the fmt string \"ro\" (-> color='r'). The keyword argument will take precedence.\n",
      "  ax.plot(val, idx, 'ro', label=nm, c=color)\n"
     ]
    },
    {
     "name": "stdout",
     "output_type": "stream",
     "text": [
      "Minimum/10:\t1.32e-03          \n",
      "Steepest point:\t7.59e-07          \n",
      "Longest valley:\t2.09e-03          \n",
      "Slide interval:\t2.09e-03\n"
     ]
    },
    {
     "data": {
      "image/png": "[encoded data removed]",
      "text/plain": [
       "<Figure size 432x288 with 1 Axes>"
      ]
     },
     "metadata": {
      "needs_background": "light"
     },
     "output_type": "display_data"
    }
   ],
   "source": [
    "suggested_lrs = show_me_lrs(learn_reg_back)"
   ]
  },
  {
   "cell_type": "code",
   "execution_count": 30,
   "id": "c55d2f35",
   "metadata": {
    "execution": {
     "iopub.execute_input": "2021-07-30T04:58:36.016969Z",
     "iopub.status.busy": "2021-07-30T04:58:36.015824Z",
     "iopub.status.idle": "2021-07-30T04:59:18.216297Z",
     "shell.execute_reply": "2021-07-30T04:59:18.215391Z",
     "shell.execute_reply.started": "2021-07-29T08:18:19.019047Z"
    },
    "papermill": {
     "duration": 42.949028,
     "end_time": "2021-07-30T04:59:18.216452",
     "exception": false,
     "start_time": "2021-07-30T04:58:35.267424",
     "status": "completed"
    },
    "tags": []
   },
   "outputs": [
    {
     "data": {
      "text/html": [
       "<table border=\"1\" class=\"dataframe\">\n",
       "  <thead>\n",
       "    <tr style=\"text-align: left;\">\n",
       "      <th>epoch</th>\n",
       "      <th>train_loss</th>\n",
       "      <th>valid_loss</th>\n",
       "      <th>_rmse</th>\n",
       "      <th>time</th>\n",
       "    </tr>\n",
       "  </thead>\n",
       "  <tbody>\n",
       "    <tr>\n",
       "      <td>0</td>\n",
       "      <td>0.506784</td>\n",
       "      <td>0.623313</td>\n",
       "      <td>0.789502</td>\n",
       "      <td>00:42</td>\n",
       "    </tr>\n",
       "  </tbody>\n",
       "</table>"
      ],
      "text/plain": [
       "<IPython.core.display.HTML object>"
      ]
     },
     "metadata": {},
     "output_type": "display_data"
    }
   ],
   "source": [
    "learn_reg_back.freeze_to(-3)\n",
    "learn_reg_back.fit_one_cycle(1, suggested_lrs.slide)"
   ]
  },
  {
   "cell_type": "code",
   "execution_count": 31,
   "id": "ab7ecf0f",
   "metadata": {
    "execution": {
     "iopub.execute_input": "2021-07-30T04:59:19.658848Z",
     "iopub.status.busy": "2021-07-30T04:59:19.657835Z",
     "iopub.status.idle": "2021-07-30T05:00:07.761780Z",
     "shell.execute_reply": "2021-07-30T05:00:07.761196Z",
     "shell.execute_reply.started": "2021-07-29T08:21:47.083492Z"
    },
    "papermill": {
     "duration": 48.828176,
     "end_time": "2021-07-30T05:00:07.761970",
     "exception": false,
     "start_time": "2021-07-30T04:59:18.933794",
     "status": "completed"
    },
    "tags": []
   },
   "outputs": [
    {
     "data": {
      "text/html": [],
      "text/plain": [
       "<IPython.core.display.HTML object>"
      ]
     },
     "metadata": {},
     "output_type": "display_data"
    },
    {
     "name": "stderr",
     "output_type": "stream",
     "text": [
      "/opt/conda/lib/python3.7/site-packages/fastai/callback/schedule.py:270: UserWarning: color is redundantly defined by the 'color' keyword argument and the fmt string \"ro\" (-> color='r'). The keyword argument will take precedence.\n",
      "  ax.plot(val, idx, 'ro', label=nm, c=color)\n"
     ]
    },
    {
     "name": "stdout",
     "output_type": "stream",
     "text": [
      "Minimum/10:\t7.59e-08          \n",
      "Steepest point:\t6.31e-07          \n",
      "Longest valley:\t8.32e-04          \n",
      "Slide interval:\t1.74e-03\n"
     ]
    },
    {
     "data": {
      "image/png": "[encoded data removed]",
      "text/plain": [
       "<Figure size 432x288 with 1 Axes>"
      ]
     },
     "metadata": {
      "needs_background": "light"
     },
     "output_type": "display_data"
    }
   ],
   "source": [
    "suggested_lrs = show_me_lrs(learn_reg_back)"
   ]
  },
  {
   "cell_type": "code",
   "execution_count": 32,
   "id": "f4c9e357",
   "metadata": {
    "execution": {
     "iopub.execute_input": "2021-07-30T05:00:09.563532Z",
     "iopub.status.busy": "2021-07-30T05:00:09.562619Z",
     "iopub.status.idle": "2021-07-30T05:08:57.670909Z",
     "shell.execute_reply": "2021-07-30T05:08:57.670337Z",
     "shell.execute_reply.started": "2021-07-29T08:22:58.831432Z"
    },
    "papermill": {
     "duration": 529.170246,
     "end_time": "2021-07-30T05:08:57.671091",
     "exception": false,
     "start_time": "2021-07-30T05:00:08.500845",
     "status": "completed"
    },
    "tags": []
   },
   "outputs": [
    {
     "data": {
      "text/html": [
       "<table border=\"1\" class=\"dataframe\">\n",
       "  <thead>\n",
       "    <tr style=\"text-align: left;\">\n",
       "      <th>epoch</th>\n",
       "      <th>train_loss</th>\n",
       "      <th>valid_loss</th>\n",
       "      <th>_rmse</th>\n",
       "      <th>time</th>\n",
       "    </tr>\n",
       "  </thead>\n",
       "  <tbody>\n",
       "    <tr>\n",
       "      <td>0</td>\n",
       "      <td>0.491824</td>\n",
       "      <td>0.638709</td>\n",
       "      <td>0.799193</td>\n",
       "      <td>00:52</td>\n",
       "    </tr>\n",
       "    <tr>\n",
       "      <td>1</td>\n",
       "      <td>0.452594</td>\n",
       "      <td>0.530769</td>\n",
       "      <td>0.728539</td>\n",
       "      <td>00:52</td>\n",
       "    </tr>\n",
       "    <tr>\n",
       "      <td>2</td>\n",
       "      <td>0.387039</td>\n",
       "      <td>0.354074</td>\n",
       "      <td>0.595041</td>\n",
       "      <td>00:52</td>\n",
       "    </tr>\n",
       "    <tr>\n",
       "      <td>3</td>\n",
       "      <td>0.301843</td>\n",
       "      <td>0.273103</td>\n",
       "      <td>0.522593</td>\n",
       "      <td>00:52</td>\n",
       "    </tr>\n",
       "    <tr>\n",
       "      <td>4</td>\n",
       "      <td>0.230964</td>\n",
       "      <td>0.202607</td>\n",
       "      <td>0.450119</td>\n",
       "      <td>00:52</td>\n",
       "    </tr>\n",
       "    <tr>\n",
       "      <td>5</td>\n",
       "      <td>0.185799</td>\n",
       "      <td>0.199570</td>\n",
       "      <td>0.446733</td>\n",
       "      <td>00:52</td>\n",
       "    </tr>\n",
       "    <tr>\n",
       "      <td>6</td>\n",
       "      <td>0.157325</td>\n",
       "      <td>0.165972</td>\n",
       "      <td>0.407397</td>\n",
       "      <td>00:52</td>\n",
       "    </tr>\n",
       "    <tr>\n",
       "      <td>7</td>\n",
       "      <td>0.138069</td>\n",
       "      <td>0.152107</td>\n",
       "      <td>0.390009</td>\n",
       "      <td>00:53</td>\n",
       "    </tr>\n",
       "    <tr>\n",
       "      <td>8</td>\n",
       "      <td>0.130502</td>\n",
       "      <td>0.151339</td>\n",
       "      <td>0.389023</td>\n",
       "      <td>00:52</td>\n",
       "    </tr>\n",
       "    <tr>\n",
       "      <td>9</td>\n",
       "      <td>0.122204</td>\n",
       "      <td>0.146932</td>\n",
       "      <td>0.383317</td>\n",
       "      <td>00:53</td>\n",
       "    </tr>\n",
       "  </tbody>\n",
       "</table>"
      ],
      "text/plain": [
       "<IPython.core.display.HTML object>"
      ]
     },
     "metadata": {},
     "output_type": "display_data"
    }
   ],
   "source": [
    "learn_reg_back.unfreeze()\n",
    "learn_reg_back.fit_one_cycle(10, suggested_lrs.slide)"
   ]
  },
  {
   "cell_type": "code",
   "execution_count": 33,
   "id": "d714630a",
   "metadata": {
    "execution": {
     "iopub.execute_input": "2021-07-30T05:08:59.134640Z",
     "iopub.status.busy": "2021-07-30T05:08:59.133555Z",
     "iopub.status.idle": "2021-07-30T05:08:59.697481Z",
     "shell.execute_reply": "2021-07-30T05:08:59.696833Z"
    },
    "papermill": {
     "duration": 1.303896,
     "end_time": "2021-07-30T05:08:59.697703",
     "exception": false,
     "start_time": "2021-07-30T05:08:58.393807",
     "status": "completed"
    },
    "tags": []
   },
   "outputs": [],
   "source": [
    "learn_reg_back.export(\"./back_final_model\")"
   ]
  },
  {
   "cell_type": "markdown",
   "id": "6b738905",
   "metadata": {
    "papermill": {
     "duration": 0.717643,
     "end_time": "2021-07-30T05:09:01.138154",
     "exception": false,
     "start_time": "2021-07-30T05:09:00.420511",
     "status": "completed"
    },
    "tags": []
   },
   "source": [
    "## Create the forward model "
   ]
  },
  {
   "cell_type": "markdown",
   "id": "fdc4964d",
   "metadata": {
    "papermill": {
     "duration": 0.722319,
     "end_time": "2021-07-30T05:09:02.589215",
     "exception": false,
     "start_time": "2021-07-30T05:09:01.866896",
     "status": "completed"
    },
    "tags": []
   },
   "source": [
    "## The dataloader"
   ]
  },
  {
   "cell_type": "code",
   "execution_count": 34,
   "id": "938880be",
   "metadata": {
    "execution": {
     "iopub.execute_input": "2021-07-30T05:09:04.077030Z",
     "iopub.status.busy": "2021-07-30T05:09:04.066594Z",
     "iopub.status.idle": "2021-07-30T05:10:27.480830Z",
     "shell.execute_reply": "2021-07-30T05:10:27.481371Z"
    },
    "papermill": {
     "duration": 84.167076,
     "end_time": "2021-07-30T05:10:27.481561",
     "exception": false,
     "start_time": "2021-07-30T05:09:03.314485",
     "status": "completed"
    },
    "tags": []
   },
   "outputs": [
    {
     "data": {
      "text/html": [],
      "text/plain": [
       "<IPython.core.display.HTML object>"
      ]
     },
     "metadata": {},
     "output_type": "display_data"
    },
    {
     "name": "stderr",
     "output_type": "stream",
     "text": [
      "/opt/conda/lib/python3.7/site-packages/numpy/core/_asarray.py:83: VisibleDeprecationWarning: Creating an ndarray from ragged nested sequences (which is a list-or-tuple of lists-or-tuples-or ndarrays with different lengths or shapes) is deprecated. If you meant to do this, you must specify 'dtype=object' when creating the ndarray\n",
      "  return array(a, dtype, copy=False, order=order)\n"
     ]
    }
   ],
   "source": [
    "dls_lm_forward = TextDataLoaders.from_df(df_cbt_subset, text_col='excerpt',\n",
    "                                      is_lm=True, valid_pct=0.1,\n",
    "                                      bs=128, seq_len=72, backwards=False)"
   ]
  },
  {
   "cell_type": "code",
   "execution_count": 35,
   "id": "d1cfc4ad",
   "metadata": {
    "execution": {
     "iopub.execute_input": "2021-07-30T05:10:28.948881Z",
     "iopub.status.busy": "2021-07-30T05:10:28.938706Z",
     "iopub.status.idle": "2021-07-30T05:10:29.246175Z",
     "shell.execute_reply": "2021-07-30T05:10:29.246722Z"
    },
    "papermill": {
     "duration": 1.040689,
     "end_time": "2021-07-30T05:10:29.246907",
     "exception": false,
     "start_time": "2021-07-30T05:10:28.206218",
     "status": "completed"
    },
    "tags": []
   },
   "outputs": [
    {
     "data": {
      "text/html": [
       "<table border=\"1\" class=\"dataframe\">\n",
       "  <thead>\n",
       "    <tr style=\"text-align: right;\">\n",
       "      <th></th>\n",
       "      <th>text</th>\n",
       "      <th>text_</th>\n",
       "    </tr>\n",
       "  </thead>\n",
       "  <tbody>\n",
       "    <tr>\n",
       "      <th>0</th>\n",
       "      <td>xxbos xxmaj so the xxmaj princess 's days passed very gaily while she waited for the happy time to come .the xxmaj king of the xxmaj sheep , with the help of all the flock , got up balls , concerts , and hunting parties , and even the shadows joined in all the fun , and came , making believe to be their own real selves .one evening , when the</td>\n",
       "      <td>xxmaj so the xxmaj princess 's days passed very gaily while she waited for the happy time to come .the xxmaj king of the xxmaj sheep , with the help of all the flock , got up balls , concerts , and hunting parties , and even the shadows joined in all the fun , and came , making believe to be their own real selves .one evening , when the couriers</td>\n",
       "    </tr>\n",
       "    <tr>\n",
       "      <th>1</th>\n",
       "      <td>them presents of silver and precious stones , and appointed to meet them at the same hour , in the same place , after a year had passed , to see the little dogs they had brought for him .then they went together to a castle which was about a league from the city , accompanied by all their particular friends , to whom they gave a grand banquet , and the</td>\n",
       "      <td>presents of silver and precious stones , and appointed to meet them at the same hour , in the same place , after a year had passed , to see the little dogs they had brought for him .then they went together to a castle which was about a league from the city , accompanied by all their particular friends , to whom they gave a grand banquet , and the three</td>\n",
       "    </tr>\n",
       "    <tr>\n",
       "      <th>2</th>\n",
       "      <td>succeeded ; the robber partly led him , and was partly guided by him , right in front of xxmaj cassim 's house , the door of which the robber marked with a piece of chalk .then , well pleased , he bade farewell to xxmaj baba xxmaj mustapha and returned to the forest .by and by xxmaj morgiana , going out , saw the mark the robber had made , quickly</td>\n",
       "      <td>; the robber partly led him , and was partly guided by him , right in front of xxmaj cassim 's house , the door of which the robber marked with a piece of chalk .then , well pleased , he bade farewell to xxmaj baba xxmaj mustapha and returned to the forest .by and by xxmaj morgiana , going out , saw the mark the robber had made , quickly guessed</td>\n",
       "    </tr>\n",
       "    <tr>\n",
       "      <th>3</th>\n",
       "      <td>each man : ` ` xxmaj as soon as i throw some stones from the window of the chamber where i lie , cut the jars open with your knives and come out , and i will be with you in a trice . '' he returned to the house , and xxmaj morgiana led him to his chamber .she then told xxmaj abdallah , her fellow - slave , to set</td>\n",
       "      <td>man : ` ` xxmaj as soon as i throw some stones from the window of the chamber where i lie , cut the jars open with your knives and come out , and i will be with you in a trice . '' he returned to the house , and xxmaj morgiana led him to his chamber .she then told xxmaj abdallah , her fellow - slave , to set on</td>\n",
       "    </tr>\n",
       "    <tr>\n",
       "      <th>4</th>\n",
       "      <td>thought of it before . ` ` xxmaj oh ! you 're for a fight , are you ? '' sneered the xxmaj dwarf . ` ` i might tell you to hit one of your own weight , but i ' m not afraid of six of you .yah ! mammy 's brat ! look here , young xxmaj blinkers , i do n't want to hurt you .just turn old</td>\n",
       "      <td>of it before . ` ` xxmaj oh ! you 're for a fight , are you ? '' sneered the xxmaj dwarf . ` ` i might tell you to hit one of your own weight , but i ' m not afraid of six of you .yah ! mammy 's brat ! look here , young xxmaj blinkers , i do n't want to hurt you .just turn old xxmaj</td>\n",
       "    </tr>\n",
       "    <tr>\n",
       "      <th>5</th>\n",
       "      <td>, \" where were you ? \" xxmaj cat says , \" i was at the school . \" xxmaj dog asks , \" which school ? \" xxmaj cat says , \" i was at the school in the village . \" xxmaj dog asks , \" when were you at school ? \" xxmaj cat says , \" i was at school this morning . \" xxmaj dog asks ,</td>\n",
       "      <td>\" where were you ? \" xxmaj cat says , \" i was at the school . \" xxmaj dog asks , \" which school ? \" xxmaj cat says , \" i was at the school in the village . \" xxmaj dog asks , \" when were you at school ? \" xxmaj cat says , \" i was at school this morning . \" xxmaj dog asks , \"</td>\n",
       "    </tr>\n",
       "    <tr>\n",
       "      <th>6</th>\n",
       "      <td>saying a word to anyone went straight to the tower , and with her own hands took off xxmaj charming 's chains .then , putting a golden crown upon his head , and the royal mantle upon his shoulders , she said : ` ` xxmaj come , faithful xxmaj charming , i make you king , and will take you for my husband . '' charming , once more free and</td>\n",
       "      <td>a word to anyone went straight to the tower , and with her own hands took off xxmaj charming 's chains .then , putting a golden crown upon his head , and the royal mantle upon his shoulders , she said : ` ` xxmaj come , faithful xxmaj charming , i make you king , and will take you for my husband . '' charming , once more free and happy</td>\n",
       "    </tr>\n",
       "    <tr>\n",
       "      <th>7</th>\n",
       "      <td>in a classroom on a sunny day as your science teacher enthusiastically tells you what our brain is capable of doing . xxmaj initially , you pay close attention to what the teacher is saying . xxmaj but the sound of the words coming out of her mouth gradually fade away as you notice your stomach xxunk and you begin to think about that delicious ice cream you had last night .</td>\n",
       "      <td>a classroom on a sunny day as your science teacher enthusiastically tells you what our brain is capable of doing . xxmaj initially , you pay close attention to what the teacher is saying . xxmaj but the sound of the words coming out of her mouth gradually fade away as you notice your stomach xxunk and you begin to think about that delicious ice cream you had last night . xxmaj</td>\n",
       "    </tr>\n",
       "    <tr>\n",
       "      <th>8</th>\n",
       "      <td>brought you a custard and a little pot of butter sent you by mamma . '' the good grandmother , who was in bed , because she was somewhat ill , cried out : ` ` xxmaj pull the bobbin , and the latch will go up . '' the xxmaj wolf pulled the bobbin , and the door opened , and then presently he fell upon the good woman and ate</td>\n",
       "      <td>you a custard and a little pot of butter sent you by mamma . '' the good grandmother , who was in bed , because she was somewhat ill , cried out : ` ` xxmaj pull the bobbin , and the latch will go up . '' the xxmaj wolf pulled the bobbin , and the door opened , and then presently he fell upon the good woman and ate her</td>\n",
       "    </tr>\n",
       "  </tbody>\n",
       "</table>"
      ],
      "text/plain": [
       "<IPython.core.display.HTML object>"
      ]
     },
     "metadata": {},
     "output_type": "display_data"
    }
   ],
   "source": [
    "dls_lm_forward.show_batch(min_n=3)"
   ]
  },
  {
   "cell_type": "markdown",
   "id": "c05d0e7e",
   "metadata": {
    "papermill": {
     "duration": 0.724442,
     "end_time": "2021-07-30T05:10:30.698774",
     "exception": false,
     "start_time": "2021-07-30T05:10:29.974332",
     "status": "completed"
    },
    "tags": []
   },
   "source": [
    "## The forward Language model"
   ]
  },
  {
   "cell_type": "code",
   "execution_count": 36,
   "id": "b0db6037",
   "metadata": {
    "execution": {
     "iopub.execute_input": "2021-07-30T05:10:32.155198Z",
     "iopub.status.busy": "2021-07-30T05:10:32.154002Z",
     "iopub.status.idle": "2021-07-30T05:10:33.179396Z",
     "shell.execute_reply": "2021-07-30T05:10:33.178738Z"
    },
    "papermill": {
     "duration": 1.758833,
     "end_time": "2021-07-30T05:10:33.179595",
     "exception": false,
     "start_time": "2021-07-30T05:10:31.420762",
     "status": "completed"
    },
    "tags": []
   },
   "outputs": [],
   "source": [
    "learn_forward = language_model_learner(dls_lm_forward,\n",
    "                               AWD_LSTM,\n",
    "                               drop_mult=2.0,\n",
    "                               metrics=[accuracy, Perplexity()], \n",
    "                               path=path,\n",
    "                              wd=0.5).to_fp16()"
   ]
  },
  {
   "cell_type": "code",
   "execution_count": 37,
   "id": "c7586f40",
   "metadata": {
    "execution": {
     "iopub.execute_input": "2021-07-30T05:10:34.650591Z",
     "iopub.status.busy": "2021-07-30T05:10:34.649827Z",
     "iopub.status.idle": "2021-07-30T05:10:34.654508Z",
     "shell.execute_reply": "2021-07-30T05:10:34.655168Z"
    },
    "papermill": {
     "duration": 0.726582,
     "end_time": "2021-07-30T05:10:34.655336",
     "exception": false,
     "start_time": "2021-07-30T05:10:33.928754",
     "status": "completed"
    },
    "tags": []
   },
   "outputs": [],
   "source": [
    "learn_forward.path = op_path"
   ]
  },
  {
   "cell_type": "code",
   "execution_count": 38,
   "id": "4c9f745d",
   "metadata": {
    "execution": {
     "iopub.execute_input": "2021-07-30T05:10:36.438115Z",
     "iopub.status.busy": "2021-07-30T05:10:36.437026Z",
     "iopub.status.idle": "2021-07-30T05:13:09.664115Z",
     "shell.execute_reply": "2021-07-30T05:13:09.663497Z"
    },
    "papermill": {
     "duration": 154.226429,
     "end_time": "2021-07-30T05:13:09.664281",
     "exception": false,
     "start_time": "2021-07-30T05:10:35.437852",
     "status": "completed"
    },
    "tags": []
   },
   "outputs": [
    {
     "data": {
      "text/html": [
       "<table border=\"1\" class=\"dataframe\">\n",
       "  <thead>\n",
       "    <tr style=\"text-align: left;\">\n",
       "      <th>epoch</th>\n",
       "      <th>train_loss</th>\n",
       "      <th>valid_loss</th>\n",
       "      <th>accuracy</th>\n",
       "      <th>perplexity</th>\n",
       "      <th>time</th>\n",
       "    </tr>\n",
       "  </thead>\n",
       "  <tbody>\n",
       "    <tr>\n",
       "      <td>0</td>\n",
       "      <td>4.257883</td>\n",
       "      <td>3.609791</td>\n",
       "      <td>0.307441</td>\n",
       "      <td>36.958321</td>\n",
       "      <td>02:33</td>\n",
       "    </tr>\n",
       "  </tbody>\n",
       "</table>"
      ],
      "text/plain": [
       "<IPython.core.display.HTML object>"
      ]
     },
     "metadata": {},
     "output_type": "display_data"
    }
   ],
   "source": [
    "learn_forward.fit_one_cycle(1, 2e-2)"
   ]
  },
  {
   "cell_type": "code",
   "execution_count": 39,
   "id": "85c590f7",
   "metadata": {
    "execution": {
     "iopub.execute_input": "2021-07-30T05:13:12.132394Z",
     "iopub.status.busy": "2021-07-30T05:13:12.131221Z",
     "iopub.status.idle": "2021-07-30T05:13:56.032307Z",
     "shell.execute_reply": "2021-07-30T05:13:56.031677Z"
    },
    "papermill": {
     "duration": 44.773665,
     "end_time": "2021-07-30T05:13:56.032476",
     "exception": false,
     "start_time": "2021-07-30T05:13:11.258811",
     "status": "completed"
    },
    "tags": []
   },
   "outputs": [
    {
     "data": {
      "text/html": [],
      "text/plain": [
       "<IPython.core.display.HTML object>"
      ]
     },
     "metadata": {},
     "output_type": "display_data"
    },
    {
     "name": "stderr",
     "output_type": "stream",
     "text": [
      "/opt/conda/lib/python3.7/site-packages/fastai/callback/schedule.py:270: UserWarning: color is redundantly defined by the 'color' keyword argument and the fmt string \"ro\" (-> color='r'). The keyword argument will take precedence.\n",
      "  ax.plot(val, idx, 'ro', label=nm, c=color)\n"
     ]
    },
    {
     "name": "stdout",
     "output_type": "stream",
     "text": [
      "Minimum/10:\t3.98e-03          \n",
      "Steepest point:\t1.91e-06          \n",
      "Longest valley:\t3.63e-03          \n",
      "Slide interval:\t5.25e-03\n"
     ]
    },
    {
     "data": {
      "image/png": "[encoded data removed]",
      "text/plain": [
       "<Figure size 432x288 with 1 Axes>"
      ]
     },
     "metadata": {
      "needs_background": "light"
     },
     "output_type": "display_data"
    }
   ],
   "source": [
    "suggested_lrs = show_me_lrs(learn_forward)"
   ]
  },
  {
   "cell_type": "code",
   "execution_count": 40,
   "id": "0fbf6d44",
   "metadata": {
    "execution": {
     "iopub.execute_input": "2021-07-30T05:13:57.478535Z",
     "iopub.status.busy": "2021-07-30T05:13:57.477788Z",
     "iopub.status.idle": "2021-07-30T05:22:32.039135Z",
     "shell.execute_reply": "2021-07-30T05:22:32.038483Z"
    },
    "papermill": {
     "duration": 515.292131,
     "end_time": "2021-07-30T05:22:32.039323",
     "exception": false,
     "start_time": "2021-07-30T05:13:56.747192",
     "status": "completed"
    },
    "tags": []
   },
   "outputs": [
    {
     "data": {
      "text/html": [
       "<table border=\"1\" class=\"dataframe\">\n",
       "  <thead>\n",
       "    <tr style=\"text-align: left;\">\n",
       "      <th>epoch</th>\n",
       "      <th>train_loss</th>\n",
       "      <th>valid_loss</th>\n",
       "      <th>accuracy</th>\n",
       "      <th>perplexity</th>\n",
       "      <th>time</th>\n",
       "    </tr>\n",
       "  </thead>\n",
       "  <tbody>\n",
       "    <tr>\n",
       "      <td>0</td>\n",
       "      <td>3.319041</td>\n",
       "      <td>2.771141</td>\n",
       "      <td>0.429629</td>\n",
       "      <td>15.976851</td>\n",
       "      <td>02:50</td>\n",
       "    </tr>\n",
       "    <tr>\n",
       "      <td>1</td>\n",
       "      <td>2.735821</td>\n",
       "      <td>2.089844</td>\n",
       "      <td>0.576286</td>\n",
       "      <td>8.083650</td>\n",
       "      <td>02:52</td>\n",
       "    </tr>\n",
       "    <tr>\n",
       "      <td>2</td>\n",
       "      <td>2.331531</td>\n",
       "      <td>1.836158</td>\n",
       "      <td>0.637264</td>\n",
       "      <td>6.272393</td>\n",
       "      <td>02:51</td>\n",
       "    </tr>\n",
       "  </tbody>\n",
       "</table>"
      ],
      "text/plain": [
       "<IPython.core.display.HTML object>"
      ]
     },
     "metadata": {},
     "output_type": "display_data"
    }
   ],
   "source": [
    "learn_forward.unfreeze()\n",
    "learn_forward.fit_one_cycle(3, suggested_lrs.slide)"
   ]
  },
  {
   "cell_type": "code",
   "execution_count": 41,
   "id": "b63669d1",
   "metadata": {
    "execution": {
     "iopub.execute_input": "2021-07-30T05:22:33.511668Z",
     "iopub.status.busy": "2021-07-30T05:22:33.510584Z",
     "iopub.status.idle": "2021-07-30T05:22:33.736299Z",
     "shell.execute_reply": "2021-07-30T05:22:33.735652Z"
    },
    "papermill": {
     "duration": 0.964987,
     "end_time": "2021-07-30T05:22:33.736515",
     "exception": false,
     "start_time": "2021-07-30T05:22:32.771528",
     "status": "completed"
    },
    "tags": []
   },
   "outputs": [],
   "source": [
    "learn_forward.path = Path(\".\")\n",
    "learn_forward.save_encoder('./forward_final_encoder')"
   ]
  },
  {
   "cell_type": "markdown",
   "id": "231a5450",
   "metadata": {
    "papermill": {
     "duration": 0.725362,
     "end_time": "2021-07-30T05:22:35.204387",
     "exception": false,
     "start_time": "2021-07-30T05:22:34.479025",
     "status": "completed"
    },
    "tags": []
   },
   "source": [
    "## Forward Text Regressor"
   ]
  },
  {
   "cell_type": "code",
   "execution_count": 42,
   "id": "80511fe5",
   "metadata": {
    "execution": {
     "iopub.execute_input": "2021-07-30T05:22:36.692236Z",
     "iopub.status.busy": "2021-07-30T05:22:36.681896Z",
     "iopub.status.idle": "2021-07-30T05:22:36.906545Z",
     "shell.execute_reply": "2021-07-30T05:22:36.905922Z"
    },
    "papermill": {
     "duration": 0.979338,
     "end_time": "2021-07-30T05:22:36.906732",
     "exception": false,
     "start_time": "2021-07-30T05:22:35.927394",
     "status": "completed"
    },
    "tags": []
   },
   "outputs": [],
   "source": [
    "data = DataBlock(\n",
    "       blocks=(TextBlock.from_df('excerpt', \n",
    "                                 vocab=dls_lm_forward.vocab, seq_len=72,\n",
    "                                 backwards=False), RegressionBlock),\n",
    "       get_x=ColReader('text'),get_y=ColReader('target'),\n",
    "       splitter=TrainTestSplitter(test_size=0.2))"
   ]
  },
  {
   "cell_type": "code",
   "execution_count": 43,
   "id": "46d2c7d4",
   "metadata": {
    "execution": {
     "iopub.execute_input": "2021-07-30T05:22:38.378375Z",
     "iopub.status.busy": "2021-07-30T05:22:38.377558Z",
     "iopub.status.idle": "2021-07-30T05:22:38.383475Z",
     "shell.execute_reply": "2021-07-30T05:22:38.382766Z"
    },
    "papermill": {
     "duration": 0.747644,
     "end_time": "2021-07-30T05:22:38.383627",
     "exception": false,
     "start_time": "2021-07-30T05:22:37.635983",
     "status": "completed"
    },
    "tags": []
   },
   "outputs": [],
   "source": [
    "#data.summary(df_aug)"
   ]
  },
  {
   "cell_type": "markdown",
   "id": "280cd8d3",
   "metadata": {
    "papermill": {
     "duration": 0.726165,
     "end_time": "2021-07-30T05:22:39.838331",
     "exception": false,
     "start_time": "2021-07-30T05:22:39.112166",
     "status": "completed"
    },
    "tags": []
   },
   "source": [
    "## The forward dataloader"
   ]
  },
  {
   "cell_type": "code",
   "execution_count": 44,
   "id": "25dd150d",
   "metadata": {
    "execution": {
     "iopub.execute_input": "2021-07-30T05:22:41.325965Z",
     "iopub.status.busy": "2021-07-30T05:22:41.324571Z",
     "iopub.status.idle": "2021-07-30T05:24:01.269772Z",
     "shell.execute_reply": "2021-07-30T05:24:01.269124Z"
    },
    "papermill": {
     "duration": 80.703382,
     "end_time": "2021-07-30T05:24:01.270002",
     "exception": false,
     "start_time": "2021-07-30T05:22:40.566620",
     "status": "completed"
    },
    "tags": []
   },
   "outputs": [
    {
     "data": {
      "text/html": [],
      "text/plain": [
       "<IPython.core.display.HTML object>"
      ]
     },
     "metadata": {},
     "output_type": "display_data"
    },
    {
     "name": "stderr",
     "output_type": "stream",
     "text": [
      "/opt/conda/lib/python3.7/site-packages/numpy/core/_asarray.py:83: VisibleDeprecationWarning: Creating an ndarray from ragged nested sequences (which is a list-or-tuple of lists-or-tuples-or ndarrays with different lengths or shapes) is deprecated. If you meant to do this, you must specify 'dtype=object' when creating the ndarray\n",
      "  return array(a, dtype, copy=False, order=order)\n"
     ]
    }
   ],
   "source": [
    "dls_reg_forward = data.dataloaders(df_cbt_aug_subset, bs=128)"
   ]
  },
  {
   "cell_type": "code",
   "execution_count": 45,
   "id": "286085e1",
   "metadata": {
    "execution": {
     "iopub.execute_input": "2021-07-30T05:24:02.749106Z",
     "iopub.status.busy": "2021-07-30T05:24:02.748053Z",
     "iopub.status.idle": "2021-07-30T05:24:03.092607Z",
     "shell.execute_reply": "2021-07-30T05:24:03.093184Z"
    },
    "papermill": {
     "duration": 1.090887,
     "end_time": "2021-07-30T05:24:03.093384",
     "exception": false,
     "start_time": "2021-07-30T05:24:02.002497",
     "status": "completed"
    },
    "tags": []
   },
   "outputs": [
    {
     "data": {
      "text/html": [
       "<table border=\"1\" class=\"dataframe\">\n",
       "  <thead>\n",
       "    <tr style=\"text-align: right;\">\n",
       "      <th></th>\n",
       "      <th>text</th>\n",
       "      <th>text_</th>\n",
       "    </tr>\n",
       "  </thead>\n",
       "  <tbody>\n",
       "    <tr>\n",
       "      <th>0</th>\n",
       "      <td>xxbos xxmaj the xxmaj queen was inconsolable when she saw this great nose , but her ladies assured her that it was not really as large as it looked ; that it was a xxmaj roman nose , and you had only to open any history to see that every hero has a large nose .the xxmaj queen , who was devoted to her baby , was pleased with what they told her , and when she looked at xxmaj hyacinth again , his nose certainly did not seem to her quite so large .the xxmaj prince was brought up with great care ; and , as soon as he could speak , they told him all sorts of dreadful stories about people who had short noses .no one was allowed to come near him whose nose did not more or less resemble his own , and the courtiers ,</td>\n",
       "      <td>-0.9133265614509583</td>\n",
       "    </tr>\n",
       "    <tr>\n",
       "      <th>1</th>\n",
       "      <td>xxbos ` ` xxmaj if my son has such a long nose as that , '' he said to himself , ` ` he must always see it or feel it ; at least , if he is not blind or without hands . '' but , as the enchanter had vanished , he did not waste any more time in thinking , but went to seek the xxmaj princess , who very soon consented to marry him .but after all , they had not been married very long when the xxmaj king died , and the xxmaj queen had nothing left to care for but her little son , who was called xxmaj hyacinth .the little xxmaj prince had large blue eyes , the prettiest eyes in the world , and a sweet little mouth , but , alas ! his nose was so enormous that it covered half</td>\n",
       "      <td>-0.9133265614509583</td>\n",
       "    </tr>\n",
       "    <tr>\n",
       "      <th>2</th>\n",
       "      <td>xxbos xxmaj the little xxmaj prince had large blue eyes , the prettiest eyes in the world , and a sweet little mouth , but , alas ! his nose was so enormous that it covered half his face .the xxmaj queen was inconsolable when she saw this great nose , but her ladies assured her that it was not really as large as it looked ; that it was a xxmaj roman nose , and you had only to open any history to see that every hero has a large nose .the xxmaj queen , who was devoted to her baby , was pleased with what they told her , and when she looked at xxmaj hyacinth again , his nose certainly did not seem to her quite so large .the xxmaj prince was brought up with great care ; and , as soon as he could speak ,</td>\n",
       "      <td>-0.9133265614509583</td>\n",
       "    </tr>\n",
       "    <tr>\n",
       "      <th>3</th>\n",
       "      <td>xxbos xxmaj the little xxmaj prince had large blue eyes , the prettiest eyes in the world , and a sweet little mouth , but , alas ! his nose was so enormous that it covered half his face .the xxmaj queen was inconsolable when she saw this great nose , but her ladies assured her that it was not really as large as it looked ; that it was a xxmaj roman nose , and you had only to open any history to see that every hero has a large nose .the xxmaj queen , who was devoted to her baby , was pleased with what they told her , and when she looked at xxmaj hyacinth again , his nose certainly did not seem to her quite so large .the xxmaj prince was brought up with great care ; and , as soon as he could speak ,</td>\n",
       "      <td>-0.9133265614509583</td>\n",
       "    </tr>\n",
       "    <tr>\n",
       "      <th>4</th>\n",
       "      <td>xxbos xxmaj people came in from every quarter in great numbers ; they threw water upon the xxmaj princess 's face , unlaced her , struck her on the palms of her hands , and rubbed her temples with xxmaj hungary - water ; but nothing would bring her to herself .and now the xxmaj king , who came up at the noise , bethought himself of the prediction of the fairies , and , judging very well that this must necessarily come to pass , since the fairies had said it , caused the xxmaj princess to be carried into the finest apartment in his palace , and to be laid upon a bed all embroidered with gold and silver .one would have taken her for a little angel , she was so very beautiful ; for her swooning away had not diminished one bit of her complexion ;</td>\n",
       "      <td>-0.9133265614509583</td>\n",
       "    </tr>\n",
       "    <tr>\n",
       "      <th>5</th>\n",
       "      <td>xxbos xxmaj and now the xxmaj king , who came up at the noise , bethought himself of the prediction of the fairies , and , judging very well that this must necessarily come to pass , since the fairies had said it , caused the xxmaj princess to be carried into the finest apartment in his palace , and to be laid upon a bed all embroidered with gold and silver .one would have taken her for a little angel , she was so very beautiful ; for her swooning away had not diminished one bit of her complexion ; her cheeks were carnation , and her lips were coral ; indeed , her eyes were shut , but she was heard to breathe softly , which satisfied those about her that she was not dead .the xxmaj king commanded that they should not disturb her , but let</td>\n",
       "      <td>-0.9133265614509583</td>\n",
       "    </tr>\n",
       "    <tr>\n",
       "      <th>6</th>\n",
       "      <td>xxbos xxmaj the xxmaj prince was brought up with great care ; and , as soon as he could speak , they told him all sorts of dreadful stories about people who had short noses .no one was allowed to come near him whose nose did not more or less resemble his own , and the courtiers , to get into favor with the xxmaj queen , took to pulling their babies ' noses several times every day to make them grow long .but , do what they would , they were nothing by comparison with the xxmaj prince 's .when he grew sensible he learned history ; and whenever any great prince or beautiful princess was spoken of , his teachers took care to tell him that they had long noses .his room was hung with pictures , all of people with very large noses ; and the xxmaj</td>\n",
       "      <td>-0.9133265614509583</td>\n",
       "    </tr>\n",
       "    <tr>\n",
       "      <th>7</th>\n",
       "      <td>xxbos xxmaj though the xxmaj king was horribly afraid of the enchanter , he could not help laughing at this threat . ` ` xxmaj if my son has such a long nose as that , '' he said to himself , ` ` he must always see it or feel it ; at least , if he is not blind or without hands . '' but , as the enchanter had vanished , he did not waste any more time in thinking , but went to seek the xxmaj princess , who very soon consented to marry him .but after all , they had not been married very long when the xxmaj king died , and the xxmaj queen had nothing left to care for but her little son , who was called xxmaj hyacinth .the little xxmaj prince had large blue eyes , the prettiest eyes in the</td>\n",
       "      <td>-0.9133265614509583</td>\n",
       "    </tr>\n",
       "    <tr>\n",
       "      <th>8</th>\n",
       "      <td>xxbos xxmaj you shall have a son , who will never be happy until he finds out that his nose is too long , and if you ever tell anyone what i have just said to you , you shall vanish away instantly , and no one shall ever see you or hear of you again . '' though the xxmaj king was horribly afraid of the enchanter , he could not help laughing at this threat . ` ` xxmaj if my son has such a long nose as that , '' he said to himself , ` ` he must always see it or feel it ; at least , if he is not blind or without hands . '' but , as the enchanter had vanished , he did not waste any more time in thinking , but went to seek the xxmaj princess , who very</td>\n",
       "      <td>-0.9133265614509583</td>\n",
       "    </tr>\n",
       "  </tbody>\n",
       "</table>"
      ],
      "text/plain": [
       "<IPython.core.display.HTML object>"
      ]
     },
     "metadata": {},
     "output_type": "display_data"
    }
   ],
   "source": [
    "dls_reg_forward.show_batch()"
   ]
  },
  {
   "cell_type": "markdown",
   "id": "08897e35",
   "metadata": {
    "papermill": {
     "duration": 0.743102,
     "end_time": "2021-07-30T05:24:04.585281",
     "exception": false,
     "start_time": "2021-07-30T05:24:03.842179",
     "status": "completed"
    },
    "tags": []
   },
   "source": [
    "## The regression model"
   ]
  },
  {
   "cell_type": "code",
   "execution_count": 46,
   "id": "487af557",
   "metadata": {
    "execution": {
     "iopub.execute_input": "2021-07-30T05:24:06.067443Z",
     "iopub.status.busy": "2021-07-30T05:24:06.066437Z",
     "iopub.status.idle": "2021-07-30T05:24:06.991833Z",
     "shell.execute_reply": "2021-07-30T05:24:06.991201Z"
    },
    "papermill": {
     "duration": 1.676607,
     "end_time": "2021-07-30T05:24:06.992001",
     "exception": false,
     "start_time": "2021-07-30T05:24:05.315394",
     "status": "completed"
    },
    "tags": []
   },
   "outputs": [],
   "source": [
    "learn_reg_forward = text_classifier_learner(dls_reg_forward, AWD_LSTM, drop_mult=2.0,\n",
    "                                opt_func=QHAdam,\n",
    "                                metrics=rmse,\n",
    "                                   wd=1.0).to_fp16()"
   ]
  },
  {
   "cell_type": "code",
   "execution_count": 47,
   "id": "07e42ade",
   "metadata": {
    "execution": {
     "iopub.execute_input": "2021-07-30T05:24:09.082664Z",
     "iopub.status.busy": "2021-07-30T05:24:09.081283Z",
     "iopub.status.idle": "2021-07-30T05:24:09.155491Z",
     "shell.execute_reply": "2021-07-30T05:24:09.156017Z"
    },
    "papermill": {
     "duration": 1.347091,
     "end_time": "2021-07-30T05:24:09.156222",
     "exception": false,
     "start_time": "2021-07-30T05:24:07.809131",
     "status": "completed"
    },
    "tags": []
   },
   "outputs": [],
   "source": [
    "learn_reg_forward.path = Path(\".\")\n",
    "learn_reg_forward = learn_reg_forward.load_encoder('./forward_final_encoder')"
   ]
  },
  {
   "cell_type": "markdown",
   "id": "9918bfd7",
   "metadata": {
    "papermill": {
     "duration": 0.967126,
     "end_time": "2021-07-30T05:24:10.962412",
     "exception": false,
     "start_time": "2021-07-30T05:24:09.995286",
     "status": "completed"
    },
    "tags": []
   },
   "source": [
    "## Training forward regression model"
   ]
  },
  {
   "cell_type": "code",
   "execution_count": 48,
   "id": "4e03b4e6",
   "metadata": {
    "execution": {
     "iopub.execute_input": "2021-07-30T05:24:12.448193Z",
     "iopub.status.busy": "2021-07-30T05:24:12.446995Z",
     "iopub.status.idle": "2021-07-30T05:24:37.979879Z",
     "shell.execute_reply": "2021-07-30T05:24:37.980414Z"
    },
    "papermill": {
     "duration": 26.276243,
     "end_time": "2021-07-30T05:24:37.980628",
     "exception": false,
     "start_time": "2021-07-30T05:24:11.704385",
     "status": "completed"
    },
    "tags": []
   },
   "outputs": [
    {
     "data": {
      "text/html": [
       "<table border=\"1\" class=\"dataframe\">\n",
       "  <thead>\n",
       "    <tr style=\"text-align: left;\">\n",
       "      <th>epoch</th>\n",
       "      <th>train_loss</th>\n",
       "      <th>valid_loss</th>\n",
       "      <th>_rmse</th>\n",
       "      <th>time</th>\n",
       "    </tr>\n",
       "  </thead>\n",
       "  <tbody>\n",
       "    <tr>\n",
       "      <td>0</td>\n",
       "      <td>1.181329</td>\n",
       "      <td>1.206201</td>\n",
       "      <td>1.098272</td>\n",
       "      <td>00:25</td>\n",
       "    </tr>\n",
       "  </tbody>\n",
       "</table>"
      ],
      "text/plain": [
       "<IPython.core.display.HTML object>"
      ]
     },
     "metadata": {},
     "output_type": "display_data"
    }
   ],
   "source": [
    "learn_reg_forward.fit_one_cycle(1, 1e-2)"
   ]
  },
  {
   "cell_type": "code",
   "execution_count": 49,
   "id": "cef1c79c",
   "metadata": {
    "execution": {
     "iopub.execute_input": "2021-07-30T05:24:39.554694Z",
     "iopub.status.busy": "2021-07-30T05:24:39.553551Z",
     "iopub.status.idle": "2021-07-30T05:25:08.767642Z",
     "shell.execute_reply": "2021-07-30T05:25:08.767046Z"
    },
    "papermill": {
     "duration": 30.002194,
     "end_time": "2021-07-30T05:25:08.767831",
     "exception": false,
     "start_time": "2021-07-30T05:24:38.765637",
     "status": "completed"
    },
    "tags": []
   },
   "outputs": [
    {
     "data": {
      "text/html": [],
      "text/plain": [
       "<IPython.core.display.HTML object>"
      ]
     },
     "metadata": {},
     "output_type": "display_data"
    },
    {
     "name": "stderr",
     "output_type": "stream",
     "text": [
      "/opt/conda/lib/python3.7/site-packages/fastai/callback/schedule.py:270: UserWarning: color is redundantly defined by the 'color' keyword argument and the fmt string \"ro\" (-> color='r'). The keyword argument will take precedence.\n",
      "  ax.plot(val, idx, 'ro', label=nm, c=color)\n"
     ]
    },
    {
     "name": "stdout",
     "output_type": "stream",
     "text": [
      "Minimum/10:\t3.98e-03          \n",
      "Steepest point:\t1.91e-06          \n",
      "Longest valley:\t4.37e-03          \n",
      "Slide interval:\t5.25e-03\n"
     ]
    },
    {
     "data": {
      "image/png": "[encoded data removed]",
      "text/plain": [
       "<Figure size 432x288 with 1 Axes>"
      ]
     },
     "metadata": {
      "needs_background": "light"
     },
     "output_type": "display_data"
    }
   ],
   "source": [
    "suggested_lrs = show_me_lrs(learn_reg_forward)"
   ]
  },
  {
   "cell_type": "code",
   "execution_count": 50,
   "id": "46a235a6",
   "metadata": {
    "execution": {
     "iopub.execute_input": "2021-07-30T05:25:10.249580Z",
     "iopub.status.busy": "2021-07-30T05:25:10.248323Z",
     "iopub.status.idle": "2021-07-30T05:25:39.571356Z",
     "shell.execute_reply": "2021-07-30T05:25:39.570742Z"
    },
    "papermill": {
     "duration": 30.070775,
     "end_time": "2021-07-30T05:25:39.571545",
     "exception": false,
     "start_time": "2021-07-30T05:25:09.500770",
     "status": "completed"
    },
    "tags": []
   },
   "outputs": [
    {
     "data": {
      "text/html": [
       "<table border=\"1\" class=\"dataframe\">\n",
       "  <thead>\n",
       "    <tr style=\"text-align: left;\">\n",
       "      <th>epoch</th>\n",
       "      <th>train_loss</th>\n",
       "      <th>valid_loss</th>\n",
       "      <th>_rmse</th>\n",
       "      <th>time</th>\n",
       "    </tr>\n",
       "  </thead>\n",
       "  <tbody>\n",
       "    <tr>\n",
       "      <td>0</td>\n",
       "      <td>0.696511</td>\n",
       "      <td>1.053715</td>\n",
       "      <td>1.026506</td>\n",
       "      <td>00:29</td>\n",
       "    </tr>\n",
       "  </tbody>\n",
       "</table>"
      ],
      "text/plain": [
       "<IPython.core.display.HTML object>"
      ]
     },
     "metadata": {},
     "output_type": "display_data"
    }
   ],
   "source": [
    "learn_reg_forward.freeze_to(-2)\n",
    "learn_reg_forward.fit_one_cycle(1, suggested_lrs.slide)"
   ]
  },
  {
   "cell_type": "code",
   "execution_count": 51,
   "id": "78956a69",
   "metadata": {
    "execution": {
     "iopub.execute_input": "2021-07-30T05:25:41.045047Z",
     "iopub.status.busy": "2021-07-30T05:25:41.043943Z",
     "iopub.status.idle": "2021-07-30T05:26:14.980733Z",
     "shell.execute_reply": "2021-07-30T05:26:14.981281Z"
    },
    "papermill": {
     "duration": 34.678476,
     "end_time": "2021-07-30T05:26:14.981477",
     "exception": false,
     "start_time": "2021-07-30T05:25:40.303001",
     "status": "completed"
    },
    "tags": []
   },
   "outputs": [
    {
     "data": {
      "text/html": [],
      "text/plain": [
       "<IPython.core.display.HTML object>"
      ]
     },
     "metadata": {},
     "output_type": "display_data"
    },
    {
     "name": "stderr",
     "output_type": "stream",
     "text": [
      "/opt/conda/lib/python3.7/site-packages/fastai/callback/schedule.py:270: UserWarning: color is redundantly defined by the 'color' keyword argument and the fmt string \"ro\" (-> color='r'). The keyword argument will take precedence.\n",
      "  ax.plot(val, idx, 'ro', label=nm, c=color)\n"
     ]
    },
    {
     "name": "stdout",
     "output_type": "stream",
     "text": [
      "Minimum/10:\t6.31e-08          \n",
      "Steepest point:\t3.98e-06          \n",
      "Longest valley:\t2.51e-03          \n",
      "Slide interval:\t1.45e-03\n"
     ]
    },
    {
     "data": {
      "image/png": "[encoded data removed]",
      "text/plain": [
       "<Figure size 432x288 with 1 Axes>"
      ]
     },
     "metadata": {
      "needs_background": "light"
     },
     "output_type": "display_data"
    }
   ],
   "source": [
    "suggested_lrs = show_me_lrs(learn_reg_forward)"
   ]
  },
  {
   "cell_type": "code",
   "execution_count": 52,
   "id": "92faef1f",
   "metadata": {
    "execution": {
     "iopub.execute_input": "2021-07-30T05:26:16.538235Z",
     "iopub.status.busy": "2021-07-30T05:26:16.536912Z",
     "iopub.status.idle": "2021-07-30T05:26:59.070883Z",
     "shell.execute_reply": "2021-07-30T05:26:59.069906Z"
    },
    "papermill": {
     "duration": 43.337418,
     "end_time": "2021-07-30T05:26:59.071087",
     "exception": false,
     "start_time": "2021-07-30T05:26:15.733669",
     "status": "completed"
    },
    "tags": []
   },
   "outputs": [
    {
     "data": {
      "text/html": [
       "<table border=\"1\" class=\"dataframe\">\n",
       "  <thead>\n",
       "    <tr style=\"text-align: left;\">\n",
       "      <th>epoch</th>\n",
       "      <th>train_loss</th>\n",
       "      <th>valid_loss</th>\n",
       "      <th>_rmse</th>\n",
       "      <th>time</th>\n",
       "    </tr>\n",
       "  </thead>\n",
       "  <tbody>\n",
       "    <tr>\n",
       "      <td>0</td>\n",
       "      <td>0.576376</td>\n",
       "      <td>0.631396</td>\n",
       "      <td>0.794604</td>\n",
       "      <td>00:42</td>\n",
       "    </tr>\n",
       "  </tbody>\n",
       "</table>"
      ],
      "text/plain": [
       "<IPython.core.display.HTML object>"
      ]
     },
     "metadata": {},
     "output_type": "display_data"
    }
   ],
   "source": [
    "learn_reg_forward.freeze_to(-3)\n",
    "learn_reg_forward.fit_one_cycle(1, suggested_lrs.slide)"
   ]
  },
  {
   "cell_type": "code",
   "execution_count": 53,
   "id": "f12981df",
   "metadata": {
    "execution": {
     "iopub.execute_input": "2021-07-30T05:27:00.567398Z",
     "iopub.status.busy": "2021-07-30T05:27:00.566301Z",
     "iopub.status.idle": "2021-07-30T05:27:48.574085Z",
     "shell.execute_reply": "2021-07-30T05:27:48.572879Z"
    },
    "papermill": {
     "duration": 48.75457,
     "end_time": "2021-07-30T05:27:48.574274",
     "exception": false,
     "start_time": "2021-07-30T05:26:59.819704",
     "status": "completed"
    },
    "tags": []
   },
   "outputs": [
    {
     "data": {
      "text/html": [],
      "text/plain": [
       "<IPython.core.display.HTML object>"
      ]
     },
     "metadata": {},
     "output_type": "display_data"
    },
    {
     "name": "stderr",
     "output_type": "stream",
     "text": [
      "/opt/conda/lib/python3.7/site-packages/fastai/callback/schedule.py:270: UserWarning: color is redundantly defined by the 'color' keyword argument and the fmt string \"ro\" (-> color='r'). The keyword argument will take precedence.\n",
      "  ax.plot(val, idx, 'ro', label=nm, c=color)\n"
     ]
    },
    {
     "name": "stdout",
     "output_type": "stream",
     "text": [
      "Minimum/10:\t9.12e-08          \n",
      "Steepest point:\t7.59e-07          \n",
      "Longest valley:\t3.63e-03          \n",
      "Slide interval:\t4.37e-03\n"
     ]
    },
    {
     "data": {
      "image/png": "[encoded data removed]",
      "text/plain": [
       "<Figure size 432x288 with 1 Axes>"
      ]
     },
     "metadata": {
      "needs_background": "light"
     },
     "output_type": "display_data"
    }
   ],
   "source": [
    "suggested_lrs = show_me_lrs(learn_reg_forward)"
   ]
  },
  {
   "cell_type": "code",
   "execution_count": 54,
   "id": "97493055",
   "metadata": {
    "execution": {
     "iopub.execute_input": "2021-07-30T05:27:50.384328Z",
     "iopub.status.busy": "2021-07-30T05:27:50.381119Z",
     "iopub.status.idle": "2021-07-30T05:33:57.814625Z",
     "shell.execute_reply": "2021-07-30T05:33:57.814017Z"
    },
    "papermill": {
     "duration": 368.482993,
     "end_time": "2021-07-30T05:33:57.814782",
     "exception": false,
     "start_time": "2021-07-30T05:27:49.331789",
     "status": "completed"
    },
    "tags": []
   },
   "outputs": [
    {
     "data": {
      "text/html": [
       "<table border=\"1\" class=\"dataframe\">\n",
       "  <thead>\n",
       "    <tr style=\"text-align: left;\">\n",
       "      <th>epoch</th>\n",
       "      <th>train_loss</th>\n",
       "      <th>valid_loss</th>\n",
       "      <th>_rmse</th>\n",
       "      <th>time</th>\n",
       "    </tr>\n",
       "  </thead>\n",
       "  <tbody>\n",
       "    <tr>\n",
       "      <td>0</td>\n",
       "      <td>0.496892</td>\n",
       "      <td>0.777768</td>\n",
       "      <td>0.881911</td>\n",
       "      <td>00:52</td>\n",
       "    </tr>\n",
       "    <tr>\n",
       "      <td>1</td>\n",
       "      <td>0.437635</td>\n",
       "      <td>0.623212</td>\n",
       "      <td>0.789438</td>\n",
       "      <td>00:52</td>\n",
       "    </tr>\n",
       "    <tr>\n",
       "      <td>2</td>\n",
       "      <td>0.328843</td>\n",
       "      <td>0.337829</td>\n",
       "      <td>0.581230</td>\n",
       "      <td>00:52</td>\n",
       "    </tr>\n",
       "    <tr>\n",
       "      <td>3</td>\n",
       "      <td>0.245727</td>\n",
       "      <td>0.169837</td>\n",
       "      <td>0.412113</td>\n",
       "      <td>00:52</td>\n",
       "    </tr>\n",
       "    <tr>\n",
       "      <td>4</td>\n",
       "      <td>0.177968</td>\n",
       "      <td>0.137945</td>\n",
       "      <td>0.371410</td>\n",
       "      <td>00:52</td>\n",
       "    </tr>\n",
       "    <tr>\n",
       "      <td>5</td>\n",
       "      <td>0.144356</td>\n",
       "      <td>0.136006</td>\n",
       "      <td>0.368790</td>\n",
       "      <td>00:52</td>\n",
       "    </tr>\n",
       "    <tr>\n",
       "      <td>6</td>\n",
       "      <td>0.124360</td>\n",
       "      <td>0.118614</td>\n",
       "      <td>0.344404</td>\n",
       "      <td>00:52</td>\n",
       "    </tr>\n",
       "  </tbody>\n",
       "</table>"
      ],
      "text/plain": [
       "<IPython.core.display.HTML object>"
      ]
     },
     "metadata": {},
     "output_type": "display_data"
    }
   ],
   "source": [
    "learn_reg_forward.unfreeze()\n",
    "learn_reg_forward.fit_one_cycle(7, suggested_lrs.slide)"
   ]
  },
  {
   "cell_type": "code",
   "execution_count": 55,
   "id": "ebf2096f",
   "metadata": {
    "execution": {
     "iopub.execute_input": "2021-07-30T05:33:59.316381Z",
     "iopub.status.busy": "2021-07-30T05:33:59.315296Z",
     "iopub.status.idle": "2021-07-30T05:33:59.867000Z",
     "shell.execute_reply": "2021-07-30T05:33:59.866275Z"
    },
    "papermill": {
     "duration": 1.312786,
     "end_time": "2021-07-30T05:33:59.867198",
     "exception": false,
     "start_time": "2021-07-30T05:33:58.554412",
     "status": "completed"
    },
    "tags": []
   },
   "outputs": [],
   "source": [
    "learn_reg_forward.export(\"./forward_final_model\")"
   ]
  },
  {
   "cell_type": "code",
   "execution_count": null,
   "id": "b66615d0",
   "metadata": {
    "papermill": {
     "duration": 1.249342,
     "end_time": "2021-07-30T05:34:01.872228",
     "exception": false,
     "start_time": "2021-07-30T05:34:00.622886",
     "status": "completed"
    },
    "tags": []
   },
   "outputs": [],
   "source": []
  }
 ],
 "metadata": {
  "kernelspec": {
   "display_name": "Python 3",
   "language": "python",
   "name": "python3"
  },
  "language_info": {
   "codemirror_mode": {
    "name": "ipython",
    "version": 3
   },
   "file_extension": ".py",
   "mimetype": "text/x-python",
   "name": "python",
   "nbconvert_exporter": "python",
   "pygments_lexer": "ipython3",
   "version": "3.7.10"
  },
  "papermill": {
   "default_parameters": {},
   "duration": 3729.288184,
   "end_time": "2021-07-30T05:34:05.981759",
   "environment_variables": {},
   "exception": null,
   "input_path": "__notebook__.ipynb",
   "output_path": "__notebook__.ipynb",
   "parameters": {},
   "start_time": "2021-07-30T04:31:56.693575",
   "version": "2.3.3"
  }
 },
 "nbformat": 4,
 "nbformat_minor": 5
}
