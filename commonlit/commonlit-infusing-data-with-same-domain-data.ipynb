{
 "cells": [
  {
   "cell_type": "markdown",
   "id": "69005ce0",
   "metadata": {
    "_cell_guid": "b1076dfc-b9ad-4769-8c92-a6c4dae69d19",
    "_uuid": "8f2839f25d086af736a60e9eeb907d3b93b6e0e5",
    "papermill": {
     "duration": 0.03116,
     "end_time": "2021-07-29T12:24:11.697064",
     "exception": false,
     "start_time": "2021-07-29T12:24:11.665904",
     "status": "completed"
    },
    "tags": []
   },
   "source": [
    "This is an attempt to infuse the data with another data from same domain i.e. infusing the common lit data with data from the [CBT dataset](https://huggingface.co/datasets/cbt).\n",
    "\n",
    "the idea is that since the CBT also contains data from childrens book so the language model trained with this data would be like a child from grade 3-12 . "
   ]
  },
  {
   "cell_type": "code",
   "execution_count": 1,
   "id": "7d0b186c",
   "metadata": {
    "execution": {
     "iopub.execute_input": "2021-07-29T12:24:11.762533Z",
     "iopub.status.busy": "2021-07-29T12:24:11.761438Z",
     "iopub.status.idle": "2021-07-29T12:24:19.904558Z",
     "shell.execute_reply": "2021-07-29T12:24:19.903882Z",
     "shell.execute_reply.started": "2021-07-29T12:12:59.029483Z"
    },
    "papermill": {
     "duration": 8.176049,
     "end_time": "2021-07-29T12:24:19.904718",
     "exception": false,
     "start_time": "2021-07-29T12:24:11.728669",
     "status": "completed"
    },
    "tags": []
   },
   "outputs": [
    {
     "name": "stdout",
     "output_type": "stream",
     "text": [
      "Requirement already satisfied: fastcore in /opt/conda/lib/python3.7/site-packages (1.3.20)\r\n",
      "Requirement already satisfied: pip in /opt/conda/lib/python3.7/site-packages (from fastcore) (21.1.2)\r\n",
      "Requirement already satisfied: packaging in /opt/conda/lib/python3.7/site-packages (from fastcore) (20.9)\r\n",
      "Requirement already satisfied: pyparsing>=2.0.2 in /opt/conda/lib/python3.7/site-packages (from packaging->fastcore) (2.4.7)\r\n",
      "\u001b[33mWARNING: Running pip as root will break packages and permissions. You should install packages reliably by using venv: https://pip.pypa.io/warnings/venv\u001b[0m\r\n"
     ]
    }
   ],
   "source": [
    "!pip install fastcore"
   ]
  },
  {
   "cell_type": "code",
   "execution_count": 2,
   "id": "9a011b6b",
   "metadata": {
    "collapsed": true,
    "execution": {
     "iopub.execute_input": "2021-07-29T12:24:19.975699Z",
     "iopub.status.busy": "2021-07-29T12:24:19.971509Z",
     "iopub.status.idle": "2021-07-29T12:26:45.641490Z",
     "shell.execute_reply": "2021-07-29T12:26:45.640711Z",
     "shell.execute_reply.started": "2021-07-29T12:13:07.562982Z"
    },
    "jupyter": {
     "outputs_hidden": true
    },
    "papermill": {
     "duration": 145.706214,
     "end_time": "2021-07-29T12:26:45.641632",
     "exception": false,
     "start_time": "2021-07-29T12:24:19.935418",
     "status": "completed"
    },
    "tags": []
   },
   "outputs": [
    {
     "name": "stdout",
     "output_type": "stream",
     "text": [
      "Collecting package metadata (current_repodata.json): - \b\b\\ \b\b| \b\b/ \b\b- \b\b\\ \b\b| \b\b/ \b\b- \b\b\\ \b\b| \b\b/ \b\b- \b\b\\ \b\b| \b\b/ \b\b- \b\b\\ \b\b| \b\b/ \b\b- \b\b\\ \b\b| \b\b/ \b\b- \b\b\\ \b\b| \b\b/ \b\b- \b\b\\ \b\b| \b\b/ \b\b- \b\b\\ \b\b| \b\b/ \b\b- \b\b\\ \b\b| \b\b/ \b\b- \b\b\\ \b\b| \b\b/ \b\b- \b\b\\ \b\b| \b\b/ \b\b- \b\b\\ \b\b| \b\b/ \b\b- \b\b\\ \b\b| \b\b/ \b\b- \b\b\\ \b\b| \b\b/ \b\b- \b\b\\ \b\b| \b\b/ \b\b- \b\b\\ \b\b| \b\b/ \b\b- \b\b\\ \b\b| \b\b/ \b\b- \b\b\\ \b\b| \b\b/ \b\b- \b\b\\ \b\b| \b\b/ \b\b- \b\b\\ \b\b| \b\b/ \b\b- \b\b\\ \b\b| \b\b/ \b\b- \b\b\\ \b\b| \b\b/ \b\b- \b\b\\ \b\b| \b\b/ \b\b- \b\b\\ \b\b| \b\b/ \b\b- \b\b\\ \b\b| \b\b/ \b\b- \b\b\\ \b\b| \b\b/ \b\b- \b\b\\ \b\b| \b\b/ \b\b- \b\b\\ \b\b| \b\b/ \b\b- \b\b\\ \b\b| \b\b/ \b\b- \b\b\\ \b\b| \b\b/ \b\b- \b\b\\ \b\b| \b\b/ \b\b- \b\b\\ \b\b| \b\b/ \b\b- \b\b\\ \b\b| \b\b/ \b\b- \b\b\\ \b\b| \b\b/ \b\b- \b\b\\ \b\b| \b\b/ \b\b- \b\bdone\r\n",
      "Solving environment: | \b\b/ \b\b- \b\b\\ \b\b| \b\b/ \b\b- \b\b\\ \b\b| \b\b/ \b\b- \b\b\\ \b\b| \b\b/ \b\b- \b\b\\ \b\b| \b\b/ \b\b- \b\b\\ \b\b| \b\b/ \b\b- \b\b\\ \b\b| \b\b/ \b\b- \b\b\\ \b\b| \b\b/ \b\b- \b\b\\ \b\b| \b\b/ \b\b- \b\b\\ \b\b| \b\b/ \b\b- \b\b\\ \b\b| \b\b/ \b\b- \b\b\\ \b\b| \b\b/ \b\b- \b\b\\ \b\b| \b\b/ \b\b- \b\b\\ \b\b| \b\b/ \b\b- \b\b\\ \b\b| \b\b/ \b\b- \b\b\\ \b\b| \b\b/ \b\b- \b\b\\ \b\b| \b\b/ \b\b- \b\b\\ \b\b| \b\b/ \b\b- \b\b\\ \b\b| \b\b/ \b\b- \b\b\\ \b\b| \b\b/ \b\b- \b\b\\ \b\b| \b\b/ \b\b- \b\b\\ \b\b| \b\b/ \b\b- \b\b\\ \b\b| \b\b/ \b\b- \b\b\\ \b\b| \b\b/ \b\b- \b\b\\ \b\b| \b\b/ \b\b- \b\b\\ \b\b| \b\b/ \b\b- \b\b\\ \b\b| \b\b/ \b\b- \b\b\\ \b\b| \b\b/ \b\b- \b\b\\ \b\b| \b\b/ \b\b- \b\b\\ \b\b| \b\b/ \b\b- \b\b\\ \b\b| \b\b/ \b\b- \b\b\\ \b\b| \b\b/ \b\b- \b\b\\ \b\b| \b\b/ \b\b- \b\b\\ \b\b| \b\b/ \b\b- \b\b\\ \b\b| \b\b/ \b\b- \b\b\\ \b\b| \b\b/ \b\b- \b\b\\ \b\b| \b\b/ \b\b- \b\b\\ \b\b| \b\b/ \b\b- \b\b\\ \b\b| \b\b/ \b\b- \b\b\\ \b\b| \b\b/ \b\b- \b\b\\ \b\b| \b\b/ \b\b- \b\b\\ \b\b| \b\b/ \b\b- \b\b\\ \b\b| \b\b/ \b\b- \b\b\\ \b\b| \b\b/ \b\b- \b\b\\ \b\b| \b\b/ \b\b- \b\b\\ \b\b| \b\b/ \b\b- \b\b\\ \b\b| \b\b/ \b\b- \b\b\\ \b\b| \b\b/ \b\b- \b\b\\ \b\b| \b\b/ \b\b- \b\b\\ \b\b| \b\b/ \b\b- \b\b\\ \b\b| \b\b/ \b\b- \b\b\\ \b\b| \b\b/ \b\b- \b\b\\ \b\b| \b\b/ \b\b- \b\b\\ \b\b| \b\b/ \b\b- \b\b\\ \b\b| \b\b/ \b\b- \b\b\\ \b\b| \b\b/ \b\b- \b\b\\ \b\b| \b\b/ \b\b- \b\b\\ \b\b| \b\b/ \b\b- \b\b\\ \b\b| \b\b/ \b\b- \b\b\\ \b\b| \b\b/ \b\b- \b\b\\ \b\b| \b\b/ \b\b- \b\b\\ \b\b| \b\b/ \b\b- \b\b\\ \b\b| \b\b/ \b\b- \b\b\\ \b\b| \b\b/ \b\b- \b\b\\ \b\b| \b\b/ \b\b- \b\b\\ \b\b| \b\b/ \b\b- \b\b\\ \b\b| \b\b/ \b\b- \b\b\\ \b\b| \b\b/ \b\b- \b\b\\ \b\b| \b\b/ \b\b- \b\b\\ \b\b| \b\b/ \b\b- \b\b\\ \b\b| \b\b/ \b\b- \b\b\\ \b\b| \b\b/ \b\b- \b\b\\ \b\b| \b\b/ \b\b- \b\b\\ \b\b| \b\b/ \b\b- \b\b\\ \b\b| \b\b/ \b\b- \b\b\\ \b\b| \b\b/ \b\b- \b\b\\ \b\b| \b\b/ \b\b- \b\b\\ \b\b| \b\b/ \b\b- \b\b\\ \b\b| \b\b/ \b\b- \b\b\\ \b\b| \b\b/ \b\b- \b\b\\ \b\b| \b\b/ \b\b- \b\b\\ \b\b| \b\b/ \b\b- \b\b\\ \b\b| \b\b/ \b\b- \b\b\\ \b\b| \b\b/ \b\b- \b\b\\ \b\b| \b\b/ \b\b- \b\b\\ \b\b| \b\b/ \b\b- \b\b\\ \b\b| \b\b/ \b\b- \b\b\\ \b\b| \b\b/ \b\b- \b\b\\ \b\b| \b\b/ \b\b- \b\b\\ \b\b| \b\b/ \b\b- \b\b\\ \b\b| \b\b/ \b\b- \b\b\\ \b\b| \b\b/ \b\b- \b\b\\ \b\b| \b\b/ \b\b- \b\b\\ \b\b| \b\b/ \b\b- \b\b\\ \b\b| \b\b/ \b\b- \b\b\\ \b\b| \b\b/ \b\b- \b\b\\ \b\b| \b\b/ \b\b- \b\b\\ \b\b| \b\b/ \b\b- \b\b\\ \b\b| \b\b/ \b\b- \b\b\\ \b\b| \b\b/ \b\b- \b\b\\ \b\b| \b\b/ \b\b- \b\b\\ \b\b| \b\b/ \b\b- \b\b\\ \b\b| \b\b/ \b\b- \b\b\\ \b\b| \b\b/ \b\b- \b\b\\ \b\b| \b\b/ \b\b- \b\b\\ \b\b| \b\b/ \b\b- \b\b\\ \b\b| \b\b/ \b\b- \b\b\\ \b\b| \b\b/ \b\b- \b\b\\ \b\b| \b\b/ \b\b- \b\b\\ \b\b| \b\b/ \b\b- \b\b\\ \b\b| \b\b/ \b\b- \b\b\\ \b\b| \b\b/ \b\b- \b\b\\ \b\b| \b\b/ \b\b- \b\b\\ \b\b| \b\b/ \b\b- \b\b\\ \b\b| \b\b/ \b\b- \b\b\\ \b\b| \b\b/ \b\b- \b\b\\ \b\b| \b\b/ \b\b- \b\b\\ \b\b| \b\b/ \b\b- \b\b\\ \b\b| \b\b/ \b\b- \b\b\\ \b\b| \b\b/ \b\b- \b\b\\ \b\b| \b\b/ \b\b- \b\b\\ \b\b| \b\b/ \b\b- \b\b\\ \b\b| \b\b/ \b\b- \b\b\\ \b\b| \b\b/ \b\b- \b\b\\ \b\b| \b\b/ \b\b- \b\b\\ \b\b| \b\b/ \b\b- \b\b\\ \b\b| \b\b/ \b\b- \b\b\\ \b\b| \b\b/ \b\b- \b\b\\ \b\b| \b\b/ \b\b- \b\b\\ \b\b| \b\b/ \b\b- \b\b\\ \b\b| \b\b/ \b\b- \b\b\\ \b\b| \b\b/ \b\b- \b\b\\ \b\b| \b\b/ \b\b- \b\b\\ \b\b| \b\b/ \b\b- \b\b\\ \b\b| \b\b/ \b\b- \b\b\\ \b\b| \b\b/ \b\b- \b\b\\ \b\b| \b\b/ \b\b- \b\b\\ \b\b| \b\b/ \b\b- \b\b\\ \b\b| \b\b/ \b\b- \b\b\\ \b\b| \b\b/ \b\b- \b\b\\ \b\b| \b\b/ \b\b- \b\b\\ \b\b| \b\b/ \b\b- \b\b\\ \b\b| \b\b/ \b\b- \b\b\\ \b\b| \b\b/ \b\b- \b\b\\ \b\b| \b\b/ \b\b- \b\b\\ \b\b| \b\b/ \b\b- \b\b\\ \b\b| \b\b/ \b\b- \b\b\\ \b\b| \b\b/ \b\b- \b\b\\ \b\b| \b\b/ \b\b- \b\b\\ \b\b| \b\b/ \b\b- \b\b\\ \b\b| \b\b/ \b\b- \b\b\\ \b\b| \b\b/ \b\b- \b\b\\ \b\b| \b\b/ \b\b- \b\b\\ \b\b| \b\b/ \b\b- \b\b\\ \b\b| \b\b/ \b\b- \b\b\\ \b\b| \b\b/ \b\b- \b\b\\ \b\b| \b\b/ \b\b- \b\b\\ \b\b| \b\b/ \b\b- \b\b\\ \b\b| \b\b/ \b\b- \b\b\\ \b\b| \b\b/ \b\b- \b\b\\ \b\b| \b\b/ \b\b- \b\b\\ \b\b| \b\b/ \b\b- \b\b\\ \b\b| \b\b/ \b\b- \b\b\\ \b\b| \b\b/ \b\b- \b\b\\ \b\b| \b\b/ \b\b- \b\b\\ \b\b| \b\b/ \b\b- \b\b\\ \b\b| \b\b/ \b\b- \b\b\\ \b\b| \b\b/ \b\b- \b\b\\ \b\b| \b\b/ \b\b- \b\b\\ \b\b| \b\b/ \b\b- \b\b\\ \b\b| \b\b/ \b\b- \b\b\\ \b\b| \b\b/ \b\b- \b\b\\ \b\b| \b\b/ \b\b- \b\b\\ \b\b| \b\b/ \b\b- \b\b\\ \b\b| \b\b/ \b\b- \b\b\\ \b\b| \b\b/ \b\b- \b\b\\ \b\b| \b\b/ \b\b- \b\b\\ \b\b| \b\b/ \b\b- \b\b\\ \b\b| \b\b/ \b\b- \b\b\\ \b\b| \b\b/ \b\b- \b\b\\ \b\b| \b\b/ \b\b- \b\bdone\r\n",
      "\r\n",
      "\r\n",
      "==> WARNING: A newer version of conda exists. <==\r\n",
      "  current version: 4.9.2\r\n",
      "  latest version: 4.10.3\r\n",
      "\r\n",
      "Please update conda by running\r\n",
      "\r\n",
      "    $ conda update -n base conda\r\n",
      "\r\n",
      "\r\n",
      "\r\n",
      "## Package Plan ##\r\n",
      "\r\n",
      "  environment location: /opt/conda\r\n",
      "\r\n",
      "  added / updated specs:\r\n",
      "    - datasets\r\n",
      "\r\n",
      "\r\n",
      "The following packages will be downloaded:\r\n",
      "\r\n",
      "    package                    |            build\r\n",
      "    ---------------------------|-----------------\r\n",
      "    datasets-1.10.2            |             py_0         180 KB  huggingface\r\n",
      "    dill-0.3.4                 |     pyhd8ed1ab_0          62 KB  conda-forge\r\n",
      "    filelock-3.0.12            |     pyh9f0ad1d_0          10 KB  conda-forge\r\n",
      "    huggingface_hub-0.0.15     |             py_0          45 KB  huggingface\r\n",
      "    importlib_metadata-1.5.0   |           py37_0          42 KB  conda-forge\r\n",
      "    multiprocess-0.70.12.2     |   py37h5e8e339_0         184 KB  conda-forge\r\n",
      "    python-xxhash-2.0.2        |   py37h5e8e339_0          21 KB  conda-forge\r\n",
      "    tqdm-4.49.0                |     pyh9f0ad1d_0          54 KB  conda-forge\r\n",
      "    xxhash-0.8.0               |       h7f98852_3          86 KB  conda-forge\r\n",
      "    ------------------------------------------------------------\r\n",
      "                                           Total:         683 KB\r\n",
      "\r\n",
      "The following NEW packages will be INSTALLED:\r\n",
      "\r\n",
      "  datasets           huggingface/noarch::datasets-1.10.2-py_0\r\n",
      "  dill               conda-forge/noarch::dill-0.3.4-pyhd8ed1ab_0\r\n",
      "  filelock           conda-forge/noarch::filelock-3.0.12-pyh9f0ad1d_0\r\n",
      "  huggingface_hub    huggingface/noarch::huggingface_hub-0.0.15-py_0\r\n",
      "  importlib_metadata conda-forge/linux-64::importlib_metadata-1.5.0-py37_0\r\n",
      "  multiprocess       conda-forge/linux-64::multiprocess-0.70.12.2-py37h5e8e339_0\r\n",
      "  python-xxhash      conda-forge/linux-64::python-xxhash-2.0.2-py37h5e8e339_0\r\n",
      "  xxhash             conda-forge/linux-64::xxhash-0.8.0-h7f98852_3\r\n",
      "\r\n",
      "The following packages will be DOWNGRADED:\r\n",
      "\r\n",
      "  tqdm                                  4.61.1-pyhd8ed1ab_0 --> 4.49.0-pyh9f0ad1d_0\r\n",
      "\r\n",
      "\r\n",
      "Proceed ([y]/n)? \r\n",
      "\r\n",
      "Downloading and Extracting Packages\r\n",
      "python-xxhash-2.0.2  | 21 KB     | ##################################### | 100% \r\n",
      "xxhash-0.8.0         | 86 KB     | ##################################### | 100% \r\n",
      "huggingface_hub-0.0. | 45 KB     | ##################################### | 100% \r\n",
      "dill-0.3.4           | 62 KB     | ##################################### | 100% \r\n",
      "filelock-3.0.12      | 10 KB     | ##################################### | 100% \r\n",
      "importlib_metadata-1 | 42 KB     | ##################################### | 100% \r\n",
      "datasets-1.10.2      | 180 KB    | ##################################### | 100% \r\n",
      "multiprocess-0.70.12 | 184 KB    | ##################################### | 100% \r\n",
      "tqdm-4.49.0          | 54 KB     | ##################################### | 100% \r\n",
      "Preparing transaction: | \b\bdone\r\n",
      "Verifying transaction: - \b\b\\ \b\b| \b\b/ \b\bdone\r\n",
      "Executing transaction: \\ \b\b| \b\b/ \b\b- \b\b\\ \b\b| \b\b/ \b\b- \b\b\\ \b\b| \b\b/ \b\b- \b\b\\ \b\b| \b\b/ \b\b- \b\b\\ \b\b| \b\b/ \b\b- \b\b\\ \b\b| \b\bdone\r\n",
      "yes: standard output: Broken pipe\r\n"
     ]
    }
   ],
   "source": [
    "!yes Y | conda install -c huggingface -c conda-forge datasets"
   ]
  },
  {
   "cell_type": "code",
   "execution_count": 3,
   "id": "26c3c08e",
   "metadata": {
    "execution": {
     "iopub.execute_input": "2021-07-29T12:26:46.202931Z",
     "iopub.status.busy": "2021-07-29T12:26:46.201674Z",
     "iopub.status.idle": "2021-07-29T12:26:46.807980Z",
     "shell.execute_reply": "2021-07-29T12:26:46.807452Z",
     "shell.execute_reply.started": "2021-07-29T12:18:42.194274Z"
    },
    "papermill": {
     "duration": 0.889679,
     "end_time": "2021-07-29T12:26:46.808178",
     "exception": false,
     "start_time": "2021-07-29T12:26:45.918499",
     "status": "completed"
    },
    "tags": []
   },
   "outputs": [],
   "source": [
    "from typing import List\n",
    "from itertools import chain\n",
    "from datasets import load_dataset\n",
    "from fastcore.all import *\n",
    "from pandas.core.frame import DataFrame\n",
    "import numpy as np\n",
    "import pandas as pd"
   ]
  },
  {
   "cell_type": "markdown",
   "id": "fd130dc9",
   "metadata": {
    "papermill": {
     "duration": 0.275126,
     "end_time": "2021-07-29T12:26:47.361734",
     "exception": false,
     "start_time": "2021-07-29T12:26:47.086608",
     "status": "completed"
    },
    "tags": []
   },
   "source": [
    "## Read the data"
   ]
  },
  {
   "cell_type": "code",
   "execution_count": 4,
   "id": "3a866015",
   "metadata": {
    "execution": {
     "iopub.execute_input": "2021-07-29T12:26:47.914107Z",
     "iopub.status.busy": "2021-07-29T12:26:47.913548Z",
     "iopub.status.idle": "2021-07-29T12:27:36.963660Z",
     "shell.execute_reply": "2021-07-29T12:27:36.964101Z",
     "shell.execute_reply.started": "2021-07-29T12:15:55.668282Z"
    },
    "papermill": {
     "duration": 49.32809,
     "end_time": "2021-07-29T12:27:36.964442",
     "exception": false,
     "start_time": "2021-07-29T12:26:47.636352",
     "status": "completed"
    },
    "tags": []
   },
   "outputs": [
    {
     "data": {
      "application/vnd.jupyter.widget-view+json": {
       "model_id": "c618af25fee24d098ac99eecaf8c52b1",
       "version_major": 2,
       "version_minor": 0
      },
      "text/plain": [
       "HBox(children=(FloatProgress(value=0.0, description='Downloading', max=2650.0, style=ProgressStyle(description…"
      ]
     },
     "metadata": {},
     "output_type": "display_data"
    },
    {
     "name": "stdout",
     "output_type": "stream",
     "text": [
      "\n"
     ]
    },
    {
     "data": {
      "application/vnd.jupyter.widget-view+json": {
       "model_id": "9b826bb85d1a431489350e03d40bcdcf",
       "version_major": 2,
       "version_minor": 0
      },
      "text/plain": [
       "HBox(children=(FloatProgress(value=0.0, description='Downloading', max=1185.0, style=ProgressStyle(description…"
      ]
     },
     "metadata": {},
     "output_type": "display_data"
    },
    {
     "name": "stdout",
     "output_type": "stream",
     "text": [
      "\n",
      "Downloading and preparing dataset cbt/CN (download: 114.96 MiB, generated: 298.12 MiB, post-processed: Unknown size, total: 413.09 MiB) to /root/.cache/huggingface/datasets/cbt/CN/1.1.0/bc79b04ef86e76912deb17112c013806daa07ef250fa8d4f9bd5cf490f02f80f...\n"
     ]
    },
    {
     "data": {
      "application/vnd.jupyter.widget-view+json": {
       "model_id": "fe024d1f490b431487c710a54ba91a99",
       "version_major": 2,
       "version_minor": 0
      },
      "text/plain": [
       "HBox(children=(FloatProgress(value=0.0, description='Downloading', max=120547669.0, style=ProgressStyle(descri…"
      ]
     },
     "metadata": {},
     "output_type": "display_data"
    },
    {
     "name": "stdout",
     "output_type": "stream",
     "text": [
      "\n"
     ]
    },
    {
     "data": {
      "application/vnd.jupyter.widget-view+json": {
       "model_id": "fd17b0bb91014459afe57a15df7c719a",
       "version_major": 2,
       "version_minor": 0
      },
      "text/plain": [
       "HBox(children=(FloatProgress(value=1.0, bar_style='info', layout=Layout(width='20px'), max=1.0), HTML(value=''…"
      ]
     },
     "metadata": {},
     "output_type": "display_data"
    },
    {
     "data": {
      "application/vnd.jupyter.widget-view+json": {
       "model_id": "ed904089b28041bebd7e3377bd7df0ab",
       "version_major": 2,
       "version_minor": 0
      },
      "text/plain": [
       "HBox(children=(FloatProgress(value=1.0, bar_style='info', layout=Layout(width='20px'), max=1.0), HTML(value=''…"
      ]
     },
     "metadata": {},
     "output_type": "display_data"
    },
    {
     "data": {
      "application/vnd.jupyter.widget-view+json": {
       "model_id": "a324fe6de2214f3f959f95c73ed7494e",
       "version_major": 2,
       "version_minor": 0
      },
      "text/plain": [
       "HBox(children=(FloatProgress(value=1.0, bar_style='info', layout=Layout(width='20px'), max=1.0), HTML(value=''…"
      ]
     },
     "metadata": {},
     "output_type": "display_data"
    },
    {
     "name": "stdout",
     "output_type": "stream",
     "text": [
      "Dataset cbt downloaded and prepared to /root/.cache/huggingface/datasets/cbt/CN/1.1.0/bc79b04ef86e76912deb17112c013806daa07ef250fa8d4f9bd5cf490f02f80f. Subsequent calls will reuse this data.\n"
     ]
    }
   ],
   "source": [
    "dataset = load_dataset(\"cbt\", \"CN\")"
   ]
  },
  {
   "cell_type": "code",
   "execution_count": 5,
   "id": "1d52bec9",
   "metadata": {
    "execution": {
     "iopub.execute_input": "2021-07-29T12:27:37.552528Z",
     "iopub.status.busy": "2021-07-29T12:27:37.551846Z",
     "iopub.status.idle": "2021-07-29T12:27:37.554577Z",
     "shell.execute_reply": "2021-07-29T12:27:37.555069Z",
     "shell.execute_reply.started": "2021-07-29T12:16:49.848986Z"
    },
    "papermill": {
     "duration": 0.292666,
     "end_time": "2021-07-29T12:27:37.555237",
     "exception": false,
     "start_time": "2021-07-29T12:27:37.262571",
     "status": "completed"
    },
    "tags": []
   },
   "outputs": [
    {
     "data": {
      "text/plain": [
       "DatasetDict({\n",
       "    train: Dataset({\n",
       "        features: ['sentences', 'question', 'answer', 'options'],\n",
       "        num_rows: 120769\n",
       "    })\n",
       "    test: Dataset({\n",
       "        features: ['sentences', 'question', 'answer', 'options'],\n",
       "        num_rows: 2500\n",
       "    })\n",
       "    validation: Dataset({\n",
       "        features: ['sentences', 'question', 'answer', 'options'],\n",
       "        num_rows: 2000\n",
       "    })\n",
       "})"
      ]
     },
     "execution_count": 5,
     "metadata": {},
     "output_type": "execute_result"
    }
   ],
   "source": [
    "dataset"
   ]
  },
  {
   "cell_type": "markdown",
   "id": "2633a63f",
   "metadata": {
    "papermill": {
     "duration": 0.287643,
     "end_time": "2021-07-29T12:27:38.128284",
     "exception": false,
     "start_time": "2021-07-29T12:27:37.840641",
     "status": "completed"
    },
    "tags": []
   },
   "source": [
    "Getting the sentences(20 sentences from each book)."
   ]
  },
  {
   "cell_type": "code",
   "execution_count": 6,
   "id": "b772b16e",
   "metadata": {
    "execution": {
     "iopub.execute_input": "2021-07-29T12:27:38.701865Z",
     "iopub.status.busy": "2021-07-29T12:27:38.701272Z",
     "iopub.status.idle": "2021-07-29T12:27:38.706413Z",
     "shell.execute_reply": "2021-07-29T12:27:38.706904Z",
     "shell.execute_reply.started": "2021-07-29T12:16:54.344755Z"
    },
    "papermill": {
     "duration": 0.293373,
     "end_time": "2021-07-29T12:27:38.707059",
     "exception": false,
     "start_time": "2021-07-29T12:27:38.413686",
     "status": "completed"
    },
    "tags": []
   },
   "outputs": [
    {
     "data": {
      "text/plain": [
       "{'train': ['sentences', 'question', 'answer', 'options'],\n",
       " 'test': ['sentences', 'question', 'answer', 'options'],\n",
       " 'validation': ['sentences', 'question', 'answer', 'options']}"
      ]
     },
     "execution_count": 6,
     "metadata": {},
     "output_type": "execute_result"
    }
   ],
   "source": [
    "dataset.column_names"
   ]
  },
  {
   "cell_type": "code",
   "execution_count": 7,
   "id": "44b3bc2f",
   "metadata": {
    "execution": {
     "iopub.execute_input": "2021-07-29T12:27:39.362103Z",
     "iopub.status.busy": "2021-07-29T12:27:39.361558Z",
     "iopub.status.idle": "2021-07-29T12:27:43.723481Z",
     "shell.execute_reply": "2021-07-29T12:27:43.723919Z",
     "shell.execute_reply.started": "2021-07-29T12:17:08.518565Z"
    },
    "papermill": {
     "duration": 4.729309,
     "end_time": "2021-07-29T12:27:43.724102",
     "exception": false,
     "start_time": "2021-07-29T12:27:38.994793",
     "status": "completed"
    },
    "tags": []
   },
   "outputs": [],
   "source": [
    "train = L(dataset['train']['sentences'][:2])"
   ]
  },
  {
   "cell_type": "code",
   "execution_count": 8,
   "id": "b91f84fc",
   "metadata": {
    "execution": {
     "iopub.execute_input": "2021-07-29T12:27:44.297246Z",
     "iopub.status.busy": "2021-07-29T12:27:44.296688Z",
     "iopub.status.idle": "2021-07-29T12:27:44.302192Z",
     "shell.execute_reply": "2021-07-29T12:27:44.302641Z",
     "shell.execute_reply.started": "2021-07-12T09:27:12.602312Z"
    },
    "papermill": {
     "duration": 0.296144,
     "end_time": "2021-07-29T12:27:44.302798",
     "exception": false,
     "start_time": "2021-07-29T12:27:44.006654",
     "status": "completed"
    },
    "tags": []
   },
   "outputs": [
    {
     "data": {
      "text/plain": [
       "(#2) [['With almost everything else to make them happy , they wanted one thing : they had no children .', 'This vexed the king even more than the queen , who was very clever and learned , and who had hated dolls when she was a child .', 'However , she , too in spite of all the books she read and all the pictures she painted , would have been glad enough to be the mother of a little prince .', 'The king was anxious to consult the fairies , but the queen would not hear of such a thing .', 'She did not believe in fairies : she said that they had never existed ; and that she maintained , though The History of the Royal Family was full of chapters about nothing else .', 'Well , at long and at last they had a little boy , who was generally regarded as the finest baby that had ever been seen .', 'Even her majesty herself remarked that , though she could never believe all the courtiers told her , yet he certainly was a fine child -- a very fine child .', 'Now , the time drew near for the christening party , and the king and queen were sitting at breakfast in their summer parlour talking over it .', 'It was a splendid room , hung with portraits of the royal ancestors .', 'There was Cinderella , the grandmother of the reigning monarch , with her little foot in her glass slipper thrust out before her .', 'There was the Marquis de Carabas , who , as everyone knows , was raised to the throne as prince consort after his marriage with the daughter of the king of the period .', 'On the arm of the throne was seated his celebrated cat , wearing boots .', 'There , too , was a portrait of a beautiful lady , sound asleep : this was Madame La Belle au Bois-dormant , also an ancestress of the royal family .', 'Many other pictures of celebrated persons were hanging on the walls .', \"`` You have asked all the right people , my dear ? ''\", 'said the king .', \"`` Everyone who should be asked , '' answered the queen .\", \"`` People are so touchy on these occasions , '' said his majesty .\", \"`` You have not forgotten any of our aunts ? ''\", \"`` No ; the old cats ! ''\"],['With almost everything else to make them happy , they wanted one thing : they had no children .', 'This vexed the king even more than the queen , who was very clever and learned , and who had hated dolls when she was a child .', 'However , she , too in spite of all the books she read and all the pictures she painted , would have been glad enough to be the mother of a little prince .', 'The king was anxious to consult the fairies , but the queen would not hear of such a thing .', 'She did not believe in fairies : she said that they had never existed ; and that she maintained , though The History of the Royal Family was full of chapters about nothing else .', 'Well , at long and at last they had a little boy , who was generally regarded as the finest baby that had ever been seen .', 'Even her majesty herself remarked that , though she could never believe all the courtiers told her , yet he certainly was a fine child -- a very fine child .', 'Now , the time drew near for the christening party , and the king and queen were sitting at breakfast in their summer parlour talking over it .', 'It was a splendid room , hung with portraits of the royal ancestors .', 'There was Cinderella , the grandmother of the reigning monarch , with her little foot in her glass slipper thrust out before her .', 'There was the Marquis de Carabas , who , as everyone knows , was raised to the throne as prince consort after his marriage with the daughter of the king of the period .', 'On the arm of the throne was seated his celebrated cat , wearing boots .', 'There , too , was a portrait of a beautiful lady , sound asleep : this was Madame La Belle au Bois-dormant , also an ancestress of the royal family .', 'Many other pictures of celebrated persons were hanging on the walls .', \"`` You have asked all the right people , my dear ? ''\", 'said the king .', \"`` Everyone who should be asked , '' answered the queen .\", \"`` People are so touchy on these occasions , '' said his majesty .\", \"`` You have not forgotten any of our aunts ? ''\", \"`` No ; the old cats ! ''\"]]"
      ]
     },
     "execution_count": 8,
     "metadata": {},
     "output_type": "execute_result"
    }
   ],
   "source": [
    "train"
   ]
  },
  {
   "cell_type": "markdown",
   "id": "02b01380",
   "metadata": {
    "papermill": {
     "duration": 0.2814,
     "end_time": "2021-07-29T12:27:44.867152",
     "exception": false,
     "start_time": "2021-07-29T12:27:44.585752",
     "status": "completed"
    },
    "tags": []
   },
   "source": [
    "## Preprocessing\n",
    "Initially the sentences are present as list of lists.\n",
    "joining the sentences in each inner list into a bigger string as this is what will be fed to teh language model"
   ]
  },
  {
   "cell_type": "code",
   "execution_count": 9,
   "id": "7dccf1b0",
   "metadata": {
    "execution": {
     "iopub.execute_input": "2021-07-29T12:27:45.443278Z",
     "iopub.status.busy": "2021-07-29T12:27:45.442687Z",
     "iopub.status.idle": "2021-07-29T12:27:45.445309Z",
     "shell.execute_reply": "2021-07-29T12:27:45.444866Z",
     "shell.execute_reply.started": "2021-07-29T12:16:58.785821Z"
    },
    "papermill": {
     "duration": 0.289568,
     "end_time": "2021-07-29T12:27:45.445436",
     "exception": false,
     "start_time": "2021-07-29T12:27:45.155868",
     "status": "completed"
    },
    "tags": []
   },
   "outputs": [],
   "source": [
    "def list2str(x):    return ''.join(x)"
   ]
  },
  {
   "cell_type": "code",
   "execution_count": 10,
   "id": "8a0dbb3a",
   "metadata": {
    "execution": {
     "iopub.execute_input": "2021-07-29T12:27:46.077072Z",
     "iopub.status.busy": "2021-07-29T12:27:46.071945Z",
     "iopub.status.idle": "2021-07-29T12:27:46.096723Z",
     "shell.execute_reply": "2021-07-29T12:27:46.097262Z",
     "shell.execute_reply.started": "2021-07-29T12:17:01.053853Z"
    },
    "papermill": {
     "duration": 0.370259,
     "end_time": "2021-07-29T12:27:46.097430",
     "exception": false,
     "start_time": "2021-07-29T12:27:45.727171",
     "status": "completed"
    },
    "tags": []
   },
   "outputs": [],
   "source": [
    "train.map?"
   ]
  },
  {
   "cell_type": "code",
   "execution_count": 11,
   "id": "38a9c8ad",
   "metadata": {
    "execution": {
     "iopub.execute_input": "2021-07-29T12:27:46.665130Z",
     "iopub.status.busy": "2021-07-29T12:27:46.664586Z",
     "iopub.status.idle": "2021-07-29T12:27:46.669966Z",
     "shell.execute_reply": "2021-07-29T12:27:46.669510Z",
     "shell.execute_reply.started": "2021-07-29T12:17:19.278333Z"
    },
    "papermill": {
     "duration": 0.290708,
     "end_time": "2021-07-29T12:27:46.670085",
     "exception": false,
     "start_time": "2021-07-29T12:27:46.379377",
     "status": "completed"
    },
    "tags": []
   },
   "outputs": [
    {
     "data": {
      "text/plain": [
       "(#2) [\"With almost everything else to make them happy , they wanted one thing : they had no children .This vexed the king even more than the queen , who was very clever and learned , and who had hated dolls when she was a child .However , she , too in spite of all the books she read and all the pictures she painted , would have been glad enough to be the mother of a little prince .The king was anxious to consult the fairies , but the queen would not hear of such a thing .She did not believe in fairies : she said that they had never existed ; and that she maintained , though The History of the Royal Family was full of chapters about nothing else .Well , at long and at last they had a little boy , who was generally regarded as the finest baby that had ever been seen .Even her majesty herself remarked that , though she could never believe all the courtiers told her , yet he certainly was a fine child -- a very fine child .Now , the time drew near for the christening party , and the king and queen were sitting at breakfast in their summer parlour talking over it .It was a splendid room , hung with portraits of the royal ancestors .There was Cinderella , the grandmother of the reigning monarch , with her little foot in her glass slipper thrust out before her .There was the Marquis de Carabas , who , as everyone knows , was raised to the throne as prince consort after his marriage with the daughter of the king of the period .On the arm of the throne was seated his celebrated cat , wearing boots .There , too , was a portrait of a beautiful lady , sound asleep : this was Madame La Belle au Bois-dormant , also an ancestress of the royal family .Many other pictures of celebrated persons were hanging on the walls .`` You have asked all the right people , my dear ? ''said the king .`` Everyone who should be asked , '' answered the queen .`` People are so touchy on these occasions , '' said his majesty .`` You have not forgotten any of our aunts ? ''`` No ; the old cats ! ''\",\"With almost everything else to make them happy , they wanted one thing : they had no children .This vexed the king even more than the queen , who was very clever and learned , and who had hated dolls when she was a child .However , she , too in spite of all the books she read and all the pictures she painted , would have been glad enough to be the mother of a little prince .The king was anxious to consult the fairies , but the queen would not hear of such a thing .She did not believe in fairies : she said that they had never existed ; and that she maintained , though The History of the Royal Family was full of chapters about nothing else .Well , at long and at last they had a little boy , who was generally regarded as the finest baby that had ever been seen .Even her majesty herself remarked that , though she could never believe all the courtiers told her , yet he certainly was a fine child -- a very fine child .Now , the time drew near for the christening party , and the king and queen were sitting at breakfast in their summer parlour talking over it .It was a splendid room , hung with portraits of the royal ancestors .There was Cinderella , the grandmother of the reigning monarch , with her little foot in her glass slipper thrust out before her .There was the Marquis de Carabas , who , as everyone knows , was raised to the throne as prince consort after his marriage with the daughter of the king of the period .On the arm of the throne was seated his celebrated cat , wearing boots .There , too , was a portrait of a beautiful lady , sound asleep : this was Madame La Belle au Bois-dormant , also an ancestress of the royal family .Many other pictures of celebrated persons were hanging on the walls .`` You have asked all the right people , my dear ? ''said the king .`` Everyone who should be asked , '' answered the queen .`` People are so touchy on these occasions , '' said his majesty .`` You have not forgotten any of our aunts ? ''`` No ; the old cats ! ''\"]"
      ]
     },
     "execution_count": 11,
     "metadata": {},
     "output_type": "execute_result"
    }
   ],
   "source": [
    "train.map(list2str)"
   ]
  },
  {
   "cell_type": "code",
   "execution_count": 12,
   "id": "4ee0efae",
   "metadata": {
    "execution": {
     "iopub.execute_input": "2021-07-29T12:27:51.309627Z",
     "iopub.status.busy": "2021-07-29T12:27:47.300316Z",
     "iopub.status.idle": "2021-07-29T12:27:51.313153Z",
     "shell.execute_reply": "2021-07-29T12:27:51.312466Z",
     "shell.execute_reply.started": "2021-07-29T12:17:21.662126Z"
    },
    "papermill": {
     "duration": 4.345489,
     "end_time": "2021-07-29T12:27:51.313293",
     "exception": false,
     "start_time": "2021-07-29T12:27:46.967804",
     "status": "completed"
    },
    "tags": []
   },
   "outputs": [],
   "source": [
    "train = L(dataset['train']['sentences'])\n",
    "test = L(dataset['test']['sentences'])\n",
    "validation = L(dataset['validation']['sentences'])"
   ]
  },
  {
   "cell_type": "code",
   "execution_count": 13,
   "id": "8b75dfdb",
   "metadata": {
    "execution": {
     "iopub.execute_input": "2021-07-29T12:27:51.970755Z",
     "iopub.status.busy": "2021-07-29T12:27:51.934544Z",
     "iopub.status.idle": "2021-07-29T12:27:52.699603Z",
     "shell.execute_reply": "2021-07-29T12:27:52.698958Z",
     "shell.execute_reply.started": "2021-07-29T12:17:28.738370Z"
    },
    "papermill": {
     "duration": 1.095829,
     "end_time": "2021-07-29T12:27:52.699752",
     "exception": false,
     "start_time": "2021-07-29T12:27:51.603923",
     "status": "completed"
    },
    "tags": []
   },
   "outputs": [],
   "source": [
    "train_processed = list(train.map(list2str))\n",
    "test_processed = list(test.map(list2str))\n",
    "valid_processed = list(test.map(list2str))"
   ]
  },
  {
   "cell_type": "code",
   "execution_count": 14,
   "id": "f2c7e3a7",
   "metadata": {
    "execution": {
     "iopub.execute_input": "2021-07-29T12:27:53.289390Z",
     "iopub.status.busy": "2021-07-29T12:27:53.288766Z",
     "iopub.status.idle": "2021-07-29T12:27:53.292538Z",
     "shell.execute_reply": "2021-07-29T12:27:53.291893Z",
     "shell.execute_reply.started": "2021-07-29T12:17:33.206898Z"
    },
    "papermill": {
     "duration": 0.301581,
     "end_time": "2021-07-29T12:27:53.292673",
     "exception": false,
     "start_time": "2021-07-29T12:27:52.991092",
     "status": "completed"
    },
    "tags": []
   },
   "outputs": [
    {
     "data": {
      "text/plain": [
       "[\"With almost everything else to make them happy , they wanted one thing : they had no children .This vexed the king even more than the queen , who was very clever and learned , and who had hated dolls when she was a child .However , she , too in spite of all the books she read and all the pictures she painted , would have been glad enough to be the mother of a little prince .The king was anxious to consult the fairies , but the queen would not hear of such a thing .She did not believe in fairies : she said that they had never existed ; and that she maintained , though The History of the Royal Family was full of chapters about nothing else .Well , at long and at last they had a little boy , who was generally regarded as the finest baby that had ever been seen .Even her majesty herself remarked that , though she could never believe all the courtiers told her , yet he certainly was a fine child -- a very fine child .Now , the time drew near for the christening party , and the king and queen were sitting at breakfast in their summer parlour talking over it .It was a splendid room , hung with portraits of the royal ancestors .There was Cinderella , the grandmother of the reigning monarch , with her little foot in her glass slipper thrust out before her .There was the Marquis de Carabas , who , as everyone knows , was raised to the throne as prince consort after his marriage with the daughter of the king of the period .On the arm of the throne was seated his celebrated cat , wearing boots .There , too , was a portrait of a beautiful lady , sound asleep : this was Madame La Belle au Bois-dormant , also an ancestress of the royal family .Many other pictures of celebrated persons were hanging on the walls .`` You have asked all the right people , my dear ? ''said the king .`` Everyone who should be asked , '' answered the queen .`` People are so touchy on these occasions , '' said his majesty .`` You have not forgotten any of our aunts ? ''`` No ; the old cats ! ''\",\n",
       " \"With almost everything else to make them happy , they wanted one thing : they had no children .This vexed the king even more than the queen , who was very clever and learned , and who had hated dolls when she was a child .However , she , too in spite of all the books she read and all the pictures she painted , would have been glad enough to be the mother of a little prince .The king was anxious to consult the fairies , but the queen would not hear of such a thing .She did not believe in fairies : she said that they had never existed ; and that she maintained , though The History of the Royal Family was full of chapters about nothing else .Well , at long and at last they had a little boy , who was generally regarded as the finest baby that had ever been seen .Even her majesty herself remarked that , though she could never believe all the courtiers told her , yet he certainly was a fine child -- a very fine child .Now , the time drew near for the christening party , and the king and queen were sitting at breakfast in their summer parlour talking over it .It was a splendid room , hung with portraits of the royal ancestors .There was Cinderella , the grandmother of the reigning monarch , with her little foot in her glass slipper thrust out before her .There was the Marquis de Carabas , who , as everyone knows , was raised to the throne as prince consort after his marriage with the daughter of the king of the period .On the arm of the throne was seated his celebrated cat , wearing boots .There , too , was a portrait of a beautiful lady , sound asleep : this was Madame La Belle au Bois-dormant , also an ancestress of the royal family .Many other pictures of celebrated persons were hanging on the walls .`` You have asked all the right people , my dear ? ''said the king .`` Everyone who should be asked , '' answered the queen .`` People are so touchy on these occasions , '' said his majesty .`` You have not forgotten any of our aunts ? ''`` No ; the old cats ! ''\"]"
      ]
     },
     "execution_count": 14,
     "metadata": {},
     "output_type": "execute_result"
    }
   ],
   "source": [
    "train_processed[:2]"
   ]
  },
  {
   "cell_type": "markdown",
   "id": "fe594dc2",
   "metadata": {
    "papermill": {
     "duration": 0.279131,
     "end_time": "2021-07-29T12:27:53.857491",
     "exception": false,
     "start_time": "2021-07-29T12:27:53.578360",
     "status": "completed"
    },
    "tags": []
   },
   "source": [
    "joining the lists into a single dataframe"
   ]
  },
  {
   "cell_type": "code",
   "execution_count": 15,
   "id": "7a27204a",
   "metadata": {
    "execution": {
     "iopub.execute_input": "2021-07-29T12:27:54.426467Z",
     "iopub.status.busy": "2021-07-29T12:27:54.425865Z",
     "iopub.status.idle": "2021-07-29T12:27:54.428350Z",
     "shell.execute_reply": "2021-07-29T12:27:54.428757Z",
     "shell.execute_reply.started": "2021-07-29T12:17:37.846030Z"
    },
    "papermill": {
     "duration": 0.28871,
     "end_time": "2021-07-29T12:27:54.428893",
     "exception": false,
     "start_time": "2021-07-29T12:27:54.140183",
     "status": "completed"
    },
    "tags": []
   },
   "outputs": [
    {
     "data": {
      "text/plain": [
       "120769"
      ]
     },
     "execution_count": 15,
     "metadata": {},
     "output_type": "execute_result"
    }
   ],
   "source": [
    "len(train_processed)"
   ]
  },
  {
   "cell_type": "code",
   "execution_count": 16,
   "id": "0dfbdd91",
   "metadata": {
    "execution": {
     "iopub.execute_input": "2021-07-29T12:27:54.997461Z",
     "iopub.status.busy": "2021-07-29T12:27:54.996915Z",
     "iopub.status.idle": "2021-07-29T12:27:54.999728Z",
     "shell.execute_reply": "2021-07-29T12:27:55.000135Z",
     "shell.execute_reply.started": "2021-07-12T09:27:18.313619Z"
    },
    "papermill": {
     "duration": 0.289797,
     "end_time": "2021-07-29T12:27:55.000272",
     "exception": false,
     "start_time": "2021-07-29T12:27:54.710475",
     "status": "completed"
    },
    "tags": []
   },
   "outputs": [],
   "source": [
    "#big_list = list(chain(train_processed, test_processed, valid_processed))"
   ]
  },
  {
   "cell_type": "code",
   "execution_count": 17,
   "id": "c518d737",
   "metadata": {
    "execution": {
     "iopub.execute_input": "2021-07-29T12:27:55.564879Z",
     "iopub.status.busy": "2021-07-29T12:27:55.564364Z",
     "iopub.status.idle": "2021-07-29T12:27:55.567615Z",
     "shell.execute_reply": "2021-07-29T12:27:55.568014Z",
     "shell.execute_reply.started": "2021-07-12T09:27:18.332516Z"
    },
    "papermill": {
     "duration": 0.285346,
     "end_time": "2021-07-29T12:27:55.568181",
     "exception": false,
     "start_time": "2021-07-29T12:27:55.282835",
     "status": "completed"
    },
    "tags": []
   },
   "outputs": [],
   "source": [
    "#len(big_list)"
   ]
  },
  {
   "cell_type": "code",
   "execution_count": 18,
   "id": "9dc45960",
   "metadata": {
    "execution": {
     "iopub.execute_input": "2021-07-29T12:27:56.147450Z",
     "iopub.status.busy": "2021-07-29T12:27:56.146657Z",
     "iopub.status.idle": "2021-07-29T12:27:56.184371Z",
     "shell.execute_reply": "2021-07-29T12:27:56.183873Z",
     "shell.execute_reply.started": "2021-07-29T12:19:14.966462Z"
    },
    "papermill": {
     "duration": 0.337823,
     "end_time": "2021-07-29T12:27:56.184505",
     "exception": false,
     "start_time": "2021-07-29T12:27:55.846682",
     "status": "completed"
    },
    "tags": []
   },
   "outputs": [],
   "source": [
    "df_cbt_train = pd.DataFrame(train_processed, columns=['excerpt'])\n",
    "df_cbt_train['target'] = np.nan\n",
    "df_cbt_test = pd.DataFrame(test_processed, columns=['excerpt'])\n",
    "df_cbt_test['target'] = np.nan\n",
    "df_cbt_valid = pd.DataFrame(valid_processed, columns=['excerpt'])\n",
    "df_cbt_valid['target'] = np.nan"
   ]
  },
  {
   "cell_type": "code",
   "execution_count": 19,
   "id": "e0f0e287",
   "metadata": {
    "execution": {
     "iopub.execute_input": "2021-07-29T12:27:56.748126Z",
     "iopub.status.busy": "2021-07-29T12:27:56.747522Z",
     "iopub.status.idle": "2021-07-29T12:27:56.750692Z",
     "shell.execute_reply": "2021-07-29T12:27:56.749737Z",
     "shell.execute_reply.started": "2021-07-12T09:27:18.378719Z"
    },
    "papermill": {
     "duration": 0.287735,
     "end_time": "2021-07-29T12:27:56.750820",
     "exception": false,
     "start_time": "2021-07-29T12:27:56.463085",
     "status": "completed"
    },
    "tags": []
   },
   "outputs": [],
   "source": [
    "#df_cbt.shape"
   ]
  },
  {
   "cell_type": "code",
   "execution_count": 20,
   "id": "4e300f1a",
   "metadata": {
    "execution": {
     "iopub.execute_input": "2021-07-29T12:27:57.347660Z",
     "iopub.status.busy": "2021-07-29T12:27:57.347094Z",
     "iopub.status.idle": "2021-07-29T12:27:57.361800Z",
     "shell.execute_reply": "2021-07-29T12:27:57.362350Z",
     "shell.execute_reply.started": "2021-07-29T12:19:18.872893Z"
    },
    "papermill": {
     "duration": 0.30125,
     "end_time": "2021-07-29T12:27:57.362534",
     "exception": false,
     "start_time": "2021-07-29T12:27:57.061284",
     "status": "completed"
    },
    "tags": []
   },
   "outputs": [
    {
     "data": {
      "text/html": [
       "<div>\n",
       "<style scoped>\n",
       "    .dataframe tbody tr th:only-of-type {\n",
       "        vertical-align: middle;\n",
       "    }\n",
       "\n",
       "    .dataframe tbody tr th {\n",
       "        vertical-align: top;\n",
       "    }\n",
       "\n",
       "    .dataframe thead th {\n",
       "        text-align: right;\n",
       "    }\n",
       "</style>\n",
       "<table border=\"1\" class=\"dataframe\">\n",
       "  <thead>\n",
       "    <tr style=\"text-align: right;\">\n",
       "      <th></th>\n",
       "      <th>excerpt</th>\n",
       "      <th>target</th>\n",
       "    </tr>\n",
       "  </thead>\n",
       "  <tbody>\n",
       "    <tr>\n",
       "      <th>0</th>\n",
       "      <td>With almost everything else to make them happy...</td>\n",
       "      <td>NaN</td>\n",
       "    </tr>\n",
       "    <tr>\n",
       "      <th>1</th>\n",
       "      <td>With almost everything else to make them happy...</td>\n",
       "      <td>NaN</td>\n",
       "    </tr>\n",
       "  </tbody>\n",
       "</table>\n",
       "</div>"
      ],
      "text/plain": [
       "                                             excerpt  target\n",
       "0  With almost everything else to make them happy...     NaN\n",
       "1  With almost everything else to make them happy...     NaN"
      ]
     },
     "execution_count": 20,
     "metadata": {},
     "output_type": "execute_result"
    }
   ],
   "source": [
    "df_cbt_train.head(2)"
   ]
  },
  {
   "cell_type": "markdown",
   "id": "9fc515d6",
   "metadata": {
    "papermill": {
     "duration": 0.280246,
     "end_time": "2021-07-29T12:27:57.919936",
     "exception": false,
     "start_time": "2021-07-29T12:27:57.639690",
     "status": "completed"
    },
    "tags": []
   },
   "source": [
    "## Pre-processing commonlit data prior to concatenation"
   ]
  },
  {
   "cell_type": "code",
   "execution_count": 21,
   "id": "6afe9d66",
   "metadata": {
    "execution": {
     "iopub.execute_input": "2021-07-29T12:27:58.485948Z",
     "iopub.status.busy": "2021-07-29T12:27:58.485316Z",
     "iopub.status.idle": "2021-07-29T12:27:58.827986Z",
     "shell.execute_reply": "2021-07-29T12:27:58.827419Z",
     "shell.execute_reply.started": "2021-07-29T12:20:07.358841Z"
    },
    "papermill": {
     "duration": 0.624666,
     "end_time": "2021-07-29T12:27:58.828155",
     "exception": false,
     "start_time": "2021-07-29T12:27:58.203489",
     "status": "completed"
    },
    "tags": []
   },
   "outputs": [],
   "source": [
    "df_aug_comlit = pd.read_csv('../input/common-lit-datset-with-synonym-replacement/aug_df.csv')\n",
    "df_train_vanilla_comlit = pd.read_csv('../input/commonlitreadabilityprize/train.csv')\n",
    "df_test_vanilla_comlit = pd.read_csv('../input/commonlitreadabilityprize/test.csv')"
   ]
  },
  {
   "cell_type": "markdown",
   "id": "7b6de758",
   "metadata": {
    "papermill": {
     "duration": 0.316199,
     "end_time": "2021-07-29T12:27:59.428955",
     "exception": false,
     "start_time": "2021-07-29T12:27:59.112756",
     "status": "completed"
    },
    "tags": []
   },
   "source": [
    "functions to drop and concatenate"
   ]
  },
  {
   "cell_type": "code",
   "execution_count": 22,
   "id": "a51cdd93",
   "metadata": {
    "execution": {
     "iopub.execute_input": "2021-07-29T12:27:59.997407Z",
     "iopub.status.busy": "2021-07-29T12:27:59.996755Z",
     "iopub.status.idle": "2021-07-29T12:27:59.999121Z",
     "shell.execute_reply": "2021-07-29T12:27:59.999544Z",
     "shell.execute_reply.started": "2021-07-29T12:20:10.557255Z"
    },
    "papermill": {
     "duration": 0.286729,
     "end_time": "2021-07-29T12:27:59.999698",
     "exception": false,
     "start_time": "2021-07-29T12:27:59.712969",
     "status": "completed"
    },
    "tags": []
   },
   "outputs": [],
   "source": [
    "def drop_cols(df: DataFrame, cols: List) -> DataFrame:\n",
    "    \"\"\"drop the given list of columns from the dataframe\"\"\"\n",
    "    return df.drop(cols, axis=1)\n",
    "\n",
    "def concat_dfs(dfs: List) -> DataFrame:\n",
    "    \"\"\"concatenate two dataframes\"\"\"\n",
    "    return pd.concat(dfs)"
   ]
  },
  {
   "cell_type": "code",
   "execution_count": 23,
   "id": "05396d04",
   "metadata": {
    "execution": {
     "iopub.execute_input": "2021-07-29T12:28:00.581675Z",
     "iopub.status.busy": "2021-07-29T12:28:00.580872Z",
     "iopub.status.idle": "2021-07-29T12:28:00.583928Z",
     "shell.execute_reply": "2021-07-29T12:28:00.584511Z",
     "shell.execute_reply.started": "2021-07-29T12:20:22.144431Z"
    },
    "papermill": {
     "duration": 0.296955,
     "end_time": "2021-07-29T12:28:00.584674",
     "exception": false,
     "start_time": "2021-07-29T12:28:00.287719",
     "status": "completed"
    },
    "tags": []
   },
   "outputs": [],
   "source": [
    "df_aug_comlit = drop_cols(df_aug_comlit, ['Unnamed: 0', \n",
    "                                                  'id',\n",
    "                                                  'url_legal',\n",
    "                                                  'license', \n",
    "                                                  'standard_error'])"
   ]
  },
  {
   "cell_type": "code",
   "execution_count": 24,
   "id": "79a3c42d",
   "metadata": {
    "execution": {
     "iopub.execute_input": "2021-07-29T12:28:01.168399Z",
     "iopub.status.busy": "2021-07-29T12:28:01.167738Z",
     "iopub.status.idle": "2021-07-29T12:28:01.173416Z",
     "shell.execute_reply": "2021-07-29T12:28:01.172872Z",
     "shell.execute_reply.started": "2021-07-29T12:20:34.120121Z"
    },
    "papermill": {
     "duration": 0.298027,
     "end_time": "2021-07-29T12:28:01.173563",
     "exception": false,
     "start_time": "2021-07-29T12:28:00.875536",
     "status": "completed"
    },
    "tags": []
   },
   "outputs": [],
   "source": [
    "df_train_vanilla_comlit = drop_cols(df_train_vanilla_comlit, ['id',\n",
    "                                                              'url_legal',\n",
    "                                                              'license', \n",
    "                                                              'standard_error'])"
   ]
  },
  {
   "cell_type": "code",
   "execution_count": 25,
   "id": "2ac6d0b7",
   "metadata": {
    "execution": {
     "iopub.execute_input": "2021-07-29T12:28:01.748667Z",
     "iopub.status.busy": "2021-07-29T12:28:01.747996Z",
     "iopub.status.idle": "2021-07-29T12:28:01.750455Z",
     "shell.execute_reply": "2021-07-29T12:28:01.750912Z",
     "shell.execute_reply.started": "2021-07-29T12:20:51.723873Z"
    },
    "papermill": {
     "duration": 0.291288,
     "end_time": "2021-07-29T12:28:01.751063",
     "exception": false,
     "start_time": "2021-07-29T12:28:01.459775",
     "status": "completed"
    },
    "tags": []
   },
   "outputs": [
    {
     "data": {
      "text/html": [
       "<div>\n",
       "<style scoped>\n",
       "    .dataframe tbody tr th:only-of-type {\n",
       "        vertical-align: middle;\n",
       "    }\n",
       "\n",
       "    .dataframe tbody tr th {\n",
       "        vertical-align: top;\n",
       "    }\n",
       "\n",
       "    .dataframe thead th {\n",
       "        text-align: right;\n",
       "    }\n",
       "</style>\n",
       "<table border=\"1\" class=\"dataframe\">\n",
       "  <thead>\n",
       "    <tr style=\"text-align: right;\">\n",
       "      <th></th>\n",
       "      <th>excerpt</th>\n",
       "      <th>target</th>\n",
       "    </tr>\n",
       "  </thead>\n",
       "  <tbody>\n",
       "    <tr>\n",
       "      <th>0</th>\n",
       "      <td>When the young people returned to the ballroom...</td>\n",
       "      <td>-0.340259</td>\n",
       "    </tr>\n",
       "  </tbody>\n",
       "</table>\n",
       "</div>"
      ],
      "text/plain": [
       "                                             excerpt    target\n",
       "0  When the young people returned to the ballroom... -0.340259"
      ]
     },
     "execution_count": 25,
     "metadata": {},
     "output_type": "execute_result"
    }
   ],
   "source": [
    "df_aug_comlit.head(1)"
   ]
  },
  {
   "cell_type": "code",
   "execution_count": 26,
   "id": "4b71ede8",
   "metadata": {
    "execution": {
     "iopub.execute_input": "2021-07-29T12:28:02.321272Z",
     "iopub.status.busy": "2021-07-29T12:28:02.320658Z",
     "iopub.status.idle": "2021-07-29T12:28:02.329834Z",
     "shell.execute_reply": "2021-07-29T12:28:02.329390Z",
     "shell.execute_reply.started": "2021-07-29T12:20:56.740550Z"
    },
    "papermill": {
     "duration": 0.29421,
     "end_time": "2021-07-29T12:28:02.329955",
     "exception": false,
     "start_time": "2021-07-29T12:28:02.035745",
     "status": "completed"
    },
    "tags": []
   },
   "outputs": [
    {
     "data": {
      "text/html": [
       "<div>\n",
       "<style scoped>\n",
       "    .dataframe tbody tr th:only-of-type {\n",
       "        vertical-align: middle;\n",
       "    }\n",
       "\n",
       "    .dataframe tbody tr th {\n",
       "        vertical-align: top;\n",
       "    }\n",
       "\n",
       "    .dataframe thead th {\n",
       "        text-align: right;\n",
       "    }\n",
       "</style>\n",
       "<table border=\"1\" class=\"dataframe\">\n",
       "  <thead>\n",
       "    <tr style=\"text-align: right;\">\n",
       "      <th></th>\n",
       "      <th>excerpt</th>\n",
       "      <th>target</th>\n",
       "    </tr>\n",
       "  </thead>\n",
       "  <tbody>\n",
       "    <tr>\n",
       "      <th>0</th>\n",
       "      <td>When the young people returned to the ballroom...</td>\n",
       "      <td>-0.340259</td>\n",
       "    </tr>\n",
       "  </tbody>\n",
       "</table>\n",
       "</div>"
      ],
      "text/plain": [
       "                                             excerpt    target\n",
       "0  When the young people returned to the ballroom... -0.340259"
      ]
     },
     "execution_count": 26,
     "metadata": {},
     "output_type": "execute_result"
    }
   ],
   "source": [
    "df_train_vanilla_comlit.head(1)"
   ]
  },
  {
   "cell_type": "markdown",
   "id": "d8d46fb8",
   "metadata": {
    "papermill": {
     "duration": 0.280417,
     "end_time": "2021-07-29T12:28:02.890636",
     "exception": false,
     "start_time": "2021-07-29T12:28:02.610219",
     "status": "completed"
    },
    "tags": []
   },
   "source": [
    "## Infusing the CBT excerpt with the commonlit excerpt\n",
    "* Preparing two versions-->\n",
    "  * with augmented commonlit\n",
    "  * with train set of vanilla commonlit"
   ]
  },
  {
   "cell_type": "code",
   "execution_count": 27,
   "id": "841fedc6",
   "metadata": {
    "execution": {
     "iopub.execute_input": "2021-07-29T12:28:03.465921Z",
     "iopub.status.busy": "2021-07-29T12:28:03.464844Z",
     "iopub.status.idle": "2021-07-29T12:28:03.491752Z",
     "shell.execute_reply": "2021-07-29T12:28:03.491159Z",
     "shell.execute_reply.started": "2021-07-29T12:21:43.814017Z"
    },
    "papermill": {
     "duration": 0.317938,
     "end_time": "2021-07-29T12:28:03.491907",
     "exception": false,
     "start_time": "2021-07-29T12:28:03.173969",
     "status": "completed"
    },
    "tags": []
   },
   "outputs": [],
   "source": [
    "df_aug_comlit_infused_with_cbt = concat_dfs([df_aug_comlit, df_cbt_train])\n",
    "df_vanilla_comlit_train_infused_with_cbt = concat_dfs([df_train_vanilla_comlit, df_cbt_train])"
   ]
  },
  {
   "cell_type": "code",
   "execution_count": 28,
   "id": "2a4e7612",
   "metadata": {
    "execution": {
     "iopub.execute_input": "2021-07-29T12:28:04.064980Z",
     "iopub.status.busy": "2021-07-29T12:28:04.064435Z",
     "iopub.status.idle": "2021-07-29T12:28:04.068187Z",
     "shell.execute_reply": "2021-07-29T12:28:04.067556Z",
     "shell.execute_reply.started": "2021-07-29T12:21:49.621593Z"
    },
    "papermill": {
     "duration": 0.293491,
     "end_time": "2021-07-29T12:28:04.068312",
     "exception": false,
     "start_time": "2021-07-29T12:28:03.774821",
     "status": "completed"
    },
    "tags": []
   },
   "outputs": [
    {
     "data": {
      "text/plain": [
       "((128178, 2), (123603, 2))"
      ]
     },
     "execution_count": 28,
     "metadata": {},
     "output_type": "execute_result"
    }
   ],
   "source": [
    "df_aug_comlit_infused_with_cbt.shape, df_vanilla_comlit_train_infused_with_cbt.shape"
   ]
  },
  {
   "cell_type": "code",
   "execution_count": 29,
   "id": "711750b4",
   "metadata": {
    "execution": {
     "iopub.execute_input": "2021-07-29T12:28:04.646577Z",
     "iopub.status.busy": "2021-07-29T12:28:04.645673Z",
     "iopub.status.idle": "2021-07-29T12:28:04.649701Z",
     "shell.execute_reply": "2021-07-29T12:28:04.649250Z",
     "shell.execute_reply.started": "2021-07-29T12:21:53.212992Z"
    },
    "papermill": {
     "duration": 0.295769,
     "end_time": "2021-07-29T12:28:04.649826",
     "exception": false,
     "start_time": "2021-07-29T12:28:04.354057",
     "status": "completed"
    },
    "tags": []
   },
   "outputs": [
    {
     "data": {
      "text/html": [
       "<div>\n",
       "<style scoped>\n",
       "    .dataframe tbody tr th:only-of-type {\n",
       "        vertical-align: middle;\n",
       "    }\n",
       "\n",
       "    .dataframe tbody tr th {\n",
       "        vertical-align: top;\n",
       "    }\n",
       "\n",
       "    .dataframe thead th {\n",
       "        text-align: right;\n",
       "    }\n",
       "</style>\n",
       "<table border=\"1\" class=\"dataframe\">\n",
       "  <thead>\n",
       "    <tr style=\"text-align: right;\">\n",
       "      <th></th>\n",
       "      <th>excerpt</th>\n",
       "      <th>target</th>\n",
       "    </tr>\n",
       "  </thead>\n",
       "  <tbody>\n",
       "    <tr>\n",
       "      <th>0</th>\n",
       "      <td>When the young people returned to the ballroom...</td>\n",
       "      <td>-0.340259</td>\n",
       "    </tr>\n",
       "    <tr>\n",
       "      <th>1</th>\n",
       "      <td>All through dinner time, Mrs. Fayre was somewh...</td>\n",
       "      <td>-0.315372</td>\n",
       "    </tr>\n",
       "    <tr>\n",
       "      <th>2</th>\n",
       "      <td>As Roger had predicted, the snow departed as q...</td>\n",
       "      <td>-0.580118</td>\n",
       "    </tr>\n",
       "  </tbody>\n",
       "</table>\n",
       "</div>"
      ],
      "text/plain": [
       "                                             excerpt    target\n",
       "0  When the young people returned to the ballroom... -0.340259\n",
       "1  All through dinner time, Mrs. Fayre was somewh... -0.315372\n",
       "2  As Roger had predicted, the snow departed as q... -0.580118"
      ]
     },
     "execution_count": 29,
     "metadata": {},
     "output_type": "execute_result"
    }
   ],
   "source": [
    "df_aug_comlit_infused_with_cbt.head(3)"
   ]
  },
  {
   "cell_type": "code",
   "execution_count": 30,
   "id": "20ca19c2",
   "metadata": {
    "execution": {
     "iopub.execute_input": "2021-07-29T12:28:05.222917Z",
     "iopub.status.busy": "2021-07-29T12:28:05.221988Z",
     "iopub.status.idle": "2021-07-29T12:28:05.230888Z",
     "shell.execute_reply": "2021-07-29T12:28:05.231414Z",
     "shell.execute_reply.started": "2021-07-29T12:22:11.982238Z"
    },
    "papermill": {
     "duration": 0.300642,
     "end_time": "2021-07-29T12:28:05.231591",
     "exception": false,
     "start_time": "2021-07-29T12:28:04.930949",
     "status": "completed"
    },
    "tags": []
   },
   "outputs": [
    {
     "data": {
      "text/html": [
       "<div>\n",
       "<style scoped>\n",
       "    .dataframe tbody tr th:only-of-type {\n",
       "        vertical-align: middle;\n",
       "    }\n",
       "\n",
       "    .dataframe tbody tr th {\n",
       "        vertical-align: top;\n",
       "    }\n",
       "\n",
       "    .dataframe thead th {\n",
       "        text-align: right;\n",
       "    }\n",
       "</style>\n",
       "<table border=\"1\" class=\"dataframe\">\n",
       "  <thead>\n",
       "    <tr style=\"text-align: right;\">\n",
       "      <th></th>\n",
       "      <th>excerpt</th>\n",
       "      <th>target</th>\n",
       "    </tr>\n",
       "  </thead>\n",
       "  <tbody>\n",
       "    <tr>\n",
       "      <th>120764</th>\n",
       "      <td>Hans Van Ripper as executor of his estate , ex...</td>\n",
       "      <td>NaN</td>\n",
       "    </tr>\n",
       "    <tr>\n",
       "      <th>120765</th>\n",
       "      <td>Hans Van Ripper as executor of his estate , ex...</td>\n",
       "      <td>NaN</td>\n",
       "    </tr>\n",
       "    <tr>\n",
       "      <th>120766</th>\n",
       "      <td>Whatever money the schoolmaster possessed , an...</td>\n",
       "      <td>NaN</td>\n",
       "    </tr>\n",
       "    <tr>\n",
       "      <th>120767</th>\n",
       "      <td>The mysterious event caused much speculation a...</td>\n",
       "      <td>NaN</td>\n",
       "    </tr>\n",
       "    <tr>\n",
       "      <th>120768</th>\n",
       "      <td>Knots of gazers and gossips were collected in ...</td>\n",
       "      <td>NaN</td>\n",
       "    </tr>\n",
       "  </tbody>\n",
       "</table>\n",
       "</div>"
      ],
      "text/plain": [
       "                                                  excerpt  target\n",
       "120764  Hans Van Ripper as executor of his estate , ex...     NaN\n",
       "120765  Hans Van Ripper as executor of his estate , ex...     NaN\n",
       "120766  Whatever money the schoolmaster possessed , an...     NaN\n",
       "120767  The mysterious event caused much speculation a...     NaN\n",
       "120768  Knots of gazers and gossips were collected in ...     NaN"
      ]
     },
     "execution_count": 30,
     "metadata": {},
     "output_type": "execute_result"
    }
   ],
   "source": [
    "df_aug_comlit_infused_with_cbt.tail()"
   ]
  },
  {
   "cell_type": "code",
   "execution_count": 31,
   "id": "32a348a2",
   "metadata": {
    "execution": {
     "iopub.execute_input": "2021-07-29T12:28:05.804804Z",
     "iopub.status.busy": "2021-07-29T12:28:05.803947Z",
     "iopub.status.idle": "2021-07-29T12:28:05.813321Z",
     "shell.execute_reply": "2021-07-29T12:28:05.813800Z",
     "shell.execute_reply.started": "2021-07-29T12:21:58.296708Z"
    },
    "papermill": {
     "duration": 0.29576,
     "end_time": "2021-07-29T12:28:05.813965",
     "exception": false,
     "start_time": "2021-07-29T12:28:05.518205",
     "status": "completed"
    },
    "tags": []
   },
   "outputs": [
    {
     "data": {
      "text/html": [
       "<div>\n",
       "<style scoped>\n",
       "    .dataframe tbody tr th:only-of-type {\n",
       "        vertical-align: middle;\n",
       "    }\n",
       "\n",
       "    .dataframe tbody tr th {\n",
       "        vertical-align: top;\n",
       "    }\n",
       "\n",
       "    .dataframe thead th {\n",
       "        text-align: right;\n",
       "    }\n",
       "</style>\n",
       "<table border=\"1\" class=\"dataframe\">\n",
       "  <thead>\n",
       "    <tr style=\"text-align: right;\">\n",
       "      <th></th>\n",
       "      <th>excerpt</th>\n",
       "      <th>target</th>\n",
       "    </tr>\n",
       "  </thead>\n",
       "  <tbody>\n",
       "    <tr>\n",
       "      <th>0</th>\n",
       "      <td>When the young people returned to the ballroom...</td>\n",
       "      <td>-0.340259</td>\n",
       "    </tr>\n",
       "    <tr>\n",
       "      <th>1</th>\n",
       "      <td>All through dinner time, Mrs. Fayre was somewh...</td>\n",
       "      <td>-0.315372</td>\n",
       "    </tr>\n",
       "    <tr>\n",
       "      <th>2</th>\n",
       "      <td>As Roger had predicted, the snow departed as q...</td>\n",
       "      <td>-0.580118</td>\n",
       "    </tr>\n",
       "  </tbody>\n",
       "</table>\n",
       "</div>"
      ],
      "text/plain": [
       "                                             excerpt    target\n",
       "0  When the young people returned to the ballroom... -0.340259\n",
       "1  All through dinner time, Mrs. Fayre was somewh... -0.315372\n",
       "2  As Roger had predicted, the snow departed as q... -0.580118"
      ]
     },
     "execution_count": 31,
     "metadata": {},
     "output_type": "execute_result"
    }
   ],
   "source": [
    "df_vanilla_comlit_train_infused_with_cbt.head(3)"
   ]
  },
  {
   "cell_type": "markdown",
   "id": "2b2fedd1",
   "metadata": {
    "papermill": {
     "duration": 0.289018,
     "end_time": "2021-07-29T12:28:06.393742",
     "exception": false,
     "start_time": "2021-07-29T12:28:06.104724",
     "status": "completed"
    },
    "tags": []
   },
   "source": [
    "## saving both the dataframes"
   ]
  },
  {
   "cell_type": "code",
   "execution_count": 32,
   "id": "6f83d577",
   "metadata": {
    "execution": {
     "iopub.execute_input": "2021-07-29T12:28:06.973660Z",
     "iopub.status.busy": "2021-07-29T12:28:06.972905Z",
     "iopub.status.idle": "2021-07-29T12:28:39.299144Z",
     "shell.execute_reply": "2021-07-29T12:28:39.298497Z",
     "shell.execute_reply.started": "2021-07-29T12:23:14.926380Z"
    },
    "papermill": {
     "duration": 32.621317,
     "end_time": "2021-07-29T12:28:39.299282",
     "exception": false,
     "start_time": "2021-07-29T12:28:06.677965",
     "status": "completed"
    },
    "tags": []
   },
   "outputs": [],
   "source": [
    "df_aug_comlit_infused_with_cbt.to_csv('aug_comlit_infused_with_cbt.csv')\n",
    "df_vanilla_comlit_train_infused_with_cbt.to_csv('vanilla_comlit_train_infused_with_cbt.csv')\n",
    "df_cbt_train.to_csv('cbt_train.csv')\n",
    "df_cbt_test.to_csv('cbt_test.csv')\n",
    "df_cbt_valid.to_csv('cbt_valid.csv')"
   ]
  },
  {
   "cell_type": "code",
   "execution_count": null,
   "id": "d37b3f8f",
   "metadata": {
    "papermill": {
     "duration": 0.29512,
     "end_time": "2021-07-29T12:28:39.892452",
     "exception": false,
     "start_time": "2021-07-29T12:28:39.597332",
     "status": "completed"
    },
    "tags": []
   },
   "outputs": [],
   "source": []
  }
 ],
 "metadata": {
  "kernelspec": {
   "display_name": "Python 3",
   "language": "python",
   "name": "python3"
  },
  "language_info": {
   "codemirror_mode": {
    "name": "ipython",
    "version": 3
   },
   "file_extension": ".py",
   "mimetype": "text/x-python",
   "name": "python",
   "nbconvert_exporter": "python",
   "pygments_lexer": "ipython3",
   "version": "3.7.10"
  },
  "papermill": {
   "default_parameters": {},
   "duration": 278.049145,
   "end_time": "2021-07-29T12:28:42.167559",
   "environment_variables": {},
   "exception": null,
   "input_path": "__notebook__.ipynb",
   "output_path": "__notebook__.ipynb",
   "parameters": {},
   "start_time": "2021-07-29T12:24:04.118414",
   "version": "2.3.3"
  },
  "widgets": {
   "application/vnd.jupyter.widget-state+json": {
    "state": {
     "03ddbbad8f674782a4d9cbd3fd21ce46": {
      "model_module": "@jupyter-widgets/base",
      "model_module_version": "1.2.0",
      "model_name": "LayoutModel",
      "state": {
       "_model_module": "@jupyter-widgets/base",
       "_model_module_version": "1.2.0",
       "_model_name": "LayoutModel",
       "_view_count": null,
       "_view_module": "@jupyter-widgets/base",
       "_view_module_version": "1.2.0",
       "_view_name": "LayoutView",
       "align_content": null,
       "align_items": null,
       "align_self": null,
       "border": null,
       "bottom": null,
       "display": null,
       "flex": null,
       "flex_flow": null,
       "grid_area": null,
       "grid_auto_columns": null,
       "grid_auto_flow": null,
       "grid_auto_rows": null,
       "grid_column": null,
       "grid_gap": null,
       "grid_row": null,
       "grid_template_areas": null,
       "grid_template_columns": null,
       "grid_template_rows": null,
       "height": null,
       "justify_content": null,
       "justify_items": null,
       "left": null,
       "margin": null,
       "max_height": null,
       "max_width": null,
       "min_height": null,
       "min_width": null,
       "object_fit": null,
       "object_position": null,
       "order": null,
       "overflow": null,
       "overflow_x": null,
       "overflow_y": null,
       "padding": null,
       "right": null,
       "top": null,
       "visibility": null,
       "width": null
      }
     },
     "0503634143a14186b0f69f92f65bb759": {
      "model_module": "@jupyter-widgets/controls",
      "model_module_version": "1.5.0",
      "model_name": "ProgressStyleModel",
      "state": {
       "_model_module": "@jupyter-widgets/controls",
       "_model_module_version": "1.5.0",
       "_model_name": "ProgressStyleModel",
       "_view_count": null,
       "_view_module": "@jupyter-widgets/base",
       "_view_module_version": "1.2.0",
       "_view_name": "StyleView",
       "bar_color": null,
       "description_width": "initial"
      }
     },
     "0afc1c85037149ddbea17ce911b86821": {
      "model_module": "@jupyter-widgets/controls",
      "model_module_version": "1.5.0",
      "model_name": "HTMLModel",
      "state": {
       "_dom_classes": [],
       "_model_module": "@jupyter-widgets/controls",
       "_model_module_version": "1.5.0",
       "_model_name": "HTMLModel",
       "_view_count": null,
       "_view_module": "@jupyter-widgets/controls",
       "_view_module_version": "1.5.0",
       "_view_name": "HTMLView",
       "description": "",
       "description_tooltip": null,
       "layout": "IPY_MODEL_14bffba014a14a8b8c01341072e1ebd4",
       "placeholder": "​",
       "style": "IPY_MODEL_296276eeb9c648b9a5cf0514a7f7f462",
       "value": "&lt;tqdm.auto.tqdm object at 0x7feace262250&gt;"
      }
     },
     "0c6d43e1095e4bada71ec2f7adf79fcd": {
      "model_module": "@jupyter-widgets/controls",
      "model_module_version": "1.5.0",
      "model_name": "ProgressStyleModel",
      "state": {
       "_model_module": "@jupyter-widgets/controls",
       "_model_module_version": "1.5.0",
       "_model_name": "ProgressStyleModel",
       "_view_count": null,
       "_view_module": "@jupyter-widgets/base",
       "_view_module_version": "1.2.0",
       "_view_name": "StyleView",
       "bar_color": null,
       "description_width": "initial"
      }
     },
     "1112f9e917cd41ef9ce440f410acce7c": {
      "model_module": "@jupyter-widgets/base",
      "model_module_version": "1.2.0",
      "model_name": "LayoutModel",
      "state": {
       "_model_module": "@jupyter-widgets/base",
       "_model_module_version": "1.2.0",
       "_model_name": "LayoutModel",
       "_view_count": null,
       "_view_module": "@jupyter-widgets/base",
       "_view_module_version": "1.2.0",
       "_view_name": "LayoutView",
       "align_content": null,
       "align_items": null,
       "align_self": null,
       "border": null,
       "bottom": null,
       "display": null,
       "flex": null,
       "flex_flow": null,
       "grid_area": null,
       "grid_auto_columns": null,
       "grid_auto_flow": null,
       "grid_auto_rows": null,
       "grid_column": null,
       "grid_gap": null,
       "grid_row": null,
       "grid_template_areas": null,
       "grid_template_columns": null,
       "grid_template_rows": null,
       "height": null,
       "justify_content": null,
       "justify_items": null,
       "left": null,
       "margin": null,
       "max_height": null,
       "max_width": null,
       "min_height": null,
       "min_width": null,
       "object_fit": null,
       "object_position": null,
       "order": null,
       "overflow": null,
       "overflow_x": null,
       "overflow_y": null,
       "padding": null,
       "right": null,
       "top": null,
       "visibility": null,
       "width": null
      }
     },
     "14bffba014a14a8b8c01341072e1ebd4": {
      "model_module": "@jupyter-widgets/base",
      "model_module_version": "1.2.0",
      "model_name": "LayoutModel",
      "state": {
       "_model_module": "@jupyter-widgets/base",
       "_model_module_version": "1.2.0",
       "_model_name": "LayoutModel",
       "_view_count": null,
       "_view_module": "@jupyter-widgets/base",
       "_view_module_version": "1.2.0",
       "_view_name": "LayoutView",
       "align_content": null,
       "align_items": null,
       "align_self": null,
       "border": null,
       "bottom": null,
       "display": null,
       "flex": null,
       "flex_flow": null,
       "grid_area": null,
       "grid_auto_columns": null,
       "grid_auto_flow": null,
       "grid_auto_rows": null,
       "grid_column": null,
       "grid_gap": null,
       "grid_row": null,
       "grid_template_areas": null,
       "grid_template_columns": null,
       "grid_template_rows": null,
       "height": null,
       "justify_content": null,
       "justify_items": null,
       "left": null,
       "margin": null,
       "max_height": null,
       "max_width": null,
       "min_height": null,
       "min_width": null,
       "object_fit": null,
       "object_position": null,
       "order": null,
       "overflow": null,
       "overflow_x": null,
       "overflow_y": null,
       "padding": null,
       "right": null,
       "top": null,
       "visibility": null,
       "width": null
      }
     },
     "14c68ae3e8c844b78161949906c65df3": {
      "model_module": "@jupyter-widgets/base",
      "model_module_version": "1.2.0",
      "model_name": "LayoutModel",
      "state": {
       "_model_module": "@jupyter-widgets/base",
       "_model_module_version": "1.2.0",
       "_model_name": "LayoutModel",
       "_view_count": null,
       "_view_module": "@jupyter-widgets/base",
       "_view_module_version": "1.2.0",
       "_view_name": "LayoutView",
       "align_content": null,
       "align_items": null,
       "align_self": null,
       "border": null,
       "bottom": null,
       "display": null,
       "flex": null,
       "flex_flow": null,
       "grid_area": null,
       "grid_auto_columns": null,
       "grid_auto_flow": null,
       "grid_auto_rows": null,
       "grid_column": null,
       "grid_gap": null,
       "grid_row": null,
       "grid_template_areas": null,
       "grid_template_columns": null,
       "grid_template_rows": null,
       "height": null,
       "justify_content": null,
       "justify_items": null,
       "left": null,
       "margin": null,
       "max_height": null,
       "max_width": null,
       "min_height": null,
       "min_width": null,
       "object_fit": null,
       "object_position": null,
       "order": null,
       "overflow": null,
       "overflow_x": null,
       "overflow_y": null,
       "padding": null,
       "right": null,
       "top": null,
       "visibility": null,
       "width": null
      }
     },
     "1bca9954a4a04f01ace908217c775435": {
      "model_module": "@jupyter-widgets/controls",
      "model_module_version": "1.5.0",
      "model_name": "HTMLModel",
      "state": {
       "_dom_classes": [],
       "_model_module": "@jupyter-widgets/controls",
       "_model_module_version": "1.5.0",
       "_model_name": "HTMLModel",
       "_view_count": null,
       "_view_module": "@jupyter-widgets/controls",
       "_view_module_version": "1.5.0",
       "_view_name": "HTMLView",
       "description": "",
       "description_tooltip": null,
       "layout": "IPY_MODEL_5c77ac4829114454bc41aa3d38d2a0e2",
       "placeholder": "​",
       "style": "IPY_MODEL_616ef1d1b4d94afeae22995bb8c54e9d",
       "value": "&lt;tqdm.auto.tqdm object at 0x7feacd191c50&gt;"
      }
     },
     "259d679b6f9f40b989af74bd6a0dc5b3": {
      "model_module": "@jupyter-widgets/controls",
      "model_module_version": "1.5.0",
      "model_name": "HTMLModel",
      "state": {
       "_dom_classes": [],
       "_model_module": "@jupyter-widgets/controls",
       "_model_module_version": "1.5.0",
       "_model_name": "HTMLModel",
       "_view_count": null,
       "_view_module": "@jupyter-widgets/controls",
       "_view_module_version": "1.5.0",
       "_view_name": "HTMLView",
       "description": "",
       "description_tooltip": null,
       "layout": "IPY_MODEL_31e30438acd844e498c84e14d99d4c92",
       "placeholder": "​",
       "style": "IPY_MODEL_64a7d53b816541f688617a808925f76d",
       "value": "&lt;tqdm.auto.tqdm object at 0x7feacdf96e10&gt;"
      }
     },
     "296276eeb9c648b9a5cf0514a7f7f462": {
      "model_module": "@jupyter-widgets/controls",
      "model_module_version": "1.5.0",
      "model_name": "DescriptionStyleModel",
      "state": {
       "_model_module": "@jupyter-widgets/controls",
       "_model_module_version": "1.5.0",
       "_model_name": "DescriptionStyleModel",
       "_view_count": null,
       "_view_module": "@jupyter-widgets/base",
       "_view_module_version": "1.2.0",
       "_view_name": "StyleView",
       "description_width": ""
      }
     },
     "2c0394f66a39431bb3cb005a5cb2df3f": {
      "model_module": "@jupyter-widgets/controls",
      "model_module_version": "1.5.0",
      "model_name": "FloatProgressModel",
      "state": {
       "_dom_classes": [],
       "_model_module": "@jupyter-widgets/controls",
       "_model_module_version": "1.5.0",
       "_model_name": "FloatProgressModel",
       "_view_count": null,
       "_view_module": "@jupyter-widgets/controls",
       "_view_module_version": "1.5.0",
       "_view_name": "ProgressView",
       "bar_style": "info",
       "description": "",
       "description_tooltip": null,
       "layout": "IPY_MODEL_d9cbf97777694653b237ef60c8f0336d",
       "max": 1.0,
       "min": 0.0,
       "orientation": "horizontal",
       "style": "IPY_MODEL_0503634143a14186b0f69f92f65bb759",
       "value": 1.0
      }
     },
     "31e30438acd844e498c84e14d99d4c92": {
      "model_module": "@jupyter-widgets/base",
      "model_module_version": "1.2.0",
      "model_name": "LayoutModel",
      "state": {
       "_model_module": "@jupyter-widgets/base",
       "_model_module_version": "1.2.0",
       "_model_name": "LayoutModel",
       "_view_count": null,
       "_view_module": "@jupyter-widgets/base",
       "_view_module_version": "1.2.0",
       "_view_name": "LayoutView",
       "align_content": null,
       "align_items": null,
       "align_self": null,
       "border": null,
       "bottom": null,
       "display": null,
       "flex": null,
       "flex_flow": null,
       "grid_area": null,
       "grid_auto_columns": null,
       "grid_auto_flow": null,
       "grid_auto_rows": null,
       "grid_column": null,
       "grid_gap": null,
       "grid_row": null,
       "grid_template_areas": null,
       "grid_template_columns": null,
       "grid_template_rows": null,
       "height": null,
       "justify_content": null,
       "justify_items": null,
       "left": null,
       "margin": null,
       "max_height": null,
       "max_width": null,
       "min_height": null,
       "min_width": null,
       "object_fit": null,
       "object_position": null,
       "order": null,
       "overflow": null,
       "overflow_x": null,
       "overflow_y": null,
       "padding": null,
       "right": null,
       "top": null,
       "visibility": null,
       "width": null
      }
     },
     "35ea3c53a98c42349991224bb66f8700": {
      "model_module": "@jupyter-widgets/controls",
      "model_module_version": "1.5.0",
      "model_name": "FloatProgressModel",
      "state": {
       "_dom_classes": [],
       "_model_module": "@jupyter-widgets/controls",
       "_model_module_version": "1.5.0",
       "_model_name": "FloatProgressModel",
       "_view_count": null,
       "_view_module": "@jupyter-widgets/controls",
       "_view_module_version": "1.5.0",
       "_view_name": "ProgressView",
       "bar_style": "info",
       "description": "",
       "description_tooltip": null,
       "layout": "IPY_MODEL_3c01bced5af648059641b91a306484fa",
       "max": 1.0,
       "min": 0.0,
       "orientation": "horizontal",
       "style": "IPY_MODEL_bd3f283f38d3470a9c7ab990f7856ce6",
       "value": 1.0
      }
     },
     "3c01bced5af648059641b91a306484fa": {
      "model_module": "@jupyter-widgets/base",
      "model_module_version": "1.2.0",
      "model_name": "LayoutModel",
      "state": {
       "_model_module": "@jupyter-widgets/base",
       "_model_module_version": "1.2.0",
       "_model_name": "LayoutModel",
       "_view_count": null,
       "_view_module": "@jupyter-widgets/base",
       "_view_module_version": "1.2.0",
       "_view_name": "LayoutView",
       "align_content": null,
       "align_items": null,
       "align_self": null,
       "border": null,
       "bottom": null,
       "display": null,
       "flex": null,
       "flex_flow": null,
       "grid_area": null,
       "grid_auto_columns": null,
       "grid_auto_flow": null,
       "grid_auto_rows": null,
       "grid_column": null,
       "grid_gap": null,
       "grid_row": null,
       "grid_template_areas": null,
       "grid_template_columns": null,
       "grid_template_rows": null,
       "height": null,
       "justify_content": null,
       "justify_items": null,
       "left": null,
       "margin": null,
       "max_height": null,
       "max_width": null,
       "min_height": null,
       "min_width": null,
       "object_fit": null,
       "object_position": null,
       "order": null,
       "overflow": null,
       "overflow_x": null,
       "overflow_y": null,
       "padding": null,
       "right": null,
       "top": null,
       "visibility": null,
       "width": "20px"
      }
     },
     "4a5a31e2fdb447729b8c0e3d9b44aa84": {
      "model_module": "@jupyter-widgets/base",
      "model_module_version": "1.2.0",
      "model_name": "LayoutModel",
      "state": {
       "_model_module": "@jupyter-widgets/base",
       "_model_module_version": "1.2.0",
       "_model_name": "LayoutModel",
       "_view_count": null,
       "_view_module": "@jupyter-widgets/base",
       "_view_module_version": "1.2.0",
       "_view_name": "LayoutView",
       "align_content": null,
       "align_items": null,
       "align_self": null,
       "border": null,
       "bottom": null,
       "display": null,
       "flex": null,
       "flex_flow": null,
       "grid_area": null,
       "grid_auto_columns": null,
       "grid_auto_flow": null,
       "grid_auto_rows": null,
       "grid_column": null,
       "grid_gap": null,
       "grid_row": null,
       "grid_template_areas": null,
       "grid_template_columns": null,
       "grid_template_rows": null,
       "height": null,
       "justify_content": null,
       "justify_items": null,
       "left": null,
       "margin": null,
       "max_height": null,
       "max_width": null,
       "min_height": null,
       "min_width": null,
       "object_fit": null,
       "object_position": null,
       "order": null,
       "overflow": null,
       "overflow_x": null,
       "overflow_y": null,
       "padding": null,
       "right": null,
       "top": null,
       "visibility": null,
       "width": null
      }
     },
     "5c77ac4829114454bc41aa3d38d2a0e2": {
      "model_module": "@jupyter-widgets/base",
      "model_module_version": "1.2.0",
      "model_name": "LayoutModel",
      "state": {
       "_model_module": "@jupyter-widgets/base",
       "_model_module_version": "1.2.0",
       "_model_name": "LayoutModel",
       "_view_count": null,
       "_view_module": "@jupyter-widgets/base",
       "_view_module_version": "1.2.0",
       "_view_name": "LayoutView",
       "align_content": null,
       "align_items": null,
       "align_self": null,
       "border": null,
       "bottom": null,
       "display": null,
       "flex": null,
       "flex_flow": null,
       "grid_area": null,
       "grid_auto_columns": null,
       "grid_auto_flow": null,
       "grid_auto_rows": null,
       "grid_column": null,
       "grid_gap": null,
       "grid_row": null,
       "grid_template_areas": null,
       "grid_template_columns": null,
       "grid_template_rows": null,
       "height": null,
       "justify_content": null,
       "justify_items": null,
       "left": null,
       "margin": null,
       "max_height": null,
       "max_width": null,
       "min_height": null,
       "min_width": null,
       "object_fit": null,
       "object_position": null,
       "order": null,
       "overflow": null,
       "overflow_x": null,
       "overflow_y": null,
       "padding": null,
       "right": null,
       "top": null,
       "visibility": null,
       "width": null
      }
     },
     "616ef1d1b4d94afeae22995bb8c54e9d": {
      "model_module": "@jupyter-widgets/controls",
      "model_module_version": "1.5.0",
      "model_name": "DescriptionStyleModel",
      "state": {
       "_model_module": "@jupyter-widgets/controls",
       "_model_module_version": "1.5.0",
       "_model_name": "DescriptionStyleModel",
       "_view_count": null,
       "_view_module": "@jupyter-widgets/base",
       "_view_module_version": "1.2.0",
       "_view_name": "StyleView",
       "description_width": ""
      }
     },
     "64a7d53b816541f688617a808925f76d": {
      "model_module": "@jupyter-widgets/controls",
      "model_module_version": "1.5.0",
      "model_name": "DescriptionStyleModel",
      "state": {
       "_model_module": "@jupyter-widgets/controls",
       "_model_module_version": "1.5.0",
       "_model_name": "DescriptionStyleModel",
       "_view_count": null,
       "_view_module": "@jupyter-widgets/base",
       "_view_module_version": "1.2.0",
       "_view_name": "StyleView",
       "description_width": ""
      }
     },
     "6d201ffb739c4837840b8fd3ed374cfb": {
      "model_module": "@jupyter-widgets/controls",
      "model_module_version": "1.5.0",
      "model_name": "HTMLModel",
      "state": {
       "_dom_classes": [],
       "_model_module": "@jupyter-widgets/controls",
       "_model_module_version": "1.5.0",
       "_model_name": "HTMLModel",
       "_view_count": null,
       "_view_module": "@jupyter-widgets/controls",
       "_view_module_version": "1.5.0",
       "_view_name": "HTMLView",
       "description": "",
       "description_tooltip": null,
       "layout": "IPY_MODEL_4a5a31e2fdb447729b8c0e3d9b44aa84",
       "placeholder": "​",
       "style": "IPY_MODEL_f29bbb403b4c4f5e9a9564f565309d93",
       "value": "&lt;tqdm.auto.tqdm object at 0x7fead408b1d0&gt;"
      }
     },
     "73df5e3397f04536a39990c9feac1f43": {
      "model_module": "@jupyter-widgets/controls",
      "model_module_version": "1.5.0",
      "model_name": "ProgressStyleModel",
      "state": {
       "_model_module": "@jupyter-widgets/controls",
       "_model_module_version": "1.5.0",
       "_model_name": "ProgressStyleModel",
       "_view_count": null,
       "_view_module": "@jupyter-widgets/base",
       "_view_module_version": "1.2.0",
       "_view_name": "StyleView",
       "bar_color": null,
       "description_width": "initial"
      }
     },
     "76d3047adceb46909392f45b45b368e8": {
      "model_module": "@jupyter-widgets/base",
      "model_module_version": "1.2.0",
      "model_name": "LayoutModel",
      "state": {
       "_model_module": "@jupyter-widgets/base",
       "_model_module_version": "1.2.0",
       "_model_name": "LayoutModel",
       "_view_count": null,
       "_view_module": "@jupyter-widgets/base",
       "_view_module_version": "1.2.0",
       "_view_name": "LayoutView",
       "align_content": null,
       "align_items": null,
       "align_self": null,
       "border": null,
       "bottom": null,
       "display": null,
       "flex": null,
       "flex_flow": null,
       "grid_area": null,
       "grid_auto_columns": null,
       "grid_auto_flow": null,
       "grid_auto_rows": null,
       "grid_column": null,
       "grid_gap": null,
       "grid_row": null,
       "grid_template_areas": null,
       "grid_template_columns": null,
       "grid_template_rows": null,
       "height": null,
       "justify_content": null,
       "justify_items": null,
       "left": null,
       "margin": null,
       "max_height": null,
       "max_width": null,
       "min_height": null,
       "min_width": null,
       "object_fit": null,
       "object_position": null,
       "order": null,
       "overflow": null,
       "overflow_x": null,
       "overflow_y": null,
       "padding": null,
       "right": null,
       "top": null,
       "visibility": null,
       "width": null
      }
     },
     "7ac17ec9d9a44ad996e7a589a64dc8ae": {
      "model_module": "@jupyter-widgets/controls",
      "model_module_version": "1.5.0",
      "model_name": "HTMLModel",
      "state": {
       "_dom_classes": [],
       "_model_module": "@jupyter-widgets/controls",
       "_model_module_version": "1.5.0",
       "_model_name": "HTMLModel",
       "_view_count": null,
       "_view_module": "@jupyter-widgets/controls",
       "_view_module_version": "1.5.0",
       "_view_name": "HTMLView",
       "description": "",
       "description_tooltip": null,
       "layout": "IPY_MODEL_03ddbbad8f674782a4d9cbd3fd21ce46",
       "placeholder": "​",
       "style": "IPY_MODEL_93a2f920be8449298ac8153c3be0f37e",
       "value": "&lt;tqdm.auto.tqdm object at 0x7fead40e1890&gt;"
      }
     },
     "7c61660bbfdf48e28c517e4b17bfab76": {
      "model_module": "@jupyter-widgets/controls",
      "model_module_version": "1.5.0",
      "model_name": "ProgressStyleModel",
      "state": {
       "_model_module": "@jupyter-widgets/controls",
       "_model_module_version": "1.5.0",
       "_model_name": "ProgressStyleModel",
       "_view_count": null,
       "_view_module": "@jupyter-widgets/base",
       "_view_module_version": "1.2.0",
       "_view_name": "StyleView",
       "bar_color": null,
       "description_width": "initial"
      }
     },
     "8b9fe8ba7d3c49caae06bc45592c5327": {
      "model_module": "@jupyter-widgets/base",
      "model_module_version": "1.2.0",
      "model_name": "LayoutModel",
      "state": {
       "_model_module": "@jupyter-widgets/base",
       "_model_module_version": "1.2.0",
       "_model_name": "LayoutModel",
       "_view_count": null,
       "_view_module": "@jupyter-widgets/base",
       "_view_module_version": "1.2.0",
       "_view_name": "LayoutView",
       "align_content": null,
       "align_items": null,
       "align_self": null,
       "border": null,
       "bottom": null,
       "display": null,
       "flex": null,
       "flex_flow": null,
       "grid_area": null,
       "grid_auto_columns": null,
       "grid_auto_flow": null,
       "grid_auto_rows": null,
       "grid_column": null,
       "grid_gap": null,
       "grid_row": null,
       "grid_template_areas": null,
       "grid_template_columns": null,
       "grid_template_rows": null,
       "height": null,
       "justify_content": null,
       "justify_items": null,
       "left": null,
       "margin": null,
       "max_height": null,
       "max_width": null,
       "min_height": null,
       "min_width": null,
       "object_fit": null,
       "object_position": null,
       "order": null,
       "overflow": null,
       "overflow_x": null,
       "overflow_y": null,
       "padding": null,
       "right": null,
       "top": null,
       "visibility": null,
       "width": null
      }
     },
     "93a2f920be8449298ac8153c3be0f37e": {
      "model_module": "@jupyter-widgets/controls",
      "model_module_version": "1.5.0",
      "model_name": "DescriptionStyleModel",
      "state": {
       "_model_module": "@jupyter-widgets/controls",
       "_model_module_version": "1.5.0",
       "_model_name": "DescriptionStyleModel",
       "_view_count": null,
       "_view_module": "@jupyter-widgets/base",
       "_view_module_version": "1.2.0",
       "_view_name": "StyleView",
       "description_width": ""
      }
     },
     "977e6d3a25974a768619db584843c97a": {
      "model_module": "@jupyter-widgets/controls",
      "model_module_version": "1.5.0",
      "model_name": "HTMLModel",
      "state": {
       "_dom_classes": [],
       "_model_module": "@jupyter-widgets/controls",
       "_model_module_version": "1.5.0",
       "_model_name": "HTMLModel",
       "_view_count": null,
       "_view_module": "@jupyter-widgets/controls",
       "_view_module_version": "1.5.0",
       "_view_name": "HTMLView",
       "description": "",
       "description_tooltip": null,
       "layout": "IPY_MODEL_76d3047adceb46909392f45b45b368e8",
       "placeholder": "​",
       "style": "IPY_MODEL_dcbfbd6274154edeb2fb9d2e3a46edfa",
       "value": "&lt;tqdm.auto.tqdm object at 0x7fead40c9510&gt;"
      }
     },
     "9b826bb85d1a431489350e03d40bcdcf": {
      "model_module": "@jupyter-widgets/controls",
      "model_module_version": "1.5.0",
      "model_name": "HBoxModel",
      "state": {
       "_dom_classes": [],
       "_model_module": "@jupyter-widgets/controls",
       "_model_module_version": "1.5.0",
       "_model_name": "HBoxModel",
       "_view_count": null,
       "_view_module": "@jupyter-widgets/controls",
       "_view_module_version": "1.5.0",
       "_view_name": "HBoxView",
       "box_style": "",
       "children": [
        "IPY_MODEL_e7733ef9ea8844ba94a7a7d437760726",
        "IPY_MODEL_977e6d3a25974a768619db584843c97a"
       ],
       "layout": "IPY_MODEL_14c68ae3e8c844b78161949906c65df3"
      }
     },
     "9d59c30577094b4dbf15ae44d8150a9f": {
      "model_module": "@jupyter-widgets/base",
      "model_module_version": "1.2.0",
      "model_name": "LayoutModel",
      "state": {
       "_model_module": "@jupyter-widgets/base",
       "_model_module_version": "1.2.0",
       "_model_name": "LayoutModel",
       "_view_count": null,
       "_view_module": "@jupyter-widgets/base",
       "_view_module_version": "1.2.0",
       "_view_name": "LayoutView",
       "align_content": null,
       "align_items": null,
       "align_self": null,
       "border": null,
       "bottom": null,
       "display": null,
       "flex": null,
       "flex_flow": null,
       "grid_area": null,
       "grid_auto_columns": null,
       "grid_auto_flow": null,
       "grid_auto_rows": null,
       "grid_column": null,
       "grid_gap": null,
       "grid_row": null,
       "grid_template_areas": null,
       "grid_template_columns": null,
       "grid_template_rows": null,
       "height": null,
       "justify_content": null,
       "justify_items": null,
       "left": null,
       "margin": null,
       "max_height": null,
       "max_width": null,
       "min_height": null,
       "min_width": null,
       "object_fit": null,
       "object_position": null,
       "order": null,
       "overflow": null,
       "overflow_x": null,
       "overflow_y": null,
       "padding": null,
       "right": null,
       "top": null,
       "visibility": null,
       "width": null
      }
     },
     "9e5b32637c794e548b0be319b9c0cc50": {
      "model_module": "@jupyter-widgets/base",
      "model_module_version": "1.2.0",
      "model_name": "LayoutModel",
      "state": {
       "_model_module": "@jupyter-widgets/base",
       "_model_module_version": "1.2.0",
       "_model_name": "LayoutModel",
       "_view_count": null,
       "_view_module": "@jupyter-widgets/base",
       "_view_module_version": "1.2.0",
       "_view_name": "LayoutView",
       "align_content": null,
       "align_items": null,
       "align_self": null,
       "border": null,
       "bottom": null,
       "display": null,
       "flex": null,
       "flex_flow": null,
       "grid_area": null,
       "grid_auto_columns": null,
       "grid_auto_flow": null,
       "grid_auto_rows": null,
       "grid_column": null,
       "grid_gap": null,
       "grid_row": null,
       "grid_template_areas": null,
       "grid_template_columns": null,
       "grid_template_rows": null,
       "height": null,
       "justify_content": null,
       "justify_items": null,
       "left": null,
       "margin": null,
       "max_height": null,
       "max_width": null,
       "min_height": null,
       "min_width": null,
       "object_fit": null,
       "object_position": null,
       "order": null,
       "overflow": null,
       "overflow_x": null,
       "overflow_y": null,
       "padding": null,
       "right": null,
       "top": null,
       "visibility": null,
       "width": null
      }
     },
     "a324fe6de2214f3f959f95c73ed7494e": {
      "model_module": "@jupyter-widgets/controls",
      "model_module_version": "1.5.0",
      "model_name": "HBoxModel",
      "state": {
       "_dom_classes": [],
       "_model_module": "@jupyter-widgets/controls",
       "_model_module_version": "1.5.0",
       "_model_name": "HBoxModel",
       "_view_count": null,
       "_view_module": "@jupyter-widgets/controls",
       "_view_module_version": "1.5.0",
       "_view_name": "HBoxView",
       "box_style": "",
       "children": [
        "IPY_MODEL_d479ebff43964b8f9084bed2cf36d13b",
        "IPY_MODEL_0afc1c85037149ddbea17ce911b86821"
       ],
       "layout": "IPY_MODEL_ca235936840346b6be37bb5ad0a090a8"
      }
     },
     "b572347511f24d91855e376c18727366": {
      "model_module": "@jupyter-widgets/base",
      "model_module_version": "1.2.0",
      "model_name": "LayoutModel",
      "state": {
       "_model_module": "@jupyter-widgets/base",
       "_model_module_version": "1.2.0",
       "_model_name": "LayoutModel",
       "_view_count": null,
       "_view_module": "@jupyter-widgets/base",
       "_view_module_version": "1.2.0",
       "_view_name": "LayoutView",
       "align_content": null,
       "align_items": null,
       "align_self": null,
       "border": null,
       "bottom": null,
       "display": null,
       "flex": null,
       "flex_flow": null,
       "grid_area": null,
       "grid_auto_columns": null,
       "grid_auto_flow": null,
       "grid_auto_rows": null,
       "grid_column": null,
       "grid_gap": null,
       "grid_row": null,
       "grid_template_areas": null,
       "grid_template_columns": null,
       "grid_template_rows": null,
       "height": null,
       "justify_content": null,
       "justify_items": null,
       "left": null,
       "margin": null,
       "max_height": null,
       "max_width": null,
       "min_height": null,
       "min_width": null,
       "object_fit": null,
       "object_position": null,
       "order": null,
       "overflow": null,
       "overflow_x": null,
       "overflow_y": null,
       "padding": null,
       "right": null,
       "top": null,
       "visibility": null,
       "width": null
      }
     },
     "bd3f283f38d3470a9c7ab990f7856ce6": {
      "model_module": "@jupyter-widgets/controls",
      "model_module_version": "1.5.0",
      "model_name": "ProgressStyleModel",
      "state": {
       "_model_module": "@jupyter-widgets/controls",
       "_model_module_version": "1.5.0",
       "_model_name": "ProgressStyleModel",
       "_view_count": null,
       "_view_module": "@jupyter-widgets/base",
       "_view_module_version": "1.2.0",
       "_view_name": "StyleView",
       "bar_color": null,
       "description_width": "initial"
      }
     },
     "bdbf6ae4a2434960b9da5c7d61aed268": {
      "model_module": "@jupyter-widgets/base",
      "model_module_version": "1.2.0",
      "model_name": "LayoutModel",
      "state": {
       "_model_module": "@jupyter-widgets/base",
       "_model_module_version": "1.2.0",
       "_model_name": "LayoutModel",
       "_view_count": null,
       "_view_module": "@jupyter-widgets/base",
       "_view_module_version": "1.2.0",
       "_view_name": "LayoutView",
       "align_content": null,
       "align_items": null,
       "align_self": null,
       "border": null,
       "bottom": null,
       "display": null,
       "flex": null,
       "flex_flow": null,
       "grid_area": null,
       "grid_auto_columns": null,
       "grid_auto_flow": null,
       "grid_auto_rows": null,
       "grid_column": null,
       "grid_gap": null,
       "grid_row": null,
       "grid_template_areas": null,
       "grid_template_columns": null,
       "grid_template_rows": null,
       "height": null,
       "justify_content": null,
       "justify_items": null,
       "left": null,
       "margin": null,
       "max_height": null,
       "max_width": null,
       "min_height": null,
       "min_width": null,
       "object_fit": null,
       "object_position": null,
       "order": null,
       "overflow": null,
       "overflow_x": null,
       "overflow_y": null,
       "padding": null,
       "right": null,
       "top": null,
       "visibility": null,
       "width": null
      }
     },
     "befee6100e95444a93360e7dc5938aa0": {
      "model_module": "@jupyter-widgets/controls",
      "model_module_version": "1.5.0",
      "model_name": "ProgressStyleModel",
      "state": {
       "_model_module": "@jupyter-widgets/controls",
       "_model_module_version": "1.5.0",
       "_model_name": "ProgressStyleModel",
       "_view_count": null,
       "_view_module": "@jupyter-widgets/base",
       "_view_module_version": "1.2.0",
       "_view_name": "StyleView",
       "bar_color": null,
       "description_width": "initial"
      }
     },
     "c618af25fee24d098ac99eecaf8c52b1": {
      "model_module": "@jupyter-widgets/controls",
      "model_module_version": "1.5.0",
      "model_name": "HBoxModel",
      "state": {
       "_dom_classes": [],
       "_model_module": "@jupyter-widgets/controls",
       "_model_module_version": "1.5.0",
       "_model_name": "HBoxModel",
       "_view_count": null,
       "_view_module": "@jupyter-widgets/controls",
       "_view_module_version": "1.5.0",
       "_view_name": "HBoxView",
       "box_style": "",
       "children": [
        "IPY_MODEL_f411cecc6e0e40398e8784b1cb323ef5",
        "IPY_MODEL_7ac17ec9d9a44ad996e7a589a64dc8ae"
       ],
       "layout": "IPY_MODEL_9d59c30577094b4dbf15ae44d8150a9f"
      }
     },
     "ca235936840346b6be37bb5ad0a090a8": {
      "model_module": "@jupyter-widgets/base",
      "model_module_version": "1.2.0",
      "model_name": "LayoutModel",
      "state": {
       "_model_module": "@jupyter-widgets/base",
       "_model_module_version": "1.2.0",
       "_model_name": "LayoutModel",
       "_view_count": null,
       "_view_module": "@jupyter-widgets/base",
       "_view_module_version": "1.2.0",
       "_view_name": "LayoutView",
       "align_content": null,
       "align_items": null,
       "align_self": null,
       "border": null,
       "bottom": null,
       "display": null,
       "flex": null,
       "flex_flow": null,
       "grid_area": null,
       "grid_auto_columns": null,
       "grid_auto_flow": null,
       "grid_auto_rows": null,
       "grid_column": null,
       "grid_gap": null,
       "grid_row": null,
       "grid_template_areas": null,
       "grid_template_columns": null,
       "grid_template_rows": null,
       "height": null,
       "justify_content": null,
       "justify_items": null,
       "left": null,
       "margin": null,
       "max_height": null,
       "max_width": null,
       "min_height": null,
       "min_width": null,
       "object_fit": null,
       "object_position": null,
       "order": null,
       "overflow": null,
       "overflow_x": null,
       "overflow_y": null,
       "padding": null,
       "right": null,
       "top": null,
       "visibility": null,
       "width": null
      }
     },
     "d479ebff43964b8f9084bed2cf36d13b": {
      "model_module": "@jupyter-widgets/controls",
      "model_module_version": "1.5.0",
      "model_name": "FloatProgressModel",
      "state": {
       "_dom_classes": [],
       "_model_module": "@jupyter-widgets/controls",
       "_model_module_version": "1.5.0",
       "_model_name": "FloatProgressModel",
       "_view_count": null,
       "_view_module": "@jupyter-widgets/controls",
       "_view_module_version": "1.5.0",
       "_view_name": "ProgressView",
       "bar_style": "info",
       "description": "",
       "description_tooltip": null,
       "layout": "IPY_MODEL_f2e15ee55d1045379e5679131e9f7d73",
       "max": 1.0,
       "min": 0.0,
       "orientation": "horizontal",
       "style": "IPY_MODEL_befee6100e95444a93360e7dc5938aa0",
       "value": 1.0
      }
     },
     "d9cbf97777694653b237ef60c8f0336d": {
      "model_module": "@jupyter-widgets/base",
      "model_module_version": "1.2.0",
      "model_name": "LayoutModel",
      "state": {
       "_model_module": "@jupyter-widgets/base",
       "_model_module_version": "1.2.0",
       "_model_name": "LayoutModel",
       "_view_count": null,
       "_view_module": "@jupyter-widgets/base",
       "_view_module_version": "1.2.0",
       "_view_name": "LayoutView",
       "align_content": null,
       "align_items": null,
       "align_self": null,
       "border": null,
       "bottom": null,
       "display": null,
       "flex": null,
       "flex_flow": null,
       "grid_area": null,
       "grid_auto_columns": null,
       "grid_auto_flow": null,
       "grid_auto_rows": null,
       "grid_column": null,
       "grid_gap": null,
       "grid_row": null,
       "grid_template_areas": null,
       "grid_template_columns": null,
       "grid_template_rows": null,
       "height": null,
       "justify_content": null,
       "justify_items": null,
       "left": null,
       "margin": null,
       "max_height": null,
       "max_width": null,
       "min_height": null,
       "min_width": null,
       "object_fit": null,
       "object_position": null,
       "order": null,
       "overflow": null,
       "overflow_x": null,
       "overflow_y": null,
       "padding": null,
       "right": null,
       "top": null,
       "visibility": null,
       "width": "20px"
      }
     },
     "dba4720696154302bb14a405b6e517ed": {
      "model_module": "@jupyter-widgets/base",
      "model_module_version": "1.2.0",
      "model_name": "LayoutModel",
      "state": {
       "_model_module": "@jupyter-widgets/base",
       "_model_module_version": "1.2.0",
       "_model_name": "LayoutModel",
       "_view_count": null,
       "_view_module": "@jupyter-widgets/base",
       "_view_module_version": "1.2.0",
       "_view_name": "LayoutView",
       "align_content": null,
       "align_items": null,
       "align_self": null,
       "border": null,
       "bottom": null,
       "display": null,
       "flex": null,
       "flex_flow": null,
       "grid_area": null,
       "grid_auto_columns": null,
       "grid_auto_flow": null,
       "grid_auto_rows": null,
       "grid_column": null,
       "grid_gap": null,
       "grid_row": null,
       "grid_template_areas": null,
       "grid_template_columns": null,
       "grid_template_rows": null,
       "height": null,
       "justify_content": null,
       "justify_items": null,
       "left": null,
       "margin": null,
       "max_height": null,
       "max_width": null,
       "min_height": null,
       "min_width": null,
       "object_fit": null,
       "object_position": null,
       "order": null,
       "overflow": null,
       "overflow_x": null,
       "overflow_y": null,
       "padding": null,
       "right": null,
       "top": null,
       "visibility": null,
       "width": null
      }
     },
     "dcbfbd6274154edeb2fb9d2e3a46edfa": {
      "model_module": "@jupyter-widgets/controls",
      "model_module_version": "1.5.0",
      "model_name": "DescriptionStyleModel",
      "state": {
       "_model_module": "@jupyter-widgets/controls",
       "_model_module_version": "1.5.0",
       "_model_name": "DescriptionStyleModel",
       "_view_count": null,
       "_view_module": "@jupyter-widgets/base",
       "_view_module_version": "1.2.0",
       "_view_name": "StyleView",
       "description_width": ""
      }
     },
     "de2a1ab45c9f4d0d855f3c764bcd9582": {
      "model_module": "@jupyter-widgets/controls",
      "model_module_version": "1.5.0",
      "model_name": "FloatProgressModel",
      "state": {
       "_dom_classes": [],
       "_model_module": "@jupyter-widgets/controls",
       "_model_module_version": "1.5.0",
       "_model_name": "FloatProgressModel",
       "_view_count": null,
       "_view_module": "@jupyter-widgets/controls",
       "_view_module_version": "1.5.0",
       "_view_name": "ProgressView",
       "bar_style": "success",
       "description": "",
       "description_tooltip": null,
       "layout": "IPY_MODEL_dba4720696154302bb14a405b6e517ed",
       "max": 120547669.0,
       "min": 0.0,
       "orientation": "horizontal",
       "style": "IPY_MODEL_7c61660bbfdf48e28c517e4b17bfab76",
       "value": 120547669.0
      }
     },
     "e7733ef9ea8844ba94a7a7d437760726": {
      "model_module": "@jupyter-widgets/controls",
      "model_module_version": "1.5.0",
      "model_name": "FloatProgressModel",
      "state": {
       "_dom_classes": [],
       "_model_module": "@jupyter-widgets/controls",
       "_model_module_version": "1.5.0",
       "_model_name": "FloatProgressModel",
       "_view_count": null,
       "_view_module": "@jupyter-widgets/controls",
       "_view_module_version": "1.5.0",
       "_view_name": "ProgressView",
       "bar_style": "success",
       "description": "",
       "description_tooltip": null,
       "layout": "IPY_MODEL_9e5b32637c794e548b0be319b9c0cc50",
       "max": 1185.0,
       "min": 0.0,
       "orientation": "horizontal",
       "style": "IPY_MODEL_0c6d43e1095e4bada71ec2f7adf79fcd",
       "value": 1185.0
      }
     },
     "ed904089b28041bebd7e3377bd7df0ab": {
      "model_module": "@jupyter-widgets/controls",
      "model_module_version": "1.5.0",
      "model_name": "HBoxModel",
      "state": {
       "_dom_classes": [],
       "_model_module": "@jupyter-widgets/controls",
       "_model_module_version": "1.5.0",
       "_model_name": "HBoxModel",
       "_view_count": null,
       "_view_module": "@jupyter-widgets/controls",
       "_view_module_version": "1.5.0",
       "_view_name": "HBoxView",
       "box_style": "",
       "children": [
        "IPY_MODEL_35ea3c53a98c42349991224bb66f8700",
        "IPY_MODEL_1bca9954a4a04f01ace908217c775435"
       ],
       "layout": "IPY_MODEL_bdbf6ae4a2434960b9da5c7d61aed268"
      }
     },
     "f29bbb403b4c4f5e9a9564f565309d93": {
      "model_module": "@jupyter-widgets/controls",
      "model_module_version": "1.5.0",
      "model_name": "DescriptionStyleModel",
      "state": {
       "_model_module": "@jupyter-widgets/controls",
       "_model_module_version": "1.5.0",
       "_model_name": "DescriptionStyleModel",
       "_view_count": null,
       "_view_module": "@jupyter-widgets/base",
       "_view_module_version": "1.2.0",
       "_view_name": "StyleView",
       "description_width": ""
      }
     },
     "f2e15ee55d1045379e5679131e9f7d73": {
      "model_module": "@jupyter-widgets/base",
      "model_module_version": "1.2.0",
      "model_name": "LayoutModel",
      "state": {
       "_model_module": "@jupyter-widgets/base",
       "_model_module_version": "1.2.0",
       "_model_name": "LayoutModel",
       "_view_count": null,
       "_view_module": "@jupyter-widgets/base",
       "_view_module_version": "1.2.0",
       "_view_name": "LayoutView",
       "align_content": null,
       "align_items": null,
       "align_self": null,
       "border": null,
       "bottom": null,
       "display": null,
       "flex": null,
       "flex_flow": null,
       "grid_area": null,
       "grid_auto_columns": null,
       "grid_auto_flow": null,
       "grid_auto_rows": null,
       "grid_column": null,
       "grid_gap": null,
       "grid_row": null,
       "grid_template_areas": null,
       "grid_template_columns": null,
       "grid_template_rows": null,
       "height": null,
       "justify_content": null,
       "justify_items": null,
       "left": null,
       "margin": null,
       "max_height": null,
       "max_width": null,
       "min_height": null,
       "min_width": null,
       "object_fit": null,
       "object_position": null,
       "order": null,
       "overflow": null,
       "overflow_x": null,
       "overflow_y": null,
       "padding": null,
       "right": null,
       "top": null,
       "visibility": null,
       "width": "20px"
      }
     },
     "f411cecc6e0e40398e8784b1cb323ef5": {
      "model_module": "@jupyter-widgets/controls",
      "model_module_version": "1.5.0",
      "model_name": "FloatProgressModel",
      "state": {
       "_dom_classes": [],
       "_model_module": "@jupyter-widgets/controls",
       "_model_module_version": "1.5.0",
       "_model_name": "FloatProgressModel",
       "_view_count": null,
       "_view_module": "@jupyter-widgets/controls",
       "_view_module_version": "1.5.0",
       "_view_name": "ProgressView",
       "bar_style": "success",
       "description": "",
       "description_tooltip": null,
       "layout": "IPY_MODEL_b572347511f24d91855e376c18727366",
       "max": 2650.0,
       "min": 0.0,
       "orientation": "horizontal",
       "style": "IPY_MODEL_73df5e3397f04536a39990c9feac1f43",
       "value": 2650.0
      }
     },
     "fd17b0bb91014459afe57a15df7c719a": {
      "model_module": "@jupyter-widgets/controls",
      "model_module_version": "1.5.0",
      "model_name": "HBoxModel",
      "state": {
       "_dom_classes": [],
       "_model_module": "@jupyter-widgets/controls",
       "_model_module_version": "1.5.0",
       "_model_name": "HBoxModel",
       "_view_count": null,
       "_view_module": "@jupyter-widgets/controls",
       "_view_module_version": "1.5.0",
       "_view_name": "HBoxView",
       "box_style": "",
       "children": [
        "IPY_MODEL_2c0394f66a39431bb3cb005a5cb2df3f",
        "IPY_MODEL_259d679b6f9f40b989af74bd6a0dc5b3"
       ],
       "layout": "IPY_MODEL_8b9fe8ba7d3c49caae06bc45592c5327"
      }
     },
     "fe024d1f490b431487c710a54ba91a99": {
      "model_module": "@jupyter-widgets/controls",
      "model_module_version": "1.5.0",
      "model_name": "HBoxModel",
      "state": {
       "_dom_classes": [],
       "_model_module": "@jupyter-widgets/controls",
       "_model_module_version": "1.5.0",
       "_model_name": "HBoxModel",
       "_view_count": null,
       "_view_module": "@jupyter-widgets/controls",
       "_view_module_version": "1.5.0",
       "_view_name": "HBoxView",
       "box_style": "",
       "children": [
        "IPY_MODEL_de2a1ab45c9f4d0d855f3c764bcd9582",
        "IPY_MODEL_6d201ffb739c4837840b8fd3ed374cfb"
       ],
       "layout": "IPY_MODEL_1112f9e917cd41ef9ce440f410acce7c"
      }
     }
    },
    "version_major": 2,
    "version_minor": 0
   }
  }
 },
 "nbformat": 4,
 "nbformat_minor": 5
}
