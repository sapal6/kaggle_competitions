{
 "cells": [
  {
   "cell_type": "markdown",
   "id": "431c98a0",
   "metadata": {
    "_cell_guid": "b1076dfc-b9ad-4769-8c92-a6c4dae69d19",
    "_uuid": "8f2839f25d086af736a60e9eeb907d3b93b6e0e5",
    "papermill": {
     "duration": 0.033806,
     "end_time": "2021-08-01T03:38:40.049346",
     "exception": false,
     "start_time": "2021-08-01T03:38:40.015540",
     "status": "completed"
    },
    "tags": []
   },
   "source": [
    "Training a LSTM model with ULMFIT approach on original text and then on reversed text. This is sort of  student model which is being trained on the predictions of a nother similar model. These predictions serve as the pseudo labels.\n",
    "\n",
    "Inpiration source [here](https://www.kaggle.com/gurharkhalsa/backwards-forwards-ulmfit-ensemble)."
   ]
  },
  {
   "cell_type": "code",
   "execution_count": 1,
   "id": "b1da1f3b",
   "metadata": {
    "collapsed": true,
    "execution": {
     "iopub.execute_input": "2021-08-01T03:38:40.112117Z",
     "iopub.status.busy": "2021-08-01T03:38:40.110350Z",
     "iopub.status.idle": "2021-08-01T03:39:06.111796Z",
     "shell.execute_reply": "2021-08-01T03:39:06.111138Z",
     "shell.execute_reply.started": "2021-08-01T02:18:53.166298Z"
    },
    "jupyter": {
     "outputs_hidden": true
    },
    "papermill": {
     "duration": 26.034004,
     "end_time": "2021-08-01T03:39:06.111962",
     "exception": false,
     "start_time": "2021-08-01T03:38:40.077958",
     "status": "completed"
    },
    "tags": []
   },
   "outputs": [
    {
     "name": "stdout",
     "output_type": "stream",
     "text": [
      "Collecting spacy==3.1.1\r\n",
      "  Downloading spacy-3.1.1-cp37-cp37m-manylinux_2_17_x86_64.manylinux2014_x86_64.whl (6.4 MB)\r\n",
      "\u001b[K     |████████████████████████████████| 6.4 MB 3.6 MB/s \r\n",
      "\u001b[?25hCollecting typer<0.4.0,>=0.3.0\r\n",
      "  Downloading typer-0.3.2-py3-none-any.whl (21 kB)\r\n",
      "Requirement already satisfied: packaging>=20.0 in /opt/conda/lib/python3.7/site-packages (from spacy==3.1.1) (20.9)\r\n",
      "Requirement already satisfied: cymem<2.1.0,>=2.0.2 in /opt/conda/lib/python3.7/site-packages (from spacy==3.1.1) (2.0.5)\r\n",
      "Requirement already satisfied: wasabi<1.1.0,>=0.8.1 in /opt/conda/lib/python3.7/site-packages (from spacy==3.1.1) (0.8.2)\r\n",
      "Requirement already satisfied: murmurhash<1.1.0,>=0.28.0 in /opt/conda/lib/python3.7/site-packages (from spacy==3.1.1) (1.0.5)\r\n",
      "Requirement already satisfied: blis<0.8.0,>=0.4.0 in /opt/conda/lib/python3.7/site-packages (from spacy==3.1.1) (0.7.4)\r\n",
      "Requirement already satisfied: setuptools in /opt/conda/lib/python3.7/site-packages (from spacy==3.1.1) (49.6.0.post20210108)\r\n",
      "Collecting spacy-legacy<3.1.0,>=3.0.7\r\n",
      "  Downloading spacy_legacy-3.0.8-py2.py3-none-any.whl (14 kB)\r\n",
      "Collecting pathy>=0.3.5\r\n",
      "  Downloading pathy-0.6.0-py3-none-any.whl (42 kB)\r\n",
      "\u001b[K     |████████████████████████████████| 42 kB 966 kB/s \r\n",
      "\u001b[?25hRequirement already satisfied: preshed<3.1.0,>=3.0.2 in /opt/conda/lib/python3.7/site-packages (from spacy==3.1.1) (3.0.5)\r\n",
      "Requirement already satisfied: tqdm<5.0.0,>=4.38.0 in /opt/conda/lib/python3.7/site-packages (from spacy==3.1.1) (4.61.1)\r\n",
      "Requirement already satisfied: jinja2 in /opt/conda/lib/python3.7/site-packages (from spacy==3.1.1) (3.0.1)\r\n",
      "Collecting srsly<3.0.0,>=2.4.1\r\n",
      "  Downloading srsly-2.4.1-cp37-cp37m-manylinux2014_x86_64.whl (456 kB)\r\n",
      "\u001b[K     |████████████████████████████████| 456 kB 8.5 MB/s \r\n",
      "\u001b[?25hRequirement already satisfied: pydantic!=1.8,!=1.8.1,<1.9.0,>=1.7.4 in /opt/conda/lib/python3.7/site-packages (from spacy==3.1.1) (1.8.2)\r\n",
      "Collecting thinc<8.1.0,>=8.0.8\r\n",
      "  Downloading thinc-8.0.8-cp37-cp37m-manylinux_2_17_x86_64.manylinux2014_x86_64.whl (621 kB)\r\n",
      "\u001b[K     |████████████████████████████████| 621 kB 7.9 MB/s \r\n",
      "\u001b[?25hRequirement already satisfied: typing-extensions<4.0.0.0,>=3.7.4 in /opt/conda/lib/python3.7/site-packages (from spacy==3.1.1) (3.7.4.3)\r\n",
      "Requirement already satisfied: requests<3.0.0,>=2.13.0 in /opt/conda/lib/python3.7/site-packages (from spacy==3.1.1) (2.25.1)\r\n",
      "Requirement already satisfied: numpy>=1.15.0 in /opt/conda/lib/python3.7/site-packages (from spacy==3.1.1) (1.19.5)\r\n",
      "Collecting catalogue<2.1.0,>=2.0.4\r\n",
      "  Downloading catalogue-2.0.4-py3-none-any.whl (16 kB)\r\n",
      "Requirement already satisfied: zipp>=0.5 in /opt/conda/lib/python3.7/site-packages (from catalogue<2.1.0,>=2.0.4->spacy==3.1.1) (3.4.1)\r\n",
      "Requirement already satisfied: pyparsing>=2.0.2 in /opt/conda/lib/python3.7/site-packages (from packaging>=20.0->spacy==3.1.1) (2.4.7)\r\n",
      "Requirement already satisfied: smart-open<6.0.0,>=5.0.0 in /opt/conda/lib/python3.7/site-packages (from pathy>=0.3.5->spacy==3.1.1) (5.1.0)\r\n",
      "Requirement already satisfied: certifi>=2017.4.17 in /opt/conda/lib/python3.7/site-packages (from requests<3.0.0,>=2.13.0->spacy==3.1.1) (2021.5.30)\r\n",
      "Requirement already satisfied: idna<3,>=2.5 in /opt/conda/lib/python3.7/site-packages (from requests<3.0.0,>=2.13.0->spacy==3.1.1) (2.10)\r\n",
      "Requirement already satisfied: chardet<5,>=3.0.2 in /opt/conda/lib/python3.7/site-packages (from requests<3.0.0,>=2.13.0->spacy==3.1.1) (4.0.0)\r\n",
      "Requirement already satisfied: urllib3<1.27,>=1.21.1 in /opt/conda/lib/python3.7/site-packages (from requests<3.0.0,>=2.13.0->spacy==3.1.1) (1.26.5)\r\n",
      "Requirement already satisfied: click<7.2.0,>=7.1.1 in /opt/conda/lib/python3.7/site-packages (from typer<0.4.0,>=0.3.0->spacy==3.1.1) (7.1.2)\r\n",
      "Requirement already satisfied: MarkupSafe>=2.0 in /opt/conda/lib/python3.7/site-packages (from jinja2->spacy==3.1.1) (2.0.1)\r\n",
      "Installing collected packages: catalogue, typer, srsly, thinc, spacy-legacy, pathy, spacy\r\n",
      "  Attempting uninstall: catalogue\r\n",
      "    Found existing installation: catalogue 1.0.0\r\n",
      "    Uninstalling catalogue-1.0.0:\r\n",
      "      Successfully uninstalled catalogue-1.0.0\r\n",
      "  Attempting uninstall: srsly\r\n",
      "    Found existing installation: srsly 1.0.5\r\n",
      "    Uninstalling srsly-1.0.5:\r\n",
      "      Successfully uninstalled srsly-1.0.5\r\n",
      "  Attempting uninstall: thinc\r\n",
      "    Found existing installation: thinc 7.4.5\r\n",
      "    Uninstalling thinc-7.4.5:\r\n",
      "      Successfully uninstalled thinc-7.4.5\r\n",
      "  Attempting uninstall: spacy\r\n",
      "    Found existing installation: spacy 2.3.7\r\n",
      "    Uninstalling spacy-2.3.7:\r\n",
      "      Successfully uninstalled spacy-2.3.7\r\n",
      "\u001b[31mERROR: pip's dependency resolver does not currently take into account all the packages that are installed. This behaviour is the source of the following dependency conflicts.\r\n",
      "fastai 2.2.7 requires spacy<3, but you have spacy 3.1.1 which is incompatible.\r\n",
      "en-core-web-sm 2.3.1 requires spacy<2.4.0,>=2.3.0, but you have spacy 3.1.1 which is incompatible.\r\n",
      "en-core-web-lg 2.3.1 requires spacy<2.4.0,>=2.3.0, but you have spacy 3.1.1 which is incompatible.\r\n",
      "allennlp 2.5.0 requires spacy<3.1,>=2.1.0, but you have spacy 3.1.1 which is incompatible.\u001b[0m\r\n",
      "Successfully installed catalogue-2.0.4 pathy-0.6.0 spacy-3.1.1 spacy-legacy-3.0.8 srsly-2.4.1 thinc-8.0.8 typer-0.3.2\r\n",
      "\u001b[33mWARNING: Running pip as root will break packages and permissions. You should install packages reliably by using venv: https://pip.pypa.io/warnings/venv\u001b[0m\r\n"
     ]
    }
   ],
   "source": [
    "#!pip install --no-index --find-links=\"../input/commonlit-pkgs-offline-download\" spacy==3.1.1\n",
    "!pip install spacy==3.1.1"
   ]
  },
  {
   "cell_type": "code",
   "execution_count": 2,
   "id": "d5fad0ff",
   "metadata": {
    "collapsed": true,
    "execution": {
     "iopub.execute_input": "2021-08-01T03:39:06.216822Z",
     "iopub.status.busy": "2021-08-01T03:39:06.212643Z",
     "iopub.status.idle": "2021-08-01T03:45:01.521727Z",
     "shell.execute_reply": "2021-08-01T03:45:01.521136Z",
     "shell.execute_reply.started": "2021-08-01T02:19:28.701977Z"
    },
    "jupyter": {
     "outputs_hidden": true
    },
    "papermill": {
     "duration": 355.361171,
     "end_time": "2021-08-01T03:45:01.521880",
     "exception": false,
     "start_time": "2021-08-01T03:39:06.160709",
     "status": "completed"
    },
    "tags": []
   },
   "outputs": [
    {
     "name": "stdout",
     "output_type": "stream",
     "text": [
      "Collecting package metadata (current_repodata.json): - \b\b\\ \b\b| \b\b/ \b\b- \b\b\\ \b\b| \b\b/ \b\b- \b\b\\ \b\b| \b\b/ \b\b- \b\b\\ \b\b| \b\b/ \b\b- \b\b\\ \b\b| \b\b/ \b\b- \b\b\\ \b\b| \b\b/ \b\b- \b\b\\ \b\b| \b\b/ \b\b- \b\b\\ \b\b| \b\b/ \b\b- \b\b\\ \b\b| \b\b/ \b\b- \b\b\\ \b\b| \b\b/ \b\b- \b\b\\ \b\b| \b\b/ \b\b- \b\b\\ \b\b| \b\b/ \b\b- \b\b\\ \b\b| \b\b/ \b\b- \b\b\\ \b\b| \b\b/ \b\b- \b\b\\ \b\b| \b\b/ \b\b- \b\b\\ \b\b| \b\b/ \b\b- \b\b\\ \b\b| \b\b/ \b\b- \b\b\\ \b\b| \b\b/ \b\b- \b\b\\ \b\b| \b\b/ \b\b- \b\b\\ \b\b| \b\b/ \b\b- \b\b\\ \b\b| \b\b/ \b\b- \b\b\\ \b\b| \b\b/ \b\b- \b\b\\ \b\b| \b\b/ \b\b- \b\b\\ \b\b| \b\b/ \b\b- \b\b\\ \b\b| \b\b/ \b\b- \b\b\\ \b\b| \b\b/ \b\b- \b\b\\ \b\b| \b\b/ \b\b- \b\b\\ \b\b| \b\b/ \b\b- \b\b\\ \b\b| \b\b/ \b\b- \b\b\\ \b\b| \b\b/ \b\b- \b\b\\ \b\b| \b\b/ \b\b- \b\b\\ \b\b| \b\b/ \b\b- \b\b\\ \b\b| \b\b/ \b\b- \b\b\\ \b\b| \b\b/ \b\b- \b\b\\ \b\b| \b\b/ \b\b- \b\b\\ \b\b| \b\bdone\r\n",
      "Solving environment: - \b\b\\ \b\b| \b\b/ \b\b- \b\b\\ \b\b| \b\b/ \b\b- \b\b\\ \b\b| \b\b/ \b\b- \b\b\\ \b\b| \b\b/ \b\b- \b\b\\ \b\b| \b\b/ \b\b- \b\b\\ \b\b| \b\b/ \b\b- \b\b\\ \b\b| \b\b/ \b\b- \b\b\\ \b\b| \b\b/ \b\b- \b\b\\ \b\b| \b\b/ \b\b- \b\b\\ \b\b| \b\b/ \b\b- \b\b\\ \b\b| \b\b/ \b\b- \b\b\\ \b\b| \b\b/ \b\b- \b\b\\ \b\b| \b\b/ \b\b- \b\b\\ \b\b| \b\b/ \b\b- \b\b\\ \b\b| \b\b/ \b\b- \b\b\\ \b\b| \b\b/ \b\b- \b\b\\ \b\b| \b\b/ \b\b- \b\b\\ \b\b| \b\b/ \b\b- \b\b\\ \b\b| \b\b/ \b\b- \b\b\\ \b\b| \b\b/ \b\b- \b\b\\ \b\b| \b\b/ \b\b- \b\b\\ \b\b| \b\b/ \b\b- \b\b\\ \b\b| \b\b/ \b\b- \b\b\\ \b\b| \b\b/ \b\b- \b\b\\ \b\b| \b\b/ \b\b- \b\b\\ \b\b| \b\b/ \b\b- \b\b\\ \b\b| \b\b/ \b\b- \b\b\\ \b\b| \b\b/ \b\b- \b\b\\ \b\b| \b\b/ \b\b- \b\b\\ \b\b| \b\b/ \b\b- \b\b\\ \b\b| \b\b/ \b\b- \b\b\\ \b\b| \b\b/ \b\b- \b\b\\ \b\b| \b\b/ \b\b- \b\b\\ \b\b| \b\b/ \b\b- \b\b\\ \b\b| \b\b/ \b\b- \b\b\\ \b\b| \b\b/ \b\b- \b\b\\ \b\b| \b\b/ \b\b- \b\b\\ \b\b| \b\b/ \b\b- \b\b\\ \b\b| \b\b/ \b\b- \b\b\\ \b\b| \b\b/ \b\b- \b\b\\ \b\b| \b\b/ \b\b- \b\b\\ \b\b| \b\b/ \b\b- \b\b\\ \b\b| \b\b/ \b\b- \b\b\\ \b\b| \b\b/ \b\b- \b\b\\ \b\b| \b\b/ \b\b- \b\b\\ \b\b| \b\b/ \b\b- \b\b\\ \b\b| \b\b/ \b\b- \b\b\\ \b\b| \b\b/ \b\b- \b\b\\ \b\b| \b\b/ \b\b- \b\b\\ \b\b| \b\b/ \b\b- \b\b\\ \b\b| \b\b/ \b\b- \b\b\\ \b\b| \b\b/ \b\b- \b\b\\ \b\b| \b\b/ \b\b- \b\b\\ \b\b| \b\b/ \b\b- \b\b\\ \b\b| \b\b/ \b\b- \b\b\\ \b\b| \b\b/ \b\b- \b\b\\ \b\b| \b\b/ \b\b- \b\b\\ \b\b| \b\b/ \b\b- \b\b\\ \b\b| \b\b/ \b\b- \b\b\\ \b\b| \b\b/ \b\b- \b\b\\ \b\b| \b\b/ \b\b- \b\b\\ \b\b| \b\b/ \b\b- \b\b\\ \b\b| \b\b/ \b\b- \b\b\\ \b\b| \b\b/ \b\b- \b\b\\ \b\b| \b\b/ \b\b- \b\b\\ \b\b| \b\b/ \b\b- \b\b\\ \b\b| \b\b/ \b\b- \b\b\\ \b\b| \b\b/ \b\b- \b\b\\ \b\b| \b\b/ \b\b- \b\b\\ \b\b| \b\b/ \b\b- \b\b\\ \b\b| \b\b/ \b\b- \b\b\\ \b\b| \b\b/ \b\b- \b\b\\ \b\b| \b\b/ \b\b- \b\b\\ \b\b| \b\b/ \b\b- \b\b\\ \b\b| \b\b/ \b\b- \b\b\\ \b\b| \b\b/ \b\b- \b\b\\ \b\b| \b\b/ \b\b- \b\b\\ \b\b| \b\b/ \b\b- \b\b\\ \b\b| \b\b/ \b\b- \b\b\\ \b\b| \b\b/ \b\b- \b\b\\ \b\b| \b\b/ \b\b- \b\b\\ \b\b| \b\b/ \b\b- \b\b\\ \b\b| \b\b/ \b\b- \b\b\\ \b\b| \b\b/ \b\b- \b\b\\ \b\b| \b\b/ \b\b- \b\b\\ \b\b| \b\b/ \b\b- \b\b\\ \b\b| \b\b/ \b\b- \b\b\\ \b\b| \b\b/ \b\b- \b\b\\ \b\b| \b\b/ \b\b- \b\b\\ \b\b| \b\b/ \b\b- \b\b\\ \b\b| \b\b/ \b\b- \b\b\\ \b\b| \b\b/ \b\b- \b\b\\ \b\b| \b\b/ \b\b- \b\b\\ \b\b| \b\b/ \b\b- \b\b\\ \b\b| \b\b/ \b\b- \b\b\\ \b\b| \b\b/ \b\b- \b\b\\ \b\b| \b\b/ \b\b- \b\b\\ \b\b| \b\b/ \b\b- \b\b\\ \b\b| \b\b/ \b\b- \b\b\\ \b\b| \b\b/ \b\b- \b\b\\ \b\b| \b\b/ \b\b- \b\b\\ \b\b| \b\b/ \b\b- \b\b\\ \b\b| \b\b/ \b\b- \b\b\\ \b\b| \b\b/ \b\b- \b\b\\ \b\b| \b\b/ \b\b- \b\b\\ \b\b| \b\b/ \b\b- \b\b\\ \b\b| \b\b/ \b\b- \b\b\\ \b\b| \b\b/ \b\b- \b\b\\ \b\b| \b\b/ \b\b- \b\b\\ \b\b| \b\b/ \b\b- \b\b\\ \b\b| \b\b/ \b\b- \b\b\\ \b\b| \b\b/ \b\b- \b\b\\ \b\b| \b\b/ \b\b- \b\b\\ \b\b| \b\b/ \b\b- \b\b\\ \b\b| \b\b/ \b\b- \b\b\\ \b\b| \b\b/ \b\b- \b\b\\ \b\b| \b\b/ \b\b- \b\b\\ \b\b| \b\b/ \b\b- \b\b\\ \b\b| \b\b/ \b\b- \b\b\\ \b\b| \b\b/ \b\b- \b\b\\ \b\b| \b\b/ \b\b- \b\b\\ \b\b| \b\b/ \b\b- \b\b\\ \b\b| \b\b/ \b\b- \b\b\\ \b\b| \b\b/ \b\b- \b\b\\ \b\b| \b\b/ \b\b- \b\b\\ \b\b| \b\b/ \b\b- \b\b\\ \b\b| \b\b/ \b\b- \b\b\\ \b\b| \b\b/ \b\b- \b\b\\ \b\b| \b\b/ \b\b- \b\b\\ \b\b| \b\b/ \b\b- \b\b\\ \b\b| \b\b/ \b\b- \b\b\\ \b\b| \b\b/ \b\b- \b\b\\ \b\b| \b\b/ \b\b- \b\b\\ \b\b| \b\b/ \b\b- \b\b\\ \b\b| \b\b/ \b\b- \b\b\\ \b\b| \b\b/ \b\b- \b\b\\ \b\b| \b\b/ \b\b- \b\b\\ \b\b| \b\b/ \b\b- \b\b\\ \b\b| \b\b/ \b\b- \b\b\\ \b\b| \b\b/ \b\b- \b\b\\ \b\b| \b\b/ \b\b- \b\b\\ \b\b| \b\b/ \b\b- \b\b\\ \b\b| \b\b/ \b\b- \b\b\\ \b\b| \b\b/ \b\b- \b\b\\ \b\b| \b\b/ \b\b- \b\b\\ \b\b| \b\b/ \b\b- \b\b\\ \b\b| \b\b/ \b\b- \b\b\\ \b\b| \b\b/ \b\b- \b\b\\ \b\b| \b\b/ \b\b- \b\b\\ \b\b| \b\b/ \b\b- \b\b\\ \b\b| \b\b/ \b\b- \b\b\\ \b\b| \b\b/ \b\b- \b\b\\ \b\b| \b\b/ \b\b- \b\b\\ \b\b| \b\b/ \b\b- \b\b\\ \b\b| \b\b/ \b\b- \b\b\\ \b\b| \b\b/ \b\b- \b\b\\ \b\b| \b\b/ \b\b- \b\b\\ \b\b| \b\b/ \b\b- \b\b\\ \b\b| \b\b/ \b\b- \b\b\\ \b\b| \b\b/ \b\b- \b\b\\ \b\b| \b\b/ \b\b- \b\b\\ \b\b| \b\b/ \b\b- \b\b\\ \b\b| \b\b/ \b\b- \b\b\\ \b\b| \b\b/ \b\b- \b\b\\ \b\b| \b\b/ \b\b- \b\b\\ \b\b| \b\b/ \b\b- \b\b\\ \b\b| \b\b/ \b\b- \b\b\\ \b\b| \b\b/ \b\b- \b\b\\ \b\b| \b\b/ \b\b- \b\b\\ \b\b| \b\b/ \b\b- \b\b\\ \b\b| \b\b/ \b\b- \b\b\\ \b\b| \b\b/ \b\b- \b\b\\ \b\b| \b\b/ \b\b- \b\b\\ \b\b| \b\b/ \b\b- \b\b\\ \b\b| \b\b/ \b\b- \b\b\\ \b\b| \b\b/ \b\b- \b\b\\ \b\b| \b\b/ \b\b- \b\b\\ \b\b| \b\b/ \b\b- \b\b\\ \b\b| \b\b/ \b\b- \b\b\\ \b\b| \b\b/ \b\b- \b\b\\ \b\b| \b\b/ \b\b- \b\b\\ \b\b| \b\b/ \b\b- \b\b\\ \b\b| \b\b/ \b\b- \b\b\\ \b\b| \b\b/ \b\b- \b\b\\ \b\b| \b\b/ \b\b- \b\b\\ \b\b| \b\bdone\r\n",
      "\r\n",
      "\r\n",
      "==> WARNING: A newer version of conda exists. <==\r\n",
      "  current version: 4.9.2\r\n",
      "  latest version: 4.10.3\r\n",
      "\r\n",
      "Please update conda by running\r\n",
      "\r\n",
      "    $ conda update -n base conda\r\n",
      "\r\n",
      "\r\n",
      "\r\n",
      "## Package Plan ##\r\n",
      "\r\n",
      "  environment location: /opt/conda\r\n",
      "\r\n",
      "  added / updated specs:\r\n",
      "    - fastai=2.4.1\r\n",
      "\r\n",
      "\r\n",
      "The following packages will be downloaded:\r\n",
      "\r\n",
      "    package                    |            build\r\n",
      "    ---------------------------|-----------------\r\n",
      "    _pytorch_select-0.1        |            cpu_0           3 KB\r\n",
      "    catalogue-2.0.4            |   py37h89c1867_0          30 KB  conda-forge\r\n",
      "    cymem-2.0.5                |   py37hcd2ae1e_2          42 KB  conda-forge\r\n",
      "    cython-blis-0.7.4          |   py37h902c9e0_0         3.9 MB  conda-forge\r\n",
      "    fastai-2.4.1               |             py_0         144 KB  fastai\r\n",
      "    fastcore-1.3.25            |             py_0          47 KB  fastai\r\n",
      "    fastprogress-1.0.0         |     pyh39e3cac_0          17 KB  fastai\r\n",
      "    murmurhash-1.0.5           |   py37hcd2ae1e_0          26 KB  conda-forge\r\n",
      "    pathy-0.6.0                |     pyhd8ed1ab_0          37 KB  conda-forge\r\n",
      "    preshed-3.0.5              |   py37hcd2ae1e_1         117 KB  conda-forge\r\n",
      "    pytorch-1.7.1              |py3.7_cuda11.0.221_cudnn8.0.5_0       771.1 MB  pytorch\r\n",
      "    shellingham-1.4.0          |     pyh44b312d_0          11 KB  conda-forge\r\n",
      "    smart_open-5.1.0           |     pyhd8ed1ab_1          42 KB  conda-forge\r\n",
      "    spacy-3.1.1                |   py37hda21425_0         6.2 MB  conda-forge\r\n",
      "    spacy-legacy-3.0.8         |     pyhd8ed1ab_0          15 KB  conda-forge\r\n",
      "    srsly-2.4.1                |   py37hcd2ae1e_0         529 KB  conda-forge\r\n",
      "    thinc-8.0.8                |   py37hda21425_0         704 KB  conda-forge\r\n",
      "    torchaudio-0.7.2           |             py37         9.9 MB  pytorch\r\n",
      "    torchtext-0.8.1            |             py37         8.0 MB  pytorch\r\n",
      "    torchvision-0.8.2          |cpu_py37ha229d99_0         6.4 MB\r\n",
      "    typer-0.3.2                |     pyhd8ed1ab_0          23 KB  conda-forge\r\n",
      "    wasabi-0.8.2               |     pyh44b312d_0          23 KB  conda-forge\r\n",
      "    ------------------------------------------------------------\r\n",
      "                                           Total:       807.4 MB\r\n",
      "\r\n",
      "The following NEW packages will be INSTALLED:\r\n",
      "\r\n",
      "  _pytorch_select    pkgs/main/linux-64::_pytorch_select-0.1-cpu_0\r\n",
      "  catalogue          conda-forge/linux-64::catalogue-2.0.4-py37h89c1867_0\r\n",
      "  cymem              conda-forge/linux-64::cymem-2.0.5-py37hcd2ae1e_2\r\n",
      "  cython-blis        conda-forge/linux-64::cython-blis-0.7.4-py37h902c9e0_0\r\n",
      "  fastai             fastai/noarch::fastai-2.4.1-py_0\r\n",
      "  fastcore           fastai/noarch::fastcore-1.3.25-py_0\r\n",
      "  fastprogress       fastai/noarch::fastprogress-1.0.0-pyh39e3cac_0\r\n",
      "  murmurhash         conda-forge/linux-64::murmurhash-1.0.5-py37hcd2ae1e_0\r\n",
      "  pathy              conda-forge/noarch::pathy-0.6.0-pyhd8ed1ab_0\r\n",
      "  preshed            conda-forge/linux-64::preshed-3.0.5-py37hcd2ae1e_1\r\n",
      "  shellingham        conda-forge/noarch::shellingham-1.4.0-pyh44b312d_0\r\n",
      "  smart_open         conda-forge/noarch::smart_open-5.1.0-pyhd8ed1ab_1\r\n",
      "  spacy              conda-forge/linux-64::spacy-3.1.1-py37hda21425_0\r\n",
      "  spacy-legacy       conda-forge/noarch::spacy-legacy-3.0.8-pyhd8ed1ab_0\r\n",
      "  srsly              conda-forge/linux-64::srsly-2.4.1-py37hcd2ae1e_0\r\n",
      "  thinc              conda-forge/linux-64::thinc-8.0.8-py37hda21425_0\r\n",
      "  typer              conda-forge/noarch::typer-0.3.2-pyhd8ed1ab_0\r\n",
      "  wasabi             conda-forge/noarch::wasabi-0.8.2-pyh44b312d_0\r\n",
      "\r\n",
      "The following packages will be UPDATED:\r\n",
      "\r\n",
      "  pytorch             1.7.0-py3.7_cuda11.0.221_cudnn8.0.3_0 --> 1.7.1-py3.7_cuda11.0.221_cudnn8.0.5_0\r\n",
      "  torchaudio                                     0.7.0-py37 --> 0.7.2-py37\r\n",
      "  torchtext                                      0.8.0-py37 --> 0.8.1-py37\r\n",
      "  torchvision         pytorch::torchvision-0.8.1-py37_cu110 --> pkgs/main::torchvision-0.8.2-cpu_py37ha229d99_0\r\n",
      "\r\n",
      "\r\n",
      "Proceed ([y]/n)? \r\n",
      "\r\n",
      "Downloading and Extracting Packages\r\n",
      "_pytorch_select-0.1  | 3 KB      | ##################################### | 100% \r\n",
      "wasabi-0.8.2         | 23 KB     | ##################################### | 100% \r\n",
      "spacy-3.1.1          | 6.2 MB    | ##################################### | 100% \r\n",
      "fastcore-1.3.25      | 47 KB     | ##################################### | 100% \r\n",
      "spacy-legacy-3.0.8   | 15 KB     | ##################################### | 100% \r\n",
      "pytorch-1.7.1        | 771.1 MB  | ##################################### | 100% \r\n",
      "torchtext-0.8.1      | 8.0 MB    | ##################################### | 100% \r\n",
      "shellingham-1.4.0    | 11 KB     | ##################################### | 100% \r\n",
      "fastprogress-1.0.0   | 17 KB     | ##################################### | 100% \r\n",
      "fastai-2.4.1         | 144 KB    | ##################################### | 100% \r\n",
      "srsly-2.4.1          | 529 KB    | ##################################### | 100% \r\n",
      "torchvision-0.8.2    | 6.4 MB    | ##################################### | 100% \r\n",
      "torchaudio-0.7.2     | 9.9 MB    | ##################################### | 100% \r\n",
      "typer-0.3.2          | 23 KB     | ##################################### | 100% \r\n",
      "catalogue-2.0.4      | 30 KB     | ##################################### | 100% \r\n",
      "preshed-3.0.5        | 117 KB    | ##################################### | 100% \r\n",
      "thinc-8.0.8          | 704 KB    | ##################################### | 100% \r\n",
      "murmurhash-1.0.5     | 26 KB     | ##################################### | 100% \r\n",
      "cymem-2.0.5          | 42 KB     | ##################################### | 100% \r\n",
      "pathy-0.6.0          | 37 KB     | ##################################### | 100% \r\n",
      "cython-blis-0.7.4    | 3.9 MB    | ##################################### | 100% \r\n",
      "smart_open-5.1.0     | 42 KB     | ##################################### | 100% \r\n",
      "Preparing transaction: - \b\b\\ \b\b| \b\b/ \b\bdone\r\n",
      "Verifying transaction: \\ \b\b| \b\b/ \b\b- \b\b\\ \b\b| \b\b/ \b\b- \b\b\\ \b\b| \b\b/ \b\b- \b\b\\ \b\b| \b\b/ \b\b- \b\b\\ \b\b| \b\b/ \b\b- \b\b\\ \b\b| \b\b/ \b\b- \b\b\\ \b\b| \b\b/ \b\b- \b\b\\ \b\b| \b\b/ \b\b- \b\b\\ \b\b| \b\b/ \b\b- \b\b\\ \b\b| \b\bdone\r\n",
      "Executing transaction: - \b\b\\ \b\b| \b\b/ \b\b- \b\b\\ \b\b| \b\b/ \b\b- \b\b\\ \b\b| \b\b/ \b\b- \b\b\\ \b\b| \b\b/ \b\b- \b\b\\ \b\b| \b\b/ \b\b- \b\b\\ \b\b| \b\b/ \b\b- \b\b\\ \b\b| \b\b/ \b\b- \b\b\\ \b\b| \b\b/ \b\b- \b\b\\ \b\b| \b\b/ \b\b- \b\b\\ \b\b| \b\b/ \b\b- \b\b\\ \b\b| \b\b/ \b\b- \b\b\\ \b\b| \b\b/ \b\b- \b\b\\ \b\b| \b\b/ \b\b- \b\b\\ \b\b| \b\b/ \b\b- \b\b\\ \b\b| \b\b/ \b\b- \b\b\\ \b\b| \b\b/ \b\b- \b\b\\ \b\b| \b\b/ \b\b- \b\b\\ \b\b| \b\b/ \b\b- \b\b\\ \b\b| \b\b/ \b\b- \b\b\\ \b\b| \b\b/ \b\b- \b\b\\ \b\b| \b\b/ \b\b- \b\b\\ \b\b| \b\b/ \b\b- \b\b\\ \b\b| \b\b/ \b\b- \b\b\\ \b\b| \b\b/ \b\b- \b\b\\ \b\b| \b\b/ \b\b- \b\b\\ \b\b| \b\b/ \b\b- \b\b\\ \b\b| \b\b/ \b\b- \b\b\\ \b\b| \b\b/ \b\b- \b\b\\ \b\b| \b\b/ \b\b- \b\b\\ \b\b| \b\b/ \b\b- \b\b\\ \b\b| \b\b/ \b\b- \b\b\\ \b\b| \b\b/ \b\b- \b\b\\ \b\b| \b\b/ \b\b- \b\b\\ \b\b| \b\b/ \b\b- \b\b\\ \b\b| \b\b/ \b\b- \b\b\\ \b\b| \b\b/ \b\b- \b\b\\ \b\b| \b\b/ \b\b- \b\b\\ \b\b| \b\b/ \b\b- \b\b\\ \b\b| \b\b/ \b\b- \b\b\\ \b\b| \b\b/ \b\b- \b\b\\ \b\b| \b\b/ \b\b- \b\b\\ \b\b| \b\b/ \b\b- \b\b\\ \b\b| \b\b/ \b\b- \b\b\\ \b\b| \b\b/ \b\b- \b\b\\ \b\b| \b\b/ \b\b- \b\b\\ \b\b| \b\b/ \b\b- \b\b\\ \b\b| \b\b/ \b\b- \b\b\\ \b\b| \b\b/ \b\b- \b\b\\ \b\b| \b\b/ \b\b- \b\b\\ \b\b| \b\b/ \b\b- \b\b\\ \b\b| \b\b/ \b\b- \b\b\\ \b\b| \b\b/ \b\b- \b\b\\ \b\b| \b\b/ \b\b- \b\b\\ \b\b| \b\b/ \b\b- \b\b\\ \b\b| \b\b/ \b\b- \b\b\\ \b\b| \b\b/ \b\b- \b\b\\ \b\b| \b\b/ \b\b- \b\b\\ \b\b| \b\b/ \b\b- \b\b\\ \b\b| \b\b/ \b\b- \b\b\\ \b\b| \b\b/ \b\b- \b\b\\ \b\b| \b\b/ \b\b- \b\b\\ \b\b| \b\b/ \b\b- \b\b\\ \b\b| \b\b/ \b\b- \b\b\\ \b\b| \b\b/ \b\b- \b\b\\ \b\b| \b\b/ \b\b- \b\b\\ \b\b| \b\b/ \b\b- \b\b\\ \b\b| \b\b/ \b\b- \b\b\\ \b\b| \b\b/ \b\b- \b\b\\ \b\b| \b\b/ \b\b- \b\b\\ \b\b| \b\b/ \b\b- \b\b\\ \b\b| \b\b/ \b\b- \b\b\\ \b\b| \b\b/ \b\b- \b\b\\ \b\b| \b\b/ \b\b- \b\b\\ \b\b| \b\b/ \b\b- \b\b\\ \b\b| \b\b/ \b\b- \b\b\\ \b\b| \b\b/ \b\b- \b\b\\ \b\b| \b\b/ \b\b- \b\b\\ \b\b| \b\b/ \b\b- \b\b\\ \b\b| \b\b/ \b\b- \b\b\\ \b\b| \b\b/ \b\b- \b\b\\ \b\b| \b\b/ \b\b- \b\b\\ \b\b| \b\b/ \b\b- \b\b\\ \b\b| \b\b/ \b\b- \b\b\\ \b\b| \b\b/ \b\b- \b\b\\ \b\b| \b\b/ \b\b- \b\b\\ \b\b| \b\b/ \b\b- \b\b\\ \b\b| \b\b/ \b\b- \b\b\\ \b\b| \b\b/ \b\b- \b\bdone\r\n",
      "yes: standard output: Broken pipe\r\n"
     ]
    }
   ],
   "source": [
    "#!pip install --no-index --find-links=\"../input/commonlit-pkgs-offline-download\" fastai==2.4.1\n",
    "!yes Y|conda install -c fastai fastai=2.4.1"
   ]
  },
  {
   "cell_type": "markdown",
   "id": "23b779a2",
   "metadata": {
    "papermill": {
     "duration": 0.492398,
     "end_time": "2021-08-01T03:45:02.512516",
     "exception": false,
     "start_time": "2021-08-01T03:45:02.020118",
     "status": "completed"
    },
    "tags": []
   },
   "source": [
    "## Import libraries"
   ]
  },
  {
   "cell_type": "code",
   "execution_count": 3,
   "id": "12141afd",
   "metadata": {
    "execution": {
     "iopub.execute_input": "2021-08-01T03:45:03.549186Z",
     "iopub.status.busy": "2021-08-01T03:45:03.548349Z",
     "iopub.status.idle": "2021-08-01T03:45:12.815119Z",
     "shell.execute_reply": "2021-08-01T03:45:12.814204Z",
     "shell.execute_reply.started": "2021-08-01T02:25:28.173892Z"
    },
    "papermill": {
     "duration": 9.798902,
     "end_time": "2021-08-01T03:45:12.815284",
     "exception": false,
     "start_time": "2021-08-01T03:45:03.016382",
     "status": "completed"
    },
    "tags": []
   },
   "outputs": [],
   "source": [
    "from typing import *\n",
    "from pandas.core.frame import DataFrame\n",
    "from fastai.text.all import *"
   ]
  },
  {
   "cell_type": "code",
   "execution_count": 4,
   "id": "bc83a05c",
   "metadata": {
    "execution": {
     "iopub.execute_input": "2021-08-01T03:45:13.803690Z",
     "iopub.status.busy": "2021-08-01T03:45:13.801968Z",
     "iopub.status.idle": "2021-08-01T03:45:13.804347Z",
     "shell.execute_reply": "2021-08-01T03:45:13.804743Z",
     "shell.execute_reply.started": "2021-08-01T02:30:11.514154Z"
    },
    "papermill": {
     "duration": 0.498357,
     "end_time": "2021-08-01T03:45:13.804874",
     "exception": false,
     "start_time": "2021-08-01T03:45:13.306517",
     "status": "completed"
    },
    "tags": []
   },
   "outputs": [],
   "source": [
    "def drop_cols(df: DataFrame, cols: List) -> DataFrame:\n",
    "    \"\"\"drop the given list of columns from the dataframe\"\"\"\n",
    "    return df.drop(cols, axis=1)\n",
    "\n",
    "def concat_dfs(dfs: List) -> DataFrame:\n",
    "    \"\"\"concatenate two dataframes\"\"\"\n",
    "    return pd.concat(dfs)"
   ]
  },
  {
   "cell_type": "code",
   "execution_count": 5,
   "id": "a16bfe8e",
   "metadata": {
    "execution": {
     "iopub.execute_input": "2021-08-01T03:45:15.291240Z",
     "iopub.status.busy": "2021-08-01T03:45:15.290294Z",
     "iopub.status.idle": "2021-08-01T03:45:15.293204Z",
     "shell.execute_reply": "2021-08-01T03:45:15.292732Z",
     "shell.execute_reply.started": "2021-08-01T02:26:58.889295Z"
    },
    "papermill": {
     "duration": 0.67364,
     "end_time": "2021-08-01T03:45:15.293333",
     "exception": false,
     "start_time": "2021-08-01T03:45:14.619693",
     "status": "completed"
    },
    "tags": []
   },
   "outputs": [],
   "source": [
    "path = Path('../input')\n",
    "op_path = Path('/kaggle/working')\n",
    "test_path = path/'commonlitreadabilityprize/test.csv'\n",
    "inf_label_path = path/'commonlit-inf-ensmble-fwd-bkwd-student/submission.csv'\n",
    "cbt_aug_pseudo_label = path/'commonlit-pseudo-labeler/pseudo_labels.csv'"
   ]
  },
  {
   "cell_type": "code",
   "execution_count": 6,
   "id": "1c8fa362",
   "metadata": {
    "execution": {
     "iopub.execute_input": "2021-08-01T03:45:16.318146Z",
     "iopub.status.busy": "2021-08-01T03:45:16.317578Z",
     "iopub.status.idle": "2021-08-01T03:45:17.034908Z",
     "shell.execute_reply": "2021-08-01T03:45:17.034427Z",
     "shell.execute_reply.started": "2021-08-01T02:27:21.657562Z"
    },
    "papermill": {
     "duration": 1.232815,
     "end_time": "2021-08-01T03:45:17.035044",
     "exception": false,
     "start_time": "2021-08-01T03:45:15.802229",
     "status": "completed"
    },
    "tags": []
   },
   "outputs": [],
   "source": [
    "df_test = pd.read_csv(test_path)\n",
    "df_subm = pd.read_csv(inf_label_path)\n",
    "df_cbt_aug_pseudo_label = pd.read_csv(cbt_aug_pseudo_label)"
   ]
  },
  {
   "cell_type": "code",
   "execution_count": 7,
   "id": "3f0909d9",
   "metadata": {
    "execution": {
     "iopub.execute_input": "2021-08-01T03:45:18.030793Z",
     "iopub.status.busy": "2021-08-01T03:45:18.029816Z",
     "iopub.status.idle": "2021-08-01T03:45:18.046195Z",
     "shell.execute_reply": "2021-08-01T03:45:18.046607Z",
     "shell.execute_reply.started": "2021-08-01T02:28:17.626204Z"
    },
    "papermill": {
     "duration": 0.519698,
     "end_time": "2021-08-01T03:45:18.046744",
     "exception": false,
     "start_time": "2021-08-01T03:45:17.527046",
     "status": "completed"
    },
    "tags": []
   },
   "outputs": [
    {
     "data": {
      "text/html": [
       "<div>\n",
       "<style scoped>\n",
       "    .dataframe tbody tr th:only-of-type {\n",
       "        vertical-align: middle;\n",
       "    }\n",
       "\n",
       "    .dataframe tbody tr th {\n",
       "        vertical-align: top;\n",
       "    }\n",
       "\n",
       "    .dataframe thead th {\n",
       "        text-align: right;\n",
       "    }\n",
       "</style>\n",
       "<table border=\"1\" class=\"dataframe\">\n",
       "  <thead>\n",
       "    <tr style=\"text-align: right;\">\n",
       "      <th></th>\n",
       "      <th>excerpt</th>\n",
       "      <th>target</th>\n",
       "    </tr>\n",
       "  </thead>\n",
       "  <tbody>\n",
       "    <tr>\n",
       "      <th>0</th>\n",
       "      <td>When the young people returned to the ballroom, it presented a decidedly changed appearance. Instead of an interior scene, it was a winter landscape.\\nThe floor was covered with snow-white canvas, not laid on smoothly, but rumpled over bumps and hillocks, like a real snow field. The numerous palms and evergreens that had decorated the room, were powdered with flour and strewn with tufts of cotton, like snow. Also diamond dust had been lightly sprinkled on them, and glittering crystal icicles hung from the branches.\\nAt each end of the room, on the wall, hung a beautiful bear-skin rug.\\nThe...</td>\n",
       "      <td>-0.340259</td>\n",
       "    </tr>\n",
       "  </tbody>\n",
       "</table>\n",
       "</div>"
      ],
      "text/plain": [
       "                                                                                                                                                                                                                                                                                                                                                                                                                                                                                                                                                                                                                   excerpt  \\\n",
       "0  When the young people returned to the ballroom, it presented a decidedly changed appearance. Instead of an interior scene, it was a winter landscape.\\nThe floor was covered with snow-white canvas, not laid on smoothly, but rumpled over bumps and hillocks, like a real snow field. The numerous palms and evergreens that had decorated the room, were powdered with flour and strewn with tufts of cotton, like snow. Also diamond dust had been lightly sprinkled on them, and glittering crystal icicles hung from the branches.\\nAt each end of the room, on the wall, hung a beautiful bear-skin rug.\\nThe...   \n",
       "\n",
       "     target  \n",
       "0 -0.340259  "
      ]
     },
     "execution_count": 7,
     "metadata": {},
     "output_type": "execute_result"
    }
   ],
   "source": [
    "df_cbt_aug_pseudo_label.head(1)"
   ]
  },
  {
   "cell_type": "code",
   "execution_count": 8,
   "id": "4707270e",
   "metadata": {
    "execution": {
     "iopub.execute_input": "2021-08-01T03:45:19.270763Z",
     "iopub.status.busy": "2021-08-01T03:45:19.269964Z",
     "iopub.status.idle": "2021-08-01T03:45:19.274404Z",
     "shell.execute_reply": "2021-08-01T03:45:19.274783Z",
     "shell.execute_reply.started": "2021-08-01T02:30:21.953571Z"
    },
    "papermill": {
     "duration": 0.737687,
     "end_time": "2021-08-01T03:45:19.274925",
     "exception": false,
     "start_time": "2021-08-01T03:45:18.537238",
     "status": "completed"
    },
    "tags": []
   },
   "outputs": [
    {
     "data": {
      "text/html": [
       "<div>\n",
       "<style scoped>\n",
       "    .dataframe tbody tr th:only-of-type {\n",
       "        vertical-align: middle;\n",
       "    }\n",
       "\n",
       "    .dataframe tbody tr th {\n",
       "        vertical-align: top;\n",
       "    }\n",
       "\n",
       "    .dataframe thead th {\n",
       "        text-align: right;\n",
       "    }\n",
       "</style>\n",
       "<table border=\"1\" class=\"dataframe\">\n",
       "  <thead>\n",
       "    <tr style=\"text-align: right;\">\n",
       "      <th></th>\n",
       "      <th>id</th>\n",
       "      <th>url_legal</th>\n",
       "      <th>license</th>\n",
       "      <th>excerpt</th>\n",
       "    </tr>\n",
       "  </thead>\n",
       "  <tbody>\n",
       "    <tr>\n",
       "      <th>0</th>\n",
       "      <td>c0f722661</td>\n",
       "      <td>NaN</td>\n",
       "      <td>NaN</td>\n",
       "      <td>My hope lay in Jack's promise that he would keep a bright light burning in the upper story to guide me on my course. On a clear night this light was visible from the village, but somehow or other I failed to take into account the state of the weather. The air was full of eddying flakes, which would render the headlight of a locomotive invisible a hundred yards distant. Strange that this important fact never occurred to me until I was fully a fourth of a mile from the village. Then, after looking in vain for the beacon light, the danger of my situation struck me, and I halted.\\n\"I am certai...</td>\n",
       "    </tr>\n",
       "  </tbody>\n",
       "</table>\n",
       "</div>"
      ],
      "text/plain": [
       "          id url_legal license  \\\n",
       "0  c0f722661       NaN     NaN   \n",
       "\n",
       "                                                                                                                                                                                                                                                                                                                                                                                                                                                                                                                                                                                                                   excerpt  \n",
       "0  My hope lay in Jack's promise that he would keep a bright light burning in the upper story to guide me on my course. On a clear night this light was visible from the village, but somehow or other I failed to take into account the state of the weather. The air was full of eddying flakes, which would render the headlight of a locomotive invisible a hundred yards distant. Strange that this important fact never occurred to me until I was fully a fourth of a mile from the village. Then, after looking in vain for the beacon light, the danger of my situation struck me, and I halted.\\n\"I am certai...  "
      ]
     },
     "execution_count": 8,
     "metadata": {},
     "output_type": "execute_result"
    }
   ],
   "source": [
    "df_test.head(1)"
   ]
  },
  {
   "cell_type": "code",
   "execution_count": 9,
   "id": "ce4fb022",
   "metadata": {
    "execution": {
     "iopub.execute_input": "2021-08-01T03:45:20.273879Z",
     "iopub.status.busy": "2021-08-01T03:45:20.272936Z",
     "iopub.status.idle": "2021-08-01T03:45:20.277405Z",
     "shell.execute_reply": "2021-08-01T03:45:20.277781Z",
     "shell.execute_reply.started": "2021-08-01T02:31:13.434184Z"
    },
    "papermill": {
     "duration": 0.509666,
     "end_time": "2021-08-01T03:45:20.277917",
     "exception": false,
     "start_time": "2021-08-01T03:45:19.768251",
     "status": "completed"
    },
    "tags": []
   },
   "outputs": [
    {
     "data": {
      "text/html": [
       "<div>\n",
       "<style scoped>\n",
       "    .dataframe tbody tr th:only-of-type {\n",
       "        vertical-align: middle;\n",
       "    }\n",
       "\n",
       "    .dataframe tbody tr th {\n",
       "        vertical-align: top;\n",
       "    }\n",
       "\n",
       "    .dataframe thead th {\n",
       "        text-align: right;\n",
       "    }\n",
       "</style>\n",
       "<table border=\"1\" class=\"dataframe\">\n",
       "  <thead>\n",
       "    <tr style=\"text-align: right;\">\n",
       "      <th></th>\n",
       "      <th>excerpt</th>\n",
       "    </tr>\n",
       "  </thead>\n",
       "  <tbody>\n",
       "    <tr>\n",
       "      <th>0</th>\n",
       "      <td>My hope lay in Jack's promise that he would keep a bright light burning in the upper story to guide me on my course. On a clear night this light was visible from the village, but somehow or other I failed to take into account the state of the weather. The air was full of eddying flakes, which would render the headlight of a locomotive invisible a hundred yards distant. Strange that this important fact never occurred to me until I was fully a fourth of a mile from the village. Then, after looking in vain for the beacon light, the danger of my situation struck me, and I halted.\\n\"I am certai...</td>\n",
       "    </tr>\n",
       "  </tbody>\n",
       "</table>\n",
       "</div>"
      ],
      "text/plain": [
       "                                                                                                                                                                                                                                                                                                                                                                                                                                                                                                                                                                                                                   excerpt\n",
       "0  My hope lay in Jack's promise that he would keep a bright light burning in the upper story to guide me on my course. On a clear night this light was visible from the village, but somehow or other I failed to take into account the state of the weather. The air was full of eddying flakes, which would render the headlight of a locomotive invisible a hundred yards distant. Strange that this important fact never occurred to me until I was fully a fourth of a mile from the village. Then, after looking in vain for the beacon light, the danger of my situation struck me, and I halted.\\n\"I am certai..."
      ]
     },
     "execution_count": 9,
     "metadata": {},
     "output_type": "execute_result"
    }
   ],
   "source": [
    "df_test = drop_cols(df_test, ['id', 'url_legal',\n",
    "                             'license'])\n",
    "df_test.head(1)"
   ]
  },
  {
   "cell_type": "code",
   "execution_count": 10,
   "id": "b2fe7dcd",
   "metadata": {
    "execution": {
     "iopub.execute_input": "2021-08-01T03:45:21.273073Z",
     "iopub.status.busy": "2021-08-01T03:45:21.272210Z",
     "iopub.status.idle": "2021-08-01T03:45:21.274963Z",
     "shell.execute_reply": "2021-08-01T03:45:21.274564Z",
     "shell.execute_reply.started": "2021-08-01T02:33:03.697798Z"
    },
    "papermill": {
     "duration": 0.497857,
     "end_time": "2021-08-01T03:45:21.275089",
     "exception": false,
     "start_time": "2021-08-01T03:45:20.777232",
     "status": "completed"
    },
    "tags": []
   },
   "outputs": [],
   "source": [
    "inf_targets = df_subm.target.to_list()"
   ]
  },
  {
   "cell_type": "code",
   "execution_count": 11,
   "id": "2ee398ec",
   "metadata": {
    "execution": {
     "iopub.execute_input": "2021-08-01T03:45:22.274023Z",
     "iopub.status.busy": "2021-08-01T03:45:22.273148Z",
     "iopub.status.idle": "2021-08-01T03:45:22.276299Z",
     "shell.execute_reply": "2021-08-01T03:45:22.276799Z",
     "shell.execute_reply.started": "2021-08-01T02:33:31.122938Z"
    },
    "papermill": {
     "duration": 0.508117,
     "end_time": "2021-08-01T03:45:22.276934",
     "exception": false,
     "start_time": "2021-08-01T03:45:21.768817",
     "status": "completed"
    },
    "tags": []
   },
   "outputs": [
    {
     "data": {
      "text/html": [
       "<div>\n",
       "<style scoped>\n",
       "    .dataframe tbody tr th:only-of-type {\n",
       "        vertical-align: middle;\n",
       "    }\n",
       "\n",
       "    .dataframe tbody tr th {\n",
       "        vertical-align: top;\n",
       "    }\n",
       "\n",
       "    .dataframe thead th {\n",
       "        text-align: right;\n",
       "    }\n",
       "</style>\n",
       "<table border=\"1\" class=\"dataframe\">\n",
       "  <thead>\n",
       "    <tr style=\"text-align: right;\">\n",
       "      <th></th>\n",
       "      <th>excerpt</th>\n",
       "      <th>target</th>\n",
       "    </tr>\n",
       "  </thead>\n",
       "  <tbody>\n",
       "    <tr>\n",
       "      <th>0</th>\n",
       "      <td>My hope lay in Jack's promise that he would keep a bright light burning in the upper story to guide me on my course. On a clear night this light was visible from the village, but somehow or other I failed to take into account the state of the weather. The air was full of eddying flakes, which would render the headlight of a locomotive invisible a hundred yards distant. Strange that this important fact never occurred to me until I was fully a fourth of a mile from the village. Then, after looking in vain for the beacon light, the danger of my situation struck me, and I halted.\\n\"I am certai...</td>\n",
       "      <td>-1.354704</td>\n",
       "    </tr>\n",
       "  </tbody>\n",
       "</table>\n",
       "</div>"
      ],
      "text/plain": [
       "                                                                                                                                                                                                                                                                                                                                                                                                                                                                                                                                                                                                                   excerpt  \\\n",
       "0  My hope lay in Jack's promise that he would keep a bright light burning in the upper story to guide me on my course. On a clear night this light was visible from the village, but somehow or other I failed to take into account the state of the weather. The air was full of eddying flakes, which would render the headlight of a locomotive invisible a hundred yards distant. Strange that this important fact never occurred to me until I was fully a fourth of a mile from the village. Then, after looking in vain for the beacon light, the danger of my situation struck me, and I halted.\\n\"I am certai...   \n",
       "\n",
       "     target  \n",
       "0 -1.354704  "
      ]
     },
     "execution_count": 11,
     "metadata": {},
     "output_type": "execute_result"
    }
   ],
   "source": [
    "df_test['target'] = inf_targets\n",
    "df_test.head(1)"
   ]
  },
  {
   "cell_type": "code",
   "execution_count": 12,
   "id": "bdde0ed1",
   "metadata": {
    "execution": {
     "iopub.execute_input": "2021-08-01T03:45:23.265115Z",
     "iopub.status.busy": "2021-08-01T03:45:23.263803Z",
     "iopub.status.idle": "2021-08-01T03:45:23.272982Z",
     "shell.execute_reply": "2021-08-01T03:45:23.273480Z",
     "shell.execute_reply.started": "2021-08-01T02:35:33.593763Z"
    },
    "papermill": {
     "duration": 0.505365,
     "end_time": "2021-08-01T03:45:23.273639",
     "exception": false,
     "start_time": "2021-08-01T03:45:22.768274",
     "status": "completed"
    },
    "tags": []
   },
   "outputs": [
    {
     "data": {
      "text/html": [
       "<div>\n",
       "<style scoped>\n",
       "    .dataframe tbody tr th:only-of-type {\n",
       "        vertical-align: middle;\n",
       "    }\n",
       "\n",
       "    .dataframe tbody tr th {\n",
       "        vertical-align: top;\n",
       "    }\n",
       "\n",
       "    .dataframe thead th {\n",
       "        text-align: right;\n",
       "    }\n",
       "</style>\n",
       "<table border=\"1\" class=\"dataframe\">\n",
       "  <thead>\n",
       "    <tr style=\"text-align: right;\">\n",
       "      <th></th>\n",
       "      <th>excerpt</th>\n",
       "      <th>target</th>\n",
       "    </tr>\n",
       "  </thead>\n",
       "  <tbody>\n",
       "    <tr>\n",
       "      <th>0</th>\n",
       "      <td>When the young people returned to the ballroom, it presented a decidedly changed appearance. Instead of an interior scene, it was a winter landscape.\\nThe floor was covered with snow-white canvas, not laid on smoothly, but rumpled over bumps and hillocks, like a real snow field. The numerous palms and evergreens that had decorated the room, were powdered with flour and strewn with tufts of cotton, like snow. Also diamond dust had been lightly sprinkled on them, and glittering crystal icicles hung from the branches.\\nAt each end of the room, on the wall, hung a beautiful bear-skin rug.\\nThe...</td>\n",
       "      <td>-0.340259</td>\n",
       "    </tr>\n",
       "  </tbody>\n",
       "</table>\n",
       "</div>"
      ],
      "text/plain": [
       "                                                                                                                                                                                                                                                                                                                                                                                                                                                                                                                                                                                                                   excerpt  \\\n",
       "0  When the young people returned to the ballroom, it presented a decidedly changed appearance. Instead of an interior scene, it was a winter landscape.\\nThe floor was covered with snow-white canvas, not laid on smoothly, but rumpled over bumps and hillocks, like a real snow field. The numerous palms and evergreens that had decorated the room, were powdered with flour and strewn with tufts of cotton, like snow. Also diamond dust had been lightly sprinkled on them, and glittering crystal icicles hung from the branches.\\nAt each end of the room, on the wall, hung a beautiful bear-skin rug.\\nThe...   \n",
       "\n",
       "     target  \n",
       "0 -0.340259  "
      ]
     },
     "execution_count": 12,
     "metadata": {},
     "output_type": "execute_result"
    }
   ],
   "source": [
    "df_cbt_aug_pseudo_label = concat_dfs([df_cbt_aug_pseudo_label,df_test])\n",
    "df_cbt_aug_pseudo_label.head(1)"
   ]
  },
  {
   "cell_type": "markdown",
   "id": "a9838591",
   "metadata": {
    "papermill": {
     "duration": 0.494451,
     "end_time": "2021-08-01T03:45:24.301037",
     "exception": false,
     "start_time": "2021-08-01T03:45:23.806586",
     "status": "completed"
    },
    "tags": []
   },
   "source": [
    "## Create the forward model "
   ]
  },
  {
   "cell_type": "markdown",
   "id": "ab3e54c4",
   "metadata": {
    "papermill": {
     "duration": 0.492827,
     "end_time": "2021-08-01T03:45:25.287465",
     "exception": false,
     "start_time": "2021-08-01T03:45:24.794638",
     "status": "completed"
    },
    "tags": []
   },
   "source": [
    "## The dataloader"
   ]
  },
  {
   "cell_type": "code",
   "execution_count": 13,
   "id": "e74a9707",
   "metadata": {
    "execution": {
     "iopub.execute_input": "2021-08-01T03:45:26.283692Z",
     "iopub.status.busy": "2021-08-01T03:45:26.282818Z",
     "iopub.status.idle": "2021-08-01T03:48:03.321658Z",
     "shell.execute_reply": "2021-08-01T03:48:03.322805Z",
     "shell.execute_reply.started": "2021-08-01T02:35:51.032013Z"
    },
    "papermill": {
     "duration": 157.539756,
     "end_time": "2021-08-01T03:48:03.323040",
     "exception": false,
     "start_time": "2021-08-01T03:45:25.783284",
     "status": "completed"
    },
    "tags": []
   },
   "outputs": [
    {
     "data": {
      "text/html": [],
      "text/plain": [
       "<IPython.core.display.HTML object>"
      ]
     },
     "metadata": {},
     "output_type": "display_data"
    },
    {
     "name": "stderr",
     "output_type": "stream",
     "text": [
      "/opt/conda/lib/python3.7/site-packages/numpy/core/_asarray.py:83: VisibleDeprecationWarning: Creating an ndarray from ragged nested sequences (which is a list-or-tuple of lists-or-tuples-or ndarrays with different lengths or shapes) is deprecated. If you meant to do this, you must specify 'dtype=object' when creating the ndarray\n",
      "  return array(a, dtype, copy=False, order=order)\n"
     ]
    }
   ],
   "source": [
    "dls_lm_forward = TextDataLoaders.from_df(df_cbt_aug_pseudo_label, text_col='excerpt',\n",
    "                                      is_lm=True, valid_pct=0.1,\n",
    "                                      bs=128, seq_len=72, backwards=False)"
   ]
  },
  {
   "cell_type": "code",
   "execution_count": 14,
   "id": "7d997ec0",
   "metadata": {
    "execution": {
     "iopub.execute_input": "2021-08-01T03:48:04.664410Z",
     "iopub.status.busy": "2021-08-01T03:48:04.659482Z",
     "iopub.status.idle": "2021-08-01T03:48:04.942036Z",
     "shell.execute_reply": "2021-08-01T03:48:04.942514Z",
     "shell.execute_reply.started": "2021-08-01T02:38:57.454454Z"
    },
    "papermill": {
     "duration": 0.862243,
     "end_time": "2021-08-01T03:48:04.942674",
     "exception": false,
     "start_time": "2021-08-01T03:48:04.080431",
     "status": "completed"
    },
    "tags": []
   },
   "outputs": [
    {
     "data": {
      "text/html": [
       "<table border=\"1\" class=\"dataframe\">\n",
       "  <thead>\n",
       "    <tr style=\"text-align: right;\">\n",
       "      <th></th>\n",
       "      <th>text</th>\n",
       "      <th>text_</th>\n",
       "    </tr>\n",
       "  </thead>\n",
       "  <tbody>\n",
       "    <tr>\n",
       "      <th>0</th>\n",
       "      <td>xxbos ` ` xxmaj for , '' he said , ` ` however flourishing we may seem to foreigners , we are in danger of an invasion from the island of xxmaj blefuscu , which is the other great empire of the universe , almost as large and as powerful as this of his xxmaj majesty .for as to what we have heard you say , that there are other kingdoms in</td>\n",
       "      <td>` ` xxmaj for , '' he said , ` ` however flourishing we may seem to foreigners , we are in danger of an invasion from the island of xxmaj blefuscu , which is the other great empire of the universe , almost as large and as powerful as this of his xxmaj majesty .for as to what we have heard you say , that there are other kingdoms in the</td>\n",
       "    </tr>\n",
       "    <tr>\n",
       "      <th>1</th>\n",
       "      <td>not notice the escape of the princess . ' a few minutes later they arrived at the castle , and the fox , who had often been there before , slipped in without difficulty .there were several giants , both young and old , in the hall , and they were all dancing round the princess .as soon as they saw the fox they cried out : ` xxmaj come and dance</td>\n",
       "      <td>notice the escape of the princess . ' a few minutes later they arrived at the castle , and the fox , who had often been there before , slipped in without difficulty .there were several giants , both young and old , in the hall , and they were all dancing round the princess .as soon as they saw the fox they cried out : ` xxmaj come and dance too</td>\n",
       "    </tr>\n",
       "    <tr>\n",
       "      <th>2</th>\n",
       "      <td>-- lsb- xxmaj footnote 4 : xxmaj world - gripper . -rsb -- lsb- xxmaj footnote 5 : xxmaj love - enkindler . -rsb -- lsb- xxmaj footnote 6 : xxmaj rose - cheek . -rsb -- lsb- xxmaj footnote 7 : xxmaj heartsease . -rsb -- lsb- xxmaj footnote 8 : xxmaj elias . -rsb -- lsb- xxmaj footnote 9 : xxmaj pleasure . -rsb -- lsb- xxmaj footnote 10 :</td>\n",
       "      <td>lsb- xxmaj footnote 4 : xxmaj world - gripper . -rsb -- lsb- xxmaj footnote 5 : xxmaj love - enkindler . -rsb -- lsb- xxmaj footnote 6 : xxmaj rose - cheek . -rsb -- lsb- xxmaj footnote 7 : xxmaj heartsease . -rsb -- lsb- xxmaj footnote 8 : xxmaj elias . -rsb -- lsb- xxmaj footnote 9 : xxmaj pleasure . -rsb -- lsb- xxmaj footnote 10 : xxmaj</td>\n",
       "    </tr>\n",
       "    <tr>\n",
       "      <th>3</th>\n",
       "      <td>not do that , '' said the bailiff ; ` ` i am the one to do that . '' and , big and fat as he was , he went out as briskly as a boy . ` ` xxmaj tell me when you have got hold of the calf 's tail , '' said the xxmaj master - maid . ` ` i have hold of it now , ''</td>\n",
       "      <td>do that , '' said the bailiff ; ` ` i am the one to do that . '' and , big and fat as he was , he went out as briskly as a boy . ` ` xxmaj tell me when you have got hold of the calf 's tail , '' said the xxmaj master - maid . ` ` i have hold of it now , '' cried</td>\n",
       "    </tr>\n",
       "    <tr>\n",
       "      <th>4</th>\n",
       "      <td>'' they asked .and then the king told them about xxmaj jaqueline and the xxmaj earthquaker , and how he needed a great weight of xxmaj stupidity to flatten him out with .the ladies heard him in silence , and then they said : ` ` xxmaj follow us , '' and they flew lightly beside the xxmaj flying xxmaj horse till they had crossed all the bright side of the moon</td>\n",
       "      <td>they asked .and then the king told them about xxmaj jaqueline and the xxmaj earthquaker , and how he needed a great weight of xxmaj stupidity to flatten him out with .the ladies heard him in silence , and then they said : ` ` xxmaj follow us , '' and they flew lightly beside the xxmaj flying xxmaj horse till they had crossed all the bright side of the moon ,</td>\n",
       "    </tr>\n",
       "    <tr>\n",
       "      <th>5</th>\n",
       "      <td>very thick there ; so that the yard looked yellow , instead of green . \\n xxmaj one bright morning xxmaj willy 's mamma put on his straw hat , and sent him out in the yard to play . xxmaj she knew the yard had a high fence ; and he could not open the gate ; so he was safe . \\n xxmaj when it was time for him to</td>\n",
       "      <td>thick there ; so that the yard looked yellow , instead of green . \\n xxmaj one bright morning xxmaj willy 's mamma put on his straw hat , and sent him out in the yard to play . xxmaj she knew the yard had a high fence ; and he could not open the gate ; so he was safe . \\n xxmaj when it was time for him to have</td>\n",
       "    </tr>\n",
       "    <tr>\n",
       "      <th>6</th>\n",
       "      <td>his nose and put spurs to his horse , for the yellow light of xxmaj jaunia makes people melancholy and cowardly .as he pricked on , his horse stumbled and nearly came on its nose .the prince noticed that a steel chain had been drawn across the road . ` ` xxmaj what caitiff has dared ! '' he exclaimed , when his hat was knocked off by a well - aimed</td>\n",
       "      <td>nose and put spurs to his horse , for the yellow light of xxmaj jaunia makes people melancholy and cowardly .as he pricked on , his horse stumbled and nearly came on its nose .the prince noticed that a steel chain had been drawn across the road . ` ` xxmaj what caitiff has dared ! '' he exclaimed , when his hat was knocked off by a well - aimed orange</td>\n",
       "    </tr>\n",
       "    <tr>\n",
       "      <th>7</th>\n",
       "      <td>that they wo n't be able to find their way out again .there is no other way of saving ourselves . '' the man 's heart smote him heavily , and he thought : ` ` xxmaj surely it would be better to share the last bite with one 's children ! '' but his wife would n't listen to his arguments , and did nothing but scold and reproach him .if</td>\n",
       "      <td>they wo n't be able to find their way out again .there is no other way of saving ourselves . '' the man 's heart smote him heavily , and he thought : ` ` xxmaj surely it would be better to share the last bite with one 's children ! '' but his wife would n't listen to his arguments , and did nothing but scold and reproach him .if a</td>\n",
       "    </tr>\n",
       "    <tr>\n",
       "      <th>8</th>\n",
       "      <td>on the limbs of the xxmaj firedrake .meanwhile , the prince , safe on his hill , was lunching on the loaf and the cold tongue he had brought with him . ` ` xxmaj go it , xxmaj remora ! go it , xxmaj firedrake ! you 're gaining .give it him , xxmaj remora ! '' he shouted in the wildest excitement .nobody had ever seen such a battle ;</td>\n",
       "      <td>the limbs of the xxmaj firedrake .meanwhile , the prince , safe on his hill , was lunching on the loaf and the cold tongue he had brought with him . ` ` xxmaj go it , xxmaj remora ! go it , xxmaj firedrake ! you 're gaining .give it him , xxmaj remora ! '' he shouted in the wildest excitement .nobody had ever seen such a battle ; he</td>\n",
       "    </tr>\n",
       "  </tbody>\n",
       "</table>"
      ],
      "text/plain": [
       "<IPython.core.display.HTML object>"
      ]
     },
     "metadata": {},
     "output_type": "display_data"
    }
   ],
   "source": [
    "dls_lm_forward.show_batch(min_n=3)"
   ]
  },
  {
   "cell_type": "markdown",
   "id": "1db6423c",
   "metadata": {
    "papermill": {
     "duration": 0.50556,
     "end_time": "2021-08-01T03:48:05.978312",
     "exception": false,
     "start_time": "2021-08-01T03:48:05.472752",
     "status": "completed"
    },
    "tags": []
   },
   "source": [
    "## The forward Language model"
   ]
  },
  {
   "cell_type": "code",
   "execution_count": 15,
   "id": "f69f84cf",
   "metadata": {
    "execution": {
     "iopub.execute_input": "2021-08-01T03:48:07.016735Z",
     "iopub.status.busy": "2021-08-01T03:48:07.015957Z",
     "iopub.status.idle": "2021-08-01T03:48:14.471038Z",
     "shell.execute_reply": "2021-08-01T03:48:14.470056Z",
     "shell.execute_reply.started": "2021-08-01T02:39:07.574652Z"
    },
    "papermill": {
     "duration": 7.959264,
     "end_time": "2021-08-01T03:48:14.471202",
     "exception": false,
     "start_time": "2021-08-01T03:48:06.511938",
     "status": "completed"
    },
    "tags": []
   },
   "outputs": [
    {
     "data": {
      "text/html": [],
      "text/plain": [
       "<IPython.core.display.HTML object>"
      ]
     },
     "metadata": {},
     "output_type": "display_data"
    }
   ],
   "source": [
    "learn_forward = language_model_learner(dls_lm_forward,\n",
    "                               AWD_LSTM,\n",
    "                               drop_mult=2.0,\n",
    "                               metrics=[accuracy, Perplexity()], \n",
    "                               path=path,\n",
    "                              wd=0.5).to_fp16()"
   ]
  },
  {
   "cell_type": "code",
   "execution_count": 16,
   "id": "f855cccb",
   "metadata": {
    "execution": {
     "iopub.execute_input": "2021-08-01T03:48:15.702273Z",
     "iopub.status.busy": "2021-08-01T03:48:15.701412Z",
     "iopub.status.idle": "2021-08-01T03:48:15.703983Z",
     "shell.execute_reply": "2021-08-01T03:48:15.703562Z",
     "shell.execute_reply.started": "2021-08-01T02:39:15.018300Z"
    },
    "papermill": {
     "duration": 0.523097,
     "end_time": "2021-08-01T03:48:15.704103",
     "exception": false,
     "start_time": "2021-08-01T03:48:15.181006",
     "status": "completed"
    },
    "tags": []
   },
   "outputs": [],
   "source": [
    "learn_forward.path = op_path"
   ]
  },
  {
   "cell_type": "code",
   "execution_count": 17,
   "id": "e2ccc650",
   "metadata": {
    "execution": {
     "iopub.execute_input": "2021-08-01T03:48:16.707420Z",
     "iopub.status.busy": "2021-08-01T03:48:16.706628Z",
     "iopub.status.idle": "2021-08-01T03:53:32.188633Z",
     "shell.execute_reply": "2021-08-01T03:53:32.189820Z",
     "shell.execute_reply.started": "2021-08-01T02:39:16.738190Z"
    },
    "papermill": {
     "duration": 315.985569,
     "end_time": "2021-08-01T03:53:32.190092",
     "exception": false,
     "start_time": "2021-08-01T03:48:16.204523",
     "status": "completed"
    },
    "tags": []
   },
   "outputs": [
    {
     "data": {
      "text/html": [
       "<table border=\"1\" class=\"dataframe\">\n",
       "  <thead>\n",
       "    <tr style=\"text-align: left;\">\n",
       "      <th>epoch</th>\n",
       "      <th>train_loss</th>\n",
       "      <th>valid_loss</th>\n",
       "      <th>accuracy</th>\n",
       "      <th>perplexity</th>\n",
       "      <th>time</th>\n",
       "    </tr>\n",
       "  </thead>\n",
       "  <tbody>\n",
       "    <tr>\n",
       "      <td>0</td>\n",
       "      <td>4.468009</td>\n",
       "      <td>3.885311</td>\n",
       "      <td>0.285226</td>\n",
       "      <td>48.682098</td>\n",
       "      <td>05:15</td>\n",
       "    </tr>\n",
       "  </tbody>\n",
       "</table>"
      ],
      "text/plain": [
       "<IPython.core.display.HTML object>"
      ]
     },
     "metadata": {},
     "output_type": "display_data"
    }
   ],
   "source": [
    "learn_forward.fit_one_cycle(1, 2e-2)"
   ]
  },
  {
   "cell_type": "code",
   "execution_count": 18,
   "id": "306369a1",
   "metadata": {
    "execution": {
     "iopub.execute_input": "2021-08-01T03:53:33.534971Z",
     "iopub.status.busy": "2021-08-01T03:53:33.533315Z",
     "iopub.status.idle": "2021-08-01T03:53:33.535591Z",
     "shell.execute_reply": "2021-08-01T03:53:33.535978Z",
     "shell.execute_reply.started": "2021-08-01T02:46:20.712504Z"
    },
    "papermill": {
     "duration": 0.54529,
     "end_time": "2021-08-01T03:53:33.536123",
     "exception": false,
     "start_time": "2021-08-01T03:53:32.990833",
     "status": "completed"
    },
    "tags": []
   },
   "outputs": [],
   "source": [
    "def show_me_lrs(learn):\n",
    "    suggestions = namedtuple('Suggestions', [\"min\", \"steep\",\n",
    "                                            \"valley\", \"slide\"])\n",
    "    lr_min, lr_steep,lr_valley, lr_slide = learn.lr_find(suggest_funcs=(minimum, steep,valley, slide))\n",
    "    suggested_lrs = suggestions(lr_min, lr_steep, lr_valley, lr_slide)\n",
    "    \n",
    "    print(f\"Minimum/10:\\t{lr_min:.2e}\\\n",
    "          \\nSteepest point:\\t{lr_steep:.2e}\\\n",
    "          \\nLongest valley:\\t{lr_valley:.2e}\\\n",
    "          \\nSlide interval:\\t{lr_slide:.2e}\")\n",
    "    \n",
    "    return suggested_lrs"
   ]
  },
  {
   "cell_type": "code",
   "execution_count": 19,
   "id": "c356ea60",
   "metadata": {
    "execution": {
     "iopub.execute_input": "2021-08-01T03:53:34.865958Z",
     "iopub.status.busy": "2021-08-01T03:53:34.865005Z",
     "iopub.status.idle": "2021-08-01T03:54:17.895406Z",
     "shell.execute_reply": "2021-08-01T03:54:17.896518Z",
     "shell.execute_reply.started": "2021-08-01T02:46:23.001602Z"
    },
    "papermill": {
     "duration": 43.57347,
     "end_time": "2021-08-01T03:54:17.896836",
     "exception": false,
     "start_time": "2021-08-01T03:53:34.323366",
     "status": "completed"
    },
    "tags": []
   },
   "outputs": [
    {
     "data": {
      "text/html": [],
      "text/plain": [
       "<IPython.core.display.HTML object>"
      ]
     },
     "metadata": {},
     "output_type": "display_data"
    },
    {
     "name": "stderr",
     "output_type": "stream",
     "text": [
      "/opt/conda/lib/python3.7/site-packages/fastai/callback/schedule.py:270: UserWarning: color is redundantly defined by the 'color' keyword argument and the fmt string \"ro\" (-> color='r'). The keyword argument will take precedence.\n",
      "  ax.plot(val, idx, 'ro', label=nm, c=color)\n"
     ]
    },
    {
     "name": "stdout",
     "output_type": "stream",
     "text": [
      "Minimum/10:\t6.31e-06          \n",
      "Steepest point:\t6.92e-06          \n",
      "Longest valley:\t1.00e-05          \n",
      "Slide interval:\t6.31e-03\n"
     ]
    },
    {
     "data": {
      "image/png": "[encoded data removed]",
      "text/plain": [
       "<Figure size 432x288 with 1 Axes>"
      ]
     },
     "metadata": {
      "needs_background": "light"
     },
     "output_type": "display_data"
    }
   ],
   "source": [
    "suggested_lrs = show_me_lrs(learn_forward)"
   ]
  },
  {
   "cell_type": "code",
   "execution_count": 20,
   "id": "81ad8451",
   "metadata": {
    "execution": {
     "iopub.execute_input": "2021-08-01T03:54:19.066001Z",
     "iopub.status.busy": "2021-08-01T03:54:19.065192Z",
     "iopub.status.idle": "2021-08-01T04:11:49.889788Z",
     "shell.execute_reply": "2021-08-01T04:11:49.889246Z",
     "shell.execute_reply.started": "2021-08-01T02:47:19.926865Z"
    },
    "papermill": {
     "duration": 1051.339102,
     "end_time": "2021-08-01T04:11:49.889957",
     "exception": false,
     "start_time": "2021-08-01T03:54:18.550855",
     "status": "completed"
    },
    "tags": []
   },
   "outputs": [
    {
     "data": {
      "text/html": [
       "<table border=\"1\" class=\"dataframe\">\n",
       "  <thead>\n",
       "    <tr style=\"text-align: left;\">\n",
       "      <th>epoch</th>\n",
       "      <th>train_loss</th>\n",
       "      <th>valid_loss</th>\n",
       "      <th>accuracy</th>\n",
       "      <th>perplexity</th>\n",
       "      <th>time</th>\n",
       "    </tr>\n",
       "  </thead>\n",
       "  <tbody>\n",
       "    <tr>\n",
       "      <td>0</td>\n",
       "      <td>3.678681</td>\n",
       "      <td>3.247253</td>\n",
       "      <td>0.359934</td>\n",
       "      <td>25.719603</td>\n",
       "      <td>05:50</td>\n",
       "    </tr>\n",
       "    <tr>\n",
       "      <td>1</td>\n",
       "      <td>3.290962</td>\n",
       "      <td>2.740915</td>\n",
       "      <td>0.446893</td>\n",
       "      <td>15.501163</td>\n",
       "      <td>05:51</td>\n",
       "    </tr>\n",
       "    <tr>\n",
       "      <td>2</td>\n",
       "      <td>2.896492</td>\n",
       "      <td>2.419196</td>\n",
       "      <td>0.515842</td>\n",
       "      <td>11.236820</td>\n",
       "      <td>05:48</td>\n",
       "    </tr>\n",
       "  </tbody>\n",
       "</table>"
      ],
      "text/plain": [
       "<IPython.core.display.HTML object>"
      ]
     },
     "metadata": {},
     "output_type": "display_data"
    }
   ],
   "source": [
    "learn_forward.unfreeze()\n",
    "learn_forward.fit_one_cycle(3, suggested_lrs.slide)"
   ]
  },
  {
   "cell_type": "code",
   "execution_count": 21,
   "id": "223e6d35",
   "metadata": {
    "execution": {
     "iopub.execute_input": "2021-08-01T04:11:50.951721Z",
     "iopub.status.busy": "2021-08-01T04:11:50.950843Z",
     "iopub.status.idle": "2021-08-01T04:11:51.349364Z",
     "shell.execute_reply": "2021-08-01T04:11:51.348884Z",
     "shell.execute_reply.started": "2021-08-01T03:08:52.855368Z"
    },
    "papermill": {
     "duration": 0.915947,
     "end_time": "2021-08-01T04:11:51.349500",
     "exception": false,
     "start_time": "2021-08-01T04:11:50.433553",
     "status": "completed"
    },
    "tags": []
   },
   "outputs": [],
   "source": [
    "learn_forward.path = Path(\".\")\n",
    "learn_forward.save_encoder('./forward_final_encoder')"
   ]
  },
  {
   "cell_type": "markdown",
   "id": "c540bc67",
   "metadata": {
    "papermill": {
     "duration": 0.496664,
     "end_time": "2021-08-01T04:11:52.346659",
     "exception": false,
     "start_time": "2021-08-01T04:11:51.849995",
     "status": "completed"
    },
    "tags": []
   },
   "source": [
    "## Forward Text Regressor"
   ]
  },
  {
   "cell_type": "code",
   "execution_count": 22,
   "id": "58136b80",
   "metadata": {
    "execution": {
     "iopub.execute_input": "2021-08-01T04:11:53.424285Z",
     "iopub.status.busy": "2021-08-01T04:11:53.386203Z",
     "iopub.status.idle": "2021-08-01T04:11:53.551765Z",
     "shell.execute_reply": "2021-08-01T04:11:53.551343Z",
     "shell.execute_reply.started": "2021-08-01T03:09:00.657061Z"
    },
    "papermill": {
     "duration": 0.700823,
     "end_time": "2021-08-01T04:11:53.551884",
     "exception": false,
     "start_time": "2021-08-01T04:11:52.851061",
     "status": "completed"
    },
    "tags": []
   },
   "outputs": [],
   "source": [
    "data = DataBlock(\n",
    "       blocks=(TextBlock.from_df('excerpt', \n",
    "                                 vocab=dls_lm_forward.vocab, seq_len=72,\n",
    "                                 backwards=False), RegressionBlock),\n",
    "       get_x=ColReader('text'),get_y=ColReader('target'),\n",
    "       splitter=TrainTestSplitter(test_size=0.2))"
   ]
  },
  {
   "cell_type": "code",
   "execution_count": 23,
   "id": "5ab889b7",
   "metadata": {
    "execution": {
     "iopub.execute_input": "2021-08-01T04:11:54.785309Z",
     "iopub.status.busy": "2021-08-01T04:11:54.784449Z",
     "iopub.status.idle": "2021-08-01T04:11:54.787043Z",
     "shell.execute_reply": "2021-08-01T04:11:54.786644Z"
    },
    "papermill": {
     "duration": 0.505115,
     "end_time": "2021-08-01T04:11:54.787171",
     "exception": false,
     "start_time": "2021-08-01T04:11:54.282056",
     "status": "completed"
    },
    "tags": []
   },
   "outputs": [],
   "source": [
    "#data.summary(df_aug)"
   ]
  },
  {
   "cell_type": "markdown",
   "id": "1a9c67bd",
   "metadata": {
    "papermill": {
     "duration": 0.496567,
     "end_time": "2021-08-01T04:11:55.779746",
     "exception": false,
     "start_time": "2021-08-01T04:11:55.283179",
     "status": "completed"
    },
    "tags": []
   },
   "source": [
    "## The forward dataloader"
   ]
  },
  {
   "cell_type": "code",
   "execution_count": 24,
   "id": "79131e68",
   "metadata": {
    "execution": {
     "iopub.execute_input": "2021-08-01T04:11:56.834526Z",
     "iopub.status.busy": "2021-08-01T04:11:56.833813Z",
     "iopub.status.idle": "2021-08-01T04:14:33.367540Z",
     "shell.execute_reply": "2021-08-01T04:14:33.366527Z",
     "shell.execute_reply.started": "2021-08-01T03:09:10.579014Z"
    },
    "papermill": {
     "duration": 157.088396,
     "end_time": "2021-08-01T04:14:33.367708",
     "exception": false,
     "start_time": "2021-08-01T04:11:56.279312",
     "status": "completed"
    },
    "tags": []
   },
   "outputs": [
    {
     "data": {
      "text/html": [],
      "text/plain": [
       "<IPython.core.display.HTML object>"
      ]
     },
     "metadata": {},
     "output_type": "display_data"
    },
    {
     "name": "stderr",
     "output_type": "stream",
     "text": [
      "/opt/conda/lib/python3.7/site-packages/numpy/core/_asarray.py:83: VisibleDeprecationWarning: Creating an ndarray from ragged nested sequences (which is a list-or-tuple of lists-or-tuples-or ndarrays with different lengths or shapes) is deprecated. If you meant to do this, you must specify 'dtype=object' when creating the ndarray\n",
      "  return array(a, dtype, copy=False, order=order)\n"
     ]
    }
   ],
   "source": [
    "dls_reg_forward = data.dataloaders(df_cbt_aug_pseudo_label, bs=8)"
   ]
  },
  {
   "cell_type": "code",
   "execution_count": 25,
   "id": "ae160fdd",
   "metadata": {
    "execution": {
     "iopub.execute_input": "2021-08-01T04:14:34.450370Z",
     "iopub.status.busy": "2021-08-01T04:14:34.449495Z",
     "iopub.status.idle": "2021-08-01T04:14:34.524574Z",
     "shell.execute_reply": "2021-08-01T04:14:34.525015Z",
     "shell.execute_reply.started": "2021-08-01T03:11:49.085045Z"
    },
    "papermill": {
     "duration": 0.623397,
     "end_time": "2021-08-01T04:14:34.525195",
     "exception": false,
     "start_time": "2021-08-01T04:14:33.901798",
     "status": "completed"
    },
    "tags": []
   },
   "outputs": [
    {
     "data": {
      "text/html": [
       "<table border=\"1\" class=\"dataframe\">\n",
       "  <thead>\n",
       "    <tr style=\"text-align: right;\">\n",
       "      <th></th>\n",
       "      <th>text</th>\n",
       "      <th>text_</th>\n",
       "    </tr>\n",
       "  </thead>\n",
       "  <tbody>\n",
       "    <tr>\n",
       "      <th>0</th>\n",
       "      <td>xxbos xxmaj the shops were all of a size , and all that dealt in the same sort of goods lived in one street ; as also the handicrafts - men , who kept their shops in the smaller streets .the multitude of shops , stocked with all sorts of merchandise , as the finest linens from several parts of xxmaj india , some painted in the most lively colors , and representing beasts , trees , and flowers ; silks and brocades from xxmaj persia , xxmaj china , and other places , porcelain both from xxmaj japan and xxmaj china , and tapestries , surprised him so much that he knew not how to believe his own eyes ; but when he came to the goldsmiths and jewelers he was in a kind of ecstacy to behold such prodigious quantities of wrought gold and silver , and was</td>\n",
       "      <td>-1.535057544708252</td>\n",
       "    </tr>\n",
       "    <tr>\n",
       "      <th>1</th>\n",
       "      <td>xxbos i should be very much amazed myself if i did not know you . '' the crier , addressing himself to xxmaj prince xxmaj ali , said : ` ` xxmaj sir , you are not the only person that takes me for a madman on account of this perspective glass .you shall judge yourself whether i am or no , when i have told you its property and i hope you will value it at as high a price as those i have showed it to already , who had as bad an opinion of me as you . ` ` xxmaj first , sir , '' pursued the crier , presenting the ivory pipe to the xxmaj prince , ` ` observe that this pipe is furnished with a glass at both ends ; and consider that by looking through one of them you see whatever object</td>\n",
       "      <td>-1.694153904914856</td>\n",
       "    </tr>\n",
       "    <tr>\n",
       "      <th>2</th>\n",
       "      <td>xxbos xxmaj the lions will be so busy eating they will let you pass by them . '' prince xxmaj ahmed set out the next morning at the time appointed by the xxmaj fairy , and followed her directions exactly .when he arrived at the gates of the castle he distributed the quarters of mutton among the four lions , and , passing through the midst of them bravely , got to the fountain , filled his bottle , and returned back as safe and sound as he went .when he had gone a little distance from the castle gates he turned him about , and , perceiving two of the lions coming after him , he drew his sabre and prepared himself for defense .but as he went forward he saw one of them turned out of the road at some distance , and showed by his head and</td>\n",
       "      <td>-1.4625051021575928</td>\n",
       "    </tr>\n",
       "    <tr>\n",
       "      <th>3</th>\n",
       "      <td>xxbos xxmaj the young xxmaj queen was turned of twenty , not reckoning the hundred years she had been asleep ; and how to find in the yard a beast so firm was what puzzled him .he took then a resolution , that he might save his own life , to cut the xxmaj queen 's throat ; and going up into her chamber , with intent to do it at once , he put himself into as great fury as he could possibly , and came into the young xxmaj queen 's room with his dagger in his hand .he would not , however , surprise her , but told her , with a great deal of respect , the orders he had received from the xxmaj queen - mother . ` ` xxmaj do it ; do it '' -lrb- said she , stretching out her neck -rrb-</td>\n",
       "      <td>-0.49099093675613403</td>\n",
       "    </tr>\n",
       "    <tr>\n",
       "      <th>4</th>\n",
       "      <td>xxbos xxmaj so the bailiff had to bestir himself , for the calf went over rough and smooth , over hill and dale , and , the more the bailiff cried and screamed , the faster the calf went .when daylight began to appear , the bailiff was half dead ; and so glad was he to leave loose of the calf 's tail , that he forgot the sack of money and all else .he walked now slowly -- more slowly than the sheriff and the attorney had done , but , the slower he went , the more time had everyone to stare and look at him ; and they used it too , and no one can imagine how tired out and ragged he looked after his dance with the calf .on the following day the wedding was to take place in the xxmaj king 's palace</td>\n",
       "      <td>-0.19567763805389404</td>\n",
       "    </tr>\n",
       "    <tr>\n",
       "      <th>5</th>\n",
       "      <td>xxbos xxmaj first , i do n't think it proper for you to tell the xxmaj sultan your father of our marriage , nor of my quality , nor the place where you have been .beg of him to be satisfied in knowing you are happy , and desire no more ; and let him know that the sole end of your visit is to make him easy , and inform him of your fate . '' she appointed twenty gentlemen , well mounted and equipped , to attend him .when all was ready xxmaj prince xxmaj ahmed took his leave of the xxmaj fairy , embraced her , and renewed his promise to return soon .then his horse , which was most finely caparisoned , and was as beautiful a creature as any in the xxmaj sultan of xxmaj indies ' stables , was led to him , and</td>\n",
       "      <td>-1.4350042343139648</td>\n",
       "    </tr>\n",
       "    <tr>\n",
       "      <th>6</th>\n",
       "      <td>xxbos xxmaj they made a new bottom as fast as they could , but , no matter how they nailed it together , or what kind of wood they used , no sooner had they got the new bottom into the coach and were about to drive off than it broke again , so that they were still worse off than when they had broken the trace - pin .then the attorney said , for he too was at the wedding in the palace : ` ` xxmaj away there in the thicket dwells a maiden , and if you could but get her to lend you one - half of her porch - door i am certain that it will hold together . '' so they again sent a messenger to the thicket , and begged so prettily for the loan of the gilded porch - door of which</td>\n",
       "      <td>-0.4051083028316498</td>\n",
       "    </tr>\n",
       "    <tr>\n",
       "      <th>7</th>\n",
       "      <td>xxbos xxmaj several choruses of beautiful women richly dressed , and whose voices were ravishing , began a concert , accompanied with all sorts of the most harmonious instruments ; and when they were set down at table the xxmaj fairy xxmaj paribanou took care to help xxmaj prince xxmaj ahmed to the most delicate meats , which she named as she invited him to eat of them , and which the xxmaj prince found to be so exquisitely nice that he commended them with exaggeration , and said that the entertainment far surpassed those of man .he found also the same excellence in the wines , which neither he nor the xxmaj fairy tasted of till the dessert was served up , which consisted of the choicest sweetmeats and fruits .the wedding feast was continued the next day , or , rather , the days following the celebration were</td>\n",
       "      <td>-1.4742257595062256</td>\n",
       "    </tr>\n",
       "  </tbody>\n",
       "</table>"
      ],
      "text/plain": [
       "<IPython.core.display.HTML object>"
      ]
     },
     "metadata": {},
     "output_type": "display_data"
    }
   ],
   "source": [
    "dls_reg_forward.show_batch()"
   ]
  },
  {
   "cell_type": "markdown",
   "id": "75c4619e",
   "metadata": {
    "papermill": {
     "duration": 0.535252,
     "end_time": "2021-08-01T04:14:35.596665",
     "exception": false,
     "start_time": "2021-08-01T04:14:35.061413",
     "status": "completed"
    },
    "tags": []
   },
   "source": [
    "## The regression model"
   ]
  },
  {
   "cell_type": "code",
   "execution_count": 26,
   "id": "194c6e8c",
   "metadata": {
    "execution": {
     "iopub.execute_input": "2021-08-01T04:14:36.665749Z",
     "iopub.status.busy": "2021-08-01T04:14:36.664987Z",
     "iopub.status.idle": "2021-08-01T04:14:37.751918Z",
     "shell.execute_reply": "2021-08-01T04:14:37.750997Z",
     "shell.execute_reply.started": "2021-08-01T03:12:01.469026Z"
    },
    "papermill": {
     "duration": 1.611177,
     "end_time": "2021-08-01T04:14:37.752073",
     "exception": false,
     "start_time": "2021-08-01T04:14:36.140896",
     "status": "completed"
    },
    "tags": []
   },
   "outputs": [],
   "source": [
    "learn_reg_forward = text_classifier_learner(dls_reg_forward, AWD_LSTM, drop_mult=2.0,\n",
    "                                opt_func=QHAdam,\n",
    "                                metrics=rmse,\n",
    "                                   wd=1.0).to_fp16()"
   ]
  },
  {
   "cell_type": "code",
   "execution_count": 27,
   "id": "3e6a9425",
   "metadata": {
    "execution": {
     "iopub.execute_input": "2021-08-01T04:14:38.828684Z",
     "iopub.status.busy": "2021-08-01T04:14:38.825710Z",
     "iopub.status.idle": "2021-08-01T04:14:38.954589Z",
     "shell.execute_reply": "2021-08-01T04:14:38.953838Z",
     "shell.execute_reply.started": "2021-08-01T03:12:05.522783Z"
    },
    "papermill": {
     "duration": 0.704448,
     "end_time": "2021-08-01T04:14:38.954772",
     "exception": false,
     "start_time": "2021-08-01T04:14:38.250324",
     "status": "completed"
    },
    "tags": []
   },
   "outputs": [],
   "source": [
    "learn_reg_forward.path = Path(\".\")\n",
    "learn_reg_forward = learn_reg_forward.load_encoder('./forward_final_encoder')"
   ]
  },
  {
   "cell_type": "markdown",
   "id": "bf57cb5d",
   "metadata": {
    "papermill": {
     "duration": 0.49794,
     "end_time": "2021-08-01T04:14:40.073294",
     "exception": false,
     "start_time": "2021-08-01T04:14:39.575354",
     "status": "completed"
    },
    "tags": []
   },
   "source": [
    "## Training forward regression model"
   ]
  },
  {
   "cell_type": "code",
   "execution_count": 28,
   "id": "b3191d9b",
   "metadata": {
    "execution": {
     "iopub.execute_input": "2021-08-01T04:14:41.086742Z",
     "iopub.status.busy": "2021-08-01T04:14:41.085684Z",
     "iopub.status.idle": "2021-08-01T04:19:40.021655Z",
     "shell.execute_reply": "2021-08-01T04:19:40.021145Z",
     "shell.execute_reply.started": "2021-08-01T03:12:22.560296Z"
    },
    "papermill": {
     "duration": 299.447689,
     "end_time": "2021-08-01T04:19:40.021802",
     "exception": false,
     "start_time": "2021-08-01T04:14:40.574113",
     "status": "completed"
    },
    "tags": []
   },
   "outputs": [
    {
     "data": {
      "text/html": [
       "<table border=\"1\" class=\"dataframe\">\n",
       "  <thead>\n",
       "    <tr style=\"text-align: left;\">\n",
       "      <th>epoch</th>\n",
       "      <th>train_loss</th>\n",
       "      <th>valid_loss</th>\n",
       "      <th>_rmse</th>\n",
       "      <th>time</th>\n",
       "    </tr>\n",
       "  </thead>\n",
       "  <tbody>\n",
       "    <tr>\n",
       "      <td>0</td>\n",
       "      <td>0.472395</td>\n",
       "      <td>0.344356</td>\n",
       "      <td>0.586818</td>\n",
       "      <td>04:58</td>\n",
       "    </tr>\n",
       "  </tbody>\n",
       "</table>"
      ],
      "text/plain": [
       "<IPython.core.display.HTML object>"
      ]
     },
     "metadata": {},
     "output_type": "display_data"
    }
   ],
   "source": [
    "learn_reg_forward.fit_one_cycle(1, 1e-2)"
   ]
  },
  {
   "cell_type": "code",
   "execution_count": 29,
   "id": "778d2b18",
   "metadata": {
    "execution": {
     "iopub.execute_input": "2021-08-01T04:19:41.059545Z",
     "iopub.status.busy": "2021-08-01T04:19:41.058746Z",
     "iopub.status.idle": "2021-08-01T04:19:53.913592Z",
     "shell.execute_reply": "2021-08-01T04:19:53.913974Z",
     "shell.execute_reply.started": "2021-08-01T03:15:49.343876Z"
    },
    "papermill": {
     "duration": 13.373961,
     "end_time": "2021-08-01T04:19:53.914141",
     "exception": false,
     "start_time": "2021-08-01T04:19:40.540180",
     "status": "completed"
    },
    "tags": []
   },
   "outputs": [
    {
     "data": {
      "text/html": [],
      "text/plain": [
       "<IPython.core.display.HTML object>"
      ]
     },
     "metadata": {},
     "output_type": "display_data"
    },
    {
     "name": "stderr",
     "output_type": "stream",
     "text": [
      "/opt/conda/lib/python3.7/site-packages/fastai/callback/schedule.py:270: UserWarning: color is redundantly defined by the 'color' keyword argument and the fmt string \"ro\" (-> color='r'). The keyword argument will take precedence.\n",
      "  ax.plot(val, idx, 'ro', label=nm, c=color)\n"
     ]
    },
    {
     "name": "stdout",
     "output_type": "stream",
     "text": [
      "Minimum/10:\t7.59e-08          \n",
      "Steepest point:\t6.31e-07          \n",
      "Longest valley:\t9.12e-05          \n",
      "Slide interval:\t7.59e-03\n"
     ]
    },
    {
     "data": {
      "image/png": "[encoded data removed]",
      "text/plain": [
       "<Figure size 432x288 with 1 Axes>"
      ]
     },
     "metadata": {
      "needs_background": "light"
     },
     "output_type": "display_data"
    }
   ],
   "source": [
    "suggested_lrs = show_me_lrs(learn_reg_forward)"
   ]
  },
  {
   "cell_type": "code",
   "execution_count": 30,
   "id": "e8724931",
   "metadata": {
    "execution": {
     "iopub.execute_input": "2021-08-01T04:19:54.933614Z",
     "iopub.status.busy": "2021-08-01T04:19:54.932882Z",
     "iopub.status.idle": "2021-08-01T04:25:35.501258Z",
     "shell.execute_reply": "2021-08-01T04:25:35.500447Z",
     "shell.execute_reply.started": "2021-08-01T03:16:39.393889Z"
    },
    "papermill": {
     "duration": 341.078439,
     "end_time": "2021-08-01T04:25:35.501395",
     "exception": false,
     "start_time": "2021-08-01T04:19:54.422956",
     "status": "completed"
    },
    "tags": []
   },
   "outputs": [
    {
     "data": {
      "text/html": [
       "<table border=\"1\" class=\"dataframe\">\n",
       "  <thead>\n",
       "    <tr style=\"text-align: left;\">\n",
       "      <th>epoch</th>\n",
       "      <th>train_loss</th>\n",
       "      <th>valid_loss</th>\n",
       "      <th>_rmse</th>\n",
       "      <th>time</th>\n",
       "    </tr>\n",
       "  </thead>\n",
       "  <tbody>\n",
       "    <tr>\n",
       "      <td>0</td>\n",
       "      <td>0.390998</td>\n",
       "      <td>0.502244</td>\n",
       "      <td>0.708692</td>\n",
       "      <td>05:40</td>\n",
       "    </tr>\n",
       "  </tbody>\n",
       "</table>"
      ],
      "text/plain": [
       "<IPython.core.display.HTML object>"
      ]
     },
     "metadata": {},
     "output_type": "display_data"
    }
   ],
   "source": [
    "learn_reg_forward.freeze_to(-2)\n",
    "learn_reg_forward.fit_one_cycle(1, suggested_lrs.slide)"
   ]
  },
  {
   "cell_type": "code",
   "execution_count": 31,
   "id": "11107399",
   "metadata": {
    "execution": {
     "iopub.execute_input": "2021-08-01T04:25:36.636234Z",
     "iopub.status.busy": "2021-08-01T04:25:36.629077Z",
     "iopub.status.idle": "2021-08-01T04:25:52.372623Z",
     "shell.execute_reply": "2021-08-01T04:25:52.372998Z",
     "shell.execute_reply.started": "2021-08-01T03:17:53.477039Z"
    },
    "papermill": {
     "duration": 16.301375,
     "end_time": "2021-08-01T04:25:52.373146",
     "exception": false,
     "start_time": "2021-08-01T04:25:36.071771",
     "status": "completed"
    },
    "tags": []
   },
   "outputs": [
    {
     "data": {
      "text/html": [],
      "text/plain": [
       "<IPython.core.display.HTML object>"
      ]
     },
     "metadata": {},
     "output_type": "display_data"
    },
    {
     "name": "stderr",
     "output_type": "stream",
     "text": [
      "/opt/conda/lib/python3.7/site-packages/fastai/callback/schedule.py:270: UserWarning: color is redundantly defined by the 'color' keyword argument and the fmt string \"ro\" (-> color='r'). The keyword argument will take precedence.\n",
      "  ax.plot(val, idx, 'ro', label=nm, c=color)\n"
     ]
    },
    {
     "name": "stdout",
     "output_type": "stream",
     "text": [
      "Minimum/10:\t1.10e-03          \n",
      "Steepest point:\t7.59e-07          \n",
      "Longest valley:\t4.79e-04          \n",
      "Slide interval:\t6.92e-04\n"
     ]
    },
    {
     "data": {
      "image/png": "[encoded data removed]",
      "text/plain": [
       "<Figure size 432x288 with 1 Axes>"
      ]
     },
     "metadata": {
      "needs_background": "light"
     },
     "output_type": "display_data"
    }
   ],
   "source": [
    "suggested_lrs = show_me_lrs(learn_reg_forward)"
   ]
  },
  {
   "cell_type": "code",
   "execution_count": 32,
   "id": "536e4ffa",
   "metadata": {
    "execution": {
     "iopub.execute_input": "2021-08-01T04:25:53.385929Z",
     "iopub.status.busy": "2021-08-01T04:25:53.385041Z",
     "iopub.status.idle": "2021-08-01T04:33:38.717133Z",
     "shell.execute_reply": "2021-08-01T04:33:38.716696Z",
     "shell.execute_reply.started": "2021-08-01T03:18:48.646779Z"
    },
    "papermill": {
     "duration": 465.84011,
     "end_time": "2021-08-01T04:33:38.717284",
     "exception": false,
     "start_time": "2021-08-01T04:25:52.877174",
     "status": "completed"
    },
    "tags": []
   },
   "outputs": [
    {
     "data": {
      "text/html": [
       "<table border=\"1\" class=\"dataframe\">\n",
       "  <thead>\n",
       "    <tr style=\"text-align: left;\">\n",
       "      <th>epoch</th>\n",
       "      <th>train_loss</th>\n",
       "      <th>valid_loss</th>\n",
       "      <th>_rmse</th>\n",
       "      <th>time</th>\n",
       "    </tr>\n",
       "  </thead>\n",
       "  <tbody>\n",
       "    <tr>\n",
       "      <td>0</td>\n",
       "      <td>0.370118</td>\n",
       "      <td>0.300856</td>\n",
       "      <td>0.548503</td>\n",
       "      <td>07:45</td>\n",
       "    </tr>\n",
       "  </tbody>\n",
       "</table>"
      ],
      "text/plain": [
       "<IPython.core.display.HTML object>"
      ]
     },
     "metadata": {},
     "output_type": "display_data"
    }
   ],
   "source": [
    "learn_reg_forward.freeze_to(-3)\n",
    "learn_reg_forward.fit_one_cycle(1, suggested_lrs.slide)"
   ]
  },
  {
   "cell_type": "code",
   "execution_count": 33,
   "id": "ceff8ce0",
   "metadata": {
    "execution": {
     "iopub.execute_input": "2021-08-01T04:33:39.813925Z",
     "iopub.status.busy": "2021-08-01T04:33:39.813042Z",
     "iopub.status.idle": "2021-08-01T04:33:59.317141Z",
     "shell.execute_reply": "2021-08-01T04:33:59.316598Z",
     "shell.execute_reply.started": "2021-08-01T03:20:31.768371Z"
    },
    "papermill": {
     "duration": 20.051492,
     "end_time": "2021-08-01T04:33:59.317279",
     "exception": false,
     "start_time": "2021-08-01T04:33:39.265787",
     "status": "completed"
    },
    "tags": []
   },
   "outputs": [
    {
     "data": {
      "text/html": [],
      "text/plain": [
       "<IPython.core.display.HTML object>"
      ]
     },
     "metadata": {},
     "output_type": "display_data"
    },
    {
     "name": "stderr",
     "output_type": "stream",
     "text": [
      "/opt/conda/lib/python3.7/site-packages/fastai/callback/schedule.py:270: UserWarning: color is redundantly defined by the 'color' keyword argument and the fmt string \"ro\" (-> color='r'). The keyword argument will take precedence.\n",
      "  ax.plot(val, idx, 'ro', label=nm, c=color)\n"
     ]
    },
    {
     "name": "stdout",
     "output_type": "stream",
     "text": [
      "Minimum/10:\t3.31e-07          \n",
      "Steepest point:\t1.10e-06          \n",
      "Longest valley:\t1.32e-06          \n",
      "Slide interval:\t2.51e-03\n"
     ]
    },
    {
     "data": {
      "image/png": "[encoded data removed]",
      "text/plain": [
       "<Figure size 432x288 with 1 Axes>"
      ]
     },
     "metadata": {
      "needs_background": "light"
     },
     "output_type": "display_data"
    }
   ],
   "source": [
    "suggested_lrs = show_me_lrs(learn_reg_forward)"
   ]
  },
  {
   "cell_type": "code",
   "execution_count": 34,
   "id": "d94cd7ff",
   "metadata": {
    "execution": {
     "iopub.execute_input": "2021-08-01T04:34:00.369477Z",
     "iopub.status.busy": "2021-08-01T04:34:00.368621Z",
     "iopub.status.idle": "2021-08-01T05:43:10.814802Z",
     "shell.execute_reply": "2021-08-01T05:43:10.814229Z",
     "shell.execute_reply.started": "2021-08-01T03:21:59.199320Z"
    },
    "papermill": {
     "duration": 4150.975069,
     "end_time": "2021-08-01T05:43:10.814970",
     "exception": false,
     "start_time": "2021-08-01T04:33:59.839901",
     "status": "completed"
    },
    "tags": []
   },
   "outputs": [
    {
     "data": {
      "text/html": [
       "<table border=\"1\" class=\"dataframe\">\n",
       "  <thead>\n",
       "    <tr style=\"text-align: left;\">\n",
       "      <th>epoch</th>\n",
       "      <th>train_loss</th>\n",
       "      <th>valid_loss</th>\n",
       "      <th>_rmse</th>\n",
       "      <th>time</th>\n",
       "    </tr>\n",
       "  </thead>\n",
       "  <tbody>\n",
       "    <tr>\n",
       "      <td>0</td>\n",
       "      <td>0.343786</td>\n",
       "      <td>0.265849</td>\n",
       "      <td>0.515605</td>\n",
       "      <td>09:53</td>\n",
       "    </tr>\n",
       "    <tr>\n",
       "      <td>1</td>\n",
       "      <td>0.363140</td>\n",
       "      <td>0.209215</td>\n",
       "      <td>0.457401</td>\n",
       "      <td>09:52</td>\n",
       "    </tr>\n",
       "    <tr>\n",
       "      <td>2</td>\n",
       "      <td>0.298449</td>\n",
       "      <td>0.242965</td>\n",
       "      <td>0.492914</td>\n",
       "      <td>09:54</td>\n",
       "    </tr>\n",
       "    <tr>\n",
       "      <td>3</td>\n",
       "      <td>0.329941</td>\n",
       "      <td>0.198508</td>\n",
       "      <td>0.445542</td>\n",
       "      <td>09:52</td>\n",
       "    </tr>\n",
       "    <tr>\n",
       "      <td>4</td>\n",
       "      <td>0.276000</td>\n",
       "      <td>0.198417</td>\n",
       "      <td>0.445440</td>\n",
       "      <td>09:53</td>\n",
       "    </tr>\n",
       "    <tr>\n",
       "      <td>5</td>\n",
       "      <td>0.192007</td>\n",
       "      <td>0.155161</td>\n",
       "      <td>0.393905</td>\n",
       "      <td>09:52</td>\n",
       "    </tr>\n",
       "    <tr>\n",
       "      <td>6</td>\n",
       "      <td>0.159548</td>\n",
       "      <td>0.149010</td>\n",
       "      <td>0.386018</td>\n",
       "      <td>09:52</td>\n",
       "    </tr>\n",
       "  </tbody>\n",
       "</table>"
      ],
      "text/plain": [
       "<IPython.core.display.HTML object>"
      ]
     },
     "metadata": {},
     "output_type": "display_data"
    }
   ],
   "source": [
    "learn_reg_forward.unfreeze()\n",
    "learn_reg_forward.fit_one_cycle(7, suggested_lrs.slide)"
   ]
  },
  {
   "cell_type": "code",
   "execution_count": 35,
   "id": "0b866d9f",
   "metadata": {
    "execution": {
     "iopub.execute_input": "2021-08-01T05:43:12.049232Z",
     "iopub.status.busy": "2021-08-01T05:43:12.048392Z",
     "iopub.status.idle": "2021-08-01T05:43:12.822103Z",
     "shell.execute_reply": "2021-08-01T05:43:12.821620Z"
    },
    "papermill": {
     "duration": 1.479703,
     "end_time": "2021-08-01T05:43:12.822293",
     "exception": false,
     "start_time": "2021-08-01T05:43:11.342590",
     "status": "completed"
    },
    "tags": []
   },
   "outputs": [],
   "source": [
    "learn_reg_forward.export(\"./forward_final_model\")"
   ]
  },
  {
   "cell_type": "code",
   "execution_count": null,
   "id": "f1d0a994",
   "metadata": {
    "papermill": {
     "duration": 0.514046,
     "end_time": "2021-08-01T05:43:13.851658",
     "exception": false,
     "start_time": "2021-08-01T05:43:13.337612",
     "status": "completed"
    },
    "tags": []
   },
   "outputs": [],
   "source": []
  }
 ],
 "metadata": {
  "kernelspec": {
   "display_name": "Python 3",
   "language": "python",
   "name": "python3"
  },
  "language_info": {
   "codemirror_mode": {
    "name": "ipython",
    "version": 3
   },
   "file_extension": ".py",
   "mimetype": "text/x-python",
   "name": "python",
   "nbconvert_exporter": "python",
   "pygments_lexer": "ipython3",
   "version": "3.7.10"
  },
  "papermill": {
   "default_parameters": {},
   "duration": 7485.588012,
   "end_time": "2021-08-01T05:43:18.129446",
   "environment_variables": {},
   "exception": null,
   "input_path": "__notebook__.ipynb",
   "output_path": "__notebook__.ipynb",
   "parameters": {},
   "start_time": "2021-08-01T03:38:32.541434",
   "version": "2.3.3"
  }
 },
 "nbformat": 4,
 "nbformat_minor": 5
}
