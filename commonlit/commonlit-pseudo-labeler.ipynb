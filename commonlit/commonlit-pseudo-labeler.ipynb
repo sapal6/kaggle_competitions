{
 "cells": [
  {
   "cell_type": "code",
   "execution_count": 1,
   "id": "61a5fe81",
   "metadata": {
    "execution": {
     "iopub.execute_input": "2021-07-30T13:53:18.064175Z",
     "iopub.status.busy": "2021-07-30T13:53:18.050026Z",
     "iopub.status.idle": "2021-07-30T13:53:50.087325Z",
     "shell.execute_reply": "2021-07-30T13:53:50.086183Z",
     "shell.execute_reply.started": "2021-07-30T12:55:19.678867Z"
    },
    "papermill": {
     "duration": 32.0772,
     "end_time": "2021-07-30T13:53:50.087569",
     "exception": false,
     "start_time": "2021-07-30T13:53:18.010369",
     "status": "completed"
    },
    "tags": []
   },
   "outputs": [
    {
     "name": "stdout",
     "output_type": "stream",
     "text": [
      "Looking in links: ../input/commonlit-pkgs-offline-download\r\n",
      "Processing /kaggle/input/commonlit-pkgs-offline-download/spacy-3.1.1-cp37-cp37m-manylinux_2_17_x86_64.manylinux2014_x86_64.whl\r\n",
      "Requirement already satisfied: blis<0.8.0,>=0.4.0 in /opt/conda/lib/python3.7/site-packages (from spacy==3.1.1) (0.7.4)\r\n",
      "Requirement already satisfied: preshed<3.1.0,>=3.0.2 in /opt/conda/lib/python3.7/site-packages (from spacy==3.1.1) (3.0.5)\r\n",
      "Requirement already satisfied: wasabi<1.1.0,>=0.8.1 in /opt/conda/lib/python3.7/site-packages (from spacy==3.1.1) (0.8.2)\r\n",
      "Processing /kaggle/input/commonlit-pkgs-offline-download/srsly-2.4.1-cp37-cp37m-manylinux2014_x86_64.whl\r\n",
      "Requirement already satisfied: setuptools in /opt/conda/lib/python3.7/site-packages (from spacy==3.1.1) (49.6.0.post20210108)\r\n",
      "Requirement already satisfied: pydantic!=1.8,!=1.8.1,<1.9.0,>=1.7.4 in /opt/conda/lib/python3.7/site-packages (from spacy==3.1.1) (1.8.2)\r\n",
      "Requirement already satisfied: typing-extensions<4.0.0.0,>=3.7.4 in /opt/conda/lib/python3.7/site-packages (from spacy==3.1.1) (3.7.4.3)\r\n",
      "Requirement already satisfied: cymem<2.1.0,>=2.0.2 in /opt/conda/lib/python3.7/site-packages (from spacy==3.1.1) (2.0.5)\r\n",
      "Processing /kaggle/input/commonlit-pkgs-offline-download/typer-0.3.2-py3-none-any.whl\r\n",
      "Requirement already satisfied: requests<3.0.0,>=2.13.0 in /opt/conda/lib/python3.7/site-packages (from spacy==3.1.1) (2.25.1)\r\n",
      "Processing /kaggle/input/commonlit-pkgs-offline-download/pathy-0.6.0-py3-none-any.whl\r\n",
      "Requirement already satisfied: jinja2 in /opt/conda/lib/python3.7/site-packages (from spacy==3.1.1) (3.0.1)\r\n",
      "Processing /kaggle/input/commonlit-pkgs-offline-download/spacy_legacy-3.0.8-py2.py3-none-any.whl\r\n",
      "Processing /kaggle/input/commonlit-pkgs-offline-download/catalogue-2.0.4-py3-none-any.whl\r\n",
      "Requirement already satisfied: packaging>=20.0 in /opt/conda/lib/python3.7/site-packages (from spacy==3.1.1) (20.9)\r\n",
      "Requirement already satisfied: tqdm<5.0.0,>=4.38.0 in /opt/conda/lib/python3.7/site-packages (from spacy==3.1.1) (4.61.1)\r\n",
      "Requirement already satisfied: murmurhash<1.1.0,>=0.28.0 in /opt/conda/lib/python3.7/site-packages (from spacy==3.1.1) (1.0.5)\r\n",
      "Processing /kaggle/input/commonlit-pkgs-offline-download/thinc-8.0.8-cp37-cp37m-manylinux_2_17_x86_64.manylinux2014_x86_64.whl\r\n",
      "Requirement already satisfied: numpy>=1.15.0 in /opt/conda/lib/python3.7/site-packages (from spacy==3.1.1) (1.19.5)\r\n",
      "Requirement already satisfied: zipp>=0.5 in /opt/conda/lib/python3.7/site-packages (from catalogue<2.1.0,>=2.0.4->spacy==3.1.1) (3.4.1)\r\n",
      "Requirement already satisfied: pyparsing>=2.0.2 in /opt/conda/lib/python3.7/site-packages (from packaging>=20.0->spacy==3.1.1) (2.4.7)\r\n",
      "Requirement already satisfied: smart-open<6.0.0,>=5.0.0 in /opt/conda/lib/python3.7/site-packages (from pathy>=0.3.5->spacy==3.1.1) (5.1.0)\r\n",
      "Requirement already satisfied: certifi>=2017.4.17 in /opt/conda/lib/python3.7/site-packages (from requests<3.0.0,>=2.13.0->spacy==3.1.1) (2021.5.30)\r\n",
      "Requirement already satisfied: chardet<5,>=3.0.2 in /opt/conda/lib/python3.7/site-packages (from requests<3.0.0,>=2.13.0->spacy==3.1.1) (4.0.0)\r\n",
      "Requirement already satisfied: idna<3,>=2.5 in /opt/conda/lib/python3.7/site-packages (from requests<3.0.0,>=2.13.0->spacy==3.1.1) (2.10)\r\n",
      "Requirement already satisfied: urllib3<1.27,>=1.21.1 in /opt/conda/lib/python3.7/site-packages (from requests<3.0.0,>=2.13.0->spacy==3.1.1) (1.26.5)\r\n",
      "Requirement already satisfied: click<7.2.0,>=7.1.1 in /opt/conda/lib/python3.7/site-packages (from typer<0.4.0,>=0.3.0->spacy==3.1.1) (7.1.2)\r\n",
      "Requirement already satisfied: MarkupSafe>=2.0 in /opt/conda/lib/python3.7/site-packages (from jinja2->spacy==3.1.1) (2.0.1)\r\n",
      "Installing collected packages: catalogue, typer, srsly, thinc, spacy-legacy, pathy, spacy\r\n",
      "  Attempting uninstall: catalogue\r\n",
      "    Found existing installation: catalogue 1.0.0\r\n",
      "    Uninstalling catalogue-1.0.0:\r\n",
      "      Successfully uninstalled catalogue-1.0.0\r\n",
      "  Attempting uninstall: srsly\r\n",
      "    Found existing installation: srsly 1.0.5\r\n",
      "    Uninstalling srsly-1.0.5:\r\n",
      "      Successfully uninstalled srsly-1.0.5\r\n",
      "  Attempting uninstall: thinc\r\n",
      "    Found existing installation: thinc 7.4.5\r\n",
      "    Uninstalling thinc-7.4.5:\r\n",
      "      Successfully uninstalled thinc-7.4.5\r\n",
      "  Attempting uninstall: spacy\r\n",
      "    Found existing installation: spacy 2.3.7\r\n",
      "    Uninstalling spacy-2.3.7:\r\n",
      "      Successfully uninstalled spacy-2.3.7\r\n",
      "\u001b[31mERROR: pip's dependency resolver does not currently take into account all the packages that are installed. This behaviour is the source of the following dependency conflicts.\r\n",
      "fastai 2.2.7 requires spacy<3, but you have spacy 3.1.1 which is incompatible.\r\n",
      "en-core-web-sm 2.3.1 requires spacy<2.4.0,>=2.3.0, but you have spacy 3.1.1 which is incompatible.\r\n",
      "en-core-web-lg 2.3.1 requires spacy<2.4.0,>=2.3.0, but you have spacy 3.1.1 which is incompatible.\r\n",
      "allennlp 2.5.0 requires spacy<3.1,>=2.1.0, but you have spacy 3.1.1 which is incompatible.\u001b[0m\r\n",
      "Successfully installed catalogue-2.0.4 pathy-0.6.0 spacy-3.1.1 spacy-legacy-3.0.8 srsly-2.4.1 thinc-8.0.8 typer-0.3.2\r\n",
      "\u001b[33mWARNING: Running pip as root will break packages and permissions. You should install packages reliably by using venv: https://pip.pypa.io/warnings/venv\u001b[0m\r\n"
     ]
    }
   ],
   "source": [
    "!pip install --no-index --find-links=\"../input/commonlit-pkgs-offline-download\" spacy==3.1.1"
   ]
  },
  {
   "cell_type": "code",
   "execution_count": 2,
   "id": "a7ed883b",
   "metadata": {
    "execution": {
     "iopub.execute_input": "2021-07-30T13:53:50.161445Z",
     "iopub.status.busy": "2021-07-30T13:53:50.160724Z",
     "iopub.status.idle": "2021-07-30T13:54:40.966024Z",
     "shell.execute_reply": "2021-07-30T13:54:40.965158Z",
     "shell.execute_reply.started": "2021-07-30T12:55:52.112047Z"
    },
    "papermill": {
     "duration": 50.845815,
     "end_time": "2021-07-30T13:54:40.966177",
     "exception": false,
     "start_time": "2021-07-30T13:53:50.120362",
     "status": "completed"
    },
    "tags": []
   },
   "outputs": [
    {
     "name": "stdout",
     "output_type": "stream",
     "text": [
      "Looking in links: ../input/commonlit-pkgs-offline-download\r\n",
      "Processing /kaggle/input/commonlit-pkgs-offline-download/fastai-2.4.1-py3-none-any.whl\r\n",
      "Requirement already satisfied: fastcore<1.4,>=1.3.8 in /opt/conda/lib/python3.7/site-packages (from fastai==2.4.1) (1.3.20)\r\n",
      "Processing /kaggle/input/commonlit-pkgs-offline-download/torchvision-0.10.0-cp37-cp37m-manylinux1_x86_64.whl\r\n",
      "Requirement already satisfied: requests in /opt/conda/lib/python3.7/site-packages (from fastai==2.4.1) (2.25.1)\r\n",
      "Requirement already satisfied: scikit-learn in /opt/conda/lib/python3.7/site-packages (from fastai==2.4.1) (0.23.2)\r\n",
      "Requirement already satisfied: torch<1.10,>=1.7.0 in /opt/conda/lib/python3.7/site-packages (from fastai==2.4.1) (1.7.0)\r\n",
      "Requirement already satisfied: pip in /opt/conda/lib/python3.7/site-packages (from fastai==2.4.1) (21.1.2)\r\n",
      "Requirement already satisfied: pillow>6.0.0 in /opt/conda/lib/python3.7/site-packages (from fastai==2.4.1) (8.2.0)\r\n",
      "Requirement already satisfied: fastprogress>=0.2.4 in /opt/conda/lib/python3.7/site-packages (from fastai==2.4.1) (1.0.0)\r\n",
      "Requirement already satisfied: pandas in /opt/conda/lib/python3.7/site-packages (from fastai==2.4.1) (1.2.4)\r\n",
      "Requirement already satisfied: matplotlib in /opt/conda/lib/python3.7/site-packages (from fastai==2.4.1) (3.4.2)\r\n",
      "Requirement already satisfied: packaging in /opt/conda/lib/python3.7/site-packages (from fastai==2.4.1) (20.9)\r\n",
      "Requirement already satisfied: pyyaml in /opt/conda/lib/python3.7/site-packages (from fastai==2.4.1) (5.4.1)\r\n",
      "Requirement already satisfied: scipy in /opt/conda/lib/python3.7/site-packages (from fastai==2.4.1) (1.6.3)\r\n",
      "Requirement already satisfied: spacy<4 in /opt/conda/lib/python3.7/site-packages (from fastai==2.4.1) (3.1.1)\r\n",
      "Requirement already satisfied: numpy in /opt/conda/lib/python3.7/site-packages (from fastprogress>=0.2.4->fastai==2.4.1) (1.19.5)\r\n",
      "Requirement already satisfied: blis<0.8.0,>=0.4.0 in /opt/conda/lib/python3.7/site-packages (from spacy<4->fastai==2.4.1) (0.7.4)\r\n",
      "Requirement already satisfied: typer<0.4.0,>=0.3.0 in /opt/conda/lib/python3.7/site-packages (from spacy<4->fastai==2.4.1) (0.3.2)\r\n",
      "Requirement already satisfied: preshed<3.1.0,>=3.0.2 in /opt/conda/lib/python3.7/site-packages (from spacy<4->fastai==2.4.1) (3.0.5)\r\n",
      "Requirement already satisfied: typing-extensions<4.0.0.0,>=3.7.4 in /opt/conda/lib/python3.7/site-packages (from spacy<4->fastai==2.4.1) (3.7.4.3)\r\n",
      "Requirement already satisfied: spacy-legacy<3.1.0,>=3.0.7 in /opt/conda/lib/python3.7/site-packages (from spacy<4->fastai==2.4.1) (3.0.8)\r\n",
      "Requirement already satisfied: tqdm<5.0.0,>=4.38.0 in /opt/conda/lib/python3.7/site-packages (from spacy<4->fastai==2.4.1) (4.61.1)\r\n",
      "Requirement already satisfied: murmurhash<1.1.0,>=0.28.0 in /opt/conda/lib/python3.7/site-packages (from spacy<4->fastai==2.4.1) (1.0.5)\r\n",
      "Requirement already satisfied: wasabi<1.1.0,>=0.8.1 in /opt/conda/lib/python3.7/site-packages (from spacy<4->fastai==2.4.1) (0.8.2)\r\n",
      "Requirement already satisfied: pydantic!=1.8,!=1.8.1,<1.9.0,>=1.7.4 in /opt/conda/lib/python3.7/site-packages (from spacy<4->fastai==2.4.1) (1.8.2)\r\n",
      "Requirement already satisfied: cymem<2.1.0,>=2.0.2 in /opt/conda/lib/python3.7/site-packages (from spacy<4->fastai==2.4.1) (2.0.5)\r\n",
      "Requirement already satisfied: pathy>=0.3.5 in /opt/conda/lib/python3.7/site-packages (from spacy<4->fastai==2.4.1) (0.6.0)\r\n",
      "Requirement already satisfied: catalogue<2.1.0,>=2.0.4 in /opt/conda/lib/python3.7/site-packages (from spacy<4->fastai==2.4.1) (2.0.4)\r\n",
      "Requirement already satisfied: thinc<8.1.0,>=8.0.8 in /opt/conda/lib/python3.7/site-packages (from spacy<4->fastai==2.4.1) (8.0.8)\r\n",
      "Requirement already satisfied: srsly<3.0.0,>=2.4.1 in /opt/conda/lib/python3.7/site-packages (from spacy<4->fastai==2.4.1) (2.4.1)\r\n",
      "Requirement already satisfied: setuptools in /opt/conda/lib/python3.7/site-packages (from spacy<4->fastai==2.4.1) (49.6.0.post20210108)\r\n",
      "Requirement already satisfied: jinja2 in /opt/conda/lib/python3.7/site-packages (from spacy<4->fastai==2.4.1) (3.0.1)\r\n",
      "Requirement already satisfied: zipp>=0.5 in /opt/conda/lib/python3.7/site-packages (from catalogue<2.1.0,>=2.0.4->spacy<4->fastai==2.4.1) (3.4.1)\r\n",
      "Requirement already satisfied: pyparsing>=2.0.2 in /opt/conda/lib/python3.7/site-packages (from packaging->fastai==2.4.1) (2.4.7)\r\n",
      "Requirement already satisfied: smart-open<6.0.0,>=5.0.0 in /opt/conda/lib/python3.7/site-packages (from pathy>=0.3.5->spacy<4->fastai==2.4.1) (5.1.0)\r\n",
      "Requirement already satisfied: idna<3,>=2.5 in /opt/conda/lib/python3.7/site-packages (from requests->fastai==2.4.1) (2.10)\r\n",
      "Requirement already satisfied: chardet<5,>=3.0.2 in /opt/conda/lib/python3.7/site-packages (from requests->fastai==2.4.1) (4.0.0)\r\n",
      "Requirement already satisfied: certifi>=2017.4.17 in /opt/conda/lib/python3.7/site-packages (from requests->fastai==2.4.1) (2021.5.30)\r\n",
      "Requirement already satisfied: urllib3<1.27,>=1.21.1 in /opt/conda/lib/python3.7/site-packages (from requests->fastai==2.4.1) (1.26.5)\r\n",
      "Requirement already satisfied: future in /opt/conda/lib/python3.7/site-packages (from torch<1.10,>=1.7.0->fastai==2.4.1) (0.18.2)\r\n",
      "Requirement already satisfied: dataclasses in /opt/conda/lib/python3.7/site-packages (from torch<1.10,>=1.7.0->fastai==2.4.1) (0.6)\r\n",
      "Processing /kaggle/input/commonlit-pkgs-offline-download/torch-1.9.0-cp37-cp37m-manylinux1_x86_64.whl\r\n",
      "Requirement already satisfied: click<7.2.0,>=7.1.1 in /opt/conda/lib/python3.7/site-packages (from typer<0.4.0,>=0.3.0->spacy<4->fastai==2.4.1) (7.1.2)\r\n",
      "Requirement already satisfied: MarkupSafe>=2.0 in /opt/conda/lib/python3.7/site-packages (from jinja2->spacy<4->fastai==2.4.1) (2.0.1)\r\n",
      "Requirement already satisfied: cycler>=0.10 in /opt/conda/lib/python3.7/site-packages (from matplotlib->fastai==2.4.1) (0.10.0)\r\n",
      "Requirement already satisfied: python-dateutil>=2.7 in /opt/conda/lib/python3.7/site-packages (from matplotlib->fastai==2.4.1) (2.8.1)\r\n",
      "Requirement already satisfied: kiwisolver>=1.0.1 in /opt/conda/lib/python3.7/site-packages (from matplotlib->fastai==2.4.1) (1.3.1)\r\n",
      "Requirement already satisfied: six in /opt/conda/lib/python3.7/site-packages (from cycler>=0.10->matplotlib->fastai==2.4.1) (1.15.0)\r\n",
      "Requirement already satisfied: pytz>=2017.3 in /opt/conda/lib/python3.7/site-packages (from pandas->fastai==2.4.1) (2021.1)\r\n",
      "Requirement already satisfied: threadpoolctl>=2.0.0 in /opt/conda/lib/python3.7/site-packages (from scikit-learn->fastai==2.4.1) (2.1.0)\r\n",
      "Requirement already satisfied: joblib>=0.11 in /opt/conda/lib/python3.7/site-packages (from scikit-learn->fastai==2.4.1) (1.0.1)\r\n",
      "Installing collected packages: torch, torchvision, fastai\r\n",
      "  Attempting uninstall: torch\r\n",
      "    Found existing installation: torch 1.7.0\r\n",
      "    Uninstalling torch-1.7.0:\r\n",
      "      Successfully uninstalled torch-1.7.0\r\n",
      "  Attempting uninstall: torchvision\r\n",
      "    Found existing installation: torchvision 0.8.1\r\n",
      "    Uninstalling torchvision-0.8.1:\r\n",
      "      Successfully uninstalled torchvision-0.8.1\r\n",
      "  Attempting uninstall: fastai\r\n",
      "    Found existing installation: fastai 2.2.7\r\n",
      "    Uninstalling fastai-2.2.7:\r\n",
      "      Successfully uninstalled fastai-2.2.7\r\n",
      "\u001b[31mERROR: pip's dependency resolver does not currently take into account all the packages that are installed. This behaviour is the source of the following dependency conflicts.\r\n",
      "kornia 0.5.5 requires numpy<=1.19, but you have numpy 1.19.5 which is incompatible.\r\n",
      "allennlp 2.5.0 requires spacy<3.1,>=2.1.0, but you have spacy 3.1.1 which is incompatible.\r\n",
      "allennlp 2.5.0 requires torch<1.9.0,>=1.6.0, but you have torch 1.9.0 which is incompatible.\r\n",
      "allennlp 2.5.0 requires torchvision<0.10.0,>=0.8.1, but you have torchvision 0.10.0 which is incompatible.\u001b[0m\r\n",
      "Successfully installed fastai-2.4.1 torch-1.9.0 torchvision-0.10.0\r\n",
      "\u001b[33mWARNING: Running pip as root will break packages and permissions. You should install packages reliably by using venv: https://pip.pypa.io/warnings/venv\u001b[0m\r\n"
     ]
    }
   ],
   "source": [
    "!pip install --no-index --find-links=\"../input/commonlit-pkgs-offline-download\" fastai==2.4.1"
   ]
  },
  {
   "cell_type": "markdown",
   "id": "58f73282",
   "metadata": {
    "_cell_guid": "b1076dfc-b9ad-4769-8c92-a6c4dae69d19",
    "_uuid": "8f2839f25d086af736a60e9eeb907d3b93b6e0e5",
    "papermill": {
     "duration": 0.040823,
     "end_time": "2021-07-30T13:54:41.047730",
     "exception": false,
     "start_time": "2021-07-30T13:54:41.006907",
     "status": "completed"
    },
    "tags": []
   },
   "source": [
    "## Prepraring for inference"
   ]
  },
  {
   "cell_type": "markdown",
   "id": "f4cc30ab",
   "metadata": {
    "papermill": {
     "duration": 0.041191,
     "end_time": "2021-07-30T13:54:41.129194",
     "exception": false,
     "start_time": "2021-07-30T13:54:41.088003",
     "status": "completed"
    },
    "tags": []
   },
   "source": [
    "### Preparing the data for inference"
   ]
  },
  {
   "cell_type": "code",
   "execution_count": 3,
   "id": "495e78bf",
   "metadata": {
    "execution": {
     "iopub.execute_input": "2021-07-30T13:54:41.213935Z",
     "iopub.status.busy": "2021-07-30T13:54:41.213205Z",
     "iopub.status.idle": "2021-07-30T13:54:51.218299Z",
     "shell.execute_reply": "2021-07-30T13:54:51.217701Z",
     "shell.execute_reply.started": "2021-07-30T12:56:49.075319Z"
    },
    "papermill": {
     "duration": 10.04888,
     "end_time": "2021-07-30T13:54:51.218456",
     "exception": false,
     "start_time": "2021-07-30T13:54:41.169576",
     "status": "completed"
    },
    "tags": []
   },
   "outputs": [],
   "source": [
    "import glob\n",
    "import numpy\n",
    "from typing import List\n",
    "from pandas.core.frame import DataFrame\n",
    "from fastai.text.all import *"
   ]
  },
  {
   "cell_type": "code",
   "execution_count": 4,
   "id": "d3b10e5a",
   "metadata": {
    "execution": {
     "iopub.execute_input": "2021-07-30T13:54:51.304288Z",
     "iopub.status.busy": "2021-07-30T13:54:51.303591Z",
     "iopub.status.idle": "2021-07-30T13:54:51.306315Z",
     "shell.execute_reply": "2021-07-30T13:54:51.306770Z",
     "shell.execute_reply.started": "2021-07-30T12:57:00.083168Z"
    },
    "papermill": {
     "duration": 0.050741,
     "end_time": "2021-07-30T13:54:51.306963",
     "exception": false,
     "start_time": "2021-07-30T13:54:51.256222",
     "status": "completed"
    },
    "tags": []
   },
   "outputs": [],
   "source": [
    "def drop_cols(df: DataFrame, cols: List) -> DataFrame:\n",
    "    \"\"\"drop the given list of columns from the dataframe\"\"\"\n",
    "    return df.drop(cols, axis=1)\n",
    "\n",
    "def concat_dfs(dfs: List) -> DataFrame:\n",
    "    \"\"\"concatenate two dataframes\"\"\"\n",
    "    return pd.concat(dfs)"
   ]
  },
  {
   "cell_type": "code",
   "execution_count": 5,
   "id": "c686cf87",
   "metadata": {
    "execution": {
     "iopub.execute_input": "2021-07-30T13:54:51.389316Z",
     "iopub.status.busy": "2021-07-30T13:54:51.388430Z",
     "iopub.status.idle": "2021-07-30T13:55:01.394743Z",
     "shell.execute_reply": "2021-07-30T13:55:01.393642Z",
     "shell.execute_reply.started": "2021-07-30T12:57:00.089700Z"
    },
    "papermill": {
     "duration": 10.050052,
     "end_time": "2021-07-30T13:55:01.394906",
     "exception": false,
     "start_time": "2021-07-30T13:54:51.344854",
     "status": "completed"
    },
    "tags": []
   },
   "outputs": [],
   "source": [
    "df_aug = pd.read_csv('../input/common-lit-datset-with-synonym-replacement/aug_df.csv')\n",
    "df_aug = drop_cols(df_aug, ['Unnamed: 0', 'id',\n",
    "                           'url_legal', 'license',\n",
    "                            'standard_error'])\n",
    "df_cbt_train = pd.read_csv('../input/commonlit-infusing-data-with-same-domain-data/cbt_train.csv')\n",
    "df_cbt_train = drop_cols(df_cbt_train, ['Unnamed: 0'])"
   ]
  },
  {
   "cell_type": "code",
   "execution_count": 6,
   "id": "700c4829",
   "metadata": {
    "execution": {
     "iopub.execute_input": "2021-07-30T13:55:01.479918Z",
     "iopub.status.busy": "2021-07-30T13:55:01.479239Z",
     "iopub.status.idle": "2021-07-30T13:55:01.495733Z",
     "shell.execute_reply": "2021-07-30T13:55:01.496278Z",
     "shell.execute_reply.started": "2021-07-30T12:57:07.026733Z"
    },
    "papermill": {
     "duration": 0.061865,
     "end_time": "2021-07-30T13:55:01.496454",
     "exception": false,
     "start_time": "2021-07-30T13:55:01.434589",
     "status": "completed"
    },
    "tags": []
   },
   "outputs": [
    {
     "data": {
      "text/html": [
       "<div>\n",
       "<style scoped>\n",
       "    .dataframe tbody tr th:only-of-type {\n",
       "        vertical-align: middle;\n",
       "    }\n",
       "\n",
       "    .dataframe tbody tr th {\n",
       "        vertical-align: top;\n",
       "    }\n",
       "\n",
       "    .dataframe thead th {\n",
       "        text-align: right;\n",
       "    }\n",
       "</style>\n",
       "<table border=\"1\" class=\"dataframe\">\n",
       "  <thead>\n",
       "    <tr style=\"text-align: right;\">\n",
       "      <th></th>\n",
       "      <th>excerpt</th>\n",
       "      <th>target</th>\n",
       "    </tr>\n",
       "  </thead>\n",
       "  <tbody>\n",
       "    <tr>\n",
       "      <th>0</th>\n",
       "      <td>When the young people returned to the ballroom, it presented a decidedly changed appearance. Instead of an interior scene, it was a winter landscape.\\nThe floor was covered with snow-white canvas, not laid on smoothly, but rumpled over bumps and hillocks, like a real snow field. The numerous palms and evergreens that had decorated the room, were powdered with flour and strewn with tufts of cotton, like snow. Also diamond dust had been lightly sprinkled on them, and glittering crystal icicles hung from the branches.\\nAt each end of the room, on the wall, hung a beautiful bear-skin rug.\\nThe...</td>\n",
       "      <td>-0.340259</td>\n",
       "    </tr>\n",
       "  </tbody>\n",
       "</table>\n",
       "</div>"
      ],
      "text/plain": [
       "                                                                                                                                                                                                                                                                                                                                                                                                                                                                                                                                                                                                                   excerpt  \\\n",
       "0  When the young people returned to the ballroom, it presented a decidedly changed appearance. Instead of an interior scene, it was a winter landscape.\\nThe floor was covered with snow-white canvas, not laid on smoothly, but rumpled over bumps and hillocks, like a real snow field. The numerous palms and evergreens that had decorated the room, were powdered with flour and strewn with tufts of cotton, like snow. Also diamond dust had been lightly sprinkled on them, and glittering crystal icicles hung from the branches.\\nAt each end of the room, on the wall, hung a beautiful bear-skin rug.\\nThe...   \n",
       "\n",
       "     target  \n",
       "0 -0.340259  "
      ]
     },
     "execution_count": 6,
     "metadata": {},
     "output_type": "execute_result"
    }
   ],
   "source": [
    "df_aug.head(1)"
   ]
  },
  {
   "cell_type": "code",
   "execution_count": 7,
   "id": "8734f1f6",
   "metadata": {
    "execution": {
     "iopub.execute_input": "2021-07-30T13:55:01.582114Z",
     "iopub.status.busy": "2021-07-30T13:55:01.581165Z",
     "iopub.status.idle": "2021-07-30T13:55:01.585416Z",
     "shell.execute_reply": "2021-07-30T13:55:01.584846Z",
     "shell.execute_reply.started": "2021-07-30T12:57:07.054563Z"
    },
    "papermill": {
     "duration": 0.051074,
     "end_time": "2021-07-30T13:55:01.585576",
     "exception": false,
     "start_time": "2021-07-30T13:55:01.534502",
     "status": "completed"
    },
    "tags": []
   },
   "outputs": [
    {
     "data": {
      "text/html": [
       "<div>\n",
       "<style scoped>\n",
       "    .dataframe tbody tr th:only-of-type {\n",
       "        vertical-align: middle;\n",
       "    }\n",
       "\n",
       "    .dataframe tbody tr th {\n",
       "        vertical-align: top;\n",
       "    }\n",
       "\n",
       "    .dataframe thead th {\n",
       "        text-align: right;\n",
       "    }\n",
       "</style>\n",
       "<table border=\"1\" class=\"dataframe\">\n",
       "  <thead>\n",
       "    <tr style=\"text-align: right;\">\n",
       "      <th></th>\n",
       "      <th>excerpt</th>\n",
       "      <th>target</th>\n",
       "    </tr>\n",
       "  </thead>\n",
       "  <tbody>\n",
       "    <tr>\n",
       "      <th>0</th>\n",
       "      <td>With almost everything else to make them happy , they wanted one thing : they had no children .This vexed the king even more than the queen , who was very clever and learned , and who had hated dolls when she was a child .However , she , too in spite of all the books she read and all the pictures she painted , would have been glad enough to be the mother of a little prince .The king was anxious to consult the fairies , but the queen would not hear of such a thing .She did not believe in fairies : she said that they had never existed ; and that she maintained , though The History of the Roy...</td>\n",
       "      <td>NaN</td>\n",
       "    </tr>\n",
       "  </tbody>\n",
       "</table>\n",
       "</div>"
      ],
      "text/plain": [
       "                                                                                                                                                                                                                                                                                                                                                                                                                                                                                                                                                                                                                   excerpt  \\\n",
       "0  With almost everything else to make them happy , they wanted one thing : they had no children .This vexed the king even more than the queen , who was very clever and learned , and who had hated dolls when she was a child .However , she , too in spite of all the books she read and all the pictures she painted , would have been glad enough to be the mother of a little prince .The king was anxious to consult the fairies , but the queen would not hear of such a thing .She did not believe in fairies : she said that they had never existed ; and that she maintained , though The History of the Roy...   \n",
       "\n",
       "   target  \n",
       "0     NaN  "
      ]
     },
     "execution_count": 7,
     "metadata": {},
     "output_type": "execute_result"
    }
   ],
   "source": [
    "df_cbt_train.head(1)"
   ]
  },
  {
   "cell_type": "markdown",
   "id": "c8d9d221",
   "metadata": {
    "papermill": {
     "duration": 0.038345,
     "end_time": "2021-07-30T13:55:01.662947",
     "exception": false,
     "start_time": "2021-07-30T13:55:01.624602",
     "status": "completed"
    },
    "tags": []
   },
   "source": [
    "Getting the excerpts to a list. This makes it easier to make predictions and later to create the submission file."
   ]
  },
  {
   "cell_type": "code",
   "execution_count": 8,
   "id": "4d1bec89",
   "metadata": {
    "execution": {
     "iopub.execute_input": "2021-07-30T13:55:01.747690Z",
     "iopub.status.busy": "2021-07-30T13:55:01.746707Z",
     "iopub.status.idle": "2021-07-30T13:55:01.751056Z",
     "shell.execute_reply": "2021-07-30T13:55:01.750378Z",
     "shell.execute_reply.started": "2021-07-30T12:57:07.069930Z"
    },
    "papermill": {
     "duration": 0.049902,
     "end_time": "2021-07-30T13:55:01.751207",
     "exception": false,
     "start_time": "2021-07-30T13:55:01.701305",
     "status": "completed"
    },
    "tags": []
   },
   "outputs": [
    {
     "data": {
      "text/plain": [
       "10000"
      ]
     },
     "execution_count": 8,
     "metadata": {},
     "output_type": "execute_result"
    }
   ],
   "source": [
    "df_cbt_train = df_cbt_train[:10000]\n",
    "excerpts = df_cbt_train.excerpt.to_list()\n",
    "excerpts = excerpts\n",
    "len(excerpts)"
   ]
  },
  {
   "cell_type": "markdown",
   "id": "917cc580",
   "metadata": {
    "papermill": {
     "duration": 0.039658,
     "end_time": "2021-07-30T13:55:01.830240",
     "exception": false,
     "start_time": "2021-07-30T13:55:01.790582",
     "status": "completed"
    },
    "tags": []
   },
   "source": [
    "## Loading the model"
   ]
  },
  {
   "cell_type": "code",
   "execution_count": 9,
   "id": "5302fdd6",
   "metadata": {
    "execution": {
     "iopub.execute_input": "2021-07-30T13:55:01.914235Z",
     "iopub.status.busy": "2021-07-30T13:55:01.913560Z",
     "iopub.status.idle": "2021-07-30T13:55:06.775594Z",
     "shell.execute_reply": "2021-07-30T13:55:06.774731Z",
     "shell.execute_reply.started": "2021-07-30T12:57:07.083299Z"
    },
    "papermill": {
     "duration": 4.905933,
     "end_time": "2021-07-30T13:55:06.775806",
     "exception": false,
     "start_time": "2021-07-30T13:55:01.869873",
     "status": "completed"
    },
    "tags": []
   },
   "outputs": [],
   "source": [
    "bkwd_model = load_learner('../input/common-lit-forward-backward-training-on-ulmfit/back_final_model')\n",
    "fwd_model = load_learner('../input/common-lit-forward-backward-training-on-ulmfit/forward_final_model')"
   ]
  },
  {
   "cell_type": "code",
   "execution_count": 10,
   "id": "3f11398f",
   "metadata": {
    "execution": {
     "iopub.execute_input": "2021-07-30T13:55:06.903723Z",
     "iopub.status.busy": "2021-07-30T13:55:06.863525Z",
     "iopub.status.idle": "2021-07-30T13:59:33.764824Z",
     "shell.execute_reply": "2021-07-30T13:59:33.765551Z",
     "shell.execute_reply.started": "2021-07-30T13:34:04.298522Z"
    },
    "papermill": {
     "duration": 266.946798,
     "end_time": "2021-07-30T13:59:33.765745",
     "exception": false,
     "start_time": "2021-07-30T13:55:06.818947",
     "status": "completed"
    },
    "tags": []
   },
   "outputs": [],
   "source": [
    "bkwd_tst_dl = bkwd_model.dls.test_dl(excerpts)\n",
    "fwd_tst_dl = fwd_model.dls.test_dl(excerpts)"
   ]
  },
  {
   "cell_type": "code",
   "execution_count": 11,
   "id": "9b536803",
   "metadata": {
    "execution": {
     "iopub.execute_input": "2021-07-30T13:59:33.854470Z",
     "iopub.status.busy": "2021-07-30T13:59:33.853732Z",
     "iopub.status.idle": "2021-07-30T13:59:37.295965Z",
     "shell.execute_reply": "2021-07-30T13:59:37.296840Z",
     "shell.execute_reply.started": "2021-07-30T13:34:07.078273Z"
    },
    "papermill": {
     "duration": 3.490541,
     "end_time": "2021-07-30T13:59:37.297111",
     "exception": false,
     "start_time": "2021-07-30T13:59:33.806570",
     "status": "completed"
    },
    "tags": []
   },
   "outputs": [
    {
     "data": {
      "text/html": [
       "<table border=\"1\" class=\"dataframe\">\n",
       "  <thead>\n",
       "    <tr style=\"text-align: right;\">\n",
       "      <th></th>\n",
       "      <th>text</th>\n",
       "    </tr>\n",
       "  </thead>\n",
       "  <tbody>\n",
       "    <tr>\n",
       "      <th>0</th>\n",
       "      <td>. xxunk a for passed he .here persia xxmaj of kingdom the of capital the was which , schiraz xxmaj at arrived travel ' days four after and , xxunk a joined brothers his with parted he after days three having , road the took , persia xxmaj into travel to designed who , brother second 's xxunk xxmaj prince xxmaj , ali xxmaj .prince came they till merchant a for passed he where and , meet to were brothers his and he which at inn the to transported were wish his formed had he as soon as and , down sat him with brought had he officer the and he , tapestry the spreading , that princess xxmaj the nearer be to eager so was he but , bisnagar xxmaj of court xxmaj and kingdom the in abode longer a made have might xxunk xxmaj .prince curiosity his satisfying</td>\n",
       "    </tr>\n",
       "    <tr>\n",
       "      <th>1</th>\n",
       "      <td>. xxunk a for passed he .here persia xxmaj of kingdom the of capital the was which , schiraz xxmaj at arrived travel ' days four after and , xxunk a joined brothers his with parted he after days three having , road the took , persia xxmaj into travel to designed who , brother second 's xxunk xxmaj prince xxmaj , ali xxmaj .prince came they till merchant a for passed he where and , meet to were brothers his and he which at inn the to transported were wish his formed had he as soon as and , down sat him with brought had he officer the and he , tapestry the spreading , that princess xxmaj the nearer be to eager so was he but , bisnagar xxmaj of court xxmaj and kingdom the in abode longer a made have might xxunk xxmaj .prince curiosity his satisfying</td>\n",
       "    </tr>\n",
       "    <tr>\n",
       "      <th>2</th>\n",
       "      <td>. came they till merchant a for passed he where and , meet to were brothers his and he which at inn the to transported were wish his formed had he as soon as and , down sat him with brought had he officer the and he , tapestry the spreading , that princess xxmaj the nearer be to eager so was he but , bisnagar xxmaj of court xxmaj and kingdom the in abode longer a made have might xxunk xxmaj .prince curiosity his satisfying in months some spend to and , there abode longer a make to chose he , kingdom the of religion and , customs , laws , strength the of himself inform to and , court xxmaj his and bisnagar xxmaj of king xxmaj the see to curious was he as and , agreed had they as , brothers his for there stay to obliged</td>\n",
       "    </tr>\n",
       "    <tr>\n",
       "      <th>3</th>\n",
       "      <td>. came they till merchant a for passed he where and , meet to were brothers his and he which at inn the to transported were wish his formed had he as soon as and , down sat him with brought had he officer the and he , tapestry the spreading , that princess xxmaj the nearer be to eager so was he but , bisnagar xxmaj of court xxmaj and kingdom the in abode longer a made have might xxunk xxmaj .prince curiosity his satisfying in months some spend to and , there abode longer a make to chose he , kingdom the of religion and , customs , laws , strength the of himself inform to and , court xxmaj his and bisnagar xxmaj of king xxmaj the see to curious was he as and , agreed had they as , brothers his for there stay to obliged</td>\n",
       "    </tr>\n",
       "    <tr>\n",
       "      <th>4</th>\n",
       "      <td>. came they till merchant a for passed he where and , meet to were brothers his and he which at inn the to transported were wish his formed had he as soon as and , down sat him with brought had he officer the and he , tapestry the spreading , that princess xxmaj the nearer be to eager so was he but , bisnagar xxmaj of court xxmaj and kingdom the in abode longer a made have might xxunk xxmaj .prince curiosity his satisfying in months some spend to and , there abode longer a make to chose he , kingdom the of religion and , customs , laws , strength the of himself inform to and , court xxmaj his and bisnagar xxmaj of king xxmaj the see to curious was he as and , agreed had they as , brothers his for there stay to obliged</td>\n",
       "    </tr>\n",
       "    <tr>\n",
       "      <th>5</th>\n",
       "      <td>. him for waited ali xxmaj and xxunk xxmaj princes xxmaj the where inn the at health perfect in arrived and , indies xxmaj the to return should that xxunk first the for patiently waited , him to apple the delivered had he and , purses forty xxunk the to out counted had he after , prince xxmaj the and , succeeded experiment the , short in '' . effect desired the have always will it that you assure can i and ; yours be shall apple the and , experiment the make and go us let , sir , come xxmaj ` ` : xxunk xxmaj prince xxmaj to said , price that at it sell to orders had who , xxunk .the person sick the cured he if purses forty him give would he xxunk the told xxunk xxmaj prince xxmaj which .upon experiment the xxunk xxmaj prince</td>\n",
       "    </tr>\n",
       "    <tr>\n",
       "      <th>6</th>\n",
       "      <td>. curiosity his satisfying in months some spend to and , there abode longer a make to chose he , kingdom the of religion and , customs , laws , strength the of himself inform to and , court xxmaj his and bisnagar xxmaj of king xxmaj the see to curious was he as and , agreed had they as , brothers his for there stay to obliged was he as , but ; day very that meeting of place the at be to , tapestry his on sitting by , power his in was .it it with compared be to anything with meet to brothers younger his princes xxmaj the for thing impossible an as it upon looked he , short .in xxunk xxmaj of hand the him gain would xxunk never he which , piece a rare so found had he bisnagar xxmaj at arrival his at that</td>\n",
       "    </tr>\n",
       "    <tr>\n",
       "      <th>7</th>\n",
       "      <td>. curiosity his satisfying in months some spend to and , there abode longer a make to chose he , kingdom the of religion and , customs , laws , strength the of himself inform to and , court xxmaj his and bisnagar xxmaj of king xxmaj the see to curious was he as and , agreed had they as , brothers his for there stay to obliged was he as , but ; day very that meeting of place the at be to , tapestry his on sitting by , power his in was .it it with compared be to anything with meet to brothers younger his princes xxmaj the for thing impossible an as it upon looked he , short .in xxunk xxmaj of hand the him gain would xxunk never he which , piece a rare so found had he bisnagar xxmaj at arrival his at that</td>\n",
       "    </tr>\n",
       "    <tr>\n",
       "      <th>8</th>\n",
       "      <td>. promise his to according , wife a for xxunk xxmaj princess xxmaj the give would he them of which to declare and , fate their pronounce to him of begged they , hands 's sultan xxmaj the into it put they when , present their commended had each after and ; apple artificial his xxunk xxmaj prince xxmaj and , glass perspective ivory his ali xxmaj prince xxmaj ; chamber 's princess xxmaj the in him behind leave to not care taken had he which , tapestry his xxunk xxmaj prince xxmaj : xxunk his each presented princes xxmaj the compliments and ceremonies usual the .after physicians the by over given been had who and , daughter own his been had she if as well as loved he whom , niece his princess xxmaj the of recovery the and return their for both , joy greatest the with them</td>\n",
       "    </tr>\n",
       "  </tbody>\n",
       "</table>"
      ],
      "text/plain": [
       "<IPython.core.display.HTML object>"
      ]
     },
     "metadata": {},
     "output_type": "display_data"
    }
   ],
   "source": [
    "bkwd_tst_dl.show_batch()"
   ]
  },
  {
   "cell_type": "code",
   "execution_count": 12,
   "id": "1b361ecc",
   "metadata": {
    "execution": {
     "iopub.execute_input": "2021-07-30T13:59:37.396032Z",
     "iopub.status.busy": "2021-07-30T13:59:37.395134Z",
     "iopub.status.idle": "2021-07-30T13:59:40.767492Z",
     "shell.execute_reply": "2021-07-30T13:59:40.767952Z"
    },
    "papermill": {
     "duration": 3.424674,
     "end_time": "2021-07-30T13:59:40.768152",
     "exception": false,
     "start_time": "2021-07-30T13:59:37.343478",
     "status": "completed"
    },
    "tags": []
   },
   "outputs": [
    {
     "data": {
      "text/html": [
       "<table border=\"1\" class=\"dataframe\">\n",
       "  <thead>\n",
       "    <tr style=\"text-align: right;\">\n",
       "      <th></th>\n",
       "      <th>text</th>\n",
       "    </tr>\n",
       "  </thead>\n",
       "  <tbody>\n",
       "    <tr>\n",
       "      <th>0</th>\n",
       "      <td>xxbos xxmaj the shops were all of a size , and all that dealt in the same sort of goods lived in one street ; as also the xxunk - men , who kept their shops in the smaller streets .the multitude of shops , xxunk with all sorts of merchandise , as the finest xxunk from several parts of xxmaj india , some painted in the most lively colors , and representing beasts , trees , and flowers ; silks and brocades from xxmaj persia , xxmaj china , and other places , porcelain both from xxmaj japan and xxmaj china , and xxunk , surprised him so much that he knew not how to believe his own eyes ; but when he came to the xxunk and jewelers he was in a kind of xxunk to behold such prodigious quantities of wrought gold and silver , and was</td>\n",
       "    </tr>\n",
       "    <tr>\n",
       "      <th>1</th>\n",
       "      <td>xxbos xxmaj the shops were all of a size , and all that dealt in the same sort of goods lived in one street ; as also the xxunk - men , who kept their shops in the smaller streets .the multitude of shops , xxunk with all sorts of merchandise , as the finest xxunk from several parts of xxmaj india , some painted in the most lively colors , and representing beasts , trees , and flowers ; silks and brocades from xxmaj persia , xxmaj china , and other places , porcelain both from xxmaj japan and xxmaj china , and xxunk , surprised him so much that he knew not how to believe his own eyes ; but when he came to the xxunk and jewelers he was in a kind of xxunk to behold such prodigious quantities of wrought gold and silver , and was</td>\n",
       "    </tr>\n",
       "    <tr>\n",
       "      <th>2</th>\n",
       "      <td>xxbos xxmaj prince xxmaj xxunk could not view this division without admiration .it was large , and divided into several streets , all vaulted and shaded from the sun , and yet very light too .the shops were all of a size , and all that dealt in the same sort of goods lived in one street ; as also the xxunk - men , who kept their shops in the smaller streets .the multitude of shops , xxunk with all sorts of merchandise , as the finest xxunk from several parts of xxmaj india , some painted in the most lively colors , and representing beasts , trees , and flowers ; silks and brocades from xxmaj persia , xxmaj china , and other places , porcelain both from xxmaj japan and xxmaj china , and xxunk , surprised him so much that he knew not how to believe</td>\n",
       "    </tr>\n",
       "    <tr>\n",
       "      <th>3</th>\n",
       "      <td>xxbos xxmaj prince xxmaj xxunk could not view this division without admiration .it was large , and divided into several streets , all vaulted and shaded from the sun , and yet very light too .the shops were all of a size , and all that dealt in the same sort of goods lived in one street ; as also the xxunk - men , who kept their shops in the smaller streets .the multitude of shops , xxunk with all sorts of merchandise , as the finest xxunk from several parts of xxmaj india , some painted in the most lively colors , and representing beasts , trees , and flowers ; silks and brocades from xxmaj persia , xxmaj china , and other places , porcelain both from xxmaj japan and xxmaj china , and xxunk , surprised him so much that he knew not how to believe</td>\n",
       "    </tr>\n",
       "    <tr>\n",
       "      <th>4</th>\n",
       "      <td>xxbos xxmaj prince xxmaj xxunk could not view this division without admiration .it was large , and divided into several streets , all vaulted and shaded from the sun , and yet very light too .the shops were all of a size , and all that dealt in the same sort of goods lived in one street ; as also the xxunk - men , who kept their shops in the smaller streets .the multitude of shops , xxunk with all sorts of merchandise , as the finest xxunk from several parts of xxmaj india , some painted in the most lively colors , and representing beasts , trees , and flowers ; silks and brocades from xxmaj persia , xxmaj china , and other places , porcelain both from xxmaj japan and xxmaj china , and xxunk , surprised him so much that he knew not how to believe</td>\n",
       "    </tr>\n",
       "    <tr>\n",
       "      <th>5</th>\n",
       "      <td>xxbos xxmaj you shall judge yourself whether i am or no , when i have told you its property and i hope you will value it at as high a price as those i have showed it to already , who had as bad an opinion of me as you . ` ` xxmaj first , sir , '' pursued the xxunk , presenting the ivory pipe to the xxmaj prince , ` ` observe that this pipe is furnished with a glass at both ends ; and consider that by looking through one of them you see whatever object you wish to behold . '' ` ` i am , '' said the xxmaj prince , ` ` ready to make you all imaginable xxunk for the scandal i have thrown on you if you will make the truth of what you advance appear , '' and as he</td>\n",
       "    </tr>\n",
       "    <tr>\n",
       "      <th>6</th>\n",
       "      <td>xxbos xxmaj he went and lodged at a xxunk appointed for foreign merchants ; and , having learned that there were four principal divisions where merchants of all sorts sold their xxunk , and kept shops , and in the midst of which stood the castle , or rather the xxmaj king 's palace , he went to one of these divisions the next day .prince xxmaj xxunk could not view this division without admiration .it was large , and divided into several streets , all vaulted and shaded from the sun , and yet very light too .the shops were all of a size , and all that dealt in the same sort of goods lived in one street ; as also the xxunk - men , who kept their shops in the smaller streets .the multitude of shops , xxunk with all sorts of merchandise , as the</td>\n",
       "    </tr>\n",
       "    <tr>\n",
       "      <th>7</th>\n",
       "      <td>xxbos xxmaj he went and lodged at a xxunk appointed for foreign merchants ; and , having learned that there were four principal divisions where merchants of all sorts sold their xxunk , and kept shops , and in the midst of which stood the castle , or rather the xxmaj king 's palace , he went to one of these divisions the next day .prince xxmaj xxunk could not view this division without admiration .it was large , and divided into several streets , all vaulted and shaded from the sun , and yet very light too .the shops were all of a size , and all that dealt in the same sort of goods lived in one street ; as also the xxunk - men , who kept their shops in the smaller streets .the multitude of shops , xxunk with all sorts of merchandise , as the</td>\n",
       "    </tr>\n",
       "    <tr>\n",
       "      <th>8</th>\n",
       "      <td>xxbos xxmaj as soon as the xxunk was ready to set out , the xxmaj prince joined them , and arrived happily without any accident or trouble , otherwise than the length of the journey and fatigue of traveling , at the place of xxunk , where he found xxmaj prince xxmaj xxunk , and both waited for xxmaj prince xxmaj xxunk .prince xxmaj xxunk , who took the road of xxmaj xxunk , the next day after his arrival there went , as his brothers had done , into the xxunk , where he had not walked long but heard a xxunk , who had an artificial apple in his hand , cry it at five and thirty purses ; upon which he stopped the xxunk , and said to him : ` ` xxmaj let me see that apple , and tell me what virtue and extraordinary properties</td>\n",
       "    </tr>\n",
       "  </tbody>\n",
       "</table>"
      ],
      "text/plain": [
       "<IPython.core.display.HTML object>"
      ]
     },
     "metadata": {},
     "output_type": "display_data"
    }
   ],
   "source": [
    "fwd_tst_dl.show_batch()"
   ]
  },
  {
   "cell_type": "code",
   "execution_count": 13,
   "id": "b0af96a4",
   "metadata": {
    "execution": {
     "iopub.execute_input": "2021-07-30T13:59:40.861684Z",
     "iopub.status.busy": "2021-07-30T13:59:40.860671Z",
     "iopub.status.idle": "2021-07-30T13:59:40.864287Z",
     "shell.execute_reply": "2021-07-30T13:59:40.864751Z",
     "shell.execute_reply.started": "2021-07-30T13:34:14.012115Z"
    },
    "papermill": {
     "duration": 0.054267,
     "end_time": "2021-07-30T13:59:40.864931",
     "exception": false,
     "start_time": "2021-07-30T13:59:40.810664",
     "status": "completed"
    },
    "tags": []
   },
   "outputs": [],
   "source": [
    "#bkwd_preds = bkwd_model.get_preds(dl=tst_dl)"
   ]
  },
  {
   "cell_type": "code",
   "execution_count": 14,
   "id": "8a524761",
   "metadata": {
    "execution": {
     "iopub.execute_input": "2021-07-30T13:59:40.950732Z",
     "iopub.status.busy": "2021-07-30T13:59:40.949748Z",
     "iopub.status.idle": "2021-07-30T13:59:40.953239Z",
     "shell.execute_reply": "2021-07-30T13:59:40.953679Z",
     "shell.execute_reply.started": "2021-07-30T13:41:37.129895Z"
    },
    "papermill": {
     "duration": 0.048228,
     "end_time": "2021-07-30T13:59:40.953855",
     "exception": false,
     "start_time": "2021-07-30T13:59:40.905627",
     "status": "completed"
    },
    "tags": []
   },
   "outputs": [],
   "source": [
    "#fwd_preds = fwd_model.get_preds(dl=tst_dl)"
   ]
  },
  {
   "cell_type": "code",
   "execution_count": 15,
   "id": "557e9064",
   "metadata": {
    "execution": {
     "iopub.execute_input": "2021-07-30T13:59:41.041340Z",
     "iopub.status.busy": "2021-07-30T13:59:41.040629Z",
     "iopub.status.idle": "2021-07-30T13:59:41.044055Z",
     "shell.execute_reply": "2021-07-30T13:59:41.043356Z",
     "shell.execute_reply.started": "2021-07-30T13:42:19.147418Z"
    },
    "papermill": {
     "duration": 0.049291,
     "end_time": "2021-07-30T13:59:41.044206",
     "exception": false,
     "start_time": "2021-07-30T13:59:40.994915",
     "status": "completed"
    },
    "tags": []
   },
   "outputs": [],
   "source": [
    "#p = np.array(bkwd_preds[0])\n",
    "#h = np.array(fwd_preds[0])"
   ]
  },
  {
   "cell_type": "code",
   "execution_count": 16,
   "id": "a33355a0",
   "metadata": {
    "execution": {
     "iopub.execute_input": "2021-07-30T13:59:41.131212Z",
     "iopub.status.busy": "2021-07-30T13:59:41.130372Z",
     "iopub.status.idle": "2021-07-30T13:59:41.133692Z",
     "shell.execute_reply": "2021-07-30T13:59:41.133122Z",
     "shell.execute_reply.started": "2021-07-30T13:46:58.962541Z"
    },
    "papermill": {
     "duration": 0.048094,
     "end_time": "2021-07-30T13:59:41.133844",
     "exception": false,
     "start_time": "2021-07-30T13:59:41.085750",
     "status": "completed"
    },
    "tags": []
   },
   "outputs": [],
   "source": [
    "#d = np.mean([p, h], axis=0)"
   ]
  },
  {
   "cell_type": "markdown",
   "id": "bbf3dd9d",
   "metadata": {
    "papermill": {
     "duration": 0.040161,
     "end_time": "2021-07-30T13:59:41.215215",
     "exception": false,
     "start_time": "2021-07-30T13:59:41.175054",
     "status": "completed"
    },
    "tags": []
   },
   "source": [
    "# Predictions"
   ]
  },
  {
   "cell_type": "code",
   "execution_count": 17,
   "id": "40a03c69",
   "metadata": {
    "execution": {
     "iopub.execute_input": "2021-07-30T13:59:41.317078Z",
     "iopub.status.busy": "2021-07-30T13:59:41.316306Z",
     "iopub.status.idle": "2021-07-30T13:59:41.319187Z",
     "shell.execute_reply": "2021-07-30T13:59:41.319742Z"
    },
    "papermill": {
     "duration": 0.060272,
     "end_time": "2021-07-30T13:59:41.319921",
     "exception": false,
     "start_time": "2021-07-30T13:59:41.259649",
     "status": "completed"
    },
    "tags": []
   },
   "outputs": [],
   "source": [
    "def ensamble(excerpts, bkwd_model, fwd_model):\n",
    "    bkwd_preds = np.array(bkwd_model.get_preds(dl=bkwd_tst_dl)[0])\n",
    "    fwd_preds = np.array(fwd_model.get_preds(dl=fwd_tst_dl)[0])\n",
    "    return np.mean([bkwd_preds, fwd_preds], axis=0)"
   ]
  },
  {
   "cell_type": "code",
   "execution_count": 18,
   "id": "fa9478bf",
   "metadata": {
    "execution": {
     "iopub.execute_input": "2021-07-30T13:59:41.421700Z",
     "iopub.status.busy": "2021-07-30T13:59:41.421031Z",
     "iopub.status.idle": "2021-07-30T15:13:41.186636Z",
     "shell.execute_reply": "2021-07-30T15:13:41.185868Z"
    },
    "papermill": {
     "duration": 4439.816401,
     "end_time": "2021-07-30T15:13:41.186791",
     "exception": false,
     "start_time": "2021-07-30T13:59:41.370390",
     "status": "completed"
    },
    "tags": []
   },
   "outputs": [
    {
     "data": {
      "text/html": [],
      "text/plain": [
       "<IPython.core.display.HTML object>"
      ]
     },
     "metadata": {},
     "output_type": "display_data"
    },
    {
     "data": {
      "text/html": [],
      "text/plain": [
       "<IPython.core.display.HTML object>"
      ]
     },
     "metadata": {},
     "output_type": "display_data"
    }
   ],
   "source": [
    "predictions = [pred[0] for pred in ensamble(excerpts, bkwd_model, fwd_model)]\n",
    "#predictions = [float(\"{0:.2f}\".format(pred.item())) for pred in ensamble(bkwd_model, fwd_model, excerpts)]\n",
    "#predictions = [float(\"{0:.2f}\".format(model.predict(excerpt)[0][0])) for excerpt in excerpts]"
   ]
  },
  {
   "cell_type": "code",
   "execution_count": 19,
   "id": "dcd9e786",
   "metadata": {
    "execution": {
     "iopub.execute_input": "2021-07-30T15:13:41.276079Z",
     "iopub.status.busy": "2021-07-30T15:13:41.275359Z",
     "iopub.status.idle": "2021-07-30T15:13:41.278525Z",
     "shell.execute_reply": "2021-07-30T15:13:41.279025Z"
    },
    "papermill": {
     "duration": 0.050668,
     "end_time": "2021-07-30T15:13:41.279199",
     "exception": false,
     "start_time": "2021-07-30T15:13:41.228531",
     "status": "completed"
    },
    "tags": []
   },
   "outputs": [
    {
     "data": {
      "text/plain": [
       "[-0.7086786, -0.7086786]"
      ]
     },
     "execution_count": 19,
     "metadata": {},
     "output_type": "execute_result"
    }
   ],
   "source": [
    "predictions[:2]"
   ]
  },
  {
   "cell_type": "markdown",
   "id": "d471d668",
   "metadata": {
    "papermill": {
     "duration": 0.042818,
     "end_time": "2021-07-30T15:13:41.363998",
     "exception": false,
     "start_time": "2021-07-30T15:13:41.321180",
     "status": "completed"
    },
    "tags": []
   },
   "source": [
    "# Creating the submission file"
   ]
  },
  {
   "cell_type": "markdown",
   "id": "71a33bef",
   "metadata": {
    "papermill": {
     "duration": 0.042846,
     "end_time": "2021-07-30T15:13:41.449725",
     "exception": false,
     "start_time": "2021-07-30T15:13:41.406879",
     "status": "completed"
    },
    "tags": []
   },
   "source": [
    "Creating a new dataframe"
   ]
  },
  {
   "cell_type": "code",
   "execution_count": 20,
   "id": "2784ce74",
   "metadata": {
    "execution": {
     "iopub.execute_input": "2021-07-30T15:13:41.537026Z",
     "iopub.status.busy": "2021-07-30T15:13:41.536351Z",
     "iopub.status.idle": "2021-07-30T15:13:41.546817Z",
     "shell.execute_reply": "2021-07-30T15:13:41.547406Z"
    },
    "papermill": {
     "duration": 0.055723,
     "end_time": "2021-07-30T15:13:41.547584",
     "exception": false,
     "start_time": "2021-07-30T15:13:41.491861",
     "status": "completed"
    },
    "tags": []
   },
   "outputs": [],
   "source": [
    "df_cbt_train = drop_cols(df_cbt_train, ['target'])"
   ]
  },
  {
   "cell_type": "code",
   "execution_count": 21,
   "id": "3f73de1a",
   "metadata": {
    "execution": {
     "iopub.execute_input": "2021-07-30T15:13:41.634613Z",
     "iopub.status.busy": "2021-07-30T15:13:41.633938Z",
     "iopub.status.idle": "2021-07-30T15:13:41.644696Z",
     "shell.execute_reply": "2021-07-30T15:13:41.644148Z"
    },
    "papermill": {
     "duration": 0.055377,
     "end_time": "2021-07-30T15:13:41.644839",
     "exception": false,
     "start_time": "2021-07-30T15:13:41.589462",
     "status": "completed"
    },
    "tags": []
   },
   "outputs": [
    {
     "data": {
      "text/html": [
       "<div>\n",
       "<style scoped>\n",
       "    .dataframe tbody tr th:only-of-type {\n",
       "        vertical-align: middle;\n",
       "    }\n",
       "\n",
       "    .dataframe tbody tr th {\n",
       "        vertical-align: top;\n",
       "    }\n",
       "\n",
       "    .dataframe thead th {\n",
       "        text-align: right;\n",
       "    }\n",
       "</style>\n",
       "<table border=\"1\" class=\"dataframe\">\n",
       "  <thead>\n",
       "    <tr style=\"text-align: right;\">\n",
       "      <th></th>\n",
       "      <th>excerpt</th>\n",
       "    </tr>\n",
       "  </thead>\n",
       "  <tbody>\n",
       "    <tr>\n",
       "      <th>0</th>\n",
       "      <td>With almost everything else to make them happy , they wanted one thing : they had no children .This vexed the king even more than the queen , who was very clever and learned , and who had hated dolls when she was a child .However , she , too in spite of all the books she read and all the pictures she painted , would have been glad enough to be the mother of a little prince .The king was anxious to consult the fairies , but the queen would not hear of such a thing .She did not believe in fairies : she said that they had never existed ; and that she maintained , though The History of the Roy...</td>\n",
       "    </tr>\n",
       "  </tbody>\n",
       "</table>\n",
       "</div>"
      ],
      "text/plain": [
       "                                                                                                                                                                                                                                                                                                                                                                                                                                                                                                                                                                                                                   excerpt\n",
       "0  With almost everything else to make them happy , they wanted one thing : they had no children .This vexed the king even more than the queen , who was very clever and learned , and who had hated dolls when she was a child .However , she , too in spite of all the books she read and all the pictures she painted , would have been glad enough to be the mother of a little prince .The king was anxious to consult the fairies , but the queen would not hear of such a thing .She did not believe in fairies : she said that they had never existed ; and that she maintained , though The History of the Roy..."
      ]
     },
     "execution_count": 21,
     "metadata": {},
     "output_type": "execute_result"
    }
   ],
   "source": [
    "df_cbt_train.head(1)"
   ]
  },
  {
   "cell_type": "code",
   "execution_count": 22,
   "id": "f8874b62",
   "metadata": {
    "execution": {
     "iopub.execute_input": "2021-07-30T15:13:41.738963Z",
     "iopub.status.busy": "2021-07-30T15:13:41.738096Z",
     "iopub.status.idle": "2021-07-30T15:13:41.741683Z",
     "shell.execute_reply": "2021-07-30T15:13:41.741052Z"
    },
    "papermill": {
     "duration": 0.054352,
     "end_time": "2021-07-30T15:13:41.741837",
     "exception": false,
     "start_time": "2021-07-30T15:13:41.687485",
     "status": "completed"
    },
    "tags": []
   },
   "outputs": [],
   "source": [
    "df_cbt_train['target'] = predictions"
   ]
  },
  {
   "cell_type": "code",
   "execution_count": 23,
   "id": "7a62860e",
   "metadata": {
    "execution": {
     "iopub.execute_input": "2021-07-30T15:13:41.836431Z",
     "iopub.status.busy": "2021-07-30T15:13:41.835690Z",
     "iopub.status.idle": "2021-07-30T15:13:41.838596Z",
     "shell.execute_reply": "2021-07-30T15:13:41.839115Z"
    },
    "papermill": {
     "duration": 0.055172,
     "end_time": "2021-07-30T15:13:41.839281",
     "exception": false,
     "start_time": "2021-07-30T15:13:41.784109",
     "status": "completed"
    },
    "tags": []
   },
   "outputs": [
    {
     "data": {
      "text/html": [
       "<div>\n",
       "<style scoped>\n",
       "    .dataframe tbody tr th:only-of-type {\n",
       "        vertical-align: middle;\n",
       "    }\n",
       "\n",
       "    .dataframe tbody tr th {\n",
       "        vertical-align: top;\n",
       "    }\n",
       "\n",
       "    .dataframe thead th {\n",
       "        text-align: right;\n",
       "    }\n",
       "</style>\n",
       "<table border=\"1\" class=\"dataframe\">\n",
       "  <thead>\n",
       "    <tr style=\"text-align: right;\">\n",
       "      <th></th>\n",
       "      <th>excerpt</th>\n",
       "      <th>target</th>\n",
       "    </tr>\n",
       "  </thead>\n",
       "  <tbody>\n",
       "    <tr>\n",
       "      <th>0</th>\n",
       "      <td>With almost everything else to make them happy , they wanted one thing : they had no children .This vexed the king even more than the queen , who was very clever and learned , and who had hated dolls when she was a child .However , she , too in spite of all the books she read and all the pictures she painted , would have been glad enough to be the mother of a little prince .The king was anxious to consult the fairies , but the queen would not hear of such a thing .She did not believe in fairies : she said that they had never existed ; and that she maintained , though The History of the Roy...</td>\n",
       "      <td>-0.708679</td>\n",
       "    </tr>\n",
       "  </tbody>\n",
       "</table>\n",
       "</div>"
      ],
      "text/plain": [
       "                                                                                                                                                                                                                                                                                                                                                                                                                                                                                                                                                                                                                   excerpt  \\\n",
       "0  With almost everything else to make them happy , they wanted one thing : they had no children .This vexed the king even more than the queen , who was very clever and learned , and who had hated dolls when she was a child .However , she , too in spite of all the books she read and all the pictures she painted , would have been glad enough to be the mother of a little prince .The king was anxious to consult the fairies , but the queen would not hear of such a thing .She did not believe in fairies : she said that they had never existed ; and that she maintained , though The History of the Roy...   \n",
       "\n",
       "     target  \n",
       "0 -0.708679  "
      ]
     },
     "execution_count": 23,
     "metadata": {},
     "output_type": "execute_result"
    }
   ],
   "source": [
    "df_cbt_train.head(1)"
   ]
  },
  {
   "cell_type": "code",
   "execution_count": 24,
   "id": "943b8b99",
   "metadata": {
    "execution": {
     "iopub.execute_input": "2021-07-30T15:13:41.929272Z",
     "iopub.status.busy": "2021-07-30T15:13:41.928612Z",
     "iopub.status.idle": "2021-07-30T15:13:41.936743Z",
     "shell.execute_reply": "2021-07-30T15:13:41.937243Z"
    },
    "papermill": {
     "duration": 0.054943,
     "end_time": "2021-07-30T15:13:41.937451",
     "exception": false,
     "start_time": "2021-07-30T15:13:41.882508",
     "status": "completed"
    },
    "tags": []
   },
   "outputs": [],
   "source": [
    "df_pseudo_labels = concat_dfs([df_aug,df_cbt_train])"
   ]
  },
  {
   "cell_type": "markdown",
   "id": "346060a7",
   "metadata": {
    "papermill": {
     "duration": 0.042902,
     "end_time": "2021-07-30T15:13:42.023357",
     "exception": false,
     "start_time": "2021-07-30T15:13:41.980455",
     "status": "completed"
    },
    "tags": []
   },
   "source": [
    "Saving the dataframe as csv ."
   ]
  },
  {
   "cell_type": "code",
   "execution_count": 25,
   "id": "9f407947",
   "metadata": {
    "execution": {
     "iopub.execute_input": "2021-07-30T15:13:42.112751Z",
     "iopub.status.busy": "2021-07-30T15:13:42.112073Z",
     "iopub.status.idle": "2021-07-30T15:13:43.462561Z",
     "shell.execute_reply": "2021-07-30T15:13:43.463137Z"
    },
    "papermill": {
     "duration": 1.397011,
     "end_time": "2021-07-30T15:13:43.463365",
     "exception": false,
     "start_time": "2021-07-30T15:13:42.066354",
     "status": "completed"
    },
    "tags": []
   },
   "outputs": [],
   "source": [
    "df_pseudo_labels.to_csv('pseudo_labels.csv', index=False)"
   ]
  },
  {
   "cell_type": "code",
   "execution_count": null,
   "id": "f137e43d",
   "metadata": {
    "papermill": {
     "duration": 0.042595,
     "end_time": "2021-07-30T15:13:43.552267",
     "exception": false,
     "start_time": "2021-07-30T15:13:43.509672",
     "status": "completed"
    },
    "tags": []
   },
   "outputs": [],
   "source": []
  }
 ],
 "metadata": {
  "kernelspec": {
   "display_name": "Python 3",
   "language": "python",
   "name": "python3"
  },
  "language_info": {
   "codemirror_mode": {
    "name": "ipython",
    "version": 3
   },
   "file_extension": ".py",
   "mimetype": "text/x-python",
   "name": "python",
   "nbconvert_exporter": "python",
   "pygments_lexer": "ipython3",
   "version": "3.7.10"
  },
  "papermill": {
   "default_parameters": {},
   "duration": 4837.807469,
   "end_time": "2021-07-30T15:13:46.447412",
   "environment_variables": {},
   "exception": null,
   "input_path": "__notebook__.ipynb",
   "output_path": "__notebook__.ipynb",
   "parameters": {},
   "start_time": "2021-07-30T13:53:08.639943",
   "version": "2.3.3"
  }
 },
 "nbformat": 4,
 "nbformat_minor": 5
}
