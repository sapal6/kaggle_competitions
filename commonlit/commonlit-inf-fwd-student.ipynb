{
 "cells": [
  {
   "cell_type": "code",
   "execution_count": 1,
   "id": "b986c2f4",
   "metadata": {
    "execution": {
     "iopub.execute_input": "2021-08-01T07:51:40.980486Z",
     "iopub.status.busy": "2021-08-01T07:51:40.975121Z",
     "iopub.status.idle": "2021-08-01T07:52:07.532870Z",
     "shell.execute_reply": "2021-08-01T07:52:07.531898Z",
     "shell.execute_reply.started": "2021-08-01T07:48:03.631071Z"
    },
    "papermill": {
     "duration": 26.589915,
     "end_time": "2021-08-01T07:52:07.533078",
     "exception": false,
     "start_time": "2021-08-01T07:51:40.943163",
     "status": "completed"
    },
    "tags": []
   },
   "outputs": [
    {
     "name": "stdout",
     "output_type": "stream",
     "text": [
      "Looking in links: ../input/commonlit-pkgs-offline-download\r\n",
      "Processing /kaggle/input/commonlit-pkgs-offline-download/spacy-3.1.1-cp37-cp37m-manylinux_2_17_x86_64.manylinux2014_x86_64.whl\r\n",
      "Requirement already satisfied: preshed<3.1.0,>=3.0.2 in /opt/conda/lib/python3.7/site-packages (from spacy==3.1.1) (3.0.5)\r\n",
      "Requirement already satisfied: tqdm<5.0.0,>=4.38.0 in /opt/conda/lib/python3.7/site-packages (from spacy==3.1.1) (4.61.1)\r\n",
      "Requirement already satisfied: setuptools in /opt/conda/lib/python3.7/site-packages (from spacy==3.1.1) (49.6.0.post20210108)\r\n",
      "Requirement already satisfied: cymem<2.1.0,>=2.0.2 in /opt/conda/lib/python3.7/site-packages (from spacy==3.1.1) (2.0.5)\r\n",
      "Requirement already satisfied: numpy>=1.15.0 in /opt/conda/lib/python3.7/site-packages (from spacy==3.1.1) (1.19.5)\r\n",
      "Processing /kaggle/input/commonlit-pkgs-offline-download/srsly-2.4.1-cp37-cp37m-manylinux2014_x86_64.whl\r\n",
      "Requirement already satisfied: wasabi<1.1.0,>=0.8.1 in /opt/conda/lib/python3.7/site-packages (from spacy==3.1.1) (0.8.2)\r\n",
      "Requirement already satisfied: requests<3.0.0,>=2.13.0 in /opt/conda/lib/python3.7/site-packages (from spacy==3.1.1) (2.25.1)\r\n",
      "Processing /kaggle/input/commonlit-pkgs-offline-download/pathy-0.6.0-py3-none-any.whl\r\n",
      "Requirement already satisfied: typing-extensions<4.0.0.0,>=3.7.4 in /opt/conda/lib/python3.7/site-packages (from spacy==3.1.1) (3.7.4.3)\r\n",
      "Requirement already satisfied: murmurhash<1.1.0,>=0.28.0 in /opt/conda/lib/python3.7/site-packages (from spacy==3.1.1) (1.0.5)\r\n",
      "Requirement already satisfied: packaging>=20.0 in /opt/conda/lib/python3.7/site-packages (from spacy==3.1.1) (20.9)\r\n",
      "Requirement already satisfied: jinja2 in /opt/conda/lib/python3.7/site-packages (from spacy==3.1.1) (3.0.1)\r\n",
      "Processing /kaggle/input/commonlit-pkgs-offline-download/catalogue-2.0.4-py3-none-any.whl\r\n",
      "Processing /kaggle/input/commonlit-pkgs-offline-download/thinc-8.0.8-cp37-cp37m-manylinux_2_17_x86_64.manylinux2014_x86_64.whl\r\n",
      "Processing /kaggle/input/commonlit-pkgs-offline-download/typer-0.3.2-py3-none-any.whl\r\n",
      "Requirement already satisfied: pydantic!=1.8,!=1.8.1,<1.9.0,>=1.7.4 in /opt/conda/lib/python3.7/site-packages (from spacy==3.1.1) (1.8.2)\r\n",
      "Requirement already satisfied: blis<0.8.0,>=0.4.0 in /opt/conda/lib/python3.7/site-packages (from spacy==3.1.1) (0.7.4)\r\n",
      "Processing /kaggle/input/commonlit-pkgs-offline-download/spacy_legacy-3.0.8-py2.py3-none-any.whl\r\n",
      "Requirement already satisfied: zipp>=0.5 in /opt/conda/lib/python3.7/site-packages (from catalogue<2.1.0,>=2.0.4->spacy==3.1.1) (3.4.1)\r\n",
      "Requirement already satisfied: pyparsing>=2.0.2 in /opt/conda/lib/python3.7/site-packages (from packaging>=20.0->spacy==3.1.1) (2.4.7)\r\n",
      "Requirement already satisfied: smart-open<6.0.0,>=5.0.0 in /opt/conda/lib/python3.7/site-packages (from pathy>=0.3.5->spacy==3.1.1) (5.1.0)\r\n",
      "Requirement already satisfied: certifi>=2017.4.17 in /opt/conda/lib/python3.7/site-packages (from requests<3.0.0,>=2.13.0->spacy==3.1.1) (2021.5.30)\r\n",
      "Requirement already satisfied: chardet<5,>=3.0.2 in /opt/conda/lib/python3.7/site-packages (from requests<3.0.0,>=2.13.0->spacy==3.1.1) (4.0.0)\r\n",
      "Requirement already satisfied: urllib3<1.27,>=1.21.1 in /opt/conda/lib/python3.7/site-packages (from requests<3.0.0,>=2.13.0->spacy==3.1.1) (1.26.5)\r\n",
      "Requirement already satisfied: idna<3,>=2.5 in /opt/conda/lib/python3.7/site-packages (from requests<3.0.0,>=2.13.0->spacy==3.1.1) (2.10)\r\n",
      "Requirement already satisfied: click<7.2.0,>=7.1.1 in /opt/conda/lib/python3.7/site-packages (from typer<0.4.0,>=0.3.0->spacy==3.1.1) (7.1.2)\r\n",
      "Requirement already satisfied: MarkupSafe>=2.0 in /opt/conda/lib/python3.7/site-packages (from jinja2->spacy==3.1.1) (2.0.1)\r\n",
      "Installing collected packages: catalogue, typer, srsly, thinc, spacy-legacy, pathy, spacy\r\n",
      "  Attempting uninstall: catalogue\r\n",
      "    Found existing installation: catalogue 1.0.0\r\n",
      "    Uninstalling catalogue-1.0.0:\r\n",
      "      Successfully uninstalled catalogue-1.0.0\r\n",
      "  Attempting uninstall: srsly\r\n",
      "    Found existing installation: srsly 1.0.5\r\n",
      "    Uninstalling srsly-1.0.5:\r\n",
      "      Successfully uninstalled srsly-1.0.5\r\n",
      "  Attempting uninstall: thinc\r\n",
      "    Found existing installation: thinc 7.4.5\r\n",
      "    Uninstalling thinc-7.4.5:\r\n",
      "      Successfully uninstalled thinc-7.4.5\r\n",
      "  Attempting uninstall: spacy\r\n",
      "    Found existing installation: spacy 2.3.7\r\n",
      "    Uninstalling spacy-2.3.7:\r\n",
      "      Successfully uninstalled spacy-2.3.7\r\n",
      "\u001b[31mERROR: pip's dependency resolver does not currently take into account all the packages that are installed. This behaviour is the source of the following dependency conflicts.\r\n",
      "fastai 2.2.7 requires spacy<3, but you have spacy 3.1.1 which is incompatible.\r\n",
      "en-core-web-sm 2.3.1 requires spacy<2.4.0,>=2.3.0, but you have spacy 3.1.1 which is incompatible.\r\n",
      "en-core-web-lg 2.3.1 requires spacy<2.4.0,>=2.3.0, but you have spacy 3.1.1 which is incompatible.\r\n",
      "allennlp 2.5.0 requires spacy<3.1,>=2.1.0, but you have spacy 3.1.1 which is incompatible.\u001b[0m\r\n",
      "Successfully installed catalogue-2.0.4 pathy-0.6.0 spacy-3.1.1 spacy-legacy-3.0.8 srsly-2.4.1 thinc-8.0.8 typer-0.3.2\r\n",
      "\u001b[33mWARNING: Running pip as root will break packages and permissions. You should install packages reliably by using venv: https://pip.pypa.io/warnings/venv\u001b[0m\r\n"
     ]
    }
   ],
   "source": [
    "!pip install --no-index --find-links=\"../input/commonlit-pkgs-offline-download\" spacy==3.1.1"
   ]
  },
  {
   "cell_type": "code",
   "execution_count": 2,
   "id": "c1848b3a",
   "metadata": {
    "execution": {
     "iopub.execute_input": "2021-08-01T07:52:07.594728Z",
     "iopub.status.busy": "2021-08-01T07:52:07.590783Z",
     "iopub.status.idle": "2021-08-01T07:52:58.999112Z",
     "shell.execute_reply": "2021-08-01T07:52:58.998486Z",
     "shell.execute_reply.started": "2021-08-01T07:48:34.563404Z"
    },
    "papermill": {
     "duration": 51.43921,
     "end_time": "2021-08-01T07:52:58.999285",
     "exception": false,
     "start_time": "2021-08-01T07:52:07.560075",
     "status": "completed"
    },
    "tags": []
   },
   "outputs": [
    {
     "name": "stdout",
     "output_type": "stream",
     "text": [
      "Looking in links: ../input/commonlit-pkgs-offline-download\r\n",
      "Processing /kaggle/input/commonlit-pkgs-offline-download/fastai-2.4.1-py3-none-any.whl\r\n",
      "Requirement already satisfied: pip in /opt/conda/lib/python3.7/site-packages (from fastai==2.4.1) (21.1.2)\r\n",
      "Requirement already satisfied: packaging in /opt/conda/lib/python3.7/site-packages (from fastai==2.4.1) (20.9)\r\n",
      "Requirement already satisfied: pandas in /opt/conda/lib/python3.7/site-packages (from fastai==2.4.1) (1.2.4)\r\n",
      "Requirement already satisfied: pillow>6.0.0 in /opt/conda/lib/python3.7/site-packages (from fastai==2.4.1) (8.2.0)\r\n",
      "Requirement already satisfied: fastcore<1.4,>=1.3.8 in /opt/conda/lib/python3.7/site-packages (from fastai==2.4.1) (1.3.20)\r\n",
      "Requirement already satisfied: fastprogress>=0.2.4 in /opt/conda/lib/python3.7/site-packages (from fastai==2.4.1) (1.0.0)\r\n",
      "Requirement already satisfied: requests in /opt/conda/lib/python3.7/site-packages (from fastai==2.4.1) (2.25.1)\r\n",
      "Requirement already satisfied: torch<1.10,>=1.7.0 in /opt/conda/lib/python3.7/site-packages (from fastai==2.4.1) (1.7.0)\r\n",
      "Requirement already satisfied: matplotlib in /opt/conda/lib/python3.7/site-packages (from fastai==2.4.1) (3.4.2)\r\n",
      "Requirement already satisfied: scipy in /opt/conda/lib/python3.7/site-packages (from fastai==2.4.1) (1.6.3)\r\n",
      "Requirement already satisfied: scikit-learn in /opt/conda/lib/python3.7/site-packages (from fastai==2.4.1) (0.23.2)\r\n",
      "Requirement already satisfied: spacy<4 in /opt/conda/lib/python3.7/site-packages (from fastai==2.4.1) (3.1.1)\r\n",
      "Requirement already satisfied: pyyaml in /opt/conda/lib/python3.7/site-packages (from fastai==2.4.1) (5.4.1)\r\n",
      "Processing /kaggle/input/commonlit-pkgs-offline-download/torchvision-0.10.0-cp37-cp37m-manylinux1_x86_64.whl\r\n",
      "Requirement already satisfied: numpy in /opt/conda/lib/python3.7/site-packages (from fastprogress>=0.2.4->fastai==2.4.1) (1.19.5)\r\n",
      "Requirement already satisfied: setuptools in /opt/conda/lib/python3.7/site-packages (from spacy<4->fastai==2.4.1) (49.6.0.post20210108)\r\n",
      "Requirement already satisfied: jinja2 in /opt/conda/lib/python3.7/site-packages (from spacy<4->fastai==2.4.1) (3.0.1)\r\n",
      "Requirement already satisfied: srsly<3.0.0,>=2.4.1 in /opt/conda/lib/python3.7/site-packages (from spacy<4->fastai==2.4.1) (2.4.1)\r\n",
      "Requirement already satisfied: cymem<2.1.0,>=2.0.2 in /opt/conda/lib/python3.7/site-packages (from spacy<4->fastai==2.4.1) (2.0.5)\r\n",
      "Requirement already satisfied: typing-extensions<4.0.0.0,>=3.7.4 in /opt/conda/lib/python3.7/site-packages (from spacy<4->fastai==2.4.1) (3.7.4.3)\r\n",
      "Requirement already satisfied: catalogue<2.1.0,>=2.0.4 in /opt/conda/lib/python3.7/site-packages (from spacy<4->fastai==2.4.1) (2.0.4)\r\n",
      "Requirement already satisfied: preshed<3.1.0,>=3.0.2 in /opt/conda/lib/python3.7/site-packages (from spacy<4->fastai==2.4.1) (3.0.5)\r\n",
      "Requirement already satisfied: wasabi<1.1.0,>=0.8.1 in /opt/conda/lib/python3.7/site-packages (from spacy<4->fastai==2.4.1) (0.8.2)\r\n",
      "Requirement already satisfied: typer<0.4.0,>=0.3.0 in /opt/conda/lib/python3.7/site-packages (from spacy<4->fastai==2.4.1) (0.3.2)\r\n",
      "Requirement already satisfied: thinc<8.1.0,>=8.0.8 in /opt/conda/lib/python3.7/site-packages (from spacy<4->fastai==2.4.1) (8.0.8)\r\n",
      "Requirement already satisfied: murmurhash<1.1.0,>=0.28.0 in /opt/conda/lib/python3.7/site-packages (from spacy<4->fastai==2.4.1) (1.0.5)\r\n",
      "Requirement already satisfied: tqdm<5.0.0,>=4.38.0 in /opt/conda/lib/python3.7/site-packages (from spacy<4->fastai==2.4.1) (4.61.1)\r\n",
      "Requirement already satisfied: blis<0.8.0,>=0.4.0 in /opt/conda/lib/python3.7/site-packages (from spacy<4->fastai==2.4.1) (0.7.4)\r\n",
      "Requirement already satisfied: spacy-legacy<3.1.0,>=3.0.7 in /opt/conda/lib/python3.7/site-packages (from spacy<4->fastai==2.4.1) (3.0.8)\r\n",
      "Requirement already satisfied: pathy>=0.3.5 in /opt/conda/lib/python3.7/site-packages (from spacy<4->fastai==2.4.1) (0.6.0)\r\n",
      "Requirement already satisfied: pydantic!=1.8,!=1.8.1,<1.9.0,>=1.7.4 in /opt/conda/lib/python3.7/site-packages (from spacy<4->fastai==2.4.1) (1.8.2)\r\n",
      "Requirement already satisfied: zipp>=0.5 in /opt/conda/lib/python3.7/site-packages (from catalogue<2.1.0,>=2.0.4->spacy<4->fastai==2.4.1) (3.4.1)\r\n",
      "Requirement already satisfied: pyparsing>=2.0.2 in /opt/conda/lib/python3.7/site-packages (from packaging->fastai==2.4.1) (2.4.7)\r\n",
      "Requirement already satisfied: smart-open<6.0.0,>=5.0.0 in /opt/conda/lib/python3.7/site-packages (from pathy>=0.3.5->spacy<4->fastai==2.4.1) (5.1.0)\r\n",
      "Requirement already satisfied: urllib3<1.27,>=1.21.1 in /opt/conda/lib/python3.7/site-packages (from requests->fastai==2.4.1) (1.26.5)\r\n",
      "Requirement already satisfied: idna<3,>=2.5 in /opt/conda/lib/python3.7/site-packages (from requests->fastai==2.4.1) (2.10)\r\n",
      "Requirement already satisfied: chardet<5,>=3.0.2 in /opt/conda/lib/python3.7/site-packages (from requests->fastai==2.4.1) (4.0.0)\r\n",
      "Requirement already satisfied: certifi>=2017.4.17 in /opt/conda/lib/python3.7/site-packages (from requests->fastai==2.4.1) (2021.5.30)\r\n",
      "Requirement already satisfied: future in /opt/conda/lib/python3.7/site-packages (from torch<1.10,>=1.7.0->fastai==2.4.1) (0.18.2)\r\n",
      "Requirement already satisfied: dataclasses in /opt/conda/lib/python3.7/site-packages (from torch<1.10,>=1.7.0->fastai==2.4.1) (0.6)\r\n",
      "Processing /kaggle/input/commonlit-pkgs-offline-download/torch-1.9.0-cp37-cp37m-manylinux1_x86_64.whl\r\n",
      "Requirement already satisfied: click<7.2.0,>=7.1.1 in /opt/conda/lib/python3.7/site-packages (from typer<0.4.0,>=0.3.0->spacy<4->fastai==2.4.1) (7.1.2)\r\n",
      "Requirement already satisfied: MarkupSafe>=2.0 in /opt/conda/lib/python3.7/site-packages (from jinja2->spacy<4->fastai==2.4.1) (2.0.1)\r\n",
      "Requirement already satisfied: cycler>=0.10 in /opt/conda/lib/python3.7/site-packages (from matplotlib->fastai==2.4.1) (0.10.0)\r\n",
      "Requirement already satisfied: kiwisolver>=1.0.1 in /opt/conda/lib/python3.7/site-packages (from matplotlib->fastai==2.4.1) (1.3.1)\r\n",
      "Requirement already satisfied: python-dateutil>=2.7 in /opt/conda/lib/python3.7/site-packages (from matplotlib->fastai==2.4.1) (2.8.1)\r\n",
      "Requirement already satisfied: six in /opt/conda/lib/python3.7/site-packages (from cycler>=0.10->matplotlib->fastai==2.4.1) (1.15.0)\r\n",
      "Requirement already satisfied: pytz>=2017.3 in /opt/conda/lib/python3.7/site-packages (from pandas->fastai==2.4.1) (2021.1)\r\n",
      "Requirement already satisfied: joblib>=0.11 in /opt/conda/lib/python3.7/site-packages (from scikit-learn->fastai==2.4.1) (1.0.1)\r\n",
      "Requirement already satisfied: threadpoolctl>=2.0.0 in /opt/conda/lib/python3.7/site-packages (from scikit-learn->fastai==2.4.1) (2.1.0)\r\n",
      "Installing collected packages: torch, torchvision, fastai\r\n",
      "  Attempting uninstall: torch\r\n",
      "    Found existing installation: torch 1.7.0\r\n",
      "    Uninstalling torch-1.7.0:\r\n",
      "      Successfully uninstalled torch-1.7.0\r\n",
      "  Attempting uninstall: torchvision\r\n",
      "    Found existing installation: torchvision 0.8.1\r\n",
      "    Uninstalling torchvision-0.8.1:\r\n",
      "      Successfully uninstalled torchvision-0.8.1\r\n",
      "  Attempting uninstall: fastai\r\n",
      "    Found existing installation: fastai 2.2.7\r\n",
      "    Uninstalling fastai-2.2.7:\r\n",
      "      Successfully uninstalled fastai-2.2.7\r\n",
      "\u001b[31mERROR: pip's dependency resolver does not currently take into account all the packages that are installed. This behaviour is the source of the following dependency conflicts.\r\n",
      "kornia 0.5.5 requires numpy<=1.19, but you have numpy 1.19.5 which is incompatible.\r\n",
      "allennlp 2.5.0 requires spacy<3.1,>=2.1.0, but you have spacy 3.1.1 which is incompatible.\r\n",
      "allennlp 2.5.0 requires torch<1.9.0,>=1.6.0, but you have torch 1.9.0 which is incompatible.\r\n",
      "allennlp 2.5.0 requires torchvision<0.10.0,>=0.8.1, but you have torchvision 0.10.0 which is incompatible.\u001b[0m\r\n",
      "Successfully installed fastai-2.4.1 torch-1.9.0 torchvision-0.10.0\r\n",
      "\u001b[33mWARNING: Running pip as root will break packages and permissions. You should install packages reliably by using venv: https://pip.pypa.io/warnings/venv\u001b[0m\r\n"
     ]
    }
   ],
   "source": [
    "!pip install --no-index --find-links=\"../input/commonlit-pkgs-offline-download\" fastai==2.4.1"
   ]
  },
  {
   "cell_type": "markdown",
   "id": "03616cb7",
   "metadata": {
    "_cell_guid": "b1076dfc-b9ad-4769-8c92-a6c4dae69d19",
    "_uuid": "8f2839f25d086af736a60e9eeb907d3b93b6e0e5",
    "papermill": {
     "duration": 0.031352,
     "end_time": "2021-08-01T07:52:59.062906",
     "exception": false,
     "start_time": "2021-08-01T07:52:59.031554",
     "status": "completed"
    },
    "tags": []
   },
   "source": [
    "## Prepraring for inference"
   ]
  },
  {
   "cell_type": "markdown",
   "id": "44e23cab",
   "metadata": {
    "papermill": {
     "duration": 0.031788,
     "end_time": "2021-08-01T07:52:59.126654",
     "exception": false,
     "start_time": "2021-08-01T07:52:59.094866",
     "status": "completed"
    },
    "tags": []
   },
   "source": [
    "### Preparing the data for inference"
   ]
  },
  {
   "cell_type": "code",
   "execution_count": 3,
   "id": "e505bd91",
   "metadata": {
    "execution": {
     "iopub.execute_input": "2021-08-01T07:52:59.196366Z",
     "iopub.status.busy": "2021-08-01T07:52:59.195709Z",
     "iopub.status.idle": "2021-08-01T07:53:08.210789Z",
     "shell.execute_reply": "2021-08-01T07:53:08.210110Z",
     "shell.execute_reply.started": "2021-08-01T07:49:25.608297Z"
    },
    "papermill": {
     "duration": 9.052706,
     "end_time": "2021-08-01T07:53:08.210939",
     "exception": false,
     "start_time": "2021-08-01T07:52:59.158233",
     "status": "completed"
    },
    "tags": []
   },
   "outputs": [],
   "source": [
    "import glob\n",
    "import numpy\n",
    "from functools import partial\n",
    "from fastcore.all import *\n",
    "from fastai.text.all import *"
   ]
  },
  {
   "cell_type": "code",
   "execution_count": 4,
   "id": "52d27792",
   "metadata": {
    "execution": {
     "iopub.execute_input": "2021-08-01T07:53:08.280448Z",
     "iopub.status.busy": "2021-08-01T07:53:08.279838Z",
     "iopub.status.idle": "2021-08-01T07:53:08.315843Z",
     "shell.execute_reply": "2021-08-01T07:53:08.316341Z",
     "shell.execute_reply.started": "2021-08-01T07:49:36.061403Z"
    },
    "papermill": {
     "duration": 0.073487,
     "end_time": "2021-08-01T07:53:08.316557",
     "exception": false,
     "start_time": "2021-08-01T07:53:08.243070",
     "status": "completed"
    },
    "tags": []
   },
   "outputs": [
    {
     "data": {
      "text/html": [
       "<div>\n",
       "<style scoped>\n",
       "    .dataframe tbody tr th:only-of-type {\n",
       "        vertical-align: middle;\n",
       "    }\n",
       "\n",
       "    .dataframe tbody tr th {\n",
       "        vertical-align: top;\n",
       "    }\n",
       "\n",
       "    .dataframe thead th {\n",
       "        text-align: right;\n",
       "    }\n",
       "</style>\n",
       "<table border=\"1\" class=\"dataframe\">\n",
       "  <thead>\n",
       "    <tr style=\"text-align: right;\">\n",
       "      <th></th>\n",
       "      <th>id</th>\n",
       "      <th>url_legal</th>\n",
       "      <th>license</th>\n",
       "      <th>excerpt</th>\n",
       "    </tr>\n",
       "  </thead>\n",
       "  <tbody>\n",
       "    <tr>\n",
       "      <th>0</th>\n",
       "      <td>c0f722661</td>\n",
       "      <td>NaN</td>\n",
       "      <td>NaN</td>\n",
       "      <td>My hope lay in Jack's promise that he would keep a bright light burning in the upper story to guide me on my course. On a clear night this light was visible from the village, but somehow or other I failed to take into account the state of the weather. The air was full of eddying flakes, which would render the headlight of a locomotive invisible a hundred yards distant. Strange that this important fact never occurred to me until I was fully a fourth of a mile from the village. Then, after looking in vain for the beacon light, the danger of my situation struck me, and I halted.\\n\"I am certai...</td>\n",
       "    </tr>\n",
       "    <tr>\n",
       "      <th>1</th>\n",
       "      <td>f0953f0a5</td>\n",
       "      <td>NaN</td>\n",
       "      <td>NaN</td>\n",
       "      <td>Dotty continued to go to Mrs. Gray's every night with the milk. Sometimes Katie went with her, and then they always paused a while under the acorn-tree and played \"King and Queen.\" Dotty said she wished they could ever remember to bring their nipperkins, for in that case the milk would taste a great deal more like nectar. The \"nipperkins\" were a pair of handled cups which the children supposed to be silver, and which they always used at table.\\nDotty knew she was doing wrong every time she played \"King and Queen.\" She knew the milk was not hers, but Mrs. Gray's; still she said to herself, ...</td>\n",
       "    </tr>\n",
       "    <tr>\n",
       "      <th>2</th>\n",
       "      <td>0df072751</td>\n",
       "      <td>NaN</td>\n",
       "      <td>NaN</td>\n",
       "      <td>It was a bright and cheerful scene that greeted the eyes of Captain Raymond and his son as they entered the parlor of the adjacent cottage.\\nIt was strictly a family gathering, yet the room was quite full. Mr. Dinsmore was there with his wife, his daughter Elsie and her children, Edward and Zoe, Elsie Leland with her husband and babe, Violet Raymond with her husband's two little girls, Lulu and Grace, and lastly Rosie and Walter.\\nEverybody had a kindly greeting for the captain, and Violet's bright face grew still brighter as she made room for him on the sofa by her side.\\n\"We were beginni...</td>\n",
       "    </tr>\n",
       "  </tbody>\n",
       "</table>\n",
       "</div>"
      ],
      "text/plain": [
       "          id url_legal license  \\\n",
       "0  c0f722661       NaN     NaN   \n",
       "1  f0953f0a5       NaN     NaN   \n",
       "2  0df072751       NaN     NaN   \n",
       "\n",
       "                                                                                                                                                                                                                                                                                                                                                                                                                                                                                                                                                                                                                   excerpt  \n",
       "0  My hope lay in Jack's promise that he would keep a bright light burning in the upper story to guide me on my course. On a clear night this light was visible from the village, but somehow or other I failed to take into account the state of the weather. The air was full of eddying flakes, which would render the headlight of a locomotive invisible a hundred yards distant. Strange that this important fact never occurred to me until I was fully a fourth of a mile from the village. Then, after looking in vain for the beacon light, the danger of my situation struck me, and I halted.\\n\"I am certai...  \n",
       "1  Dotty continued to go to Mrs. Gray's every night with the milk. Sometimes Katie went with her, and then they always paused a while under the acorn-tree and played \"King and Queen.\" Dotty said she wished they could ever remember to bring their nipperkins, for in that case the milk would taste a great deal more like nectar. The \"nipperkins\" were a pair of handled cups which the children supposed to be silver, and which they always used at table.\\nDotty knew she was doing wrong every time she played \"King and Queen.\" She knew the milk was not hers, but Mrs. Gray's; still she said to herself, ...  \n",
       "2  It was a bright and cheerful scene that greeted the eyes of Captain Raymond and his son as they entered the parlor of the adjacent cottage.\\nIt was strictly a family gathering, yet the room was quite full. Mr. Dinsmore was there with his wife, his daughter Elsie and her children, Edward and Zoe, Elsie Leland with her husband and babe, Violet Raymond with her husband's two little girls, Lulu and Grace, and lastly Rosie and Walter.\\nEverybody had a kindly greeting for the captain, and Violet's bright face grew still brighter as she made room for him on the sofa by her side.\\n\"We were beginni...  "
      ]
     },
     "execution_count": 4,
     "metadata": {},
     "output_type": "execute_result"
    }
   ],
   "source": [
    "df_test = pd.read_csv('../input/commonlitreadabilityprize/test.csv')\n",
    "df_test.head(3)"
   ]
  },
  {
   "cell_type": "code",
   "execution_count": 5,
   "id": "4aebdd36",
   "metadata": {
    "execution": {
     "iopub.execute_input": "2021-08-01T07:53:08.390742Z",
     "iopub.status.busy": "2021-08-01T07:53:08.390098Z",
     "iopub.status.idle": "2021-08-01T07:53:08.393077Z",
     "shell.execute_reply": "2021-08-01T07:53:08.393567Z",
     "shell.execute_reply.started": "2021-08-01T07:49:36.110441Z"
    },
    "jupyter": {
     "source_hidden": true
    },
    "papermill": {
     "duration": 0.042235,
     "end_time": "2021-08-01T07:53:08.393767",
     "exception": false,
     "start_time": "2021-08-01T07:53:08.351532",
     "status": "completed"
    },
    "tags": []
   },
   "outputs": [
    {
     "data": {
      "text/plain": [
       "(7, 4)"
      ]
     },
     "execution_count": 5,
     "metadata": {},
     "output_type": "execute_result"
    }
   ],
   "source": [
    "df_test.shape"
   ]
  },
  {
   "cell_type": "markdown",
   "id": "a568b755",
   "metadata": {
    "papermill": {
     "duration": 0.032737,
     "end_time": "2021-08-01T07:53:08.458572",
     "exception": false,
     "start_time": "2021-08-01T07:53:08.425835",
     "status": "completed"
    },
    "tags": []
   },
   "source": [
    "Getting the list of ids. This would later be used to create the submission file"
   ]
  },
  {
   "cell_type": "code",
   "execution_count": 6,
   "id": "13d7c3d5",
   "metadata": {
    "execution": {
     "iopub.execute_input": "2021-08-01T07:53:08.527821Z",
     "iopub.status.busy": "2021-08-01T07:53:08.527180Z",
     "iopub.status.idle": "2021-08-01T07:53:08.535230Z",
     "shell.execute_reply": "2021-08-01T07:53:08.535756Z",
     "shell.execute_reply.started": "2021-08-01T07:49:36.119116Z"
    },
    "papermill": {
     "duration": 0.044404,
     "end_time": "2021-08-01T07:53:08.535943",
     "exception": false,
     "start_time": "2021-08-01T07:53:08.491539",
     "status": "completed"
    },
    "tags": []
   },
   "outputs": [
    {
     "data": {
      "text/plain": [
       "['c0f722661', 'f0953f0a5']"
      ]
     },
     "execution_count": 6,
     "metadata": {},
     "output_type": "execute_result"
    }
   ],
   "source": [
    "ids = df_test.id.to_list()\n",
    "ids[:2]"
   ]
  },
  {
   "cell_type": "markdown",
   "id": "710a7be5",
   "metadata": {
    "papermill": {
     "duration": 0.032897,
     "end_time": "2021-08-01T07:53:08.603389",
     "exception": false,
     "start_time": "2021-08-01T07:53:08.570492",
     "status": "completed"
    },
    "tags": []
   },
   "source": [
    "Getting the excerpts to a list. This makes it easier to make predictions and later to create the submission file."
   ]
  },
  {
   "cell_type": "code",
   "execution_count": 7,
   "id": "7f99fd02",
   "metadata": {
    "execution": {
     "iopub.execute_input": "2021-08-01T07:53:08.677783Z",
     "iopub.status.busy": "2021-08-01T07:53:08.677017Z",
     "iopub.status.idle": "2021-08-01T07:53:08.680940Z",
     "shell.execute_reply": "2021-08-01T07:53:08.681362Z",
     "shell.execute_reply.started": "2021-08-01T07:49:36.132855Z"
    },
    "papermill": {
     "duration": 0.045105,
     "end_time": "2021-08-01T07:53:08.681560",
     "exception": false,
     "start_time": "2021-08-01T07:53:08.636455",
     "status": "completed"
    },
    "tags": []
   },
   "outputs": [],
   "source": [
    "excerpts = df_test.excerpt.to_list()"
   ]
  },
  {
   "cell_type": "markdown",
   "id": "7a8603ca",
   "metadata": {
    "papermill": {
     "duration": 0.033281,
     "end_time": "2021-08-01T07:53:08.748527",
     "exception": false,
     "start_time": "2021-08-01T07:53:08.715246",
     "status": "completed"
    },
    "tags": []
   },
   "source": [
    "## Loading the model"
   ]
  },
  {
   "cell_type": "code",
   "execution_count": 8,
   "id": "e3c62e52",
   "metadata": {
    "execution": {
     "iopub.execute_input": "2021-08-01T07:53:08.820547Z",
     "iopub.status.busy": "2021-08-01T07:53:08.819738Z",
     "iopub.status.idle": "2021-08-01T07:53:13.014369Z",
     "shell.execute_reply": "2021-08-01T07:53:13.013727Z",
     "shell.execute_reply.started": "2021-08-01T07:49:36.148991Z"
    },
    "papermill": {
     "duration": 4.232285,
     "end_time": "2021-08-01T07:53:13.014539",
     "exception": false,
     "start_time": "2021-08-01T07:53:08.782254",
     "status": "completed"
    },
    "tags": []
   },
   "outputs": [],
   "source": [
    "fwd_model = load_learner('../input/common-lit-fwd-training-on-pseudo-l/forward_final_model')"
   ]
  },
  {
   "cell_type": "code",
   "execution_count": 9,
   "id": "c3348bb6",
   "metadata": {
    "execution": {
     "iopub.execute_input": "2021-08-01T07:53:13.129728Z",
     "iopub.status.busy": "2021-08-01T07:53:13.089532Z",
     "iopub.status.idle": "2021-08-01T07:53:13.151025Z",
     "shell.execute_reply": "2021-08-01T07:53:13.150455Z",
     "shell.execute_reply.started": "2021-08-01T07:49:39.932641Z"
    },
    "papermill": {
     "duration": 0.103205,
     "end_time": "2021-08-01T07:53:13.151217",
     "exception": false,
     "start_time": "2021-08-01T07:53:13.048012",
     "status": "completed"
    },
    "tags": []
   },
   "outputs": [],
   "source": [
    "fwd_tst_dl = fwd_model.dls.test_dl(excerpts)"
   ]
  },
  {
   "cell_type": "code",
   "execution_count": 10,
   "id": "e1e0ef49",
   "metadata": {
    "execution": {
     "iopub.execute_input": "2021-08-01T07:53:13.222437Z",
     "iopub.status.busy": "2021-08-01T07:53:13.221829Z",
     "iopub.status.idle": "2021-08-01T07:53:13.300201Z",
     "shell.execute_reply": "2021-08-01T07:53:13.299656Z",
     "shell.execute_reply.started": "2021-08-01T07:49:39.984572Z"
    },
    "papermill": {
     "duration": 0.115815,
     "end_time": "2021-08-01T07:53:13.300343",
     "exception": false,
     "start_time": "2021-08-01T07:53:13.184528",
     "status": "completed"
    },
    "tags": []
   },
   "outputs": [
    {
     "data": {
      "text/html": [
       "<table border=\"1\" class=\"dataframe\">\n",
       "  <thead>\n",
       "    <tr style=\"text-align: right;\">\n",
       "      <th></th>\n",
       "      <th>text</th>\n",
       "    </tr>\n",
       "  </thead>\n",
       "  <tbody>\n",
       "    <tr>\n",
       "      <th>0</th>\n",
       "      <td>xxbos xxmaj it was a bright and cheerful scene that greeted the eyes of xxmaj captain xxmaj raymond and his son as they entered the parlor of the adjacent cottage . \\n xxmaj it was strictly a family gathering , yet the room was quite full . xxmaj mr . xxmaj dinsmore was there with his wife , his daughter xxmaj elsie and her children , xxmaj edward and xxmaj xxunk , xxmaj elsie xxmaj xxunk with her husband and babe , xxmaj violet xxmaj raymond with her husband 's two little girls , xxmaj lulu and xxmaj grace , and lastly xxmaj xxunk and xxmaj walter . \\n xxmaj everybody had a kindly greeting for the captain , and xxmaj violet 's bright face grew still brighter as she made room for him on the sofa by her side . \\n \" we were beginning to wonder what was</td>\n",
       "    </tr>\n",
       "    <tr>\n",
       "      <th>1</th>\n",
       "      <td>xxbos xxmaj dotty continued to go to xxmaj mrs . xxmaj gray 's every night with the milk . xxmaj sometimes xxmaj katie went with her , and then they always paused a while under the acorn - tree and played \" king and xxmaj queen . \" xxmaj dotty said she wished they could ever remember to bring their xxunk , for in that case the milk would taste a great deal more like nectar . xxmaj the \" xxunk \" were a pair of handled cups which the children supposed to be silver , and which they always used at table . \\n xxmaj dotty knew she was doing wrong every time she played \" king and xxmaj queen . \" xxmaj she knew the milk was not hers , but xxmaj mrs . xxmaj gray 's ; still she said to herself , \" xxunk need n't</td>\n",
       "    </tr>\n",
       "    <tr>\n",
       "      <th>2</th>\n",
       "      <td>xxbos xxmaj debugging is the process of finding and resolving of defects that prevent correct operation of computer software or a system . xxmaj debugging tends to be harder when various xxunk are tightly coupled , as changes in one may cause bugs to emerge in another . \\n xxmaj numerous books have been written about debugging , as it involves numerous aspects , including interactive debugging , control flow , integration testing , log files , xxunk ( application , system ) , memory dumps , xxunk , xxmaj statistical xxmaj process xxmaj control , and special design tactics to improve detection while xxunk changes . xxmaj the terms \" bug \" and \" debugging \" are popularly attributed to xxmaj admiral xxmaj grace xxmaj xxunk in the 1940s . xxmaj while she was working on a xxmaj mark xxup ii xxmaj computer at xxmaj harvard xxmaj university ,</td>\n",
       "    </tr>\n",
       "    <tr>\n",
       "      <th>3</th>\n",
       "      <td>xxbos xxmaj cell division is the process by which a parent cell divides into two or more daughter cells . xxmaj cell division usually occurs as part of a larger cell cycle . xxunk xxmaj in xxunk , there are two distinct types of cell division : a xxunk division , whereby each daughter cell is genetically identical to the parent cell ( mitosis ) , and a reproductive cell division , whereby the number of chromosomes in the daughter cells is reduced by half , to produce haploid xxunk ( meiosis ) . \\n xxmaj meiosis results in four haploid daughter cells by undergoing one round of xxup dna replication followed by two divisions : xxunk chromosomes are separated in the first division , and sister xxunk are separated in the second division . \\n xxmaj both of these cell division cycles are used in sexually reproducing organisms at</td>\n",
       "    </tr>\n",
       "    <tr>\n",
       "      <th>4</th>\n",
       "      <td>xxbos xxmaj to explain transitivity , let us look first at a totally different example that has a lot to do with transitivity but nothing to do with xxunk . a combination of choices is rational if an observer can xxunk someone else 's xxunk ( that is , learn what that person likes best , medium , and least ) just by observing his choices . xxmaj suppose i put your friends xxmaj adam and xxmaj ben side - by - side and i see that xxmaj adam is taller than xxmaj ben . xxmaj then i put xxmaj ben and xxmaj charlie side - by - side and i see that xxmaj ben is taller than xxmaj charlie . xxmaj can you tell me who is taller , xxmaj adam or xxmaj charlie ? xxmaj adam , of course . xxmaj how do we know ? xxmaj we</td>\n",
       "    </tr>\n",
       "    <tr>\n",
       "      <th>5</th>\n",
       "      <td>xxbos xxmaj milka and xxmaj john are playing in the garden . xxmaj her little sister is playing too . xxmaj milka is ready to start classes next week and it will be her first term in school . xxmaj in the morning , xxmaj milka gets up early to take a bath . xxmaj she puts on her school uniform and carries her school bag . xxmaj her xxmaj mother gives her two thousand shillings for school fees and five hundred shillings for transport . xxmaj then , she quickly goes to school . xxmaj meanwhile , her big brother stays at home . xxmaj he is still in his bed and sleeps . xxmaj once she grows up and graduates school , xxmaj milka dreams to build a beautiful house for her and her family . xxmaj while she is at school , she is very active and</td>\n",
       "    </tr>\n",
       "    <tr>\n",
       "      <th>6</th>\n",
       "      <td>xxbos xxmaj my hope lay in xxmaj jack 's promise that he would keep a bright light burning in the upper story to guide me on my course . xxmaj on a clear night this light was visible from the village , but somehow or other i failed to take into account the state of the weather . xxmaj the air was full of xxunk flakes , which would render the xxunk of a locomotive invisible a hundred yards distant . xxmaj strange that this important fact never occurred to me until i was fully a fourth of a mile from the village . xxmaj then , after looking in vain for the beacon light , the danger of my situation struck me , and i halted . \\n \" i am certain to go wrong , \" i said to myself . \\n \" it is out of my</td>\n",
       "    </tr>\n",
       "  </tbody>\n",
       "</table>"
      ],
      "text/plain": [
       "<IPython.core.display.HTML object>"
      ]
     },
     "metadata": {},
     "output_type": "display_data"
    }
   ],
   "source": [
    "fwd_tst_dl.show_batch()"
   ]
  },
  {
   "cell_type": "markdown",
   "id": "0bacad57",
   "metadata": {
    "papermill": {
     "duration": 0.034167,
     "end_time": "2021-08-01T07:53:13.368268",
     "exception": false,
     "start_time": "2021-08-01T07:53:13.334101",
     "status": "completed"
    },
    "tags": []
   },
   "source": [
    "# Predictions"
   ]
  },
  {
   "cell_type": "code",
   "execution_count": 11,
   "id": "e846ebea",
   "metadata": {
    "execution": {
     "iopub.execute_input": "2021-08-01T07:53:13.441497Z",
     "iopub.status.busy": "2021-08-01T07:53:13.440818Z",
     "iopub.status.idle": "2021-08-01T07:53:13.444110Z",
     "shell.execute_reply": "2021-08-01T07:53:13.443574Z",
     "shell.execute_reply.started": "2021-08-01T07:49:40.070904Z"
    },
    "papermill": {
     "duration": 0.042305,
     "end_time": "2021-08-01T07:53:13.444266",
     "exception": false,
     "start_time": "2021-08-01T07:53:13.401961",
     "status": "completed"
    },
    "tags": []
   },
   "outputs": [],
   "source": [
    "def ensamble(excerpts, fwd_model):\n",
    "    return np.array(fwd_model.get_preds(dl=fwd_tst_dl)[0])"
   ]
  },
  {
   "cell_type": "code",
   "execution_count": 12,
   "id": "e7653e95",
   "metadata": {
    "execution": {
     "iopub.execute_input": "2021-08-01T07:53:13.517386Z",
     "iopub.status.busy": "2021-08-01T07:53:13.516322Z",
     "iopub.status.idle": "2021-08-01T07:53:15.182188Z",
     "shell.execute_reply": "2021-08-01T07:53:15.181618Z",
     "shell.execute_reply.started": "2021-08-01T07:49:40.078133Z"
    },
    "papermill": {
     "duration": 1.704377,
     "end_time": "2021-08-01T07:53:15.182364",
     "exception": false,
     "start_time": "2021-08-01T07:53:13.477987",
     "status": "completed"
    },
    "tags": []
   },
   "outputs": [
    {
     "data": {
      "text/html": [],
      "text/plain": [
       "<IPython.core.display.HTML object>"
      ]
     },
     "metadata": {},
     "output_type": "display_data"
    },
    {
     "data": {
      "text/plain": [
       "array([[-1.2758913 ],\n",
       "       [-0.69650644],\n",
       "       [-0.708038  ],\n",
       "       [-1.3259556 ],\n",
       "       [-1.3288286 ],\n",
       "       [-0.7396652 ],\n",
       "       [-0.54827464]], dtype=float32)"
      ]
     },
     "execution_count": 12,
     "metadata": {},
     "output_type": "execute_result"
    }
   ],
   "source": [
    "ensamble(excerpts, fwd_model)"
   ]
  },
  {
   "cell_type": "code",
   "execution_count": 13,
   "id": "fbb7d237",
   "metadata": {
    "execution": {
     "iopub.execute_input": "2021-08-01T07:53:15.259434Z",
     "iopub.status.busy": "2021-08-01T07:53:15.258732Z",
     "iopub.status.idle": "2021-08-01T07:53:16.839413Z",
     "shell.execute_reply": "2021-08-01T07:53:16.838618Z",
     "shell.execute_reply.started": "2021-08-01T07:49:41.827486Z"
    },
    "papermill": {
     "duration": 1.621949,
     "end_time": "2021-08-01T07:53:16.839619",
     "exception": false,
     "start_time": "2021-08-01T07:53:15.217670",
     "status": "completed"
    },
    "tags": []
   },
   "outputs": [
    {
     "data": {
      "text/html": [],
      "text/plain": [
       "<IPython.core.display.HTML object>"
      ]
     },
     "metadata": {},
     "output_type": "display_data"
    }
   ],
   "source": [
    "predictions = [pred[0] for pred in ensamble(excerpts, fwd_model)]\n",
    "#predictions = [float(\"{0:.2f}\".format(pred.item())) for pred in ensamble(bkwd_model, fwd_model, excerpts)]\n",
    "#predictions = [float(\"{0:.2f}\".format(model.predict(excerpt)[0][0])) for excerpt in excerpts]"
   ]
  },
  {
   "cell_type": "markdown",
   "id": "ae108574",
   "metadata": {
    "papermill": {
     "duration": 0.034229,
     "end_time": "2021-08-01T07:53:16.909980",
     "exception": false,
     "start_time": "2021-08-01T07:53:16.875751",
     "status": "completed"
    },
    "tags": []
   },
   "source": [
    "# Creating the submission file"
   ]
  },
  {
   "cell_type": "markdown",
   "id": "ad3c4c0f",
   "metadata": {
    "papermill": {
     "duration": 0.034635,
     "end_time": "2021-08-01T07:53:16.978877",
     "exception": false,
     "start_time": "2021-08-01T07:53:16.944242",
     "status": "completed"
    },
    "tags": []
   },
   "source": [
    "Creating a new dataframe"
   ]
  },
  {
   "cell_type": "code",
   "execution_count": 14,
   "id": "69326f95",
   "metadata": {
    "execution": {
     "iopub.execute_input": "2021-08-01T07:53:17.056920Z",
     "iopub.status.busy": "2021-08-01T07:53:17.056272Z",
     "iopub.status.idle": "2021-08-01T07:53:17.059544Z",
     "shell.execute_reply": "2021-08-01T07:53:17.059020Z",
     "shell.execute_reply.started": "2021-08-01T07:49:43.667618Z"
    },
    "papermill": {
     "duration": 0.045708,
     "end_time": "2021-08-01T07:53:17.059688",
     "exception": false,
     "start_time": "2021-08-01T07:53:17.013980",
     "status": "completed"
    },
    "tags": []
   },
   "outputs": [],
   "source": [
    "submission_df = pd.DataFrame(list(zip(ids, predictions)), columns=['id', 'target'])"
   ]
  },
  {
   "cell_type": "markdown",
   "id": "1cadbbcd",
   "metadata": {
    "papermill": {
     "duration": 0.034609,
     "end_time": "2021-08-01T07:53:17.129216",
     "exception": false,
     "start_time": "2021-08-01T07:53:17.094607",
     "status": "completed"
    },
    "tags": []
   },
   "source": [
    "Saving the dataframe as csv for submission."
   ]
  },
  {
   "cell_type": "code",
   "execution_count": 15,
   "id": "009bd7cf",
   "metadata": {
    "execution": {
     "iopub.execute_input": "2021-08-01T07:53:17.202572Z",
     "iopub.status.busy": "2021-08-01T07:53:17.201894Z",
     "iopub.status.idle": "2021-08-01T07:53:17.212582Z",
     "shell.execute_reply": "2021-08-01T07:53:17.213052Z",
     "shell.execute_reply.started": "2021-08-01T07:49:43.677207Z"
    },
    "papermill": {
     "duration": 0.049281,
     "end_time": "2021-08-01T07:53:17.213234",
     "exception": false,
     "start_time": "2021-08-01T07:53:17.163953",
     "status": "completed"
    },
    "tags": []
   },
   "outputs": [
    {
     "data": {
      "text/html": [
       "<div>\n",
       "<style scoped>\n",
       "    .dataframe tbody tr th:only-of-type {\n",
       "        vertical-align: middle;\n",
       "    }\n",
       "\n",
       "    .dataframe tbody tr th {\n",
       "        vertical-align: top;\n",
       "    }\n",
       "\n",
       "    .dataframe thead th {\n",
       "        text-align: right;\n",
       "    }\n",
       "</style>\n",
       "<table border=\"1\" class=\"dataframe\">\n",
       "  <thead>\n",
       "    <tr style=\"text-align: right;\">\n",
       "      <th></th>\n",
       "      <th>id</th>\n",
       "      <th>target</th>\n",
       "    </tr>\n",
       "  </thead>\n",
       "  <tbody>\n",
       "    <tr>\n",
       "      <th>0</th>\n",
       "      <td>c0f722661</td>\n",
       "      <td>-1.275891</td>\n",
       "    </tr>\n",
       "    <tr>\n",
       "      <th>1</th>\n",
       "      <td>f0953f0a5</td>\n",
       "      <td>-0.696506</td>\n",
       "    </tr>\n",
       "  </tbody>\n",
       "</table>\n",
       "</div>"
      ],
      "text/plain": [
       "          id    target\n",
       "0  c0f722661 -1.275891\n",
       "1  f0953f0a5 -0.696506"
      ]
     },
     "execution_count": 15,
     "metadata": {},
     "output_type": "execute_result"
    }
   ],
   "source": [
    "submission_df.head(2)"
   ]
  },
  {
   "cell_type": "code",
   "execution_count": 16,
   "id": "74258d35",
   "metadata": {
    "execution": {
     "iopub.execute_input": "2021-08-01T07:53:17.288257Z",
     "iopub.status.busy": "2021-08-01T07:53:17.287631Z",
     "iopub.status.idle": "2021-08-01T07:53:17.296869Z",
     "shell.execute_reply": "2021-08-01T07:53:17.296162Z",
     "shell.execute_reply.started": "2021-08-01T07:49:43.700697Z"
    },
    "papermill": {
     "duration": 0.048223,
     "end_time": "2021-08-01T07:53:17.297018",
     "exception": false,
     "start_time": "2021-08-01T07:53:17.248795",
     "status": "completed"
    },
    "tags": []
   },
   "outputs": [],
   "source": [
    "submission_df.to_csv('submission.csv', index=False)"
   ]
  },
  {
   "cell_type": "code",
   "execution_count": null,
   "id": "32f36ed0",
   "metadata": {
    "papermill": {
     "duration": 0.034752,
     "end_time": "2021-08-01T07:53:17.367916",
     "exception": false,
     "start_time": "2021-08-01T07:53:17.333164",
     "status": "completed"
    },
    "tags": []
   },
   "outputs": [],
   "source": []
  }
 ],
 "metadata": {
  "kernelspec": {
   "display_name": "Python 3",
   "language": "python",
   "name": "python3"
  },
  "language_info": {
   "codemirror_mode": {
    "name": "ipython",
    "version": 3
   },
   "file_extension": ".py",
   "mimetype": "text/x-python",
   "name": "python",
   "nbconvert_exporter": "python",
   "pygments_lexer": "ipython3",
   "version": "3.7.10"
  },
  "papermill": {
   "default_parameters": {},
   "duration": 107.846831,
   "end_time": "2021-08-01T07:53:20.560728",
   "environment_variables": {},
   "exception": null,
   "input_path": "__notebook__.ipynb",
   "output_path": "__notebook__.ipynb",
   "parameters": {},
   "start_time": "2021-08-01T07:51:32.713897",
   "version": "2.3.3"
  }
 },
 "nbformat": 4,
 "nbformat_minor": 5
}
