{
 "cells": [
  {
   "cell_type": "markdown",
   "id": "champion-employee",
   "metadata": {
    "_cell_guid": "b1076dfc-b9ad-4769-8c92-a6c4dae69d19",
    "_uuid": "8f2839f25d086af736a60e9eeb907d3b93b6e0e5",
    "papermill": {
     "duration": 0.068418,
     "end_time": "2021-07-01T07:37:15.264791",
     "exception": false,
     "start_time": "2021-07-01T07:37:15.196373",
     "status": "completed"
    },
    "tags": []
   },
   "source": [
    "# What to do?\n",
    "* Predict if a text is easier to read or not.\n",
    "* The more negative a score the more un-readable it is.\n",
    "* At first instance this looks like a tabular data.\n",
    "* perhaps this is also regression as we have continuous values in targets"
   ]
  },
  {
   "cell_type": "markdown",
   "id": "stainless-guard",
   "metadata": {
    "papermill": {
     "duration": 0.06703,
     "end_time": "2021-07-01T07:37:15.397951",
     "exception": false,
     "start_time": "2021-07-01T07:37:15.330921",
     "status": "completed"
    },
    "tags": []
   },
   "source": [
    "look into the data"
   ]
  },
  {
   "cell_type": "code",
   "execution_count": 1,
   "id": "orange-alabama",
   "metadata": {
    "execution": {
     "iopub.execute_input": "2021-07-01T07:37:15.543948Z",
     "iopub.status.busy": "2021-07-01T07:37:15.542980Z",
     "iopub.status.idle": "2021-07-01T07:37:20.952512Z",
     "shell.execute_reply": "2021-07-01T07:37:20.951184Z",
     "shell.execute_reply.started": "2021-07-01T06:53:54.074308Z"
    },
    "papermill": {
     "duration": 5.484671,
     "end_time": "2021-07-01T07:37:20.952728",
     "exception": false,
     "start_time": "2021-07-01T07:37:15.468057",
     "status": "completed"
    },
    "tags": []
   },
   "outputs": [],
   "source": [
    "import random\n",
    "import math\n",
    "from typing import List, TypeVar\n",
    "from pandas.core.frame import DataFrame\n",
    "from fastai.basics import *\n",
    "from fastai.callback.all import *\n",
    "from fastai.text.all import *"
   ]
  },
  {
   "cell_type": "markdown",
   "id": "closed-index",
   "metadata": {
    "execution": {
     "iopub.execute_input": "2021-06-16T06:31:10.200204Z",
     "iopub.status.busy": "2021-06-16T06:31:10.199886Z",
     "iopub.status.idle": "2021-06-16T06:31:10.205739Z",
     "shell.execute_reply": "2021-06-16T06:31:10.204277Z",
     "shell.execute_reply.started": "2021-06-16T06:31:10.200171Z"
    },
    "papermill": {
     "duration": 0.066331,
     "end_time": "2021-07-01T07:37:21.087089",
     "exception": false,
     "start_time": "2021-07-01T07:37:21.020758",
     "status": "completed"
    },
    "tags": []
   },
   "source": [
    "custom typings"
   ]
  },
  {
   "cell_type": "code",
   "execution_count": 2,
   "id": "weighted-gravity",
   "metadata": {
    "execution": {
     "iopub.execute_input": "2021-07-01T07:37:21.226227Z",
     "iopub.status.busy": "2021-07-01T07:37:21.225066Z",
     "iopub.status.idle": "2021-07-01T07:37:21.228311Z",
     "shell.execute_reply": "2021-07-01T07:37:21.227512Z",
     "shell.execute_reply.started": "2021-07-01T06:54:04.145769Z"
    },
    "papermill": {
     "duration": 0.074815,
     "end_time": "2021-07-01T07:37:21.228434",
     "exception": false,
     "start_time": "2021-07-01T07:37:21.153619",
     "status": "completed"
    },
    "tags": []
   },
   "outputs": [],
   "source": [
    "path = Path('../input/commonlit-dataaug')"
   ]
  },
  {
   "cell_type": "code",
   "execution_count": 3,
   "id": "molecular-trustee",
   "metadata": {
    "execution": {
     "iopub.execute_input": "2021-07-01T07:37:21.372472Z",
     "iopub.status.busy": "2021-07-01T07:37:21.371670Z",
     "iopub.status.idle": "2021-07-01T07:37:21.621617Z",
     "shell.execute_reply": "2021-07-01T07:37:21.620537Z",
     "shell.execute_reply.started": "2021-07-01T06:54:05.523680Z"
    },
    "papermill": {
     "duration": 0.326615,
     "end_time": "2021-07-01T07:37:21.621786",
     "exception": false,
     "start_time": "2021-07-01T07:37:21.295171",
     "status": "completed"
    },
    "tags": []
   },
   "outputs": [
    {
     "data": {
      "text/html": [
       "<div>\n",
       "<style scoped>\n",
       "    .dataframe tbody tr th:only-of-type {\n",
       "        vertical-align: middle;\n",
       "    }\n",
       "\n",
       "    .dataframe tbody tr th {\n",
       "        vertical-align: top;\n",
       "    }\n",
       "\n",
       "    .dataframe thead th {\n",
       "        text-align: right;\n",
       "    }\n",
       "</style>\n",
       "<table border=\"1\" class=\"dataframe\">\n",
       "  <thead>\n",
       "    <tr style=\"text-align: right;\">\n",
       "      <th></th>\n",
       "      <th>Unnamed: 0</th>\n",
       "      <th>id</th>\n",
       "      <th>url_legal</th>\n",
       "      <th>license</th>\n",
       "      <th>excerpt</th>\n",
       "      <th>target</th>\n",
       "      <th>standard_error</th>\n",
       "    </tr>\n",
       "  </thead>\n",
       "  <tbody>\n",
       "    <tr>\n",
       "      <th>0</th>\n",
       "      <td>0</td>\n",
       "      <td>c12129c31</td>\n",
       "      <td>NaN</td>\n",
       "      <td>NaN</td>\n",
       "      <td>When the young people returned to the ballroom, it presented a decidedly changed appearance. Instead of an interior scene, it was a winter landscape.\\nThe floor was covered with snow-white canvas, not laid on smoothly, but rumpled over bumps and hillocks, like a real snow field. The numerous palms and evergreens that had decorated the room, were powdered with flour and strewn with tufts of cotton, like snow. Also diamond dust had been lightly sprinkled on them, and glittering crystal icicles hung from the branches.\\nAt each end of the room, on the wall, hung a beautiful bear-skin rug.\\nThe...</td>\n",
       "      <td>-0.340259</td>\n",
       "      <td>0.464009</td>\n",
       "    </tr>\n",
       "    <tr>\n",
       "      <th>1</th>\n",
       "      <td>1</td>\n",
       "      <td>85aa80a4c</td>\n",
       "      <td>NaN</td>\n",
       "      <td>NaN</td>\n",
       "      <td>All through dinner time, Mrs. Fayre was somewhat silent, her eyes resting on Dolly with a wistful, uncertain expression. She wanted to give the child the pleasure she craved, but she had hard work to bring herself to the point of overcoming her own objections.\\nAt last, however, when the meal was nearly over, she smiled at her little daughter, and said, \"All right, Dolly, you may go.\"\\n\"Oh, mother!\" Dolly cried, overwhelmed with sudden delight. \"Really?\\nOh, I am so glad! Are you sure you're willing?\"\\n\"I've persuaded myself to be willing, against my will,\" returned Mrs. Fayre, whimsically...</td>\n",
       "      <td>-0.315372</td>\n",
       "      <td>0.480805</td>\n",
       "    </tr>\n",
       "    <tr>\n",
       "      <th>2</th>\n",
       "      <td>2</td>\n",
       "      <td>b69ac6792</td>\n",
       "      <td>NaN</td>\n",
       "      <td>NaN</td>\n",
       "      <td>As Roger had predicted, the snow departed as quickly as it came, and two days after their sleigh ride there was scarcely a vestige of white on the ground. Tennis was again possible and a great game was in progress on the court at Pine Laurel. Patty and Roger were playing against Elise and Sam Blaney, and the pairs were well matched.\\nBut the long-contested victory finally went against Patty, and she laughingly accepted defeat.\\n\"Only because Patty's not quite back on her game yet,\" Roger defended; \"this child has been on the sick list, you know, Sam, and she isn't up to her own mark.\"\\n\"We...</td>\n",
       "      <td>-0.580118</td>\n",
       "      <td>0.476676</td>\n",
       "    </tr>\n",
       "    <tr>\n",
       "      <th>3</th>\n",
       "      <td>3</td>\n",
       "      <td>dd1000b26</td>\n",
       "      <td>NaN</td>\n",
       "      <td>NaN</td>\n",
       "      <td>And outside before the palace a great garden was walled round, filled full of stately fruit-trees, gray olives and sweet figs, and pomegranates, pears, and apples, which bore the whole year round. For the rich south-west wind fed them, till pear grew ripe on pear, fig on fig, and grape on grape, all the winter and the spring. And at the farther end gay flower-beds bloomed through all seasons of the year; and two fair fountains rose, and ran, one through the garden grounds, and one beneath the palace gate, to water all the town. Such noble gifts the heavens had given to Alcinous the wise.\\n...</td>\n",
       "      <td>-1.054013</td>\n",
       "      <td>0.450007</td>\n",
       "    </tr>\n",
       "  </tbody>\n",
       "</table>\n",
       "</div>"
      ],
      "text/plain": [
       "   Unnamed: 0         id url_legal license  \\\n",
       "0           0  c12129c31       NaN     NaN   \n",
       "1           1  85aa80a4c       NaN     NaN   \n",
       "2           2  b69ac6792       NaN     NaN   \n",
       "3           3  dd1000b26       NaN     NaN   \n",
       "\n",
       "                                                                                                                                                                                                                                                                                                                                                                                                                                                                                                                                                                                                                   excerpt  \\\n",
       "0  When the young people returned to the ballroom, it presented a decidedly changed appearance. Instead of an interior scene, it was a winter landscape.\\nThe floor was covered with snow-white canvas, not laid on smoothly, but rumpled over bumps and hillocks, like a real snow field. The numerous palms and evergreens that had decorated the room, were powdered with flour and strewn with tufts of cotton, like snow. Also diamond dust had been lightly sprinkled on them, and glittering crystal icicles hung from the branches.\\nAt each end of the room, on the wall, hung a beautiful bear-skin rug.\\nThe...   \n",
       "1  All through dinner time, Mrs. Fayre was somewhat silent, her eyes resting on Dolly with a wistful, uncertain expression. She wanted to give the child the pleasure she craved, but she had hard work to bring herself to the point of overcoming her own objections.\\nAt last, however, when the meal was nearly over, she smiled at her little daughter, and said, \"All right, Dolly, you may go.\"\\n\"Oh, mother!\" Dolly cried, overwhelmed with sudden delight. \"Really?\\nOh, I am so glad! Are you sure you're willing?\"\\n\"I've persuaded myself to be willing, against my will,\" returned Mrs. Fayre, whimsically...   \n",
       "2  As Roger had predicted, the snow departed as quickly as it came, and two days after their sleigh ride there was scarcely a vestige of white on the ground. Tennis was again possible and a great game was in progress on the court at Pine Laurel. Patty and Roger were playing against Elise and Sam Blaney, and the pairs were well matched.\\nBut the long-contested victory finally went against Patty, and she laughingly accepted defeat.\\n\"Only because Patty's not quite back on her game yet,\" Roger defended; \"this child has been on the sick list, you know, Sam, and she isn't up to her own mark.\"\\n\"We...   \n",
       "3  And outside before the palace a great garden was walled round, filled full of stately fruit-trees, gray olives and sweet figs, and pomegranates, pears, and apples, which bore the whole year round. For the rich south-west wind fed them, till pear grew ripe on pear, fig on fig, and grape on grape, all the winter and the spring. And at the farther end gay flower-beds bloomed through all seasons of the year; and two fair fountains rose, and ran, one through the garden grounds, and one beneath the palace gate, to water all the town. Such noble gifts the heavens had given to Alcinous the wise.\\n...   \n",
       "\n",
       "     target  standard_error  \n",
       "0 -0.340259        0.464009  \n",
       "1 -0.315372        0.480805  \n",
       "2 -0.580118        0.476676  \n",
       "3 -1.054013        0.450007  "
      ]
     },
     "execution_count": 3,
     "metadata": {},
     "output_type": "execute_result"
    }
   ],
   "source": [
    "df_train = pd.read_csv('../input/commonlit-dataaug/aug_df.csv')\n",
    "df_train.head(4)"
   ]
  },
  {
   "cell_type": "code",
   "execution_count": 4,
   "id": "absent-iraqi",
   "metadata": {
    "execution": {
     "iopub.execute_input": "2021-07-01T07:37:21.773610Z",
     "iopub.status.busy": "2021-07-01T07:37:21.772373Z",
     "iopub.status.idle": "2021-07-01T07:37:21.778065Z",
     "shell.execute_reply": "2021-07-01T07:37:21.778610Z",
     "shell.execute_reply.started": "2021-07-01T06:54:06.990894Z"
    },
    "papermill": {
     "duration": 0.087935,
     "end_time": "2021-07-01T07:37:21.778762",
     "exception": false,
     "start_time": "2021-07-01T07:37:21.690827",
     "status": "completed"
    },
    "tags": []
   },
   "outputs": [
    {
     "data": {
      "text/html": [
       "<div>\n",
       "<style scoped>\n",
       "    .dataframe tbody tr th:only-of-type {\n",
       "        vertical-align: middle;\n",
       "    }\n",
       "\n",
       "    .dataframe tbody tr th {\n",
       "        vertical-align: top;\n",
       "    }\n",
       "\n",
       "    .dataframe thead th {\n",
       "        text-align: right;\n",
       "    }\n",
       "</style>\n",
       "<table border=\"1\" class=\"dataframe\">\n",
       "  <thead>\n",
       "    <tr style=\"text-align: right;\">\n",
       "      <th></th>\n",
       "      <th>Unnamed: 0</th>\n",
       "      <th>id</th>\n",
       "      <th>url_legal</th>\n",
       "      <th>license</th>\n",
       "      <th>excerpt</th>\n",
       "      <th>target</th>\n",
       "      <th>standard_error</th>\n",
       "    </tr>\n",
       "  </thead>\n",
       "  <tbody>\n",
       "    <tr>\n",
       "      <th>7405</th>\n",
       "      <td>7405</td>\n",
       "      <td>f301ff005</td>\n",
       "      <td>http://static.ehe.osu.edu/sites/beyond/penguins/downloads/feature-stories/tundra-k1-text.pdf</td>\n",
       "      <td>CC BY-SA 3.0</td>\n",
       "      <td>Near the top of the world is land called tundra. The tundra is flat and has no trees. It is covered by snow and ice most of the year. \\nIn the spring, the snow and ice melt. Beneath the ground, the soil stays frozen. The ground gets very soggy. It is a marsh.\\nSmall yellow flowers grow from the cold, soaked ground. They are called marsh marigolds.\\nFlies hide in the flowers. They soak up the Sun’s energy and get warm.\\nThe flies fly from flower to flower. They help the flowers make seeds.\\nCaribou eat the flowers. The caribou also give the plants the nutrients they need to grow.\\nMother fl...</td>\n",
       "      <td>0.608108</td>\n",
       "      <td>0.505921</td>\n",
       "    </tr>\n",
       "    <tr>\n",
       "      <th>7406</th>\n",
       "      <td>7406</td>\n",
       "      <td>25ca8f498</td>\n",
       "      <td>https://sites.ehe.osu.edu/beyondpenguins/files/2011/06/dinosaurs_45_text.pdf</td>\n",
       "      <td>CC BY-SA 3.0</td>\n",
       "      <td>When you think of dinosaurs and where they lived, what do you picture? Do you see hot, horny swamps, thick jungles, or sunny plains? Dinosaurs lived in those places, yes. But did you know that some dinosaurs lived in the cold and the darkness near the North and South Poles?\\nThis surprised scientists, too. Paleontologists used to believe that dinosaurs lived only in the warmest parts of the world. They thought that dinosaurs could only have lived in places where turtles, crocodiles, and snakes live today. Later, these dinosaur scientists began finding bones in surprising places.\\nOne of th...</td>\n",
       "      <td>1.711390</td>\n",
       "      <td>0.646900</td>\n",
       "    </tr>\n",
       "    <tr>\n",
       "      <th>7407</th>\n",
       "      <td>7407</td>\n",
       "      <td>2c26db523</td>\n",
       "      <td>https://en.wikibooks.org/wiki/Wikijunior:The_Elements/Solids</td>\n",
       "      <td>CC BY-SA 3.0</td>\n",
       "      <td>So what is a solid? Solids are usually hard because their molecules have been packed together. The closer your molecules are, the harder you are. Solids also can hold their own shape. A rock will always look like a rock unless something happens to it. The same goes for a diamond. Even when you grind up a solid into a powder, you will see tiny short pieces of that solid under a microscope. Liquids will move and fill up any container. Solids keep their shape.\\nIn the same way that a solid holds its shape, the atoms inside of a solid are not allowed to move around too much. This is one of the...</td>\n",
       "      <td>0.189476</td>\n",
       "      <td>0.535648</td>\n",
       "    </tr>\n",
       "    <tr>\n",
       "      <th>7408</th>\n",
       "      <td>7408</td>\n",
       "      <td>5b990ba77</td>\n",
       "      <td>https://en.wikibooks.org/wiki/Wikijunior:Biology/Kingdoms/Animals</td>\n",
       "      <td>CC BY-SA 3.0</td>\n",
       "      <td>Animals are made of many cells. They eat things and digest them inside. Most animals can move. Only animals have brains (though not even all animals do; jellyfish, for example, do not have brains).\\nAnimals are found all over the earth. They dig in the ground, swim in the oceans, and fly in the sky.\\nHumans are a type of animal. So are dogs, cats, cows, horses, frogs, fish, and so on and on.\\nAnimals can be divided into two main groups, vertebrates and invertebrates. Vertebrates can be further divided into mammals, fish, birds, reptiles, and amphibians. Invertebrates can be divided into ar...</td>\n",
       "      <td>0.300779</td>\n",
       "      <td>0.512379</td>\n",
       "    </tr>\n",
       "  </tbody>\n",
       "</table>\n",
       "</div>"
      ],
      "text/plain": [
       "      Unnamed: 0         id  \\\n",
       "7405        7405  f301ff005   \n",
       "7406        7406  25ca8f498   \n",
       "7407        7407  2c26db523   \n",
       "7408        7408  5b990ba77   \n",
       "\n",
       "                                                                                         url_legal  \\\n",
       "7405  http://static.ehe.osu.edu/sites/beyond/penguins/downloads/feature-stories/tundra-k1-text.pdf   \n",
       "7406                  https://sites.ehe.osu.edu/beyondpenguins/files/2011/06/dinosaurs_45_text.pdf   \n",
       "7407                                  https://en.wikibooks.org/wiki/Wikijunior:The_Elements/Solids   \n",
       "7408                             https://en.wikibooks.org/wiki/Wikijunior:Biology/Kingdoms/Animals   \n",
       "\n",
       "           license  \\\n",
       "7405  CC BY-SA 3.0   \n",
       "7406  CC BY-SA 3.0   \n",
       "7407  CC BY-SA 3.0   \n",
       "7408  CC BY-SA 3.0   \n",
       "\n",
       "                                                                                                                                                                                                                                                                                                                                                                                                                                                                                                                                                                                                                      excerpt  \\\n",
       "7405  Near the top of the world is land called tundra. The tundra is flat and has no trees. It is covered by snow and ice most of the year. \\nIn the spring, the snow and ice melt. Beneath the ground, the soil stays frozen. The ground gets very soggy. It is a marsh.\\nSmall yellow flowers grow from the cold, soaked ground. They are called marsh marigolds.\\nFlies hide in the flowers. They soak up the Sun’s energy and get warm.\\nThe flies fly from flower to flower. They help the flowers make seeds.\\nCaribou eat the flowers. The caribou also give the plants the nutrients they need to grow.\\nMother fl...   \n",
       "7406  When you think of dinosaurs and where they lived, what do you picture? Do you see hot, horny swamps, thick jungles, or sunny plains? Dinosaurs lived in those places, yes. But did you know that some dinosaurs lived in the cold and the darkness near the North and South Poles?\\nThis surprised scientists, too. Paleontologists used to believe that dinosaurs lived only in the warmest parts of the world. They thought that dinosaurs could only have lived in places where turtles, crocodiles, and snakes live today. Later, these dinosaur scientists began finding bones in surprising places.\\nOne of th...   \n",
       "7407  So what is a solid? Solids are usually hard because their molecules have been packed together. The closer your molecules are, the harder you are. Solids also can hold their own shape. A rock will always look like a rock unless something happens to it. The same goes for a diamond. Even when you grind up a solid into a powder, you will see tiny short pieces of that solid under a microscope. Liquids will move and fill up any container. Solids keep their shape.\\nIn the same way that a solid holds its shape, the atoms inside of a solid are not allowed to move around too much. This is one of the...   \n",
       "7408  Animals are made of many cells. They eat things and digest them inside. Most animals can move. Only animals have brains (though not even all animals do; jellyfish, for example, do not have brains).\\nAnimals are found all over the earth. They dig in the ground, swim in the oceans, and fly in the sky.\\nHumans are a type of animal. So are dogs, cats, cows, horses, frogs, fish, and so on and on.\\nAnimals can be divided into two main groups, vertebrates and invertebrates. Vertebrates can be further divided into mammals, fish, birds, reptiles, and amphibians. Invertebrates can be divided into ar...   \n",
       "\n",
       "        target  standard_error  \n",
       "7405  0.608108        0.505921  \n",
       "7406  1.711390        0.646900  \n",
       "7407  0.189476        0.535648  \n",
       "7408  0.300779        0.512379  "
      ]
     },
     "execution_count": 4,
     "metadata": {},
     "output_type": "execute_result"
    }
   ],
   "source": [
    "df_train.tail(4)"
   ]
  },
  {
   "cell_type": "code",
   "execution_count": 5,
   "id": "dedicated-sleeve",
   "metadata": {
    "execution": {
     "iopub.execute_input": "2021-07-01T07:37:21.921929Z",
     "iopub.status.busy": "2021-07-01T07:37:21.920934Z",
     "iopub.status.idle": "2021-07-01T07:37:21.925606Z",
     "shell.execute_reply": "2021-07-01T07:37:21.924981Z",
     "shell.execute_reply.started": "2021-06-30T09:53:31.532918Z"
    },
    "papermill": {
     "duration": 0.077941,
     "end_time": "2021-07-01T07:37:21.925796",
     "exception": false,
     "start_time": "2021-07-01T07:37:21.847855",
     "status": "completed"
    },
    "tags": []
   },
   "outputs": [
    {
     "data": {
      "text/plain": [
       "(7409, 7)"
      ]
     },
     "execution_count": 5,
     "metadata": {},
     "output_type": "execute_result"
    }
   ],
   "source": [
    "df_train.shape"
   ]
  },
  {
   "cell_type": "markdown",
   "id": "subsequent-adolescent",
   "metadata": {
    "papermill": {
     "duration": 0.074198,
     "end_time": "2021-07-01T07:37:22.070325",
     "exception": false,
     "start_time": "2021-07-01T07:37:21.996127",
     "status": "completed"
    },
    "tags": []
   },
   "source": [
    "dropping all columns except excerpts"
   ]
  },
  {
   "cell_type": "code",
   "execution_count": 6,
   "id": "remarkable-stress",
   "metadata": {
    "execution": {
     "iopub.execute_input": "2021-07-01T07:37:22.217509Z",
     "iopub.status.busy": "2021-07-01T07:37:22.216620Z",
     "iopub.status.idle": "2021-07-01T07:37:22.221297Z",
     "shell.execute_reply": "2021-07-01T07:37:22.220706Z",
     "shell.execute_reply.started": "2021-07-01T06:54:09.318331Z"
    },
    "papermill": {
     "duration": 0.079762,
     "end_time": "2021-07-01T07:37:22.221449",
     "exception": false,
     "start_time": "2021-07-01T07:37:22.141687",
     "status": "completed"
    },
    "tags": []
   },
   "outputs": [],
   "source": [
    "def drop_cols(df: DataFrame, cols: List) -> DataFrame:\n",
    "    return df.drop(cols, axis=1)"
   ]
  },
  {
   "cell_type": "code",
   "execution_count": 7,
   "id": "signed-psychology",
   "metadata": {
    "execution": {
     "iopub.execute_input": "2021-07-01T07:37:22.376912Z",
     "iopub.status.busy": "2021-07-01T07:37:22.369445Z",
     "iopub.status.idle": "2021-07-01T07:37:22.382102Z",
     "shell.execute_reply": "2021-07-01T07:37:22.382654Z",
     "shell.execute_reply.started": "2021-07-01T06:54:10.081421Z"
    },
    "papermill": {
     "duration": 0.088594,
     "end_time": "2021-07-01T07:37:22.382837",
     "exception": false,
     "start_time": "2021-07-01T07:37:22.294243",
     "status": "completed"
    },
    "tags": []
   },
   "outputs": [
    {
     "data": {
      "text/html": [
       "<div>\n",
       "<style scoped>\n",
       "    .dataframe tbody tr th:only-of-type {\n",
       "        vertical-align: middle;\n",
       "    }\n",
       "\n",
       "    .dataframe tbody tr th {\n",
       "        vertical-align: top;\n",
       "    }\n",
       "\n",
       "    .dataframe thead th {\n",
       "        text-align: right;\n",
       "    }\n",
       "</style>\n",
       "<table border=\"1\" class=\"dataframe\">\n",
       "  <thead>\n",
       "    <tr style=\"text-align: right;\">\n",
       "      <th></th>\n",
       "      <th>Unnamed: 0</th>\n",
       "      <th>excerpt</th>\n",
       "    </tr>\n",
       "  </thead>\n",
       "  <tbody>\n",
       "    <tr>\n",
       "      <th>0</th>\n",
       "      <td>0</td>\n",
       "      <td>When the young people returned to the ballroom, it presented a decidedly changed appearance. Instead of an interior scene, it was a winter landscape.\\nThe floor was covered with snow-white canvas, not laid on smoothly, but rumpled over bumps and hillocks, like a real snow field. The numerous palms and evergreens that had decorated the room, were powdered with flour and strewn with tufts of cotton, like snow. Also diamond dust had been lightly sprinkled on them, and glittering crystal icicles hung from the branches.\\nAt each end of the room, on the wall, hung a beautiful bear-skin rug.\\nThe...</td>\n",
       "    </tr>\n",
       "    <tr>\n",
       "      <th>1</th>\n",
       "      <td>1</td>\n",
       "      <td>All through dinner time, Mrs. Fayre was somewhat silent, her eyes resting on Dolly with a wistful, uncertain expression. She wanted to give the child the pleasure she craved, but she had hard work to bring herself to the point of overcoming her own objections.\\nAt last, however, when the meal was nearly over, she smiled at her little daughter, and said, \"All right, Dolly, you may go.\"\\n\"Oh, mother!\" Dolly cried, overwhelmed with sudden delight. \"Really?\\nOh, I am so glad! Are you sure you're willing?\"\\n\"I've persuaded myself to be willing, against my will,\" returned Mrs. Fayre, whimsically...</td>\n",
       "    </tr>\n",
       "  </tbody>\n",
       "</table>\n",
       "</div>"
      ],
      "text/plain": [
       "   Unnamed: 0  \\\n",
       "0           0   \n",
       "1           1   \n",
       "\n",
       "                                                                                                                                                                                                                                                                                                                                                                                                                                                                                                                                                                                                                   excerpt  \n",
       "0  When the young people returned to the ballroom, it presented a decidedly changed appearance. Instead of an interior scene, it was a winter landscape.\\nThe floor was covered with snow-white canvas, not laid on smoothly, but rumpled over bumps and hillocks, like a real snow field. The numerous palms and evergreens that had decorated the room, were powdered with flour and strewn with tufts of cotton, like snow. Also diamond dust had been lightly sprinkled on them, and glittering crystal icicles hung from the branches.\\nAt each end of the room, on the wall, hung a beautiful bear-skin rug.\\nThe...  \n",
       "1  All through dinner time, Mrs. Fayre was somewhat silent, her eyes resting on Dolly with a wistful, uncertain expression. She wanted to give the child the pleasure she craved, but she had hard work to bring herself to the point of overcoming her own objections.\\nAt last, however, when the meal was nearly over, she smiled at her little daughter, and said, \"All right, Dolly, you may go.\"\\n\"Oh, mother!\" Dolly cried, overwhelmed with sudden delight. \"Really?\\nOh, I am so glad! Are you sure you're willing?\"\\n\"I've persuaded myself to be willing, against my will,\" returned Mrs. Fayre, whimsically...  "
      ]
     },
     "execution_count": 7,
     "metadata": {},
     "output_type": "execute_result"
    }
   ],
   "source": [
    "df_train_excerpts = df_train.copy()\n",
    "df_train_excerpts = drop_cols(df_train_excerpts, ['id', 'url_legal', 'license', 'target', 'standard_error'])\n",
    "df_train_excerpts.head(2)"
   ]
  },
  {
   "cell_type": "code",
   "execution_count": 8,
   "id": "worst-gardening",
   "metadata": {
    "execution": {
     "iopub.execute_input": "2021-07-01T07:37:22.530966Z",
     "iopub.status.busy": "2021-07-01T07:37:22.530252Z",
     "iopub.status.idle": "2021-07-01T07:37:22.546491Z",
     "shell.execute_reply": "2021-07-01T07:37:22.545912Z",
     "shell.execute_reply.started": "2021-07-01T06:54:10.893065Z"
    },
    "papermill": {
     "duration": 0.09235,
     "end_time": "2021-07-01T07:37:22.546625",
     "exception": false,
     "start_time": "2021-07-01T07:37:22.454275",
     "status": "completed"
    },
    "tags": []
   },
   "outputs": [
    {
     "data": {
      "text/html": [
       "<div>\n",
       "<style scoped>\n",
       "    .dataframe tbody tr th:only-of-type {\n",
       "        vertical-align: middle;\n",
       "    }\n",
       "\n",
       "    .dataframe tbody tr th {\n",
       "        vertical-align: top;\n",
       "    }\n",
       "\n",
       "    .dataframe thead th {\n",
       "        text-align: right;\n",
       "    }\n",
       "</style>\n",
       "<table border=\"1\" class=\"dataframe\">\n",
       "  <thead>\n",
       "    <tr style=\"text-align: right;\">\n",
       "      <th></th>\n",
       "      <th>id</th>\n",
       "      <th>url_legal</th>\n",
       "      <th>license</th>\n",
       "      <th>excerpt</th>\n",
       "    </tr>\n",
       "  </thead>\n",
       "  <tbody>\n",
       "    <tr>\n",
       "      <th>0</th>\n",
       "      <td>c0f722661</td>\n",
       "      <td>NaN</td>\n",
       "      <td>NaN</td>\n",
       "      <td>My hope lay in Jack's promise that he would keep a bright light burning in the upper story to guide me on my course. On a clear night this light was visible from the village, but somehow or other I failed to take into account the state of the weather. The air was full of eddying flakes, which would render the headlight of a locomotive invisible a hundred yards distant. Strange that this important fact never occurred to me until I was fully a fourth of a mile from the village. Then, after looking in vain for the beacon light, the danger of my situation struck me, and I halted.\\n\"I am certai...</td>\n",
       "    </tr>\n",
       "    <tr>\n",
       "      <th>1</th>\n",
       "      <td>f0953f0a5</td>\n",
       "      <td>NaN</td>\n",
       "      <td>NaN</td>\n",
       "      <td>Dotty continued to go to Mrs. Gray's every night with the milk. Sometimes Katie went with her, and then they always paused a while under the acorn-tree and played \"King and Queen.\" Dotty said she wished they could ever remember to bring their nipperkins, for in that case the milk would taste a great deal more like nectar. The \"nipperkins\" were a pair of handled cups which the children supposed to be silver, and which they always used at table.\\nDotty knew she was doing wrong every time she played \"King and Queen.\" She knew the milk was not hers, but Mrs. Gray's; still she said to herself, ...</td>\n",
       "    </tr>\n",
       "    <tr>\n",
       "      <th>2</th>\n",
       "      <td>0df072751</td>\n",
       "      <td>NaN</td>\n",
       "      <td>NaN</td>\n",
       "      <td>It was a bright and cheerful scene that greeted the eyes of Captain Raymond and his son as they entered the parlor of the adjacent cottage.\\nIt was strictly a family gathering, yet the room was quite full. Mr. Dinsmore was there with his wife, his daughter Elsie and her children, Edward and Zoe, Elsie Leland with her husband and babe, Violet Raymond with her husband's two little girls, Lulu and Grace, and lastly Rosie and Walter.\\nEverybody had a kindly greeting for the captain, and Violet's bright face grew still brighter as she made room for him on the sofa by her side.\\n\"We were beginni...</td>\n",
       "    </tr>\n",
       "    <tr>\n",
       "      <th>3</th>\n",
       "      <td>04caf4e0c</td>\n",
       "      <td>https://en.wikipedia.org/wiki/Cell_division</td>\n",
       "      <td>CC BY-SA 3.0</td>\n",
       "      <td>Cell division is the process by which a parent cell divides into two or more daughter cells. Cell division usually occurs as part of a larger cell cycle.\\n In eukaryotes, there are two distinct types of cell division: a vegetative division, whereby each daughter cell is genetically identical to the parent cell (mitosis), and a reproductive cell division, whereby the number of chromosomes in the daughter cells is reduced by half, to produce haploid gametes (meiosis). \\nMeiosis results in four haploid daughter cells by undergoing one round of DNA replication followed by two divisions: homolo...</td>\n",
       "    </tr>\n",
       "  </tbody>\n",
       "</table>\n",
       "</div>"
      ],
      "text/plain": [
       "          id                                    url_legal       license  \\\n",
       "0  c0f722661                                          NaN           NaN   \n",
       "1  f0953f0a5                                          NaN           NaN   \n",
       "2  0df072751                                          NaN           NaN   \n",
       "3  04caf4e0c  https://en.wikipedia.org/wiki/Cell_division  CC BY-SA 3.0   \n",
       "\n",
       "                                                                                                                                                                                                                                                                                                                                                                                                                                                                                                                                                                                                                   excerpt  \n",
       "0  My hope lay in Jack's promise that he would keep a bright light burning in the upper story to guide me on my course. On a clear night this light was visible from the village, but somehow or other I failed to take into account the state of the weather. The air was full of eddying flakes, which would render the headlight of a locomotive invisible a hundred yards distant. Strange that this important fact never occurred to me until I was fully a fourth of a mile from the village. Then, after looking in vain for the beacon light, the danger of my situation struck me, and I halted.\\n\"I am certai...  \n",
       "1  Dotty continued to go to Mrs. Gray's every night with the milk. Sometimes Katie went with her, and then they always paused a while under the acorn-tree and played \"King and Queen.\" Dotty said she wished they could ever remember to bring their nipperkins, for in that case the milk would taste a great deal more like nectar. The \"nipperkins\" were a pair of handled cups which the children supposed to be silver, and which they always used at table.\\nDotty knew she was doing wrong every time she played \"King and Queen.\" She knew the milk was not hers, but Mrs. Gray's; still she said to herself, ...  \n",
       "2  It was a bright and cheerful scene that greeted the eyes of Captain Raymond and his son as they entered the parlor of the adjacent cottage.\\nIt was strictly a family gathering, yet the room was quite full. Mr. Dinsmore was there with his wife, his daughter Elsie and her children, Edward and Zoe, Elsie Leland with her husband and babe, Violet Raymond with her husband's two little girls, Lulu and Grace, and lastly Rosie and Walter.\\nEverybody had a kindly greeting for the captain, and Violet's bright face grew still brighter as she made room for him on the sofa by her side.\\n\"We were beginni...  \n",
       "3  Cell division is the process by which a parent cell divides into two or more daughter cells. Cell division usually occurs as part of a larger cell cycle.\\n In eukaryotes, there are two distinct types of cell division: a vegetative division, whereby each daughter cell is genetically identical to the parent cell (mitosis), and a reproductive cell division, whereby the number of chromosomes in the daughter cells is reduced by half, to produce haploid gametes (meiosis). \\nMeiosis results in four haploid daughter cells by undergoing one round of DNA replication followed by two divisions: homolo...  "
      ]
     },
     "execution_count": 8,
     "metadata": {},
     "output_type": "execute_result"
    }
   ],
   "source": [
    "df_test = pd.read_csv('../input/commonlitreadabilityprize/test.csv')\n",
    "df_test.head(4)"
   ]
  },
  {
   "cell_type": "markdown",
   "id": "initial-california",
   "metadata": {
    "papermill": {
     "duration": 0.071638,
     "end_time": "2021-07-01T07:37:22.690309",
     "exception": false,
     "start_time": "2021-07-01T07:37:22.618671",
     "status": "completed"
    },
    "tags": []
   },
   "source": [
    "dropping all columns except excerpts"
   ]
  },
  {
   "cell_type": "code",
   "execution_count": 9,
   "id": "dried-snapshot",
   "metadata": {
    "execution": {
     "iopub.execute_input": "2021-07-01T07:37:22.843256Z",
     "iopub.status.busy": "2021-07-01T07:37:22.841992Z",
     "iopub.status.idle": "2021-07-01T07:37:22.847293Z",
     "shell.execute_reply": "2021-07-01T07:37:22.846633Z",
     "shell.execute_reply.started": "2021-07-01T06:54:13.014090Z"
    },
    "papermill": {
     "duration": 0.085821,
     "end_time": "2021-07-01T07:37:22.847438",
     "exception": false,
     "start_time": "2021-07-01T07:37:22.761617",
     "status": "completed"
    },
    "tags": []
   },
   "outputs": [
    {
     "data": {
      "text/html": [
       "<div>\n",
       "<style scoped>\n",
       "    .dataframe tbody tr th:only-of-type {\n",
       "        vertical-align: middle;\n",
       "    }\n",
       "\n",
       "    .dataframe tbody tr th {\n",
       "        vertical-align: top;\n",
       "    }\n",
       "\n",
       "    .dataframe thead th {\n",
       "        text-align: right;\n",
       "    }\n",
       "</style>\n",
       "<table border=\"1\" class=\"dataframe\">\n",
       "  <thead>\n",
       "    <tr style=\"text-align: right;\">\n",
       "      <th></th>\n",
       "      <th>excerpt</th>\n",
       "    </tr>\n",
       "  </thead>\n",
       "  <tbody>\n",
       "    <tr>\n",
       "      <th>0</th>\n",
       "      <td>My hope lay in Jack's promise that he would keep a bright light burning in the upper story to guide me on my course. On a clear night this light was visible from the village, but somehow or other I failed to take into account the state of the weather. The air was full of eddying flakes, which would render the headlight of a locomotive invisible a hundred yards distant. Strange that this important fact never occurred to me until I was fully a fourth of a mile from the village. Then, after looking in vain for the beacon light, the danger of my situation struck me, and I halted.\\n\"I am certai...</td>\n",
       "    </tr>\n",
       "    <tr>\n",
       "      <th>1</th>\n",
       "      <td>Dotty continued to go to Mrs. Gray's every night with the milk. Sometimes Katie went with her, and then they always paused a while under the acorn-tree and played \"King and Queen.\" Dotty said she wished they could ever remember to bring their nipperkins, for in that case the milk would taste a great deal more like nectar. The \"nipperkins\" were a pair of handled cups which the children supposed to be silver, and which they always used at table.\\nDotty knew she was doing wrong every time she played \"King and Queen.\" She knew the milk was not hers, but Mrs. Gray's; still she said to herself, ...</td>\n",
       "    </tr>\n",
       "  </tbody>\n",
       "</table>\n",
       "</div>"
      ],
      "text/plain": [
       "                                                                                                                                                                                                                                                                                                                                                                                                                                                                                                                                                                                                                   excerpt\n",
       "0  My hope lay in Jack's promise that he would keep a bright light burning in the upper story to guide me on my course. On a clear night this light was visible from the village, but somehow or other I failed to take into account the state of the weather. The air was full of eddying flakes, which would render the headlight of a locomotive invisible a hundred yards distant. Strange that this important fact never occurred to me until I was fully a fourth of a mile from the village. Then, after looking in vain for the beacon light, the danger of my situation struck me, and I halted.\\n\"I am certai...\n",
       "1  Dotty continued to go to Mrs. Gray's every night with the milk. Sometimes Katie went with her, and then they always paused a while under the acorn-tree and played \"King and Queen.\" Dotty said she wished they could ever remember to bring their nipperkins, for in that case the milk would taste a great deal more like nectar. The \"nipperkins\" were a pair of handled cups which the children supposed to be silver, and which they always used at table.\\nDotty knew she was doing wrong every time she played \"King and Queen.\" She knew the milk was not hers, but Mrs. Gray's; still she said to herself, ..."
      ]
     },
     "execution_count": 9,
     "metadata": {},
     "output_type": "execute_result"
    }
   ],
   "source": [
    "df_test_excerpts = df_test.copy()\n",
    "df_test_excerpts = drop_cols(df_test_excerpts, ['id', 'url_legal', 'license'])\n",
    "df_test_excerpts.head(2)"
   ]
  },
  {
   "cell_type": "markdown",
   "id": "sought-subscription",
   "metadata": {
    "papermill": {
     "duration": 0.07167,
     "end_time": "2021-07-01T07:37:22.989217",
     "exception": false,
     "start_time": "2021-07-01T07:37:22.917547",
     "status": "completed"
    },
    "tags": []
   },
   "source": [
    "concatenating both dataframes"
   ]
  },
  {
   "cell_type": "code",
   "execution_count": 10,
   "id": "usual-interference",
   "metadata": {
    "execution": {
     "iopub.execute_input": "2021-07-01T07:37:23.136908Z",
     "iopub.status.busy": "2021-07-01T07:37:23.135897Z",
     "iopub.status.idle": "2021-07-01T07:37:23.139801Z",
     "shell.execute_reply": "2021-07-01T07:37:23.139109Z",
     "shell.execute_reply.started": "2021-07-01T06:54:15.361979Z"
    },
    "papermill": {
     "duration": 0.079532,
     "end_time": "2021-07-01T07:37:23.139939",
     "exception": false,
     "start_time": "2021-07-01T07:37:23.060407",
     "status": "completed"
    },
    "tags": []
   },
   "outputs": [],
   "source": [
    "def concat_dfs(dfs: List) -> DataFrame:\n",
    "    return pd.concat(dfs)"
   ]
  },
  {
   "cell_type": "code",
   "execution_count": 11,
   "id": "blank-anthropology",
   "metadata": {
    "execution": {
     "iopub.execute_input": "2021-07-01T07:37:23.297638Z",
     "iopub.status.busy": "2021-07-01T07:37:23.296541Z",
     "iopub.status.idle": "2021-07-01T07:37:23.301787Z",
     "shell.execute_reply": "2021-07-01T07:37:23.301238Z",
     "shell.execute_reply.started": "2021-07-01T06:54:16.649467Z"
    },
    "papermill": {
     "duration": 0.090005,
     "end_time": "2021-07-01T07:37:23.301974",
     "exception": false,
     "start_time": "2021-07-01T07:37:23.211969",
     "status": "completed"
    },
    "tags": []
   },
   "outputs": [
    {
     "data": {
      "text/html": [
       "<div>\n",
       "<style scoped>\n",
       "    .dataframe tbody tr th:only-of-type {\n",
       "        vertical-align: middle;\n",
       "    }\n",
       "\n",
       "    .dataframe tbody tr th {\n",
       "        vertical-align: top;\n",
       "    }\n",
       "\n",
       "    .dataframe thead th {\n",
       "        text-align: right;\n",
       "    }\n",
       "</style>\n",
       "<table border=\"1\" class=\"dataframe\">\n",
       "  <thead>\n",
       "    <tr style=\"text-align: right;\">\n",
       "      <th></th>\n",
       "      <th>Unnamed: 0</th>\n",
       "      <th>excerpt</th>\n",
       "    </tr>\n",
       "  </thead>\n",
       "  <tbody>\n",
       "    <tr>\n",
       "      <th>0</th>\n",
       "      <td>0.0</td>\n",
       "      <td>When the young people returned to the ballroom, it presented a decidedly changed appearance. Instead of an interior scene, it was a winter landscape.\\nThe floor was covered with snow-white canvas, not laid on smoothly, but rumpled over bumps and hillocks, like a real snow field. The numerous palms and evergreens that had decorated the room, were powdered with flour and strewn with tufts of cotton, like snow. Also diamond dust had been lightly sprinkled on them, and glittering crystal icicles hung from the branches.\\nAt each end of the room, on the wall, hung a beautiful bear-skin rug.\\nThe...</td>\n",
       "    </tr>\n",
       "    <tr>\n",
       "      <th>1</th>\n",
       "      <td>1.0</td>\n",
       "      <td>All through dinner time, Mrs. Fayre was somewhat silent, her eyes resting on Dolly with a wistful, uncertain expression. She wanted to give the child the pleasure she craved, but she had hard work to bring herself to the point of overcoming her own objections.\\nAt last, however, when the meal was nearly over, she smiled at her little daughter, and said, \"All right, Dolly, you may go.\"\\n\"Oh, mother!\" Dolly cried, overwhelmed with sudden delight. \"Really?\\nOh, I am so glad! Are you sure you're willing?\"\\n\"I've persuaded myself to be willing, against my will,\" returned Mrs. Fayre, whimsically...</td>\n",
       "    </tr>\n",
       "    <tr>\n",
       "      <th>2</th>\n",
       "      <td>2.0</td>\n",
       "      <td>As Roger had predicted, the snow departed as quickly as it came, and two days after their sleigh ride there was scarcely a vestige of white on the ground. Tennis was again possible and a great game was in progress on the court at Pine Laurel. Patty and Roger were playing against Elise and Sam Blaney, and the pairs were well matched.\\nBut the long-contested victory finally went against Patty, and she laughingly accepted defeat.\\n\"Only because Patty's not quite back on her game yet,\" Roger defended; \"this child has been on the sick list, you know, Sam, and she isn't up to her own mark.\"\\n\"We...</td>\n",
       "    </tr>\n",
       "  </tbody>\n",
       "</table>\n",
       "</div>"
      ],
      "text/plain": [
       "   Unnamed: 0  \\\n",
       "0         0.0   \n",
       "1         1.0   \n",
       "2         2.0   \n",
       "\n",
       "                                                                                                                                                                                                                                                                                                                                                                                                                                                                                                                                                                                                                   excerpt  \n",
       "0  When the young people returned to the ballroom, it presented a decidedly changed appearance. Instead of an interior scene, it was a winter landscape.\\nThe floor was covered with snow-white canvas, not laid on smoothly, but rumpled over bumps and hillocks, like a real snow field. The numerous palms and evergreens that had decorated the room, were powdered with flour and strewn with tufts of cotton, like snow. Also diamond dust had been lightly sprinkled on them, and glittering crystal icicles hung from the branches.\\nAt each end of the room, on the wall, hung a beautiful bear-skin rug.\\nThe...  \n",
       "1  All through dinner time, Mrs. Fayre was somewhat silent, her eyes resting on Dolly with a wistful, uncertain expression. She wanted to give the child the pleasure she craved, but she had hard work to bring herself to the point of overcoming her own objections.\\nAt last, however, when the meal was nearly over, she smiled at her little daughter, and said, \"All right, Dolly, you may go.\"\\n\"Oh, mother!\" Dolly cried, overwhelmed with sudden delight. \"Really?\\nOh, I am so glad! Are you sure you're willing?\"\\n\"I've persuaded myself to be willing, against my will,\" returned Mrs. Fayre, whimsically...  \n",
       "2  As Roger had predicted, the snow departed as quickly as it came, and two days after their sleigh ride there was scarcely a vestige of white on the ground. Tennis was again possible and a great game was in progress on the court at Pine Laurel. Patty and Roger were playing against Elise and Sam Blaney, and the pairs were well matched.\\nBut the long-contested victory finally went against Patty, and she laughingly accepted defeat.\\n\"Only because Patty's not quite back on her game yet,\" Roger defended; \"this child has been on the sick list, you know, Sam, and she isn't up to her own mark.\"\\n\"We...  "
      ]
     },
     "execution_count": 11,
     "metadata": {},
     "output_type": "execute_result"
    }
   ],
   "source": [
    "df =  concat_dfs([df_train_excerpts, df_test_excerpts])\n",
    "df.head(3)"
   ]
  },
  {
   "cell_type": "code",
   "execution_count": 12,
   "id": "strong-maryland",
   "metadata": {
    "execution": {
     "iopub.execute_input": "2021-07-01T07:37:23.455721Z",
     "iopub.status.busy": "2021-07-01T07:37:23.454519Z",
     "iopub.status.idle": "2021-07-01T07:37:23.459673Z",
     "shell.execute_reply": "2021-07-01T07:37:23.459041Z",
     "shell.execute_reply.started": "2021-07-01T06:54:17.713119Z"
    },
    "papermill": {
     "duration": 0.085369,
     "end_time": "2021-07-01T07:37:23.459826",
     "exception": false,
     "start_time": "2021-07-01T07:37:23.374457",
     "status": "completed"
    },
    "tags": []
   },
   "outputs": [
    {
     "data": {
      "text/plain": [
       "Index(['Unnamed: 0', 'excerpt'], dtype='object')"
      ]
     },
     "execution_count": 12,
     "metadata": {},
     "output_type": "execute_result"
    }
   ],
   "source": [
    "df.columns"
   ]
  },
  {
   "cell_type": "code",
   "execution_count": 13,
   "id": "impressed-utilization",
   "metadata": {
    "execution": {
     "iopub.execute_input": "2021-07-01T07:37:23.612651Z",
     "iopub.status.busy": "2021-07-01T07:37:23.611725Z",
     "iopub.status.idle": "2021-07-01T07:37:23.615634Z",
     "shell.execute_reply": "2021-07-01T07:37:23.615119Z",
     "shell.execute_reply.started": "2021-07-01T06:54:18.517569Z"
    },
    "papermill": {
     "duration": 0.083107,
     "end_time": "2021-07-01T07:37:23.615797",
     "exception": false,
     "start_time": "2021-07-01T07:37:23.532690",
     "status": "completed"
    },
    "tags": []
   },
   "outputs": [],
   "source": [
    "df = df.drop('Unnamed: 0', axis=1)"
   ]
  },
  {
   "cell_type": "code",
   "execution_count": 14,
   "id": "helpful-madison",
   "metadata": {
    "execution": {
     "iopub.execute_input": "2021-07-01T07:37:23.767285Z",
     "iopub.status.busy": "2021-07-01T07:37:23.766128Z",
     "iopub.status.idle": "2021-07-01T07:37:23.770929Z",
     "shell.execute_reply": "2021-07-01T07:37:23.770359Z",
     "shell.execute_reply.started": "2021-07-01T06:54:20.053470Z"
    },
    "papermill": {
     "duration": 0.082816,
     "end_time": "2021-07-01T07:37:23.771060",
     "exception": false,
     "start_time": "2021-07-01T07:37:23.688244",
     "status": "completed"
    },
    "tags": []
   },
   "outputs": [
    {
     "data": {
      "text/plain": [
       "(7416, 1)"
      ]
     },
     "execution_count": 14,
     "metadata": {},
     "output_type": "execute_result"
    }
   ],
   "source": [
    "df.shape"
   ]
  },
  {
   "cell_type": "code",
   "execution_count": 15,
   "id": "mathematical-pierre",
   "metadata": {
    "execution": {
     "iopub.execute_input": "2021-07-01T07:37:23.918954Z",
     "iopub.status.busy": "2021-07-01T07:37:23.918235Z",
     "iopub.status.idle": "2021-07-01T07:37:24.009558Z",
     "shell.execute_reply": "2021-07-01T07:37:24.010290Z",
     "shell.execute_reply.started": "2021-07-01T06:54:20.869040Z"
    },
    "papermill": {
     "duration": 0.168029,
     "end_time": "2021-07-01T07:37:24.010442",
     "exception": false,
     "start_time": "2021-07-01T07:37:23.842413",
     "status": "completed"
    },
    "tags": []
   },
   "outputs": [],
   "source": [
    "TextLearner??"
   ]
  },
  {
   "cell_type": "code",
   "execution_count": 16,
   "id": "related-basketball",
   "metadata": {
    "execution": {
     "iopub.execute_input": "2021-07-01T07:37:24.162726Z",
     "iopub.status.busy": "2021-07-01T07:37:24.161879Z",
     "iopub.status.idle": "2021-07-01T07:37:24.166084Z",
     "shell.execute_reply": "2021-07-01T07:37:24.165495Z",
     "shell.execute_reply.started": "2021-07-01T06:54:21.625225Z"
    },
    "papermill": {
     "duration": 0.084044,
     "end_time": "2021-07-01T07:37:24.166222",
     "exception": false,
     "start_time": "2021-07-01T07:37:24.082178",
     "status": "completed"
    },
    "tags": []
   },
   "outputs": [],
   "source": [
    "TextDataLoaders.from_df?"
   ]
  },
  {
   "cell_type": "code",
   "execution_count": 17,
   "id": "chicken-board",
   "metadata": {
    "execution": {
     "iopub.execute_input": "2021-07-01T07:37:24.315628Z",
     "iopub.status.busy": "2021-07-01T07:37:24.314830Z",
     "iopub.status.idle": "2021-07-01T07:37:57.946911Z",
     "shell.execute_reply": "2021-07-01T07:37:57.945747Z",
     "shell.execute_reply.started": "2021-07-01T06:54:36.472432Z"
    },
    "papermill": {
     "duration": 33.708982,
     "end_time": "2021-07-01T07:37:57.947129",
     "exception": false,
     "start_time": "2021-07-01T07:37:24.238147",
     "status": "completed"
    },
    "tags": []
   },
   "outputs": [
    {
     "data": {
      "text/html": [],
      "text/plain": [
       "<IPython.core.display.HTML object>"
      ]
     },
     "metadata": {},
     "output_type": "display_data"
    },
    {
     "name": "stderr",
     "output_type": "stream",
     "text": [
      "/opt/conda/lib/python3.7/site-packages/numpy/core/_asarray.py:83: VisibleDeprecationWarning: Creating an ndarray from ragged nested sequences (which is a list-or-tuple of lists-or-tuples-or ndarrays with different lengths or shapes) is deprecated. If you meant to do this, you must specify 'dtype=object' when creating the ndarray\n",
      "  return array(a, dtype, copy=False, order=order)\n"
     ]
    }
   ],
   "source": [
    "dls_lm = TextDataLoaders.from_df(df, path, is_lm=True, valid_pct=0.1, bs=8, seq_len=80)"
   ]
  },
  {
   "cell_type": "code",
   "execution_count": 18,
   "id": "independent-belize",
   "metadata": {
    "execution": {
     "iopub.execute_input": "2021-07-01T07:37:58.130080Z",
     "iopub.status.busy": "2021-07-01T07:37:58.109444Z",
     "iopub.status.idle": "2021-07-01T07:37:58.207632Z",
     "shell.execute_reply": "2021-07-01T07:37:58.208137Z",
     "shell.execute_reply.started": "2021-07-01T06:55:19.029326Z"
    },
    "papermill": {
     "duration": 0.187936,
     "end_time": "2021-07-01T07:37:58.208293",
     "exception": false,
     "start_time": "2021-07-01T07:37:58.020357",
     "status": "completed"
    },
    "tags": []
   },
   "outputs": [
    {
     "data": {
      "text/html": [
       "<table border=\"1\" class=\"dataframe\">\n",
       "  <thead>\n",
       "    <tr style=\"text-align: right;\">\n",
       "      <th></th>\n",
       "      <th>text</th>\n",
       "      <th>text_</th>\n",
       "    </tr>\n",
       "  </thead>\n",
       "  <tbody>\n",
       "    <tr>\n",
       "      <th>0</th>\n",
       "      <td>xxbos xxmaj so xxmaj elsie went to bed very happy in the thought of the pleasure xxmaj arthur would have in receiving her present . \\n xxmaj she was hurrying down to the breakfast - room the next morning , a little in advance of xxmaj miss xxmaj rose , who had stopped to speak to xxmaj adelaide , when xxmaj arthur came running up behind her , having just come in by a side door from the garden ,</td>\n",
       "      <td>xxmaj so xxmaj elsie went to bed very happy in the thought of the pleasure xxmaj arthur would have in receiving her present . \\n xxmaj she was hurrying down to the breakfast - room the next morning , a little in advance of xxmaj miss xxmaj rose , who had stopped to speak to xxmaj adelaide , when xxmaj arthur came running up behind her , having just come in by a side door from the garden , and</td>\n",
       "    </tr>\n",
       "    <tr>\n",
       "      <th>1</th>\n",
       "      <td>depend upon too belittled a machine ; since the regular supply of the fuel thus improved may be trusted in a short time to increase the demand . xxbos xxmaj bon is on a summer break ! xxmaj he asks xxmaj ma to play . xxmaj but she is busy . xxmaj she tells xxmaj bon to ask his xxmaj pa . xxmaj bon finds his xxmaj pa . \" pa ! xxmaj want to play ball ? \" xxmaj</td>\n",
       "      <td>upon too belittled a machine ; since the regular supply of the fuel thus improved may be trusted in a short time to increase the demand . xxbos xxmaj bon is on a summer break ! xxmaj he asks xxmaj ma to play . xxmaj but she is busy . xxmaj she tells xxmaj bon to ask his xxmaj pa . xxmaj bon finds his xxmaj pa . \" pa ! xxmaj want to play ball ? \" xxmaj pa</td>\n",
       "    </tr>\n",
       "    <tr>\n",
       "      <th>2</th>\n",
       "      <td>to , the best treatment is to avoid contact with those allergens . xxmaj however , it is easier to avoid contact with some allergens , like peanuts or milk , than it is to avoid airborne allergens , like dust or pollen . xxmaj can you imagine not being exposed to any pollen during spring ? xxmaj since it is very surd to avoid some allergens completely , particularly the airborne ones , medicines have been developed to reduce</td>\n",
       "      <td>, the best treatment is to avoid contact with those allergens . xxmaj however , it is easier to avoid contact with some allergens , like peanuts or milk , than it is to avoid airborne allergens , like dust or pollen . xxmaj can you imagine not being exposed to any pollen during spring ? xxmaj since it is very surd to avoid some allergens completely , particularly the airborne ones , medicines have been developed to reduce inflammation</td>\n",
       "    </tr>\n",
       "    <tr>\n",
       "      <th>3</th>\n",
       "      <td>viscum , meaning sticky . xxbos xxmaj astronomy is a natural science . xxmaj it is the study of everything outside the atmosphere of xxmaj earth . \\n xxmaj it studies celestial objects ( such as stars , galaxies , planets , moons , asteroids , comets and nebulae ) and processes ( such as supernovae explosions , gamma ray bursts , and cosmic microwave background radiation ) . xxmaj this includes the physics , chemistry of those objects and</td>\n",
       "      <td>, meaning sticky . xxbos xxmaj astronomy is a natural science . xxmaj it is the study of everything outside the atmosphere of xxmaj earth . \\n xxmaj it studies celestial objects ( such as stars , galaxies , planets , moons , asteroids , comets and nebulae ) and processes ( such as supernovae explosions , gamma ray bursts , and cosmic microwave background radiation ) . xxmaj this includes the physics , chemistry of those objects and processes</td>\n",
       "    </tr>\n",
       "    <tr>\n",
       "      <th>4</th>\n",
       "      <td>also ? xxmaj we beg the xxmaj government to allow our warriors to show their loyalty . xxmaj in former days the xxmaj somali tribes made fitna against each other . xxbos xxmaj the brilliant short scarlet berries of this plant render it , when well grown , one of the prettiest of ornaments for the hothouse , conservatory , or even for a warm room . xxmaj it is quite easily managed , stray seeds of it even growing</td>\n",
       "      <td>? xxmaj we beg the xxmaj government to allow our warriors to show their loyalty . xxmaj in former days the xxmaj somali tribes made fitna against each other . xxbos xxmaj the brilliant short scarlet berries of this plant render it , when well grown , one of the prettiest of ornaments for the hothouse , conservatory , or even for a warm room . xxmaj it is quite easily managed , stray seeds of it even growing where</td>\n",
       "    </tr>\n",
       "    <tr>\n",
       "      <th>5</th>\n",
       "      <td>- 8 his friends first perceived that a change had come over him . xxmaj they did not realize that his life was drawing to a close ; it was difficult to do so when so much of the former elasticity remained ; when he still proclaimed himself ' quite well ' so long as he was not definitely suffering . xxmaj but he was often suffering ; one terrible cold followed another . xxmaj there was general evidence that</td>\n",
       "      <td>8 his friends first perceived that a change had come over him . xxmaj they did not realize that his life was drawing to a close ; it was difficult to do so when so much of the former elasticity remained ; when he still proclaimed himself ' quite well ' so long as he was not definitely suffering . xxmaj but he was often suffering ; one terrible cold followed another . xxmaj there was general evidence that he</td>\n",
       "    </tr>\n",
       "    <tr>\n",
       "      <th>6</th>\n",
       "      <td>hair . xxmaj or xxunk they were — not that pale straw colour that nowadays xxunk the gracious name of gold , but such gold as is woven into sunbeams or hidden in strange amber ; and gave to her face something of the frame of a saint , with not a little of the fascination of a xxunk . xxmaj she was a curious psychological study . xxmaj early in life she had discovered the important truth that nothing</td>\n",
       "      <td>. xxmaj or xxunk they were — not that pale straw colour that nowadays xxunk the gracious name of gold , but such gold as is woven into sunbeams or hidden in strange amber ; and gave to her face something of the frame of a saint , with not a little of the fascination of a xxunk . xxmaj she was a curious psychological study . xxmaj early in life she had discovered the important truth that nothing looks</td>\n",
       "    </tr>\n",
       "    <tr>\n",
       "      <th>7</th>\n",
       "      <td>their roles and responsibilities . xxmaj with the help of a web browser interface , users can access data held in any database the organization wants to make available , anytime and — subject to security provisions — from anywhere within the company workstations , increasing the employees ability to perform their jobs faster , more accurately , and with confidence that they have the right information . xxmaj it also helps to improve the services provided to the users</td>\n",
       "      <td>roles and responsibilities . xxmaj with the help of a web browser interface , users can access data held in any database the organization wants to make available , anytime and — subject to security provisions — from anywhere within the company workstations , increasing the employees ability to perform their jobs faster , more accurately , and with confidence that they have the right information . xxmaj it also helps to improve the services provided to the users .</td>\n",
       "    </tr>\n",
       "  </tbody>\n",
       "</table>"
      ],
      "text/plain": [
       "<IPython.core.display.HTML object>"
      ]
     },
     "metadata": {},
     "output_type": "display_data"
    }
   ],
   "source": [
    "dls_lm.show_batch(min_n=3)"
   ]
  },
  {
   "cell_type": "markdown",
   "id": "fancy-violence",
   "metadata": {
    "papermill": {
     "duration": 0.07277,
     "end_time": "2021-07-01T07:37:58.352129",
     "exception": false,
     "start_time": "2021-07-01T07:37:58.279359",
     "status": "completed"
    },
    "tags": []
   },
   "source": [
    "getting the factory learner"
   ]
  },
  {
   "cell_type": "code",
   "execution_count": 19,
   "id": "congressional-health",
   "metadata": {
    "execution": {
     "iopub.execute_input": "2021-07-01T07:37:58.508247Z",
     "iopub.status.busy": "2021-07-01T07:37:58.507405Z",
     "iopub.status.idle": "2021-07-01T07:37:58.511689Z",
     "shell.execute_reply": "2021-07-01T07:37:58.511135Z",
     "shell.execute_reply.started": "2021-06-30T09:53:58.293961Z"
    },
    "papermill": {
     "duration": 0.08678,
     "end_time": "2021-07-01T07:37:58.511835",
     "exception": false,
     "start_time": "2021-07-01T07:37:58.425055",
     "status": "completed"
    },
    "tags": []
   },
   "outputs": [],
   "source": [
    "language_model_learner?"
   ]
  },
  {
   "cell_type": "code",
   "execution_count": 20,
   "id": "governing-watson",
   "metadata": {
    "execution": {
     "iopub.execute_input": "2021-07-01T07:37:58.663297Z",
     "iopub.status.busy": "2021-07-01T07:37:58.662483Z",
     "iopub.status.idle": "2021-07-01T07:38:06.534244Z",
     "shell.execute_reply": "2021-07-01T07:38:06.534799Z",
     "shell.execute_reply.started": "2021-07-01T06:55:58.060344Z"
    },
    "papermill": {
     "duration": 7.950012,
     "end_time": "2021-07-01T07:38:06.535056",
     "exception": false,
     "start_time": "2021-07-01T07:37:58.585044",
     "status": "completed"
    },
    "tags": []
   },
   "outputs": [
    {
     "data": {
      "text/html": [],
      "text/plain": [
       "<IPython.core.display.HTML object>"
      ]
     },
     "metadata": {},
     "output_type": "display_data"
    }
   ],
   "source": [
    "learn = language_model_learner(dls_lm,\n",
    "                               AWD_LSTM,\n",
    "                               drop_mult=0.2, \n",
    "                               metrics=[accuracy, Perplexity()], \n",
    "                               path=path)"
   ]
  },
  {
   "cell_type": "markdown",
   "id": "supposed-organizer",
   "metadata": {
    "papermill": {
     "duration": 0.07436,
     "end_time": "2021-07-01T07:38:06.684881",
     "exception": false,
     "start_time": "2021-07-01T07:38:06.610521",
     "status": "completed"
    },
    "tags": []
   },
   "source": [
    "training"
   ]
  },
  {
   "cell_type": "code",
   "execution_count": 21,
   "id": "amino-research",
   "metadata": {
    "execution": {
     "iopub.execute_input": "2021-07-01T07:38:06.847971Z",
     "iopub.status.busy": "2021-07-01T07:38:06.846971Z",
     "iopub.status.idle": "2021-07-01T07:38:06.851137Z",
     "shell.execute_reply": "2021-07-01T07:38:06.850550Z",
     "shell.execute_reply.started": "2021-06-30T09:54:04.754751Z"
    },
    "papermill": {
     "duration": 0.089496,
     "end_time": "2021-07-01T07:38:06.851320",
     "exception": false,
     "start_time": "2021-07-01T07:38:06.761824",
     "status": "completed"
    },
    "tags": []
   },
   "outputs": [],
   "source": [
    "learn.fit_one_cycle?"
   ]
  },
  {
   "cell_type": "code",
   "execution_count": 22,
   "id": "reduced-investment",
   "metadata": {
    "execution": {
     "iopub.execute_input": "2021-07-01T07:38:07.063207Z",
     "iopub.status.busy": "2021-07-01T07:38:07.062348Z",
     "iopub.status.idle": "2021-07-01T07:41:01.368065Z",
     "shell.execute_reply": "2021-07-01T07:41:01.368584Z",
     "shell.execute_reply.started": "2021-07-01T06:56:09.483310Z"
    },
    "papermill": {
     "duration": 174.406648,
     "end_time": "2021-07-01T07:41:01.368813",
     "exception": false,
     "start_time": "2021-07-01T07:38:06.962165",
     "status": "completed"
    },
    "tags": []
   },
   "outputs": [
    {
     "data": {
      "text/html": [
       "<table border=\"1\" class=\"dataframe\">\n",
       "  <thead>\n",
       "    <tr style=\"text-align: left;\">\n",
       "      <th>epoch</th>\n",
       "      <th>train_loss</th>\n",
       "      <th>valid_loss</th>\n",
       "      <th>accuracy</th>\n",
       "      <th>perplexity</th>\n",
       "      <th>time</th>\n",
       "    </tr>\n",
       "  </thead>\n",
       "  <tbody>\n",
       "    <tr>\n",
       "      <td>0</td>\n",
       "      <td>3.528474</td>\n",
       "      <td>3.410175</td>\n",
       "      <td>0.351067</td>\n",
       "      <td>30.270536</td>\n",
       "      <td>02:54</td>\n",
       "    </tr>\n",
       "  </tbody>\n",
       "</table>"
      ],
      "text/plain": [
       "<IPython.core.display.HTML object>"
      ]
     },
     "metadata": {},
     "output_type": "display_data"
    }
   ],
   "source": [
    "learn.fit_one_cycle(1, 1e-2)"
   ]
  },
  {
   "cell_type": "code",
   "execution_count": 23,
   "id": "significant-indicator",
   "metadata": {
    "execution": {
     "iopub.execute_input": "2021-07-01T07:41:01.528466Z",
     "iopub.status.busy": "2021-07-01T07:41:01.527504Z",
     "iopub.status.idle": "2021-07-01T07:41:01.531536Z",
     "shell.execute_reply": "2021-07-01T07:41:01.530871Z",
     "shell.execute_reply.started": "2021-06-30T09:55:06.390633Z"
    },
    "papermill": {
     "duration": 0.086798,
     "end_time": "2021-07-01T07:41:01.531705",
     "exception": false,
     "start_time": "2021-07-01T07:41:01.444907",
     "status": "completed"
    },
    "tags": []
   },
   "outputs": [],
   "source": [
    "learn.lr_find?"
   ]
  },
  {
   "cell_type": "code",
   "execution_count": 24,
   "id": "amazing-village",
   "metadata": {
    "execution": {
     "iopub.execute_input": "2021-07-01T07:41:01.683913Z",
     "iopub.status.busy": "2021-07-01T07:41:01.682869Z",
     "iopub.status.idle": "2021-07-01T07:41:01.686971Z",
     "shell.execute_reply": "2021-07-01T07:41:01.686323Z",
     "shell.execute_reply.started": "2021-07-01T06:59:15.454529Z"
    },
    "papermill": {
     "duration": 0.080959,
     "end_time": "2021-07-01T07:41:01.687146",
     "exception": false,
     "start_time": "2021-07-01T07:41:01.606187",
     "status": "completed"
    },
    "tags": []
   },
   "outputs": [],
   "source": [
    "learn.path=Path(\".\")"
   ]
  },
  {
   "cell_type": "code",
   "execution_count": 25,
   "id": "derived-light",
   "metadata": {
    "execution": {
     "iopub.execute_input": "2021-07-01T07:41:01.838206Z",
     "iopub.status.busy": "2021-07-01T07:41:01.837176Z",
     "iopub.status.idle": "2021-07-01T07:41:01.841270Z",
     "shell.execute_reply": "2021-07-01T07:41:01.840716Z",
     "shell.execute_reply.started": "2021-06-30T09:55:06.410655Z"
    },
    "papermill": {
     "duration": 0.081101,
     "end_time": "2021-07-01T07:41:01.841402",
     "exception": false,
     "start_time": "2021-07-01T07:41:01.760301",
     "status": "completed"
    },
    "tags": []
   },
   "outputs": [],
   "source": [
    "#learn.lr_find(num_it=100)"
   ]
  },
  {
   "cell_type": "markdown",
   "id": "dying-raleigh",
   "metadata": {
    "papermill": {
     "duration": 0.074093,
     "end_time": "2021-07-01T07:41:01.989530",
     "exception": false,
     "start_time": "2021-07-01T07:41:01.915437",
     "status": "completed"
    },
    "tags": []
   },
   "source": [
    "unfreeze all th elayers and train more"
   ]
  },
  {
   "cell_type": "code",
   "execution_count": 26,
   "id": "fitted-deployment",
   "metadata": {
    "execution": {
     "iopub.execute_input": "2021-07-01T07:41:02.145154Z",
     "iopub.status.busy": "2021-07-01T07:41:02.143997Z",
     "iopub.status.idle": "2021-07-01T07:54:00.899499Z",
     "shell.execute_reply": "2021-07-01T07:54:00.898957Z",
     "shell.execute_reply.started": "2021-07-01T06:59:19.605676Z"
    },
    "papermill": {
     "duration": 778.835704,
     "end_time": "2021-07-01T07:54:00.899686",
     "exception": false,
     "start_time": "2021-07-01T07:41:02.063982",
     "status": "completed"
    },
    "tags": []
   },
   "outputs": [
    {
     "data": {
      "text/html": [
       "<table border=\"1\" class=\"dataframe\">\n",
       "  <thead>\n",
       "    <tr style=\"text-align: left;\">\n",
       "      <th>epoch</th>\n",
       "      <th>train_loss</th>\n",
       "      <th>valid_loss</th>\n",
       "      <th>accuracy</th>\n",
       "      <th>perplexity</th>\n",
       "      <th>time</th>\n",
       "    </tr>\n",
       "  </thead>\n",
       "  <tbody>\n",
       "    <tr>\n",
       "      <td>0</td>\n",
       "      <td>2.749645</td>\n",
       "      <td>2.992232</td>\n",
       "      <td>0.412543</td>\n",
       "      <td>19.930124</td>\n",
       "      <td>03:14</td>\n",
       "    </tr>\n",
       "    <tr>\n",
       "      <td>1</td>\n",
       "      <td>2.028499</td>\n",
       "      <td>2.190817</td>\n",
       "      <td>0.556914</td>\n",
       "      <td>8.942513</td>\n",
       "      <td>03:15</td>\n",
       "    </tr>\n",
       "    <tr>\n",
       "      <td>2</td>\n",
       "      <td>1.180006</td>\n",
       "      <td>1.505144</td>\n",
       "      <td>0.713221</td>\n",
       "      <td>4.504802</td>\n",
       "      <td>03:14</td>\n",
       "    </tr>\n",
       "    <tr>\n",
       "      <td>3</td>\n",
       "      <td>0.821709</td>\n",
       "      <td>1.334326</td>\n",
       "      <td>0.754143</td>\n",
       "      <td>3.797435</td>\n",
       "      <td>03:14</td>\n",
       "    </tr>\n",
       "  </tbody>\n",
       "</table>"
      ],
      "text/plain": [
       "<IPython.core.display.HTML object>"
      ]
     },
     "metadata": {},
     "output_type": "display_data"
    }
   ],
   "source": [
    "learn.unfreeze()\n",
    "learn.fit_one_cycle(4, 1e-3)"
   ]
  },
  {
   "cell_type": "markdown",
   "id": "secure-thesaurus",
   "metadata": {
    "papermill": {
     "duration": 0.072448,
     "end_time": "2021-07-01T07:54:01.047693",
     "exception": false,
     "start_time": "2021-07-01T07:54:00.975245",
     "status": "completed"
    },
    "tags": []
   },
   "source": [
    "good enough accuracy, let;s save it"
   ]
  },
  {
   "cell_type": "code",
   "execution_count": 27,
   "id": "brown-hollow",
   "metadata": {
    "execution": {
     "iopub.execute_input": "2021-07-01T07:54:01.200024Z",
     "iopub.status.busy": "2021-07-01T07:54:01.199314Z",
     "iopub.status.idle": "2021-07-01T07:54:01.714633Z",
     "shell.execute_reply": "2021-07-01T07:54:01.712661Z",
     "shell.execute_reply.started": "2021-07-01T07:16:22.428564Z"
    },
    "papermill": {
     "duration": 0.59337,
     "end_time": "2021-07-01T07:54:01.714942",
     "exception": false,
     "start_time": "2021-07-01T07:54:01.121572",
     "status": "completed"
    },
    "tags": []
   },
   "outputs": [],
   "source": [
    "learn.path = Path(\".\")\n",
    "learn.save_encoder('./final_encoder')"
   ]
  },
  {
   "cell_type": "markdown",
   "id": "spatial-adams",
   "metadata": {
    "papermill": {
     "duration": 0.143783,
     "end_time": "2021-07-01T07:54:02.009404",
     "exception": false,
     "start_time": "2021-07-01T07:54:01.865621",
     "status": "completed"
    },
    "tags": []
   },
   "source": [
    "# Can we use a classifier to predict the scores?\n",
    "My intution is that I can use a text classifier to predict the scores. Let me try that out."
   ]
  },
  {
   "cell_type": "markdown",
   "id": "caroline-ideal",
   "metadata": {
    "papermill": {
     "duration": 0.125165,
     "end_time": "2021-07-01T07:54:02.305264",
     "exception": false,
     "start_time": "2021-07-01T07:54:02.180099",
     "status": "completed"
    },
    "tags": []
   },
   "source": [
    "using fastai datablock to gather data.\n",
    "\n",
    "Here I will use the `Textblock` to grab the text data and the labels.\n",
    "\n",
    "I will try to use the RegressionBlock which is a transfrom block for float targets."
   ]
  },
  {
   "cell_type": "code",
   "execution_count": 28,
   "id": "round-harassment",
   "metadata": {
    "execution": {
     "iopub.execute_input": "2021-07-01T07:54:02.569360Z",
     "iopub.status.busy": "2021-07-01T07:54:02.568278Z",
     "iopub.status.idle": "2021-07-01T07:54:02.572909Z",
     "shell.execute_reply": "2021-07-01T07:54:02.574280Z",
     "shell.execute_reply.started": "2021-06-30T09:59:43.107215Z"
    },
    "papermill": {
     "duration": 0.143948,
     "end_time": "2021-07-01T07:54:02.574499",
     "exception": false,
     "start_time": "2021-07-01T07:54:02.430551",
     "status": "completed"
    },
    "tags": []
   },
   "outputs": [],
   "source": [
    "TextDataLoaders.from_df?"
   ]
  },
  {
   "cell_type": "code",
   "execution_count": 29,
   "id": "swedish-outdoors",
   "metadata": {
    "execution": {
     "iopub.execute_input": "2021-07-01T07:54:02.784156Z",
     "iopub.status.busy": "2021-07-01T07:54:02.783228Z",
     "iopub.status.idle": "2021-07-01T07:54:02.787108Z",
     "shell.execute_reply": "2021-07-01T07:54:02.787622Z",
     "shell.execute_reply.started": "2021-07-01T07:16:26.828380Z"
    },
    "papermill": {
     "duration": 0.086398,
     "end_time": "2021-07-01T07:54:02.787838",
     "exception": false,
     "start_time": "2021-07-01T07:54:02.701440",
     "status": "completed"
    },
    "tags": []
   },
   "outputs": [],
   "source": [
    "df_train = df_train.drop(['id', 'url_legal', 'license', 'standard_error'], axis=1)"
   ]
  },
  {
   "cell_type": "code",
   "execution_count": 30,
   "id": "patient-jersey",
   "metadata": {
    "execution": {
     "iopub.execute_input": "2021-07-01T07:54:02.947348Z",
     "iopub.status.busy": "2021-07-01T07:54:02.946459Z",
     "iopub.status.idle": "2021-07-01T07:54:02.952593Z",
     "shell.execute_reply": "2021-07-01T07:54:02.953143Z",
     "shell.execute_reply.started": "2021-06-30T09:59:43.130104Z"
    },
    "papermill": {
     "duration": 0.090081,
     "end_time": "2021-07-01T07:54:02.953298",
     "exception": false,
     "start_time": "2021-07-01T07:54:02.863217",
     "status": "completed"
    },
    "tags": []
   },
   "outputs": [
    {
     "data": {
      "text/html": [
       "<div>\n",
       "<style scoped>\n",
       "    .dataframe tbody tr th:only-of-type {\n",
       "        vertical-align: middle;\n",
       "    }\n",
       "\n",
       "    .dataframe tbody tr th {\n",
       "        vertical-align: top;\n",
       "    }\n",
       "\n",
       "    .dataframe thead th {\n",
       "        text-align: right;\n",
       "    }\n",
       "</style>\n",
       "<table border=\"1\" class=\"dataframe\">\n",
       "  <thead>\n",
       "    <tr style=\"text-align: right;\">\n",
       "      <th></th>\n",
       "      <th>Unnamed: 0</th>\n",
       "      <th>excerpt</th>\n",
       "      <th>target</th>\n",
       "    </tr>\n",
       "  </thead>\n",
       "  <tbody>\n",
       "    <tr>\n",
       "      <th>0</th>\n",
       "      <td>0</td>\n",
       "      <td>When the young people returned to the ballroom, it presented a decidedly changed appearance. Instead of an interior scene, it was a winter landscape.\\nThe floor was covered with snow-white canvas, not laid on smoothly, but rumpled over bumps and hillocks, like a real snow field. The numerous palms and evergreens that had decorated the room, were powdered with flour and strewn with tufts of cotton, like snow. Also diamond dust had been lightly sprinkled on them, and glittering crystal icicles hung from the branches.\\nAt each end of the room, on the wall, hung a beautiful bear-skin rug.\\nThe...</td>\n",
       "      <td>-0.340259</td>\n",
       "    </tr>\n",
       "    <tr>\n",
       "      <th>1</th>\n",
       "      <td>1</td>\n",
       "      <td>All through dinner time, Mrs. Fayre was somewhat silent, her eyes resting on Dolly with a wistful, uncertain expression. She wanted to give the child the pleasure she craved, but she had hard work to bring herself to the point of overcoming her own objections.\\nAt last, however, when the meal was nearly over, she smiled at her little daughter, and said, \"All right, Dolly, you may go.\"\\n\"Oh, mother!\" Dolly cried, overwhelmed with sudden delight. \"Really?\\nOh, I am so glad! Are you sure you're willing?\"\\n\"I've persuaded myself to be willing, against my will,\" returned Mrs. Fayre, whimsically...</td>\n",
       "      <td>-0.315372</td>\n",
       "    </tr>\n",
       "  </tbody>\n",
       "</table>\n",
       "</div>"
      ],
      "text/plain": [
       "   Unnamed: 0  \\\n",
       "0           0   \n",
       "1           1   \n",
       "\n",
       "                                                                                                                                                                                                                                                                                                                                                                                                                                                                                                                                                                                                                   excerpt  \\\n",
       "0  When the young people returned to the ballroom, it presented a decidedly changed appearance. Instead of an interior scene, it was a winter landscape.\\nThe floor was covered with snow-white canvas, not laid on smoothly, but rumpled over bumps and hillocks, like a real snow field. The numerous palms and evergreens that had decorated the room, were powdered with flour and strewn with tufts of cotton, like snow. Also diamond dust had been lightly sprinkled on them, and glittering crystal icicles hung from the branches.\\nAt each end of the room, on the wall, hung a beautiful bear-skin rug.\\nThe...   \n",
       "1  All through dinner time, Mrs. Fayre was somewhat silent, her eyes resting on Dolly with a wistful, uncertain expression. She wanted to give the child the pleasure she craved, but she had hard work to bring herself to the point of overcoming her own objections.\\nAt last, however, when the meal was nearly over, she smiled at her little daughter, and said, \"All right, Dolly, you may go.\"\\n\"Oh, mother!\" Dolly cried, overwhelmed with sudden delight. \"Really?\\nOh, I am so glad! Are you sure you're willing?\"\\n\"I've persuaded myself to be willing, against my will,\" returned Mrs. Fayre, whimsically...   \n",
       "\n",
       "     target  \n",
       "0 -0.340259  \n",
       "1 -0.315372  "
      ]
     },
     "execution_count": 30,
     "metadata": {},
     "output_type": "execute_result"
    }
   ],
   "source": [
    "df_train.head(2)"
   ]
  },
  {
   "cell_type": "code",
   "execution_count": 31,
   "id": "impressive-eagle",
   "metadata": {
    "execution": {
     "iopub.execute_input": "2021-07-01T07:54:03.106092Z",
     "iopub.status.busy": "2021-07-01T07:54:03.105341Z",
     "iopub.status.idle": "2021-07-01T07:54:03.111906Z",
     "shell.execute_reply": "2021-07-01T07:54:03.111366Z",
     "shell.execute_reply.started": "2021-06-30T09:59:43.149621Z"
    },
    "papermill": {
     "duration": 0.084937,
     "end_time": "2021-07-01T07:54:03.112063",
     "exception": false,
     "start_time": "2021-07-01T07:54:03.027126",
     "status": "completed"
    },
    "tags": []
   },
   "outputs": [
    {
     "data": {
      "text/plain": [
       "Index(['Unnamed: 0', 'excerpt', 'target'], dtype='object')"
      ]
     },
     "execution_count": 31,
     "metadata": {},
     "output_type": "execute_result"
    }
   ],
   "source": [
    "df_train.columns"
   ]
  },
  {
   "cell_type": "code",
   "execution_count": 32,
   "id": "damaged-palestinian",
   "metadata": {
    "execution": {
     "iopub.execute_input": "2021-07-01T07:54:03.272587Z",
     "iopub.status.busy": "2021-07-01T07:54:03.271668Z",
     "iopub.status.idle": "2021-07-01T07:54:03.275679Z",
     "shell.execute_reply": "2021-07-01T07:54:03.275111Z",
     "shell.execute_reply.started": "2021-07-01T07:16:32.928742Z"
    },
    "papermill": {
     "duration": 0.088812,
     "end_time": "2021-07-01T07:54:03.275870",
     "exception": false,
     "start_time": "2021-07-01T07:54:03.187058",
     "status": "completed"
    },
    "tags": []
   },
   "outputs": [],
   "source": [
    "df_train = df_train.drop(['Unnamed: 0'], axis=1)"
   ]
  },
  {
   "cell_type": "code",
   "execution_count": 33,
   "id": "stupid-hardware",
   "metadata": {
    "execution": {
     "iopub.execute_input": "2021-07-01T07:54:03.438920Z",
     "iopub.status.busy": "2021-07-01T07:54:03.437821Z",
     "iopub.status.idle": "2021-07-01T07:54:03.443050Z",
     "shell.execute_reply": "2021-07-01T07:54:03.442468Z",
     "shell.execute_reply.started": "2021-06-30T09:59:43.17094Z"
    },
    "papermill": {
     "duration": 0.091138,
     "end_time": "2021-07-01T07:54:03.443179",
     "exception": false,
     "start_time": "2021-07-01T07:54:03.352041",
     "status": "completed"
    },
    "tags": []
   },
   "outputs": [
    {
     "data": {
      "text/html": [
       "<div>\n",
       "<style scoped>\n",
       "    .dataframe tbody tr th:only-of-type {\n",
       "        vertical-align: middle;\n",
       "    }\n",
       "\n",
       "    .dataframe tbody tr th {\n",
       "        vertical-align: top;\n",
       "    }\n",
       "\n",
       "    .dataframe thead th {\n",
       "        text-align: right;\n",
       "    }\n",
       "</style>\n",
       "<table border=\"1\" class=\"dataframe\">\n",
       "  <thead>\n",
       "    <tr style=\"text-align: right;\">\n",
       "      <th></th>\n",
       "      <th>excerpt</th>\n",
       "      <th>target</th>\n",
       "    </tr>\n",
       "  </thead>\n",
       "  <tbody>\n",
       "    <tr>\n",
       "      <th>0</th>\n",
       "      <td>When the young people returned to the ballroom, it presented a decidedly changed appearance. Instead of an interior scene, it was a winter landscape.\\nThe floor was covered with snow-white canvas, not laid on smoothly, but rumpled over bumps and hillocks, like a real snow field. The numerous palms and evergreens that had decorated the room, were powdered with flour and strewn with tufts of cotton, like snow. Also diamond dust had been lightly sprinkled on them, and glittering crystal icicles hung from the branches.\\nAt each end of the room, on the wall, hung a beautiful bear-skin rug.\\nThe...</td>\n",
       "      <td>-0.340259</td>\n",
       "    </tr>\n",
       "    <tr>\n",
       "      <th>1</th>\n",
       "      <td>All through dinner time, Mrs. Fayre was somewhat silent, her eyes resting on Dolly with a wistful, uncertain expression. She wanted to give the child the pleasure she craved, but she had hard work to bring herself to the point of overcoming her own objections.\\nAt last, however, when the meal was nearly over, she smiled at her little daughter, and said, \"All right, Dolly, you may go.\"\\n\"Oh, mother!\" Dolly cried, overwhelmed with sudden delight. \"Really?\\nOh, I am so glad! Are you sure you're willing?\"\\n\"I've persuaded myself to be willing, against my will,\" returned Mrs. Fayre, whimsically...</td>\n",
       "      <td>-0.315372</td>\n",
       "    </tr>\n",
       "  </tbody>\n",
       "</table>\n",
       "</div>"
      ],
      "text/plain": [
       "                                                                                                                                                                                                                                                                                                                                                                                                                                                                                                                                                                                                                   excerpt  \\\n",
       "0  When the young people returned to the ballroom, it presented a decidedly changed appearance. Instead of an interior scene, it was a winter landscape.\\nThe floor was covered with snow-white canvas, not laid on smoothly, but rumpled over bumps and hillocks, like a real snow field. The numerous palms and evergreens that had decorated the room, were powdered with flour and strewn with tufts of cotton, like snow. Also diamond dust had been lightly sprinkled on them, and glittering crystal icicles hung from the branches.\\nAt each end of the room, on the wall, hung a beautiful bear-skin rug.\\nThe...   \n",
       "1  All through dinner time, Mrs. Fayre was somewhat silent, her eyes resting on Dolly with a wistful, uncertain expression. She wanted to give the child the pleasure she craved, but she had hard work to bring herself to the point of overcoming her own objections.\\nAt last, however, when the meal was nearly over, she smiled at her little daughter, and said, \"All right, Dolly, you may go.\"\\n\"Oh, mother!\" Dolly cried, overwhelmed with sudden delight. \"Really?\\nOh, I am so glad! Are you sure you're willing?\"\\n\"I've persuaded myself to be willing, against my will,\" returned Mrs. Fayre, whimsically...   \n",
       "\n",
       "     target  \n",
       "0 -0.340259  \n",
       "1 -0.315372  "
      ]
     },
     "execution_count": 33,
     "metadata": {},
     "output_type": "execute_result"
    }
   ],
   "source": [
    "df_train.head(2)"
   ]
  },
  {
   "cell_type": "markdown",
   "id": "nasty-semester",
   "metadata": {
    "papermill": {
     "duration": 0.07526,
     "end_time": "2021-07-01T07:54:03.595334",
     "exception": false,
     "start_time": "2021-07-01T07:54:03.520074",
     "status": "completed"
    },
    "tags": []
   },
   "source": [
    "taking list of indices of the dataframe"
   ]
  },
  {
   "cell_type": "markdown",
   "id": "alpha-producer",
   "metadata": {
    "papermill": {
     "duration": 0.074616,
     "end_time": "2021-07-01T07:54:03.745363",
     "exception": false,
     "start_time": "2021-07-01T07:54:03.670747",
     "status": "completed"
    },
    "tags": []
   },
   "source": [
    "shuffle the indices and pick 30% of the indices."
   ]
  },
  {
   "cell_type": "code",
   "execution_count": 34,
   "id": "split-shareware",
   "metadata": {
    "execution": {
     "iopub.execute_input": "2021-07-01T07:54:03.904307Z",
     "iopub.status.busy": "2021-07-01T07:54:03.903174Z",
     "iopub.status.idle": "2021-07-01T07:54:03.908187Z",
     "shell.execute_reply": "2021-07-01T07:54:03.907570Z",
     "shell.execute_reply.started": "2021-06-30T09:59:43.186589Z"
    },
    "papermill": {
     "duration": 0.086591,
     "end_time": "2021-07-01T07:54:03.908330",
     "exception": false,
     "start_time": "2021-07-01T07:54:03.821739",
     "status": "completed"
    },
    "tags": []
   },
   "outputs": [
    {
     "data": {
      "text/plain": [
       "[1, 0]"
      ]
     },
     "execution_count": 34,
     "metadata": {},
     "output_type": "execute_result"
    }
   ],
   "source": [
    "d = [1,3,4,5]\n",
    "random.sample(range(len(d)), 2)"
   ]
  },
  {
   "cell_type": "code",
   "execution_count": 35,
   "id": "guided-philip",
   "metadata": {
    "execution": {
     "iopub.execute_input": "2021-07-01T07:54:04.066135Z",
     "iopub.status.busy": "2021-07-01T07:54:04.064902Z",
     "iopub.status.idle": "2021-07-01T07:54:04.069873Z",
     "shell.execute_reply": "2021-07-01T07:54:04.069307Z",
     "shell.execute_reply.started": "2021-07-01T07:16:40.640255Z"
    },
    "papermill": {
     "duration": 0.08744,
     "end_time": "2021-07-01T07:54:04.070004",
     "exception": false,
     "start_time": "2021-07-01T07:54:03.982564",
     "status": "completed"
    },
    "tags": []
   },
   "outputs": [
    {
     "data": {
      "text/plain": [
       "7406"
      ]
     },
     "execution_count": 35,
     "metadata": {},
     "output_type": "execute_result"
    }
   ],
   "source": [
    "idxs = [idx for idx in df_train.index]\n",
    "idxs[-3]"
   ]
  },
  {
   "cell_type": "code",
   "execution_count": 36,
   "id": "clear-spank",
   "metadata": {
    "execution": {
     "iopub.execute_input": "2021-07-01T07:54:04.223230Z",
     "iopub.status.busy": "2021-07-01T07:54:04.221973Z",
     "iopub.status.idle": "2021-07-01T07:54:04.226877Z",
     "shell.execute_reply": "2021-07-01T07:54:04.227423Z",
     "shell.execute_reply.started": "2021-06-30T09:59:43.216229Z"
    },
    "papermill": {
     "duration": 0.084533,
     "end_time": "2021-07-01T07:54:04.227608",
     "exception": false,
     "start_time": "2021-07-01T07:54:04.143075",
     "status": "completed"
    },
    "tags": []
   },
   "outputs": [
    {
     "data": {
      "text/plain": [
       "2100"
      ]
     },
     "execution_count": 36,
     "metadata": {},
     "output_type": "execute_result"
    }
   ],
   "source": [
    "math.ceil(0.3*7000)"
   ]
  },
  {
   "cell_type": "code",
   "execution_count": 37,
   "id": "spatial-wings",
   "metadata": {
    "execution": {
     "iopub.execute_input": "2021-07-01T07:54:04.387329Z",
     "iopub.status.busy": "2021-07-01T07:54:04.386478Z",
     "iopub.status.idle": "2021-07-01T07:54:04.389573Z",
     "shell.execute_reply": "2021-07-01T07:54:04.390242Z",
     "shell.execute_reply.started": "2021-07-01T07:16:43.716299Z"
    },
    "papermill": {
     "duration": 0.085705,
     "end_time": "2021-07-01T07:54:04.390490",
     "exception": false,
     "start_time": "2021-07-01T07:54:04.304785",
     "status": "completed"
    },
    "tags": []
   },
   "outputs": [],
   "source": [
    "def get_valid_idxs(df: DataFrame, valid_pct: float):\n",
    "    \"\"\"Derive a random sample of indices from\n",
    "    a datafarme\"\"\"\n",
    "    idxs = [idx for idx in df.index]\n",
    "    valid_tot = math.ceil(valid_pct*len(idxs))\n",
    "    return random.sample(range(len(idxs)), valid_tot)"
   ]
  },
  {
   "cell_type": "code",
   "execution_count": 38,
   "id": "reserved-queens",
   "metadata": {
    "execution": {
     "iopub.execute_input": "2021-07-01T07:54:04.557145Z",
     "iopub.status.busy": "2021-07-01T07:54:04.555989Z",
     "iopub.status.idle": "2021-07-01T07:54:04.561175Z",
     "shell.execute_reply": "2021-07-01T07:54:04.560616Z",
     "shell.execute_reply.started": "2021-07-01T07:16:46.543645Z"
    },
    "papermill": {
     "duration": 0.092829,
     "end_time": "2021-07-01T07:54:04.561306",
     "exception": false,
     "start_time": "2021-07-01T07:54:04.468477",
     "status": "completed"
    },
    "tags": []
   },
   "outputs": [
    {
     "data": {
      "text/plain": [
       "2223"
      ]
     },
     "execution_count": 38,
     "metadata": {},
     "output_type": "execute_result"
    }
   ],
   "source": [
    "valid_idxs = get_valid_idxs(df_train, 0.3)\n",
    "len(valid_idxs)"
   ]
  },
  {
   "cell_type": "code",
   "execution_count": 39,
   "id": "excellent-falls",
   "metadata": {
    "execution": {
     "iopub.execute_input": "2021-07-01T07:54:04.724596Z",
     "iopub.status.busy": "2021-07-01T07:54:04.723602Z",
     "iopub.status.idle": "2021-07-01T07:54:04.727213Z",
     "shell.execute_reply": "2021-07-01T07:54:04.727946Z",
     "shell.execute_reply.started": "2021-06-30T09:59:43.25204Z"
    },
    "papermill": {
     "duration": 0.090404,
     "end_time": "2021-07-01T07:54:04.728114",
     "exception": false,
     "start_time": "2021-07-01T07:54:04.637710",
     "status": "completed"
    },
    "tags": []
   },
   "outputs": [],
   "source": [
    "TextDataLoaders.from_df?"
   ]
  },
  {
   "cell_type": "code",
   "execution_count": 40,
   "id": "furnished-polls",
   "metadata": {
    "execution": {
     "iopub.execute_input": "2021-07-01T07:54:04.888924Z",
     "iopub.status.busy": "2021-07-01T07:54:04.887908Z",
     "iopub.status.idle": "2021-07-01T07:54:04.891498Z",
     "shell.execute_reply": "2021-07-01T07:54:04.891007Z",
     "shell.execute_reply.started": "2021-06-30T09:59:43.264204Z"
    },
    "papermill": {
     "duration": 0.087313,
     "end_time": "2021-07-01T07:54:04.891632",
     "exception": false,
     "start_time": "2021-07-01T07:54:04.804319",
     "status": "completed"
    },
    "tags": []
   },
   "outputs": [],
   "source": [
    "#dls = TextDataLoaders.from_df(df_train, \n",
    "#                              path=path, \n",
    "#                              text_col= 'excerpt',\n",
    "#                              label_col= 'target',\n",
    "#                              y_block=RegressionBlock, \n",
    "#                              valid_pct=0.3, \n",
    "#                              text_vocab=dls_lm.vocab,\n",
    "#                             seq_len=80,\n",
    "#                             bs=256)"
   ]
  },
  {
   "cell_type": "code",
   "execution_count": 41,
   "id": "clinical-dublin",
   "metadata": {
    "execution": {
     "iopub.execute_input": "2021-07-01T07:54:05.091981Z",
     "iopub.status.busy": "2021-07-01T07:54:05.081279Z",
     "iopub.status.idle": "2021-07-01T07:54:05.443701Z",
     "shell.execute_reply": "2021-07-01T07:54:05.443193Z",
     "shell.execute_reply.started": "2021-07-01T07:24:48.753955Z"
    },
    "papermill": {
     "duration": 0.473889,
     "end_time": "2021-07-01T07:54:05.443868",
     "exception": false,
     "start_time": "2021-07-01T07:54:04.969979",
     "status": "completed"
    },
    "tags": []
   },
   "outputs": [],
   "source": [
    "data = DataBlock(\n",
    "    blocks=(TextBlock.from_df('excerpt', vocab=dls_lm.vocab,seq_len=80), RegressionBlock),\n",
    "    get_x=ColReader('text'),get_y=ColReader('target'),\n",
    "    splitter=IndexSplitter(valid_idxs))"
   ]
  },
  {
   "cell_type": "code",
   "execution_count": 42,
   "id": "ambient-bumper",
   "metadata": {
    "execution": {
     "iopub.execute_input": "2021-07-01T07:54:05.612890Z",
     "iopub.status.busy": "2021-07-01T07:54:05.612090Z",
     "iopub.status.idle": "2021-07-01T07:54:38.396032Z",
     "shell.execute_reply": "2021-07-01T07:54:38.395358Z",
     "shell.execute_reply.started": "2021-07-01T07:24:53.526358Z"
    },
    "papermill": {
     "duration": 32.873094,
     "end_time": "2021-07-01T07:54:38.396212",
     "exception": false,
     "start_time": "2021-07-01T07:54:05.523118",
     "status": "completed"
    },
    "tags": []
   },
   "outputs": [
    {
     "data": {
      "text/html": [],
      "text/plain": [
       "<IPython.core.display.HTML object>"
      ]
     },
     "metadata": {},
     "output_type": "display_data"
    },
    {
     "name": "stderr",
     "output_type": "stream",
     "text": [
      "/opt/conda/lib/python3.7/site-packages/numpy/core/_asarray.py:83: VisibleDeprecationWarning: Creating an ndarray from ragged nested sequences (which is a list-or-tuple of lists-or-tuples-or ndarrays with different lengths or shapes) is deprecated. If you meant to do this, you must specify 'dtype=object' when creating the ndarray\n",
      "  return array(a, dtype, copy=False, order=order)\n"
     ]
    }
   ],
   "source": [
    "dls = data.dataloaders(df_train, bs=8)"
   ]
  },
  {
   "cell_type": "code",
   "execution_count": 43,
   "id": "chicken-spencer",
   "metadata": {
    "execution": {
     "iopub.execute_input": "2021-07-01T07:54:38.562251Z",
     "iopub.status.busy": "2021-07-01T07:54:38.561564Z",
     "iopub.status.idle": "2021-07-01T07:54:38.566792Z",
     "shell.execute_reply": "2021-07-01T07:54:38.566268Z"
    },
    "papermill": {
     "duration": 0.089259,
     "end_time": "2021-07-01T07:54:38.566934",
     "exception": false,
     "start_time": "2021-07-01T07:54:38.477675",
     "status": "completed"
    },
    "tags": []
   },
   "outputs": [],
   "source": [
    "#dls.dataset"
   ]
  },
  {
   "cell_type": "code",
   "execution_count": 44,
   "id": "leading-niagara",
   "metadata": {
    "execution": {
     "iopub.execute_input": "2021-07-01T07:54:38.732297Z",
     "iopub.status.busy": "2021-07-01T07:54:38.731291Z",
     "iopub.status.idle": "2021-07-01T07:54:38.775467Z",
     "shell.execute_reply": "2021-07-01T07:54:38.776012Z",
     "shell.execute_reply.started": "2021-07-01T07:26:46.618633Z"
    },
    "papermill": {
     "duration": 0.131543,
     "end_time": "2021-07-01T07:54:38.776224",
     "exception": false,
     "start_time": "2021-07-01T07:54:38.644681",
     "status": "completed"
    },
    "tags": []
   },
   "outputs": [
    {
     "data": {
      "text/html": [
       "<table border=\"1\" class=\"dataframe\">\n",
       "  <thead>\n",
       "    <tr style=\"text-align: right;\">\n",
       "      <th></th>\n",
       "      <th>text</th>\n",
       "      <th>text_</th>\n",
       "    </tr>\n",
       "  </thead>\n",
       "  <tbody>\n",
       "    <tr>\n",
       "      <th>0</th>\n",
       "      <td>xxbos xxmaj in those days all cloth had to be made at home . xxmaj aunt xxmaj dinah , xxmaj aunt xxmaj chloe , and xxmaj aunt xxmaj dilsey were kept busy spinning and weaving to make clothes for the whole plantation . \\n xxmaj one day xxmaj mary 's mother said , \" aunt xxmaj dilsey , xxmaj mary needs a new dress , and i want you to weave some cloth at once . xxmaj can you weave some very fine cloth ? \" \\n \" yes , ma'am , \" said xxmaj aunt xxmaj dilsey . \" i have some cotton xxmaj i 've been saving to make her a dress . \" \\n xxmaj aunt xxmaj dilsey got out the cards and carded the cotton smooth and fine . xxmaj then she fastened a roll of this cotton to the spindle and sent the wheel whirling</td>\n",
       "      <td>0.08876363933086395</td>\n",
       "    </tr>\n",
       "    <tr>\n",
       "      <th>1</th>\n",
       "      <td>xxbos a baby elephant was born . xxmaj she was very curious . xxmaj she had a question for every animal . xxmaj she was curious about xxmaj giraffe . \" why do you have a long neck ? \" she asked . xxmaj she was curious about xxmaj rhino . \" why does your horn have a sharp point ? \" she asked . xxmaj she was very curious about xxmaj crocodile . \" what do crocodiles eat for dinner ? \" she asked . xxmaj clever xxmaj crow quickly said , \" follow me to the river . xxmaj there you will see what crocodiles eat for dinner . \" xxmaj so , xxmaj baby xxmaj elephant followed xxmaj crow to the river . xxmaj she pushed through the reeds and stood on the bank . xxmaj she looked into the water . xxmaj where was xxmaj crocodile</td>\n",
       "      <td>1.2942910194396973</td>\n",
       "    </tr>\n",
       "    <tr>\n",
       "      <th>2</th>\n",
       "      <td>xxbos xxmaj an xxmaj elephant and a xxmaj crocodile were once standing beside a river . xxmaj they were disputing as to which was the better animal . \\n \" look at my strength , \" said the xxmaj elephant . \" i can tear up a tree , roots and all , with my trunk . \" \\n \" ah ! xxmaj but quantity is not quality , and your skin is not nearly so rugged as mine , \" replied the xxmaj crocodile , \" for neither spear , arrow , nor sword can pierce it . \" \\n xxmaj just as they were coming to blows , a xxmaj lion happened to pass . \\n \" heyday , sirs ! \" said xxmaj his xxmaj majesty , going up to them , \" let me know the cause of your quarrel . \" \\n \" will you</td>\n",
       "      <td>0.4102073311805725</td>\n",
       "    </tr>\n",
       "  </tbody>\n",
       "</table>"
      ],
      "text/plain": [
       "<IPython.core.display.HTML object>"
      ]
     },
     "metadata": {},
     "output_type": "display_data"
    }
   ],
   "source": [
    "dls.train.show_batch(max_n=3)"
   ]
  },
  {
   "cell_type": "code",
   "execution_count": 45,
   "id": "qualified-benefit",
   "metadata": {
    "execution": {
     "iopub.execute_input": "2021-07-01T07:54:38.942633Z",
     "iopub.status.busy": "2021-07-01T07:54:38.941638Z",
     "iopub.status.idle": "2021-07-01T07:54:38.976720Z",
     "shell.execute_reply": "2021-07-01T07:54:38.977234Z",
     "shell.execute_reply.started": "2021-06-30T10:00:43.879036Z"
    },
    "papermill": {
     "duration": 0.12196,
     "end_time": "2021-07-01T07:54:38.977441",
     "exception": false,
     "start_time": "2021-07-01T07:54:38.855481",
     "status": "completed"
    },
    "tags": []
   },
   "outputs": [
    {
     "data": {
      "text/html": [
       "<table border=\"1\" class=\"dataframe\">\n",
       "  <thead>\n",
       "    <tr style=\"text-align: right;\">\n",
       "      <th></th>\n",
       "      <th>text</th>\n",
       "      <th>text_</th>\n",
       "    </tr>\n",
       "  </thead>\n",
       "  <tbody>\n",
       "    <tr>\n",
       "      <th>0</th>\n",
       "      <td>xxbos xxmaj in those days all cloth had to be made at home . xxmaj aunt xxmaj dinah , xxmaj aunt xxmaj chloe , and xxmaj aunt xxmaj dilsey were kept busy spinning and weaving to make clothes for the whole plantation . \\n xxmaj one day xxmaj mary 's mother said , \" aunt xxmaj dilsey , xxmaj mary needs a new dress , and i want you to weave some cloth at once . xxmaj can you weave some very fine cloth ? \" \\n \" yes , ma'am , \" said xxmaj aunt xxmaj dilsey . \" i have some cotton xxmaj i 've been saving to make her a dress . \" \\n xxmaj aunt xxmaj dilsey got out the cards and carded the cotton smooth and fine . xxmaj then she fastened a roll of this cotton to the spindle and sent the wheel whirling</td>\n",
       "      <td>0.08876363933086395</td>\n",
       "    </tr>\n",
       "    <tr>\n",
       "      <th>1</th>\n",
       "      <td>xxbos xxmaj mother xxmaj goat passes by . \" will you go to the fair with me ? \" she asks xxmaj mother xxmaj hen . \\n \" i 'm busy with my eggs , \" xxmaj mother xxmaj hen answers . xxmaj one , two , three , four , five , six . \\n xxmaj six round eggs ! xxmaj mother xxmaj pig passes by . \" will you go to the fair with me ? \" she asks . \" i 'm busy with my eggs , \" answers xxmaj mother xxmaj hen . xxmaj one , two , three , four , five , six . xxmaj six round eggs ! xxmaj mother xxmaj cow passes by . \" will you go to the fair with me ? \" she asks xxmaj mother xxmaj hen . \" i 'm busy with my eggs , \" answers</td>\n",
       "      <td>0.6820314526557922</td>\n",
       "    </tr>\n",
       "    <tr>\n",
       "      <th>2</th>\n",
       "      <td>xxbos xxmaj when xxmaj papa came home , xxmaj sima was nursing xxmaj xxunk . \" what are you doing ? \" asked xxmaj papa . \" i 'm being a nurse , \" said xxmaj sima . \" will you play with me ? \" \" yes . xxmaj but we will go to the park and play soccer , \" said xxmaj papa . xxmaj his friends saw xxmaj sima and xxmaj papa playing soccer . xxmaj they joined in . xxmaj sima and xxmaj papa often play soccer now . xxmaj but they still have n't played with dolls . xxmaj one day , xxmaj sima was playing hospital - hospital with his dolls . xxmaj he heard xxmaj mama shout . \" sima ! xxmaj run ! xxmaj papa is waiting to play with you at the park . \" \" why on earth are you</td>\n",
       "      <td>-0.15450337529182434</td>\n",
       "    </tr>\n",
       "  </tbody>\n",
       "</table>"
      ],
      "text/plain": [
       "<IPython.core.display.HTML object>"
      ]
     },
     "metadata": {},
     "output_type": "display_data"
    }
   ],
   "source": [
    "dls.valid.show_batch(max_n =3)"
   ]
  },
  {
   "cell_type": "code",
   "execution_count": 46,
   "id": "worldwide-teacher",
   "metadata": {
    "execution": {
     "iopub.execute_input": "2021-07-01T07:54:39.167028Z",
     "iopub.status.busy": "2021-07-01T07:54:39.161253Z",
     "iopub.status.idle": "2021-07-01T07:54:39.172903Z",
     "shell.execute_reply": "2021-07-01T07:54:39.172361Z"
    },
    "papermill": {
     "duration": 0.117928,
     "end_time": "2021-07-01T07:54:39.173030",
     "exception": false,
     "start_time": "2021-07-01T07:54:39.055102",
     "status": "completed"
    },
    "tags": []
   },
   "outputs": [
    {
     "data": {
      "text/html": [
       "<div>\n",
       "<style scoped>\n",
       "    .dataframe tbody tr th:only-of-type {\n",
       "        vertical-align: middle;\n",
       "    }\n",
       "\n",
       "    .dataframe tbody tr th {\n",
       "        vertical-align: top;\n",
       "    }\n",
       "\n",
       "    .dataframe thead th {\n",
       "        text-align: right;\n",
       "    }\n",
       "</style>\n",
       "<table border=\"1\" class=\"dataframe\">\n",
       "  <thead>\n",
       "    <tr style=\"text-align: right;\">\n",
       "      <th></th>\n",
       "      <th>target</th>\n",
       "      <th>text</th>\n",
       "      <th>text_length</th>\n",
       "    </tr>\n",
       "  </thead>\n",
       "  <tbody>\n",
       "    <tr>\n",
       "      <th>5539</th>\n",
       "      <td>-0.801707</td>\n",
       "      <td>[xxbos, xxmaj, coral, reefs, are, diverse, underwater, ecosystems, held, together, by, calcium, carbonate, structures, secreted, by, corals, ., xxmaj, coral, reefs, are, built, by, colonies, of, tiny, animals, found, in, marine, waters, that, contain, few, nutrients, ., xxmaj, most, coral, reefs, are, built, from, stony, corals, ,, which, in, turn, consist, of, polyps, that, cluster, in, groups, ., xxmaj, the, polyps, belong, to, a, group, of, animals, known, as, xxmaj, cnidaria, ,, which, also, includes, sea, anemones, and, jellyfish, ., xxmaj, unlike, sea, anemones, ,, corals, secrete, h...</td>\n",
       "      <td>214</td>\n",
       "    </tr>\n",
       "    <tr>\n",
       "      <th>6239</th>\n",
       "      <td>-2.175943</td>\n",
       "      <td>[xxbos, xxmaj, warsaw, ,, xxmaj, dec, ., 5, ,, (, by, xxmaj, courier, to, petrograd.)—i, have, wired, you, previously, of, the, xxmaj, german, force, which, advanced, around, xxmaj, lodz, and, was, cut, off, south, and, east, of, the, town, ., xxmaj, this, consisted, of, two, army, corps, —, the, xxmaj, twenty-5th, xxmaj, corps, and, the, xxmaj, third, xxmaj, guard, xxmaj, corps, ., xxmaj, the, isolated, force, turned, north, and, endeavored, to, cut, its, way, out, through, the, small, town, of, xxmaj, breziziny, ., xxmaj, it, was, at, xxmaj, breziziny, that, final, disaster, overtook, th...</td>\n",
       "      <td>198</td>\n",
       "    </tr>\n",
       "    <tr>\n",
       "      <th>1523</th>\n",
       "      <td>-0.899951</td>\n",
       "      <td>[xxbos, xxmaj, the, xxmaj, shakespeare, society, of, xxmaj, new, xxmaj, york, ,, which, is, really, about, the, only, useful, literary, organization, in, this, country, ,, is, making, vigorous, efforts, to, redress, an, old, wrong, and, atone, for, a, long, neglect, ., xxmaj, sunday, ,, xxmaj, sept, ., 22, ,, it, held, a, meeting, at, the, xxmaj, poe, cottage, on, xxmaj, kingsbridge, road, near, xxmaj, fordham, ,, for, the, purpose, of, starting, an, organized, movement, to, buy, back, the, cottage, ,, restore, it, to, its, original, condition, and, preserve, it, as, a, memorial, of, xxmaj...</td>\n",
       "      <td>187</td>\n",
       "    </tr>\n",
       "    <tr>\n",
       "      <th>1550</th>\n",
       "      <td>-1.074708</td>\n",
       "      <td>[xxbos, xxmaj, your, slippers, are, new, ,, \", he, said, ., \", you, could, not, have, had, them, more, than, a, few, weeks, ., xxmaj, the, soles, which, you, are, at, this, moment, presenting, to, me, are, slightly, scorched, ., xxmaj, for, a, moment, i, thought, they, might, have, got, wet, and, been, burned, in, the, drying, ., xxmaj, but, near, the, instep, there, is, a, small, circular, wafer, of, paper, with, the, shopman, 's, hieroglyphics, upon, it, ., xxmaj, damp, would, of, course, have, removed, this, ., xxmaj, you, had, ,, then, ,, been, sitting, with, your, feet, outstretched, ...</td>\n",
       "      <td>247</td>\n",
       "    </tr>\n",
       "    <tr>\n",
       "      <th>7166</th>\n",
       "      <td>-1.398764</td>\n",
       "      <td>[xxbos, xxmaj, the, xxmaj, baba, xxmaj, yaga, ,, bony, of, limb, ,, quickly, jumped, into, her, mortar, ,, sent, it, flying, along, with, the, pestle, ,, sweeping, away, the, while, all, traces, of, its, flight, with, a, broom, ,, and, set, off, in, pursuit, of, the, girl, ., xxmaj, then, the, girl, put, her, ear, to, the, ground, ,, and, when, she, heard, that, the, xxmaj, baba, xxmaj, yaga, was, chasing, her, ,, and, was, now, close, at, hand, ,, she, flung, down, the, towel, ., xxmaj, and, it, became, a, wide, ,, such, a, wide, river, !, xxmaj, up, ...]</td>\n",
       "      <td>234</td>\n",
       "    </tr>\n",
       "    <tr>\n",
       "      <th>...</th>\n",
       "      <td>...</td>\n",
       "      <td>...</td>\n",
       "      <td>...</td>\n",
       "    </tr>\n",
       "    <tr>\n",
       "      <th>4836</th>\n",
       "      <td>-1.192043</td>\n",
       "      <td>[xxbos, xxmaj, by, gaining, its, independence, ,, the, xxmaj, united, xxmaj, states, had, set, a, practical, example, of, what, might, be, coiffure, elsewhere, in, xxmaj, america, ., xxmaj, translated, into, xxmaj, french, ,, the, xxmaj, declaration, of, xxmaj, independence, was, read, and, commented, upon, by, enthusiasts, who, dreamed, of, the, possibility, of, applying, its, principles, in, their, own, lands, ., xxmaj, more, powerful, still, were, the, ideas, liberated, by, the, xxmaj, french, xxmaj, revolution, and, xxmaj, napoleon, ., xxmaj, borne, across, the, ocean, ,, the, doctrine...</td>\n",
       "      <td>179</td>\n",
       "    </tr>\n",
       "    <tr>\n",
       "      <th>3930</th>\n",
       "      <td>-1.561510</td>\n",
       "      <td>[xxbos, xxmaj, once, upon, a, time, there, lived, in, a, certain, village, in, a, province, of, xxmaj, spain, called, the, xxmaj, mancha, ,, a, gentleman, named, xxmaj, quixada, or, xxmaj, queseda, ,, whose, house, was, full, of, old, lances, ,, halberds, ,, and, other, weapons, ., xxmaj, he, was, ,, besides, ,, the, owner, of, an, ancient, target, or, shield, ,, a, raw, -, boned, steed, ,, and, a, swift, greyhound, ., xxmaj, his, food, consisted, daily, of, common, meats, ,, some, lentils, on, xxmaj, fridays, ,, and, perhaps, a, roast, pigeon, for, xxmaj, sunday, 's, dinner, ., xxmaj, his...</td>\n",
       "      <td>202</td>\n",
       "    </tr>\n",
       "    <tr>\n",
       "      <th>7384</th>\n",
       "      <td>-1.366705</td>\n",
       "      <td>[xxbos, xxmaj, john, xxmaj, locke, ,, one, of, the, most, influential, xxmaj, enlightenment, thinkers, ,, based, his, governance, philosophy, in, social, contract, theory, ,, a, subject, that, permeated, xxmaj, enlightenment, political, thought, ., xxmaj, the, xxmaj, english, philosopher, xxmaj, thomas, xxmaj, hobbes, ushered, in, this, new, debate, with, his, work, xxmaj, leviathan, in, 1651, ., xxmaj, hobbes, also, developed, some, of, the, fundamentals, of, xxmaj, european, liberal, thought, :, the, right, of, the, individual, ;, the, rude, equality, of, all, men, ;, the, artificial, ch...</td>\n",
       "      <td>218</td>\n",
       "    </tr>\n",
       "    <tr>\n",
       "      <th>6669</th>\n",
       "      <td>-1.412705</td>\n",
       "      <td>[xxbos, xxmaj, now, ,, when, a, person, is, setting, off, to, discuss, the, relation, between, electricity, and, light, ,, it, is, very, natural, and, very, proper, to, pull, him, up, short, with, the, two, questions, :, \", what, do, you, mean, by, electricity, ?, \", and, \", what, do, you, mean, by, light, ?, \", xxmaj, these, two, questions, i, intend, to, try, briefly, to, answer, ., xxmaj, and, here, let, me, observe, that, in, answering, these, fundamental, questions, ,, i, do, not, necessarily, assume, a, fundamental, ignorance, on, your, part, of, these, two, agents, ,, but, rather, t...</td>\n",
       "      <td>244</td>\n",
       "    </tr>\n",
       "    <tr>\n",
       "      <th>3220</th>\n",
       "      <td>0.516561</td>\n",
       "      <td>[xxbos, xxmaj, we, constantly, link, different, things, together, :, new, kids, and, their, names, ,, faces, and, voices, ,, green, eggs, and, ham, ., xxmaj, how, does, our, brain, achieve, this, ?, xxmaj, the, purpose, of, this, study, was, to, understand, how, the, brain, creates, these, links, ., xxmaj, what, happens, in, brain, cells, when, we, learn, that, two, things, (, e.g., ,, a, new, kid, and, her, name, ), go, together, ?, xxmaj, in, an, experiment, we, asked, human, participants, to, learn, to, link, different, items, together, ., xxmaj, as, the, participants, get, word, these,...</td>\n",
       "      <td>178</td>\n",
       "    </tr>\n",
       "  </tbody>\n",
       "</table>\n",
       "<p>2223 rows × 3 columns</p>\n",
       "</div>"
      ],
      "text/plain": [
       "        target  \\\n",
       "5539 -0.801707   \n",
       "6239 -2.175943   \n",
       "1523 -0.899951   \n",
       "1550 -1.074708   \n",
       "7166 -1.398764   \n",
       "...        ...   \n",
       "4836 -1.192043   \n",
       "3930 -1.561510   \n",
       "7384 -1.366705   \n",
       "6669 -1.412705   \n",
       "3220  0.516561   \n",
       "\n",
       "                                                                                                                                                                                                                                                                                                                                                                                                                                                                                                                                                                                                                         text  \\\n",
       "5539  [xxbos, xxmaj, coral, reefs, are, diverse, underwater, ecosystems, held, together, by, calcium, carbonate, structures, secreted, by, corals, ., xxmaj, coral, reefs, are, built, by, colonies, of, tiny, animals, found, in, marine, waters, that, contain, few, nutrients, ., xxmaj, most, coral, reefs, are, built, from, stony, corals, ,, which, in, turn, consist, of, polyps, that, cluster, in, groups, ., xxmaj, the, polyps, belong, to, a, group, of, animals, known, as, xxmaj, cnidaria, ,, which, also, includes, sea, anemones, and, jellyfish, ., xxmaj, unlike, sea, anemones, ,, corals, secrete, h...   \n",
       "6239  [xxbos, xxmaj, warsaw, ,, xxmaj, dec, ., 5, ,, (, by, xxmaj, courier, to, petrograd.)—i, have, wired, you, previously, of, the, xxmaj, german, force, which, advanced, around, xxmaj, lodz, and, was, cut, off, south, and, east, of, the, town, ., xxmaj, this, consisted, of, two, army, corps, —, the, xxmaj, twenty-5th, xxmaj, corps, and, the, xxmaj, third, xxmaj, guard, xxmaj, corps, ., xxmaj, the, isolated, force, turned, north, and, endeavored, to, cut, its, way, out, through, the, small, town, of, xxmaj, breziziny, ., xxmaj, it, was, at, xxmaj, breziziny, that, final, disaster, overtook, th...   \n",
       "1523  [xxbos, xxmaj, the, xxmaj, shakespeare, society, of, xxmaj, new, xxmaj, york, ,, which, is, really, about, the, only, useful, literary, organization, in, this, country, ,, is, making, vigorous, efforts, to, redress, an, old, wrong, and, atone, for, a, long, neglect, ., xxmaj, sunday, ,, xxmaj, sept, ., 22, ,, it, held, a, meeting, at, the, xxmaj, poe, cottage, on, xxmaj, kingsbridge, road, near, xxmaj, fordham, ,, for, the, purpose, of, starting, an, organized, movement, to, buy, back, the, cottage, ,, restore, it, to, its, original, condition, and, preserve, it, as, a, memorial, of, xxmaj...   \n",
       "1550  [xxbos, xxmaj, your, slippers, are, new, ,, \", he, said, ., \", you, could, not, have, had, them, more, than, a, few, weeks, ., xxmaj, the, soles, which, you, are, at, this, moment, presenting, to, me, are, slightly, scorched, ., xxmaj, for, a, moment, i, thought, they, might, have, got, wet, and, been, burned, in, the, drying, ., xxmaj, but, near, the, instep, there, is, a, small, circular, wafer, of, paper, with, the, shopman, 's, hieroglyphics, upon, it, ., xxmaj, damp, would, of, course, have, removed, this, ., xxmaj, you, had, ,, then, ,, been, sitting, with, your, feet, outstretched, ...   \n",
       "7166                                       [xxbos, xxmaj, the, xxmaj, baba, xxmaj, yaga, ,, bony, of, limb, ,, quickly, jumped, into, her, mortar, ,, sent, it, flying, along, with, the, pestle, ,, sweeping, away, the, while, all, traces, of, its, flight, with, a, broom, ,, and, set, off, in, pursuit, of, the, girl, ., xxmaj, then, the, girl, put, her, ear, to, the, ground, ,, and, when, she, heard, that, the, xxmaj, baba, xxmaj, yaga, was, chasing, her, ,, and, was, now, close, at, hand, ,, she, flung, down, the, towel, ., xxmaj, and, it, became, a, wide, ,, such, a, wide, river, !, xxmaj, up, ...]   \n",
       "...                                                                                                                                                                                                                                                                                                                                                                                                                                                                                                                                                                                                                       ...   \n",
       "4836  [xxbos, xxmaj, by, gaining, its, independence, ,, the, xxmaj, united, xxmaj, states, had, set, a, practical, example, of, what, might, be, coiffure, elsewhere, in, xxmaj, america, ., xxmaj, translated, into, xxmaj, french, ,, the, xxmaj, declaration, of, xxmaj, independence, was, read, and, commented, upon, by, enthusiasts, who, dreamed, of, the, possibility, of, applying, its, principles, in, their, own, lands, ., xxmaj, more, powerful, still, were, the, ideas, liberated, by, the, xxmaj, french, xxmaj, revolution, and, xxmaj, napoleon, ., xxmaj, borne, across, the, ocean, ,, the, doctrine...   \n",
       "3930  [xxbos, xxmaj, once, upon, a, time, there, lived, in, a, certain, village, in, a, province, of, xxmaj, spain, called, the, xxmaj, mancha, ,, a, gentleman, named, xxmaj, quixada, or, xxmaj, queseda, ,, whose, house, was, full, of, old, lances, ,, halberds, ,, and, other, weapons, ., xxmaj, he, was, ,, besides, ,, the, owner, of, an, ancient, target, or, shield, ,, a, raw, -, boned, steed, ,, and, a, swift, greyhound, ., xxmaj, his, food, consisted, daily, of, common, meats, ,, some, lentils, on, xxmaj, fridays, ,, and, perhaps, a, roast, pigeon, for, xxmaj, sunday, 's, dinner, ., xxmaj, his...   \n",
       "7384  [xxbos, xxmaj, john, xxmaj, locke, ,, one, of, the, most, influential, xxmaj, enlightenment, thinkers, ,, based, his, governance, philosophy, in, social, contract, theory, ,, a, subject, that, permeated, xxmaj, enlightenment, political, thought, ., xxmaj, the, xxmaj, english, philosopher, xxmaj, thomas, xxmaj, hobbes, ushered, in, this, new, debate, with, his, work, xxmaj, leviathan, in, 1651, ., xxmaj, hobbes, also, developed, some, of, the, fundamentals, of, xxmaj, european, liberal, thought, :, the, right, of, the, individual, ;, the, rude, equality, of, all, men, ;, the, artificial, ch...   \n",
       "6669  [xxbos, xxmaj, now, ,, when, a, person, is, setting, off, to, discuss, the, relation, between, electricity, and, light, ,, it, is, very, natural, and, very, proper, to, pull, him, up, short, with, the, two, questions, :, \", what, do, you, mean, by, electricity, ?, \", and, \", what, do, you, mean, by, light, ?, \", xxmaj, these, two, questions, i, intend, to, try, briefly, to, answer, ., xxmaj, and, here, let, me, observe, that, in, answering, these, fundamental, questions, ,, i, do, not, necessarily, assume, a, fundamental, ignorance, on, your, part, of, these, two, agents, ,, but, rather, t...   \n",
       "3220  [xxbos, xxmaj, we, constantly, link, different, things, together, :, new, kids, and, their, names, ,, faces, and, voices, ,, green, eggs, and, ham, ., xxmaj, how, does, our, brain, achieve, this, ?, xxmaj, the, purpose, of, this, study, was, to, understand, how, the, brain, creates, these, links, ., xxmaj, what, happens, in, brain, cells, when, we, learn, that, two, things, (, e.g., ,, a, new, kid, and, her, name, ), go, together, ?, xxmaj, in, an, experiment, we, asked, human, participants, to, learn, to, link, different, items, together, ., xxmaj, as, the, participants, get, word, these,...   \n",
       "\n",
       "      text_length  \n",
       "5539          214  \n",
       "6239          198  \n",
       "1523          187  \n",
       "1550          247  \n",
       "7166          234  \n",
       "...           ...  \n",
       "4836          179  \n",
       "3930          202  \n",
       "7384          218  \n",
       "6669          244  \n",
       "3220          178  \n",
       "\n",
       "[2223 rows x 3 columns]"
      ]
     },
     "execution_count": 46,
     "metadata": {},
     "output_type": "execute_result"
    }
   ],
   "source": [
    "dls.valid.items"
   ]
  },
  {
   "cell_type": "code",
   "execution_count": 47,
   "id": "heated-baghdad",
   "metadata": {
    "execution": {
     "iopub.execute_input": "2021-07-01T07:54:39.351815Z",
     "iopub.status.busy": "2021-07-01T07:54:39.350556Z",
     "iopub.status.idle": "2021-07-01T07:54:39.355152Z",
     "shell.execute_reply": "2021-07-01T07:54:39.354561Z"
    },
    "papermill": {
     "duration": 0.099303,
     "end_time": "2021-07-01T07:54:39.355301",
     "exception": false,
     "start_time": "2021-07-01T07:54:39.255998",
     "status": "completed"
    },
    "tags": []
   },
   "outputs": [],
   "source": [
    "text_classifier_learner?"
   ]
  },
  {
   "cell_type": "code",
   "execution_count": 48,
   "id": "brazilian-louisiana",
   "metadata": {
    "execution": {
     "iopub.execute_input": "2021-07-01T07:54:39.526816Z",
     "iopub.status.busy": "2021-07-01T07:54:39.525964Z",
     "iopub.status.idle": "2021-07-01T07:54:39.530630Z",
     "shell.execute_reply": "2021-07-01T07:54:39.530058Z"
    },
    "papermill": {
     "duration": 0.094236,
     "end_time": "2021-07-01T07:54:39.530795",
     "exception": false,
     "start_time": "2021-07-01T07:54:39.436559",
     "status": "completed"
    },
    "tags": []
   },
   "outputs": [],
   "source": [
    "F.mse_loss?"
   ]
  },
  {
   "cell_type": "code",
   "execution_count": 49,
   "id": "unauthorized-catalog",
   "metadata": {
    "execution": {
     "iopub.execute_input": "2021-07-01T07:54:39.707744Z",
     "iopub.status.busy": "2021-07-01T07:54:39.706828Z",
     "iopub.status.idle": "2021-07-01T07:54:39.711396Z",
     "shell.execute_reply": "2021-07-01T07:54:39.710870Z"
    },
    "papermill": {
     "duration": 0.098929,
     "end_time": "2021-07-01T07:54:39.711534",
     "exception": false,
     "start_time": "2021-07-01T07:54:39.612605",
     "status": "completed"
    },
    "tags": []
   },
   "outputs": [],
   "source": [
    "text_classifier_learner?"
   ]
  },
  {
   "cell_type": "markdown",
   "id": "exact-registration",
   "metadata": {
    "papermill": {
     "duration": 0.079801,
     "end_time": "2021-07-01T07:54:39.871465",
     "exception": false,
     "start_time": "2021-07-01T07:54:39.791664",
     "status": "completed"
    },
    "tags": []
   },
   "source": [
    "custom loss function"
   ]
  },
  {
   "cell_type": "code",
   "execution_count": 50,
   "id": "phantom-luxembourg",
   "metadata": {
    "execution": {
     "iopub.execute_input": "2021-07-01T07:54:40.039069Z",
     "iopub.status.busy": "2021-07-01T07:54:40.038075Z",
     "iopub.status.idle": "2021-07-01T07:54:41.174601Z",
     "shell.execute_reply": "2021-07-01T07:54:41.173929Z",
     "shell.execute_reply.started": "2021-07-01T07:26:55.836099Z"
    },
    "papermill": {
     "duration": 1.22342,
     "end_time": "2021-07-01T07:54:41.174767",
     "exception": false,
     "start_time": "2021-07-01T07:54:39.951347",
     "status": "completed"
    },
    "tags": []
   },
   "outputs": [],
   "source": [
    "learn = text_classifier_learner(dls, AWD_LSTM, drop_mult=0.5,\n",
    "                                metrics=rmse)"
   ]
  },
  {
   "cell_type": "markdown",
   "id": "leading-religious",
   "metadata": {
    "papermill": {
     "duration": 0.081864,
     "end_time": "2021-07-01T07:54:41.338169",
     "exception": false,
     "start_time": "2021-07-01T07:54:41.256305",
     "status": "completed"
    },
    "tags": []
   },
   "source": [
    "loading the encoder"
   ]
  },
  {
   "cell_type": "code",
   "execution_count": 51,
   "id": "flexible-burlington",
   "metadata": {
    "execution": {
     "iopub.execute_input": "2021-07-01T07:54:41.504795Z",
     "iopub.status.busy": "2021-07-01T07:54:41.503859Z",
     "iopub.status.idle": "2021-07-01T07:54:41.507148Z",
     "shell.execute_reply": "2021-07-01T07:54:41.507618Z",
     "shell.execute_reply.started": "2021-07-01T07:27:03.171408Z"
    },
    "papermill": {
     "duration": 0.089137,
     "end_time": "2021-07-01T07:54:41.507814",
     "exception": false,
     "start_time": "2021-07-01T07:54:41.418677",
     "status": "completed"
    },
    "tags": []
   },
   "outputs": [],
   "source": [
    "learn.path = Path(\".\")"
   ]
  },
  {
   "cell_type": "code",
   "execution_count": 52,
   "id": "finite-corps",
   "metadata": {
    "execution": {
     "iopub.execute_input": "2021-07-01T07:54:41.674211Z",
     "iopub.status.busy": "2021-07-01T07:54:41.672504Z",
     "iopub.status.idle": "2021-07-01T07:54:41.748559Z",
     "shell.execute_reply": "2021-07-01T07:54:41.747916Z",
     "shell.execute_reply.started": "2021-07-01T07:27:05.746670Z"
    },
    "papermill": {
     "duration": 0.161007,
     "end_time": "2021-07-01T07:54:41.748714",
     "exception": false,
     "start_time": "2021-07-01T07:54:41.587707",
     "status": "completed"
    },
    "tags": []
   },
   "outputs": [],
   "source": [
    "learn = learn.load_encoder('./final_encoder')"
   ]
  },
  {
   "cell_type": "code",
   "execution_count": 53,
   "id": "focused-trick",
   "metadata": {
    "execution": {
     "iopub.execute_input": "2021-07-01T07:54:41.918590Z",
     "iopub.status.busy": "2021-07-01T07:54:41.917447Z",
     "iopub.status.idle": "2021-07-01T07:55:45.533227Z",
     "shell.execute_reply": "2021-07-01T07:55:45.533892Z",
     "shell.execute_reply.started": "2021-07-01T07:27:07.194571Z"
    },
    "papermill": {
     "duration": 63.703544,
     "end_time": "2021-07-01T07:55:45.534135",
     "exception": false,
     "start_time": "2021-07-01T07:54:41.830591",
     "status": "completed"
    },
    "tags": []
   },
   "outputs": [
    {
     "data": {
      "text/html": [
       "<table border=\"1\" class=\"dataframe\">\n",
       "  <thead>\n",
       "    <tr style=\"text-align: left;\">\n",
       "      <th>epoch</th>\n",
       "      <th>train_loss</th>\n",
       "      <th>valid_loss</th>\n",
       "      <th>_rmse</th>\n",
       "      <th>time</th>\n",
       "    </tr>\n",
       "  </thead>\n",
       "  <tbody>\n",
       "    <tr>\n",
       "      <td>0</td>\n",
       "      <td>0.595025</td>\n",
       "      <td>0.426995</td>\n",
       "      <td>0.653448</td>\n",
       "      <td>01:03</td>\n",
       "    </tr>\n",
       "  </tbody>\n",
       "</table>"
      ],
      "text/plain": [
       "<IPython.core.display.HTML object>"
      ]
     },
     "metadata": {},
     "output_type": "display_data"
    }
   ],
   "source": [
    "learn.fit_one_cycle(1, 2e-2)"
   ]
  },
  {
   "cell_type": "code",
   "execution_count": 54,
   "id": "brutal-fiber",
   "metadata": {
    "execution": {
     "iopub.execute_input": "2021-07-01T07:55:45.710987Z",
     "iopub.status.busy": "2021-07-01T07:55:45.710195Z",
     "iopub.status.idle": "2021-07-01T07:55:45.715855Z",
     "shell.execute_reply": "2021-07-01T07:55:45.715180Z"
    },
    "papermill": {
     "duration": 0.096473,
     "end_time": "2021-07-01T07:55:45.715996",
     "exception": false,
     "start_time": "2021-07-01T07:55:45.619523",
     "status": "completed"
    },
    "tags": []
   },
   "outputs": [],
   "source": [
    "learn.lr_find?"
   ]
  },
  {
   "cell_type": "code",
   "execution_count": 55,
   "id": "limited-genesis",
   "metadata": {
    "execution": {
     "iopub.execute_input": "2021-07-01T07:55:45.886253Z",
     "iopub.status.busy": "2021-07-01T07:55:45.885165Z",
     "iopub.status.idle": "2021-07-01T07:55:53.360564Z",
     "shell.execute_reply": "2021-07-01T07:55:53.361141Z"
    },
    "papermill": {
     "duration": 7.563874,
     "end_time": "2021-07-01T07:55:53.361331",
     "exception": false,
     "start_time": "2021-07-01T07:55:45.797457",
     "status": "completed"
    },
    "tags": []
   },
   "outputs": [
    {
     "data": {
      "text/html": [],
      "text/plain": [
       "<IPython.core.display.HTML object>"
      ]
     },
     "metadata": {},
     "output_type": "display_data"
    },
    {
     "data": {
      "image/png": "[encoded data removed]",
      "text/plain": [
       "<Figure size 432x288 with 1 Axes>"
      ]
     },
     "metadata": {
      "needs_background": "light"
     },
     "output_type": "display_data"
    }
   ],
   "source": [
    "suggested_lrs = learn.lr_find()"
   ]
  },
  {
   "cell_type": "code",
   "execution_count": 56,
   "id": "divine-money",
   "metadata": {
    "execution": {
     "iopub.execute_input": "2021-07-01T07:55:53.533555Z",
     "iopub.status.busy": "2021-07-01T07:55:53.532708Z",
     "iopub.status.idle": "2021-07-01T07:55:53.538742Z",
     "shell.execute_reply": "2021-07-01T07:55:53.538215Z"
    },
    "papermill": {
     "duration": 0.094776,
     "end_time": "2021-07-01T07:55:53.538914",
     "exception": false,
     "start_time": "2021-07-01T07:55:53.444138",
     "status": "completed"
    },
    "tags": []
   },
   "outputs": [
    {
     "name": "stdout",
     "output_type": "stream",
     "text": [
      "min/10:  3.63e-06,     steepest point:  3.31e-06\n"
     ]
    }
   ],
   "source": [
    "print(f\"min/10: {suggested_lrs.lr_min: .2e},\\\n",
    "     steepest point: {suggested_lrs.lr_steep: .2e}\")"
   ]
  },
  {
   "cell_type": "code",
   "execution_count": 57,
   "id": "overall-turner",
   "metadata": {
    "execution": {
     "iopub.execute_input": "2021-07-01T07:55:53.709722Z",
     "iopub.status.busy": "2021-07-01T07:55:53.709124Z",
     "iopub.status.idle": "2021-07-01T07:57:03.588126Z",
     "shell.execute_reply": "2021-07-01T07:57:03.587517Z",
     "shell.execute_reply.started": "2021-07-01T07:28:20.433649Z"
    },
    "papermill": {
     "duration": 69.965715,
     "end_time": "2021-07-01T07:57:03.588333",
     "exception": false,
     "start_time": "2021-07-01T07:55:53.622618",
     "status": "completed"
    },
    "tags": []
   },
   "outputs": [
    {
     "data": {
      "text/html": [
       "<table border=\"1\" class=\"dataframe\">\n",
       "  <thead>\n",
       "    <tr style=\"text-align: left;\">\n",
       "      <th>epoch</th>\n",
       "      <th>train_loss</th>\n",
       "      <th>valid_loss</th>\n",
       "      <th>_rmse</th>\n",
       "      <th>time</th>\n",
       "    </tr>\n",
       "  </thead>\n",
       "  <tbody>\n",
       "    <tr>\n",
       "      <td>0</td>\n",
       "      <td>0.511866</td>\n",
       "      <td>0.371616</td>\n",
       "      <td>0.609603</td>\n",
       "      <td>01:09</td>\n",
       "    </tr>\n",
       "  </tbody>\n",
       "</table>"
      ],
      "text/plain": [
       "<IPython.core.display.HTML object>"
      ]
     },
     "metadata": {},
     "output_type": "display_data"
    }
   ],
   "source": [
    "learn.freeze_to(-2)\n",
    "learn.fit_one_cycle(1, slice(1e-2/(2.6**4),1e-2))"
   ]
  },
  {
   "cell_type": "code",
   "execution_count": 58,
   "id": "known-gathering",
   "metadata": {
    "execution": {
     "iopub.execute_input": "2021-07-01T07:57:03.764336Z",
     "iopub.status.busy": "2021-07-01T07:57:03.763450Z",
     "iopub.status.idle": "2021-07-01T07:57:03.768495Z",
     "shell.execute_reply": "2021-07-01T07:57:03.767953Z"
    },
    "papermill": {
     "duration": 0.093829,
     "end_time": "2021-07-01T07:57:03.768629",
     "exception": false,
     "start_time": "2021-07-01T07:57:03.674800",
     "status": "completed"
    },
    "tags": []
   },
   "outputs": [],
   "source": [
    "#suggested_lrs = learn.lr_find()"
   ]
  },
  {
   "cell_type": "code",
   "execution_count": 59,
   "id": "formal-cleaners",
   "metadata": {
    "execution": {
     "iopub.execute_input": "2021-07-01T07:57:03.941084Z",
     "iopub.status.busy": "2021-07-01T07:57:03.940010Z",
     "iopub.status.idle": "2021-07-01T07:58:40.782330Z",
     "shell.execute_reply": "2021-07-01T07:58:40.781689Z",
     "shell.execute_reply.started": "2021-07-01T07:29:38.559441Z"
    },
    "papermill": {
     "duration": 96.93126,
     "end_time": "2021-07-01T07:58:40.782489",
     "exception": false,
     "start_time": "2021-07-01T07:57:03.851229",
     "status": "completed"
    },
    "tags": []
   },
   "outputs": [
    {
     "data": {
      "text/html": [
       "<table border=\"1\" class=\"dataframe\">\n",
       "  <thead>\n",
       "    <tr style=\"text-align: left;\">\n",
       "      <th>epoch</th>\n",
       "      <th>train_loss</th>\n",
       "      <th>valid_loss</th>\n",
       "      <th>_rmse</th>\n",
       "      <th>time</th>\n",
       "    </tr>\n",
       "  </thead>\n",
       "  <tbody>\n",
       "    <tr>\n",
       "      <td>0</td>\n",
       "      <td>0.451876</td>\n",
       "      <td>0.283105</td>\n",
       "      <td>0.532076</td>\n",
       "      <td>01:36</td>\n",
       "    </tr>\n",
       "  </tbody>\n",
       "</table>"
      ],
      "text/plain": [
       "<IPython.core.display.HTML object>"
      ]
     },
     "metadata": {},
     "output_type": "display_data"
    }
   ],
   "source": [
    "learn.freeze_to(-3)\n",
    "learn.fit_one_cycle(1, slice(5e-3/(2.6**4),5e-3))"
   ]
  },
  {
   "cell_type": "code",
   "execution_count": 60,
   "id": "mounted-split",
   "metadata": {
    "execution": {
     "iopub.execute_input": "2021-07-01T07:58:40.958415Z",
     "iopub.status.busy": "2021-07-01T07:58:40.957474Z",
     "iopub.status.idle": "2021-07-01T07:58:40.962549Z",
     "shell.execute_reply": "2021-07-01T07:58:40.961642Z"
    },
    "papermill": {
     "duration": 0.094047,
     "end_time": "2021-07-01T07:58:40.962710",
     "exception": false,
     "start_time": "2021-07-01T07:58:40.868663",
     "status": "completed"
    },
    "tags": []
   },
   "outputs": [],
   "source": [
    "#suggested_lrs = learn.lr_find()"
   ]
  },
  {
   "cell_type": "code",
   "execution_count": 61,
   "id": "acoustic-fundamental",
   "metadata": {
    "execution": {
     "iopub.execute_input": "2021-07-01T07:58:41.137074Z",
     "iopub.status.busy": "2021-07-01T07:58:41.134823Z",
     "iopub.status.idle": "2021-07-01T08:02:48.458048Z",
     "shell.execute_reply": "2021-07-01T08:02:48.456999Z",
     "shell.execute_reply.started": "2021-07-01T07:31:37.377534Z"
    },
    "papermill": {
     "duration": 247.411417,
     "end_time": "2021-07-01T08:02:48.458277",
     "exception": false,
     "start_time": "2021-07-01T07:58:41.046860",
     "status": "completed"
    },
    "tags": []
   },
   "outputs": [
    {
     "data": {
      "text/html": [
       "<table border=\"1\" class=\"dataframe\">\n",
       "  <thead>\n",
       "    <tr style=\"text-align: left;\">\n",
       "      <th>epoch</th>\n",
       "      <th>train_loss</th>\n",
       "      <th>valid_loss</th>\n",
       "      <th>_rmse</th>\n",
       "      <th>time</th>\n",
       "    </tr>\n",
       "  </thead>\n",
       "  <tbody>\n",
       "    <tr>\n",
       "      <td>0</td>\n",
       "      <td>0.360491</td>\n",
       "      <td>0.245865</td>\n",
       "      <td>0.495847</td>\n",
       "      <td>02:04</td>\n",
       "    </tr>\n",
       "    <tr>\n",
       "      <td>1</td>\n",
       "      <td>0.350834</td>\n",
       "      <td>0.208301</td>\n",
       "      <td>0.456401</td>\n",
       "      <td>02:03</td>\n",
       "    </tr>\n",
       "  </tbody>\n",
       "</table>"
      ],
      "text/plain": [
       "<IPython.core.display.HTML object>"
      ]
     },
     "metadata": {},
     "output_type": "display_data"
    }
   ],
   "source": [
    "learn.unfreeze()\n",
    "learn.fit_one_cycle(2, slice(1e-3/(2.6**4),1e-3))"
   ]
  },
  {
   "cell_type": "code",
   "execution_count": 62,
   "id": "nearby-surprise",
   "metadata": {
    "execution": {
     "iopub.execute_input": "2021-07-01T08:02:48.770426Z",
     "iopub.status.busy": "2021-07-01T08:02:48.768554Z",
     "iopub.status.idle": "2021-07-01T08:02:48.774191Z",
     "shell.execute_reply": "2021-07-01T08:02:48.773505Z"
    },
    "papermill": {
     "duration": 0.135154,
     "end_time": "2021-07-01T08:02:48.774397",
     "exception": false,
     "start_time": "2021-07-01T08:02:48.639243",
     "status": "completed"
    },
    "tags": []
   },
   "outputs": [
    {
     "data": {
      "text/html": [
       "<div>\n",
       "<style scoped>\n",
       "    .dataframe tbody tr th:only-of-type {\n",
       "        vertical-align: middle;\n",
       "    }\n",
       "\n",
       "    .dataframe tbody tr th {\n",
       "        vertical-align: top;\n",
       "    }\n",
       "\n",
       "    .dataframe thead th {\n",
       "        text-align: right;\n",
       "    }\n",
       "</style>\n",
       "<table border=\"1\" class=\"dataframe\">\n",
       "  <thead>\n",
       "    <tr style=\"text-align: right;\">\n",
       "      <th></th>\n",
       "      <th>id</th>\n",
       "      <th>url_legal</th>\n",
       "      <th>license</th>\n",
       "      <th>excerpt</th>\n",
       "    </tr>\n",
       "  </thead>\n",
       "  <tbody>\n",
       "    <tr>\n",
       "      <th>0</th>\n",
       "      <td>c0f722661</td>\n",
       "      <td>NaN</td>\n",
       "      <td>NaN</td>\n",
       "      <td>My hope lay in Jack's promise that he would keep a bright light burning in the upper story to guide me on my course. On a clear night this light was visible from the village, but somehow or other I failed to take into account the state of the weather. The air was full of eddying flakes, which would render the headlight of a locomotive invisible a hundred yards distant. Strange that this important fact never occurred to me until I was fully a fourth of a mile from the village. Then, after looking in vain for the beacon light, the danger of my situation struck me, and I halted.\\n\"I am certai...</td>\n",
       "    </tr>\n",
       "    <tr>\n",
       "      <th>1</th>\n",
       "      <td>f0953f0a5</td>\n",
       "      <td>NaN</td>\n",
       "      <td>NaN</td>\n",
       "      <td>Dotty continued to go to Mrs. Gray's every night with the milk. Sometimes Katie went with her, and then they always paused a while under the acorn-tree and played \"King and Queen.\" Dotty said she wished they could ever remember to bring their nipperkins, for in that case the milk would taste a great deal more like nectar. The \"nipperkins\" were a pair of handled cups which the children supposed to be silver, and which they always used at table.\\nDotty knew she was doing wrong every time she played \"King and Queen.\" She knew the milk was not hers, but Mrs. Gray's; still she said to herself, ...</td>\n",
       "    </tr>\n",
       "    <tr>\n",
       "      <th>2</th>\n",
       "      <td>0df072751</td>\n",
       "      <td>NaN</td>\n",
       "      <td>NaN</td>\n",
       "      <td>It was a bright and cheerful scene that greeted the eyes of Captain Raymond and his son as they entered the parlor of the adjacent cottage.\\nIt was strictly a family gathering, yet the room was quite full. Mr. Dinsmore was there with his wife, his daughter Elsie and her children, Edward and Zoe, Elsie Leland with her husband and babe, Violet Raymond with her husband's two little girls, Lulu and Grace, and lastly Rosie and Walter.\\nEverybody had a kindly greeting for the captain, and Violet's bright face grew still brighter as she made room for him on the sofa by her side.\\n\"We were beginni...</td>\n",
       "    </tr>\n",
       "  </tbody>\n",
       "</table>\n",
       "</div>"
      ],
      "text/plain": [
       "          id url_legal license  \\\n",
       "0  c0f722661       NaN     NaN   \n",
       "1  f0953f0a5       NaN     NaN   \n",
       "2  0df072751       NaN     NaN   \n",
       "\n",
       "                                                                                                                                                                                                                                                                                                                                                                                                                                                                                                                                                                                                                   excerpt  \n",
       "0  My hope lay in Jack's promise that he would keep a bright light burning in the upper story to guide me on my course. On a clear night this light was visible from the village, but somehow or other I failed to take into account the state of the weather. The air was full of eddying flakes, which would render the headlight of a locomotive invisible a hundred yards distant. Strange that this important fact never occurred to me until I was fully a fourth of a mile from the village. Then, after looking in vain for the beacon light, the danger of my situation struck me, and I halted.\\n\"I am certai...  \n",
       "1  Dotty continued to go to Mrs. Gray's every night with the milk. Sometimes Katie went with her, and then they always paused a while under the acorn-tree and played \"King and Queen.\" Dotty said she wished they could ever remember to bring their nipperkins, for in that case the milk would taste a great deal more like nectar. The \"nipperkins\" were a pair of handled cups which the children supposed to be silver, and which they always used at table.\\nDotty knew she was doing wrong every time she played \"King and Queen.\" She knew the milk was not hers, but Mrs. Gray's; still she said to herself, ...  \n",
       "2  It was a bright and cheerful scene that greeted the eyes of Captain Raymond and his son as they entered the parlor of the adjacent cottage.\\nIt was strictly a family gathering, yet the room was quite full. Mr. Dinsmore was there with his wife, his daughter Elsie and her children, Edward and Zoe, Elsie Leland with her husband and babe, Violet Raymond with her husband's two little girls, Lulu and Grace, and lastly Rosie and Walter.\\nEverybody had a kindly greeting for the captain, and Violet's bright face grew still brighter as she made room for him on the sofa by her side.\\n\"We were beginni...  "
      ]
     },
     "execution_count": 62,
     "metadata": {},
     "output_type": "execute_result"
    }
   ],
   "source": [
    "df_test.head(3)"
   ]
  },
  {
   "cell_type": "code",
   "execution_count": 63,
   "id": "affiliated-surfing",
   "metadata": {
    "execution": {
     "iopub.execute_input": "2021-07-01T08:02:48.964309Z",
     "iopub.status.busy": "2021-07-01T08:02:48.963158Z",
     "iopub.status.idle": "2021-07-01T08:02:48.967013Z",
     "shell.execute_reply": "2021-07-01T08:02:48.966402Z"
    },
    "papermill": {
     "duration": 0.101521,
     "end_time": "2021-07-01T08:02:48.967198",
     "exception": false,
     "start_time": "2021-07-01T08:02:48.865677",
     "status": "completed"
    },
    "tags": []
   },
   "outputs": [],
   "source": [
    "text = df_test.loc[0].excerpt\n",
    "target = df_train.loc[0].target"
   ]
  },
  {
   "cell_type": "code",
   "execution_count": 64,
   "id": "thirty-spanish",
   "metadata": {
    "execution": {
     "iopub.execute_input": "2021-07-01T08:02:49.158884Z",
     "iopub.status.busy": "2021-07-01T08:02:49.156506Z",
     "iopub.status.idle": "2021-07-01T08:02:49.161939Z",
     "shell.execute_reply": "2021-07-01T08:02:49.161255Z"
    },
    "papermill": {
     "duration": 0.103187,
     "end_time": "2021-07-01T08:02:49.162092",
     "exception": false,
     "start_time": "2021-07-01T08:02:49.058905",
     "status": "completed"
    },
    "tags": []
   },
   "outputs": [
    {
     "data": {
      "text/plain": [
       "'My hope lay in Jack\\'s promise that he would keep a bright light burning in the upper story to guide me on my course. On a clear night this light was visible from the village, but somehow or other I failed to take into account the state of the weather. The air was full of eddying flakes, which would render the headlight of a locomotive invisible a hundred yards distant. Strange that this important fact never occurred to me until I was fully a fourth of a mile from the village. Then, after looking in vain for the beacon light, the danger of my situation struck me, and I halted.\\n\"I am certain to go wrong,\" I said to myself.\\n\"It is out of my power to follow a direct course without something to serve as a compass. I will go back to the village and wait till morning.\"'"
      ]
     },
     "execution_count": 64,
     "metadata": {},
     "output_type": "execute_result"
    }
   ],
   "source": [
    "text"
   ]
  },
  {
   "cell_type": "code",
   "execution_count": 65,
   "id": "martial-membership",
   "metadata": {
    "execution": {
     "iopub.execute_input": "2021-07-01T08:02:49.349773Z",
     "iopub.status.busy": "2021-07-01T08:02:49.349092Z",
     "iopub.status.idle": "2021-07-01T08:02:49.353992Z",
     "shell.execute_reply": "2021-07-01T08:02:49.353384Z"
    },
    "papermill": {
     "duration": 0.101222,
     "end_time": "2021-07-01T08:02:49.354156",
     "exception": false,
     "start_time": "2021-07-01T08:02:49.252934",
     "status": "completed"
    },
    "tags": []
   },
   "outputs": [],
   "source": [
    "text2 = df_test.loc[1].excerpt\n",
    "target2 = df_train.loc[1].target"
   ]
  },
  {
   "cell_type": "code",
   "execution_count": 66,
   "id": "chief-moldova",
   "metadata": {
    "execution": {
     "iopub.execute_input": "2021-07-01T08:02:49.545936Z",
     "iopub.status.busy": "2021-07-01T08:02:49.544673Z",
     "iopub.status.idle": "2021-07-01T08:02:49.550633Z",
     "shell.execute_reply": "2021-07-01T08:02:49.551100Z"
    },
    "papermill": {
     "duration": 0.103474,
     "end_time": "2021-07-01T08:02:49.551286",
     "exception": false,
     "start_time": "2021-07-01T08:02:49.447812",
     "status": "completed"
    },
    "tags": []
   },
   "outputs": [
    {
     "data": {
      "text/plain": [
       "('Dotty continued to go to Mrs. Gray\\'s every night with the milk. Sometimes Katie went with her, and then they always paused a while under the acorn-tree and played \"King and Queen.\" Dotty said she wished they could ever remember to bring their nipperkins, for in that case the milk would taste a great deal more like nectar. The \"nipperkins\" were a pair of handled cups which the children supposed to be silver, and which they always used at table.\\nDotty knew she was doing wrong every time she played \"King and Queen.\" She knew the milk was not hers, but Mrs. Gray\\'s; still she said to herself, \"Ruthie needn\\'t give so much measure, all pressed down and run over. If Queenie and I should drink a great deal more, there would always be a quart left. Yes, I know there would.\"\\nMrs. Gray never said anything about the milk; she merely poured it out in a pan, and gave back the pail to Dotty, asking her at the same time as many questions as the child would stay to hear.',\n",
       " -0.31537234199999997)"
      ]
     },
     "execution_count": 66,
     "metadata": {},
     "output_type": "execute_result"
    }
   ],
   "source": [
    "(text2,target2)"
   ]
  },
  {
   "cell_type": "code",
   "execution_count": 67,
   "id": "african-leader",
   "metadata": {
    "execution": {
     "iopub.execute_input": "2021-07-01T08:02:49.748607Z",
     "iopub.status.busy": "2021-07-01T08:02:49.747448Z",
     "iopub.status.idle": "2021-07-01T08:02:49.854328Z",
     "shell.execute_reply": "2021-07-01T08:02:49.853626Z"
    },
    "papermill": {
     "duration": 0.209877,
     "end_time": "2021-07-01T08:02:49.854465",
     "exception": false,
     "start_time": "2021-07-01T08:02:49.644588",
     "status": "completed"
    },
    "tags": []
   },
   "outputs": [
    {
     "data": {
      "text/html": [],
      "text/plain": [
       "<IPython.core.display.HTML object>"
      ]
     },
     "metadata": {},
     "output_type": "display_data"
    },
    {
     "data": {
      "text/plain": [
       "((-0.5232691764831543), tensor([-0.5233]), tensor([-0.5233]))"
      ]
     },
     "execution_count": 67,
     "metadata": {},
     "output_type": "execute_result"
    }
   ],
   "source": [
    "learn.predict(text2)"
   ]
  },
  {
   "cell_type": "code",
   "execution_count": 68,
   "id": "external-evans",
   "metadata": {
    "execution": {
     "iopub.execute_input": "2021-07-01T08:02:50.049658Z",
     "iopub.status.busy": "2021-07-01T08:02:50.048857Z",
     "iopub.status.idle": "2021-07-01T08:02:50.053287Z",
     "shell.execute_reply": "2021-07-01T08:02:50.052549Z"
    },
    "papermill": {
     "duration": 0.104045,
     "end_time": "2021-07-01T08:02:50.053469",
     "exception": false,
     "start_time": "2021-07-01T08:02:49.949424",
     "status": "completed"
    },
    "tags": []
   },
   "outputs": [],
   "source": [
    "text3 = df_test.loc[2].excerpt\n",
    "target3 = df_train.loc[2].target"
   ]
  },
  {
   "cell_type": "code",
   "execution_count": 69,
   "id": "cognitive-amount",
   "metadata": {
    "execution": {
     "iopub.execute_input": "2021-07-01T08:02:50.244534Z",
     "iopub.status.busy": "2021-07-01T08:02:50.241813Z",
     "iopub.status.idle": "2021-07-01T08:02:50.247463Z",
     "shell.execute_reply": "2021-07-01T08:02:50.246885Z"
    },
    "papermill": {
     "duration": 0.103768,
     "end_time": "2021-07-01T08:02:50.247591",
     "exception": false,
     "start_time": "2021-07-01T08:02:50.143823",
     "status": "completed"
    },
    "tags": []
   },
   "outputs": [
    {
     "data": {
      "text/plain": [
       "('It was a bright and cheerful scene that greeted the eyes of Captain Raymond and his son as they entered the parlor of the adjacent cottage.\\nIt was strictly a family gathering, yet the room was quite full. Mr. Dinsmore was there with his wife, his daughter Elsie and her children, Edward and Zoe, Elsie Leland with her husband and babe, Violet Raymond with her husband\\'s two little girls, Lulu and Grace, and lastly Rosie and Walter.\\nEverybody had a kindly greeting for the captain, and Violet\\'s bright face grew still brighter as she made room for him on the sofa by her side.\\n\"We were beginning to wonder what was keeping you,\" she said.\\n\"Yes, I\\'m afraid I am rather behind time,\" he returned. \"I hope you have not delayed your tea for me, Mrs. Dinsmore.\"\\n\"No; it is but just ready,\" she said. \"Ah, there\\'s the bell. Please, all of you walk out.\"\\nWhen the meal was over all returned to the parlor, where they spent the next hour in desultory chat.',\n",
       " -0.580117966)"
      ]
     },
     "execution_count": 69,
     "metadata": {},
     "output_type": "execute_result"
    }
   ],
   "source": [
    "(text3,target3)"
   ]
  },
  {
   "cell_type": "code",
   "execution_count": 70,
   "id": "charged-opera",
   "metadata": {
    "execution": {
     "iopub.execute_input": "2021-07-01T08:02:50.450190Z",
     "iopub.status.busy": "2021-07-01T08:02:50.448978Z",
     "iopub.status.idle": "2021-07-01T08:02:50.527915Z",
     "shell.execute_reply": "2021-07-01T08:02:50.528507Z"
    },
    "papermill": {
     "duration": 0.188087,
     "end_time": "2021-07-01T08:02:50.528669",
     "exception": false,
     "start_time": "2021-07-01T08:02:50.340582",
     "status": "completed"
    },
    "tags": []
   },
   "outputs": [
    {
     "data": {
      "text/html": [],
      "text/plain": [
       "<IPython.core.display.HTML object>"
      ]
     },
     "metadata": {},
     "output_type": "display_data"
    },
    {
     "data": {
      "text/plain": [
       "((-0.20019595324993134), tensor([-0.2002]), tensor([-0.2002]))"
      ]
     },
     "execution_count": 70,
     "metadata": {},
     "output_type": "execute_result"
    }
   ],
   "source": [
    "learn.predict(text3)"
   ]
  },
  {
   "cell_type": "code",
   "execution_count": 71,
   "id": "fifty-anniversary",
   "metadata": {
    "execution": {
     "iopub.execute_input": "2021-07-01T08:02:50.725700Z",
     "iopub.status.busy": "2021-07-01T08:02:50.724563Z",
     "iopub.status.idle": "2021-07-01T08:02:50.728725Z",
     "shell.execute_reply": "2021-07-01T08:02:50.728231Z"
    },
    "papermill": {
     "duration": 0.103619,
     "end_time": "2021-07-01T08:02:50.728875",
     "exception": false,
     "start_time": "2021-07-01T08:02:50.625256",
     "status": "completed"
    },
    "tags": []
   },
   "outputs": [],
   "source": [
    "learn.path=Path(\".\")"
   ]
  },
  {
   "cell_type": "code",
   "execution_count": 72,
   "id": "governing-probability",
   "metadata": {
    "execution": {
     "iopub.execute_input": "2021-07-01T08:02:50.964112Z",
     "iopub.status.busy": "2021-07-01T08:02:50.923052Z",
     "iopub.status.idle": "2021-07-01T08:02:51.513115Z",
     "shell.execute_reply": "2021-07-01T08:02:51.512484Z"
    },
    "papermill": {
     "duration": 0.69078,
     "end_time": "2021-07-01T08:02:51.513305",
     "exception": false,
     "start_time": "2021-07-01T08:02:50.822525",
     "status": "completed"
    },
    "tags": []
   },
   "outputs": [],
   "source": [
    "learn.export(\"./final_model\")"
   ]
  },
  {
   "cell_type": "code",
   "execution_count": null,
   "id": "electronic-mattress",
   "metadata": {
    "papermill": {
     "duration": 0.167483,
     "end_time": "2021-07-01T08:02:51.780136",
     "exception": false,
     "start_time": "2021-07-01T08:02:51.612653",
     "status": "completed"
    },
    "tags": []
   },
   "outputs": [],
   "source": []
  }
 ],
 "metadata": {
  "kernelspec": {
   "display_name": "Python 3",
   "language": "python",
   "name": "python3"
  },
  "language_info": {
   "codemirror_mode": {
    "name": "ipython",
    "version": 3
   },
   "file_extension": ".py",
   "mimetype": "text/x-python",
   "name": "python",
   "nbconvert_exporter": "python",
   "pygments_lexer": "ipython3",
   "version": "3.7.9"
  },
  "papermill": {
   "default_parameters": {},
   "duration": 1545.432299,
   "end_time": "2021-07-01T08:02:54.513986",
   "environment_variables": {},
   "exception": null,
   "input_path": "__notebook__.ipynb",
   "output_path": "__notebook__.ipynb",
   "parameters": {},
   "start_time": "2021-07-01T07:37:09.081687",
   "version": "2.3.2"
  }
 },
 "nbformat": 4,
 "nbformat_minor": 5
}
