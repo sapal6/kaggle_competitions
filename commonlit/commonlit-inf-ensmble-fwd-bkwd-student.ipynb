{
 "cells": [
  {
   "cell_type": "code",
   "execution_count": 1,
   "id": "026253bd",
   "metadata": {
    "execution": {
     "iopub.execute_input": "2021-07-31T01:35:58.259972Z",
     "iopub.status.busy": "2021-07-31T01:35:58.258945Z",
     "iopub.status.idle": "2021-07-31T01:36:24.022941Z",
     "shell.execute_reply": "2021-07-31T01:36:24.022077Z",
     "shell.execute_reply.started": "2021-07-31T01:33:27.551088Z"
    },
    "papermill": {
     "duration": 25.781159,
     "end_time": "2021-07-31T01:36:24.023120",
     "exception": false,
     "start_time": "2021-07-31T01:35:58.241961",
     "status": "completed"
    },
    "tags": []
   },
   "outputs": [
    {
     "name": "stdout",
     "output_type": "stream",
     "text": [
      "Looking in links: ../input/commonlit-pkgs-offline-download\r\n",
      "Processing /kaggle/input/commonlit-pkgs-offline-download/spacy-3.1.1-cp37-cp37m-manylinux_2_17_x86_64.manylinux2014_x86_64.whl\r\n",
      "Requirement already satisfied: pydantic!=1.8,!=1.8.1,<1.9.0,>=1.7.4 in /opt/conda/lib/python3.7/site-packages (from spacy==3.1.1) (1.8.2)\r\n",
      "Requirement already satisfied: packaging>=20.0 in /opt/conda/lib/python3.7/site-packages (from spacy==3.1.1) (20.9)\r\n",
      "Processing /kaggle/input/commonlit-pkgs-offline-download/spacy_legacy-3.0.8-py2.py3-none-any.whl\r\n",
      "Requirement already satisfied: typing-extensions<4.0.0.0,>=3.7.4 in /opt/conda/lib/python3.7/site-packages (from spacy==3.1.1) (3.7.4.3)\r\n",
      "Requirement already satisfied: tqdm<5.0.0,>=4.38.0 in /opt/conda/lib/python3.7/site-packages (from spacy==3.1.1) (4.61.1)\r\n",
      "Requirement already satisfied: setuptools in /opt/conda/lib/python3.7/site-packages (from spacy==3.1.1) (49.6.0.post20210108)\r\n",
      "Requirement already satisfied: preshed<3.1.0,>=3.0.2 in /opt/conda/lib/python3.7/site-packages (from spacy==3.1.1) (3.0.5)\r\n",
      "Requirement already satisfied: blis<0.8.0,>=0.4.0 in /opt/conda/lib/python3.7/site-packages (from spacy==3.1.1) (0.7.4)\r\n",
      "Requirement already satisfied: numpy>=1.15.0 in /opt/conda/lib/python3.7/site-packages (from spacy==3.1.1) (1.19.5)\r\n",
      "Processing /kaggle/input/commonlit-pkgs-offline-download/typer-0.3.2-py3-none-any.whl\r\n",
      "Requirement already satisfied: murmurhash<1.1.0,>=0.28.0 in /opt/conda/lib/python3.7/site-packages (from spacy==3.1.1) (1.0.5)\r\n",
      "Processing /kaggle/input/commonlit-pkgs-offline-download/catalogue-2.0.4-py3-none-any.whl\r\n",
      "Requirement already satisfied: requests<3.0.0,>=2.13.0 in /opt/conda/lib/python3.7/site-packages (from spacy==3.1.1) (2.25.1)\r\n",
      "Processing /kaggle/input/commonlit-pkgs-offline-download/pathy-0.6.0-py3-none-any.whl\r\n",
      "Requirement already satisfied: jinja2 in /opt/conda/lib/python3.7/site-packages (from spacy==3.1.1) (3.0.1)\r\n",
      "Processing /kaggle/input/commonlit-pkgs-offline-download/thinc-8.0.8-cp37-cp37m-manylinux_2_17_x86_64.manylinux2014_x86_64.whl\r\n",
      "Requirement already satisfied: cymem<2.1.0,>=2.0.2 in /opt/conda/lib/python3.7/site-packages (from spacy==3.1.1) (2.0.5)\r\n",
      "Processing /kaggle/input/commonlit-pkgs-offline-download/srsly-2.4.1-cp37-cp37m-manylinux2014_x86_64.whl\r\n",
      "Requirement already satisfied: wasabi<1.1.0,>=0.8.1 in /opt/conda/lib/python3.7/site-packages (from spacy==3.1.1) (0.8.2)\r\n",
      "Requirement already satisfied: zipp>=0.5 in /opt/conda/lib/python3.7/site-packages (from catalogue<2.1.0,>=2.0.4->spacy==3.1.1) (3.4.1)\r\n",
      "Requirement already satisfied: pyparsing>=2.0.2 in /opt/conda/lib/python3.7/site-packages (from packaging>=20.0->spacy==3.1.1) (2.4.7)\r\n",
      "Requirement already satisfied: smart-open<6.0.0,>=5.0.0 in /opt/conda/lib/python3.7/site-packages (from pathy>=0.3.5->spacy==3.1.1) (5.1.0)\r\n",
      "Requirement already satisfied: urllib3<1.27,>=1.21.1 in /opt/conda/lib/python3.7/site-packages (from requests<3.0.0,>=2.13.0->spacy==3.1.1) (1.26.5)\r\n",
      "Requirement already satisfied: idna<3,>=2.5 in /opt/conda/lib/python3.7/site-packages (from requests<3.0.0,>=2.13.0->spacy==3.1.1) (2.10)\r\n",
      "Requirement already satisfied: certifi>=2017.4.17 in /opt/conda/lib/python3.7/site-packages (from requests<3.0.0,>=2.13.0->spacy==3.1.1) (2021.5.30)\r\n",
      "Requirement already satisfied: chardet<5,>=3.0.2 in /opt/conda/lib/python3.7/site-packages (from requests<3.0.0,>=2.13.0->spacy==3.1.1) (4.0.0)\r\n",
      "Requirement already satisfied: click<7.2.0,>=7.1.1 in /opt/conda/lib/python3.7/site-packages (from typer<0.4.0,>=0.3.0->spacy==3.1.1) (7.1.2)\r\n",
      "Requirement already satisfied: MarkupSafe>=2.0 in /opt/conda/lib/python3.7/site-packages (from jinja2->spacy==3.1.1) (2.0.1)\r\n",
      "Installing collected packages: catalogue, typer, srsly, thinc, spacy-legacy, pathy, spacy\r\n",
      "  Attempting uninstall: catalogue\r\n",
      "    Found existing installation: catalogue 1.0.0\r\n",
      "    Uninstalling catalogue-1.0.0:\r\n",
      "      Successfully uninstalled catalogue-1.0.0\r\n",
      "  Attempting uninstall: srsly\r\n",
      "    Found existing installation: srsly 1.0.5\r\n",
      "    Uninstalling srsly-1.0.5:\r\n",
      "      Successfully uninstalled srsly-1.0.5\r\n",
      "  Attempting uninstall: thinc\r\n",
      "    Found existing installation: thinc 7.4.5\r\n",
      "    Uninstalling thinc-7.4.5:\r\n",
      "      Successfully uninstalled thinc-7.4.5\r\n",
      "  Attempting uninstall: spacy\r\n",
      "    Found existing installation: spacy 2.3.7\r\n",
      "    Uninstalling spacy-2.3.7:\r\n",
      "      Successfully uninstalled spacy-2.3.7\r\n",
      "\u001b[31mERROR: pip's dependency resolver does not currently take into account all the packages that are installed. This behaviour is the source of the following dependency conflicts.\r\n",
      "fastai 2.2.7 requires spacy<3, but you have spacy 3.1.1 which is incompatible.\r\n",
      "en-core-web-sm 2.3.1 requires spacy<2.4.0,>=2.3.0, but you have spacy 3.1.1 which is incompatible.\r\n",
      "en-core-web-lg 2.3.1 requires spacy<2.4.0,>=2.3.0, but you have spacy 3.1.1 which is incompatible.\r\n",
      "allennlp 2.5.0 requires spacy<3.1,>=2.1.0, but you have spacy 3.1.1 which is incompatible.\u001b[0m\r\n",
      "Successfully installed catalogue-2.0.4 pathy-0.6.0 spacy-3.1.1 spacy-legacy-3.0.8 srsly-2.4.1 thinc-8.0.8 typer-0.3.2\r\n",
      "\u001b[33mWARNING: Running pip as root will break packages and permissions. You should install packages reliably by using venv: https://pip.pypa.io/warnings/venv\u001b[0m\r\n"
     ]
    }
   ],
   "source": [
    "!pip install --no-index --find-links=\"../input/commonlit-pkgs-offline-download\" spacy==3.1.1"
   ]
  },
  {
   "cell_type": "code",
   "execution_count": 2,
   "id": "8bce62e0",
   "metadata": {
    "execution": {
     "iopub.execute_input": "2021-07-31T01:36:24.069552Z",
     "iopub.status.busy": "2021-07-31T01:36:24.065662Z",
     "iopub.status.idle": "2021-07-31T01:37:13.005412Z",
     "shell.execute_reply": "2021-07-31T01:37:13.004742Z",
     "shell.execute_reply.started": "2021-07-31T01:33:59.125167Z"
    },
    "papermill": {
     "duration": 48.962981,
     "end_time": "2021-07-31T01:37:13.005691",
     "exception": false,
     "start_time": "2021-07-31T01:36:24.042710",
     "status": "completed"
    },
    "tags": []
   },
   "outputs": [
    {
     "name": "stdout",
     "output_type": "stream",
     "text": [
      "Looking in links: ../input/commonlit-pkgs-offline-download\r\n",
      "Processing /kaggle/input/commonlit-pkgs-offline-download/fastai-2.4.1-py3-none-any.whl\r\n",
      "Requirement already satisfied: pip in /opt/conda/lib/python3.7/site-packages (from fastai==2.4.1) (21.1.2)\r\n",
      "Requirement already satisfied: pandas in /opt/conda/lib/python3.7/site-packages (from fastai==2.4.1) (1.2.4)\r\n",
      "Requirement already satisfied: spacy<4 in /opt/conda/lib/python3.7/site-packages (from fastai==2.4.1) (3.1.1)\r\n",
      "Requirement already satisfied: matplotlib in /opt/conda/lib/python3.7/site-packages (from fastai==2.4.1) (3.4.2)\r\n",
      "Requirement already satisfied: pyyaml in /opt/conda/lib/python3.7/site-packages (from fastai==2.4.1) (5.4.1)\r\n",
      "Requirement already satisfied: fastprogress>=0.2.4 in /opt/conda/lib/python3.7/site-packages (from fastai==2.4.1) (1.0.0)\r\n",
      "Requirement already satisfied: scipy in /opt/conda/lib/python3.7/site-packages (from fastai==2.4.1) (1.6.3)\r\n",
      "Requirement already satisfied: packaging in /opt/conda/lib/python3.7/site-packages (from fastai==2.4.1) (20.9)\r\n",
      "Requirement already satisfied: pillow>6.0.0 in /opt/conda/lib/python3.7/site-packages (from fastai==2.4.1) (8.2.0)\r\n",
      "Processing /kaggle/input/commonlit-pkgs-offline-download/torchvision-0.10.0-cp37-cp37m-manylinux1_x86_64.whl\r\n",
      "Requirement already satisfied: requests in /opt/conda/lib/python3.7/site-packages (from fastai==2.4.1) (2.25.1)\r\n",
      "Requirement already satisfied: scikit-learn in /opt/conda/lib/python3.7/site-packages (from fastai==2.4.1) (0.23.2)\r\n",
      "Requirement already satisfied: fastcore<1.4,>=1.3.8 in /opt/conda/lib/python3.7/site-packages (from fastai==2.4.1) (1.3.20)\r\n",
      "Requirement already satisfied: torch<1.10,>=1.7.0 in /opt/conda/lib/python3.7/site-packages (from fastai==2.4.1) (1.7.0)\r\n",
      "Requirement already satisfied: numpy in /opt/conda/lib/python3.7/site-packages (from fastprogress>=0.2.4->fastai==2.4.1) (1.19.5)\r\n",
      "Requirement already satisfied: murmurhash<1.1.0,>=0.28.0 in /opt/conda/lib/python3.7/site-packages (from spacy<4->fastai==2.4.1) (1.0.5)\r\n",
      "Requirement already satisfied: setuptools in /opt/conda/lib/python3.7/site-packages (from spacy<4->fastai==2.4.1) (49.6.0.post20210108)\r\n",
      "Requirement already satisfied: jinja2 in /opt/conda/lib/python3.7/site-packages (from spacy<4->fastai==2.4.1) (3.0.1)\r\n",
      "Requirement already satisfied: blis<0.8.0,>=0.4.0 in /opt/conda/lib/python3.7/site-packages (from spacy<4->fastai==2.4.1) (0.7.4)\r\n",
      "Requirement already satisfied: spacy-legacy<3.1.0,>=3.0.7 in /opt/conda/lib/python3.7/site-packages (from spacy<4->fastai==2.4.1) (3.0.8)\r\n",
      "Requirement already satisfied: pydantic!=1.8,!=1.8.1,<1.9.0,>=1.7.4 in /opt/conda/lib/python3.7/site-packages (from spacy<4->fastai==2.4.1) (1.8.2)\r\n",
      "Requirement already satisfied: thinc<8.1.0,>=8.0.8 in /opt/conda/lib/python3.7/site-packages (from spacy<4->fastai==2.4.1) (8.0.8)\r\n",
      "Requirement already satisfied: wasabi<1.1.0,>=0.8.1 in /opt/conda/lib/python3.7/site-packages (from spacy<4->fastai==2.4.1) (0.8.2)\r\n",
      "Requirement already satisfied: catalogue<2.1.0,>=2.0.4 in /opt/conda/lib/python3.7/site-packages (from spacy<4->fastai==2.4.1) (2.0.4)\r\n",
      "Requirement already satisfied: srsly<3.0.0,>=2.4.1 in /opt/conda/lib/python3.7/site-packages (from spacy<4->fastai==2.4.1) (2.4.1)\r\n",
      "Requirement already satisfied: pathy>=0.3.5 in /opt/conda/lib/python3.7/site-packages (from spacy<4->fastai==2.4.1) (0.6.0)\r\n",
      "Requirement already satisfied: typer<0.4.0,>=0.3.0 in /opt/conda/lib/python3.7/site-packages (from spacy<4->fastai==2.4.1) (0.3.2)\r\n",
      "Requirement already satisfied: preshed<3.1.0,>=3.0.2 in /opt/conda/lib/python3.7/site-packages (from spacy<4->fastai==2.4.1) (3.0.5)\r\n",
      "Requirement already satisfied: tqdm<5.0.0,>=4.38.0 in /opt/conda/lib/python3.7/site-packages (from spacy<4->fastai==2.4.1) (4.61.1)\r\n",
      "Requirement already satisfied: typing-extensions<4.0.0.0,>=3.7.4 in /opt/conda/lib/python3.7/site-packages (from spacy<4->fastai==2.4.1) (3.7.4.3)\r\n",
      "Requirement already satisfied: cymem<2.1.0,>=2.0.2 in /opt/conda/lib/python3.7/site-packages (from spacy<4->fastai==2.4.1) (2.0.5)\r\n",
      "Requirement already satisfied: zipp>=0.5 in /opt/conda/lib/python3.7/site-packages (from catalogue<2.1.0,>=2.0.4->spacy<4->fastai==2.4.1) (3.4.1)\r\n",
      "Requirement already satisfied: pyparsing>=2.0.2 in /opt/conda/lib/python3.7/site-packages (from packaging->fastai==2.4.1) (2.4.7)\r\n",
      "Requirement already satisfied: smart-open<6.0.0,>=5.0.0 in /opt/conda/lib/python3.7/site-packages (from pathy>=0.3.5->spacy<4->fastai==2.4.1) (5.1.0)\r\n",
      "Requirement already satisfied: idna<3,>=2.5 in /opt/conda/lib/python3.7/site-packages (from requests->fastai==2.4.1) (2.10)\r\n",
      "Requirement already satisfied: certifi>=2017.4.17 in /opt/conda/lib/python3.7/site-packages (from requests->fastai==2.4.1) (2021.5.30)\r\n",
      "Requirement already satisfied: chardet<5,>=3.0.2 in /opt/conda/lib/python3.7/site-packages (from requests->fastai==2.4.1) (4.0.0)\r\n",
      "Requirement already satisfied: urllib3<1.27,>=1.21.1 in /opt/conda/lib/python3.7/site-packages (from requests->fastai==2.4.1) (1.26.5)\r\n",
      "Requirement already satisfied: future in /opt/conda/lib/python3.7/site-packages (from torch<1.10,>=1.7.0->fastai==2.4.1) (0.18.2)\r\n",
      "Requirement already satisfied: dataclasses in /opt/conda/lib/python3.7/site-packages (from torch<1.10,>=1.7.0->fastai==2.4.1) (0.6)\r\n",
      "Processing /kaggle/input/commonlit-pkgs-offline-download/torch-1.9.0-cp37-cp37m-manylinux1_x86_64.whl\r\n",
      "Requirement already satisfied: click<7.2.0,>=7.1.1 in /opt/conda/lib/python3.7/site-packages (from typer<0.4.0,>=0.3.0->spacy<4->fastai==2.4.1) (7.1.2)\r\n",
      "Requirement already satisfied: MarkupSafe>=2.0 in /opt/conda/lib/python3.7/site-packages (from jinja2->spacy<4->fastai==2.4.1) (2.0.1)\r\n",
      "Requirement already satisfied: kiwisolver>=1.0.1 in /opt/conda/lib/python3.7/site-packages (from matplotlib->fastai==2.4.1) (1.3.1)\r\n",
      "Requirement already satisfied: cycler>=0.10 in /opt/conda/lib/python3.7/site-packages (from matplotlib->fastai==2.4.1) (0.10.0)\r\n",
      "Requirement already satisfied: python-dateutil>=2.7 in /opt/conda/lib/python3.7/site-packages (from matplotlib->fastai==2.4.1) (2.8.1)\r\n",
      "Requirement already satisfied: six in /opt/conda/lib/python3.7/site-packages (from cycler>=0.10->matplotlib->fastai==2.4.1) (1.15.0)\r\n",
      "Requirement already satisfied: pytz>=2017.3 in /opt/conda/lib/python3.7/site-packages (from pandas->fastai==2.4.1) (2021.1)\r\n",
      "Requirement already satisfied: joblib>=0.11 in /opt/conda/lib/python3.7/site-packages (from scikit-learn->fastai==2.4.1) (1.0.1)\r\n",
      "Requirement already satisfied: threadpoolctl>=2.0.0 in /opt/conda/lib/python3.7/site-packages (from scikit-learn->fastai==2.4.1) (2.1.0)\r\n",
      "Installing collected packages: torch, torchvision, fastai\r\n",
      "  Attempting uninstall: torch\r\n",
      "    Found existing installation: torch 1.7.0\r\n",
      "    Uninstalling torch-1.7.0:\r\n",
      "      Successfully uninstalled torch-1.7.0\r\n",
      "  Attempting uninstall: torchvision\r\n",
      "    Found existing installation: torchvision 0.8.1\r\n",
      "    Uninstalling torchvision-0.8.1:\r\n",
      "      Successfully uninstalled torchvision-0.8.1\r\n",
      "  Attempting uninstall: fastai\r\n",
      "    Found existing installation: fastai 2.2.7\r\n",
      "    Uninstalling fastai-2.2.7:\r\n",
      "      Successfully uninstalled fastai-2.2.7\r\n",
      "\u001b[31mERROR: pip's dependency resolver does not currently take into account all the packages that are installed. This behaviour is the source of the following dependency conflicts.\r\n",
      "kornia 0.5.5 requires numpy<=1.19, but you have numpy 1.19.5 which is incompatible.\r\n",
      "allennlp 2.5.0 requires spacy<3.1,>=2.1.0, but you have spacy 3.1.1 which is incompatible.\r\n",
      "allennlp 2.5.0 requires torch<1.9.0,>=1.6.0, but you have torch 1.9.0 which is incompatible.\r\n",
      "allennlp 2.5.0 requires torchvision<0.10.0,>=0.8.1, but you have torchvision 0.10.0 which is incompatible.\u001b[0m\r\n",
      "Successfully installed fastai-2.4.1 torch-1.9.0 torchvision-0.10.0\r\n",
      "\u001b[33mWARNING: Running pip as root will break packages and permissions. You should install packages reliably by using venv: https://pip.pypa.io/warnings/venv\u001b[0m\r\n"
     ]
    }
   ],
   "source": [
    "!pip install --no-index --find-links=\"../input/commonlit-pkgs-offline-download\" fastai==2.4.1"
   ]
  },
  {
   "cell_type": "markdown",
   "id": "32d48b86",
   "metadata": {
    "_cell_guid": "b1076dfc-b9ad-4769-8c92-a6c4dae69d19",
    "_uuid": "8f2839f25d086af736a60e9eeb907d3b93b6e0e5",
    "papermill": {
     "duration": 0.022541,
     "end_time": "2021-07-31T01:37:13.051526",
     "exception": false,
     "start_time": "2021-07-31T01:37:13.028985",
     "status": "completed"
    },
    "tags": []
   },
   "source": [
    "## Prepraring for inference"
   ]
  },
  {
   "cell_type": "markdown",
   "id": "cdc8645b",
   "metadata": {
    "papermill": {
     "duration": 0.022917,
     "end_time": "2021-07-31T01:37:13.097011",
     "exception": false,
     "start_time": "2021-07-31T01:37:13.074094",
     "status": "completed"
    },
    "tags": []
   },
   "source": [
    "### Preparing the data for inference"
   ]
  },
  {
   "cell_type": "code",
   "execution_count": 3,
   "id": "4b5648bc",
   "metadata": {
    "execution": {
     "iopub.execute_input": "2021-07-31T01:37:13.149547Z",
     "iopub.status.busy": "2021-07-31T01:37:13.148917Z",
     "iopub.status.idle": "2021-07-31T01:37:23.119150Z",
     "shell.execute_reply": "2021-07-31T01:37:23.118651Z",
     "shell.execute_reply.started": "2021-07-31T01:35:02.135149Z"
    },
    "papermill": {
     "duration": 9.999479,
     "end_time": "2021-07-31T01:37:23.119300",
     "exception": false,
     "start_time": "2021-07-31T01:37:13.119821",
     "status": "completed"
    },
    "tags": []
   },
   "outputs": [],
   "source": [
    "import glob\n",
    "import numpy\n",
    "from functools import partial\n",
    "from fastcore.all import *\n",
    "from fastai.text.all import *"
   ]
  },
  {
   "cell_type": "code",
   "execution_count": 4,
   "id": "b1ebeec8",
   "metadata": {
    "execution": {
     "iopub.execute_input": "2021-07-31T01:37:23.170639Z",
     "iopub.status.busy": "2021-07-31T01:37:23.169983Z",
     "iopub.status.idle": "2021-07-31T01:37:23.218665Z",
     "shell.execute_reply": "2021-07-31T01:37:23.219126Z",
     "shell.execute_reply.started": "2021-07-31T01:35:12.781320Z"
    },
    "papermill": {
     "duration": 0.077139,
     "end_time": "2021-07-31T01:37:23.219287",
     "exception": false,
     "start_time": "2021-07-31T01:37:23.142148",
     "status": "completed"
    },
    "tags": []
   },
   "outputs": [
    {
     "data": {
      "text/html": [
       "<div>\n",
       "<style scoped>\n",
       "    .dataframe tbody tr th:only-of-type {\n",
       "        vertical-align: middle;\n",
       "    }\n",
       "\n",
       "    .dataframe tbody tr th {\n",
       "        vertical-align: top;\n",
       "    }\n",
       "\n",
       "    .dataframe thead th {\n",
       "        text-align: right;\n",
       "    }\n",
       "</style>\n",
       "<table border=\"1\" class=\"dataframe\">\n",
       "  <thead>\n",
       "    <tr style=\"text-align: right;\">\n",
       "      <th></th>\n",
       "      <th>id</th>\n",
       "      <th>url_legal</th>\n",
       "      <th>license</th>\n",
       "      <th>excerpt</th>\n",
       "    </tr>\n",
       "  </thead>\n",
       "  <tbody>\n",
       "    <tr>\n",
       "      <th>0</th>\n",
       "      <td>c0f722661</td>\n",
       "      <td>NaN</td>\n",
       "      <td>NaN</td>\n",
       "      <td>My hope lay in Jack's promise that he would keep a bright light burning in the upper story to guide me on my course. On a clear night this light was visible from the village, but somehow or other I failed to take into account the state of the weather. The air was full of eddying flakes, which would render the headlight of a locomotive invisible a hundred yards distant. Strange that this important fact never occurred to me until I was fully a fourth of a mile from the village. Then, after looking in vain for the beacon light, the danger of my situation struck me, and I halted.\\n\"I am certai...</td>\n",
       "    </tr>\n",
       "    <tr>\n",
       "      <th>1</th>\n",
       "      <td>f0953f0a5</td>\n",
       "      <td>NaN</td>\n",
       "      <td>NaN</td>\n",
       "      <td>Dotty continued to go to Mrs. Gray's every night with the milk. Sometimes Katie went with her, and then they always paused a while under the acorn-tree and played \"King and Queen.\" Dotty said she wished they could ever remember to bring their nipperkins, for in that case the milk would taste a great deal more like nectar. The \"nipperkins\" were a pair of handled cups which the children supposed to be silver, and which they always used at table.\\nDotty knew she was doing wrong every time she played \"King and Queen.\" She knew the milk was not hers, but Mrs. Gray's; still she said to herself, ...</td>\n",
       "    </tr>\n",
       "    <tr>\n",
       "      <th>2</th>\n",
       "      <td>0df072751</td>\n",
       "      <td>NaN</td>\n",
       "      <td>NaN</td>\n",
       "      <td>It was a bright and cheerful scene that greeted the eyes of Captain Raymond and his son as they entered the parlor of the adjacent cottage.\\nIt was strictly a family gathering, yet the room was quite full. Mr. Dinsmore was there with his wife, his daughter Elsie and her children, Edward and Zoe, Elsie Leland with her husband and babe, Violet Raymond with her husband's two little girls, Lulu and Grace, and lastly Rosie and Walter.\\nEverybody had a kindly greeting for the captain, and Violet's bright face grew still brighter as she made room for him on the sofa by her side.\\n\"We were beginni...</td>\n",
       "    </tr>\n",
       "  </tbody>\n",
       "</table>\n",
       "</div>"
      ],
      "text/plain": [
       "          id url_legal license  \\\n",
       "0  c0f722661       NaN     NaN   \n",
       "1  f0953f0a5       NaN     NaN   \n",
       "2  0df072751       NaN     NaN   \n",
       "\n",
       "                                                                                                                                                                                                                                                                                                                                                                                                                                                                                                                                                                                                                   excerpt  \n",
       "0  My hope lay in Jack's promise that he would keep a bright light burning in the upper story to guide me on my course. On a clear night this light was visible from the village, but somehow or other I failed to take into account the state of the weather. The air was full of eddying flakes, which would render the headlight of a locomotive invisible a hundred yards distant. Strange that this important fact never occurred to me until I was fully a fourth of a mile from the village. Then, after looking in vain for the beacon light, the danger of my situation struck me, and I halted.\\n\"I am certai...  \n",
       "1  Dotty continued to go to Mrs. Gray's every night with the milk. Sometimes Katie went with her, and then they always paused a while under the acorn-tree and played \"King and Queen.\" Dotty said she wished they could ever remember to bring their nipperkins, for in that case the milk would taste a great deal more like nectar. The \"nipperkins\" were a pair of handled cups which the children supposed to be silver, and which they always used at table.\\nDotty knew she was doing wrong every time she played \"King and Queen.\" She knew the milk was not hers, but Mrs. Gray's; still she said to herself, ...  \n",
       "2  It was a bright and cheerful scene that greeted the eyes of Captain Raymond and his son as they entered the parlor of the adjacent cottage.\\nIt was strictly a family gathering, yet the room was quite full. Mr. Dinsmore was there with his wife, his daughter Elsie and her children, Edward and Zoe, Elsie Leland with her husband and babe, Violet Raymond with her husband's two little girls, Lulu and Grace, and lastly Rosie and Walter.\\nEverybody had a kindly greeting for the captain, and Violet's bright face grew still brighter as she made room for him on the sofa by her side.\\n\"We were beginni...  "
      ]
     },
     "execution_count": 4,
     "metadata": {},
     "output_type": "execute_result"
    }
   ],
   "source": [
    "df_test = pd.read_csv('../input/commonlitreadabilityprize/test.csv')\n",
    "df_test.head(3)"
   ]
  },
  {
   "cell_type": "code",
   "execution_count": 5,
   "id": "e6d3d92c",
   "metadata": {
    "execution": {
     "iopub.execute_input": "2021-07-31T01:37:23.271331Z",
     "iopub.status.busy": "2021-07-31T01:37:23.270589Z",
     "iopub.status.idle": "2021-07-31T01:37:23.274336Z",
     "shell.execute_reply": "2021-07-31T01:37:23.273890Z",
     "shell.execute_reply.started": "2021-07-31T01:35:12.823317Z"
    },
    "jupyter": {
     "source_hidden": true
    },
    "papermill": {
     "duration": 0.031505,
     "end_time": "2021-07-31T01:37:23.274477",
     "exception": false,
     "start_time": "2021-07-31T01:37:23.242972",
     "status": "completed"
    },
    "tags": []
   },
   "outputs": [
    {
     "data": {
      "text/plain": [
       "(7, 4)"
      ]
     },
     "execution_count": 5,
     "metadata": {},
     "output_type": "execute_result"
    }
   ],
   "source": [
    "df_test.shape"
   ]
  },
  {
   "cell_type": "markdown",
   "id": "d556fa70",
   "metadata": {
    "papermill": {
     "duration": 0.023279,
     "end_time": "2021-07-31T01:37:23.323454",
     "exception": false,
     "start_time": "2021-07-31T01:37:23.300175",
     "status": "completed"
    },
    "tags": []
   },
   "source": [
    "Getting the list of ids. This would later be used to create the submission file"
   ]
  },
  {
   "cell_type": "code",
   "execution_count": 6,
   "id": "b3151b69",
   "metadata": {
    "execution": {
     "iopub.execute_input": "2021-07-31T01:37:23.377740Z",
     "iopub.status.busy": "2021-07-31T01:37:23.376934Z",
     "iopub.status.idle": "2021-07-31T01:37:23.380893Z",
     "shell.execute_reply": "2021-07-31T01:37:23.380475Z",
     "shell.execute_reply.started": "2021-07-31T01:35:12.831764Z"
    },
    "papermill": {
     "duration": 0.034433,
     "end_time": "2021-07-31T01:37:23.381021",
     "exception": false,
     "start_time": "2021-07-31T01:37:23.346588",
     "status": "completed"
    },
    "tags": []
   },
   "outputs": [
    {
     "data": {
      "text/plain": [
       "['c0f722661', 'f0953f0a5']"
      ]
     },
     "execution_count": 6,
     "metadata": {},
     "output_type": "execute_result"
    }
   ],
   "source": [
    "ids = df_test.id.to_list()\n",
    "ids[:2]"
   ]
  },
  {
   "cell_type": "markdown",
   "id": "6ae3b77e",
   "metadata": {
    "papermill": {
     "duration": 0.023361,
     "end_time": "2021-07-31T01:37:23.428110",
     "exception": false,
     "start_time": "2021-07-31T01:37:23.404749",
     "status": "completed"
    },
    "tags": []
   },
   "source": [
    "Getting the excerpts to a list. This makes it easier to make predictions and later to create the submission file."
   ]
  },
  {
   "cell_type": "code",
   "execution_count": 7,
   "id": "21a4901b",
   "metadata": {
    "execution": {
     "iopub.execute_input": "2021-07-31T01:37:23.481235Z",
     "iopub.status.busy": "2021-07-31T01:37:23.480330Z",
     "iopub.status.idle": "2021-07-31T01:37:23.483113Z",
     "shell.execute_reply": "2021-07-31T01:37:23.482634Z",
     "shell.execute_reply.started": "2021-07-31T01:35:12.847199Z"
    },
    "papermill": {
     "duration": 0.030863,
     "end_time": "2021-07-31T01:37:23.483245",
     "exception": false,
     "start_time": "2021-07-31T01:37:23.452382",
     "status": "completed"
    },
    "tags": []
   },
   "outputs": [],
   "source": [
    "excerpts = df_test.excerpt.to_list()"
   ]
  },
  {
   "cell_type": "markdown",
   "id": "57b9ac55",
   "metadata": {
    "papermill": {
     "duration": 0.023173,
     "end_time": "2021-07-31T01:37:23.530051",
     "exception": false,
     "start_time": "2021-07-31T01:37:23.506878",
     "status": "completed"
    },
    "tags": []
   },
   "source": [
    "## Loading the model"
   ]
  },
  {
   "cell_type": "code",
   "execution_count": 8,
   "id": "a6da6571",
   "metadata": {
    "execution": {
     "iopub.execute_input": "2021-07-31T01:37:23.581333Z",
     "iopub.status.busy": "2021-07-31T01:37:23.580664Z",
     "iopub.status.idle": "2021-07-31T01:37:29.012882Z",
     "shell.execute_reply": "2021-07-31T01:37:29.011840Z",
     "shell.execute_reply.started": "2021-07-31T01:35:12.857484Z"
    },
    "papermill": {
     "duration": 5.459516,
     "end_time": "2021-07-31T01:37:29.013137",
     "exception": false,
     "start_time": "2021-07-31T01:37:23.553621",
     "status": "completed"
    },
    "tags": []
   },
   "outputs": [],
   "source": [
    "bkwd_model = load_learner('../input/common-lit-fwd-bkwd-training-on-pseudo-label/back_final_model')\n",
    "fwd_model = load_learner('../input/common-lit-fwd-bkwd-training-on-pseudo-label/forward_final_model')"
   ]
  },
  {
   "cell_type": "code",
   "execution_count": 9,
   "id": "804c124a",
   "metadata": {
    "execution": {
     "iopub.execute_input": "2021-07-31T01:37:29.097335Z",
     "iopub.status.busy": "2021-07-31T01:37:29.096384Z",
     "iopub.status.idle": "2021-07-31T01:37:29.614259Z",
     "shell.execute_reply": "2021-07-31T01:37:29.613806Z",
     "shell.execute_reply.started": "2021-07-31T01:35:24.022771Z"
    },
    "papermill": {
     "duration": 0.564457,
     "end_time": "2021-07-31T01:37:29.614392",
     "exception": false,
     "start_time": "2021-07-31T01:37:29.049935",
     "status": "completed"
    },
    "tags": []
   },
   "outputs": [
    {
     "data": {
      "text/html": [],
      "text/plain": [
       "<IPython.core.display.HTML object>"
      ]
     },
     "metadata": {},
     "output_type": "display_data"
    },
    {
     "data": {
      "text/plain": [
       "-1.3602588176727295"
      ]
     },
     "execution_count": 9,
     "metadata": {},
     "output_type": "execute_result"
    }
   ],
   "source": [
    "bkwd_model.predict(excerpts[0])[0][0]"
   ]
  },
  {
   "cell_type": "markdown",
   "id": "e1ce710e",
   "metadata": {
    "papermill": {
     "duration": 0.02412,
     "end_time": "2021-07-31T01:37:29.662870",
     "exception": false,
     "start_time": "2021-07-31T01:37:29.638750",
     "status": "completed"
    },
    "tags": []
   },
   "source": [
    "# Predictions"
   ]
  },
  {
   "cell_type": "code",
   "execution_count": 10,
   "id": "a58e336d",
   "metadata": {
    "execution": {
     "iopub.execute_input": "2021-07-31T01:37:29.717901Z",
     "iopub.status.busy": "2021-07-31T01:37:29.717006Z",
     "iopub.status.idle": "2021-07-31T01:37:29.720009Z",
     "shell.execute_reply": "2021-07-31T01:37:29.719531Z",
     "shell.execute_reply.started": "2021-07-31T01:35:24.488103Z"
    },
    "papermill": {
     "duration": 0.032526,
     "end_time": "2021-07-31T01:37:29.720158",
     "exception": false,
     "start_time": "2021-07-31T01:37:29.687632",
     "status": "completed"
    },
    "tags": []
   },
   "outputs": [],
   "source": [
    "def ensamble(excerpts, bkwd_model, fwd_model):\n",
    "    bkwd_preds = np.array([bkwd_model.predict(excerpt)[0][0] for excerpt in excerpts])\n",
    "    fwd_preds = np.array([fwd_model.predict(excerpt)[0][0] for excerpt in excerpts])\n",
    "    return np.mean([bkwd_preds, fwd_preds], axis=0)"
   ]
  },
  {
   "cell_type": "code",
   "execution_count": 11,
   "id": "4f6bedec",
   "metadata": {
    "execution": {
     "iopub.execute_input": "2021-07-31T01:37:29.781243Z",
     "iopub.status.busy": "2021-07-31T01:37:29.778012Z",
     "iopub.status.idle": "2021-07-31T01:37:36.249656Z",
     "shell.execute_reply": "2021-07-31T01:37:36.248839Z",
     "shell.execute_reply.started": "2021-07-31T01:35:24.496786Z"
    },
    "papermill": {
     "duration": 6.505132,
     "end_time": "2021-07-31T01:37:36.249855",
     "exception": false,
     "start_time": "2021-07-31T01:37:29.744723",
     "status": "completed"
    },
    "tags": []
   },
   "outputs": [
    {
     "data": {
      "text/html": [],
      "text/plain": [
       "<IPython.core.display.HTML object>"
      ]
     },
     "metadata": {},
     "output_type": "display_data"
    },
    {
     "data": {
      "text/html": [],
      "text/plain": [
       "<IPython.core.display.HTML object>"
      ]
     },
     "metadata": {},
     "output_type": "display_data"
    },
    {
     "data": {
      "text/html": [],
      "text/plain": [
       "<IPython.core.display.HTML object>"
      ]
     },
     "metadata": {},
     "output_type": "display_data"
    },
    {
     "data": {
      "text/html": [],
      "text/plain": [
       "<IPython.core.display.HTML object>"
      ]
     },
     "metadata": {},
     "output_type": "display_data"
    },
    {
     "data": {
      "text/html": [],
      "text/plain": [
       "<IPython.core.display.HTML object>"
      ]
     },
     "metadata": {},
     "output_type": "display_data"
    },
    {
     "data": {
      "text/html": [],
      "text/plain": [
       "<IPython.core.display.HTML object>"
      ]
     },
     "metadata": {},
     "output_type": "display_data"
    },
    {
     "data": {
      "text/html": [],
      "text/plain": [
       "<IPython.core.display.HTML object>"
      ]
     },
     "metadata": {},
     "output_type": "display_data"
    },
    {
     "data": {
      "text/html": [],
      "text/plain": [
       "<IPython.core.display.HTML object>"
      ]
     },
     "metadata": {},
     "output_type": "display_data"
    },
    {
     "data": {
      "text/html": [],
      "text/plain": [
       "<IPython.core.display.HTML object>"
      ]
     },
     "metadata": {},
     "output_type": "display_data"
    },
    {
     "data": {
      "text/html": [],
      "text/plain": [
       "<IPython.core.display.HTML object>"
      ]
     },
     "metadata": {},
     "output_type": "display_data"
    },
    {
     "data": {
      "text/html": [],
      "text/plain": [
       "<IPython.core.display.HTML object>"
      ]
     },
     "metadata": {},
     "output_type": "display_data"
    },
    {
     "data": {
      "text/html": [],
      "text/plain": [
       "<IPython.core.display.HTML object>"
      ]
     },
     "metadata": {},
     "output_type": "display_data"
    },
    {
     "data": {
      "text/html": [],
      "text/plain": [
       "<IPython.core.display.HTML object>"
      ]
     },
     "metadata": {},
     "output_type": "display_data"
    },
    {
     "data": {
      "text/html": [],
      "text/plain": [
       "<IPython.core.display.HTML object>"
      ]
     },
     "metadata": {},
     "output_type": "display_data"
    }
   ],
   "source": [
    "predictions = ensamble(excerpts, bkwd_model, fwd_model)\n",
    "#predictions = [float(\"{0:.2f}\".format(pred.item())) for pred in ensamble(bkwd_model, fwd_model, excerpts)]\n",
    "#predictions = [float(\"{0:.2f}\".format(model.predict(excerpt)[0][0])) for excerpt in excerpts]"
   ]
  },
  {
   "cell_type": "markdown",
   "id": "6705ec22",
   "metadata": {
    "papermill": {
     "duration": 0.028798,
     "end_time": "2021-07-31T01:37:36.316480",
     "exception": false,
     "start_time": "2021-07-31T01:37:36.287682",
     "status": "completed"
    },
    "tags": []
   },
   "source": [
    "# Creating the submission file"
   ]
  },
  {
   "cell_type": "markdown",
   "id": "26ed140c",
   "metadata": {
    "papermill": {
     "duration": 0.028754,
     "end_time": "2021-07-31T01:37:36.374217",
     "exception": false,
     "start_time": "2021-07-31T01:37:36.345463",
     "status": "completed"
    },
    "tags": []
   },
   "source": [
    "Creating a new dataframe"
   ]
  },
  {
   "cell_type": "code",
   "execution_count": 12,
   "id": "8a43aca8",
   "metadata": {
    "execution": {
     "iopub.execute_input": "2021-07-31T01:37:36.437354Z",
     "iopub.status.busy": "2021-07-31T01:37:36.436724Z",
     "iopub.status.idle": "2021-07-31T01:37:36.439153Z",
     "shell.execute_reply": "2021-07-31T01:37:36.438605Z",
     "shell.execute_reply.started": "2021-07-31T01:35:31.375190Z"
    },
    "papermill": {
     "duration": 0.036295,
     "end_time": "2021-07-31T01:37:36.439282",
     "exception": false,
     "start_time": "2021-07-31T01:37:36.402987",
     "status": "completed"
    },
    "tags": []
   },
   "outputs": [],
   "source": [
    "submission_df = pd.DataFrame(list(zip(ids, predictions)), columns=['id', 'target'])"
   ]
  },
  {
   "cell_type": "markdown",
   "id": "ae24bd2b",
   "metadata": {
    "papermill": {
     "duration": 0.028898,
     "end_time": "2021-07-31T01:37:36.497370",
     "exception": false,
     "start_time": "2021-07-31T01:37:36.468472",
     "status": "completed"
    },
    "tags": []
   },
   "source": [
    "Saving the dataframe as csv for submission."
   ]
  },
  {
   "cell_type": "code",
   "execution_count": 13,
   "id": "ea27db2b",
   "metadata": {
    "execution": {
     "iopub.execute_input": "2021-07-31T01:37:36.558975Z",
     "iopub.status.busy": "2021-07-31T01:37:36.558420Z",
     "iopub.status.idle": "2021-07-31T01:37:36.567914Z",
     "shell.execute_reply": "2021-07-31T01:37:36.567450Z",
     "shell.execute_reply.started": "2021-07-31T01:35:31.383097Z"
    },
    "papermill": {
     "duration": 0.041524,
     "end_time": "2021-07-31T01:37:36.568041",
     "exception": false,
     "start_time": "2021-07-31T01:37:36.526517",
     "status": "completed"
    },
    "tags": []
   },
   "outputs": [
    {
     "data": {
      "text/html": [
       "<div>\n",
       "<style scoped>\n",
       "    .dataframe tbody tr th:only-of-type {\n",
       "        vertical-align: middle;\n",
       "    }\n",
       "\n",
       "    .dataframe tbody tr th {\n",
       "        vertical-align: top;\n",
       "    }\n",
       "\n",
       "    .dataframe thead th {\n",
       "        text-align: right;\n",
       "    }\n",
       "</style>\n",
       "<table border=\"1\" class=\"dataframe\">\n",
       "  <thead>\n",
       "    <tr style=\"text-align: right;\">\n",
       "      <th></th>\n",
       "      <th>id</th>\n",
       "      <th>target</th>\n",
       "    </tr>\n",
       "  </thead>\n",
       "  <tbody>\n",
       "    <tr>\n",
       "      <th>0</th>\n",
       "      <td>c0f722661</td>\n",
       "      <td>-1.354704</td>\n",
       "    </tr>\n",
       "    <tr>\n",
       "      <th>1</th>\n",
       "      <td>f0953f0a5</td>\n",
       "      <td>-0.330972</td>\n",
       "    </tr>\n",
       "  </tbody>\n",
       "</table>\n",
       "</div>"
      ],
      "text/plain": [
       "          id    target\n",
       "0  c0f722661 -1.354704\n",
       "1  f0953f0a5 -0.330972"
      ]
     },
     "execution_count": 13,
     "metadata": {},
     "output_type": "execute_result"
    }
   ],
   "source": [
    "submission_df.head(2)"
   ]
  },
  {
   "cell_type": "code",
   "execution_count": 14,
   "id": "b8de2bcc",
   "metadata": {
    "execution": {
     "iopub.execute_input": "2021-07-31T01:37:36.631051Z",
     "iopub.status.busy": "2021-07-31T01:37:36.630499Z",
     "iopub.status.idle": "2021-07-31T01:37:36.636977Z",
     "shell.execute_reply": "2021-07-31T01:37:36.636404Z",
     "shell.execute_reply.started": "2021-07-31T01:35:31.402727Z"
    },
    "papermill": {
     "duration": 0.039805,
     "end_time": "2021-07-31T01:37:36.637138",
     "exception": false,
     "start_time": "2021-07-31T01:37:36.597333",
     "status": "completed"
    },
    "tags": []
   },
   "outputs": [],
   "source": [
    "submission_df.to_csv('submission.csv', index=False)"
   ]
  },
  {
   "cell_type": "code",
   "execution_count": null,
   "id": "1197165c",
   "metadata": {
    "papermill": {
     "duration": 0.029241,
     "end_time": "2021-07-31T01:37:36.696232",
     "exception": false,
     "start_time": "2021-07-31T01:37:36.666991",
     "status": "completed"
    },
    "tags": []
   },
   "outputs": [],
   "source": []
  }
 ],
 "metadata": {
  "kernelspec": {
   "display_name": "Python 3",
   "language": "python",
   "name": "python3"
  },
  "language_info": {
   "codemirror_mode": {
    "name": "ipython",
    "version": 3
   },
   "file_extension": ".py",
   "mimetype": "text/x-python",
   "name": "python",
   "nbconvert_exporter": "python",
   "pygments_lexer": "ipython3",
   "version": "3.7.10"
  },
  "papermill": {
   "default_parameters": {},
   "duration": 107.815628,
   "end_time": "2021-07-31T01:37:38.867385",
   "environment_variables": {},
   "exception": null,
   "input_path": "__notebook__.ipynb",
   "output_path": "__notebook__.ipynb",
   "parameters": {},
   "start_time": "2021-07-31T01:35:51.051757",
   "version": "2.3.3"
  }
 },
 "nbformat": 4,
 "nbformat_minor": 5
}
