{
 "cells": [
  {
   "cell_type": "markdown",
   "id": "romantic-issue",
   "metadata": {
    "_cell_guid": "b1076dfc-b9ad-4769-8c92-a6c4dae69d19",
    "_uuid": "8f2839f25d086af736a60e9eeb907d3b93b6e0e5",
    "papermill": {
     "duration": 0.037127,
     "end_time": "2021-06-16T11:46:19.528459",
     "exception": false,
     "start_time": "2021-06-16T11:46:19.491332",
     "status": "completed"
    },
    "tags": []
   },
   "source": [
    "# What to do?\n",
    "* Predict if a text is easier to read or not.\n",
    "* The more negative a score the more un-readable it is.\n",
    "* At first instance this looks like a tabular data.\n",
    "* perhaps this is also regression as we have continuous values in targets"
   ]
  },
  {
   "cell_type": "markdown",
   "id": "hispanic-chocolate",
   "metadata": {
    "papermill": {
     "duration": 0.035524,
     "end_time": "2021-06-16T11:46:19.600415",
     "exception": false,
     "start_time": "2021-06-16T11:46:19.564891",
     "status": "completed"
    },
    "tags": []
   },
   "source": [
    "look into the data"
   ]
  },
  {
   "cell_type": "code",
   "execution_count": 1,
   "id": "accepting-planning",
   "metadata": {
    "execution": {
     "iopub.execute_input": "2021-06-16T11:46:19.678579Z",
     "iopub.status.busy": "2021-06-16T11:46:19.677058Z",
     "iopub.status.idle": "2021-06-16T11:46:24.322461Z",
     "shell.execute_reply": "2021-06-16T11:46:24.321852Z",
     "shell.execute_reply.started": "2021-06-16T11:33:54.382974Z"
    },
    "papermill": {
     "duration": 4.684916,
     "end_time": "2021-06-16T11:46:24.322624",
     "exception": false,
     "start_time": "2021-06-16T11:46:19.637708",
     "status": "completed"
    },
    "tags": []
   },
   "outputs": [],
   "source": [
    "from typing import List, TypeVar\n",
    "from pandas.core.frame import DataFrame\n",
    "from fastai.basics import *\n",
    "from fastai.callback.all import *\n",
    "from fastai.text.all import *"
   ]
  },
  {
   "cell_type": "markdown",
   "id": "valid-advocacy",
   "metadata": {
    "execution": {
     "iopub.execute_input": "2021-06-16T06:31:10.200204Z",
     "iopub.status.busy": "2021-06-16T06:31:10.199886Z",
     "iopub.status.idle": "2021-06-16T06:31:10.205739Z",
     "shell.execute_reply": "2021-06-16T06:31:10.204277Z",
     "shell.execute_reply.started": "2021-06-16T06:31:10.200171Z"
    },
    "papermill": {
     "duration": 0.035728,
     "end_time": "2021-06-16T11:46:24.395467",
     "exception": false,
     "start_time": "2021-06-16T11:46:24.359739",
     "status": "completed"
    },
    "tags": []
   },
   "source": [
    "custom typings"
   ]
  },
  {
   "cell_type": "code",
   "execution_count": 2,
   "id": "interested-johns",
   "metadata": {
    "execution": {
     "iopub.execute_input": "2021-06-16T11:46:24.472983Z",
     "iopub.status.busy": "2021-06-16T11:46:24.472135Z",
     "iopub.status.idle": "2021-06-16T11:46:24.474825Z",
     "shell.execute_reply": "2021-06-16T11:46:24.474367Z",
     "shell.execute_reply.started": "2021-06-16T11:34:03.123743Z"
    },
    "papermill": {
     "duration": 0.043097,
     "end_time": "2021-06-16T11:46:24.474937",
     "exception": false,
     "start_time": "2021-06-16T11:46:24.431840",
     "status": "completed"
    },
    "tags": []
   },
   "outputs": [],
   "source": [
    "path = Path('../input/commonlitreadabilityprize/')"
   ]
  },
  {
   "cell_type": "code",
   "execution_count": 3,
   "id": "modified-monte",
   "metadata": {
    "execution": {
     "iopub.execute_input": "2021-06-16T11:46:24.554775Z",
     "iopub.status.busy": "2021-06-16T11:46:24.554175Z",
     "iopub.status.idle": "2021-06-16T11:46:24.649322Z",
     "shell.execute_reply": "2021-06-16T11:46:24.649760Z",
     "shell.execute_reply.started": "2021-06-16T11:34:32.720680Z"
    },
    "papermill": {
     "duration": 0.137956,
     "end_time": "2021-06-16T11:46:24.649905",
     "exception": false,
     "start_time": "2021-06-16T11:46:24.511949",
     "status": "completed"
    },
    "tags": []
   },
   "outputs": [
    {
     "data": {
      "text/html": [
       "<div>\n",
       "<style scoped>\n",
       "    .dataframe tbody tr th:only-of-type {\n",
       "        vertical-align: middle;\n",
       "    }\n",
       "\n",
       "    .dataframe tbody tr th {\n",
       "        vertical-align: top;\n",
       "    }\n",
       "\n",
       "    .dataframe thead th {\n",
       "        text-align: right;\n",
       "    }\n",
       "</style>\n",
       "<table border=\"1\" class=\"dataframe\">\n",
       "  <thead>\n",
       "    <tr style=\"text-align: right;\">\n",
       "      <th></th>\n",
       "      <th>id</th>\n",
       "      <th>url_legal</th>\n",
       "      <th>license</th>\n",
       "      <th>excerpt</th>\n",
       "      <th>target</th>\n",
       "      <th>standard_error</th>\n",
       "    </tr>\n",
       "  </thead>\n",
       "  <tbody>\n",
       "    <tr>\n",
       "      <th>0</th>\n",
       "      <td>c12129c31</td>\n",
       "      <td>NaN</td>\n",
       "      <td>NaN</td>\n",
       "      <td>When the young people returned to the ballroom, it presented a decidedly changed appearance. Instead of an interior scene, it was a winter landscape.\\nThe floor was covered with snow-white canvas, not laid on smoothly, but rumpled over bumps and hillocks, like a real snow field. The numerous palms and evergreens that had decorated the room, were powdered with flour and strewn with tufts of cotton, like snow. Also diamond dust had been lightly sprinkled on them, and glittering crystal icicles hung from the branches.\\nAt each end of the room, on the wall, hung a beautiful bear-skin rug.\\nThe...</td>\n",
       "      <td>-0.340259</td>\n",
       "      <td>0.464009</td>\n",
       "    </tr>\n",
       "    <tr>\n",
       "      <th>1</th>\n",
       "      <td>85aa80a4c</td>\n",
       "      <td>NaN</td>\n",
       "      <td>NaN</td>\n",
       "      <td>All through dinner time, Mrs. Fayre was somewhat silent, her eyes resting on Dolly with a wistful, uncertain expression. She wanted to give the child the pleasure she craved, but she had hard work to bring herself to the point of overcoming her own objections.\\nAt last, however, when the meal was nearly over, she smiled at her little daughter, and said, \"All right, Dolly, you may go.\"\\n\"Oh, mother!\" Dolly cried, overwhelmed with sudden delight. \"Really?\\nOh, I am so glad! Are you sure you're willing?\"\\n\"I've persuaded myself to be willing, against my will,\" returned Mrs. Fayre, whimsically...</td>\n",
       "      <td>-0.315372</td>\n",
       "      <td>0.480805</td>\n",
       "    </tr>\n",
       "    <tr>\n",
       "      <th>2</th>\n",
       "      <td>b69ac6792</td>\n",
       "      <td>NaN</td>\n",
       "      <td>NaN</td>\n",
       "      <td>As Roger had predicted, the snow departed as quickly as it came, and two days after their sleigh ride there was scarcely a vestige of white on the ground. Tennis was again possible and a great game was in progress on the court at Pine Laurel. Patty and Roger were playing against Elise and Sam Blaney, and the pairs were well matched.\\nBut the long-contested victory finally went against Patty, and she laughingly accepted defeat.\\n\"Only because Patty's not quite back on her game yet,\" Roger defended; \"this child has been on the sick list, you know, Sam, and she isn't up to her own mark.\"\\n\"We...</td>\n",
       "      <td>-0.580118</td>\n",
       "      <td>0.476676</td>\n",
       "    </tr>\n",
       "    <tr>\n",
       "      <th>3</th>\n",
       "      <td>dd1000b26</td>\n",
       "      <td>NaN</td>\n",
       "      <td>NaN</td>\n",
       "      <td>And outside before the palace a great garden was walled round, filled full of stately fruit-trees, gray olives and sweet figs, and pomegranates, pears, and apples, which bore the whole year round. For the rich south-west wind fed them, till pear grew ripe on pear, fig on fig, and grape on grape, all the winter and the spring. And at the farther end gay flower-beds bloomed through all seasons of the year; and two fair fountains rose, and ran, one through the garden grounds, and one beneath the palace gate, to water all the town. Such noble gifts the heavens had given to Alcinous the wise.\\n...</td>\n",
       "      <td>-1.054013</td>\n",
       "      <td>0.450007</td>\n",
       "    </tr>\n",
       "  </tbody>\n",
       "</table>\n",
       "</div>"
      ],
      "text/plain": [
       "          id url_legal license  \\\n",
       "0  c12129c31       NaN     NaN   \n",
       "1  85aa80a4c       NaN     NaN   \n",
       "2  b69ac6792       NaN     NaN   \n",
       "3  dd1000b26       NaN     NaN   \n",
       "\n",
       "                                                                                                                                                                                                                                                                                                                                                                                                                                                                                                                                                                                                                   excerpt  \\\n",
       "0  When the young people returned to the ballroom, it presented a decidedly changed appearance. Instead of an interior scene, it was a winter landscape.\\nThe floor was covered with snow-white canvas, not laid on smoothly, but rumpled over bumps and hillocks, like a real snow field. The numerous palms and evergreens that had decorated the room, were powdered with flour and strewn with tufts of cotton, like snow. Also diamond dust had been lightly sprinkled on them, and glittering crystal icicles hung from the branches.\\nAt each end of the room, on the wall, hung a beautiful bear-skin rug.\\nThe...   \n",
       "1  All through dinner time, Mrs. Fayre was somewhat silent, her eyes resting on Dolly with a wistful, uncertain expression. She wanted to give the child the pleasure she craved, but she had hard work to bring herself to the point of overcoming her own objections.\\nAt last, however, when the meal was nearly over, she smiled at her little daughter, and said, \"All right, Dolly, you may go.\"\\n\"Oh, mother!\" Dolly cried, overwhelmed with sudden delight. \"Really?\\nOh, I am so glad! Are you sure you're willing?\"\\n\"I've persuaded myself to be willing, against my will,\" returned Mrs. Fayre, whimsically...   \n",
       "2  As Roger had predicted, the snow departed as quickly as it came, and two days after their sleigh ride there was scarcely a vestige of white on the ground. Tennis was again possible and a great game was in progress on the court at Pine Laurel. Patty and Roger were playing against Elise and Sam Blaney, and the pairs were well matched.\\nBut the long-contested victory finally went against Patty, and she laughingly accepted defeat.\\n\"Only because Patty's not quite back on her game yet,\" Roger defended; \"this child has been on the sick list, you know, Sam, and she isn't up to her own mark.\"\\n\"We...   \n",
       "3  And outside before the palace a great garden was walled round, filled full of stately fruit-trees, gray olives and sweet figs, and pomegranates, pears, and apples, which bore the whole year round. For the rich south-west wind fed them, till pear grew ripe on pear, fig on fig, and grape on grape, all the winter and the spring. And at the farther end gay flower-beds bloomed through all seasons of the year; and two fair fountains rose, and ran, one through the garden grounds, and one beneath the palace gate, to water all the town. Such noble gifts the heavens had given to Alcinous the wise.\\n...   \n",
       "\n",
       "     target  standard_error  \n",
       "0 -0.340259        0.464009  \n",
       "1 -0.315372        0.480805  \n",
       "2 -0.580118        0.476676  \n",
       "3 -1.054013        0.450007  "
      ]
     },
     "execution_count": 3,
     "metadata": {},
     "output_type": "execute_result"
    }
   ],
   "source": [
    "df_train = pd.read_csv('../input/commonlitreadabilityprize/train.csv')\n",
    "df_train.head(4)"
   ]
  },
  {
   "cell_type": "markdown",
   "id": "furnished-yukon",
   "metadata": {
    "papermill": {
     "duration": 0.035995,
     "end_time": "2021-06-16T11:46:24.722898",
     "exception": false,
     "start_time": "2021-06-16T11:46:24.686903",
     "status": "completed"
    },
    "tags": []
   },
   "source": [
    "dropping all columns except excerpts"
   ]
  },
  {
   "cell_type": "code",
   "execution_count": 4,
   "id": "ranking-reporter",
   "metadata": {
    "execution": {
     "iopub.execute_input": "2021-06-16T11:46:24.799971Z",
     "iopub.status.busy": "2021-06-16T11:46:24.799109Z",
     "iopub.status.idle": "2021-06-16T11:46:24.801715Z",
     "shell.execute_reply": "2021-06-16T11:46:24.801287Z",
     "shell.execute_reply.started": "2021-06-16T11:34:35.268203Z"
    },
    "papermill": {
     "duration": 0.042883,
     "end_time": "2021-06-16T11:46:24.801832",
     "exception": false,
     "start_time": "2021-06-16T11:46:24.758949",
     "status": "completed"
    },
    "tags": []
   },
   "outputs": [],
   "source": [
    "def drop_cols(df: DataFrame, cols: List) -> DataFrame:\n",
    "    return df.drop(cols, axis=1)"
   ]
  },
  {
   "cell_type": "code",
   "execution_count": 5,
   "id": "provincial-prime",
   "metadata": {
    "execution": {
     "iopub.execute_input": "2021-06-16T11:46:24.883632Z",
     "iopub.status.busy": "2021-06-16T11:46:24.882786Z",
     "iopub.status.idle": "2021-06-16T11:46:24.886663Z",
     "shell.execute_reply": "2021-06-16T11:46:24.886241Z",
     "shell.execute_reply.started": "2021-06-16T11:34:53.602356Z"
    },
    "papermill": {
     "duration": 0.048775,
     "end_time": "2021-06-16T11:46:24.886790",
     "exception": false,
     "start_time": "2021-06-16T11:46:24.838015",
     "status": "completed"
    },
    "tags": []
   },
   "outputs": [
    {
     "data": {
      "text/html": [
       "<div>\n",
       "<style scoped>\n",
       "    .dataframe tbody tr th:only-of-type {\n",
       "        vertical-align: middle;\n",
       "    }\n",
       "\n",
       "    .dataframe tbody tr th {\n",
       "        vertical-align: top;\n",
       "    }\n",
       "\n",
       "    .dataframe thead th {\n",
       "        text-align: right;\n",
       "    }\n",
       "</style>\n",
       "<table border=\"1\" class=\"dataframe\">\n",
       "  <thead>\n",
       "    <tr style=\"text-align: right;\">\n",
       "      <th></th>\n",
       "      <th>excerpt</th>\n",
       "    </tr>\n",
       "  </thead>\n",
       "  <tbody>\n",
       "    <tr>\n",
       "      <th>0</th>\n",
       "      <td>When the young people returned to the ballroom, it presented a decidedly changed appearance. Instead of an interior scene, it was a winter landscape.\\nThe floor was covered with snow-white canvas, not laid on smoothly, but rumpled over bumps and hillocks, like a real snow field. The numerous palms and evergreens that had decorated the room, were powdered with flour and strewn with tufts of cotton, like snow. Also diamond dust had been lightly sprinkled on them, and glittering crystal icicles hung from the branches.\\nAt each end of the room, on the wall, hung a beautiful bear-skin rug.\\nThe...</td>\n",
       "    </tr>\n",
       "    <tr>\n",
       "      <th>1</th>\n",
       "      <td>All through dinner time, Mrs. Fayre was somewhat silent, her eyes resting on Dolly with a wistful, uncertain expression. She wanted to give the child the pleasure she craved, but she had hard work to bring herself to the point of overcoming her own objections.\\nAt last, however, when the meal was nearly over, she smiled at her little daughter, and said, \"All right, Dolly, you may go.\"\\n\"Oh, mother!\" Dolly cried, overwhelmed with sudden delight. \"Really?\\nOh, I am so glad! Are you sure you're willing?\"\\n\"I've persuaded myself to be willing, against my will,\" returned Mrs. Fayre, whimsically...</td>\n",
       "    </tr>\n",
       "  </tbody>\n",
       "</table>\n",
       "</div>"
      ],
      "text/plain": [
       "                                                                                                                                                                                                                                                                                                                                                                                                                                                                                                                                                                                                                   excerpt\n",
       "0  When the young people returned to the ballroom, it presented a decidedly changed appearance. Instead of an interior scene, it was a winter landscape.\\nThe floor was covered with snow-white canvas, not laid on smoothly, but rumpled over bumps and hillocks, like a real snow field. The numerous palms and evergreens that had decorated the room, were powdered with flour and strewn with tufts of cotton, like snow. Also diamond dust had been lightly sprinkled on them, and glittering crystal icicles hung from the branches.\\nAt each end of the room, on the wall, hung a beautiful bear-skin rug.\\nThe...\n",
       "1  All through dinner time, Mrs. Fayre was somewhat silent, her eyes resting on Dolly with a wistful, uncertain expression. She wanted to give the child the pleasure she craved, but she had hard work to bring herself to the point of overcoming her own objections.\\nAt last, however, when the meal was nearly over, she smiled at her little daughter, and said, \"All right, Dolly, you may go.\"\\n\"Oh, mother!\" Dolly cried, overwhelmed with sudden delight. \"Really?\\nOh, I am so glad! Are you sure you're willing?\"\\n\"I've persuaded myself to be willing, against my will,\" returned Mrs. Fayre, whimsically..."
      ]
     },
     "execution_count": 5,
     "metadata": {},
     "output_type": "execute_result"
    }
   ],
   "source": [
    "df_train_excerpts = df_train.copy()\n",
    "df_train_excerpts = drop_cols(df_train_excerpts, ['id', 'url_legal', 'license', 'target', 'standard_error'])\n",
    "df_train_excerpts.head(2)"
   ]
  },
  {
   "cell_type": "code",
   "execution_count": 6,
   "id": "chicken-tablet",
   "metadata": {
    "execution": {
     "iopub.execute_input": "2021-06-16T11:46:24.964503Z",
     "iopub.status.busy": "2021-06-16T11:46:24.963921Z",
     "iopub.status.idle": "2021-06-16T11:46:24.977999Z",
     "shell.execute_reply": "2021-06-16T11:46:24.977590Z",
     "shell.execute_reply.started": "2021-06-16T11:34:37.391671Z"
    },
    "papermill": {
     "duration": 0.054928,
     "end_time": "2021-06-16T11:46:24.978114",
     "exception": false,
     "start_time": "2021-06-16T11:46:24.923186",
     "status": "completed"
    },
    "tags": []
   },
   "outputs": [
    {
     "data": {
      "text/html": [
       "<div>\n",
       "<style scoped>\n",
       "    .dataframe tbody tr th:only-of-type {\n",
       "        vertical-align: middle;\n",
       "    }\n",
       "\n",
       "    .dataframe tbody tr th {\n",
       "        vertical-align: top;\n",
       "    }\n",
       "\n",
       "    .dataframe thead th {\n",
       "        text-align: right;\n",
       "    }\n",
       "</style>\n",
       "<table border=\"1\" class=\"dataframe\">\n",
       "  <thead>\n",
       "    <tr style=\"text-align: right;\">\n",
       "      <th></th>\n",
       "      <th>id</th>\n",
       "      <th>url_legal</th>\n",
       "      <th>license</th>\n",
       "      <th>excerpt</th>\n",
       "    </tr>\n",
       "  </thead>\n",
       "  <tbody>\n",
       "    <tr>\n",
       "      <th>0</th>\n",
       "      <td>c0f722661</td>\n",
       "      <td>NaN</td>\n",
       "      <td>NaN</td>\n",
       "      <td>My hope lay in Jack's promise that he would keep a bright light burning in the upper story to guide me on my course. On a clear night this light was visible from the village, but somehow or other I failed to take into account the state of the weather. The air was full of eddying flakes, which would render the headlight of a locomotive invisible a hundred yards distant. Strange that this important fact never occurred to me until I was fully a fourth of a mile from the village. Then, after looking in vain for the beacon light, the danger of my situation struck me, and I halted.\\n\"I am certai...</td>\n",
       "    </tr>\n",
       "    <tr>\n",
       "      <th>1</th>\n",
       "      <td>f0953f0a5</td>\n",
       "      <td>NaN</td>\n",
       "      <td>NaN</td>\n",
       "      <td>Dotty continued to go to Mrs. Gray's every night with the milk. Sometimes Katie went with her, and then they always paused a while under the acorn-tree and played \"King and Queen.\" Dotty said she wished they could ever remember to bring their nipperkins, for in that case the milk would taste a great deal more like nectar. The \"nipperkins\" were a pair of handled cups which the children supposed to be silver, and which they always used at table.\\nDotty knew she was doing wrong every time she played \"King and Queen.\" She knew the milk was not hers, but Mrs. Gray's; still she said to herself, ...</td>\n",
       "    </tr>\n",
       "    <tr>\n",
       "      <th>2</th>\n",
       "      <td>0df072751</td>\n",
       "      <td>NaN</td>\n",
       "      <td>NaN</td>\n",
       "      <td>It was a bright and cheerful scene that greeted the eyes of Captain Raymond and his son as they entered the parlor of the adjacent cottage.\\nIt was strictly a family gathering, yet the room was quite full. Mr. Dinsmore was there with his wife, his daughter Elsie and her children, Edward and Zoe, Elsie Leland with her husband and babe, Violet Raymond with her husband's two little girls, Lulu and Grace, and lastly Rosie and Walter.\\nEverybody had a kindly greeting for the captain, and Violet's bright face grew still brighter as she made room for him on the sofa by her side.\\n\"We were beginni...</td>\n",
       "    </tr>\n",
       "    <tr>\n",
       "      <th>3</th>\n",
       "      <td>04caf4e0c</td>\n",
       "      <td>https://en.wikipedia.org/wiki/Cell_division</td>\n",
       "      <td>CC BY-SA 3.0</td>\n",
       "      <td>Cell division is the process by which a parent cell divides into two or more daughter cells. Cell division usually occurs as part of a larger cell cycle.\\n In eukaryotes, there are two distinct types of cell division: a vegetative division, whereby each daughter cell is genetically identical to the parent cell (mitosis), and a reproductive cell division, whereby the number of chromosomes in the daughter cells is reduced by half, to produce haploid gametes (meiosis). \\nMeiosis results in four haploid daughter cells by undergoing one round of DNA replication followed by two divisions: homolo...</td>\n",
       "    </tr>\n",
       "  </tbody>\n",
       "</table>\n",
       "</div>"
      ],
      "text/plain": [
       "          id                                    url_legal       license  \\\n",
       "0  c0f722661                                          NaN           NaN   \n",
       "1  f0953f0a5                                          NaN           NaN   \n",
       "2  0df072751                                          NaN           NaN   \n",
       "3  04caf4e0c  https://en.wikipedia.org/wiki/Cell_division  CC BY-SA 3.0   \n",
       "\n",
       "                                                                                                                                                                                                                                                                                                                                                                                                                                                                                                                                                                                                                   excerpt  \n",
       "0  My hope lay in Jack's promise that he would keep a bright light burning in the upper story to guide me on my course. On a clear night this light was visible from the village, but somehow or other I failed to take into account the state of the weather. The air was full of eddying flakes, which would render the headlight of a locomotive invisible a hundred yards distant. Strange that this important fact never occurred to me until I was fully a fourth of a mile from the village. Then, after looking in vain for the beacon light, the danger of my situation struck me, and I halted.\\n\"I am certai...  \n",
       "1  Dotty continued to go to Mrs. Gray's every night with the milk. Sometimes Katie went with her, and then they always paused a while under the acorn-tree and played \"King and Queen.\" Dotty said she wished they could ever remember to bring their nipperkins, for in that case the milk would taste a great deal more like nectar. The \"nipperkins\" were a pair of handled cups which the children supposed to be silver, and which they always used at table.\\nDotty knew she was doing wrong every time she played \"King and Queen.\" She knew the milk was not hers, but Mrs. Gray's; still she said to herself, ...  \n",
       "2  It was a bright and cheerful scene that greeted the eyes of Captain Raymond and his son as they entered the parlor of the adjacent cottage.\\nIt was strictly a family gathering, yet the room was quite full. Mr. Dinsmore was there with his wife, his daughter Elsie and her children, Edward and Zoe, Elsie Leland with her husband and babe, Violet Raymond with her husband's two little girls, Lulu and Grace, and lastly Rosie and Walter.\\nEverybody had a kindly greeting for the captain, and Violet's bright face grew still brighter as she made room for him on the sofa by her side.\\n\"We were beginni...  \n",
       "3  Cell division is the process by which a parent cell divides into two or more daughter cells. Cell division usually occurs as part of a larger cell cycle.\\n In eukaryotes, there are two distinct types of cell division: a vegetative division, whereby each daughter cell is genetically identical to the parent cell (mitosis), and a reproductive cell division, whereby the number of chromosomes in the daughter cells is reduced by half, to produce haploid gametes (meiosis). \\nMeiosis results in four haploid daughter cells by undergoing one round of DNA replication followed by two divisions: homolo...  "
      ]
     },
     "execution_count": 6,
     "metadata": {},
     "output_type": "execute_result"
    }
   ],
   "source": [
    "df_test = pd.read_csv('../input/commonlitreadabilityprize/test.csv')\n",
    "df_test.head(4)"
   ]
  },
  {
   "cell_type": "markdown",
   "id": "alleged-nation",
   "metadata": {
    "papermill": {
     "duration": 0.036784,
     "end_time": "2021-06-16T11:46:25.052591",
     "exception": false,
     "start_time": "2021-06-16T11:46:25.015807",
     "status": "completed"
    },
    "tags": []
   },
   "source": [
    "dropping all columns except excerpts"
   ]
  },
  {
   "cell_type": "code",
   "execution_count": 7,
   "id": "artificial-fiction",
   "metadata": {
    "execution": {
     "iopub.execute_input": "2021-06-16T11:46:25.137072Z",
     "iopub.status.busy": "2021-06-16T11:46:25.136318Z",
     "iopub.status.idle": "2021-06-16T11:46:25.139347Z",
     "shell.execute_reply": "2021-06-16T11:46:25.139784Z",
     "shell.execute_reply.started": "2021-06-16T11:34:39.432022Z"
    },
    "papermill": {
     "duration": 0.048762,
     "end_time": "2021-06-16T11:46:25.139922",
     "exception": false,
     "start_time": "2021-06-16T11:46:25.091160",
     "status": "completed"
    },
    "tags": []
   },
   "outputs": [
    {
     "data": {
      "text/html": [
       "<div>\n",
       "<style scoped>\n",
       "    .dataframe tbody tr th:only-of-type {\n",
       "        vertical-align: middle;\n",
       "    }\n",
       "\n",
       "    .dataframe tbody tr th {\n",
       "        vertical-align: top;\n",
       "    }\n",
       "\n",
       "    .dataframe thead th {\n",
       "        text-align: right;\n",
       "    }\n",
       "</style>\n",
       "<table border=\"1\" class=\"dataframe\">\n",
       "  <thead>\n",
       "    <tr style=\"text-align: right;\">\n",
       "      <th></th>\n",
       "      <th>excerpt</th>\n",
       "    </tr>\n",
       "  </thead>\n",
       "  <tbody>\n",
       "    <tr>\n",
       "      <th>0</th>\n",
       "      <td>My hope lay in Jack's promise that he would keep a bright light burning in the upper story to guide me on my course. On a clear night this light was visible from the village, but somehow or other I failed to take into account the state of the weather. The air was full of eddying flakes, which would render the headlight of a locomotive invisible a hundred yards distant. Strange that this important fact never occurred to me until I was fully a fourth of a mile from the village. Then, after looking in vain for the beacon light, the danger of my situation struck me, and I halted.\\n\"I am certai...</td>\n",
       "    </tr>\n",
       "    <tr>\n",
       "      <th>1</th>\n",
       "      <td>Dotty continued to go to Mrs. Gray's every night with the milk. Sometimes Katie went with her, and then they always paused a while under the acorn-tree and played \"King and Queen.\" Dotty said she wished they could ever remember to bring their nipperkins, for in that case the milk would taste a great deal more like nectar. The \"nipperkins\" were a pair of handled cups which the children supposed to be silver, and which they always used at table.\\nDotty knew she was doing wrong every time she played \"King and Queen.\" She knew the milk was not hers, but Mrs. Gray's; still she said to herself, ...</td>\n",
       "    </tr>\n",
       "  </tbody>\n",
       "</table>\n",
       "</div>"
      ],
      "text/plain": [
       "                                                                                                                                                                                                                                                                                                                                                                                                                                                                                                                                                                                                                   excerpt\n",
       "0  My hope lay in Jack's promise that he would keep a bright light burning in the upper story to guide me on my course. On a clear night this light was visible from the village, but somehow or other I failed to take into account the state of the weather. The air was full of eddying flakes, which would render the headlight of a locomotive invisible a hundred yards distant. Strange that this important fact never occurred to me until I was fully a fourth of a mile from the village. Then, after looking in vain for the beacon light, the danger of my situation struck me, and I halted.\\n\"I am certai...\n",
       "1  Dotty continued to go to Mrs. Gray's every night with the milk. Sometimes Katie went with her, and then they always paused a while under the acorn-tree and played \"King and Queen.\" Dotty said she wished they could ever remember to bring their nipperkins, for in that case the milk would taste a great deal more like nectar. The \"nipperkins\" were a pair of handled cups which the children supposed to be silver, and which they always used at table.\\nDotty knew she was doing wrong every time she played \"King and Queen.\" She knew the milk was not hers, but Mrs. Gray's; still she said to herself, ..."
      ]
     },
     "execution_count": 7,
     "metadata": {},
     "output_type": "execute_result"
    }
   ],
   "source": [
    "df_test_excerpts = df_test.copy()\n",
    "df_test_excerpts = drop_cols(df_test_excerpts, ['id', 'url_legal', 'license'])\n",
    "df_test_excerpts.head(2)"
   ]
  },
  {
   "cell_type": "markdown",
   "id": "clear-basics",
   "metadata": {
    "papermill": {
     "duration": 0.037409,
     "end_time": "2021-06-16T11:46:25.214815",
     "exception": false,
     "start_time": "2021-06-16T11:46:25.177406",
     "status": "completed"
    },
    "tags": []
   },
   "source": [
    "concatenating both dataframes"
   ]
  },
  {
   "cell_type": "code",
   "execution_count": 8,
   "id": "local-fight",
   "metadata": {
    "execution": {
     "iopub.execute_input": "2021-06-16T11:46:25.294617Z",
     "iopub.status.busy": "2021-06-16T11:46:25.293886Z",
     "iopub.status.idle": "2021-06-16T11:46:25.296235Z",
     "shell.execute_reply": "2021-06-16T11:46:25.296742Z",
     "shell.execute_reply.started": "2021-06-16T11:35:09.414795Z"
    },
    "papermill": {
     "duration": 0.044356,
     "end_time": "2021-06-16T11:46:25.296884",
     "exception": false,
     "start_time": "2021-06-16T11:46:25.252528",
     "status": "completed"
    },
    "tags": []
   },
   "outputs": [],
   "source": [
    "def concat_dfs(dfs: List) -> DataFrame:\n",
    "    return pd.concat(dfs)"
   ]
  },
  {
   "cell_type": "code",
   "execution_count": 9,
   "id": "known-evolution",
   "metadata": {
    "execution": {
     "iopub.execute_input": "2021-06-16T11:46:25.381464Z",
     "iopub.status.busy": "2021-06-16T11:46:25.380685Z",
     "iopub.status.idle": "2021-06-16T11:46:25.383812Z",
     "shell.execute_reply": "2021-06-16T11:46:25.384214Z",
     "shell.execute_reply.started": "2021-06-16T11:35:11.983256Z"
    },
    "papermill": {
     "duration": 0.049959,
     "end_time": "2021-06-16T11:46:25.384346",
     "exception": false,
     "start_time": "2021-06-16T11:46:25.334387",
     "status": "completed"
    },
    "tags": []
   },
   "outputs": [
    {
     "data": {
      "text/html": [
       "<div>\n",
       "<style scoped>\n",
       "    .dataframe tbody tr th:only-of-type {\n",
       "        vertical-align: middle;\n",
       "    }\n",
       "\n",
       "    .dataframe tbody tr th {\n",
       "        vertical-align: top;\n",
       "    }\n",
       "\n",
       "    .dataframe thead th {\n",
       "        text-align: right;\n",
       "    }\n",
       "</style>\n",
       "<table border=\"1\" class=\"dataframe\">\n",
       "  <thead>\n",
       "    <tr style=\"text-align: right;\">\n",
       "      <th></th>\n",
       "      <th>excerpt</th>\n",
       "    </tr>\n",
       "  </thead>\n",
       "  <tbody>\n",
       "    <tr>\n",
       "      <th>0</th>\n",
       "      <td>When the young people returned to the ballroom, it presented a decidedly changed appearance. Instead of an interior scene, it was a winter landscape.\\nThe floor was covered with snow-white canvas, not laid on smoothly, but rumpled over bumps and hillocks, like a real snow field. The numerous palms and evergreens that had decorated the room, were powdered with flour and strewn with tufts of cotton, like snow. Also diamond dust had been lightly sprinkled on them, and glittering crystal icicles hung from the branches.\\nAt each end of the room, on the wall, hung a beautiful bear-skin rug.\\nThe...</td>\n",
       "    </tr>\n",
       "    <tr>\n",
       "      <th>1</th>\n",
       "      <td>All through dinner time, Mrs. Fayre was somewhat silent, her eyes resting on Dolly with a wistful, uncertain expression. She wanted to give the child the pleasure she craved, but she had hard work to bring herself to the point of overcoming her own objections.\\nAt last, however, when the meal was nearly over, she smiled at her little daughter, and said, \"All right, Dolly, you may go.\"\\n\"Oh, mother!\" Dolly cried, overwhelmed with sudden delight. \"Really?\\nOh, I am so glad! Are you sure you're willing?\"\\n\"I've persuaded myself to be willing, against my will,\" returned Mrs. Fayre, whimsically...</td>\n",
       "    </tr>\n",
       "    <tr>\n",
       "      <th>2</th>\n",
       "      <td>As Roger had predicted, the snow departed as quickly as it came, and two days after their sleigh ride there was scarcely a vestige of white on the ground. Tennis was again possible and a great game was in progress on the court at Pine Laurel. Patty and Roger were playing against Elise and Sam Blaney, and the pairs were well matched.\\nBut the long-contested victory finally went against Patty, and she laughingly accepted defeat.\\n\"Only because Patty's not quite back on her game yet,\" Roger defended; \"this child has been on the sick list, you know, Sam, and she isn't up to her own mark.\"\\n\"We...</td>\n",
       "    </tr>\n",
       "  </tbody>\n",
       "</table>\n",
       "</div>"
      ],
      "text/plain": [
       "                                                                                                                                                                                                                                                                                                                                                                                                                                                                                                                                                                                                                   excerpt\n",
       "0  When the young people returned to the ballroom, it presented a decidedly changed appearance. Instead of an interior scene, it was a winter landscape.\\nThe floor was covered with snow-white canvas, not laid on smoothly, but rumpled over bumps and hillocks, like a real snow field. The numerous palms and evergreens that had decorated the room, were powdered with flour and strewn with tufts of cotton, like snow. Also diamond dust had been lightly sprinkled on them, and glittering crystal icicles hung from the branches.\\nAt each end of the room, on the wall, hung a beautiful bear-skin rug.\\nThe...\n",
       "1  All through dinner time, Mrs. Fayre was somewhat silent, her eyes resting on Dolly with a wistful, uncertain expression. She wanted to give the child the pleasure she craved, but she had hard work to bring herself to the point of overcoming her own objections.\\nAt last, however, when the meal was nearly over, she smiled at her little daughter, and said, \"All right, Dolly, you may go.\"\\n\"Oh, mother!\" Dolly cried, overwhelmed with sudden delight. \"Really?\\nOh, I am so glad! Are you sure you're willing?\"\\n\"I've persuaded myself to be willing, against my will,\" returned Mrs. Fayre, whimsically...\n",
       "2  As Roger had predicted, the snow departed as quickly as it came, and two days after their sleigh ride there was scarcely a vestige of white on the ground. Tennis was again possible and a great game was in progress on the court at Pine Laurel. Patty and Roger were playing against Elise and Sam Blaney, and the pairs were well matched.\\nBut the long-contested victory finally went against Patty, and she laughingly accepted defeat.\\n\"Only because Patty's not quite back on her game yet,\" Roger defended; \"this child has been on the sick list, you know, Sam, and she isn't up to her own mark.\"\\n\"We..."
      ]
     },
     "execution_count": 9,
     "metadata": {},
     "output_type": "execute_result"
    }
   ],
   "source": [
    "df =  concat_dfs([df_train_excerpts, df_test_excerpts])\n",
    "df.head(3)"
   ]
  },
  {
   "cell_type": "code",
   "execution_count": 10,
   "id": "demographic-identifier",
   "metadata": {
    "execution": {
     "iopub.execute_input": "2021-06-16T11:46:25.465095Z",
     "iopub.status.busy": "2021-06-16T11:46:25.464417Z",
     "iopub.status.idle": "2021-06-16T11:46:25.467831Z",
     "shell.execute_reply": "2021-06-16T11:46:25.467414Z",
     "shell.execute_reply.started": "2021-06-16T11:35:14.319419Z"
    },
    "papermill": {
     "duration": 0.0459,
     "end_time": "2021-06-16T11:46:25.467947",
     "exception": false,
     "start_time": "2021-06-16T11:46:25.422047",
     "status": "completed"
    },
    "tags": []
   },
   "outputs": [
    {
     "data": {
      "text/plain": [
       "(2841, 1)"
      ]
     },
     "execution_count": 10,
     "metadata": {},
     "output_type": "execute_result"
    }
   ],
   "source": [
    "df.shape"
   ]
  },
  {
   "cell_type": "code",
   "execution_count": 11,
   "id": "banned-china",
   "metadata": {
    "execution": {
     "iopub.execute_input": "2021-06-16T11:46:25.549073Z",
     "iopub.status.busy": "2021-06-16T11:46:25.548540Z",
     "iopub.status.idle": "2021-06-16T11:46:25.622782Z",
     "shell.execute_reply": "2021-06-16T11:46:25.622261Z",
     "shell.execute_reply.started": "2021-06-15T11:41:36.346808Z"
    },
    "papermill": {
     "duration": 0.116836,
     "end_time": "2021-06-16T11:46:25.622916",
     "exception": false,
     "start_time": "2021-06-16T11:46:25.506080",
     "status": "completed"
    },
    "tags": []
   },
   "outputs": [],
   "source": [
    "TextLearner??"
   ]
  },
  {
   "cell_type": "code",
   "execution_count": 12,
   "id": "asian-great",
   "metadata": {
    "execution": {
     "iopub.execute_input": "2021-06-16T11:46:25.707967Z",
     "iopub.status.busy": "2021-06-16T11:46:25.707161Z",
     "iopub.status.idle": "2021-06-16T11:46:25.710299Z",
     "shell.execute_reply": "2021-06-16T11:46:25.709818Z",
     "shell.execute_reply.started": "2021-06-16T11:36:37.888160Z"
    },
    "papermill": {
     "duration": 0.049043,
     "end_time": "2021-06-16T11:46:25.710428",
     "exception": false,
     "start_time": "2021-06-16T11:46:25.661385",
     "status": "completed"
    },
    "tags": []
   },
   "outputs": [],
   "source": [
    "TextDataLoaders.from_df?"
   ]
  },
  {
   "cell_type": "code",
   "execution_count": 13,
   "id": "qualified-proxy",
   "metadata": {
    "execution": {
     "iopub.execute_input": "2021-06-16T11:46:25.790876Z",
     "iopub.status.busy": "2021-06-16T11:46:25.790255Z",
     "iopub.status.idle": "2021-06-16T11:46:41.135140Z",
     "shell.execute_reply": "2021-06-16T11:46:41.134571Z",
     "shell.execute_reply.started": "2021-06-16T11:39:40.567785Z"
    },
    "papermill": {
     "duration": 15.3869,
     "end_time": "2021-06-16T11:46:41.135325",
     "exception": false,
     "start_time": "2021-06-16T11:46:25.748425",
     "status": "completed"
    },
    "tags": []
   },
   "outputs": [
    {
     "data": {
      "text/html": [],
      "text/plain": [
       "<IPython.core.display.HTML object>"
      ]
     },
     "metadata": {},
     "output_type": "display_data"
    },
    {
     "name": "stderr",
     "output_type": "stream",
     "text": [
      "/opt/conda/lib/python3.7/site-packages/numpy/core/_asarray.py:83: VisibleDeprecationWarning: Creating an ndarray from ragged nested sequences (which is a list-or-tuple of lists-or-tuples-or ndarrays with different lengths or shapes) is deprecated. If you meant to do this, you must specify 'dtype=object' when creating the ndarray\n",
      "  return array(a, dtype, copy=False, order=order)\n"
     ]
    }
   ],
   "source": [
    "dls_lm = TextDataLoaders.from_df(df, path, is_lm=True, valid_pct=0.1, bs=128)"
   ]
  },
  {
   "cell_type": "code",
   "execution_count": 14,
   "id": "renewable-bruce",
   "metadata": {
    "execution": {
     "iopub.execute_input": "2021-06-16T11:46:41.241062Z",
     "iopub.status.busy": "2021-06-16T11:46:41.239239Z",
     "iopub.status.idle": "2021-06-16T11:46:41.431051Z",
     "shell.execute_reply": "2021-06-16T11:46:41.430588Z",
     "shell.execute_reply.started": "2021-06-15T11:41:48.385565Z"
    },
    "papermill": {
     "duration": 0.254495,
     "end_time": "2021-06-16T11:46:41.431172",
     "exception": false,
     "start_time": "2021-06-16T11:46:41.176677",
     "status": "completed"
    },
    "tags": []
   },
   "outputs": [
    {
     "data": {
      "text/html": [
       "<table border=\"1\" class=\"dataframe\">\n",
       "  <thead>\n",
       "    <tr style=\"text-align: right;\">\n",
       "      <th></th>\n",
       "      <th>text</th>\n",
       "      <th>text_</th>\n",
       "    </tr>\n",
       "  </thead>\n",
       "  <tbody>\n",
       "    <tr>\n",
       "      <th>0</th>\n",
       "      <td>xxbos xxmaj there are two ways that scientists talk about amnesia . xxmaj first , amnesia can happen alongside other problems . xxmaj for example , there are some diseases and injuries that can cause damage to the hippocampus and cause memory loss . xxmaj these include xxmaj alzheimer 's disease and traumatic brain injury . xxmaj both of these conditions can cause memory loss , but they usually also cause other</td>\n",
       "      <td>xxmaj there are two ways that scientists talk about amnesia . xxmaj first , amnesia can happen alongside other problems . xxmaj for example , there are some diseases and injuries that can cause damage to the hippocampus and cause memory loss . xxmaj these include xxmaj alzheimer 's disease and traumatic brain injury . xxmaj both of these conditions can cause memory loss , but they usually also cause other problems</td>\n",
       "    </tr>\n",
       "    <tr>\n",
       "      <th>1</th>\n",
       "      <td>flat under its burning rays , except for the ripple where some huge submarine creature disturbed its surface . xxmaj not a breath of air was stirring to relieve the suffocating atmosphere . \\n xxmaj the two men were xxunk in the shade of the xxunk walls of their reed - xxunk shelter . xxmaj it was built xxunk a cluster of dense - growing trees , and the site looked out</td>\n",
       "      <td>under its burning rays , except for the ripple where some huge submarine creature disturbed its surface . xxmaj not a breath of air was stirring to relieve the suffocating atmosphere . \\n xxmaj the two men were xxunk in the shade of the xxunk walls of their reed - xxunk shelter . xxmaj it was built xxunk a cluster of dense - growing trees , and the site looked out over</td>\n",
       "    </tr>\n",
       "    <tr>\n",
       "      <th>2</th>\n",
       "      <td>weeds growing from the ashes and bones . xxmaj most of xxmaj north xxmaj america was useless ; nothing could be planted , no one could live . a few million people kept going up in xxmaj canada and down in xxmaj south xxmaj america . xxmaj but during the second - year xxmaj soviet xxunk began to drop , a few at first , then more and more . xxmaj they</td>\n",
       "      <td>growing from the ashes and bones . xxmaj most of xxmaj north xxmaj america was useless ; nothing could be planted , no one could live . a few million people kept going up in xxmaj canada and down in xxmaj south xxmaj america . xxmaj but during the second - year xxmaj soviet xxunk began to drop , a few at first , then more and more . xxmaj they wore</td>\n",
       "    </tr>\n",
       "    <tr>\n",
       "      <th>3</th>\n",
       "      <td>the forms of those bodies are accurately such as , within a given surface , to include the greatest possible amount of xxunk the surfaces themselves are so disposed as to accommodate a denser population than could be accommodated on the same surfaces otherwise arranged . xxmaj nor is it any argument against bulk being an object with xxmaj god , that space itself is infinite ; for there may be an</td>\n",
       "      <td>forms of those bodies are accurately such as , within a given surface , to include the greatest possible amount of xxunk the surfaces themselves are so disposed as to accommodate a denser population than could be accommodated on the same surfaces otherwise arranged . xxmaj nor is it any argument against bulk being an object with xxmaj god , that space itself is infinite ; for there may be an infinity</td>\n",
       "    </tr>\n",
       "    <tr>\n",
       "      <th>4</th>\n",
       "      <td>and kill out the good tree which the master had planted . xxmaj the enemy also persuaded many of the xxunk in the garden to neglect the good tree , and let the xxunk and weeds grow up around it and so prevent its growth . xxmaj thus in time the once precious fruit of the good tree became wild and xxunk , no better than the enemy 's trees which grew</td>\n",
       "      <td>kill out the good tree which the master had planted . xxmaj the enemy also persuaded many of the xxunk in the garden to neglect the good tree , and let the xxunk and weeds grow up around it and so prevent its growth . xxmaj thus in time the once precious fruit of the good tree became wild and xxunk , no better than the enemy 's trees which grew around</td>\n",
       "    </tr>\n",
       "    <tr>\n",
       "      <th>5</th>\n",
       "      <td>renowned yachts . xxmaj the vessel is entirely of steel , and her dimensions are as follows : xxmaj length , 28 meters ; extreme breadth , xxunk meters ; depth , xxunk meters ; draught , xxunk meters ; displacement , xxunk tons . xxmaj the engine , which is a compound one , is of 600 xxup xxunk . xxmaj the minimum speed required is 18 knots , or 33</td>\n",
       "      <td>yachts . xxmaj the vessel is entirely of steel , and her dimensions are as follows : xxmaj length , 28 meters ; extreme breadth , xxunk meters ; depth , xxunk meters ; draught , xxunk meters ; displacement , xxunk tons . xxmaj the engine , which is a compound one , is of 600 xxup xxunk . xxmaj the minimum speed required is 18 knots , or 33 -</td>\n",
       "    </tr>\n",
       "    <tr>\n",
       "      <th>6</th>\n",
       "      <td>wide . \\n \" xxunk you can tell me , xxmaj larry , \" the smaller boy presently said , \" just why xxmaj frank keeps sailing around over the lake that way ? xxmaj suppose he 's taking pictures from his xxunk ? \" \\n \" that might be , xxmaj elephant , \" xxmaj larry answered , slowly and thoughtfully . \" seems to me i did hear somebody talking</td>\n",
       "      <td>. \\n \" xxunk you can tell me , xxmaj larry , \" the smaller boy presently said , \" just why xxmaj frank keeps sailing around over the lake that way ? xxmaj suppose he 's taking pictures from his xxunk ? \" \\n \" that might be , xxmaj elephant , \" xxmaj larry answered , slowly and thoughtfully . \" seems to me i did hear somebody talking about</td>\n",
       "    </tr>\n",
       "    <tr>\n",
       "      <th>7</th>\n",
       "      <td>other bank . xxmaj for want of positive information the emperor was very undecided . xxmaj the question to be solved was , xxmaj had xxmaj general xxmaj xxunk crossed the xxmaj danube , or was he still in front of us , xxunk by a swarm of light cavalry , which , always flying , never let us get near enough to take a prisoner from whom one might get some</td>\n",
       "      <td>bank . xxmaj for want of positive information the emperor was very undecided . xxmaj the question to be solved was , xxmaj had xxmaj general xxmaj xxunk crossed the xxmaj danube , or was he still in front of us , xxunk by a swarm of light cavalry , which , always flying , never let us get near enough to take a prisoner from whom one might get some enlightenment</td>\n",
       "    </tr>\n",
       "    <tr>\n",
       "      <th>8</th>\n",
       "      <td>darkness on the stone shelf , with the canoe beside them . xxmaj they were no more than the point of a pin in the vast wilderness that stretched unknown thousands of miles from the xxmaj hudson to the xxmaj pacific , apparently as lost to the world as the xxunk in a cave ages earlier , when the whole earth was dark with forest and desert . \\n xxmaj although the</td>\n",
       "      <td>on the stone shelf , with the canoe beside them . xxmaj they were no more than the point of a pin in the vast wilderness that stretched unknown thousands of miles from the xxmaj hudson to the xxmaj pacific , apparently as lost to the world as the xxunk in a cave ages earlier , when the whole earth was dark with forest and desert . \\n xxmaj although the storm</td>\n",
       "    </tr>\n",
       "  </tbody>\n",
       "</table>"
      ],
      "text/plain": [
       "<IPython.core.display.HTML object>"
      ]
     },
     "metadata": {},
     "output_type": "display_data"
    }
   ],
   "source": [
    "dls_lm.show_batch(min_n=3)"
   ]
  },
  {
   "cell_type": "markdown",
   "id": "former-incentive",
   "metadata": {
    "papermill": {
     "duration": 0.039681,
     "end_time": "2021-06-16T11:46:41.511133",
     "exception": false,
     "start_time": "2021-06-16T11:46:41.471452",
     "status": "completed"
    },
    "tags": []
   },
   "source": [
    "getting the factory learner"
   ]
  },
  {
   "cell_type": "code",
   "execution_count": 15,
   "id": "reverse-telephone",
   "metadata": {
    "execution": {
     "iopub.execute_input": "2021-06-16T11:46:41.599484Z",
     "iopub.status.busy": "2021-06-16T11:46:41.598920Z",
     "iopub.status.idle": "2021-06-16T11:46:41.603145Z",
     "shell.execute_reply": "2021-06-16T11:46:41.602733Z",
     "shell.execute_reply.started": "2021-06-15T11:41:48.665909Z"
    },
    "papermill": {
     "duration": 0.052386,
     "end_time": "2021-06-16T11:46:41.603258",
     "exception": false,
     "start_time": "2021-06-16T11:46:41.550872",
     "status": "completed"
    },
    "tags": []
   },
   "outputs": [],
   "source": [
    "language_model_learner?"
   ]
  },
  {
   "cell_type": "code",
   "execution_count": 16,
   "id": "numeric-rebate",
   "metadata": {
    "execution": {
     "iopub.execute_input": "2021-06-16T11:46:41.687891Z",
     "iopub.status.busy": "2021-06-16T11:46:41.687371Z",
     "iopub.status.idle": "2021-06-16T11:46:45.901477Z",
     "shell.execute_reply": "2021-06-16T11:46:45.900998Z",
     "shell.execute_reply.started": "2021-06-15T11:41:48.681531Z"
    },
    "papermill": {
     "duration": 4.258316,
     "end_time": "2021-06-16T11:46:45.901612",
     "exception": false,
     "start_time": "2021-06-16T11:46:41.643296",
     "status": "completed"
    },
    "tags": []
   },
   "outputs": [
    {
     "data": {
      "text/html": [],
      "text/plain": [
       "<IPython.core.display.HTML object>"
      ]
     },
     "metadata": {},
     "output_type": "display_data"
    }
   ],
   "source": [
    "learn = language_model_learner(dls_lm, AWD_LSTM, metrics=[accuracy, Perplexity()], path=path, wd=0.1).to_fp16()"
   ]
  },
  {
   "cell_type": "markdown",
   "id": "metallic-spokesman",
   "metadata": {
    "papermill": {
     "duration": 0.040046,
     "end_time": "2021-06-16T11:46:45.982621",
     "exception": false,
     "start_time": "2021-06-16T11:46:45.942575",
     "status": "completed"
    },
    "tags": []
   },
   "source": [
    "training"
   ]
  },
  {
   "cell_type": "code",
   "execution_count": 17,
   "id": "falling-secret",
   "metadata": {
    "execution": {
     "iopub.execute_input": "2021-06-16T11:46:46.067395Z",
     "iopub.status.busy": "2021-06-16T11:46:46.066662Z",
     "iopub.status.idle": "2021-06-16T11:47:10.088548Z",
     "shell.execute_reply": "2021-06-16T11:47:10.088098Z",
     "shell.execute_reply.started": "2021-06-15T11:41:55.996958Z"
    },
    "papermill": {
     "duration": 24.066071,
     "end_time": "2021-06-16T11:47:10.088689",
     "exception": false,
     "start_time": "2021-06-16T11:46:46.022618",
     "status": "completed"
    },
    "tags": []
   },
   "outputs": [
    {
     "data": {
      "text/html": [
       "<table border=\"1\" class=\"dataframe\">\n",
       "  <thead>\n",
       "    <tr style=\"text-align: left;\">\n",
       "      <th>epoch</th>\n",
       "      <th>train_loss</th>\n",
       "      <th>valid_loss</th>\n",
       "      <th>accuracy</th>\n",
       "      <th>perplexity</th>\n",
       "      <th>time</th>\n",
       "    </tr>\n",
       "  </thead>\n",
       "  <tbody>\n",
       "    <tr>\n",
       "      <td>0</td>\n",
       "      <td>4.275177</td>\n",
       "      <td>3.912481</td>\n",
       "      <td>0.291956</td>\n",
       "      <td>50.022896</td>\n",
       "      <td>00:23</td>\n",
       "    </tr>\n",
       "  </tbody>\n",
       "</table>"
      ],
      "text/plain": [
       "<IPython.core.display.HTML object>"
      ]
     },
     "metadata": {},
     "output_type": "display_data"
    }
   ],
   "source": [
    "learn.fit_one_cycle(1, 1e-2)"
   ]
  },
  {
   "cell_type": "markdown",
   "id": "prostate-manor",
   "metadata": {
    "papermill": {
     "duration": 0.041235,
     "end_time": "2021-06-16T11:47:10.171996",
     "exception": false,
     "start_time": "2021-06-16T11:47:10.130761",
     "status": "completed"
    },
    "tags": []
   },
   "source": [
    "unfreeze all th elayers and train more"
   ]
  },
  {
   "cell_type": "code",
   "execution_count": 18,
   "id": "gentle-secretary",
   "metadata": {
    "execution": {
     "iopub.execute_input": "2021-06-16T11:47:10.257853Z",
     "iopub.status.busy": "2021-06-16T11:47:10.257041Z",
     "iopub.status.idle": "2021-06-16T11:55:42.883799Z",
     "shell.execute_reply": "2021-06-16T11:55:42.884759Z"
    },
    "papermill": {
     "duration": 512.67249,
     "end_time": "2021-06-16T11:55:42.884965",
     "exception": false,
     "start_time": "2021-06-16T11:47:10.212475",
     "status": "completed"
    },
    "tags": []
   },
   "outputs": [
    {
     "data": {
      "text/html": [
       "<table border=\"1\" class=\"dataframe\">\n",
       "  <thead>\n",
       "    <tr style=\"text-align: left;\">\n",
       "      <th>epoch</th>\n",
       "      <th>train_loss</th>\n",
       "      <th>valid_loss</th>\n",
       "      <th>accuracy</th>\n",
       "      <th>perplexity</th>\n",
       "      <th>time</th>\n",
       "    </tr>\n",
       "  </thead>\n",
       "  <tbody>\n",
       "    <tr>\n",
       "      <td>0</td>\n",
       "      <td>4.058709</td>\n",
       "      <td>3.863868</td>\n",
       "      <td>0.295080</td>\n",
       "      <td>47.649303</td>\n",
       "      <td>00:25</td>\n",
       "    </tr>\n",
       "    <tr>\n",
       "      <td>1</td>\n",
       "      <td>4.010111</td>\n",
       "      <td>3.812816</td>\n",
       "      <td>0.298659</td>\n",
       "      <td>45.277767</td>\n",
       "      <td>00:25</td>\n",
       "    </tr>\n",
       "    <tr>\n",
       "      <td>2</td>\n",
       "      <td>3.928046</td>\n",
       "      <td>3.775173</td>\n",
       "      <td>0.302329</td>\n",
       "      <td>43.605068</td>\n",
       "      <td>00:25</td>\n",
       "    </tr>\n",
       "    <tr>\n",
       "      <td>3</td>\n",
       "      <td>3.851564</td>\n",
       "      <td>3.755622</td>\n",
       "      <td>0.305292</td>\n",
       "      <td>42.760796</td>\n",
       "      <td>00:25</td>\n",
       "    </tr>\n",
       "    <tr>\n",
       "      <td>4</td>\n",
       "      <td>3.767414</td>\n",
       "      <td>3.743244</td>\n",
       "      <td>0.304134</td>\n",
       "      <td>42.234795</td>\n",
       "      <td>00:25</td>\n",
       "    </tr>\n",
       "    <tr>\n",
       "      <td>5</td>\n",
       "      <td>3.685995</td>\n",
       "      <td>3.737543</td>\n",
       "      <td>0.305100</td>\n",
       "      <td>41.994678</td>\n",
       "      <td>00:25</td>\n",
       "    </tr>\n",
       "    <tr>\n",
       "      <td>6</td>\n",
       "      <td>3.603581</td>\n",
       "      <td>3.738898</td>\n",
       "      <td>0.304271</td>\n",
       "      <td>42.051605</td>\n",
       "      <td>00:25</td>\n",
       "    </tr>\n",
       "    <tr>\n",
       "      <td>7</td>\n",
       "      <td>3.523590</td>\n",
       "      <td>3.743416</td>\n",
       "      <td>0.304283</td>\n",
       "      <td>42.242035</td>\n",
       "      <td>00:25</td>\n",
       "    </tr>\n",
       "    <tr>\n",
       "      <td>8</td>\n",
       "      <td>3.441977</td>\n",
       "      <td>3.748778</td>\n",
       "      <td>0.305263</td>\n",
       "      <td>42.469158</td>\n",
       "      <td>00:25</td>\n",
       "    </tr>\n",
       "    <tr>\n",
       "      <td>9</td>\n",
       "      <td>3.388050</td>\n",
       "      <td>3.763119</td>\n",
       "      <td>0.302767</td>\n",
       "      <td>43.082611</td>\n",
       "      <td>00:25</td>\n",
       "    </tr>\n",
       "    <tr>\n",
       "      <td>10</td>\n",
       "      <td>3.316777</td>\n",
       "      <td>3.770840</td>\n",
       "      <td>0.303815</td>\n",
       "      <td>43.416508</td>\n",
       "      <td>00:25</td>\n",
       "    </tr>\n",
       "    <tr>\n",
       "      <td>11</td>\n",
       "      <td>3.258298</td>\n",
       "      <td>3.779333</td>\n",
       "      <td>0.303123</td>\n",
       "      <td>43.786831</td>\n",
       "      <td>00:25</td>\n",
       "    </tr>\n",
       "    <tr>\n",
       "      <td>12</td>\n",
       "      <td>3.199128</td>\n",
       "      <td>3.789783</td>\n",
       "      <td>0.304131</td>\n",
       "      <td>44.246799</td>\n",
       "      <td>00:25</td>\n",
       "    </tr>\n",
       "    <tr>\n",
       "      <td>13</td>\n",
       "      <td>3.154408</td>\n",
       "      <td>3.797659</td>\n",
       "      <td>0.301811</td>\n",
       "      <td>44.596668</td>\n",
       "      <td>00:25</td>\n",
       "    </tr>\n",
       "    <tr>\n",
       "      <td>14</td>\n",
       "      <td>3.120553</td>\n",
       "      <td>3.804051</td>\n",
       "      <td>0.301765</td>\n",
       "      <td>44.882633</td>\n",
       "      <td>00:25</td>\n",
       "    </tr>\n",
       "    <tr>\n",
       "      <td>15</td>\n",
       "      <td>3.090577</td>\n",
       "      <td>3.808416</td>\n",
       "      <td>0.301636</td>\n",
       "      <td>45.078972</td>\n",
       "      <td>00:25</td>\n",
       "    </tr>\n",
       "    <tr>\n",
       "      <td>16</td>\n",
       "      <td>3.055212</td>\n",
       "      <td>3.813831</td>\n",
       "      <td>0.301437</td>\n",
       "      <td>45.323734</td>\n",
       "      <td>00:25</td>\n",
       "    </tr>\n",
       "    <tr>\n",
       "      <td>17</td>\n",
       "      <td>3.032384</td>\n",
       "      <td>3.814502</td>\n",
       "      <td>0.301536</td>\n",
       "      <td>45.354176</td>\n",
       "      <td>00:25</td>\n",
       "    </tr>\n",
       "    <tr>\n",
       "      <td>18</td>\n",
       "      <td>3.031038</td>\n",
       "      <td>3.817452</td>\n",
       "      <td>0.301455</td>\n",
       "      <td>45.488144</td>\n",
       "      <td>00:25</td>\n",
       "    </tr>\n",
       "    <tr>\n",
       "      <td>19</td>\n",
       "      <td>3.027489</td>\n",
       "      <td>3.817053</td>\n",
       "      <td>0.301300</td>\n",
       "      <td>45.470024</td>\n",
       "      <td>00:25</td>\n",
       "    </tr>\n",
       "  </tbody>\n",
       "</table>"
      ],
      "text/plain": [
       "<IPython.core.display.HTML object>"
      ]
     },
     "metadata": {},
     "output_type": "display_data"
    }
   ],
   "source": [
    "learn.unfreeze()\n",
    "learn.fit_one_cycle(20, 1e-3)"
   ]
  },
  {
   "cell_type": "markdown",
   "id": "national-administrator",
   "metadata": {
    "papermill": {
     "duration": 0.075786,
     "end_time": "2021-06-16T11:55:43.033865",
     "exception": false,
     "start_time": "2021-06-16T11:55:42.958079",
     "status": "completed"
    },
    "tags": []
   },
   "source": [
    "good enough accuracy, let;s save it"
   ]
  },
  {
   "cell_type": "code",
   "execution_count": 19,
   "id": "arctic-denial",
   "metadata": {
    "execution": {
     "iopub.execute_input": "2021-06-16T11:55:43.172015Z",
     "iopub.status.busy": "2021-06-16T11:55:43.170922Z",
     "iopub.status.idle": "2021-06-16T11:55:43.417657Z",
     "shell.execute_reply": "2021-06-16T11:55:43.418446Z"
    },
    "papermill": {
     "duration": 0.326477,
     "end_time": "2021-06-16T11:55:43.418648",
     "exception": false,
     "start_time": "2021-06-16T11:55:43.092171",
     "status": "completed"
    },
    "tags": []
   },
   "outputs": [],
   "source": [
    "learn.path = Path(\".\")\n",
    "learn.save_encoder('./final_encoder')"
   ]
  },
  {
   "cell_type": "markdown",
   "id": "genetic-grocery",
   "metadata": {
    "papermill": {
     "duration": 0.067488,
     "end_time": "2021-06-16T11:55:43.554091",
     "exception": false,
     "start_time": "2021-06-16T11:55:43.486603",
     "status": "completed"
    },
    "tags": []
   },
   "source": [
    "# Can we use a classifier to predict the scores?\n",
    "My intution is that I can use a text classifier to predict the scores. Let me try that out."
   ]
  },
  {
   "cell_type": "markdown",
   "id": "finite-command",
   "metadata": {
    "papermill": {
     "duration": 0.068809,
     "end_time": "2021-06-16T11:55:43.690274",
     "exception": false,
     "start_time": "2021-06-16T11:55:43.621465",
     "status": "completed"
    },
    "tags": []
   },
   "source": [
    "using fastai datablock to gather data.\n",
    "\n",
    "Here I will use the `Textblock` to grab the text data and the labels.\n",
    "\n",
    "I will try to use the RegressionBlock which is a transfrom block for float targets."
   ]
  },
  {
   "cell_type": "code",
   "execution_count": 20,
   "id": "novel-google",
   "metadata": {
    "execution": {
     "iopub.execute_input": "2021-06-16T11:55:43.781300Z",
     "iopub.status.busy": "2021-06-16T11:55:43.780809Z",
     "iopub.status.idle": "2021-06-16T11:55:43.784822Z",
     "shell.execute_reply": "2021-06-16T11:55:43.784383Z"
    },
    "papermill": {
     "duration": 0.052818,
     "end_time": "2021-06-16T11:55:43.784926",
     "exception": false,
     "start_time": "2021-06-16T11:55:43.732108",
     "status": "completed"
    },
    "tags": []
   },
   "outputs": [],
   "source": [
    "TextDataLoaders.from_df?"
   ]
  },
  {
   "cell_type": "code",
   "execution_count": 21,
   "id": "saving-apartment",
   "metadata": {
    "execution": {
     "iopub.execute_input": "2021-06-16T11:55:43.873922Z",
     "iopub.status.busy": "2021-06-16T11:55:43.873265Z",
     "iopub.status.idle": "2021-06-16T11:55:43.876741Z",
     "shell.execute_reply": "2021-06-16T11:55:43.876267Z",
     "shell.execute_reply.started": "2021-06-16T11:39:26.136870Z"
    },
    "papermill": {
     "duration": 0.050747,
     "end_time": "2021-06-16T11:55:43.876844",
     "exception": false,
     "start_time": "2021-06-16T11:55:43.826097",
     "status": "completed"
    },
    "tags": []
   },
   "outputs": [],
   "source": [
    "df_train = df_train.drop(['id', 'url_legal', 'license', 'standard_error'], axis=1)"
   ]
  },
  {
   "cell_type": "code",
   "execution_count": 22,
   "id": "later-finance",
   "metadata": {
    "execution": {
     "iopub.execute_input": "2021-06-16T11:55:43.982689Z",
     "iopub.status.busy": "2021-06-16T11:55:43.972345Z",
     "iopub.status.idle": "2021-06-16T11:55:54.288934Z",
     "shell.execute_reply": "2021-06-16T11:55:54.287906Z",
     "shell.execute_reply.started": "2021-06-16T11:40:34.652388Z"
    },
    "papermill": {
     "duration": 10.370495,
     "end_time": "2021-06-16T11:55:54.289075",
     "exception": false,
     "start_time": "2021-06-16T11:55:43.918580",
     "status": "completed"
    },
    "tags": []
   },
   "outputs": [
    {
     "data": {
      "text/html": [],
      "text/plain": [
       "<IPython.core.display.HTML object>"
      ]
     },
     "metadata": {},
     "output_type": "display_data"
    },
    {
     "name": "stderr",
     "output_type": "stream",
     "text": [
      "/opt/conda/lib/python3.7/site-packages/numpy/core/_asarray.py:83: VisibleDeprecationWarning: Creating an ndarray from ragged nested sequences (which is a list-or-tuple of lists-or-tuples-or ndarrays with different lengths or shapes) is deprecated. If you meant to do this, you must specify 'dtype=object' when creating the ndarray\n",
      "  return array(a, dtype, copy=False, order=order)\n"
     ]
    }
   ],
   "source": [
    "dls = TextDataLoaders.from_df(df_train, path=path, y_block=RegressionBlock, valid_pct=0.3, text_vocab=dls_lm.vocab, bs=128)"
   ]
  },
  {
   "cell_type": "code",
   "execution_count": 23,
   "id": "julian-trunk",
   "metadata": {
    "execution": {
     "iopub.execute_input": "2021-06-16T11:55:54.378000Z",
     "iopub.status.busy": "2021-06-16T11:55:54.376479Z",
     "iopub.status.idle": "2021-06-16T11:55:54.378717Z",
     "shell.execute_reply": "2021-06-16T11:55:54.379116Z"
    },
    "papermill": {
     "duration": 0.047636,
     "end_time": "2021-06-16T11:55:54.379240",
     "exception": false,
     "start_time": "2021-06-16T11:55:54.331604",
     "status": "completed"
    },
    "tags": []
   },
   "outputs": [],
   "source": [
    "#data = DataBlock(\n",
    "#    blocks=(TextBlock.from_df('excerpt', vocab=dls_lm.vocab,seq_len=72), RegressionBlock),\n",
    "#    get_x=ColReader('text'),get_y=ColReader('target'),\n",
    "#    splitter=RandomSplitter())"
   ]
  },
  {
   "cell_type": "code",
   "execution_count": 24,
   "id": "robust-church",
   "metadata": {
    "execution": {
     "iopub.execute_input": "2021-06-16T11:55:54.466204Z",
     "iopub.status.busy": "2021-06-16T11:55:54.465483Z",
     "iopub.status.idle": "2021-06-16T11:55:54.468086Z",
     "shell.execute_reply": "2021-06-16T11:55:54.467584Z"
    },
    "papermill": {
     "duration": 0.047323,
     "end_time": "2021-06-16T11:55:54.468199",
     "exception": false,
     "start_time": "2021-06-16T11:55:54.420876",
     "status": "completed"
    },
    "tags": []
   },
   "outputs": [],
   "source": [
    "#dls = data.dataloaders(df_all, bs=64)"
   ]
  },
  {
   "cell_type": "code",
   "execution_count": 25,
   "id": "improved-trader",
   "metadata": {
    "execution": {
     "iopub.execute_input": "2021-06-16T11:55:54.556941Z",
     "iopub.status.busy": "2021-06-16T11:55:54.556162Z",
     "iopub.status.idle": "2021-06-16T11:55:54.597982Z",
     "shell.execute_reply": "2021-06-16T11:55:54.598392Z"
    },
    "papermill": {
     "duration": 0.088373,
     "end_time": "2021-06-16T11:55:54.598512",
     "exception": false,
     "start_time": "2021-06-16T11:55:54.510139",
     "status": "completed"
    },
    "tags": []
   },
   "outputs": [
    {
     "data": {
      "text/plain": [
       "(#1984) [(TensorText([   2,    8,   21,   18,   48,   13,   54,  462, 5454,   11,    8,   30,\n",
       "        4588,  246,   12,  304,  101,  222,   10,   26,   80,  170,   20,  174,\n",
       "          64,  282,  384,  123,   25,   61,  111,   30,   64,  105,  146, 1491,\n",
       "          12,   34,  130,   14,  226,   10,   12,   21,   64,  204,   36,   90,\n",
       "           9, 3548,   37,   30,   64,  204,  308,  222,   12,   36, 1375,   13,\n",
       "         148,   73,   11,    8,   12,    9, 2061,   26,   89, 6799,   92,    9,\n",
       "          97, 5414,   28,  220,  182,   47,   30,  799,   35,  653,   92,   54,\n",
       "         180,   66,  260,   10,    9,    8, 7086,   10,  110,    9, 1522,  277,\n",
       "          90,  159,   10,   12,    8,  579,   18,  204,  956,    9,  102,   28,\n",
       "        3987,   10,  137,    8, 4728, 1431,    9, 2173,    0, 3532,   13,    9,\n",
       "        6919,   10,   47,   42, 1808,   12, 1478, 1989,   92,  372,   51,   10,\n",
       "           9,   97,    8,    0,   10,  246,   47,   30, 2870,   26,   15,  733,\n",
       "          13, 1112,   10,   14,  122,    9, 3086,  650,   28, 2510,   10,    9,\n",
       "        2963,    8,    0,   10,  140,   62,   90,   15,  888, 3455,   10,   46,\n",
       "          14,  122,    9,    8,   97,    8, 3254,   47,   32,  187, 9816,   12,\n",
       "        5083,   90,   15,  124,   92,   88,  178,   64,  204,   36,  145,    9,\n",
       "         165,   14,   61,   11,    8,  579,  170,   95,   45,   35,   15, 8547,\n",
       "          81,  335,   29,  126,   73, 1184,   13,    9, 5194,   37,   12,    8,\n",
       "        4728,   10,   52,   42,  510,   76,    8,    0,  978,   17,    9,  260,\n",
       "          96,   47,   55,   19,   80, 1676,   10,   17,  204,  166,    9,    8,\n",
       "           0,  169,    9,  338, 7410,   39,    9,    8,   97,    8, 3254,   11]), tensor(-1.0636)),(TensorText([    2,     8,   367,    33,  2575,    14,     0,   372,   301,    10,\n",
       "           12,    30,   114,   288,  2983,   661,   301,    11,     8,     9,\n",
       "         3395,  2369,     9,  1281,    13,    15,   527,    19,    89,   180,\n",
       "           66,  1465,   106,     9,     0,    10,    12,    21,    19,    34,\n",
       "           57,  1565,  2612,    60,     8,     9,   671,   176,  1281,    19,\n",
       "          297,    13,  4148,    11,     8,    13,    88,  4148,    10,    55,\n",
       "           33,    75,    20, 10506,   230,    28,    12,    28,   189,  2435,\n",
       "           26,     9,  1281,    13,   367,    11,     8,    48,   109,   481,\n",
       "           13,     0,   770,    19,   106,     0,     0,  1977,    69,  7512,\n",
       "           71,    10,    47,    56,     0,    24,     7,  7512,    11,     8,\n",
       "          113,    83,   109,    15,  1465,    16,     9,     0,    36,    13,\n",
       "          210,    14,    89,   527,  1400,    72,    23,     8,   128,    10,\n",
       "           44,    33,   529,    14,   467,    76,    14,     0,    15,  5789,\n",
       "        10507,    46,   130,    14,     9,  1040,    25,     0,    52,    44,\n",
       "          517,   951,    11,     8,   367,    59,    34,   617,    10,    53,\n",
       "           30,  2309,    29,    54,  1281,    14,  1210,    25,   102,    12,\n",
       "         1201,    11,     8,  1281,    33,  2232,    16,   745,    10,    13,\n",
       "          340,    10,    53,   367,   216,    14,    73,  2525,    25,   210,\n",
       "           10,   594,     7,  7512,    11,     7,  7512,    33,  1977,    69,\n",
       "         1225,    14,  8433,    71,    20,    33,   578,    16,  1321,    14,\n",
       "         1281,    12,    30,  3137,     9,   527,    50,  1281,    14,   809,\n",
       "           87,  1201,   982,    25,  1221,    11,     8,     9,  1125,    13,\n",
       "            7,  7512,    19,   123,  4558,    94,   527,  1281,   243,    10,\n",
       "           53,     9,  1977,    33,   376,    14,  4134,  3853,    87,  7172,\n",
       "           94,     9,   527,    11]), tensor(-0.8875)),(TensorText([    2,     8,     9,     0,    12,     9,   369,   939,   191,   115,\n",
       "          171,   184,    10,    25,    15,   211,   373,   400,  1132,    16,\n",
       "            9,     0,    10,    12,     9,    17,     0,    17,   193,    14,\n",
       "         2817,    12,  6393,    16,    15,   790,    47,    93,    51,    43,\n",
       "            0,  1515,   723,    14,     0,   323,    14,    54, 11734,    11,\n",
       "            8,   414,    11,     8,     0,    12,     8,  4611,    45,   315,\n",
       "            9,  1882,  7027,    13,   233,    28,  6282,    37,    12,     8,\n",
       "         6859,    10,   108,  3232,    61,    14,  2986,    16,    54,     0,\n",
       "           10,   143,   398,   149,     0,    12,  1243,    14,   713,    62,\n",
       "           15,   426,   509,    10,    12,     0,  7840,    14,    43,   180,\n",
       "           11,    23,     8,    24,     9,   221,   115,    29,    10,     9,\n",
       "          373,   461,  1393,    12,     9,   866,  2003,    11,     8,     9,\n",
       "           17,     0,    17,    32,     9,  4572,    13,   156,    15,  3131,\n",
       "           17,  7648,    10,    17,    12,   277,  1594,    14,  8931,    21,\n",
       "           29,    41,   923,  1721,    11,     8,   101,    10,   101,    10,\n",
       "          101,     9,    97,  7817,    64,  7370,   396,     8,  6859,    64,\n",
       "          569,    43,  2351,    26,   708,  4589,    21,   199,   164,   256,\n",
       "          408,   184,    37,    79,   525,    10,   525,     9,   454,    64,\n",
       "           36,    93,    10,    12,    62,    10,    62,    10,    62,    21,\n",
       "           64,   130,    10,   396,     9,   763,  4419,    29,     9,    73,\n",
       "          209,    18,  2699, 10510,    11,     8,    29,     9,   286,    10,\n",
       "            8,  6859,  4396,    14,    49,    43,   180,   209,    13,     9,\n",
       "          655,    10,     9,  5061,    48,    37,    25,    21,    18,   341,\n",
       "          627,    14,   333,   398,    16,     9, 11735,    10,    40,    47,\n",
       "           42,    18,    16,  9273,  1137,    13,   156,  1785,    11]), tensor(-1.8396)),(TensorText([   2,    8, 4239,   98,   34,  302,   14,  701,   43,  112,  446,   12,\n",
       "          42,  356,   14, 1082,   11,   23,    8,   43,  157,   18, 2509,   14,\n",
       "         701,   43,  812,  436,  139, 3511,  335,   16,    9, 4207, 2458,   20,\n",
       "         446,   11,    8,   38,    8, 4239,  407,   53,  123,   20,   43,  157,\n",
       "         771, 1333,   20,   42,   83,  819,  332,   11,   23,    8, 4239,   50,\n",
       "         157,  250,   43,   20,   42,   64,  676,  241,  136,  103,   11,    8,\n",
       "          42,   67,   10,   17,   31,   82, 1327,   15,  874,   53,   20,   44,\n",
       "         155,   21,   50,  118,   11,    8,   74,  131,  318,    9,  287,   25,\n",
       "        1645,  662,   10,   84,  386,   11,   17,    8,   42, 1211,    9,  874,\n",
       "         111,   17, 4239,   84,  386,   60,    8, 4239,   84,  386,   60,    8,\n",
       "         140,   63,   12,  298,  121, 6038,   60,    8,  140,   63,   12,  298,\n",
       "         121, 6038,   60,   17,   23,    8,    9,  278,  248,    8, 4239,   50,\n",
       "         157,  115,   14,    9,  153,   26,  241,   11,    8,   42, 1211,   54,\n",
       "         628,  874,   11,    8, 4239,  482,    9,  287,   12,  203,   43,  157,\n",
       "          50, 2545,  241,   11,    8,   79,   43,  157, 5364,   43,   12,  119,\n",
       "         141,   14,   43,  138,  159,   11,   23,   15, 1159,   18, 3405,   16,\n",
       "           9, 2278,   10, 1279,   12, 2252,   14,    8, 4239,   12,   43,  157,\n",
       "          60,    8,  108,    8, 4239, 8767,  171,   43,  188,   20,  221,   10,\n",
       "          42,  253,   15,  486,  497, 1336,   43,  157,   50,  874,  667,    9,\n",
       "         287,   11,   17, 4239,   84,  386,   60,    8,  140,   63,   12,  298,\n",
       "         121, 6038,   60,   17, 1211,    9, 1159,   11,   17,  130,  144,   60,\n",
       "           8,   44,   33,   34,   84,  157,   60,    8,   44,   33,   15, 1159,\n",
       "          60,   17, 1151,    8, 4239,   11]), tensor(0.1063)),(TensorText([   2,    8,   24, 2383,   10,  117, 1840,   29,    8,  195,   19,  362,\n",
       "          24, 1840,  385,   10,   47,   19,    0,   25,  367,   12,  251,   11,\n",
       "           8,   16,    9,  358, 9915,   50,   10,  463,  685,  113,   14, 5711,\n",
       "        1840,  385,   40,    9,  949,   68, 1840,   28, 1706, 2524,   20,   83,\n",
       "          36,  133,   14,    0, 5712,   11,    8,   41, 1425, 8290,   19,  106,\n",
       "           9, 8291,   28, 8292,  441,   11,    8,  258,   51,    9, 1840,   16,\n",
       "        1425, 7963,   19, 1037,  129,    9, 8291,   28, 8292,  441,   11,   23,\n",
       "           8,   41, 1425, 8290,   13, 1840,   19, 3832,   16,  722,    0,   12,\n",
       "         181, 2871,   51,   96,    9,  160,   11,    8,    9, 8291,   28, 8292,\n",
       "         441, 2314,   20, 1840,  385,   36, 1993,   26,  891,  385,   69,    0,\n",
       "          71,   12,  185,  182, 2420,  536,   69, 2751,  311, 2630,  536,   71,\n",
       "          11,    8,   41,   19,    9,  536,   44,   64,  517,   85,   44, 8293,\n",
       "         853,   10,    5,  207,  296, 1849,   69,    0,  249,   71, 2418,    9,\n",
       "         233,   10,   47,   19,   15,  509,  528,   94, 1496,    8, 9916,    8,\n",
       "        4452, 9691,   29,  419,   13,   48,  172,   60,    8,   41,    0,  385,\n",
       "        2220,   19,   79, 3205,   14,   65,  235, 1969,   69,    0, 1256, 1545,\n",
       "         825,    0, 1256, 4116,   71,   11,    8, 9917,   88,  235, 8294,   12,\n",
       "        1969, 2314,   15,  933,  464,   13,  289,   11,    8,    9, 8291,   28,\n",
       "        8292,  441,   19, 2888,   14, 8295,    0,  806,   13,    9,  160,   50,\n",
       "         289, 1068,  148,  232,   11]), tensor(-1.4314)),(TensorText([   2,    8,  974,   76,    9,    8, 3018,   12,    9,  770,   20,  308,\n",
       "          55,   19, 2355,  627,  139,   41,  498,   19, 3588, 9847,   11,    8,\n",
       "          25,  123,   13,    9,  232,   10,  615,  473, 5679,  126, 1418,   40,\n",
       "        2068,   12,    9,  610,   19,  149, 1215,   14,  593,   63, 1102,   11,\n",
       "           8,  139,   13,   41,   10,   56,  105,  122,    0,   13,    9, 1095,\n",
       "          20, 1153,   16,    9,    8, 3018,   10, 1456,   16,    9,  447,  813,\n",
       "          11,    8,  900,   16,    9,    8, 3018,    8,  498,   33, 6308,   10,\n",
       "          26,  120,   10, 4753, 9848,   12,  399,   10, 1656, 7145,   11,    8,\n",
       "        1413,  219, 1969,   16,  511,   59,  592,   14,    0, 1256, 1545,   12,\n",
       "        1086,   62,   14,  975, 1256, 1545,   16,    9,  447,   10,  389,    9,\n",
       "         498,  567, 1626, 2113,   35,  176,    0,   14,    0, 1256, 1545,   11,\n",
       "           8,  123,   13,    9,  102,   19, 4027,   62,   24,  473,   11,    8,\n",
       "        2205,   29,  113,  240,  505,   44,   33,   10,   55,   59,   36,   62,\n",
       "          14,  258,  295,   15,  232,   13, 1272, 1869,  244,    9,  511,   10,\n",
       "          46,    0,   13, 2473,  244,    9,  447,   11,   23,   15,  572,   13,\n",
       "        1546,  308,   16,   46, 2350, 2418,  233,  473,   11,    8,    9,  473,\n",
       "          20,  798,   29,    9,    8, 3018,    8,  498,   19,   34,   24,  999,\n",
       "          24,   44,  199,  190,   11,    8, 1503,  590,  102, 5680,    0,    9,\n",
       "         473,   11,    8,   88, 5680,  593,   65,    0,  102,   12,   33,  106,\n",
       "           0,   11,    8, 1350,   13, 1546,   10,  594, 1632]), tensor(-0.3866)),(TensorText([   2,    8,   48,  248,   16,    8, 2978,   10,    9,  610,  156,   65,\n",
       "        1329,   10,    8, 4006,   18,  360,   68,    9, 1222,   14,  308,   10,\n",
       "          12,   15, 7571,  261,   94,   22,   83,   34,   36, 5591,   10, 7813,\n",
       "          76,  108,    9, 1828,   12,    0,   40,  248,  239,  221,   10, 4901,\n",
       "           9, 2134,   10, 7313,    0,   12, 9232,   92,   16,  428,   10, 4729,\n",
       "          14,   51,    9, 4006,   20,  115,   16,   27,  116,   11,   23,    8,\n",
       "          48,  103,   10,   76,   91,  944,  108,   22,  115,   68,    9,  153,\n",
       "          14,  308,   10,   15, 1161,  115,   40,    8,    0,  801,   20,   22,\n",
       "          10,  149,   10,  154,   36,  484,  171,   11,    8,   12,   13,  340,\n",
       "          10,    8, 4006,  259,   76,   21,   11,    8,  113,   83,   22,  210,\n",
       "          21,   10,   52,    9,  286, 2175,   45,   53, 1476,   14,   49,   58,\n",
       "         130,   72,    8,   12, 3717,   22,  193,   14,  135,  388,   25,    9,\n",
       "         120,  984,   22,   18,   53,  191,   14,  189,   11,   23,    8,   24,\n",
       "          22,  304,   39,    9, 1316,   10, 1865,  680,   14,  135,   62,   27,\n",
       "         377,   78,   14,  189,   26,   58,   10,   27,  100,  170,   18,   13,\n",
       "           9,  112,  922,   22,   32,   32,   24,   15,  427,   37,   53,   22,\n",
       "        1668,    9,  217,   10,  203,    9,  922,   16,   27,  761,   10,   12,\n",
       "          26,   27, 3934, 6689,   21,   62,   68,   15, 6720,   11]), tensor(-0.1839)),(TensorText([    2,     8,     9,  4133,   267,    69,   106,   114,  4133,  1444,\n",
       "           10,     0,   267,    71,    19,    15,  3807,   267,  3288,    13,\n",
       "          720,  5233,    12,  2125,   133,    25,     9,   441,    13,  4491,\n",
       "           16,    57,  1103,    11,     8,     9,  4133,   267,    19,  1906,\n",
       "           16,     9,     0,    12,  2857,    13,   620,    12,   550,  1351,\n",
       "          169,    57,  1103,    12,     9,   795,    11,    23,     8,    16,\n",
       "          219,    28,  2542,  5132,    90,   330,  3164,    10,  4491,   783,\n",
       "          168,    16,     9,  4133,  5233,   106,  2618,    11,     8,     9,\n",
       "         2140,    13,   219,    68,     9,  2618,    14,  1068,     9,   271,\n",
       "           26,   620,    19,   213,    24,     0,    10,    12,     9,  2140,\n",
       "           13,   219,    63,    13,     9,  2618,    14,  9476,   550,  1351,\n",
       "           19,   213,    24,     0,    37,    41,   441,    19,  9886,   106,\n",
       "         2542,    46, 10345,    11,     8,    16,   457,    12,    73,  3446,\n",
       "           10,     9,  7443,  1549,    13,     9,  4133,   267,   965,     0,\n",
       "           10,     0,    10,     0,    10,  2618,    10,    12, 10346,    11,\n",
       "            8,  1173,    13,   620,    12,   550,  1351,    33,     0,  8161,\n",
       "           10,    39, 10117,    10,   169,     9,  6453,  2042,   795,    12,\n",
       "            9,   471,    11,     8,    41,  2857,   441,  1633,    16,     9,\n",
       "        10347,    69,   219,     0,    71,    16,     9,  2618,    11]), tensor(-1.4749)),(TensorText([    2,     8,  8726,    19,    15,   754,    13,  2535,  5977,    11,\n",
       "            8,     9,  7981,  7118,    68,     9,  1869,    10, 11122,   136,\n",
       "         1403,    14,    36,    57,  2247,  1165,    11,     8,  1752,   348,\n",
       "          883,    14,   384,    54,   786,    37,  9082,    13,   562,    10,\n",
       "          433,   227,   402,    10,   883,    14,    36,   196,   374,    96,\n",
       "            9,   434,    28,   516,    11,     8,    48,   124,  1245,   172,\n",
       "           37,     9,  2224,  3092,    19,   106,   134,    11,     8,    22,\n",
       "           16,   454,  5729,    27,  8926,    14,    57,  2251,    11,    15,\n",
       "          519,  1949,    19,  1433,    35,     9,  4629,   559,    10,    12,\n",
       "           80,   349,    19,   253,    11,     8,    53,     9,   221,   915,\n",
       "           29,    11,     8,    52,    56,    45,   138,    14,     9,   762,\n",
       "           15,   519,  1949,    18,   263,    14,  2045,     9,   286,   516,\n",
       "           10,    12,  1054,    13, 10728,    45,  4915,    68,     9,  1869,\n",
       "           11,     8,   107,    56,   155,   339,    11,     8,    53,   114,\n",
       "           74,     9,  1165,    11,     8,    12,    21,    18,  5529,    14,\n",
       "          229,    20,   104,  4070,    32,    34,    51,    70,  5889,    10,\n",
       "           25,    15,  6081,  1313,   685,    87,    94,    15,   499,   973,\n",
       "            8,  3256,    16,    15,   479,    16,   423,    13,   150,    11,\n",
       "            8,     9,  4070,    32,    34,    70,  5889,    20,    86,    11,\n",
       "            8,    38,    10,   380,    10,    78,    15,     0,   208,    60]), tensor(-0.5542)),(TensorText([   2,    8, 4288,  119,   29,   43,  116,   10,   12, 1808,   51,   76,\n",
       "          21,   11,    8,   38,   42,  164, 1808,   14,   36,  310,   37,   12,\n",
       "         191,  108,   10,   24,   42,   18,  397,   16,    9,  562,   25, 5095,\n",
       "          10,   42,  143,   15,  413,   28,  779,   26,   15,  714, 2090,   11,\n",
       "          23,   17,  210,  118,   14,   84, 1640,   10,   46,   84, 1446,   82,\n",
       "        4731,   10,   17,  407,    9,  352,  294,   11,   23,   17,  556,   10,\n",
       "          31,   82,   37,   12,  676,   88, 2570,   53,   20,   44,   59,  333,\n",
       "         158,  396,  121, 2090,   19,  339,   10,   12,   49,  257,   14,  298,\n",
       "          11,   17,   23,    8, 4288,  203,    9,  779, 1062,   16,   43,   66,\n",
       "         262,   10,   12, 1331,   62,    9,  714, 2090,   26,   15, 1992,   13,\n",
       "           0,   12,   15, 5280,   13,  562,   11,    8,   79,   42,  468,   43,\n",
       "          14,    9, 1640,  182,    9, 1281,   13,   57,  112,  220,   10,  110,\n",
       "         269,  366, 2773,   45,    0, 5929,   25,   54,  157,   11,    8,   42,\n",
       "          93,   15,  427,   13,    0,   25,    9,  951,  779,   10,   12,  185,\n",
       "         402,  357,  809,   51,    9, 2570,   12, 1376,   42,   83,  229,   10,\n",
       "          12,  394,   57,    0,   28, 2855,   13,  102,   40,    9,  650,   10,\n",
       "          53,   30,   83,   36, 2004,   11,   23,   17,  125,   66,    8, 4288,\n",
       "          10,   31,  410,  792,   44,   25,   51,   41, 3583,   75,  103,   10,\n",
       "          17,   67,    9,  779,   10,   52,   42,   18,  320,   11]), tensor(1.2893))...]"
      ]
     },
     "execution_count": 25,
     "metadata": {},
     "output_type": "execute_result"
    }
   ],
   "source": [
    "dls.dataset"
   ]
  },
  {
   "cell_type": "code",
   "execution_count": 26,
   "id": "cheap-fiction",
   "metadata": {
    "execution": {
     "iopub.execute_input": "2021-06-16T11:55:54.689320Z",
     "iopub.status.busy": "2021-06-16T11:55:54.688553Z",
     "iopub.status.idle": "2021-06-16T11:55:54.860729Z",
     "shell.execute_reply": "2021-06-16T11:55:54.861155Z"
    },
    "papermill": {
     "duration": 0.219976,
     "end_time": "2021-06-16T11:55:54.861299",
     "exception": false,
     "start_time": "2021-06-16T11:55:54.641323",
     "status": "completed"
    },
    "tags": []
   },
   "outputs": [
    {
     "data": {
      "text/html": [
       "<table border=\"1\" class=\"dataframe\">\n",
       "  <thead>\n",
       "    <tr style=\"text-align: right;\">\n",
       "      <th></th>\n",
       "      <th>text</th>\n",
       "      <th>text_</th>\n",
       "    </tr>\n",
       "  </thead>\n",
       "  <tbody>\n",
       "    <tr>\n",
       "      <th>0</th>\n",
       "      <td>xxbos xxmaj in those days all cloth had to be made at home . xxmaj aunt xxmaj xxunk , xxmaj aunt xxmaj xxunk , and xxmaj aunt xxmaj dilsey were kept busy spinning and weaving to make clothes for the whole plantation . \\n xxmaj one day xxmaj mary 's mother said , \" aunt xxmaj dilsey , xxmaj mary needs a new dress , and i want you to weave some cloth at once . xxmaj can you weave some very fine cloth ? \" \\n \" yes , ma'am , \" said xxmaj aunt xxmaj dilsey . \" i have some cotton xxmaj i 've been saving to make her a dress . \" \\n xxmaj aunt xxmaj dilsey got out the cards and carded the cotton smooth and fine . xxmaj then she fastened a roll of this cotton to the spindle and sent the wheel xxunk</td>\n",
       "      <td>0.08876363933086395</td>\n",
       "    </tr>\n",
       "    <tr>\n",
       "      <th>1</th>\n",
       "      <td>xxbos xxmaj mother xxmaj goat passes by . \" will you go to the fair with me ? \" she asks xxmaj mother xxmaj hen . \\n \" i 'm busy with my eggs , \" xxmaj mother xxmaj hen answers . xxmaj one , two , three , four , five , six . \\n xxmaj six round eggs ! xxmaj mother xxmaj pig passes by . \" will you go to the fair with me ? \" she asks . \" i 'm busy with my eggs , \" answers xxmaj mother xxmaj hen . xxmaj one , two , three , four , five , six . xxmaj six round eggs ! xxmaj mother xxmaj cow passes by . \" will you go to the fair with me ? \" she asks xxmaj mother xxmaj hen . \" i 'm busy with my eggs , \" answers</td>\n",
       "      <td>0.6820314526557922</td>\n",
       "    </tr>\n",
       "    <tr>\n",
       "      <th>2</th>\n",
       "      <td>xxbos xxmaj the xxmaj battle of xxmaj xxunk is considered the turning point of the xxmaj american xxmaj revolution . xxmaj the battle was fought in late 1 xxrep 3 7 . xxup i. xxmaj it was actually two xxunk : the xxmaj battle of xxmaj xxunk 's xxmaj farm ( september 19 ) and the xxmaj battle of xxmaj xxunk xxmaj heights ( october 7 ) . xxmaj the xxmaj americans were led by xxmaj general xxmaj xxunk xxmaj gates . xxmaj the xxmaj british were led by xxmaj general xxmaj john xxmaj burgoyne . xxmaj on xxmaj october 17 xxmaj burgoyne xxunk his army of nearly 6 , xxrep 3 0 xxmaj british soldiers . xxmaj the xxmaj american victory helped convince xxmaj france to come to the aid the xxmaj continental xxmaj army . xxmaj it also helped them recognize the xxmaj united xxmaj states . \\n</td>\n",
       "      <td>-0.8143802881240845</td>\n",
       "    </tr>\n",
       "  </tbody>\n",
       "</table>"
      ],
      "text/plain": [
       "<IPython.core.display.HTML object>"
      ]
     },
     "metadata": {},
     "output_type": "display_data"
    }
   ],
   "source": [
    "dls.show_batch(max_n=3)"
   ]
  },
  {
   "cell_type": "code",
   "execution_count": 27,
   "id": "acquired-utility",
   "metadata": {
    "execution": {
     "iopub.execute_input": "2021-06-16T11:55:54.969824Z",
     "iopub.status.busy": "2021-06-16T11:55:54.968725Z",
     "iopub.status.idle": "2021-06-16T11:55:55.133017Z",
     "shell.execute_reply": "2021-06-16T11:55:55.133500Z"
    },
    "papermill": {
     "duration": 0.221309,
     "end_time": "2021-06-16T11:55:55.133653",
     "exception": false,
     "start_time": "2021-06-16T11:55:54.912344",
     "status": "completed"
    },
    "tags": []
   },
   "outputs": [
    {
     "data": {
      "text/html": [
       "<table border=\"1\" class=\"dataframe\">\n",
       "  <thead>\n",
       "    <tr style=\"text-align: right;\">\n",
       "      <th></th>\n",
       "      <th>text</th>\n",
       "      <th>text_</th>\n",
       "    </tr>\n",
       "  </thead>\n",
       "  <tbody>\n",
       "    <tr>\n",
       "      <th>0</th>\n",
       "      <td>xxbos xxmaj there was an old lady with a xxunk . \\n a fairy flew by and stopped to ask why the old lady was crying . \\n \" i have a terrible xxunk , \" she wept . \" can you help me ? \" \\n xxmaj the fairy said \" no , i ca n't help you . xxmaj i 'm xxmaj sibusiso , the evil fairy . i only do bad things . \" \\n \" then please , go away , \" said the woman . \\n xxmaj with an evil xxunk , xxmaj sibusiso disappeared . ( he became invisible . ) \\n xxmaj the old lady rubbed her stomach . xxmaj before long , another fairy came along . \\n xxmaj this fairy , named xxmaj khumo , also asked what was wrong . \\n \" my stomach is sore ! \" moaned the</td>\n",
       "      <td>0.7001174688339233</td>\n",
       "    </tr>\n",
       "    <tr>\n",
       "      <th>1</th>\n",
       "      <td>xxbos xxmaj once upon a time , xxmaj sly xxmaj jackal woke up early in the morning . xxmaj he was very hungry . xxmaj his xxunk gave a big growl . xxup xxunk xxrep 5 r ! xxmaj he jumped up and went searching for food . \\n xxmaj he wandered around the forest for hours without getting any food . xxmaj the sun was very hot . xxmaj sly xxmaj jackal could barely see in front of him . xxmaj all he could think of was his hunger xxunk . \\n \" xxunk xxrep 4 u ! \" xxmaj sly xxmaj jackal let out a loud scream . xxmaj he fell into a well right in front of him . xxmaj he was so hungry that he did not spot it . \\n \" oh , my hat ! \" he thought . \" i have to get</td>\n",
       "      <td>0.3562985956668854</td>\n",
       "    </tr>\n",
       "    <tr>\n",
       "      <th>2</th>\n",
       "      <td>xxbos xxmaj an xxmaj elephant and a xxmaj crocodile were once standing beside a river . xxmaj they were xxunk as to which was the better animal . \\n \" look at my strength , \" said the xxmaj elephant . \" i can tear up a tree , roots and all , with my trunk . \" \\n \" ah ! xxmaj but quantity is not quality , and your skin is not nearly so tough as mine , \" replied the xxmaj crocodile , \" for neither spear , arrow , nor sword can pierce it . \" \\n xxmaj just as they were coming to blows , a xxmaj lion happened to pass . \\n \" xxunk , xxunk ! \" said xxmaj his xxmaj majesty , going up to them , \" let me know the cause of your quarrel . \" \\n \" will you</td>\n",
       "      <td>0.4102073311805725</td>\n",
       "    </tr>\n",
       "  </tbody>\n",
       "</table>"
      ],
      "text/plain": [
       "<IPython.core.display.HTML object>"
      ]
     },
     "metadata": {},
     "output_type": "display_data"
    }
   ],
   "source": [
    "dls.valid.show_batch(max_n =3)"
   ]
  },
  {
   "cell_type": "code",
   "execution_count": 28,
   "id": "supported-questionnaire",
   "metadata": {
    "execution": {
     "iopub.execute_input": "2021-06-16T11:55:55.227204Z",
     "iopub.status.busy": "2021-06-16T11:55:55.226410Z",
     "iopub.status.idle": "2021-06-16T11:55:55.251027Z",
     "shell.execute_reply": "2021-06-16T11:55:55.251440Z"
    },
    "papermill": {
     "duration": 0.073666,
     "end_time": "2021-06-16T11:55:55.251568",
     "exception": false,
     "start_time": "2021-06-16T11:55:55.177902",
     "status": "completed"
    },
    "tags": []
   },
   "outputs": [
    {
     "data": {
      "text/html": [
       "<div>\n",
       "<style scoped>\n",
       "    .dataframe tbody tr th:only-of-type {\n",
       "        vertical-align: middle;\n",
       "    }\n",
       "\n",
       "    .dataframe tbody tr th {\n",
       "        vertical-align: top;\n",
       "    }\n",
       "\n",
       "    .dataframe thead th {\n",
       "        text-align: right;\n",
       "    }\n",
       "</style>\n",
       "<table border=\"1\" class=\"dataframe\">\n",
       "  <thead>\n",
       "    <tr style=\"text-align: right;\">\n",
       "      <th></th>\n",
       "      <th>target</th>\n",
       "      <th>text</th>\n",
       "      <th>text_length</th>\n",
       "    </tr>\n",
       "  </thead>\n",
       "  <tbody>\n",
       "    <tr>\n",
       "      <th>365</th>\n",
       "      <td>-1.380827</td>\n",
       "      <td>[xxbos, xxmaj, feudalism, was, a, combination, of, legal, and, military, customs, in, medieval, xxmaj, europe, that, flourished, between, the, 9th, and, 15th, centuries, ., xxmaj, broadly, defined, ,, it, was, a, way, of, structuring, society, around, relationships, derived, from, the, holding, of, land, in, exchange, for, service, or, labour, ., \\n, xxmaj, although, derived, from, the, xxmaj, latin, word, feodum, or, feudum, (, fief, ), ,, then, in, use, ,, the, term, feudalism, and, the, system, it, describes, were, not, conceived, of, as, a, formal, political, system, by, the, people, l...</td>\n",
       "      <td>204</td>\n",
       "    </tr>\n",
       "    <tr>\n",
       "      <th>1916</th>\n",
       "      <td>1.088157</td>\n",
       "      <td>[xxbos, xxmaj, there, were, once, three, little, foxes, who, lived, in, a, hole, in, a, bank, ., xxmaj, it, was, a, large, ,, comfortable, hole, ,, and, these, three, little, foxes, (, two, of, them, were, brothers, and, one, was, a, sister, ), could, lie, down, and, put, their, heads, out, of, the, hole, ,, and, see, what, was, going, on, in, the, neighborhood, ., \\n, xxmaj, one, afternoon, one, of, the, brother, foxes, slipped, out, by, himself, for, a, little, walk, ,, and, when, he, came, back, he, called, the, other, two, ,, and, said, :, \", oh, ,, ...]</td>\n",
       "      <td>240</td>\n",
       "    </tr>\n",
       "    <tr>\n",
       "      <th>1479</th>\n",
       "      <td>-1.499108</td>\n",
       "      <td>[xxbos, xxmaj, after, marching, for, about, a, quarter, of, an, hour, ,, the, army, halted, before, an, ant, -, hill, ,, the, home, of, a, colony, of, small, ,, black, ants, ., xxmaj, these, swarmed, out, to, meet, the, red, ones, ,, and, ,, to, xxmaj, huber, 's, surprise, ,, a, combat, ,, short, but, fierce, ,, took, place, at, the, foot, of, the, hill, ., \\n, a, small, number, of, the, blacks, fought, bravely, to, the, last, ,, but, the, rest, soon, fled, ,, panic, -, stricken, ,, through, the, gates, farthest, from, the, battle, -, field, ,, carrying, ...]</td>\n",
       "      <td>245</td>\n",
       "    </tr>\n",
       "    <tr>\n",
       "      <th>2766</th>\n",
       "      <td>-1.502454</td>\n",
       "      <td>[xxbos, xxmaj, it, is, not, surprising, that, the, xxmaj, german, xxmaj, chancellor, should, show, anxiety, to, explain, away, his, now, historic, phrase, about, a, treaty, being, a, mere, ', scrap, of, paper, ., ', \\n, \", the, phrase, has, made, a, deep, impression, because, the, progress, of, the, world, largely, depends, upon, the, sanctity, of, agreements, between, individuals, and, between, nations, ,, and, the, policy, disclosed, in, xxmaj, herr, von, bethmann, -, hollweg, 's, phrase, tends, to, debase, the, legal, and, moral, currency, of, civilization, ., \\n, \", what, the, xxmaj, g...</td>\n",
       "      <td>206</td>\n",
       "    </tr>\n",
       "    <tr>\n",
       "      <th>1299</th>\n",
       "      <td>-1.532702</td>\n",
       "      <td>[xxbos, xxmaj, the, xxmaj, government, of, the, xxmaj, united, xxmaj, states, and, the, xxmaj, imperial, xxmaj, german, xxmaj, government, are, contending, for, the, same, great, object, ,, have, long, stood, together, in, urging, the, very, principles, upon, which, the, xxmaj, government, of, the, xxmaj, united, xxmaj, states, now, so, solemnly, insists, ., xxmaj, they, are, both, contending, for, the, freedom, of, the, seas, ., xxmaj, the, xxmaj, government, of, the, xxmaj, united, xxmaj, states, will, continue, to, contend, for, that, freedom, ,, from, whatever, quarter, violated, ,, wi...</td>\n",
       "      <td>232</td>\n",
       "    </tr>\n",
       "    <tr>\n",
       "      <th>...</th>\n",
       "      <td>...</td>\n",
       "      <td>...</td>\n",
       "      <td>...</td>\n",
       "    </tr>\n",
       "    <tr>\n",
       "      <th>2083</th>\n",
       "      <td>-0.417731</td>\n",
       "      <td>[xxbos, xxmaj, there, was, a, table, set, out, under, a, tree, in, front, of, the, house, ,, and, the, xxmaj, march, xxmaj, hare, and, the, xxmaj, hatter, were, having, tea, at, it, :, a, xxmaj, dormouse, was, sitting, between, them, ,, fast, asleep, ,, and, the, other, two, were, using, it, as, a, cushion, ,, resting, their, elbows, on, it, ,, and, talking, over, its, head, ., \", very, uncomfortable, for, the, xxmaj, dormouse, ,, \", thought, xxmaj, alice, ;, \", only, ,, as, it, 's, asleep, ,, i, suppose, it, does, n't, mind, ., \", \\n, xxmaj, the, table, ...]</td>\n",
       "      <td>261</td>\n",
       "    </tr>\n",
       "    <tr>\n",
       "      <th>2776</th>\n",
       "      <td>-1.002341</td>\n",
       "      <td>[xxbos, xxmaj, the, women, went, away, …, ., xxmaj, and, now, ,, with, water, from, the, stream, ,, royal, xxmaj, odysseus, washed, his, skin, clean, of, the, salt, which, clung, about, his, back, and, his, broad, shoulders, ,, and, wiped, from, his, head, the, foam, brought, by, the, barren, sea, ;, and, when, he, had, thoroughly, bathed, and, oiled, himself, and, had, put, on, the, clothing, which, the, chaste, maiden, gave, ,, xxmaj, athene, ,, the, daughter, of, xxmaj, zeus, ,, made, him, taller, than, before, and, stouter, to, behold, ,, and, she, made, the, curling, locks, to, fall, ...</td>\n",
       "      <td>170</td>\n",
       "    </tr>\n",
       "    <tr>\n",
       "      <th>2435</th>\n",
       "      <td>-1.679017</td>\n",
       "      <td>[xxbos, xxmaj, and, the, river, rolled, on, toward, the, sea, ,, singing, its, morning, song, ,, creating, and, nourishing, beauty, at, every, step, of, its, onward, path, ., xxmaj, cradled, in, the, heart, of, a, great, mountain, -, range, ,, it, pursued, its, gleaming, way, ,, here, lying, silent, in, glassy, lakes, ,, there, rushing, into, tinkling, little, falls, ,, foaming, great, falls, ,, and, thundering, cataracts, ., xxmaj, scores, of, bridges, spanned, its, width, ,, but, no, steamers, flurried, its, crystal, depths, ., xxmaj, here, and, there, a, rough, little, rowboat, ,, tethe...</td>\n",
       "      <td>193</td>\n",
       "    </tr>\n",
       "    <tr>\n",
       "      <th>1577</th>\n",
       "      <td>-2.709286</td>\n",
       "      <td>[xxbos, xxmaj, yet, the, promises, of, xxmaj, eleonora, were, not, forgotten, ;, for, i, heard, the, sounds, of, the, swinging, of, the, censers, of, the, angels, ;, and, streams, of, a, holy, perfume, floated, ever, and, ever, about, the, valley, ;, and, at, lone, hours, ,, when, my, heart, beat, heavily, ,, the, winds, that, bathed, my, brow, came, unto, me, laden, with, soft, sighs, ;, and, indistinct, murmurs, filled, often, the, night, air, ,, and, once, —, oh, ,, but, once, only, !, i, was, awakened, from, a, slumber, ,, like, the, slumber, of, death, ,, by, the, pressing, ...]</td>\n",
       "      <td>235</td>\n",
       "    </tr>\n",
       "    <tr>\n",
       "      <th>2534</th>\n",
       "      <td>-1.488373</td>\n",
       "      <td>[xxbos, xxmaj, although, decidedly, inelegant, and, unhandsome, ,, this, specimen, of, the, human, family, was, by, no, means, uninteresting, ., xxmaj, he, was, so, large, ,, and, his, legs, were, so, long, ,, that, the, contrast, between, him, and, the, little, mule, which, he, bestrode, was, ridiculous, ., xxmaj, he, was, what, is, sometimes, styled, \", loosely, put, together, ;, \", nevertheless, ,, the, various, parts, of, him, were, so, massive, and, muscular, that, ,, however, loosely, he, might, have, been, built, up, ,, most, men, would, have, found, it, rather, difficult, to, take,...</td>\n",
       "      <td>174</td>\n",
       "    </tr>\n",
       "  </tbody>\n",
       "</table>\n",
       "<p>850 rows × 3 columns</p>\n",
       "</div>"
      ],
      "text/plain": [
       "        target  \\\n",
       "365  -1.380827   \n",
       "1916  1.088157   \n",
       "1479 -1.499108   \n",
       "2766 -1.502454   \n",
       "1299 -1.532702   \n",
       "...        ...   \n",
       "2083 -0.417731   \n",
       "2776 -1.002341   \n",
       "2435 -1.679017   \n",
       "1577 -2.709286   \n",
       "2534 -1.488373   \n",
       "\n",
       "                                                                                                                                                                                                                                                                                                                                                                                                                                                                                                                                                                                                                         text  \\\n",
       "365   [xxbos, xxmaj, feudalism, was, a, combination, of, legal, and, military, customs, in, medieval, xxmaj, europe, that, flourished, between, the, 9th, and, 15th, centuries, ., xxmaj, broadly, defined, ,, it, was, a, way, of, structuring, society, around, relationships, derived, from, the, holding, of, land, in, exchange, for, service, or, labour, ., \\n, xxmaj, although, derived, from, the, xxmaj, latin, word, feodum, or, feudum, (, fief, ), ,, then, in, use, ,, the, term, feudalism, and, the, system, it, describes, were, not, conceived, of, as, a, formal, political, system, by, the, people, l...   \n",
       "1916                                     [xxbos, xxmaj, there, were, once, three, little, foxes, who, lived, in, a, hole, in, a, bank, ., xxmaj, it, was, a, large, ,, comfortable, hole, ,, and, these, three, little, foxes, (, two, of, them, were, brothers, and, one, was, a, sister, ), could, lie, down, and, put, their, heads, out, of, the, hole, ,, and, see, what, was, going, on, in, the, neighborhood, ., \\n, xxmaj, one, afternoon, one, of, the, brother, foxes, slipped, out, by, himself, for, a, little, walk, ,, and, when, he, came, back, he, called, the, other, two, ,, and, said, :, \", oh, ,, ...]   \n",
       "1479                                    [xxbos, xxmaj, after, marching, for, about, a, quarter, of, an, hour, ,, the, army, halted, before, an, ant, -, hill, ,, the, home, of, a, colony, of, small, ,, black, ants, ., xxmaj, these, swarmed, out, to, meet, the, red, ones, ,, and, ,, to, xxmaj, huber, 's, surprise, ,, a, combat, ,, short, but, fierce, ,, took, place, at, the, foot, of, the, hill, ., \\n, a, small, number, of, the, blacks, fought, bravely, to, the, last, ,, but, the, rest, soon, fled, ,, panic, -, stricken, ,, through, the, gates, farthest, from, the, battle, -, field, ,, carrying, ...]   \n",
       "2766  [xxbos, xxmaj, it, is, not, surprising, that, the, xxmaj, german, xxmaj, chancellor, should, show, anxiety, to, explain, away, his, now, historic, phrase, about, a, treaty, being, a, mere, ', scrap, of, paper, ., ', \\n, \", the, phrase, has, made, a, deep, impression, because, the, progress, of, the, world, largely, depends, upon, the, sanctity, of, agreements, between, individuals, and, between, nations, ,, and, the, policy, disclosed, in, xxmaj, herr, von, bethmann, -, hollweg, 's, phrase, tends, to, debase, the, legal, and, moral, currency, of, civilization, ., \\n, \", what, the, xxmaj, g...   \n",
       "1299  [xxbos, xxmaj, the, xxmaj, government, of, the, xxmaj, united, xxmaj, states, and, the, xxmaj, imperial, xxmaj, german, xxmaj, government, are, contending, for, the, same, great, object, ,, have, long, stood, together, in, urging, the, very, principles, upon, which, the, xxmaj, government, of, the, xxmaj, united, xxmaj, states, now, so, solemnly, insists, ., xxmaj, they, are, both, contending, for, the, freedom, of, the, seas, ., xxmaj, the, xxmaj, government, of, the, xxmaj, united, xxmaj, states, will, continue, to, contend, for, that, freedom, ,, from, whatever, quarter, violated, ,, wi...   \n",
       "...                                                                                                                                                                                                                                                                                                                                                                                                                                                                                                                                                                                                                       ...   \n",
       "2083                                    [xxbos, xxmaj, there, was, a, table, set, out, under, a, tree, in, front, of, the, house, ,, and, the, xxmaj, march, xxmaj, hare, and, the, xxmaj, hatter, were, having, tea, at, it, :, a, xxmaj, dormouse, was, sitting, between, them, ,, fast, asleep, ,, and, the, other, two, were, using, it, as, a, cushion, ,, resting, their, elbows, on, it, ,, and, talking, over, its, head, ., \", very, uncomfortable, for, the, xxmaj, dormouse, ,, \", thought, xxmaj, alice, ;, \", only, ,, as, it, 's, asleep, ,, i, suppose, it, does, n't, mind, ., \", \\n, xxmaj, the, table, ...]   \n",
       "2776  [xxbos, xxmaj, the, women, went, away, …, ., xxmaj, and, now, ,, with, water, from, the, stream, ,, royal, xxmaj, odysseus, washed, his, skin, clean, of, the, salt, which, clung, about, his, back, and, his, broad, shoulders, ,, and, wiped, from, his, head, the, foam, brought, by, the, barren, sea, ;, and, when, he, had, thoroughly, bathed, and, oiled, himself, and, had, put, on, the, clothing, which, the, chaste, maiden, gave, ,, xxmaj, athene, ,, the, daughter, of, xxmaj, zeus, ,, made, him, taller, than, before, and, stouter, to, behold, ,, and, she, made, the, curling, locks, to, fall, ...   \n",
       "2435  [xxbos, xxmaj, and, the, river, rolled, on, toward, the, sea, ,, singing, its, morning, song, ,, creating, and, nourishing, beauty, at, every, step, of, its, onward, path, ., xxmaj, cradled, in, the, heart, of, a, great, mountain, -, range, ,, it, pursued, its, gleaming, way, ,, here, lying, silent, in, glassy, lakes, ,, there, rushing, into, tinkling, little, falls, ,, foaming, great, falls, ,, and, thundering, cataracts, ., xxmaj, scores, of, bridges, spanned, its, width, ,, but, no, steamers, flurried, its, crystal, depths, ., xxmaj, here, and, there, a, rough, little, rowboat, ,, tethe...   \n",
       "1577           [xxbos, xxmaj, yet, the, promises, of, xxmaj, eleonora, were, not, forgotten, ;, for, i, heard, the, sounds, of, the, swinging, of, the, censers, of, the, angels, ;, and, streams, of, a, holy, perfume, floated, ever, and, ever, about, the, valley, ;, and, at, lone, hours, ,, when, my, heart, beat, heavily, ,, the, winds, that, bathed, my, brow, came, unto, me, laden, with, soft, sighs, ;, and, indistinct, murmurs, filled, often, the, night, air, ,, and, once, —, oh, ,, but, once, only, !, i, was, awakened, from, a, slumber, ,, like, the, slumber, of, death, ,, by, the, pressing, ...]   \n",
       "2534  [xxbos, xxmaj, although, decidedly, inelegant, and, unhandsome, ,, this, specimen, of, the, human, family, was, by, no, means, uninteresting, ., xxmaj, he, was, so, large, ,, and, his, legs, were, so, long, ,, that, the, contrast, between, him, and, the, little, mule, which, he, bestrode, was, ridiculous, ., xxmaj, he, was, what, is, sometimes, styled, \", loosely, put, together, ;, \", nevertheless, ,, the, various, parts, of, him, were, so, massive, and, muscular, that, ,, however, loosely, he, might, have, been, built, up, ,, most, men, would, have, found, it, rather, difficult, to, take,...   \n",
       "\n",
       "      text_length  \n",
       "365           204  \n",
       "1916          240  \n",
       "1479          245  \n",
       "2766          206  \n",
       "1299          232  \n",
       "...           ...  \n",
       "2083          261  \n",
       "2776          170  \n",
       "2435          193  \n",
       "1577          235  \n",
       "2534          174  \n",
       "\n",
       "[850 rows x 3 columns]"
      ]
     },
     "execution_count": 28,
     "metadata": {},
     "output_type": "execute_result"
    }
   ],
   "source": [
    "dls.valid.items"
   ]
  },
  {
   "cell_type": "code",
   "execution_count": 29,
   "id": "working-screw",
   "metadata": {
    "execution": {
     "iopub.execute_input": "2021-06-16T11:55:55.351616Z",
     "iopub.status.busy": "2021-06-16T11:55:55.350982Z",
     "iopub.status.idle": "2021-06-16T11:55:55.354927Z",
     "shell.execute_reply": "2021-06-16T11:55:55.354527Z"
    },
    "papermill": {
     "duration": 0.057701,
     "end_time": "2021-06-16T11:55:55.355033",
     "exception": false,
     "start_time": "2021-06-16T11:55:55.297332",
     "status": "completed"
    },
    "tags": []
   },
   "outputs": [],
   "source": [
    "text_classifier_learner?"
   ]
  },
  {
   "cell_type": "code",
   "execution_count": 30,
   "id": "sporting-portfolio",
   "metadata": {
    "execution": {
     "iopub.execute_input": "2021-06-16T11:55:55.450109Z",
     "iopub.status.busy": "2021-06-16T11:55:55.449613Z",
     "iopub.status.idle": "2021-06-16T11:55:55.453417Z",
     "shell.execute_reply": "2021-06-16T11:55:55.452996Z"
    },
    "papermill": {
     "duration": 0.053569,
     "end_time": "2021-06-16T11:55:55.453524",
     "exception": false,
     "start_time": "2021-06-16T11:55:55.399955",
     "status": "completed"
    },
    "tags": []
   },
   "outputs": [],
   "source": [
    "F.mse_loss?"
   ]
  },
  {
   "cell_type": "code",
   "execution_count": 31,
   "id": "binding-orchestra",
   "metadata": {
    "execution": {
     "iopub.execute_input": "2021-06-16T11:55:55.552172Z",
     "iopub.status.busy": "2021-06-16T11:55:55.551503Z",
     "iopub.status.idle": "2021-06-16T11:55:55.554553Z",
     "shell.execute_reply": "2021-06-16T11:55:55.554101Z"
    },
    "papermill": {
     "duration": 0.056406,
     "end_time": "2021-06-16T11:55:55.554655",
     "exception": false,
     "start_time": "2021-06-16T11:55:55.498249",
     "status": "completed"
    },
    "tags": []
   },
   "outputs": [],
   "source": [
    "text_classifier_learner?"
   ]
  },
  {
   "cell_type": "code",
   "execution_count": 32,
   "id": "equipped-section",
   "metadata": {
    "execution": {
     "iopub.execute_input": "2021-06-16T11:55:55.648878Z",
     "iopub.status.busy": "2021-06-16T11:55:55.648129Z",
     "iopub.status.idle": "2021-06-16T11:55:56.317770Z",
     "shell.execute_reply": "2021-06-16T11:55:56.317277Z",
     "shell.execute_reply.started": "2021-06-16T11:40:52.359987Z"
    },
    "papermill": {
     "duration": 0.718335,
     "end_time": "2021-06-16T11:55:56.317901",
     "exception": false,
     "start_time": "2021-06-16T11:55:55.599566",
     "status": "completed"
    },
    "tags": []
   },
   "outputs": [],
   "source": [
    "learn = text_classifier_learner(dls, AWD_LSTM, seq_len=170, drop_mult=0.7,\n",
    "                                loss_func=MSELossFlat(),\n",
    "                                metrics=rmse).to_fp16()"
   ]
  },
  {
   "cell_type": "markdown",
   "id": "joint-joshua",
   "metadata": {
    "papermill": {
     "duration": 0.044921,
     "end_time": "2021-06-16T11:55:56.408433",
     "exception": false,
     "start_time": "2021-06-16T11:55:56.363512",
     "status": "completed"
    },
    "tags": []
   },
   "source": [
    "loading the encoder"
   ]
  },
  {
   "cell_type": "code",
   "execution_count": 33,
   "id": "outstanding-hopkins",
   "metadata": {
    "execution": {
     "iopub.execute_input": "2021-06-16T11:55:56.502562Z",
     "iopub.status.busy": "2021-06-16T11:55:56.501993Z",
     "iopub.status.idle": "2021-06-16T11:55:56.505579Z",
     "shell.execute_reply": "2021-06-16T11:55:56.505952Z",
     "shell.execute_reply.started": "2021-06-16T11:45:13.674451Z"
    },
    "papermill": {
     "duration": 0.052407,
     "end_time": "2021-06-16T11:55:56.506079",
     "exception": false,
     "start_time": "2021-06-16T11:55:56.453672",
     "status": "completed"
    },
    "tags": []
   },
   "outputs": [],
   "source": [
    "learn.path = Path(\".\")"
   ]
  },
  {
   "cell_type": "code",
   "execution_count": 34,
   "id": "meaningful-japanese",
   "metadata": {
    "execution": {
     "iopub.execute_input": "2021-06-16T11:55:56.604714Z",
     "iopub.status.busy": "2021-06-16T11:55:56.600818Z",
     "iopub.status.idle": "2021-06-16T11:55:56.672495Z",
     "shell.execute_reply": "2021-06-16T11:55:56.672016Z",
     "shell.execute_reply.started": "2021-06-16T11:45:04.134061Z"
    },
    "papermill": {
     "duration": 0.121632,
     "end_time": "2021-06-16T11:55:56.672618",
     "exception": false,
     "start_time": "2021-06-16T11:55:56.550986",
     "status": "completed"
    },
    "tags": []
   },
   "outputs": [],
   "source": [
    "\n",
    "learn = learn.load_encoder('./final_encoder')"
   ]
  },
  {
   "cell_type": "code",
   "execution_count": 35,
   "id": "sunrise-timber",
   "metadata": {
    "execution": {
     "iopub.execute_input": "2021-06-16T11:55:56.768609Z",
     "iopub.status.busy": "2021-06-16T11:55:56.767629Z",
     "iopub.status.idle": "2021-06-16T11:56:01.913384Z",
     "shell.execute_reply": "2021-06-16T11:56:01.912883Z"
    },
    "papermill": {
     "duration": 5.195127,
     "end_time": "2021-06-16T11:56:01.913523",
     "exception": false,
     "start_time": "2021-06-16T11:55:56.718396",
     "status": "completed"
    },
    "tags": []
   },
   "outputs": [
    {
     "data": {
      "text/html": [
       "<table border=\"1\" class=\"dataframe\">\n",
       "  <thead>\n",
       "    <tr style=\"text-align: left;\">\n",
       "      <th>epoch</th>\n",
       "      <th>train_loss</th>\n",
       "      <th>valid_loss</th>\n",
       "      <th>_rmse</th>\n",
       "      <th>time</th>\n",
       "    </tr>\n",
       "  </thead>\n",
       "  <tbody>\n",
       "    <tr>\n",
       "      <td>0</td>\n",
       "      <td>1.525648</td>\n",
       "      <td>1.594271</td>\n",
       "      <td>1.262645</td>\n",
       "      <td>00:05</td>\n",
       "    </tr>\n",
       "  </tbody>\n",
       "</table>"
      ],
      "text/plain": [
       "<IPython.core.display.HTML object>"
      ]
     },
     "metadata": {},
     "output_type": "display_data"
    }
   ],
   "source": [
    "learn.fit_one_cycle(1, 1e-2)"
   ]
  },
  {
   "cell_type": "code",
   "execution_count": 36,
   "id": "operational-yield",
   "metadata": {
    "execution": {
     "iopub.execute_input": "2021-06-16T11:56:02.012743Z",
     "iopub.status.busy": "2021-06-16T11:56:02.011957Z",
     "iopub.status.idle": "2021-06-16T11:56:25.099569Z",
     "shell.execute_reply": "2021-06-16T11:56:25.098980Z"
    },
    "papermill": {
     "duration": 23.139694,
     "end_time": "2021-06-16T11:56:25.099719",
     "exception": false,
     "start_time": "2021-06-16T11:56:01.960025",
     "status": "completed"
    },
    "tags": []
   },
   "outputs": [
    {
     "data": {
      "text/html": [],
      "text/plain": [
       "<IPython.core.display.HTML object>"
      ]
     },
     "metadata": {},
     "output_type": "display_data"
    },
    {
     "data": {
      "text/plain": [
       "SuggestedLRs(lr_min=0.04365158379077912, lr_steep=1.3182567499825382e-06)"
      ]
     },
     "execution_count": 36,
     "metadata": {},
     "output_type": "execute_result"
    },
    {
     "data": {
      "image/png": "[encoded data removed]",
      "text/plain": [
       "<Figure size 432x288 with 1 Axes>"
      ]
     },
     "metadata": {
      "needs_background": "light"
     },
     "output_type": "display_data"
    }
   ],
   "source": [
    "learn.lr_find(num_it=100)"
   ]
  },
  {
   "cell_type": "code",
   "execution_count": 37,
   "id": "speaking-three",
   "metadata": {
    "execution": {
     "iopub.execute_input": "2021-06-16T11:56:25.203058Z",
     "iopub.status.busy": "2021-06-16T11:56:25.202233Z",
     "iopub.status.idle": "2021-06-16T11:56:31.076717Z",
     "shell.execute_reply": "2021-06-16T11:56:31.076250Z"
    },
    "papermill": {
     "duration": 5.927316,
     "end_time": "2021-06-16T11:56:31.076843",
     "exception": false,
     "start_time": "2021-06-16T11:56:25.149527",
     "status": "completed"
    },
    "tags": []
   },
   "outputs": [
    {
     "data": {
      "text/html": [
       "<table border=\"1\" class=\"dataframe\">\n",
       "  <thead>\n",
       "    <tr style=\"text-align: left;\">\n",
       "      <th>epoch</th>\n",
       "      <th>train_loss</th>\n",
       "      <th>valid_loss</th>\n",
       "      <th>_rmse</th>\n",
       "      <th>time</th>\n",
       "    </tr>\n",
       "  </thead>\n",
       "  <tbody>\n",
       "    <tr>\n",
       "      <td>0</td>\n",
       "      <td>1.038381</td>\n",
       "      <td>0.836230</td>\n",
       "      <td>0.914456</td>\n",
       "      <td>00:05</td>\n",
       "    </tr>\n",
       "  </tbody>\n",
       "</table>"
      ],
      "text/plain": [
       "<IPython.core.display.HTML object>"
      ]
     },
     "metadata": {},
     "output_type": "display_data"
    }
   ],
   "source": [
    "learn.freeze_to(-2)\n",
    "learn.fit_one_cycle(1, slice(1e-2/(2.6**4),1e-2))"
   ]
  },
  {
   "cell_type": "code",
   "execution_count": 38,
   "id": "loose-shipping",
   "metadata": {
    "execution": {
     "iopub.execute_input": "2021-06-16T11:56:31.179324Z",
     "iopub.status.busy": "2021-06-16T11:56:31.178844Z",
     "iopub.status.idle": "2021-06-16T11:56:39.403681Z",
     "shell.execute_reply": "2021-06-16T11:56:39.403153Z"
    },
    "papermill": {
     "duration": 8.277547,
     "end_time": "2021-06-16T11:56:39.403830",
     "exception": false,
     "start_time": "2021-06-16T11:56:31.126283",
     "status": "completed"
    },
    "tags": []
   },
   "outputs": [
    {
     "data": {
      "text/html": [
       "<table border=\"1\" class=\"dataframe\">\n",
       "  <thead>\n",
       "    <tr style=\"text-align: left;\">\n",
       "      <th>epoch</th>\n",
       "      <th>train_loss</th>\n",
       "      <th>valid_loss</th>\n",
       "      <th>_rmse</th>\n",
       "      <th>time</th>\n",
       "    </tr>\n",
       "  </thead>\n",
       "  <tbody>\n",
       "    <tr>\n",
       "      <td>0</td>\n",
       "      <td>0.660244</td>\n",
       "      <td>0.521412</td>\n",
       "      <td>0.722088</td>\n",
       "      <td>00:08</td>\n",
       "    </tr>\n",
       "  </tbody>\n",
       "</table>"
      ],
      "text/plain": [
       "<IPython.core.display.HTML object>"
      ]
     },
     "metadata": {},
     "output_type": "display_data"
    }
   ],
   "source": [
    "learn.freeze_to(-3)\n",
    "learn.fit_one_cycle(1, slice(5e-3/(2.6**4),5e-3))"
   ]
  },
  {
   "cell_type": "code",
   "execution_count": 39,
   "id": "recognized-bubble",
   "metadata": {
    "execution": {
     "iopub.execute_input": "2021-06-16T11:56:39.511138Z",
     "iopub.status.busy": "2021-06-16T11:56:39.510630Z",
     "iopub.status.idle": "2021-06-16T12:05:13.938700Z",
     "shell.execute_reply": "2021-06-16T12:05:13.938134Z"
    },
    "papermill": {
     "duration": 514.481175,
     "end_time": "2021-06-16T12:05:13.938866",
     "exception": false,
     "start_time": "2021-06-16T11:56:39.457691",
     "status": "completed"
    },
    "tags": []
   },
   "outputs": [
    {
     "data": {
      "text/html": [
       "<table border=\"1\" class=\"dataframe\">\n",
       "  <thead>\n",
       "    <tr style=\"text-align: left;\">\n",
       "      <th>epoch</th>\n",
       "      <th>train_loss</th>\n",
       "      <th>valid_loss</th>\n",
       "      <th>_rmse</th>\n",
       "      <th>time</th>\n",
       "    </tr>\n",
       "  </thead>\n",
       "  <tbody>\n",
       "    <tr>\n",
       "      <td>0</td>\n",
       "      <td>0.505980</td>\n",
       "      <td>0.551600</td>\n",
       "      <td>0.742698</td>\n",
       "      <td>00:10</td>\n",
       "    </tr>\n",
       "    <tr>\n",
       "      <td>1</td>\n",
       "      <td>0.497167</td>\n",
       "      <td>0.531422</td>\n",
       "      <td>0.728987</td>\n",
       "      <td>00:10</td>\n",
       "    </tr>\n",
       "    <tr>\n",
       "      <td>2</td>\n",
       "      <td>0.495644</td>\n",
       "      <td>0.536680</td>\n",
       "      <td>0.732584</td>\n",
       "      <td>00:10</td>\n",
       "    </tr>\n",
       "    <tr>\n",
       "      <td>3</td>\n",
       "      <td>0.481812</td>\n",
       "      <td>0.543769</td>\n",
       "      <td>0.737407</td>\n",
       "      <td>00:10</td>\n",
       "    </tr>\n",
       "    <tr>\n",
       "      <td>4</td>\n",
       "      <td>0.468439</td>\n",
       "      <td>0.499622</td>\n",
       "      <td>0.706839</td>\n",
       "      <td>00:10</td>\n",
       "    </tr>\n",
       "    <tr>\n",
       "      <td>5</td>\n",
       "      <td>0.452663</td>\n",
       "      <td>0.491559</td>\n",
       "      <td>0.701113</td>\n",
       "      <td>00:10</td>\n",
       "    </tr>\n",
       "    <tr>\n",
       "      <td>6</td>\n",
       "      <td>0.432660</td>\n",
       "      <td>0.468969</td>\n",
       "      <td>0.684813</td>\n",
       "      <td>00:10</td>\n",
       "    </tr>\n",
       "    <tr>\n",
       "      <td>7</td>\n",
       "      <td>0.415339</td>\n",
       "      <td>0.452624</td>\n",
       "      <td>0.672773</td>\n",
       "      <td>00:10</td>\n",
       "    </tr>\n",
       "    <tr>\n",
       "      <td>8</td>\n",
       "      <td>0.395878</td>\n",
       "      <td>0.456325</td>\n",
       "      <td>0.675518</td>\n",
       "      <td>00:10</td>\n",
       "    </tr>\n",
       "    <tr>\n",
       "      <td>9</td>\n",
       "      <td>0.376715</td>\n",
       "      <td>0.439550</td>\n",
       "      <td>0.662986</td>\n",
       "      <td>00:10</td>\n",
       "    </tr>\n",
       "    <tr>\n",
       "      <td>10</td>\n",
       "      <td>0.363578</td>\n",
       "      <td>0.411808</td>\n",
       "      <td>0.641723</td>\n",
       "      <td>00:10</td>\n",
       "    </tr>\n",
       "    <tr>\n",
       "      <td>11</td>\n",
       "      <td>0.345964</td>\n",
       "      <td>0.389442</td>\n",
       "      <td>0.624053</td>\n",
       "      <td>00:10</td>\n",
       "    </tr>\n",
       "    <tr>\n",
       "      <td>12</td>\n",
       "      <td>0.333575</td>\n",
       "      <td>0.393992</td>\n",
       "      <td>0.627688</td>\n",
       "      <td>00:10</td>\n",
       "    </tr>\n",
       "    <tr>\n",
       "      <td>13</td>\n",
       "      <td>0.320672</td>\n",
       "      <td>0.383708</td>\n",
       "      <td>0.619442</td>\n",
       "      <td>00:10</td>\n",
       "    </tr>\n",
       "    <tr>\n",
       "      <td>14</td>\n",
       "      <td>0.306585</td>\n",
       "      <td>0.408926</td>\n",
       "      <td>0.639473</td>\n",
       "      <td>00:10</td>\n",
       "    </tr>\n",
       "    <tr>\n",
       "      <td>15</td>\n",
       "      <td>0.295578</td>\n",
       "      <td>0.424488</td>\n",
       "      <td>0.651528</td>\n",
       "      <td>00:10</td>\n",
       "    </tr>\n",
       "    <tr>\n",
       "      <td>16</td>\n",
       "      <td>0.285075</td>\n",
       "      <td>0.380243</td>\n",
       "      <td>0.616638</td>\n",
       "      <td>00:10</td>\n",
       "    </tr>\n",
       "    <tr>\n",
       "      <td>17</td>\n",
       "      <td>0.275944</td>\n",
       "      <td>0.378944</td>\n",
       "      <td>0.615584</td>\n",
       "      <td>00:10</td>\n",
       "    </tr>\n",
       "    <tr>\n",
       "      <td>18</td>\n",
       "      <td>0.267167</td>\n",
       "      <td>0.425398</td>\n",
       "      <td>0.652226</td>\n",
       "      <td>00:10</td>\n",
       "    </tr>\n",
       "    <tr>\n",
       "      <td>19</td>\n",
       "      <td>0.258830</td>\n",
       "      <td>0.404863</td>\n",
       "      <td>0.636289</td>\n",
       "      <td>00:10</td>\n",
       "    </tr>\n",
       "    <tr>\n",
       "      <td>20</td>\n",
       "      <td>0.248495</td>\n",
       "      <td>0.406236</td>\n",
       "      <td>0.637367</td>\n",
       "      <td>00:10</td>\n",
       "    </tr>\n",
       "    <tr>\n",
       "      <td>21</td>\n",
       "      <td>0.237654</td>\n",
       "      <td>0.388525</td>\n",
       "      <td>0.623318</td>\n",
       "      <td>00:10</td>\n",
       "    </tr>\n",
       "    <tr>\n",
       "      <td>22</td>\n",
       "      <td>0.226639</td>\n",
       "      <td>0.444783</td>\n",
       "      <td>0.666921</td>\n",
       "      <td>00:10</td>\n",
       "    </tr>\n",
       "    <tr>\n",
       "      <td>23</td>\n",
       "      <td>0.219447</td>\n",
       "      <td>0.388273</td>\n",
       "      <td>0.623115</td>\n",
       "      <td>00:10</td>\n",
       "    </tr>\n",
       "    <tr>\n",
       "      <td>24</td>\n",
       "      <td>0.214298</td>\n",
       "      <td>0.397437</td>\n",
       "      <td>0.630426</td>\n",
       "      <td>00:10</td>\n",
       "    </tr>\n",
       "    <tr>\n",
       "      <td>25</td>\n",
       "      <td>0.210094</td>\n",
       "      <td>0.397521</td>\n",
       "      <td>0.630493</td>\n",
       "      <td>00:10</td>\n",
       "    </tr>\n",
       "    <tr>\n",
       "      <td>26</td>\n",
       "      <td>0.207591</td>\n",
       "      <td>0.388396</td>\n",
       "      <td>0.623214</td>\n",
       "      <td>00:10</td>\n",
       "    </tr>\n",
       "    <tr>\n",
       "      <td>27</td>\n",
       "      <td>0.199345</td>\n",
       "      <td>0.431107</td>\n",
       "      <td>0.656587</td>\n",
       "      <td>00:10</td>\n",
       "    </tr>\n",
       "    <tr>\n",
       "      <td>28</td>\n",
       "      <td>0.195951</td>\n",
       "      <td>0.405816</td>\n",
       "      <td>0.637037</td>\n",
       "      <td>00:10</td>\n",
       "    </tr>\n",
       "    <tr>\n",
       "      <td>29</td>\n",
       "      <td>0.188647</td>\n",
       "      <td>0.387296</td>\n",
       "      <td>0.622331</td>\n",
       "      <td>00:10</td>\n",
       "    </tr>\n",
       "    <tr>\n",
       "      <td>30</td>\n",
       "      <td>0.185393</td>\n",
       "      <td>0.401448</td>\n",
       "      <td>0.633599</td>\n",
       "      <td>00:10</td>\n",
       "    </tr>\n",
       "    <tr>\n",
       "      <td>31</td>\n",
       "      <td>0.184040</td>\n",
       "      <td>0.392685</td>\n",
       "      <td>0.626646</td>\n",
       "      <td>00:10</td>\n",
       "    </tr>\n",
       "    <tr>\n",
       "      <td>32</td>\n",
       "      <td>0.178079</td>\n",
       "      <td>0.399608</td>\n",
       "      <td>0.632146</td>\n",
       "      <td>00:10</td>\n",
       "    </tr>\n",
       "    <tr>\n",
       "      <td>33</td>\n",
       "      <td>0.175725</td>\n",
       "      <td>0.394710</td>\n",
       "      <td>0.628260</td>\n",
       "      <td>00:10</td>\n",
       "    </tr>\n",
       "    <tr>\n",
       "      <td>34</td>\n",
       "      <td>0.171526</td>\n",
       "      <td>0.400914</td>\n",
       "      <td>0.633178</td>\n",
       "      <td>00:10</td>\n",
       "    </tr>\n",
       "    <tr>\n",
       "      <td>35</td>\n",
       "      <td>0.170751</td>\n",
       "      <td>0.401629</td>\n",
       "      <td>0.633742</td>\n",
       "      <td>00:10</td>\n",
       "    </tr>\n",
       "    <tr>\n",
       "      <td>36</td>\n",
       "      <td>0.169325</td>\n",
       "      <td>0.400612</td>\n",
       "      <td>0.632939</td>\n",
       "      <td>00:10</td>\n",
       "    </tr>\n",
       "    <tr>\n",
       "      <td>37</td>\n",
       "      <td>0.165605</td>\n",
       "      <td>0.408257</td>\n",
       "      <td>0.638950</td>\n",
       "      <td>00:10</td>\n",
       "    </tr>\n",
       "    <tr>\n",
       "      <td>38</td>\n",
       "      <td>0.163485</td>\n",
       "      <td>0.411024</td>\n",
       "      <td>0.641111</td>\n",
       "      <td>00:10</td>\n",
       "    </tr>\n",
       "    <tr>\n",
       "      <td>39</td>\n",
       "      <td>0.160489</td>\n",
       "      <td>0.389867</td>\n",
       "      <td>0.624393</td>\n",
       "      <td>00:10</td>\n",
       "    </tr>\n",
       "    <tr>\n",
       "      <td>40</td>\n",
       "      <td>0.158862</td>\n",
       "      <td>0.400846</td>\n",
       "      <td>0.633124</td>\n",
       "      <td>00:10</td>\n",
       "    </tr>\n",
       "    <tr>\n",
       "      <td>41</td>\n",
       "      <td>0.157135</td>\n",
       "      <td>0.388084</td>\n",
       "      <td>0.622963</td>\n",
       "      <td>00:10</td>\n",
       "    </tr>\n",
       "    <tr>\n",
       "      <td>42</td>\n",
       "      <td>0.155946</td>\n",
       "      <td>0.395523</td>\n",
       "      <td>0.628906</td>\n",
       "      <td>00:10</td>\n",
       "    </tr>\n",
       "    <tr>\n",
       "      <td>43</td>\n",
       "      <td>0.155253</td>\n",
       "      <td>0.384837</td>\n",
       "      <td>0.620352</td>\n",
       "      <td>00:10</td>\n",
       "    </tr>\n",
       "    <tr>\n",
       "      <td>44</td>\n",
       "      <td>0.154139</td>\n",
       "      <td>0.389662</td>\n",
       "      <td>0.624229</td>\n",
       "      <td>00:10</td>\n",
       "    </tr>\n",
       "    <tr>\n",
       "      <td>45</td>\n",
       "      <td>0.154168</td>\n",
       "      <td>0.387669</td>\n",
       "      <td>0.622630</td>\n",
       "      <td>00:10</td>\n",
       "    </tr>\n",
       "    <tr>\n",
       "      <td>46</td>\n",
       "      <td>0.153036</td>\n",
       "      <td>0.390336</td>\n",
       "      <td>0.624769</td>\n",
       "      <td>00:10</td>\n",
       "    </tr>\n",
       "    <tr>\n",
       "      <td>47</td>\n",
       "      <td>0.151022</td>\n",
       "      <td>0.388803</td>\n",
       "      <td>0.623541</td>\n",
       "      <td>00:10</td>\n",
       "    </tr>\n",
       "    <tr>\n",
       "      <td>48</td>\n",
       "      <td>0.150127</td>\n",
       "      <td>0.390316</td>\n",
       "      <td>0.624753</td>\n",
       "      <td>00:10</td>\n",
       "    </tr>\n",
       "    <tr>\n",
       "      <td>49</td>\n",
       "      <td>0.152079</td>\n",
       "      <td>0.391641</td>\n",
       "      <td>0.625812</td>\n",
       "      <td>00:10</td>\n",
       "    </tr>\n",
       "  </tbody>\n",
       "</table>"
      ],
      "text/plain": [
       "<IPython.core.display.HTML object>"
      ]
     },
     "metadata": {},
     "output_type": "display_data"
    }
   ],
   "source": [
    "learn.unfreeze()\n",
    "learn.fit_one_cycle(50, slice(1e-3/(2.6**4),1e-3))"
   ]
  },
  {
   "cell_type": "code",
   "execution_count": null,
   "id": "comparable-behavior",
   "metadata": {
    "papermill": {
     "duration": 0.087955,
     "end_time": "2021-06-16T12:05:14.132019",
     "exception": false,
     "start_time": "2021-06-16T12:05:14.044064",
     "status": "completed"
    },
    "tags": []
   },
   "outputs": [],
   "source": []
  },
  {
   "cell_type": "code",
   "execution_count": 40,
   "id": "instant-franchise",
   "metadata": {
    "execution": {
     "iopub.execute_input": "2021-06-16T12:05:14.315209Z",
     "iopub.status.busy": "2021-06-16T12:05:14.314414Z",
     "iopub.status.idle": "2021-06-16T12:05:14.324465Z",
     "shell.execute_reply": "2021-06-16T12:05:14.323833Z"
    },
    "papermill": {
     "duration": 0.107234,
     "end_time": "2021-06-16T12:05:14.324659",
     "exception": false,
     "start_time": "2021-06-16T12:05:14.217425",
     "status": "completed"
    },
    "tags": []
   },
   "outputs": [
    {
     "data": {
      "text/html": [
       "<div>\n",
       "<style scoped>\n",
       "    .dataframe tbody tr th:only-of-type {\n",
       "        vertical-align: middle;\n",
       "    }\n",
       "\n",
       "    .dataframe tbody tr th {\n",
       "        vertical-align: top;\n",
       "    }\n",
       "\n",
       "    .dataframe thead th {\n",
       "        text-align: right;\n",
       "    }\n",
       "</style>\n",
       "<table border=\"1\" class=\"dataframe\">\n",
       "  <thead>\n",
       "    <tr style=\"text-align: right;\">\n",
       "      <th></th>\n",
       "      <th>id</th>\n",
       "      <th>url_legal</th>\n",
       "      <th>license</th>\n",
       "      <th>excerpt</th>\n",
       "    </tr>\n",
       "  </thead>\n",
       "  <tbody>\n",
       "    <tr>\n",
       "      <th>0</th>\n",
       "      <td>c0f722661</td>\n",
       "      <td>NaN</td>\n",
       "      <td>NaN</td>\n",
       "      <td>My hope lay in Jack's promise that he would keep a bright light burning in the upper story to guide me on my course. On a clear night this light was visible from the village, but somehow or other I failed to take into account the state of the weather. The air was full of eddying flakes, which would render the headlight of a locomotive invisible a hundred yards distant. Strange that this important fact never occurred to me until I was fully a fourth of a mile from the village. Then, after looking in vain for the beacon light, the danger of my situation struck me, and I halted.\\n\"I am certai...</td>\n",
       "    </tr>\n",
       "    <tr>\n",
       "      <th>1</th>\n",
       "      <td>f0953f0a5</td>\n",
       "      <td>NaN</td>\n",
       "      <td>NaN</td>\n",
       "      <td>Dotty continued to go to Mrs. Gray's every night with the milk. Sometimes Katie went with her, and then they always paused a while under the acorn-tree and played \"King and Queen.\" Dotty said she wished they could ever remember to bring their nipperkins, for in that case the milk would taste a great deal more like nectar. The \"nipperkins\" were a pair of handled cups which the children supposed to be silver, and which they always used at table.\\nDotty knew she was doing wrong every time she played \"King and Queen.\" She knew the milk was not hers, but Mrs. Gray's; still she said to herself, ...</td>\n",
       "    </tr>\n",
       "    <tr>\n",
       "      <th>2</th>\n",
       "      <td>0df072751</td>\n",
       "      <td>NaN</td>\n",
       "      <td>NaN</td>\n",
       "      <td>It was a bright and cheerful scene that greeted the eyes of Captain Raymond and his son as they entered the parlor of the adjacent cottage.\\nIt was strictly a family gathering, yet the room was quite full. Mr. Dinsmore was there with his wife, his daughter Elsie and her children, Edward and Zoe, Elsie Leland with her husband and babe, Violet Raymond with her husband's two little girls, Lulu and Grace, and lastly Rosie and Walter.\\nEverybody had a kindly greeting for the captain, and Violet's bright face grew still brighter as she made room for him on the sofa by her side.\\n\"We were beginni...</td>\n",
       "    </tr>\n",
       "  </tbody>\n",
       "</table>\n",
       "</div>"
      ],
      "text/plain": [
       "          id url_legal license  \\\n",
       "0  c0f722661       NaN     NaN   \n",
       "1  f0953f0a5       NaN     NaN   \n",
       "2  0df072751       NaN     NaN   \n",
       "\n",
       "                                                                                                                                                                                                                                                                                                                                                                                                                                                                                                                                                                                                                   excerpt  \n",
       "0  My hope lay in Jack's promise that he would keep a bright light burning in the upper story to guide me on my course. On a clear night this light was visible from the village, but somehow or other I failed to take into account the state of the weather. The air was full of eddying flakes, which would render the headlight of a locomotive invisible a hundred yards distant. Strange that this important fact never occurred to me until I was fully a fourth of a mile from the village. Then, after looking in vain for the beacon light, the danger of my situation struck me, and I halted.\\n\"I am certai...  \n",
       "1  Dotty continued to go to Mrs. Gray's every night with the milk. Sometimes Katie went with her, and then they always paused a while under the acorn-tree and played \"King and Queen.\" Dotty said she wished they could ever remember to bring their nipperkins, for in that case the milk would taste a great deal more like nectar. The \"nipperkins\" were a pair of handled cups which the children supposed to be silver, and which they always used at table.\\nDotty knew she was doing wrong every time she played \"King and Queen.\" She knew the milk was not hers, but Mrs. Gray's; still she said to herself, ...  \n",
       "2  It was a bright and cheerful scene that greeted the eyes of Captain Raymond and his son as they entered the parlor of the adjacent cottage.\\nIt was strictly a family gathering, yet the room was quite full. Mr. Dinsmore was there with his wife, his daughter Elsie and her children, Edward and Zoe, Elsie Leland with her husband and babe, Violet Raymond with her husband's two little girls, Lulu and Grace, and lastly Rosie and Walter.\\nEverybody had a kindly greeting for the captain, and Violet's bright face grew still brighter as she made room for him on the sofa by her side.\\n\"We were beginni...  "
      ]
     },
     "execution_count": 40,
     "metadata": {},
     "output_type": "execute_result"
    }
   ],
   "source": [
    "df_test.head(3)"
   ]
  },
  {
   "cell_type": "code",
   "execution_count": 41,
   "id": "speaking-preview",
   "metadata": {
    "execution": {
     "iopub.execute_input": "2021-06-16T12:05:14.496182Z",
     "iopub.status.busy": "2021-06-16T12:05:14.495291Z",
     "iopub.status.idle": "2021-06-16T12:05:14.497956Z",
     "shell.execute_reply": "2021-06-16T12:05:14.497552Z"
    },
    "papermill": {
     "duration": 0.083211,
     "end_time": "2021-06-16T12:05:14.498070",
     "exception": false,
     "start_time": "2021-06-16T12:05:14.414859",
     "status": "completed"
    },
    "tags": []
   },
   "outputs": [],
   "source": [
    "text = df_test.loc[0].excerpt\n",
    "target = df_train.loc[0].target"
   ]
  },
  {
   "cell_type": "code",
   "execution_count": 42,
   "id": "thrown-nicholas",
   "metadata": {
    "execution": {
     "iopub.execute_input": "2021-06-16T12:05:14.603618Z",
     "iopub.status.busy": "2021-06-16T12:05:14.603052Z",
     "iopub.status.idle": "2021-06-16T12:05:14.608525Z",
     "shell.execute_reply": "2021-06-16T12:05:14.608928Z"
    },
    "papermill": {
     "duration": 0.06073,
     "end_time": "2021-06-16T12:05:14.609060",
     "exception": false,
     "start_time": "2021-06-16T12:05:14.548330",
     "status": "completed"
    },
    "tags": []
   },
   "outputs": [
    {
     "data": {
      "text/plain": [
       "'My hope lay in Jack\\'s promise that he would keep a bright light burning in the upper story to guide me on my course. On a clear night this light was visible from the village, but somehow or other I failed to take into account the state of the weather. The air was full of eddying flakes, which would render the headlight of a locomotive invisible a hundred yards distant. Strange that this important fact never occurred to me until I was fully a fourth of a mile from the village. Then, after looking in vain for the beacon light, the danger of my situation struck me, and I halted.\\n\"I am certain to go wrong,\" I said to myself.\\n\"It is out of my power to follow a direct course without something to serve as a compass. I will go back to the village and wait till morning.\"'"
      ]
     },
     "execution_count": 42,
     "metadata": {},
     "output_type": "execute_result"
    }
   ],
   "source": [
    "text"
   ]
  },
  {
   "cell_type": "code",
   "execution_count": 43,
   "id": "wrong-taste",
   "metadata": {
    "execution": {
     "iopub.execute_input": "2021-06-16T12:05:14.717256Z",
     "iopub.status.busy": "2021-06-16T12:05:14.716596Z",
     "iopub.status.idle": "2021-06-16T12:05:14.719768Z",
     "shell.execute_reply": "2021-06-16T12:05:14.720165Z"
    },
    "papermill": {
     "duration": 0.059584,
     "end_time": "2021-06-16T12:05:14.720300",
     "exception": false,
     "start_time": "2021-06-16T12:05:14.660716",
     "status": "completed"
    },
    "tags": []
   },
   "outputs": [
    {
     "data": {
      "text/plain": [
       "-0.340259125"
      ]
     },
     "execution_count": 43,
     "metadata": {},
     "output_type": "execute_result"
    }
   ],
   "source": [
    "target"
   ]
  },
  {
   "cell_type": "code",
   "execution_count": 44,
   "id": "answering-joshua",
   "metadata": {
    "execution": {
     "iopub.execute_input": "2021-06-16T12:05:14.836809Z",
     "iopub.status.busy": "2021-06-16T12:05:14.836024Z",
     "iopub.status.idle": "2021-06-16T12:05:14.891097Z",
     "shell.execute_reply": "2021-06-16T12:05:14.890687Z"
    },
    "papermill": {
     "duration": 0.119908,
     "end_time": "2021-06-16T12:05:14.891216",
     "exception": false,
     "start_time": "2021-06-16T12:05:14.771308",
     "status": "completed"
    },
    "tags": []
   },
   "outputs": [
    {
     "data": {
      "text/html": [],
      "text/plain": [
       "<IPython.core.display.HTML object>"
      ]
     },
     "metadata": {},
     "output_type": "display_data"
    },
    {
     "data": {
      "text/plain": [
       "((-0.65234375), tensor([-0.6523]), tensor([-0.6523]))"
      ]
     },
     "execution_count": 44,
     "metadata": {},
     "output_type": "execute_result"
    }
   ],
   "source": [
    "learn.predict(text)"
   ]
  },
  {
   "cell_type": "code",
   "execution_count": 45,
   "id": "fallen-convention",
   "metadata": {
    "execution": {
     "iopub.execute_input": "2021-06-16T12:05:15.001978Z",
     "iopub.status.busy": "2021-06-16T12:05:15.001163Z",
     "iopub.status.idle": "2021-06-16T12:05:15.004034Z",
     "shell.execute_reply": "2021-06-16T12:05:15.003528Z"
    },
    "papermill": {
     "duration": 0.059333,
     "end_time": "2021-06-16T12:05:15.004153",
     "exception": false,
     "start_time": "2021-06-16T12:05:14.944820",
     "status": "completed"
    },
    "tags": []
   },
   "outputs": [],
   "source": [
    "text2 = df_test.loc[1].excerpt\n",
    "target2 = df_train.loc[1].target"
   ]
  },
  {
   "cell_type": "code",
   "execution_count": 46,
   "id": "practical-latex",
   "metadata": {
    "execution": {
     "iopub.execute_input": "2021-06-16T12:05:15.113712Z",
     "iopub.status.busy": "2021-06-16T12:05:15.112930Z",
     "iopub.status.idle": "2021-06-16T12:05:15.116309Z",
     "shell.execute_reply": "2021-06-16T12:05:15.116751Z"
    },
    "papermill": {
     "duration": 0.060616,
     "end_time": "2021-06-16T12:05:15.116895",
     "exception": false,
     "start_time": "2021-06-16T12:05:15.056279",
     "status": "completed"
    },
    "tags": []
   },
   "outputs": [
    {
     "data": {
      "text/plain": [
       "('Dotty continued to go to Mrs. Gray\\'s every night with the milk. Sometimes Katie went with her, and then they always paused a while under the acorn-tree and played \"King and Queen.\" Dotty said she wished they could ever remember to bring their nipperkins, for in that case the milk would taste a great deal more like nectar. The \"nipperkins\" were a pair of handled cups which the children supposed to be silver, and which they always used at table.\\nDotty knew she was doing wrong every time she played \"King and Queen.\" She knew the milk was not hers, but Mrs. Gray\\'s; still she said to herself, \"Ruthie needn\\'t give so much measure, all pressed down and run over. If Queenie and I should drink a great deal more, there would always be a quart left. Yes, I know there would.\"\\nMrs. Gray never said anything about the milk; she merely poured it out in a pan, and gave back the pail to Dotty, asking her at the same time as many questions as the child would stay to hear.',\n",
       " -0.31537234199999997)"
      ]
     },
     "execution_count": 46,
     "metadata": {},
     "output_type": "execute_result"
    }
   ],
   "source": [
    "(text2,target2)"
   ]
  },
  {
   "cell_type": "code",
   "execution_count": 47,
   "id": "static-preliminary",
   "metadata": {
    "execution": {
     "iopub.execute_input": "2021-06-16T12:05:15.243441Z",
     "iopub.status.busy": "2021-06-16T12:05:15.242599Z",
     "iopub.status.idle": "2021-06-16T12:05:15.299534Z",
     "shell.execute_reply": "2021-06-16T12:05:15.299073Z"
    },
    "papermill": {
     "duration": 0.129315,
     "end_time": "2021-06-16T12:05:15.299651",
     "exception": false,
     "start_time": "2021-06-16T12:05:15.170336",
     "status": "completed"
    },
    "tags": []
   },
   "outputs": [
    {
     "data": {
      "text/html": [],
      "text/plain": [
       "<IPython.core.display.HTML object>"
      ]
     },
     "metadata": {},
     "output_type": "display_data"
    },
    {
     "data": {
      "text/plain": [
       "((-0.07403564453125), tensor([-0.0740]), tensor([-0.0740]))"
      ]
     },
     "execution_count": 47,
     "metadata": {},
     "output_type": "execute_result"
    }
   ],
   "source": [
    "learn.predict(text2)"
   ]
  },
  {
   "cell_type": "code",
   "execution_count": 48,
   "id": "negative-initial",
   "metadata": {
    "execution": {
     "iopub.execute_input": "2021-06-16T12:05:15.412815Z",
     "iopub.status.busy": "2021-06-16T12:05:15.411973Z",
     "iopub.status.idle": "2021-06-16T12:05:15.414585Z",
     "shell.execute_reply": "2021-06-16T12:05:15.414087Z"
    },
    "papermill": {
     "duration": 0.061719,
     "end_time": "2021-06-16T12:05:15.414695",
     "exception": false,
     "start_time": "2021-06-16T12:05:15.352976",
     "status": "completed"
    },
    "tags": []
   },
   "outputs": [],
   "source": [
    "text3 = df_test.loc[2].excerpt\n",
    "target3 = df_train.loc[2].target"
   ]
  },
  {
   "cell_type": "code",
   "execution_count": 49,
   "id": "split-rugby",
   "metadata": {
    "execution": {
     "iopub.execute_input": "2021-06-16T12:05:15.528958Z",
     "iopub.status.busy": "2021-06-16T12:05:15.528253Z",
     "iopub.status.idle": "2021-06-16T12:05:15.531212Z",
     "shell.execute_reply": "2021-06-16T12:05:15.531662Z"
    },
    "papermill": {
     "duration": 0.06169,
     "end_time": "2021-06-16T12:05:15.531794",
     "exception": false,
     "start_time": "2021-06-16T12:05:15.470104",
     "status": "completed"
    },
    "tags": []
   },
   "outputs": [
    {
     "data": {
      "text/plain": [
       "('It was a bright and cheerful scene that greeted the eyes of Captain Raymond and his son as they entered the parlor of the adjacent cottage.\\nIt was strictly a family gathering, yet the room was quite full. Mr. Dinsmore was there with his wife, his daughter Elsie and her children, Edward and Zoe, Elsie Leland with her husband and babe, Violet Raymond with her husband\\'s two little girls, Lulu and Grace, and lastly Rosie and Walter.\\nEverybody had a kindly greeting for the captain, and Violet\\'s bright face grew still brighter as she made room for him on the sofa by her side.\\n\"We were beginning to wonder what was keeping you,\" she said.\\n\"Yes, I\\'m afraid I am rather behind time,\" he returned. \"I hope you have not delayed your tea for me, Mrs. Dinsmore.\"\\n\"No; it is but just ready,\" she said. \"Ah, there\\'s the bell. Please, all of you walk out.\"\\nWhen the meal was over all returned to the parlor, where they spent the next hour in desultory chat.',\n",
       " -0.580117966)"
      ]
     },
     "execution_count": 49,
     "metadata": {},
     "output_type": "execute_result"
    }
   ],
   "source": [
    "(text3,target3)"
   ]
  },
  {
   "cell_type": "code",
   "execution_count": 50,
   "id": "pretty-recipe",
   "metadata": {
    "execution": {
     "iopub.execute_input": "2021-06-16T12:05:15.651659Z",
     "iopub.status.busy": "2021-06-16T12:05:15.650831Z",
     "iopub.status.idle": "2021-06-16T12:05:15.707288Z",
     "shell.execute_reply": "2021-06-16T12:05:15.706874Z",
     "shell.execute_reply.started": "2021-06-16T11:44:23.244162Z"
    },
    "papermill": {
     "duration": 0.121894,
     "end_time": "2021-06-16T12:05:15.707422",
     "exception": false,
     "start_time": "2021-06-16T12:05:15.585528",
     "status": "completed"
    },
    "tags": []
   },
   "outputs": [
    {
     "data": {
      "text/html": [],
      "text/plain": [
       "<IPython.core.display.HTML object>"
      ]
     },
     "metadata": {},
     "output_type": "display_data"
    },
    {
     "data": {
      "text/plain": [
       "((-0.146240234375), tensor([-0.1462]), tensor([-0.1462]))"
      ]
     },
     "execution_count": 50,
     "metadata": {},
     "output_type": "execute_result"
    }
   ],
   "source": [
    "learn.predict(text3)"
   ]
  },
  {
   "cell_type": "code",
   "execution_count": 51,
   "id": "equivalent-empire",
   "metadata": {
    "execution": {
     "iopub.execute_input": "2021-06-16T12:05:15.892657Z",
     "iopub.status.busy": "2021-06-16T12:05:15.856684Z",
     "iopub.status.idle": "2021-06-16T12:05:16.238587Z",
     "shell.execute_reply": "2021-06-16T12:05:16.238997Z",
     "shell.execute_reply.started": "2021-06-16T11:45:20.212188Z"
    },
    "papermill": {
     "duration": 0.476203,
     "end_time": "2021-06-16T12:05:16.239154",
     "exception": false,
     "start_time": "2021-06-16T12:05:15.762951",
     "status": "completed"
    },
    "tags": []
   },
   "outputs": [],
   "source": [
    "learn.export(\"./final_model\")"
   ]
  },
  {
   "cell_type": "code",
   "execution_count": null,
   "id": "documented-illness",
   "metadata": {
    "papermill": {
     "duration": 0.056164,
     "end_time": "2021-06-16T12:05:16.353398",
     "exception": false,
     "start_time": "2021-06-16T12:05:16.297234",
     "status": "completed"
    },
    "tags": []
   },
   "outputs": [],
   "source": []
  }
 ],
 "metadata": {
  "kernelspec": {
   "display_name": "Python 3",
   "language": "python",
   "name": "python3"
  },
  "language_info": {
   "codemirror_mode": {
    "name": "ipython",
    "version": 3
   },
   "file_extension": ".py",
   "mimetype": "text/x-python",
   "name": "python",
   "nbconvert_exporter": "python",
   "pygments_lexer": "ipython3",
   "version": "3.7.10"
  },
  "papermill": {
   "default_parameters": {},
   "duration": 1146.110558,
   "end_time": "2021-06-16T12:05:18.416774",
   "environment_variables": {},
   "exception": null,
   "input_path": "__notebook__.ipynb",
   "output_path": "__notebook__.ipynb",
   "parameters": {},
   "start_time": "2021-06-16T11:46:12.306216",
   "version": "2.3.3"
  }
 },
 "nbformat": 4,
 "nbformat_minor": 5
}
