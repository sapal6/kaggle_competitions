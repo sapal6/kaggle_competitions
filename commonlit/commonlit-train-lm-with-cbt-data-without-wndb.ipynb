{
 "cells": [
  {
   "cell_type": "markdown",
   "id": "4bed9be3",
   "metadata": {
    "papermill": {
     "duration": 0.022212,
     "end_time": "2021-07-14T18:02:07.071472",
     "exception": false,
     "start_time": "2021-07-14T18:02:07.049260",
     "status": "completed"
    },
    "tags": []
   },
   "source": [
    "## import"
   ]
  },
  {
   "cell_type": "code",
   "execution_count": 1,
   "id": "523ac015",
   "metadata": {
    "_cell_guid": "b1076dfc-b9ad-4769-8c92-a6c4dae69d19",
    "_uuid": "8f2839f25d086af736a60e9eeb907d3b93b6e0e5",
    "execution": {
     "iopub.execute_input": "2021-07-14T18:02:07.121172Z",
     "iopub.status.busy": "2021-07-14T18:02:07.120476Z",
     "iopub.status.idle": "2021-07-14T18:02:11.437369Z",
     "shell.execute_reply": "2021-07-14T18:02:11.436800Z",
     "shell.execute_reply.started": "2021-07-14T12:20:18.448253Z"
    },
    "papermill": {
     "duration": 4.347314,
     "end_time": "2021-07-14T18:02:11.437547",
     "exception": false,
     "start_time": "2021-07-14T18:02:07.090233",
     "status": "completed"
    },
    "tags": []
   },
   "outputs": [],
   "source": [
    "from shutil import copyfile\n",
    "from typing import List, TypeVar, Dict, Any\n",
    "from pandas.core.frame import DataFrame\n",
    "from fastai.basics import *\n",
    "from fastai.callback.all import *\n",
    "from fastai.text.all import *"
   ]
  },
  {
   "cell_type": "markdown",
   "id": "6df6d008",
   "metadata": {
    "papermill": {
     "duration": 0.019495,
     "end_time": "2021-07-14T18:02:11.475818",
     "exception": false,
     "start_time": "2021-07-14T18:02:11.456323",
     "status": "completed"
    },
    "tags": []
   },
   "source": [
    "## Helper functions"
   ]
  },
  {
   "cell_type": "code",
   "execution_count": 2,
   "id": "31f3ebec",
   "metadata": {
    "execution": {
     "iopub.execute_input": "2021-07-14T18:02:11.526529Z",
     "iopub.status.busy": "2021-07-14T18:02:11.525609Z",
     "iopub.status.idle": "2021-07-14T18:02:11.527992Z",
     "shell.execute_reply": "2021-07-14T18:02:11.528429Z"
    },
    "papermill": {
     "duration": 0.034323,
     "end_time": "2021-07-14T18:02:11.528585",
     "exception": false,
     "start_time": "2021-07-14T18:02:11.494262",
     "status": "completed"
    },
    "tags": []
   },
   "outputs": [],
   "source": [
    "def file_copy(file_paths: List, dest: Path):\n",
    "    dest.mkdir(parents=True, exist_ok=True)\n",
    "    for path in file_paths:\n",
    "        fn = path.name\n",
    "        dest_path = dest/fn\n",
    "        dest_path.touch()\n",
    "        copyfile(path, dest_path)\n",
    "        \n",
    "def drop_cols(df: DataFrame, cols: List) -> DataFrame:\n",
    "    \"\"\"drop the given list of columns from the dataframe\"\"\"\n",
    "    return df.drop(cols, axis=1)\n",
    "\n",
    "def concat_dfs(dfs: List) -> DataFrame:\n",
    "    \"\"\"concatenate two dataframes\"\"\"\n",
    "    return pd.concat(dfs)\n",
    "\n",
    "def get_lm_learner(df: DataFrame, path: Path,\n",
    "                   valid_pct: float = 0.3, bs: int = 64,\n",
    "                   seq_len:int = 72, drop_mult: float = 1.0,\n",
    "                   opt_func = None, metrics = None,\n",
    "                   wd: float = 0.1):\n",
    "    \"\"\"get the dataloader and the language model learner\"\"\"\n",
    "    dls_lm = TextDataLoaders.from_df(df, path, is_lm=True,\n",
    "                                     valid_pct=valid_pct, bs=bs,\n",
    "                                     seq_len=seq_len)\n",
    "    \n",
    "    learn = language_model_learner(dls_lm,\n",
    "                               AWD_LSTM,\n",
    "                               drop_mult=drop_mult,\n",
    "                               opt_func=opt_func,\n",
    "                               metrics=metrics, \n",
    "                               path=path,\n",
    "                              wd=wd).to_fp16()\n",
    "    \n",
    "    return dls_lm, learn\n",
    "    \n",
    "def get_text_regressor(df: DataFrame, text_col: str, target_col:str, cols2Drop: List,\n",
    "                       bs: int = 8, drop_mult: float = 1.0,\n",
    "                       cbs=None, seq_len: int=80, opt_func=RAdam, wd=None):\n",
    "    \"\"\"pre proces the data, get the dataloader and build the text regressor learner\"\"\"\n",
    "    df_train_for_regressor = df.drop(cols2Drop, axis=1)\n",
    "    \n",
    "    data = DataBlock(\n",
    "    blocks=(TextBlock.from_df(text_col, vocab=dls_lm.vocab,seq_len=seq_len), RegressionBlock),\n",
    "    get_x=ColReader('text'),get_y=ColReader(target_col),\n",
    "    splitter=RandomSubsetSplitter(0.3,0.1, seed=2))\n",
    "    \n",
    "    dls = data.dataloaders(df_train_for_regressor, bs=bs)\n",
    "    learn = text_classifier_learner(dls, AWD_LSTM, drop_mult=drop_mult,\n",
    "                                cbs=cbs,\n",
    "                                opt_func=opt_func,\n",
    "                                metrics=rmse,\n",
    "                                   wd=0.5)\n",
    "    \n",
    "    learn.path = Path(\".\")\n",
    "    learn = learn.load_encoder('./final_encoder')\n",
    "    \n",
    "    return df_train_for_regressor, dls, learn"
   ]
  },
  {
   "cell_type": "markdown",
   "id": "0f19cecf",
   "metadata": {
    "papermill": {
     "duration": 0.018505,
     "end_time": "2021-07-14T18:02:11.565597",
     "exception": false,
     "start_time": "2021-07-14T18:02:11.547092",
     "status": "completed"
    },
    "tags": []
   },
   "source": [
    "## Get path"
   ]
  },
  {
   "cell_type": "code",
   "execution_count": 3,
   "id": "33bebf8b",
   "metadata": {
    "execution": {
     "iopub.execute_input": "2021-07-14T18:02:11.606928Z",
     "iopub.status.busy": "2021-07-14T18:02:11.606125Z",
     "iopub.status.idle": "2021-07-14T18:02:11.608201Z",
     "shell.execute_reply": "2021-07-14T18:02:11.608629Z",
     "shell.execute_reply.started": "2021-07-14T12:23:29.648997Z"
    },
    "papermill": {
     "duration": 0.024573,
     "end_time": "2021-07-14T18:02:11.608752",
     "exception": false,
     "start_time": "2021-07-14T18:02:11.584179",
     "status": "completed"
    },
    "tags": []
   },
   "outputs": [],
   "source": [
    "path = Path('../input')\n",
    "op_path = Path('/kaggle/working')"
   ]
  },
  {
   "cell_type": "markdown",
   "id": "27727c4f",
   "metadata": {
    "papermill": {
     "duration": 0.018212,
     "end_time": "2021-07-14T18:02:11.645235",
     "exception": false,
     "start_time": "2021-07-14T18:02:11.627023",
     "status": "completed"
    },
    "tags": []
   },
   "source": [
    "## Move data to pwd"
   ]
  },
  {
   "cell_type": "code",
   "execution_count": 4,
   "id": "49e6a4d3",
   "metadata": {
    "execution": {
     "iopub.execute_input": "2021-07-14T18:02:11.685661Z",
     "iopub.status.busy": "2021-07-14T18:02:11.685130Z",
     "iopub.status.idle": "2021-07-14T18:02:15.355735Z",
     "shell.execute_reply": "2021-07-14T18:02:15.356940Z"
    },
    "papermill": {
     "duration": 3.693454,
     "end_time": "2021-07-14T18:02:15.357166",
     "exception": false,
     "start_time": "2021-07-14T18:02:11.663712",
     "status": "completed"
    },
    "tags": []
   },
   "outputs": [],
   "source": [
    "file_copy([Path('../input/commonlitreadabilityprize/test.csv'),\n",
    "           Path('../input/commonlit-infusing-data-with-same-domain-data/vanilla_comlit_train_infused_with_cbt.csv')],\n",
    "           op_path/'common-lit-datset')"
   ]
  },
  {
   "cell_type": "markdown",
   "id": "a5386271",
   "metadata": {
    "papermill": {
     "duration": 0.019446,
     "end_time": "2021-07-14T18:02:15.397217",
     "exception": false,
     "start_time": "2021-07-14T18:02:15.377771",
     "status": "completed"
    },
    "tags": []
   },
   "source": [
    "## Initial cleaning of data for lm"
   ]
  },
  {
   "cell_type": "code",
   "execution_count": 5,
   "id": "20d942d0",
   "metadata": {
    "execution": {
     "iopub.execute_input": "2021-07-14T18:02:15.439419Z",
     "iopub.status.busy": "2021-07-14T18:02:15.438588Z",
     "iopub.status.idle": "2021-07-14T18:02:17.131463Z",
     "shell.execute_reply": "2021-07-14T18:02:17.131958Z"
    },
    "papermill": {
     "duration": 1.71607,
     "end_time": "2021-07-14T18:02:17.132123",
     "exception": false,
     "start_time": "2021-07-14T18:02:15.416053",
     "status": "completed"
    },
    "tags": []
   },
   "outputs": [
    {
     "data": {
      "text/html": [
       "<div>\n",
       "<style scoped>\n",
       "    .dataframe tbody tr th:only-of-type {\n",
       "        vertical-align: middle;\n",
       "    }\n",
       "\n",
       "    .dataframe tbody tr th {\n",
       "        vertical-align: top;\n",
       "    }\n",
       "\n",
       "    .dataframe thead th {\n",
       "        text-align: right;\n",
       "    }\n",
       "</style>\n",
       "<table border=\"1\" class=\"dataframe\">\n",
       "  <thead>\n",
       "    <tr style=\"text-align: right;\">\n",
       "      <th></th>\n",
       "      <th>excerpt</th>\n",
       "    </tr>\n",
       "  </thead>\n",
       "  <tbody>\n",
       "    <tr>\n",
       "      <th>0</th>\n",
       "      <td>When the young people returned to the ballroom, it presented a decidedly changed appearance. Instead of an interior scene, it was a winter landscape.\\nThe floor was covered with snow-white canvas, not laid on smoothly, but rumpled over bumps and hillocks, like a real snow field. The numerous palms and evergreens that had decorated the room, were powdered with flour and strewn with tufts of cotton, like snow. Also diamond dust had been lightly sprinkled on them, and glittering crystal icicles hung from the branches.\\nAt each end of the room, on the wall, hung a beautiful bear-skin rug.\\nThe...</td>\n",
       "    </tr>\n",
       "    <tr>\n",
       "      <th>1</th>\n",
       "      <td>All through dinner time, Mrs. Fayre was somewhat silent, her eyes resting on Dolly with a wistful, uncertain expression. She wanted to give the child the pleasure she craved, but she had hard work to bring herself to the point of overcoming her own objections.\\nAt last, however, when the meal was nearly over, she smiled at her little daughter, and said, \"All right, Dolly, you may go.\"\\n\"Oh, mother!\" Dolly cried, overwhelmed with sudden delight. \"Really?\\nOh, I am so glad! Are you sure you're willing?\"\\n\"I've persuaded myself to be willing, against my will,\" returned Mrs. Fayre, whimsically...</td>\n",
       "    </tr>\n",
       "  </tbody>\n",
       "</table>\n",
       "</div>"
      ],
      "text/plain": [
       "                                                                                                                                                                                                                                                                                                                                                                                                                                                                                                                                                                                                                   excerpt\n",
       "0  When the young people returned to the ballroom, it presented a decidedly changed appearance. Instead of an interior scene, it was a winter landscape.\\nThe floor was covered with snow-white canvas, not laid on smoothly, but rumpled over bumps and hillocks, like a real snow field. The numerous palms and evergreens that had decorated the room, were powdered with flour and strewn with tufts of cotton, like snow. Also diamond dust had been lightly sprinkled on them, and glittering crystal icicles hung from the branches.\\nAt each end of the room, on the wall, hung a beautiful bear-skin rug.\\nThe...\n",
       "1  All through dinner time, Mrs. Fayre was somewhat silent, her eyes resting on Dolly with a wistful, uncertain expression. She wanted to give the child the pleasure she craved, but she had hard work to bring herself to the point of overcoming her own objections.\\nAt last, however, when the meal was nearly over, she smiled at her little daughter, and said, \"All right, Dolly, you may go.\"\\n\"Oh, mother!\" Dolly cried, overwhelmed with sudden delight. \"Really?\\nOh, I am so glad! Are you sure you're willing?\"\\n\"I've persuaded myself to be willing, against my will,\" returned Mrs. Fayre, whimsically..."
      ]
     },
     "execution_count": 5,
     "metadata": {},
     "output_type": "execute_result"
    }
   ],
   "source": [
    "df_train = pd.read_csv(op_path/'common-lit-datset/vanilla_comlit_train_infused_with_cbt.csv')\n",
    "df_train = drop_cols(df_train, 'Unnamed: 0')\n",
    "df_train.head(2)"
   ]
  },
  {
   "cell_type": "code",
   "execution_count": 6,
   "id": "39291090",
   "metadata": {
    "execution": {
     "iopub.execute_input": "2021-07-14T18:02:18.183922Z",
     "iopub.status.busy": "2021-07-14T18:02:18.182745Z",
     "iopub.status.idle": "2021-07-14T18:02:18.192529Z",
     "shell.execute_reply": "2021-07-14T18:02:18.192983Z"
    },
    "papermill": {
     "duration": 1.040387,
     "end_time": "2021-07-14T18:02:18.193144",
     "exception": false,
     "start_time": "2021-07-14T18:02:17.152757",
     "status": "completed"
    },
    "tags": []
   },
   "outputs": [
    {
     "data": {
      "text/html": [
       "<div>\n",
       "<style scoped>\n",
       "    .dataframe tbody tr th:only-of-type {\n",
       "        vertical-align: middle;\n",
       "    }\n",
       "\n",
       "    .dataframe tbody tr th {\n",
       "        vertical-align: top;\n",
       "    }\n",
       "\n",
       "    .dataframe thead th {\n",
       "        text-align: right;\n",
       "    }\n",
       "</style>\n",
       "<table border=\"1\" class=\"dataframe\">\n",
       "  <thead>\n",
       "    <tr style=\"text-align: right;\">\n",
       "      <th></th>\n",
       "      <th>id</th>\n",
       "      <th>url_legal</th>\n",
       "      <th>license</th>\n",
       "      <th>excerpt</th>\n",
       "    </tr>\n",
       "  </thead>\n",
       "  <tbody>\n",
       "    <tr>\n",
       "      <th>0</th>\n",
       "      <td>c0f722661</td>\n",
       "      <td>NaN</td>\n",
       "      <td>NaN</td>\n",
       "      <td>My hope lay in Jack's promise that he would keep a bright light burning in the upper story to guide me on my course. On a clear night this light was visible from the village, but somehow or other I failed to take into account the state of the weather. The air was full of eddying flakes, which would render the headlight of a locomotive invisible a hundred yards distant. Strange that this important fact never occurred to me until I was fully a fourth of a mile from the village. Then, after looking in vain for the beacon light, the danger of my situation struck me, and I halted.\\n\"I am certai...</td>\n",
       "    </tr>\n",
       "    <tr>\n",
       "      <th>1</th>\n",
       "      <td>f0953f0a5</td>\n",
       "      <td>NaN</td>\n",
       "      <td>NaN</td>\n",
       "      <td>Dotty continued to go to Mrs. Gray's every night with the milk. Sometimes Katie went with her, and then they always paused a while under the acorn-tree and played \"King and Queen.\" Dotty said she wished they could ever remember to bring their nipperkins, for in that case the milk would taste a great deal more like nectar. The \"nipperkins\" were a pair of handled cups which the children supposed to be silver, and which they always used at table.\\nDotty knew she was doing wrong every time she played \"King and Queen.\" She knew the milk was not hers, but Mrs. Gray's; still she said to herself, ...</td>\n",
       "    </tr>\n",
       "  </tbody>\n",
       "</table>\n",
       "</div>"
      ],
      "text/plain": [
       "          id url_legal license  \\\n",
       "0  c0f722661       NaN     NaN   \n",
       "1  f0953f0a5       NaN     NaN   \n",
       "\n",
       "                                                                                                                                                                                                                                                                                                                                                                                                                                                                                                                                                                                                                   excerpt  \n",
       "0  My hope lay in Jack's promise that he would keep a bright light burning in the upper story to guide me on my course. On a clear night this light was visible from the village, but somehow or other I failed to take into account the state of the weather. The air was full of eddying flakes, which would render the headlight of a locomotive invisible a hundred yards distant. Strange that this important fact never occurred to me until I was fully a fourth of a mile from the village. Then, after looking in vain for the beacon light, the danger of my situation struck me, and I halted.\\n\"I am certai...  \n",
       "1  Dotty continued to go to Mrs. Gray's every night with the milk. Sometimes Katie went with her, and then they always paused a while under the acorn-tree and played \"King and Queen.\" Dotty said she wished they could ever remember to bring their nipperkins, for in that case the milk would taste a great deal more like nectar. The \"nipperkins\" were a pair of handled cups which the children supposed to be silver, and which they always used at table.\\nDotty knew she was doing wrong every time she played \"King and Queen.\" She knew the milk was not hers, but Mrs. Gray's; still she said to herself, ...  "
      ]
     },
     "execution_count": 6,
     "metadata": {},
     "output_type": "execute_result"
    }
   ],
   "source": [
    "df_test=pd.read_csv(op_path/'common-lit-datset/test.csv')\n",
    "df_test.head(2)"
   ]
  },
  {
   "cell_type": "code",
   "execution_count": 7,
   "id": "dacb8ae7",
   "metadata": {
    "execution": {
     "iopub.execute_input": "2021-07-14T18:02:18.238261Z",
     "iopub.status.busy": "2021-07-14T18:02:18.237763Z",
     "iopub.status.idle": "2021-07-14T18:02:18.243420Z",
     "shell.execute_reply": "2021-07-14T18:02:18.242935Z"
    },
    "papermill": {
     "duration": 0.029749,
     "end_time": "2021-07-14T18:02:18.243546",
     "exception": false,
     "start_time": "2021-07-14T18:02:18.213797",
     "status": "completed"
    },
    "tags": []
   },
   "outputs": [
    {
     "data": {
      "text/plain": [
       "((128603, 1), (7, 4))"
      ]
     },
     "execution_count": 7,
     "metadata": {},
     "output_type": "execute_result"
    }
   ],
   "source": [
    "df_train.shape, df_test.shape"
   ]
  },
  {
   "cell_type": "markdown",
   "id": "0aa93e23",
   "metadata": {
    "papermill": {
     "duration": 0.023174,
     "end_time": "2021-07-14T18:02:18.289376",
     "exception": false,
     "start_time": "2021-07-14T18:02:18.266202",
     "status": "completed"
    },
    "tags": []
   },
   "source": [
    "## Re-arrenging and pre-processing the data for the Language model\n",
    "* dropping all columns except excerpts\n",
    "* concatenating both dataframes(optional)"
   ]
  },
  {
   "cell_type": "code",
   "execution_count": 8,
   "id": "72bb7812",
   "metadata": {
    "execution": {
     "iopub.execute_input": "2021-07-14T18:02:18.335431Z",
     "iopub.status.busy": "2021-07-14T18:02:18.334954Z",
     "iopub.status.idle": "2021-07-14T18:02:18.338121Z",
     "shell.execute_reply": "2021-07-14T18:02:18.338474Z"
    },
    "papermill": {
     "duration": 0.028753,
     "end_time": "2021-07-14T18:02:18.338617",
     "exception": false,
     "start_time": "2021-07-14T18:02:18.309864",
     "status": "completed"
    },
    "tags": []
   },
   "outputs": [],
   "source": [
    "df_train_excerpts = df_train\n",
    "df_test_excerpts = df_test.copy()\n",
    "df_test_excerpts = drop_cols(df_test_excerpts, [ 'id',\n",
    "                                                  'url_legal',\n",
    "                                                  'license'])"
   ]
  },
  {
   "cell_type": "code",
   "execution_count": 9,
   "id": "4a0d6323",
   "metadata": {
    "execution": {
     "iopub.execute_input": "2021-07-14T18:02:18.391985Z",
     "iopub.status.busy": "2021-07-14T18:02:18.391041Z",
     "iopub.status.idle": "2021-07-14T18:02:18.394379Z",
     "shell.execute_reply": "2021-07-14T18:02:18.394787Z"
    },
    "papermill": {
     "duration": 0.034303,
     "end_time": "2021-07-14T18:02:18.394899",
     "exception": false,
     "start_time": "2021-07-14T18:02:18.360596",
     "status": "completed"
    },
    "tags": []
   },
   "outputs": [
    {
     "data": {
      "text/html": [
       "<div>\n",
       "<style scoped>\n",
       "    .dataframe tbody tr th:only-of-type {\n",
       "        vertical-align: middle;\n",
       "    }\n",
       "\n",
       "    .dataframe tbody tr th {\n",
       "        vertical-align: top;\n",
       "    }\n",
       "\n",
       "    .dataframe thead th {\n",
       "        text-align: right;\n",
       "    }\n",
       "</style>\n",
       "<table border=\"1\" class=\"dataframe\">\n",
       "  <thead>\n",
       "    <tr style=\"text-align: right;\">\n",
       "      <th></th>\n",
       "      <th>excerpt</th>\n",
       "    </tr>\n",
       "  </thead>\n",
       "  <tbody>\n",
       "    <tr>\n",
       "      <th>0</th>\n",
       "      <td>When the young people returned to the ballroom, it presented a decidedly changed appearance. Instead of an interior scene, it was a winter landscape.\\nThe floor was covered with snow-white canvas, not laid on smoothly, but rumpled over bumps and hillocks, like a real snow field. The numerous palms and evergreens that had decorated the room, were powdered with flour and strewn with tufts of cotton, like snow. Also diamond dust had been lightly sprinkled on them, and glittering crystal icicles hung from the branches.\\nAt each end of the room, on the wall, hung a beautiful bear-skin rug.\\nThe...</td>\n",
       "    </tr>\n",
       "  </tbody>\n",
       "</table>\n",
       "</div>"
      ],
      "text/plain": [
       "                                                                                                                                                                                                                                                                                                                                                                                                                                                                                                                                                                                                                   excerpt\n",
       "0  When the young people returned to the ballroom, it presented a decidedly changed appearance. Instead of an interior scene, it was a winter landscape.\\nThe floor was covered with snow-white canvas, not laid on smoothly, but rumpled over bumps and hillocks, like a real snow field. The numerous palms and evergreens that had decorated the room, were powdered with flour and strewn with tufts of cotton, like snow. Also diamond dust had been lightly sprinkled on them, and glittering crystal icicles hung from the branches.\\nAt each end of the room, on the wall, hung a beautiful bear-skin rug.\\nThe..."
      ]
     },
     "execution_count": 9,
     "metadata": {},
     "output_type": "execute_result"
    }
   ],
   "source": [
    "df_train_excerpts.head(1)"
   ]
  },
  {
   "cell_type": "code",
   "execution_count": 10,
   "id": "9c25b44b",
   "metadata": {
    "execution": {
     "iopub.execute_input": "2021-07-14T18:02:18.443445Z",
     "iopub.status.busy": "2021-07-14T18:02:18.442669Z",
     "iopub.status.idle": "2021-07-14T18:02:18.446187Z",
     "shell.execute_reply": "2021-07-14T18:02:18.445800Z"
    },
    "papermill": {
     "duration": 0.030459,
     "end_time": "2021-07-14T18:02:18.446287",
     "exception": false,
     "start_time": "2021-07-14T18:02:18.415828",
     "status": "completed"
    },
    "tags": []
   },
   "outputs": [
    {
     "data": {
      "text/html": [
       "<div>\n",
       "<style scoped>\n",
       "    .dataframe tbody tr th:only-of-type {\n",
       "        vertical-align: middle;\n",
       "    }\n",
       "\n",
       "    .dataframe tbody tr th {\n",
       "        vertical-align: top;\n",
       "    }\n",
       "\n",
       "    .dataframe thead th {\n",
       "        text-align: right;\n",
       "    }\n",
       "</style>\n",
       "<table border=\"1\" class=\"dataframe\">\n",
       "  <thead>\n",
       "    <tr style=\"text-align: right;\">\n",
       "      <th></th>\n",
       "      <th>excerpt</th>\n",
       "    </tr>\n",
       "  </thead>\n",
       "  <tbody>\n",
       "    <tr>\n",
       "      <th>0</th>\n",
       "      <td>My hope lay in Jack's promise that he would keep a bright light burning in the upper story to guide me on my course. On a clear night this light was visible from the village, but somehow or other I failed to take into account the state of the weather. The air was full of eddying flakes, which would render the headlight of a locomotive invisible a hundred yards distant. Strange that this important fact never occurred to me until I was fully a fourth of a mile from the village. Then, after looking in vain for the beacon light, the danger of my situation struck me, and I halted.\\n\"I am certai...</td>\n",
       "    </tr>\n",
       "  </tbody>\n",
       "</table>\n",
       "</div>"
      ],
      "text/plain": [
       "                                                                                                                                                                                                                                                                                                                                                                                                                                                                                                                                                                                                                   excerpt\n",
       "0  My hope lay in Jack's promise that he would keep a bright light burning in the upper story to guide me on my course. On a clear night this light was visible from the village, but somehow or other I failed to take into account the state of the weather. The air was full of eddying flakes, which would render the headlight of a locomotive invisible a hundred yards distant. Strange that this important fact never occurred to me until I was fully a fourth of a mile from the village. Then, after looking in vain for the beacon light, the danger of my situation struck me, and I halted.\\n\"I am certai..."
      ]
     },
     "execution_count": 10,
     "metadata": {},
     "output_type": "execute_result"
    }
   ],
   "source": [
    "df_test_excerpts.head(1)"
   ]
  },
  {
   "cell_type": "code",
   "execution_count": 11,
   "id": "e2dd6fdf",
   "metadata": {
    "execution": {
     "iopub.execute_input": "2021-07-14T18:02:18.498421Z",
     "iopub.status.busy": "2021-07-14T18:02:18.497732Z",
     "iopub.status.idle": "2021-07-14T18:02:18.508362Z",
     "shell.execute_reply": "2021-07-14T18:02:18.507970Z"
    },
    "papermill": {
     "duration": 0.03853,
     "end_time": "2021-07-14T18:02:18.508463",
     "exception": false,
     "start_time": "2021-07-14T18:02:18.469933",
     "status": "completed"
    },
    "tags": []
   },
   "outputs": [
    {
     "data": {
      "text/html": [
       "<div>\n",
       "<style scoped>\n",
       "    .dataframe tbody tr th:only-of-type {\n",
       "        vertical-align: middle;\n",
       "    }\n",
       "\n",
       "    .dataframe tbody tr th {\n",
       "        vertical-align: top;\n",
       "    }\n",
       "\n",
       "    .dataframe thead th {\n",
       "        text-align: right;\n",
       "    }\n",
       "</style>\n",
       "<table border=\"1\" class=\"dataframe\">\n",
       "  <thead>\n",
       "    <tr style=\"text-align: right;\">\n",
       "      <th></th>\n",
       "      <th>excerpt</th>\n",
       "    </tr>\n",
       "  </thead>\n",
       "  <tbody>\n",
       "    <tr>\n",
       "      <th>0</th>\n",
       "      <td>When the young people returned to the ballroom, it presented a decidedly changed appearance. Instead of an interior scene, it was a winter landscape.\\nThe floor was covered with snow-white canvas, not laid on smoothly, but rumpled over bumps and hillocks, like a real snow field. The numerous palms and evergreens that had decorated the room, were powdered with flour and strewn with tufts of cotton, like snow. Also diamond dust had been lightly sprinkled on them, and glittering crystal icicles hung from the branches.\\nAt each end of the room, on the wall, hung a beautiful bear-skin rug.\\nThe...</td>\n",
       "    </tr>\n",
       "  </tbody>\n",
       "</table>\n",
       "</div>"
      ],
      "text/plain": [
       "                                                                                                                                                                                                                                                                                                                                                                                                                                                                                                                                                                                                                   excerpt\n",
       "0  When the young people returned to the ballroom, it presented a decidedly changed appearance. Instead of an interior scene, it was a winter landscape.\\nThe floor was covered with snow-white canvas, not laid on smoothly, but rumpled over bumps and hillocks, like a real snow field. The numerous palms and evergreens that had decorated the room, were powdered with flour and strewn with tufts of cotton, like snow. Also diamond dust had been lightly sprinkled on them, and glittering crystal icicles hung from the branches.\\nAt each end of the room, on the wall, hung a beautiful bear-skin rug.\\nThe..."
      ]
     },
     "execution_count": 11,
     "metadata": {},
     "output_type": "execute_result"
    }
   ],
   "source": [
    "df = concat_dfs([df_train_excerpts, df_test_excerpts])\n",
    "df.head(1)"
   ]
  },
  {
   "cell_type": "code",
   "execution_count": 12,
   "id": "8d18d2f0",
   "metadata": {
    "execution": {
     "iopub.execute_input": "2021-07-14T18:02:18.561809Z",
     "iopub.status.busy": "2021-07-14T18:02:18.561042Z",
     "iopub.status.idle": "2021-07-14T18:02:18.564260Z",
     "shell.execute_reply": "2021-07-14T18:02:18.564807Z"
    },
    "papermill": {
     "duration": 0.033443,
     "end_time": "2021-07-14T18:02:18.565001",
     "exception": false,
     "start_time": "2021-07-14T18:02:18.531558",
     "status": "completed"
    },
    "tags": []
   },
   "outputs": [
    {
     "data": {
      "text/plain": [
       "(128610, 1)"
      ]
     },
     "execution_count": 12,
     "metadata": {},
     "output_type": "execute_result"
    }
   ],
   "source": [
    "df.shape"
   ]
  },
  {
   "cell_type": "markdown",
   "id": "50695e66",
   "metadata": {
    "papermill": {
     "duration": 0.025614,
     "end_time": "2021-07-14T18:02:18.616140",
     "exception": false,
     "start_time": "2021-07-14T18:02:18.590526",
     "status": "completed"
    },
    "tags": []
   },
   "source": [
    "## taking sample of cbt data"
   ]
  },
  {
   "cell_type": "code",
   "execution_count": 13,
   "id": "e3dcabb1",
   "metadata": {
    "execution": {
     "iopub.execute_input": "2021-07-14T18:02:18.673305Z",
     "iopub.status.busy": "2021-07-14T18:02:18.672529Z",
     "iopub.status.idle": "2021-07-14T18:02:18.677439Z",
     "shell.execute_reply": "2021-07-14T18:02:18.678956Z"
    },
    "papermill": {
     "duration": 0.036935,
     "end_time": "2021-07-14T18:02:18.679081",
     "exception": false,
     "start_time": "2021-07-14T18:02:18.642146",
     "status": "completed"
    },
    "tags": []
   },
   "outputs": [
    {
     "data": {
      "text/plain": [
       "(20000, 1)"
      ]
     },
     "execution_count": 13,
     "metadata": {},
     "output_type": "execute_result"
    }
   ],
   "source": [
    "df_train_excerpts_sample = df_train_excerpts[:20000]\n",
    "df_train_excerpts_sample.shape"
   ]
  },
  {
   "cell_type": "markdown",
   "id": "884961c2",
   "metadata": {
    "papermill": {
     "duration": 0.022939,
     "end_time": "2021-07-14T18:02:18.726192",
     "exception": false,
     "start_time": "2021-07-14T18:02:18.703253",
     "status": "completed"
    },
    "tags": []
   },
   "source": [
    "## Language model"
   ]
  },
  {
   "cell_type": "code",
   "execution_count": 14,
   "id": "db7e10da",
   "metadata": {
    "execution": {
     "iopub.execute_input": "2021-07-14T18:02:18.782954Z",
     "iopub.status.busy": "2021-07-14T18:02:18.781991Z",
     "iopub.status.idle": "2021-07-14T18:02:18.784904Z",
     "shell.execute_reply": "2021-07-14T18:02:18.784365Z"
    },
    "jupyter": {
     "source_hidden": true
    },
    "papermill": {
     "duration": 0.035651,
     "end_time": "2021-07-14T18:02:18.785023",
     "exception": false,
     "start_time": "2021-07-14T18:02:18.749372",
     "status": "completed"
    },
    "tags": []
   },
   "outputs": [],
   "source": [
    "def get_lm_learner(df: DataFrame, path: Path,\n",
    "                   valid_pct: float = 0.3, bs: int = 64,\n",
    "                   seq_len:int = 72, drop_mult: float = 1.0,\n",
    "                   opt_func = None, metrics = None,\n",
    "                   wd: float = 0.1):\n",
    "    \"\"\"get the dataloader and the language model learner\"\"\"\n",
    "    dls_lm = TextDataLoaders.from_df(df, path, is_lm=True,\n",
    "                                     valid_pct=valid_pct, bs=bs,\n",
    "                                     seq_len=seq_len)\n",
    "    \n",
    "    learn = language_model_learner(dls_lm,\n",
    "                               AWD_LSTM,\n",
    "                               drop_mult=drop_mult,\n",
    "                               opt_func=opt_func,\n",
    "                               metrics=metrics, \n",
    "                               path=path,\n",
    "                              wd=wd).to_fp16()\n",
    "    \n",
    "    return dls_lm, learn\n",
    "    "
   ]
  },
  {
   "cell_type": "code",
   "execution_count": 15,
   "id": "3176b1dd",
   "metadata": {
    "execution": {
     "iopub.execute_input": "2021-07-14T18:02:18.836924Z",
     "iopub.status.busy": "2021-07-14T18:02:18.836218Z",
     "iopub.status.idle": "2021-07-14T18:04:14.287041Z",
     "shell.execute_reply": "2021-07-14T18:04:14.286423Z"
    },
    "papermill": {
     "duration": 115.478696,
     "end_time": "2021-07-14T18:04:14.287201",
     "exception": false,
     "start_time": "2021-07-14T18:02:18.808505",
     "status": "completed"
    },
    "tags": []
   },
   "outputs": [
    {
     "data": {
      "text/html": [],
      "text/plain": [
       "<IPython.core.display.HTML object>"
      ]
     },
     "metadata": {},
     "output_type": "display_data"
    },
    {
     "name": "stderr",
     "output_type": "stream",
     "text": [
      "/opt/conda/lib/python3.7/site-packages/numpy/core/_asarray.py:83: VisibleDeprecationWarning: Creating an ndarray from ragged nested sequences (which is a list-or-tuple of lists-or-tuples-or ndarrays with different lengths or shapes) is deprecated. If you meant to do this, you must specify 'dtype=object' when creating the ndarray\n",
      "  return array(a, dtype, copy=False, order=order)\n"
     ]
    },
    {
     "data": {
      "text/html": [],
      "text/plain": [
       "<IPython.core.display.HTML object>"
      ]
     },
     "metadata": {},
     "output_type": "display_data"
    }
   ],
   "source": [
    "dls_lm , learn  = get_lm_learner(df_train_excerpts_sample, op_path, opt_func=RAdam,bs=128,\n",
    "                                 seq_len=80,\n",
    "               metrics=[accuracy, Perplexity()])"
   ]
  },
  {
   "cell_type": "code",
   "execution_count": 16,
   "id": "58601b8a",
   "metadata": {
    "execution": {
     "iopub.execute_input": "2021-07-14T18:04:14.370352Z",
     "iopub.status.busy": "2021-07-14T18:04:14.359927Z",
     "iopub.status.idle": "2021-07-14T18:04:14.617328Z",
     "shell.execute_reply": "2021-07-14T18:04:14.616527Z"
    },
    "papermill": {
     "duration": 0.304472,
     "end_time": "2021-07-14T18:04:14.617453",
     "exception": false,
     "start_time": "2021-07-14T18:04:14.312981",
     "status": "completed"
    },
    "tags": []
   },
   "outputs": [
    {
     "data": {
      "text/html": [
       "<table border=\"1\" class=\"dataframe\">\n",
       "  <thead>\n",
       "    <tr style=\"text-align: right;\">\n",
       "      <th></th>\n",
       "      <th>text</th>\n",
       "      <th>text_</th>\n",
       "    </tr>\n",
       "  </thead>\n",
       "  <tbody>\n",
       "    <tr>\n",
       "      <th>0</th>\n",
       "      <td>xxbos xxmaj but pleased though the boy was , he determined not to tell anyone about it , particularly not his mother , who never could keep anything from her neighbours .still , in spite of his resolutions , he could not hide altogether that something had happened , and when he went in to breakfast his mother asked him what was the matter . ` xxmaj oh , mother , i had such a nice dream last night ,</td>\n",
       "      <td>xxmaj but pleased though the boy was , he determined not to tell anyone about it , particularly not his mother , who never could keep anything from her neighbours .still , in spite of his resolutions , he could not hide altogether that something had happened , and when he went in to breakfast his mother asked him what was the matter . ` xxmaj oh , mother , i had such a nice dream last night , '</td>\n",
       "    </tr>\n",
       "    <tr>\n",
       "      <th>1</th>\n",
       "      <td>the angry victim who was sitting below .sometimes , however , the inhabitants of the forest were so foolish as to provoke him , and then they got the worst of it .this was what happened to the barber , whom the monkey visited one morning , saying that he wished to be shaved .the barber bowed politely to his customer , and begging him to be seated , tied a large cloth round his neck , and rubbed his</td>\n",
       "      <td>angry victim who was sitting below .sometimes , however , the inhabitants of the forest were so foolish as to provoke him , and then they got the worst of it .this was what happened to the barber , whom the monkey visited one morning , saying that he wished to be shaved .the barber bowed politely to his customer , and begging him to be seated , tied a large cloth round his neck , and rubbed his chin</td>\n",
       "    </tr>\n",
       "    <tr>\n",
       "      <th>2</th>\n",
       "      <td>, and ordered a bed to be made ready and the best doctors in all the country to be sent for .when they heard of the queen 's summons they flocked from all parts , but none could cure him .after everyone had tried and failed a servant entered and informed the queen that a strange old man had just knocked at the palace gate and declared that he was able to heal the dying youth .now this was a</td>\n",
       "      <td>and ordered a bed to be made ready and the best doctors in all the country to be sent for .when they heard of the queen 's summons they flocked from all parts , but none could cure him .after everyone had tried and failed a servant entered and informed the queen that a strange old man had just knocked at the palace gate and declared that he was able to heal the dying youth .now this was a holy</td>\n",
       "    </tr>\n",
       "    <tr>\n",
       "      <th>3</th>\n",
       "      <td>.morgiana , meanwhile , put on a head - dress like a dancing - girl 's , and clasped a girdle round her waist , from which hung a dagger with a silver hilt , and said to xxmaj abdallah : ` ` xxmaj take your tabor , and let us go and divert our master and his guest . ' ' abdallah took his tabor and played before xxmaj morgiana until they came to the door , where xxmaj</td>\n",
       "      <td>, meanwhile , put on a head - dress like a dancing - girl 's , and clasped a girdle round her waist , from which hung a dagger with a silver hilt , and said to xxmaj abdallah : ` ` xxmaj take your tabor , and let us go and divert our master and his guest . ' ' abdallah took his tabor and played before xxmaj morgiana until they came to the door , where xxmaj abdallah</td>\n",
       "    </tr>\n",
       "    <tr>\n",
       "      <th>4</th>\n",
       "      <td>to each other : ` xxmaj if we can only get hold of that basket it will make our fortune ! ' so they began by inviting xxmaj father xxmaj grumbler to sit down to the table , and brought out the best wine in the cellar , hoping it might loosen his tongue .but xxmaj father xxmaj grumbler was wiser than they gave him credit for , and though they tried in all manner of ways to find out</td>\n",
       "      <td>each other : ` xxmaj if we can only get hold of that basket it will make our fortune ! ' so they began by inviting xxmaj father xxmaj grumbler to sit down to the table , and brought out the best wine in the cellar , hoping it might loosen his tongue .but xxmaj father xxmaj grumbler was wiser than they gave him credit for , and though they tried in all manner of ways to find out who</td>\n",
       "    </tr>\n",
       "    <tr>\n",
       "      <th>5</th>\n",
       "      <td>. xxmaj there were lakes and xxunk where for centuries there have been fields of corn . xxmaj on the oldest sites of our towns were groups of huts made of clay and xxunk , and dominated , perhaps , by the large xxunk house of the xxunk prince . xxmaj in the xxunk , natural islands , or artificial xxunk made of piles ( xxunk ) , afforded standing - ground and protection to villages , if indeed these</td>\n",
       "      <td>xxmaj there were lakes and xxunk where for centuries there have been fields of corn . xxmaj on the oldest sites of our towns were groups of huts made of clay and xxunk , and dominated , perhaps , by the large xxunk house of the xxunk prince . xxmaj in the xxunk , natural islands , or artificial xxunk made of piles ( xxunk ) , afforded standing - ground and protection to villages , if indeed these lake</td>\n",
       "    </tr>\n",
       "    <tr>\n",
       "      <th>6</th>\n",
       "      <td>xxmaj paperarello , you have won my daughter . ' and he thought to himself : ` xxmaj this fellow must really be a magician . ' but when the princess heard what was in store for her she wept bitterly , and declared that never , never would she marry that dirty xxmaj paperarello ! however , the king paid no heed to her tears and prayers , and before many days were over the wedding was celebrated with</td>\n",
       "      <td>paperarello , you have won my daughter . ' and he thought to himself : ` xxmaj this fellow must really be a magician . ' but when the princess heard what was in store for her she wept bitterly , and declared that never , never would she marry that dirty xxmaj paperarello ! however , the king paid no heed to her tears and prayers , and before many days were over the wedding was celebrated with great</td>\n",
       "    </tr>\n",
       "    <tr>\n",
       "      <th>7</th>\n",
       "      <td>, and before long he had begged the honour of her hand for his master .she declared at first that she was too unworthy to accept the position offered her , and that the minister would soon repent his choice ; but this only made him the more eager , and in the end he gained her consent , and prevailed on her to return with him at once to his own country .the minister then conducted the mother and</td>\n",
       "      <td>and before long he had begged the honour of her hand for his master .she declared at first that she was too unworthy to accept the position offered her , and that the minister would soon repent his choice ; but this only made him the more eager , and in the end he gained her consent , and prevailed on her to return with him at once to his own country .the minister then conducted the mother and daughter</td>\n",
       "    </tr>\n",
       "    <tr>\n",
       "      <th>8</th>\n",
       "      <td>thing call to me .my name is xxmaj litill . ' the young man walked on till he reached the open space in the wood , where he stopped for dinner .in a moment all the birds in the world seemed flying round his head , and he crumbled some of his bread for them and watched them as they darted down to pick it up .when they had cleared off every crumb the largest bird with the gayest plumage</td>\n",
       "      <td>call to me .my name is xxmaj litill . ' the young man walked on till he reached the open space in the wood , where he stopped for dinner .in a moment all the birds in the world seemed flying round his head , and he crumbled some of his bread for them and watched them as they darted down to pick it up .when they had cleared off every crumb the largest bird with the gayest plumage said</td>\n",
       "    </tr>\n",
       "  </tbody>\n",
       "</table>"
      ],
      "text/plain": [
       "<IPython.core.display.HTML object>"
      ]
     },
     "metadata": {},
     "output_type": "display_data"
    }
   ],
   "source": [
    "dls_lm.show_batch()"
   ]
  },
  {
   "cell_type": "code",
   "execution_count": 17,
   "id": "da98d742",
   "metadata": {
    "execution": {
     "iopub.execute_input": "2021-07-14T18:04:14.671762Z",
     "iopub.status.busy": "2021-07-14T18:04:14.671103Z",
     "iopub.status.idle": "2021-07-14T18:09:58.659938Z",
     "shell.execute_reply": "2021-07-14T18:09:58.660330Z"
    },
    "papermill": {
     "duration": 344.017853,
     "end_time": "2021-07-14T18:09:58.660521",
     "exception": false,
     "start_time": "2021-07-14T18:04:14.642668",
     "status": "completed"
    },
    "tags": []
   },
   "outputs": [
    {
     "data": {
      "text/html": [
       "<table border=\"1\" class=\"dataframe\">\n",
       "  <thead>\n",
       "    <tr style=\"text-align: left;\">\n",
       "      <th>epoch</th>\n",
       "      <th>train_loss</th>\n",
       "      <th>valid_loss</th>\n",
       "      <th>accuracy</th>\n",
       "      <th>perplexity</th>\n",
       "      <th>time</th>\n",
       "    </tr>\n",
       "  </thead>\n",
       "  <tbody>\n",
       "    <tr>\n",
       "      <td>0</td>\n",
       "      <td>3.539593</td>\n",
       "      <td>3.136593</td>\n",
       "      <td>0.353829</td>\n",
       "      <td>23.025282</td>\n",
       "      <td>05:43</td>\n",
       "    </tr>\n",
       "  </tbody>\n",
       "</table>"
      ],
      "text/plain": [
       "<IPython.core.display.HTML object>"
      ]
     },
     "metadata": {},
     "output_type": "display_data"
    }
   ],
   "source": [
    "learn.fit_one_cycle(1, 1e-2)"
   ]
  },
  {
   "cell_type": "code",
   "execution_count": 18,
   "id": "4a3edaa4",
   "metadata": {
    "execution": {
     "iopub.execute_input": "2021-07-14T18:09:58.715056Z",
     "iopub.status.busy": "2021-07-14T18:09:58.714521Z",
     "iopub.status.idle": "2021-07-14T18:09:59.214033Z",
     "shell.execute_reply": "2021-07-14T18:09:59.214437Z"
    },
    "papermill": {
     "duration": 0.528636,
     "end_time": "2021-07-14T18:09:59.214604",
     "exception": false,
     "start_time": "2021-07-14T18:09:58.685968",
     "status": "completed"
    },
    "tags": []
   },
   "outputs": [
    {
     "data": {
      "text/plain": [
       "Path('/kaggle/working/models/1epoch.pth')"
      ]
     },
     "execution_count": 18,
     "metadata": {},
     "output_type": "execute_result"
    }
   ],
   "source": [
    "learn.save('./1epoch')"
   ]
  },
  {
   "cell_type": "code",
   "execution_count": 19,
   "id": "bb58aa28",
   "metadata": {
    "execution": {
     "iopub.execute_input": "2021-07-14T18:09:59.269837Z",
     "iopub.status.busy": "2021-07-14T18:09:59.269004Z",
     "iopub.status.idle": "2021-07-14T18:22:37.926743Z",
     "shell.execute_reply": "2021-07-14T18:22:37.926185Z"
    },
    "papermill": {
     "duration": 758.686804,
     "end_time": "2021-07-14T18:22:37.926911",
     "exception": false,
     "start_time": "2021-07-14T18:09:59.240107",
     "status": "completed"
    },
    "tags": []
   },
   "outputs": [
    {
     "data": {
      "text/html": [
       "<table border=\"1\" class=\"dataframe\">\n",
       "  <thead>\n",
       "    <tr style=\"text-align: left;\">\n",
       "      <th>epoch</th>\n",
       "      <th>train_loss</th>\n",
       "      <th>valid_loss</th>\n",
       "      <th>accuracy</th>\n",
       "      <th>perplexity</th>\n",
       "      <th>time</th>\n",
       "    </tr>\n",
       "  </thead>\n",
       "  <tbody>\n",
       "    <tr>\n",
       "      <td>0</td>\n",
       "      <td>2.797444</td>\n",
       "      <td>2.289397</td>\n",
       "      <td>0.492841</td>\n",
       "      <td>9.868982</td>\n",
       "      <td>06:18</td>\n",
       "    </tr>\n",
       "    <tr>\n",
       "      <td>1</td>\n",
       "      <td>2.479941</td>\n",
       "      <td>1.972135</td>\n",
       "      <td>0.558973</td>\n",
       "      <td>7.186005</td>\n",
       "      <td>06:19</td>\n",
       "    </tr>\n",
       "  </tbody>\n",
       "</table>"
      ],
      "text/plain": [
       "<IPython.core.display.HTML object>"
      ]
     },
     "metadata": {},
     "output_type": "display_data"
    }
   ],
   "source": [
    "learn.load('./1epoch')\n",
    "learn.unfreeze()\n",
    "learn.fit_one_cycle(2, 1e-3)"
   ]
  },
  {
   "cell_type": "code",
   "execution_count": 20,
   "id": "1ab9221d",
   "metadata": {
    "execution": {
     "iopub.execute_input": "2021-07-14T18:22:37.989162Z",
     "iopub.status.busy": "2021-07-14T18:22:37.988335Z",
     "iopub.status.idle": "2021-07-14T18:22:38.338421Z",
     "shell.execute_reply": "2021-07-14T18:22:38.337879Z"
    },
    "papermill": {
     "duration": 0.381077,
     "end_time": "2021-07-14T18:22:38.338609",
     "exception": false,
     "start_time": "2021-07-14T18:22:37.957532",
     "status": "completed"
    },
    "tags": []
   },
   "outputs": [],
   "source": [
    "learn.path = Path(\".\")\n",
    "learn.save_encoder('./final_encoder')"
   ]
  },
  {
   "cell_type": "markdown",
   "id": "7181e3ab",
   "metadata": {
    "papermill": {
     "duration": 0.026736,
     "end_time": "2021-07-14T18:22:38.393555",
     "exception": false,
     "start_time": "2021-07-14T18:22:38.366819",
     "status": "completed"
    },
    "tags": []
   },
   "source": [
    "## The text regressor"
   ]
  },
  {
   "cell_type": "code",
   "execution_count": 21,
   "id": "2f4aa10a",
   "metadata": {
    "execution": {
     "iopub.execute_input": "2021-07-14T18:22:38.457262Z",
     "iopub.status.busy": "2021-07-14T18:22:38.456549Z",
     "iopub.status.idle": "2021-07-14T18:23:02.563931Z",
     "shell.execute_reply": "2021-07-14T18:23:02.563433Z"
    },
    "papermill": {
     "duration": 24.142477,
     "end_time": "2021-07-14T18:23:02.564059",
     "exception": false,
     "start_time": "2021-07-14T18:22:38.421582",
     "status": "completed"
    },
    "tags": []
   },
   "outputs": [
    {
     "data": {
      "text/html": [],
      "text/plain": [
       "<IPython.core.display.HTML object>"
      ]
     },
     "metadata": {},
     "output_type": "display_data"
    },
    {
     "name": "stderr",
     "output_type": "stream",
     "text": [
      "/opt/conda/lib/python3.7/site-packages/numpy/core/_asarray.py:83: VisibleDeprecationWarning: Creating an ndarray from ragged nested sequences (which is a list-or-tuple of lists-or-tuples-or ndarrays with different lengths or shapes) is deprecated. If you meant to do this, you must specify 'dtype=object' when creating the ndarray\n",
      "  return array(a, dtype, copy=False, order=order)\n"
     ]
    }
   ],
   "source": [
    "df_for_regressor = pd.read_csv(path/'common-lit-datset-with-synonym-replacement/aug_df.csv')\n",
    "df_for_regressor, dls, learn = get_text_regressor(df_for_regressor, 'excerpt','target', ['Unnamed: 0', 'id',\n",
    "                                                                    'url_legal',\n",
    "                                                                     'license',\n",
    "                                                                     'standard_error'],\n",
    "                                                                  opt_func=RAdam)"
   ]
  },
  {
   "cell_type": "code",
   "execution_count": 22,
   "id": "64234723",
   "metadata": {
    "execution": {
     "iopub.execute_input": "2021-07-14T18:23:02.628856Z",
     "iopub.status.busy": "2021-07-14T18:23:02.627836Z",
     "iopub.status.idle": "2021-07-14T18:23:25.620131Z",
     "shell.execute_reply": "2021-07-14T18:23:25.620642Z"
    },
    "papermill": {
     "duration": 23.02653,
     "end_time": "2021-07-14T18:23:25.620796",
     "exception": false,
     "start_time": "2021-07-14T18:23:02.594266",
     "status": "completed"
    },
    "tags": []
   },
   "outputs": [
    {
     "data": {
      "text/html": [
       "<table border=\"1\" class=\"dataframe\">\n",
       "  <thead>\n",
       "    <tr style=\"text-align: left;\">\n",
       "      <th>epoch</th>\n",
       "      <th>train_loss</th>\n",
       "      <th>valid_loss</th>\n",
       "      <th>_rmse</th>\n",
       "      <th>time</th>\n",
       "    </tr>\n",
       "  </thead>\n",
       "  <tbody>\n",
       "    <tr>\n",
       "      <td>0</td>\n",
       "      <td>0.655972</td>\n",
       "      <td>0.636928</td>\n",
       "      <td>0.798078</td>\n",
       "      <td>00:22</td>\n",
       "    </tr>\n",
       "  </tbody>\n",
       "</table>"
      ],
      "text/plain": [
       "<IPython.core.display.HTML object>"
      ]
     },
     "metadata": {},
     "output_type": "display_data"
    }
   ],
   "source": [
    "learn.fit_one_cycle(1, 2e-2)"
   ]
  },
  {
   "cell_type": "code",
   "execution_count": 23,
   "id": "745fde69",
   "metadata": {
    "execution": {
     "iopub.execute_input": "2021-07-14T18:23:25.750148Z",
     "iopub.status.busy": "2021-07-14T18:23:25.749351Z",
     "iopub.status.idle": "2021-07-14T18:23:52.104101Z",
     "shell.execute_reply": "2021-07-14T18:23:52.103621Z"
    },
    "papermill": {
     "duration": 26.418517,
     "end_time": "2021-07-14T18:23:52.104235",
     "exception": false,
     "start_time": "2021-07-14T18:23:25.685718",
     "status": "completed"
    },
    "tags": []
   },
   "outputs": [
    {
     "data": {
      "text/html": [
       "<table border=\"1\" class=\"dataframe\">\n",
       "  <thead>\n",
       "    <tr style=\"text-align: left;\">\n",
       "      <th>epoch</th>\n",
       "      <th>train_loss</th>\n",
       "      <th>valid_loss</th>\n",
       "      <th>_rmse</th>\n",
       "      <th>time</th>\n",
       "    </tr>\n",
       "  </thead>\n",
       "  <tbody>\n",
       "    <tr>\n",
       "      <td>0</td>\n",
       "      <td>0.639375</td>\n",
       "      <td>0.475875</td>\n",
       "      <td>0.689837</td>\n",
       "      <td>00:26</td>\n",
       "    </tr>\n",
       "  </tbody>\n",
       "</table>"
      ],
      "text/plain": [
       "<IPython.core.display.HTML object>"
      ]
     },
     "metadata": {},
     "output_type": "display_data"
    }
   ],
   "source": [
    "learn.freeze_to(-2)\n",
    "learn.fit_one_cycle(1, slice(1e-2/(2.6**4),1e-2))"
   ]
  },
  {
   "cell_type": "code",
   "execution_count": 24,
   "id": "2ffbd4ab",
   "metadata": {
    "execution": {
     "iopub.execute_input": "2021-07-14T18:23:52.173007Z",
     "iopub.status.busy": "2021-07-14T18:23:52.172307Z",
     "iopub.status.idle": "2021-07-14T18:24:29.193864Z",
     "shell.execute_reply": "2021-07-14T18:24:29.192987Z"
    },
    "papermill": {
     "duration": 37.056027,
     "end_time": "2021-07-14T18:24:29.194008",
     "exception": false,
     "start_time": "2021-07-14T18:23:52.137981",
     "status": "completed"
    },
    "tags": []
   },
   "outputs": [
    {
     "data": {
      "text/html": [
       "<table border=\"1\" class=\"dataframe\">\n",
       "  <thead>\n",
       "    <tr style=\"text-align: left;\">\n",
       "      <th>epoch</th>\n",
       "      <th>train_loss</th>\n",
       "      <th>valid_loss</th>\n",
       "      <th>_rmse</th>\n",
       "      <th>time</th>\n",
       "    </tr>\n",
       "  </thead>\n",
       "  <tbody>\n",
       "    <tr>\n",
       "      <td>0</td>\n",
       "      <td>0.584705</td>\n",
       "      <td>0.449428</td>\n",
       "      <td>0.670394</td>\n",
       "      <td>00:37</td>\n",
       "    </tr>\n",
       "  </tbody>\n",
       "</table>"
      ],
      "text/plain": [
       "<IPython.core.display.HTML object>"
      ]
     },
     "metadata": {},
     "output_type": "display_data"
    }
   ],
   "source": [
    "learn.freeze_to(-3)\n",
    "learn.fit_one_cycle(1, slice(1e-2/(2.6**4),1e-2))"
   ]
  },
  {
   "cell_type": "code",
   "execution_count": 25,
   "id": "308de963",
   "metadata": {
    "execution": {
     "iopub.execute_input": "2021-07-14T18:24:29.269479Z",
     "iopub.status.busy": "2021-07-14T18:24:29.268637Z",
     "iopub.status.idle": "2021-07-14T18:32:29.717274Z",
     "shell.execute_reply": "2021-07-14T18:32:29.716787Z"
    },
    "papermill": {
     "duration": 480.486724,
     "end_time": "2021-07-14T18:32:29.717415",
     "exception": false,
     "start_time": "2021-07-14T18:24:29.230691",
     "status": "completed"
    },
    "tags": []
   },
   "outputs": [
    {
     "data": {
      "text/html": [
       "<table border=\"1\" class=\"dataframe\">\n",
       "  <thead>\n",
       "    <tr style=\"text-align: left;\">\n",
       "      <th>epoch</th>\n",
       "      <th>train_loss</th>\n",
       "      <th>valid_loss</th>\n",
       "      <th>_rmse</th>\n",
       "      <th>time</th>\n",
       "    </tr>\n",
       "  </thead>\n",
       "  <tbody>\n",
       "    <tr>\n",
       "      <td>0</td>\n",
       "      <td>0.571718</td>\n",
       "      <td>0.510500</td>\n",
       "      <td>0.714493</td>\n",
       "      <td>00:48</td>\n",
       "    </tr>\n",
       "    <tr>\n",
       "      <td>1</td>\n",
       "      <td>0.576624</td>\n",
       "      <td>0.697369</td>\n",
       "      <td>0.835086</td>\n",
       "      <td>00:47</td>\n",
       "    </tr>\n",
       "    <tr>\n",
       "      <td>2</td>\n",
       "      <td>0.576116</td>\n",
       "      <td>0.683531</td>\n",
       "      <td>0.826759</td>\n",
       "      <td>00:48</td>\n",
       "    </tr>\n",
       "    <tr>\n",
       "      <td>3</td>\n",
       "      <td>0.476609</td>\n",
       "      <td>0.384437</td>\n",
       "      <td>0.620030</td>\n",
       "      <td>00:48</td>\n",
       "    </tr>\n",
       "    <tr>\n",
       "      <td>4</td>\n",
       "      <td>0.465219</td>\n",
       "      <td>0.568555</td>\n",
       "      <td>0.754026</td>\n",
       "      <td>00:48</td>\n",
       "    </tr>\n",
       "    <tr>\n",
       "      <td>5</td>\n",
       "      <td>0.416940</td>\n",
       "      <td>0.417191</td>\n",
       "      <td>0.645903</td>\n",
       "      <td>00:47</td>\n",
       "    </tr>\n",
       "    <tr>\n",
       "      <td>6</td>\n",
       "      <td>0.417749</td>\n",
       "      <td>0.288966</td>\n",
       "      <td>0.537556</td>\n",
       "      <td>00:48</td>\n",
       "    </tr>\n",
       "    <tr>\n",
       "      <td>7</td>\n",
       "      <td>0.351979</td>\n",
       "      <td>0.299771</td>\n",
       "      <td>0.547513</td>\n",
       "      <td>00:47</td>\n",
       "    </tr>\n",
       "    <tr>\n",
       "      <td>8</td>\n",
       "      <td>0.318437</td>\n",
       "      <td>0.275085</td>\n",
       "      <td>0.524486</td>\n",
       "      <td>00:47</td>\n",
       "    </tr>\n",
       "    <tr>\n",
       "      <td>9</td>\n",
       "      <td>0.310659</td>\n",
       "      <td>0.288986</td>\n",
       "      <td>0.537574</td>\n",
       "      <td>00:47</td>\n",
       "    </tr>\n",
       "  </tbody>\n",
       "</table>"
      ],
      "text/plain": [
       "<IPython.core.display.HTML object>"
      ]
     },
     "metadata": {},
     "output_type": "display_data"
    }
   ],
   "source": [
    "learn.unfreeze()\n",
    "learn.fit_one_cycle(10, slice(1e-2/(2.6**4),1e-2))"
   ]
  },
  {
   "cell_type": "markdown",
   "id": "99be4596",
   "metadata": {
    "papermill": {
     "duration": 0.028967,
     "end_time": "2021-07-14T18:32:29.778759",
     "exception": false,
     "start_time": "2021-07-14T18:32:29.749792",
     "status": "completed"
    },
    "tags": []
   },
   "source": [
    "## saving final model"
   ]
  },
  {
   "cell_type": "code",
   "execution_count": 26,
   "id": "845f04f6",
   "metadata": {
    "execution": {
     "iopub.execute_input": "2021-07-14T18:32:29.878011Z",
     "iopub.status.busy": "2021-07-14T18:32:29.849215Z",
     "iopub.status.idle": "2021-07-14T18:32:30.304685Z",
     "shell.execute_reply": "2021-07-14T18:32:30.304217Z"
    },
    "papermill": {
     "duration": 0.497029,
     "end_time": "2021-07-14T18:32:30.304815",
     "exception": false,
     "start_time": "2021-07-14T18:32:29.807786",
     "status": "completed"
    },
    "tags": []
   },
   "outputs": [],
   "source": [
    "learn.export(\"./final_model\")"
   ]
  }
 ],
 "metadata": {
  "kernelspec": {
   "display_name": "Python 3",
   "language": "python",
   "name": "python3"
  },
  "language_info": {
   "codemirror_mode": {
    "name": "ipython",
    "version": 3
   },
   "file_extension": ".py",
   "mimetype": "text/x-python",
   "name": "python",
   "nbconvert_exporter": "python",
   "pygments_lexer": "ipython3",
   "version": "3.7.10"
  },
  "papermill": {
   "default_parameters": {},
   "duration": 1833.129489,
   "end_time": "2021-07-14T18:32:33.254996",
   "environment_variables": {},
   "exception": null,
   "input_path": "__notebook__.ipynb",
   "output_path": "__notebook__.ipynb",
   "parameters": {},
   "start_time": "2021-07-14T18:02:00.125507",
   "version": "2.3.3"
  }
 },
 "nbformat": 4,
 "nbformat_minor": 5
}
