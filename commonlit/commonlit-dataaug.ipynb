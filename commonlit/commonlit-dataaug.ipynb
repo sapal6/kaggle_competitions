{
 "cells": [
  {
   "cell_type": "markdown",
   "id": "colonial-camping",
   "metadata": {
    "papermill": {
     "duration": 0.060693,
     "end_time": "2021-07-02T09:55:25.198514",
     "exception": false,
     "start_time": "2021-07-02T09:55:25.137821",
     "status": "completed"
    },
    "tags": []
   },
   "source": [
    "# what is this?\n",
    "Experimneting with data augmentation for NLP. The goal is to experiment with the dataaugmentation to increase training size of teh original data."
   ]
  },
  {
   "cell_type": "markdown",
   "id": "interesting-session",
   "metadata": {
    "papermill": {
     "duration": 0.066305,
     "end_time": "2021-07-02T09:55:25.324780",
     "exception": false,
     "start_time": "2021-07-02T09:55:25.258475",
     "status": "completed"
    },
    "tags": []
   },
   "source": [
    "## install required libraries"
   ]
  },
  {
   "cell_type": "code",
   "execution_count": 1,
   "id": "medium-taxation",
   "metadata": {
    "execution": {
     "iopub.execute_input": "2021-07-02T09:55:25.464386Z",
     "iopub.status.busy": "2021-07-02T09:55:25.463500Z",
     "iopub.status.idle": "2021-07-02T09:55:25.466960Z",
     "shell.execute_reply": "2021-07-02T09:55:25.466226Z",
     "shell.execute_reply.started": "2021-07-02T09:54:05.665505Z"
    },
    "papermill": {
     "duration": 0.075492,
     "end_time": "2021-07-02T09:55:25.467122",
     "exception": false,
     "start_time": "2021-07-02T09:55:25.391630",
     "status": "completed"
    },
    "tags": []
   },
   "outputs": [],
   "source": [
    "import random"
   ]
  },
  {
   "cell_type": "code",
   "execution_count": 2,
   "id": "cross-system",
   "metadata": {
    "execution": {
     "iopub.execute_input": "2021-07-02T09:55:25.603759Z",
     "iopub.status.busy": "2021-07-02T09:55:25.589635Z",
     "iopub.status.idle": "2021-07-02T09:55:33.890231Z",
     "shell.execute_reply": "2021-07-02T09:55:33.889692Z",
     "shell.execute_reply.started": "2021-07-02T09:54:05.674738Z"
    },
    "papermill": {
     "duration": 8.3639,
     "end_time": "2021-07-02T09:55:33.890408",
     "exception": false,
     "start_time": "2021-07-02T09:55:25.526508",
     "status": "completed"
    },
    "tags": []
   },
   "outputs": [
    {
     "name": "stdout",
     "output_type": "stream",
     "text": [
      "Requirement already satisfied: fastprogress in /opt/conda/lib/python3.7/site-packages (1.0.0)\r\n",
      "Requirement already satisfied: numpy in /opt/conda/lib/python3.7/site-packages (from fastprogress) (1.19.5)\r\n"
     ]
    }
   ],
   "source": [
    "!pip install fastprogress"
   ]
  },
  {
   "cell_type": "markdown",
   "id": "injured-matter",
   "metadata": {
    "papermill": {
     "duration": 0.059893,
     "end_time": "2021-07-02T09:55:34.012193",
     "exception": false,
     "start_time": "2021-07-02T09:55:33.952300",
     "status": "completed"
    },
    "tags": []
   },
   "source": [
    "## import all"
   ]
  },
  {
   "cell_type": "code",
   "execution_count": 3,
   "id": "living-garden",
   "metadata": {
    "execution": {
     "iopub.execute_input": "2021-07-02T09:55:34.140181Z",
     "iopub.status.busy": "2021-07-02T09:55:34.139495Z",
     "iopub.status.idle": "2021-07-02T09:55:37.959892Z",
     "shell.execute_reply": "2021-07-02T09:55:37.959091Z",
     "shell.execute_reply.started": "2021-07-02T09:54:12.515799Z"
    },
    "papermill": {
     "duration": 3.888498,
     "end_time": "2021-07-02T09:55:37.960098",
     "exception": false,
     "start_time": "2021-07-02T09:55:34.071600",
     "status": "completed"
    },
    "tags": []
   },
   "outputs": [],
   "source": [
    "import pandas as pd\n",
    "import nltk\n",
    "import spacy\n",
    "import multiprocessing as mp\n",
    "from typing import List\n",
    "from functools import partial\n",
    "from spacy.lang.en import English\n",
    "from nltk.corpus import wordnet as wn\n",
    "from pandas.core.frame import DataFrame\n",
    "from fastai.text.all import *\n",
    "from fastprogress import progress_bar\n",
    "from fastcore.all import *"
   ]
  },
  {
   "cell_type": "markdown",
   "id": "lonely-variation",
   "metadata": {
    "papermill": {
     "duration": 0.059732,
     "end_time": "2021-07-02T09:55:38.086193",
     "exception": false,
     "start_time": "2021-07-02T09:55:38.026461",
     "status": "completed"
    },
    "tags": []
   },
   "source": [
    "## Getting the data"
   ]
  },
  {
   "cell_type": "code",
   "execution_count": 4,
   "id": "mighty-reverse",
   "metadata": {
    "execution": {
     "iopub.execute_input": "2021-07-02T09:55:38.212237Z",
     "iopub.status.busy": "2021-07-02T09:55:38.211601Z",
     "iopub.status.idle": "2021-07-02T09:55:38.361723Z",
     "shell.execute_reply": "2021-07-02T09:55:38.362221Z",
     "shell.execute_reply.started": "2021-07-02T09:54:12.527074Z"
    },
    "papermill": {
     "duration": 0.21533,
     "end_time": "2021-07-02T09:55:38.362413",
     "exception": false,
     "start_time": "2021-07-02T09:55:38.147083",
     "status": "completed"
    },
    "tags": []
   },
   "outputs": [
    {
     "data": {
      "text/html": [
       "<div>\n",
       "<style scoped>\n",
       "    .dataframe tbody tr th:only-of-type {\n",
       "        vertical-align: middle;\n",
       "    }\n",
       "\n",
       "    .dataframe tbody tr th {\n",
       "        vertical-align: top;\n",
       "    }\n",
       "\n",
       "    .dataframe thead th {\n",
       "        text-align: right;\n",
       "    }\n",
       "</style>\n",
       "<table border=\"1\" class=\"dataframe\">\n",
       "  <thead>\n",
       "    <tr style=\"text-align: right;\">\n",
       "      <th></th>\n",
       "      <th>id</th>\n",
       "      <th>url_legal</th>\n",
       "      <th>license</th>\n",
       "      <th>excerpt</th>\n",
       "      <th>target</th>\n",
       "      <th>standard_error</th>\n",
       "    </tr>\n",
       "  </thead>\n",
       "  <tbody>\n",
       "    <tr>\n",
       "      <th>0</th>\n",
       "      <td>c12129c31</td>\n",
       "      <td>NaN</td>\n",
       "      <td>NaN</td>\n",
       "      <td>When the young people returned to the ballroom, it presented a decidedly changed appearance. Instead of an interior scene, it was a winter landscape.\\nThe floor was covered with snow-white canvas, not laid on smoothly, but rumpled over bumps and hillocks, like a real snow field. The numerous palms and evergreens that had decorated the room, were powdered with flour and strewn with tufts of cotton, like snow. Also diamond dust had been lightly sprinkled on them, and glittering crystal icicles hung from the branches.\\nAt each end of the room, on the wall, hung a beautiful bear-skin rug.\\nThe...</td>\n",
       "      <td>-0.340259</td>\n",
       "      <td>0.464009</td>\n",
       "    </tr>\n",
       "    <tr>\n",
       "      <th>1</th>\n",
       "      <td>85aa80a4c</td>\n",
       "      <td>NaN</td>\n",
       "      <td>NaN</td>\n",
       "      <td>All through dinner time, Mrs. Fayre was somewhat silent, her eyes resting on Dolly with a wistful, uncertain expression. She wanted to give the child the pleasure she craved, but she had hard work to bring herself to the point of overcoming her own objections.\\nAt last, however, when the meal was nearly over, she smiled at her little daughter, and said, \"All right, Dolly, you may go.\"\\n\"Oh, mother!\" Dolly cried, overwhelmed with sudden delight. \"Really?\\nOh, I am so glad! Are you sure you're willing?\"\\n\"I've persuaded myself to be willing, against my will,\" returned Mrs. Fayre, whimsically...</td>\n",
       "      <td>-0.315372</td>\n",
       "      <td>0.480805</td>\n",
       "    </tr>\n",
       "    <tr>\n",
       "      <th>2</th>\n",
       "      <td>b69ac6792</td>\n",
       "      <td>NaN</td>\n",
       "      <td>NaN</td>\n",
       "      <td>As Roger had predicted, the snow departed as quickly as it came, and two days after their sleigh ride there was scarcely a vestige of white on the ground. Tennis was again possible and a great game was in progress on the court at Pine Laurel. Patty and Roger were playing against Elise and Sam Blaney, and the pairs were well matched.\\nBut the long-contested victory finally went against Patty, and she laughingly accepted defeat.\\n\"Only because Patty's not quite back on her game yet,\" Roger defended; \"this child has been on the sick list, you know, Sam, and she isn't up to her own mark.\"\\n\"We...</td>\n",
       "      <td>-0.580118</td>\n",
       "      <td>0.476676</td>\n",
       "    </tr>\n",
       "    <tr>\n",
       "      <th>3</th>\n",
       "      <td>dd1000b26</td>\n",
       "      <td>NaN</td>\n",
       "      <td>NaN</td>\n",
       "      <td>And outside before the palace a great garden was walled round, filled full of stately fruit-trees, gray olives and sweet figs, and pomegranates, pears, and apples, which bore the whole year round. For the rich south-west wind fed them, till pear grew ripe on pear, fig on fig, and grape on grape, all the winter and the spring. And at the farther end gay flower-beds bloomed through all seasons of the year; and two fair fountains rose, and ran, one through the garden grounds, and one beneath the palace gate, to water all the town. Such noble gifts the heavens had given to Alcinous the wise.\\n...</td>\n",
       "      <td>-1.054013</td>\n",
       "      <td>0.450007</td>\n",
       "    </tr>\n",
       "    <tr>\n",
       "      <th>4</th>\n",
       "      <td>37c1b32fb</td>\n",
       "      <td>NaN</td>\n",
       "      <td>NaN</td>\n",
       "      <td>Once upon a time there were Three Bears who lived together in a house of their own in a wood. One of them was a Little, Small, Wee Bear; and one was a Middle-sized Bear, and the other was a Great, Huge Bear. They had each a pot for their porridge; a little pot for the Little, Small, Wee Bear; and a middle-sized pot for the Middle Bear; and a great pot for the Great, Huge Bear. And they had each a chair to sit in; a little chair for the Little, Small, Wee Bear; and a middle-sized chair for the Middle Bear; and a great chair for the Great, Huge Bear. And they had each a bed to sleep in; a li...</td>\n",
       "      <td>0.247197</td>\n",
       "      <td>0.510845</td>\n",
       "    </tr>\n",
       "  </tbody>\n",
       "</table>\n",
       "</div>"
      ],
      "text/plain": [
       "          id url_legal license  \\\n",
       "0  c12129c31       NaN     NaN   \n",
       "1  85aa80a4c       NaN     NaN   \n",
       "2  b69ac6792       NaN     NaN   \n",
       "3  dd1000b26       NaN     NaN   \n",
       "4  37c1b32fb       NaN     NaN   \n",
       "\n",
       "                                                                                                                                                                                                                                                                                                                                                                                                                                                                                                                                                                                                                   excerpt  \\\n",
       "0  When the young people returned to the ballroom, it presented a decidedly changed appearance. Instead of an interior scene, it was a winter landscape.\\nThe floor was covered with snow-white canvas, not laid on smoothly, but rumpled over bumps and hillocks, like a real snow field. The numerous palms and evergreens that had decorated the room, were powdered with flour and strewn with tufts of cotton, like snow. Also diamond dust had been lightly sprinkled on them, and glittering crystal icicles hung from the branches.\\nAt each end of the room, on the wall, hung a beautiful bear-skin rug.\\nThe...   \n",
       "1  All through dinner time, Mrs. Fayre was somewhat silent, her eyes resting on Dolly with a wistful, uncertain expression. She wanted to give the child the pleasure she craved, but she had hard work to bring herself to the point of overcoming her own objections.\\nAt last, however, when the meal was nearly over, she smiled at her little daughter, and said, \"All right, Dolly, you may go.\"\\n\"Oh, mother!\" Dolly cried, overwhelmed with sudden delight. \"Really?\\nOh, I am so glad! Are you sure you're willing?\"\\n\"I've persuaded myself to be willing, against my will,\" returned Mrs. Fayre, whimsically...   \n",
       "2  As Roger had predicted, the snow departed as quickly as it came, and two days after their sleigh ride there was scarcely a vestige of white on the ground. Tennis was again possible and a great game was in progress on the court at Pine Laurel. Patty and Roger were playing against Elise and Sam Blaney, and the pairs were well matched.\\nBut the long-contested victory finally went against Patty, and she laughingly accepted defeat.\\n\"Only because Patty's not quite back on her game yet,\" Roger defended; \"this child has been on the sick list, you know, Sam, and she isn't up to her own mark.\"\\n\"We...   \n",
       "3  And outside before the palace a great garden was walled round, filled full of stately fruit-trees, gray olives and sweet figs, and pomegranates, pears, and apples, which bore the whole year round. For the rich south-west wind fed them, till pear grew ripe on pear, fig on fig, and grape on grape, all the winter and the spring. And at the farther end gay flower-beds bloomed through all seasons of the year; and two fair fountains rose, and ran, one through the garden grounds, and one beneath the palace gate, to water all the town. Such noble gifts the heavens had given to Alcinous the wise.\\n...   \n",
       "4  Once upon a time there were Three Bears who lived together in a house of their own in a wood. One of them was a Little, Small, Wee Bear; and one was a Middle-sized Bear, and the other was a Great, Huge Bear. They had each a pot for their porridge; a little pot for the Little, Small, Wee Bear; and a middle-sized pot for the Middle Bear; and a great pot for the Great, Huge Bear. And they had each a chair to sit in; a little chair for the Little, Small, Wee Bear; and a middle-sized chair for the Middle Bear; and a great chair for the Great, Huge Bear. And they had each a bed to sleep in; a li...   \n",
       "\n",
       "     target  standard_error  \n",
       "0 -0.340259        0.464009  \n",
       "1 -0.315372        0.480805  \n",
       "2 -0.580118        0.476676  \n",
       "3 -1.054013        0.450007  \n",
       "4  0.247197        0.510845  "
      ]
     },
     "execution_count": 4,
     "metadata": {},
     "output_type": "execute_result"
    }
   ],
   "source": [
    "df_train = pd.read_csv('../input/commonlitreadabilityprize/train.csv')\n",
    "df_train.head(5)"
   ]
  },
  {
   "cell_type": "markdown",
   "id": "divine-visiting",
   "metadata": {
    "papermill": {
     "duration": 0.060272,
     "end_time": "2021-07-02T09:55:38.483467",
     "exception": false,
     "start_time": "2021-07-02T09:55:38.423195",
     "status": "completed"
    },
    "tags": []
   },
   "source": [
    "use wordnet to repalce random word with their synonyms"
   ]
  },
  {
   "cell_type": "code",
   "execution_count": 5,
   "id": "applicable-roads",
   "metadata": {
    "execution": {
     "iopub.execute_input": "2021-07-02T09:55:38.618059Z",
     "iopub.status.busy": "2021-07-02T09:55:38.617371Z",
     "iopub.status.idle": "2021-07-02T09:55:38.927544Z",
     "shell.execute_reply": "2021-07-02T09:55:38.927994Z",
     "shell.execute_reply.started": "2021-07-02T09:54:12.599260Z"
    },
    "papermill": {
     "duration": 0.384612,
     "end_time": "2021-07-02T09:55:38.928168",
     "exception": false,
     "start_time": "2021-07-02T09:55:38.543556",
     "status": "completed"
    },
    "tags": []
   },
   "outputs": [
    {
     "name": "stdout",
     "output_type": "stream",
     "text": [
      "[nltk_data] Downloading package wordnet to /usr/share/nltk_data...\n",
      "[nltk_data]   Package wordnet is already up-to-date!\n"
     ]
    },
    {
     "data": {
      "text/plain": [
       "True"
      ]
     },
     "execution_count": 5,
     "metadata": {},
     "output_type": "execute_result"
    }
   ],
   "source": [
    "nltk.download('wordnet')"
   ]
  },
  {
   "cell_type": "markdown",
   "id": "accomplished-steal",
   "metadata": {
    "papermill": {
     "duration": 0.062154,
     "end_time": "2021-07-02T09:55:39.052174",
     "exception": false,
     "start_time": "2021-07-02T09:55:38.990020",
     "status": "completed"
    },
    "tags": []
   },
   "source": [
    "## Creating helpers\n",
    "creating helpers to find synonyms and replace them with picked words"
   ]
  },
  {
   "cell_type": "markdown",
   "id": "literary-supplement",
   "metadata": {
    "papermill": {
     "duration": 0.060876,
     "end_time": "2021-07-02T09:55:39.173841",
     "exception": false,
     "start_time": "2021-07-02T09:55:39.112965",
     "status": "completed"
    },
    "tags": []
   },
   "source": [
    "quick check to see how the internals works"
   ]
  },
  {
   "cell_type": "code",
   "execution_count": 6,
   "id": "angry-rental",
   "metadata": {
    "execution": {
     "iopub.execute_input": "2021-07-02T09:55:39.301252Z",
     "iopub.status.busy": "2021-07-02T09:55:39.300625Z",
     "iopub.status.idle": "2021-07-02T09:55:41.432442Z",
     "shell.execute_reply": "2021-07-02T09:55:41.432950Z",
     "shell.execute_reply.started": "2021-07-02T09:54:12.611002Z"
    },
    "papermill": {
     "duration": 2.198438,
     "end_time": "2021-07-02T09:55:41.433119",
     "exception": false,
     "start_time": "2021-07-02T09:55:39.234681",
     "status": "completed"
    },
    "tags": []
   },
   "outputs": [
    {
     "data": {
      "text/plain": [
       "'go_forth'"
      ]
     },
     "execution_count": 6,
     "metadata": {},
     "output_type": "execute_result"
    }
   ],
   "source": [
    "synsets = wn.synsets(\"leave\", pos=\"v\")\n",
    "lemmas = synsets[0].lemmas()\n",
    "lemmas[1].name()"
   ]
  },
  {
   "cell_type": "code",
   "execution_count": 7,
   "id": "taken-tribute",
   "metadata": {
    "execution": {
     "iopub.execute_input": "2021-07-02T09:55:41.558586Z",
     "iopub.status.busy": "2021-07-02T09:55:41.557962Z",
     "iopub.status.idle": "2021-07-02T09:55:41.564633Z",
     "shell.execute_reply": "2021-07-02T09:55:41.563998Z",
     "shell.execute_reply.started": "2021-07-02T09:54:12.620301Z"
    },
    "papermill": {
     "duration": 0.070159,
     "end_time": "2021-07-02T09:55:41.564767",
     "exception": false,
     "start_time": "2021-07-02T09:55:41.494608",
     "status": "completed"
    },
    "tags": []
   },
   "outputs": [
    {
     "data": {
      "text/plain": [
       "'i a awesome m a cat'"
      ]
     },
     "execution_count": 7,
     "metadata": {},
     "output_type": "execute_result"
    }
   ],
   "source": [
    "spacy_doc = \"i am a cat\"\n",
    "\" \".join([spacy_doc[:3], \"awesome\", spacy_doc[1 + 2 :]])"
   ]
  },
  {
   "cell_type": "code",
   "execution_count": 8,
   "id": "laughing-brooks",
   "metadata": {
    "execution": {
     "iopub.execute_input": "2021-07-02T09:55:41.693423Z",
     "iopub.status.busy": "2021-07-02T09:55:41.692518Z",
     "iopub.status.idle": "2021-07-02T09:55:41.696109Z",
     "shell.execute_reply": "2021-07-02T09:55:41.696622Z",
     "shell.execute_reply.started": "2021-07-02T09:54:12.632491Z"
    },
    "papermill": {
     "duration": 0.070543,
     "end_time": "2021-07-02T09:55:41.696793",
     "exception": false,
     "start_time": "2021-07-02T09:55:41.626250",
     "status": "completed"
    },
    "tags": []
   },
   "outputs": [
    {
     "data": {
      "text/plain": [
       "(#7) ['As','Roger','had','predicted,','the','snow','departed']"
      ]
     },
     "execution_count": 8,
     "metadata": {},
     "output_type": "execute_result"
    }
   ],
   "source": [
    "text = \"As Roger had predicted, the snow departed\"\n",
    "L(text.split())"
   ]
  },
  {
   "cell_type": "code",
   "execution_count": 9,
   "id": "grand-glass",
   "metadata": {
    "execution": {
     "iopub.execute_input": "2021-07-02T09:55:41.826054Z",
     "iopub.status.busy": "2021-07-02T09:55:41.825048Z",
     "iopub.status.idle": "2021-07-02T09:55:41.889804Z",
     "shell.execute_reply": "2021-07-02T09:55:41.889259Z",
     "shell.execute_reply.started": "2021-07-02T09:54:12.648126Z"
    },
    "papermill": {
     "duration": 0.131479,
     "end_time": "2021-07-02T09:55:41.889949",
     "exception": false,
     "start_time": "2021-07-02T09:55:41.758470",
     "status": "completed"
    },
    "tags": []
   },
   "outputs": [],
   "source": [
    "wn.synsets?"
   ]
  },
  {
   "cell_type": "code",
   "execution_count": 10,
   "id": "heated-persian",
   "metadata": {
    "execution": {
     "iopub.execute_input": "2021-07-02T09:55:42.021030Z",
     "iopub.status.busy": "2021-07-02T09:55:42.020104Z",
     "iopub.status.idle": "2021-07-02T09:55:43.209196Z",
     "shell.execute_reply": "2021-07-02T09:55:43.208204Z",
     "shell.execute_reply.started": "2021-07-02T09:54:12.659597Z"
    },
    "papermill": {
     "duration": 1.256956,
     "end_time": "2021-07-02T09:55:43.209384",
     "exception": false,
     "start_time": "2021-07-02T09:55:41.952428",
     "status": "completed"
    },
    "tags": []
   },
   "outputs": [
    {
     "name": "stdout",
     "output_type": "stream",
     "text": [
      "As SCONJ\n",
      "Roger PROPN\n",
      "had AUX\n",
      "predicted VERB\n",
      ", PUNCT\n",
      "the DET\n",
      "snow NOUN\n",
      "departed VERB\n"
     ]
    }
   ],
   "source": [
    "text2 = \"Apple is looking at buying U.K. startup for $1 billion\"\n",
    "nlp = spacy.load(\"en_core_web_sm\")\n",
    "doc = nlp(text)\n",
    "for token in doc:\n",
    "    print(token.text, token.pos_)"
   ]
  },
  {
   "cell_type": "code",
   "execution_count": 11,
   "id": "connected-exhaust",
   "metadata": {
    "execution": {
     "iopub.execute_input": "2021-07-02T09:55:43.341546Z",
     "iopub.status.busy": "2021-07-02T09:55:43.340876Z",
     "iopub.status.idle": "2021-07-02T09:55:43.345960Z",
     "shell.execute_reply": "2021-07-02T09:55:43.345377Z",
     "shell.execute_reply.started": "2021-07-02T09:54:13.754226Z"
    },
    "papermill": {
     "duration": 0.074233,
     "end_time": "2021-07-02T09:55:43.346091",
     "exception": false,
     "start_time": "2021-07-02T09:55:43.271858",
     "status": "completed"
    },
    "tags": []
   },
   "outputs": [],
   "source": [
    "def tokenify(text: str):\n",
    "    \"\"\"Split text into a list with optional rules\"\"\"\n",
    "    #text = text.lower()\n",
    "    nlp = spacy.load(\"en_core_web_sm\")\n",
    "    doc = nlp(text)\n",
    "    return {tok.text:tok.pos_ for tok in doc}\n",
    "    #return L(tok.text for tok in doc)\n",
    "    \n",
    "def get_synonyms(token, pos=None):\n",
    "    \"\"\"Get the synonyms of word from Wordnet.\"\"\"\n",
    "    lemmas = set().union(*[s.lemmas() for s in wn.synsets(token, pos=pos)])\n",
    "    return list(set(l.name().lower().replace(\"_\", \" \") for l in lemmas) - {token})   "
   ]
  },
  {
   "cell_type": "code",
   "execution_count": 12,
   "id": "specific-italic",
   "metadata": {
    "execution": {
     "iopub.execute_input": "2021-07-02T09:55:43.475579Z",
     "iopub.status.busy": "2021-07-02T09:55:43.474938Z",
     "iopub.status.idle": "2021-07-02T09:55:44.619481Z",
     "shell.execute_reply": "2021-07-02T09:55:44.618828Z",
     "shell.execute_reply.started": "2021-07-02T09:54:13.762453Z"
    },
    "papermill": {
     "duration": 1.21061,
     "end_time": "2021-07-02T09:55:44.619619",
     "exception": false,
     "start_time": "2021-07-02T09:55:43.409009",
     "status": "completed"
    },
    "tags": []
   },
   "outputs": [
    {
     "data": {
      "text/plain": [
       "{'As': 'SCONJ',\n",
       " 'Roger': 'PROPN',\n",
       " 'had': 'AUX',\n",
       " 'predicted': 'VERB',\n",
       " ',': 'PUNCT',\n",
       " 'the': 'DET',\n",
       " 'snow': 'NOUN',\n",
       " 'departed': 'VERB'}"
      ]
     },
     "execution_count": 12,
     "metadata": {},
     "output_type": "execute_result"
    }
   ],
   "source": [
    "tokenify(text)"
   ]
  },
  {
   "cell_type": "markdown",
   "id": "sublime-modern",
   "metadata": {
    "papermill": {
     "duration": 0.063657,
     "end_time": "2021-07-02T09:55:44.752333",
     "exception": false,
     "start_time": "2021-07-02T09:55:44.688676",
     "status": "completed"
    },
    "tags": []
   },
   "source": [
    "creating transformation functions to replace adjectives, nouns, verbs with synonyms"
   ]
  },
  {
   "cell_type": "code",
   "execution_count": 13,
   "id": "accredited-spyware",
   "metadata": {
    "execution": {
     "iopub.execute_input": "2021-07-02T09:55:44.885095Z",
     "iopub.status.busy": "2021-07-02T09:55:44.884155Z",
     "iopub.status.idle": "2021-07-02T09:55:44.888299Z",
     "shell.execute_reply": "2021-07-02T09:55:44.887680Z",
     "shell.execute_reply.started": "2021-07-02T09:54:14.814567Z"
    },
    "papermill": {
     "duration": 0.072648,
     "end_time": "2021-07-02T09:55:44.888434",
     "exception": false,
     "start_time": "2021-07-02T09:55:44.815786",
     "status": "completed"
    },
    "tags": []
   },
   "outputs": [
    {
     "data": {
      "text/plain": [
       "13"
      ]
     },
     "execution_count": 13,
     "metadata": {},
     "output_type": "execute_result"
    }
   ],
   "source": [
    "text.index(\"predicted\")"
   ]
  },
  {
   "cell_type": "markdown",
   "id": "joint-prior",
   "metadata": {
    "papermill": {
     "duration": 0.063515,
     "end_time": "2021-07-02T09:55:45.015991",
     "exception": false,
     "start_time": "2021-07-02T09:55:44.952476",
     "status": "completed"
    },
    "tags": []
   },
   "source": [
    "## Write transformation functions"
   ]
  },
  {
   "cell_type": "markdown",
   "id": "framed-position",
   "metadata": {
    "papermill": {
     "duration": 0.063164,
     "end_time": "2021-07-02T09:55:45.142883",
     "exception": false,
     "start_time": "2021-07-02T09:55:45.079719",
     "status": "completed"
    },
    "tags": []
   },
   "source": [
    "### Replace with synonym"
   ]
  },
  {
   "cell_type": "code",
   "execution_count": 14,
   "id": "honest-capture",
   "metadata": {
    "execution": {
     "iopub.execute_input": "2021-07-02T09:55:45.272126Z",
     "iopub.status.busy": "2021-07-02T09:55:45.271468Z",
     "iopub.status.idle": "2021-07-02T09:55:45.278775Z",
     "shell.execute_reply": "2021-07-02T09:55:45.278131Z",
     "shell.execute_reply.started": "2021-07-02T09:54:14.822558Z"
    },
    "papermill": {
     "duration": 0.07297,
     "end_time": "2021-07-02T09:55:45.278909",
     "exception": false,
     "start_time": "2021-07-02T09:55:45.205939",
     "status": "completed"
    },
    "tags": []
   },
   "outputs": [],
   "source": [
    "def replace_tok_with_synonym(text: str, pos=\"v\"):\n",
    "    \"\"\"replace a random verb with a synonym.\"\"\"\n",
    "    pos_dict = {\"v\": \"VERB\", \"a\": \"ADJ\", \"n\": \"Noun\"}\n",
    "    tokens = tokenify(text)\n",
    "    pos_words = L(tok for tok in tokens.keys() if tokens[tok] == pos_dict[pos])\n",
    "    idx = random.choice(range(len(pos_words))) if pos_words else None\n",
    "    synonyms = get_synonyms(pos_words[idx], pos=pos) if idx else None\n",
    "    if synonyms:\n",
    "        return text.replace(pos_words[idx], synonyms[0])\n",
    "    else:\n",
    "        return None"
   ]
  },
  {
   "cell_type": "markdown",
   "id": "boring-paintball",
   "metadata": {
    "papermill": {
     "duration": 0.063185,
     "end_time": "2021-07-02T09:55:45.405489",
     "exception": false,
     "start_time": "2021-07-02T09:55:45.342304",
     "status": "completed"
    },
    "tags": []
   },
   "source": [
    "### Random deletion\n",
    "Code taken directly from the paper and the related repo [here](https://github.com/jasonwei20/eda_nlp/blob/master/code/eda.py)"
   ]
  },
  {
   "cell_type": "code",
   "execution_count": 15,
   "id": "functioning-respect",
   "metadata": {
    "execution": {
     "iopub.execute_input": "2021-07-02T09:55:45.538017Z",
     "iopub.status.busy": "2021-07-02T09:55:45.537304Z",
     "iopub.status.idle": "2021-07-02T09:55:45.540127Z",
     "shell.execute_reply": "2021-07-02T09:55:45.540587Z",
     "shell.execute_reply.started": "2021-07-02T09:54:14.835889Z"
    },
    "papermill": {
     "duration": 0.071634,
     "end_time": "2021-07-02T09:55:45.540764",
     "exception": false,
     "start_time": "2021-07-02T09:55:45.469130",
     "status": "completed"
    },
    "tags": []
   },
   "outputs": [
    {
     "data": {
      "text/plain": [
       "['a', 'b']"
      ]
     },
     "execution_count": 15,
     "metadata": {},
     "output_type": "execute_result"
    }
   ],
   "source": [
    "a = {\"a\":1, \"b\":2}\n",
    "list(a.keys())"
   ]
  },
  {
   "cell_type": "code",
   "execution_count": 16,
   "id": "devoted-louisiana",
   "metadata": {
    "execution": {
     "iopub.execute_input": "2021-07-02T09:55:45.670716Z",
     "iopub.status.busy": "2021-07-02T09:55:45.670031Z",
     "iopub.status.idle": "2021-07-02T09:55:45.676812Z",
     "shell.execute_reply": "2021-07-02T09:55:45.677331Z",
     "shell.execute_reply.started": "2021-07-02T09:54:14.850753Z"
    },
    "papermill": {
     "duration": 0.073536,
     "end_time": "2021-07-02T09:55:45.677514",
     "exception": false,
     "start_time": "2021-07-02T09:55:45.603978",
     "status": "completed"
    },
    "tags": []
   },
   "outputs": [],
   "source": [
    "def random_deletion(text: str, p: float= 0.2):\n",
    "    \"\"\"Delete random tokens from a text\"\"\"\n",
    "    tokens = list(tokenify(text).keys())\n",
    "    if len(tokens) == 1: return tokens\n",
    "    new_tokens = []\n",
    "    \n",
    "    for token in tokens:\n",
    "        r = random.uniform(0, 1)\n",
    "        if r > p:\n",
    "            new_tokens.append(token)\n",
    "\n",
    "    #if you end up deleting all words, just return a random word\n",
    "    if len(new_tokens) == 0:\n",
    "        rand_int = random.randint(0, len(tokens)-1)\n",
    "        return [tokens[rand_int]]\n",
    "\n",
    "    return ' '.join(new_tokens)\n",
    "\n",
    "def erase(p: float= 0.2):\n",
    "    return partial(random_deletion, p = p)"
   ]
  },
  {
   "cell_type": "markdown",
   "id": "accredited-burke",
   "metadata": {
    "papermill": {
     "duration": 0.064451,
     "end_time": "2021-07-02T09:55:45.805303",
     "exception": false,
     "start_time": "2021-07-02T09:55:45.740852",
     "status": "completed"
    },
    "tags": []
   },
   "source": [
    "### Random swap"
   ]
  },
  {
   "cell_type": "code",
   "execution_count": 17,
   "id": "architectural-practitioner",
   "metadata": {
    "execution": {
     "iopub.execute_input": "2021-07-02T09:55:45.937399Z",
     "iopub.status.busy": "2021-07-02T09:55:45.936683Z",
     "iopub.status.idle": "2021-07-02T09:55:45.946001Z",
     "shell.execute_reply": "2021-07-02T09:55:45.945365Z",
     "shell.execute_reply.started": "2021-07-02T09:54:14.864349Z"
    },
    "papermill": {
     "duration": 0.0762,
     "end_time": "2021-07-02T09:55:45.946142",
     "exception": false,
     "start_time": "2021-07-02T09:55:45.869942",
     "status": "completed"
    },
    "tags": []
   },
   "outputs": [],
   "source": [
    "def swap(tokens: List, threshold: int):\n",
    "    \"\"\"swap two tokens\"\"\"\n",
    "    idx1 = random.randint(0, len(tokens)-1)\n",
    "    idx2 = idx1\n",
    "    counter = 0\n",
    "    while idx2 == idx1:\n",
    "        idx2 = random.randint(0, len(tokens)-1)\n",
    "        counter += 1\n",
    "        if counter > threshold:\n",
    "            return tokens\n",
    "        tokens[idx1], tokens[idx2] =  tokens[idx2], tokens[idx1]\n",
    "        \n",
    "    return tokens\n",
    "\n",
    "def random_swap(text: str,\n",
    "                threshold: int= 3):\n",
    "    \"\"\"swap random tokens in a text\n",
    "    and return the transformed text\"\"\"\n",
    "    tokens = list(tokenify(text).keys())\n",
    "    n_times = max(1, len(tokens))\n",
    "    for _ in range(n_times):\n",
    "        tokens = swap(tokens, threshold)\n",
    "    return ' '.join(tokens)\n",
    "\n",
    "def swapabble(threshold:int = 3):\n",
    "    return partial(random_swap,\n",
    "                   threshold=threshold)\n"
   ]
  },
  {
   "cell_type": "code",
   "execution_count": 18,
   "id": "rational-parameter",
   "metadata": {
    "execution": {
     "iopub.execute_input": "2021-07-02T09:55:46.077319Z",
     "iopub.status.busy": "2021-07-02T09:55:46.076665Z",
     "iopub.status.idle": "2021-07-02T09:55:47.024790Z",
     "shell.execute_reply": "2021-07-02T09:55:47.025224Z",
     "shell.execute_reply.started": "2021-07-02T09:54:14.881021Z"
    },
    "papermill": {
     "duration": 1.015346,
     "end_time": "2021-07-02T09:55:47.025454",
     "exception": false,
     "start_time": "2021-07-02T09:55:46.010108",
     "status": "completed"
    },
    "tags": []
   },
   "outputs": [
    {
     "data": {
      "text/plain": [
       "'there , hello you how are'"
      ]
     },
     "execution_count": 18,
     "metadata": {},
     "output_type": "execute_result"
    }
   ],
   "source": [
    "random_swap(\"hello there, how are you\")"
   ]
  },
  {
   "cell_type": "markdown",
   "id": "royal-saint",
   "metadata": {
    "papermill": {
     "duration": 0.06316,
     "end_time": "2021-07-02T09:55:47.151886",
     "exception": false,
     "start_time": "2021-07-02T09:55:47.088726",
     "status": "completed"
    },
    "tags": []
   },
   "source": [
    "quick test"
   ]
  },
  {
   "cell_type": "code",
   "execution_count": 19,
   "id": "foreign-buddy",
   "metadata": {
    "execution": {
     "iopub.execute_input": "2021-07-02T09:55:47.282754Z",
     "iopub.status.busy": "2021-07-02T09:55:47.281811Z",
     "iopub.status.idle": "2021-07-02T09:55:47.290351Z",
     "shell.execute_reply": "2021-07-02T09:55:47.289817Z",
     "shell.execute_reply.started": "2021-07-02T09:54:16.254057Z"
    },
    "papermill": {
     "duration": 0.07514,
     "end_time": "2021-07-02T09:55:47.290498",
     "exception": false,
     "start_time": "2021-07-02T09:55:47.215358",
     "status": "completed"
    },
    "tags": []
   },
   "outputs": [
    {
     "data": {
      "text/plain": [
       "'When the young people returned to the ballroom, it presented a decidedly changed appearance. Instead of an interior scene, it was a winter landscape.\\nThe floor was covered with snow-white canvas, not laid on smoothly, but rumpled over bumps and hillocks, like a real snow field. The numerous palms and evergreens that had decorated the room, were powdered with flour and strewn with tufts of cotton, like snow. Also diamond dust had been lightly sprinkled on them, and glittering crystal icicles hung from the branches.\\nAt each end of the room, on the wall, hung a beautiful bear-skin rug.\\nThese rugs were for prizes, one for the girls and one for the boys. And this was the game.\\nThe girls were gathered at one end of the room and the boys at the other, and one end was called the North Pole, and the other the South Pole. Each player was given a small flag which they were to plant on reaching the Pole.\\nThis would have been an easy matter, but each traveller was obliged to wear snowshoes.'"
      ]
     },
     "execution_count": 19,
     "metadata": {},
     "output_type": "execute_result"
    }
   ],
   "source": [
    "sample_text = df_train.excerpt.loc[0]\n",
    "sample_text"
   ]
  },
  {
   "cell_type": "code",
   "execution_count": 20,
   "id": "veterinary-customs",
   "metadata": {
    "execution": {
     "iopub.execute_input": "2021-07-02T09:55:47.422737Z",
     "iopub.status.busy": "2021-07-02T09:55:47.422045Z",
     "iopub.status.idle": "2021-07-02T09:55:48.420822Z",
     "shell.execute_reply": "2021-07-02T09:55:48.420229Z",
     "shell.execute_reply.started": "2021-07-02T09:54:16.264243Z"
    },
    "papermill": {
     "duration": 1.066486,
     "end_time": "2021-07-02T09:55:48.420965",
     "exception": false,
     "start_time": "2021-07-02T09:55:47.354479",
     "status": "completed"
    },
    "tags": []
   },
   "outputs": [],
   "source": [
    "replace_tok_with_synonym(sample_text)"
   ]
  },
  {
   "cell_type": "code",
   "execution_count": 21,
   "id": "willing-raise",
   "metadata": {
    "execution": {
     "iopub.execute_input": "2021-07-02T09:55:48.553816Z",
     "iopub.status.busy": "2021-07-02T09:55:48.553117Z",
     "iopub.status.idle": "2021-07-02T09:55:49.749529Z",
     "shell.execute_reply": "2021-07-02T09:55:49.748988Z",
     "shell.execute_reply.started": "2021-07-02T09:54:17.316871Z"
    },
    "papermill": {
     "duration": 1.264718,
     "end_time": "2021-07-02T09:55:49.749675",
     "exception": false,
     "start_time": "2021-07-02T09:55:48.484957",
     "status": "completed"
    },
    "tags": []
   },
   "outputs": [],
   "source": [
    "replace_tok_with_synonym(sample_text, \"n\")"
   ]
  },
  {
   "cell_type": "code",
   "execution_count": 22,
   "id": "generic-manhattan",
   "metadata": {
    "execution": {
     "iopub.execute_input": "2021-07-02T09:55:49.891227Z",
     "iopub.status.busy": "2021-07-02T09:55:49.890343Z",
     "iopub.status.idle": "2021-07-02T09:55:49.894349Z",
     "shell.execute_reply": "2021-07-02T09:55:49.894844Z",
     "shell.execute_reply.started": "2021-07-02T09:54:18.363309Z"
    },
    "papermill": {
     "duration": 0.080501,
     "end_time": "2021-07-02T09:55:49.895013",
     "exception": false,
     "start_time": "2021-07-02T09:55:49.814512",
     "status": "completed"
    },
    "tags": []
   },
   "outputs": [
    {
     "data": {
      "text/html": [
       "<div>\n",
       "<style scoped>\n",
       "    .dataframe tbody tr th:only-of-type {\n",
       "        vertical-align: middle;\n",
       "    }\n",
       "\n",
       "    .dataframe tbody tr th {\n",
       "        vertical-align: top;\n",
       "    }\n",
       "\n",
       "    .dataframe thead th {\n",
       "        text-align: right;\n",
       "    }\n",
       "</style>\n",
       "<table border=\"1\" class=\"dataframe\">\n",
       "  <thead>\n",
       "    <tr style=\"text-align: right;\">\n",
       "      <th></th>\n",
       "      <th>id</th>\n",
       "      <th>url_legal</th>\n",
       "      <th>license</th>\n",
       "      <th>excerpt</th>\n",
       "      <th>target</th>\n",
       "      <th>standard_error</th>\n",
       "    </tr>\n",
       "  </thead>\n",
       "  <tbody>\n",
       "    <tr>\n",
       "      <th>0</th>\n",
       "      <td>c12129c31</td>\n",
       "      <td>NaN</td>\n",
       "      <td>NaN</td>\n",
       "      <td>When the young people returned to the ballroom, it presented a decidedly changed appearance. Instead of an interior scene, it was a winter landscape.\\nThe floor was covered with snow-white canvas, not laid on smoothly, but rumpled over bumps and hillocks, like a real snow field. The numerous palms and evergreens that had decorated the room, were powdered with flour and strewn with tufts of cotton, like snow. Also diamond dust had been lightly sprinkled on them, and glittering crystal icicles hung from the branches.\\nAt each end of the room, on the wall, hung a beautiful bear-skin rug.\\nThe...</td>\n",
       "      <td>-0.340259</td>\n",
       "      <td>0.464009</td>\n",
       "    </tr>\n",
       "    <tr>\n",
       "      <th>1</th>\n",
       "      <td>85aa80a4c</td>\n",
       "      <td>NaN</td>\n",
       "      <td>NaN</td>\n",
       "      <td>All through dinner time, Mrs. Fayre was somewhat silent, her eyes resting on Dolly with a wistful, uncertain expression. She wanted to give the child the pleasure she craved, but she had hard work to bring herself to the point of overcoming her own objections.\\nAt last, however, when the meal was nearly over, she smiled at her little daughter, and said, \"All right, Dolly, you may go.\"\\n\"Oh, mother!\" Dolly cried, overwhelmed with sudden delight. \"Really?\\nOh, I am so glad! Are you sure you're willing?\"\\n\"I've persuaded myself to be willing, against my will,\" returned Mrs. Fayre, whimsically...</td>\n",
       "      <td>-0.315372</td>\n",
       "      <td>0.480805</td>\n",
       "    </tr>\n",
       "    <tr>\n",
       "      <th>2</th>\n",
       "      <td>b69ac6792</td>\n",
       "      <td>NaN</td>\n",
       "      <td>NaN</td>\n",
       "      <td>As Roger had predicted, the snow departed as quickly as it came, and two days after their sleigh ride there was scarcely a vestige of white on the ground. Tennis was again possible and a great game was in progress on the court at Pine Laurel. Patty and Roger were playing against Elise and Sam Blaney, and the pairs were well matched.\\nBut the long-contested victory finally went against Patty, and she laughingly accepted defeat.\\n\"Only because Patty's not quite back on her game yet,\" Roger defended; \"this child has been on the sick list, you know, Sam, and she isn't up to her own mark.\"\\n\"We...</td>\n",
       "      <td>-0.580118</td>\n",
       "      <td>0.476676</td>\n",
       "    </tr>\n",
       "    <tr>\n",
       "      <th>3</th>\n",
       "      <td>dd1000b26</td>\n",
       "      <td>NaN</td>\n",
       "      <td>NaN</td>\n",
       "      <td>And outside before the palace a great garden was walled round, filled full of stately fruit-trees, gray olives and sweet figs, and pomegranates, pears, and apples, which bore the whole year round. For the rich south-west wind fed them, till pear grew ripe on pear, fig on fig, and grape on grape, all the winter and the spring. And at the farther end gay flower-beds bloomed through all seasons of the year; and two fair fountains rose, and ran, one through the garden grounds, and one beneath the palace gate, to water all the town. Such noble gifts the heavens had given to Alcinous the wise.\\n...</td>\n",
       "      <td>-1.054013</td>\n",
       "      <td>0.450007</td>\n",
       "    </tr>\n",
       "  </tbody>\n",
       "</table>\n",
       "</div>"
      ],
      "text/plain": [
       "          id url_legal license  \\\n",
       "0  c12129c31       NaN     NaN   \n",
       "1  85aa80a4c       NaN     NaN   \n",
       "2  b69ac6792       NaN     NaN   \n",
       "3  dd1000b26       NaN     NaN   \n",
       "\n",
       "                                                                                                                                                                                                                                                                                                                                                                                                                                                                                                                                                                                                                   excerpt  \\\n",
       "0  When the young people returned to the ballroom, it presented a decidedly changed appearance. Instead of an interior scene, it was a winter landscape.\\nThe floor was covered with snow-white canvas, not laid on smoothly, but rumpled over bumps and hillocks, like a real snow field. The numerous palms and evergreens that had decorated the room, were powdered with flour and strewn with tufts of cotton, like snow. Also diamond dust had been lightly sprinkled on them, and glittering crystal icicles hung from the branches.\\nAt each end of the room, on the wall, hung a beautiful bear-skin rug.\\nThe...   \n",
       "1  All through dinner time, Mrs. Fayre was somewhat silent, her eyes resting on Dolly with a wistful, uncertain expression. She wanted to give the child the pleasure she craved, but she had hard work to bring herself to the point of overcoming her own objections.\\nAt last, however, when the meal was nearly over, she smiled at her little daughter, and said, \"All right, Dolly, you may go.\"\\n\"Oh, mother!\" Dolly cried, overwhelmed with sudden delight. \"Really?\\nOh, I am so glad! Are you sure you're willing?\"\\n\"I've persuaded myself to be willing, against my will,\" returned Mrs. Fayre, whimsically...   \n",
       "2  As Roger had predicted, the snow departed as quickly as it came, and two days after their sleigh ride there was scarcely a vestige of white on the ground. Tennis was again possible and a great game was in progress on the court at Pine Laurel. Patty and Roger were playing against Elise and Sam Blaney, and the pairs were well matched.\\nBut the long-contested victory finally went against Patty, and she laughingly accepted defeat.\\n\"Only because Patty's not quite back on her game yet,\" Roger defended; \"this child has been on the sick list, you know, Sam, and she isn't up to her own mark.\"\\n\"We...   \n",
       "3  And outside before the palace a great garden was walled round, filled full of stately fruit-trees, gray olives and sweet figs, and pomegranates, pears, and apples, which bore the whole year round. For the rich south-west wind fed them, till pear grew ripe on pear, fig on fig, and grape on grape, all the winter and the spring. And at the farther end gay flower-beds bloomed through all seasons of the year; and two fair fountains rose, and ran, one through the garden grounds, and one beneath the palace gate, to water all the town. Such noble gifts the heavens had given to Alcinous the wise.\\n...   \n",
       "\n",
       "     target  standard_error  \n",
       "0 -0.340259        0.464009  \n",
       "1 -0.315372        0.480805  \n",
       "2 -0.580118        0.476676  \n",
       "3 -1.054013        0.450007  "
      ]
     },
     "execution_count": 22,
     "metadata": {},
     "output_type": "execute_result"
    }
   ],
   "source": [
    "df_tiny = df_train.loc[:3]\n",
    "df_tiny"
   ]
  },
  {
   "cell_type": "code",
   "execution_count": 23,
   "id": "guided-dating",
   "metadata": {
    "execution": {
     "iopub.execute_input": "2021-07-02T09:55:50.028810Z",
     "iopub.status.busy": "2021-07-02T09:55:50.028097Z",
     "iopub.status.idle": "2021-07-02T09:55:50.032238Z",
     "shell.execute_reply": "2021-07-02T09:55:50.031694Z",
     "shell.execute_reply.started": "2021-07-02T09:54:18.378993Z"
    },
    "papermill": {
     "duration": 0.072367,
     "end_time": "2021-07-02T09:55:50.032388",
     "exception": false,
     "start_time": "2021-07-02T09:55:49.960021",
     "status": "completed"
    },
    "tags": []
   },
   "outputs": [],
   "source": [
    "#df_tiny[\"excerpt\"] = df_tiny[\"excerpt\"].transform(replace_tok_with_synonym,\"n\")"
   ]
  },
  {
   "cell_type": "code",
   "execution_count": 24,
   "id": "adopted-graham",
   "metadata": {
    "execution": {
     "iopub.execute_input": "2021-07-02T09:55:50.173026Z",
     "iopub.status.busy": "2021-07-02T09:55:50.172378Z",
     "iopub.status.idle": "2021-07-02T09:55:50.175321Z",
     "shell.execute_reply": "2021-07-02T09:55:50.175888Z",
     "shell.execute_reply.started": "2021-07-02T09:54:18.395619Z"
    },
    "papermill": {
     "duration": 0.079122,
     "end_time": "2021-07-02T09:55:50.176048",
     "exception": false,
     "start_time": "2021-07-02T09:55:50.096926",
     "status": "completed"
    },
    "tags": []
   },
   "outputs": [
    {
     "data": {
      "text/html": [
       "<div>\n",
       "<style scoped>\n",
       "    .dataframe tbody tr th:only-of-type {\n",
       "        vertical-align: middle;\n",
       "    }\n",
       "\n",
       "    .dataframe tbody tr th {\n",
       "        vertical-align: top;\n",
       "    }\n",
       "\n",
       "    .dataframe thead th {\n",
       "        text-align: right;\n",
       "    }\n",
       "</style>\n",
       "<table border=\"1\" class=\"dataframe\">\n",
       "  <thead>\n",
       "    <tr style=\"text-align: right;\">\n",
       "      <th></th>\n",
       "      <th>id</th>\n",
       "      <th>url_legal</th>\n",
       "      <th>license</th>\n",
       "      <th>excerpt</th>\n",
       "      <th>target</th>\n",
       "      <th>standard_error</th>\n",
       "    </tr>\n",
       "  </thead>\n",
       "  <tbody>\n",
       "    <tr>\n",
       "      <th>0</th>\n",
       "      <td>c12129c31</td>\n",
       "      <td>NaN</td>\n",
       "      <td>NaN</td>\n",
       "      <td>When the young people returned to the ballroom, it presented a decidedly changed appearance. Instead of an interior scene, it was a winter landscape.\\nThe floor was covered with snow-white canvas, not laid on smoothly, but rumpled over bumps and hillocks, like a real snow field. The numerous palms and evergreens that had decorated the room, were powdered with flour and strewn with tufts of cotton, like snow. Also diamond dust had been lightly sprinkled on them, and glittering crystal icicles hung from the branches.\\nAt each end of the room, on the wall, hung a beautiful bear-skin rug.\\nThe...</td>\n",
       "      <td>-0.340259</td>\n",
       "      <td>0.464009</td>\n",
       "    </tr>\n",
       "    <tr>\n",
       "      <th>1</th>\n",
       "      <td>85aa80a4c</td>\n",
       "      <td>NaN</td>\n",
       "      <td>NaN</td>\n",
       "      <td>All through dinner time, Mrs. Fayre was somewhat silent, her eyes resting on Dolly with a wistful, uncertain expression. She wanted to give the child the pleasure she craved, but she had hard work to bring herself to the point of overcoming her own objections.\\nAt last, however, when the meal was nearly over, she smiled at her little daughter, and said, \"All right, Dolly, you may go.\"\\n\"Oh, mother!\" Dolly cried, overwhelmed with sudden delight. \"Really?\\nOh, I am so glad! Are you sure you're willing?\"\\n\"I've persuaded myself to be willing, against my will,\" returned Mrs. Fayre, whimsically...</td>\n",
       "      <td>-0.315372</td>\n",
       "      <td>0.480805</td>\n",
       "    </tr>\n",
       "    <tr>\n",
       "      <th>2</th>\n",
       "      <td>b69ac6792</td>\n",
       "      <td>NaN</td>\n",
       "      <td>NaN</td>\n",
       "      <td>As Roger had predicted, the snow departed as quickly as it came, and two days after their sleigh ride there was scarcely a vestige of white on the ground. Tennis was again possible and a great game was in progress on the court at Pine Laurel. Patty and Roger were playing against Elise and Sam Blaney, and the pairs were well matched.\\nBut the long-contested victory finally went against Patty, and she laughingly accepted defeat.\\n\"Only because Patty's not quite back on her game yet,\" Roger defended; \"this child has been on the sick list, you know, Sam, and she isn't up to her own mark.\"\\n\"We...</td>\n",
       "      <td>-0.580118</td>\n",
       "      <td>0.476676</td>\n",
       "    </tr>\n",
       "    <tr>\n",
       "      <th>3</th>\n",
       "      <td>dd1000b26</td>\n",
       "      <td>NaN</td>\n",
       "      <td>NaN</td>\n",
       "      <td>And outside before the palace a great garden was walled round, filled full of stately fruit-trees, gray olives and sweet figs, and pomegranates, pears, and apples, which bore the whole year round. For the rich south-west wind fed them, till pear grew ripe on pear, fig on fig, and grape on grape, all the winter and the spring. And at the farther end gay flower-beds bloomed through all seasons of the year; and two fair fountains rose, and ran, one through the garden grounds, and one beneath the palace gate, to water all the town. Such noble gifts the heavens had given to Alcinous the wise.\\n...</td>\n",
       "      <td>-1.054013</td>\n",
       "      <td>0.450007</td>\n",
       "    </tr>\n",
       "  </tbody>\n",
       "</table>\n",
       "</div>"
      ],
      "text/plain": [
       "          id url_legal license  \\\n",
       "0  c12129c31       NaN     NaN   \n",
       "1  85aa80a4c       NaN     NaN   \n",
       "2  b69ac6792       NaN     NaN   \n",
       "3  dd1000b26       NaN     NaN   \n",
       "\n",
       "                                                                                                                                                                                                                                                                                                                                                                                                                                                                                                                                                                                                                   excerpt  \\\n",
       "0  When the young people returned to the ballroom, it presented a decidedly changed appearance. Instead of an interior scene, it was a winter landscape.\\nThe floor was covered with snow-white canvas, not laid on smoothly, but rumpled over bumps and hillocks, like a real snow field. The numerous palms and evergreens that had decorated the room, were powdered with flour and strewn with tufts of cotton, like snow. Also diamond dust had been lightly sprinkled on them, and glittering crystal icicles hung from the branches.\\nAt each end of the room, on the wall, hung a beautiful bear-skin rug.\\nThe...   \n",
       "1  All through dinner time, Mrs. Fayre was somewhat silent, her eyes resting on Dolly with a wistful, uncertain expression. She wanted to give the child the pleasure she craved, but she had hard work to bring herself to the point of overcoming her own objections.\\nAt last, however, when the meal was nearly over, she smiled at her little daughter, and said, \"All right, Dolly, you may go.\"\\n\"Oh, mother!\" Dolly cried, overwhelmed with sudden delight. \"Really?\\nOh, I am so glad! Are you sure you're willing?\"\\n\"I've persuaded myself to be willing, against my will,\" returned Mrs. Fayre, whimsically...   \n",
       "2  As Roger had predicted, the snow departed as quickly as it came, and two days after their sleigh ride there was scarcely a vestige of white on the ground. Tennis was again possible and a great game was in progress on the court at Pine Laurel. Patty and Roger were playing against Elise and Sam Blaney, and the pairs were well matched.\\nBut the long-contested victory finally went against Patty, and she laughingly accepted defeat.\\n\"Only because Patty's not quite back on her game yet,\" Roger defended; \"this child has been on the sick list, you know, Sam, and she isn't up to her own mark.\"\\n\"We...   \n",
       "3  And outside before the palace a great garden was walled round, filled full of stately fruit-trees, gray olives and sweet figs, and pomegranates, pears, and apples, which bore the whole year round. For the rich south-west wind fed them, till pear grew ripe on pear, fig on fig, and grape on grape, all the winter and the spring. And at the farther end gay flower-beds bloomed through all seasons of the year; and two fair fountains rose, and ran, one through the garden grounds, and one beneath the palace gate, to water all the town. Such noble gifts the heavens had given to Alcinous the wise.\\n...   \n",
       "\n",
       "     target  standard_error  \n",
       "0 -0.340259        0.464009  \n",
       "1 -0.315372        0.480805  \n",
       "2 -0.580118        0.476676  \n",
       "3 -1.054013        0.450007  "
      ]
     },
     "execution_count": 24,
     "metadata": {},
     "output_type": "execute_result"
    }
   ],
   "source": [
    "df_tiny"
   ]
  },
  {
   "cell_type": "code",
   "execution_count": 25,
   "id": "contemporary-garbage",
   "metadata": {
    "execution": {
     "iopub.execute_input": "2021-07-02T09:55:50.308903Z",
     "iopub.status.busy": "2021-07-02T09:55:50.308233Z",
     "iopub.status.idle": "2021-07-02T09:55:51.256242Z",
     "shell.execute_reply": "2021-07-02T09:55:51.256802Z",
     "shell.execute_reply.started": "2021-07-02T09:54:18.414826Z"
    },
    "papermill": {
     "duration": 1.015893,
     "end_time": "2021-07-02T09:55:51.256975",
     "exception": false,
     "start_time": "2021-07-02T09:55:50.241082",
     "status": "completed"
    },
    "tags": []
   },
   "outputs": [
    {
     "data": {
      "text/plain": [
       "'i am a superhero but ...'"
      ]
     },
     "execution_count": 25,
     "metadata": {},
     "output_type": "execute_result"
    }
   ],
   "source": [
    "random_deletion(\"i am a superhero, but...\", 0.2)"
   ]
  },
  {
   "cell_type": "code",
   "execution_count": 26,
   "id": "single-blackjack",
   "metadata": {
    "execution": {
     "iopub.execute_input": "2021-07-02T09:55:51.392732Z",
     "iopub.status.busy": "2021-07-02T09:55:51.391966Z",
     "iopub.status.idle": "2021-07-02T09:55:51.394521Z",
     "shell.execute_reply": "2021-07-02T09:55:51.395027Z",
     "shell.execute_reply.started": "2021-07-02T09:54:19.433105Z"
    },
    "papermill": {
     "duration": 0.072335,
     "end_time": "2021-07-02T09:55:51.395203",
     "exception": false,
     "start_time": "2021-07-02T09:55:51.322868",
     "status": "completed"
    },
    "tags": []
   },
   "outputs": [],
   "source": [
    "#this gives error\n",
    "#erase(\"i am a superhero, but...\")"
   ]
  },
  {
   "cell_type": "code",
   "execution_count": 27,
   "id": "lesser-satisfaction",
   "metadata": {
    "execution": {
     "iopub.execute_input": "2021-07-02T09:55:51.528992Z",
     "iopub.status.busy": "2021-07-02T09:55:51.528347Z",
     "iopub.status.idle": "2021-07-02T09:55:52.483885Z",
     "shell.execute_reply": "2021-07-02T09:55:52.484351Z",
     "shell.execute_reply.started": "2021-07-02T09:54:19.439400Z"
    },
    "papermill": {
     "duration": 1.024049,
     "end_time": "2021-07-02T09:55:52.484529",
     "exception": false,
     "start_time": "2021-07-02T09:55:51.460480",
     "status": "completed"
    },
    "tags": []
   },
   "outputs": [
    {
     "data": {
      "text/plain": [
       "'i am a superhero , but ...'"
      ]
     },
     "execution_count": 27,
     "metadata": {},
     "output_type": "execute_result"
    }
   ],
   "source": [
    "erase = erase()\n",
    "erase(\"i am a superhero, but...\")"
   ]
  },
  {
   "cell_type": "markdown",
   "id": "visible-martial",
   "metadata": {
    "papermill": {
     "duration": 0.065848,
     "end_time": "2021-07-02T09:55:52.616934",
     "exception": false,
     "start_time": "2021-07-02T09:55:52.551086",
     "status": "completed"
    },
    "tags": []
   },
   "source": [
    "creating separate functions for verbs adjectives and nouns"
   ]
  },
  {
   "cell_type": "code",
   "execution_count": 28,
   "id": "qualified-czech",
   "metadata": {
    "execution": {
     "iopub.execute_input": "2021-07-02T09:55:52.751072Z",
     "iopub.status.busy": "2021-07-02T09:55:52.750425Z",
     "iopub.status.idle": "2021-07-02T09:55:52.754831Z",
     "shell.execute_reply": "2021-07-02T09:55:52.755314Z",
     "shell.execute_reply.started": "2021-07-02T09:54:20.732399Z"
    },
    "papermill": {
     "duration": 0.072891,
     "end_time": "2021-07-02T09:55:52.755475",
     "exception": false,
     "start_time": "2021-07-02T09:55:52.682584",
     "status": "completed"
    },
    "tags": []
   },
   "outputs": [],
   "source": [
    "def replace_verb(text: str):\n",
    "    \"\"\"replace verb with it's synonym\"\"\"\n",
    "    return replace_tok_with_synonym(text)\n",
    "\n",
    "def replace_noun(text: str):\n",
    "    \"\"\"replace noun with it's synonym\"\"\"\n",
    "    return replace_tok_with_synonym(text, \"n\")\n",
    "\n",
    "def replace_adj(text: str):\n",
    "    \"\"\"replace adjective with it's synonym\"\"\"\n",
    "    return replace_tok_with_synonym(text, \"a\")"
   ]
  },
  {
   "cell_type": "code",
   "execution_count": 29,
   "id": "anonymous-desire",
   "metadata": {
    "execution": {
     "iopub.execute_input": "2021-07-02T09:55:52.892618Z",
     "iopub.status.busy": "2021-07-02T09:55:52.891885Z",
     "iopub.status.idle": "2021-07-02T09:55:53.846135Z",
     "shell.execute_reply": "2021-07-02T09:55:53.845518Z",
     "shell.execute_reply.started": "2021-07-02T09:54:20.739618Z"
    },
    "papermill": {
     "duration": 1.023961,
     "end_time": "2021-07-02T09:55:53.846284",
     "exception": false,
     "start_time": "2021-07-02T09:55:52.822323",
     "status": "completed"
    },
    "tags": []
   },
   "outputs": [
    {
     "data": {
      "text/plain": [
       "'I predicted this would pass sometime'"
      ]
     },
     "execution_count": 29,
     "metadata": {},
     "output_type": "execute_result"
    }
   ],
   "source": [
    "replace_verb(\"I predicted this would happen sometime\")"
   ]
  },
  {
   "cell_type": "markdown",
   "id": "dressed-harvest",
   "metadata": {
    "papermill": {
     "duration": 0.066267,
     "end_time": "2021-07-02T09:55:53.979056",
     "exception": false,
     "start_time": "2021-07-02T09:55:53.912789",
     "status": "completed"
    },
    "tags": []
   },
   "source": [
    "quick test"
   ]
  },
  {
   "cell_type": "code",
   "execution_count": 30,
   "id": "impossible-ferry",
   "metadata": {
    "execution": {
     "iopub.execute_input": "2021-07-02T09:55:54.123326Z",
     "iopub.status.busy": "2021-07-02T09:55:54.122698Z",
     "iopub.status.idle": "2021-07-02T09:55:54.126558Z",
     "shell.execute_reply": "2021-07-02T09:55:54.126988Z",
     "shell.execute_reply.started": "2021-07-02T09:54:21.760435Z"
    },
    "papermill": {
     "duration": 0.08155,
     "end_time": "2021-07-02T09:55:54.127154",
     "exception": false,
     "start_time": "2021-07-02T09:55:54.045604",
     "status": "completed"
    },
    "tags": []
   },
   "outputs": [
    {
     "data": {
      "text/html": [
       "<div>\n",
       "<style scoped>\n",
       "    .dataframe tbody tr th:only-of-type {\n",
       "        vertical-align: middle;\n",
       "    }\n",
       "\n",
       "    .dataframe tbody tr th {\n",
       "        vertical-align: top;\n",
       "    }\n",
       "\n",
       "    .dataframe thead th {\n",
       "        text-align: right;\n",
       "    }\n",
       "</style>\n",
       "<table border=\"1\" class=\"dataframe\">\n",
       "  <thead>\n",
       "    <tr style=\"text-align: right;\">\n",
       "      <th></th>\n",
       "      <th>id</th>\n",
       "      <th>url_legal</th>\n",
       "      <th>license</th>\n",
       "      <th>excerpt</th>\n",
       "      <th>target</th>\n",
       "      <th>standard_error</th>\n",
       "    </tr>\n",
       "  </thead>\n",
       "  <tbody>\n",
       "    <tr>\n",
       "      <th>0</th>\n",
       "      <td>c12129c31</td>\n",
       "      <td>NaN</td>\n",
       "      <td>NaN</td>\n",
       "      <td>When the young people returned to the ballroom, it presented a decidedly changed appearance. Instead of an interior scene, it was a winter landscape.\\nThe floor was covered with snow-white canvas, not laid on smoothly, but rumpled over bumps and hillocks, like a real snow field. The numerous palms and evergreens that had decorated the room, were powdered with flour and strewn with tufts of cotton, like snow. Also diamond dust had been lightly sprinkled on them, and glittering crystal icicles hung from the branches.\\nAt each end of the room, on the wall, hung a beautiful bear-skin rug.\\nThe...</td>\n",
       "      <td>-0.340259</td>\n",
       "      <td>0.464009</td>\n",
       "    </tr>\n",
       "    <tr>\n",
       "      <th>1</th>\n",
       "      <td>85aa80a4c</td>\n",
       "      <td>NaN</td>\n",
       "      <td>NaN</td>\n",
       "      <td>All through dinner time, Mrs. Fayre was somewhat silent, her eyes resting on Dolly with a wistful, uncertain expression. She wanted to give the child the pleasure she craved, but she had hard work to bring herself to the point of overcoming her own objections.\\nAt last, however, when the meal was nearly over, she smiled at her little daughter, and said, \"All right, Dolly, you may go.\"\\n\"Oh, mother!\" Dolly cried, overwhelmed with sudden delight. \"Really?\\nOh, I am so glad! Are you sure you're willing?\"\\n\"I've persuaded myself to be willing, against my will,\" returned Mrs. Fayre, whimsically...</td>\n",
       "      <td>-0.315372</td>\n",
       "      <td>0.480805</td>\n",
       "    </tr>\n",
       "  </tbody>\n",
       "</table>\n",
       "</div>"
      ],
      "text/plain": [
       "          id url_legal license  \\\n",
       "0  c12129c31       NaN     NaN   \n",
       "1  85aa80a4c       NaN     NaN   \n",
       "\n",
       "                                                                                                                                                                                                                                                                                                                                                                                                                                                                                                                                                                                                                   excerpt  \\\n",
       "0  When the young people returned to the ballroom, it presented a decidedly changed appearance. Instead of an interior scene, it was a winter landscape.\\nThe floor was covered with snow-white canvas, not laid on smoothly, but rumpled over bumps and hillocks, like a real snow field. The numerous palms and evergreens that had decorated the room, were powdered with flour and strewn with tufts of cotton, like snow. Also diamond dust had been lightly sprinkled on them, and glittering crystal icicles hung from the branches.\\nAt each end of the room, on the wall, hung a beautiful bear-skin rug.\\nThe...   \n",
       "1  All through dinner time, Mrs. Fayre was somewhat silent, her eyes resting on Dolly with a wistful, uncertain expression. She wanted to give the child the pleasure she craved, but she had hard work to bring herself to the point of overcoming her own objections.\\nAt last, however, when the meal was nearly over, she smiled at her little daughter, and said, \"All right, Dolly, you may go.\"\\n\"Oh, mother!\" Dolly cried, overwhelmed with sudden delight. \"Really?\\nOh, I am so glad! Are you sure you're willing?\"\\n\"I've persuaded myself to be willing, against my will,\" returned Mrs. Fayre, whimsically...   \n",
       "\n",
       "     target  standard_error  \n",
       "0 -0.340259        0.464009  \n",
       "1 -0.315372        0.480805  "
      ]
     },
     "execution_count": 30,
     "metadata": {},
     "output_type": "execute_result"
    }
   ],
   "source": [
    "df_tiny2 = df_train.loc[:1]\n",
    "df_tiny2"
   ]
  },
  {
   "cell_type": "markdown",
   "id": "abstract-virtue",
   "metadata": {
    "papermill": {
     "duration": 0.066723,
     "end_time": "2021-07-02T09:55:54.260673",
     "exception": false,
     "start_time": "2021-07-02T09:55:54.193950",
     "status": "completed"
    },
    "tags": []
   },
   "source": [
    "# Designing transform fucntion\n",
    "* Should apply functions to the dataframe one by one\n",
    "* After applying each function it should concatenate the transformed dataframe with the original and then return a new dataframe.\n",
    "  * While doing so, it should remove the rows for which the text field was returned none"
   ]
  },
  {
   "cell_type": "code",
   "execution_count": 31,
   "id": "wireless-relief",
   "metadata": {
    "execution": {
     "iopub.execute_input": "2021-07-02T09:55:54.400828Z",
     "iopub.status.busy": "2021-07-02T09:55:54.399833Z",
     "iopub.status.idle": "2021-07-02T09:55:54.403084Z",
     "shell.execute_reply": "2021-07-02T09:55:54.402559Z",
     "shell.execute_reply.started": "2021-07-02T09:54:21.775785Z"
    },
    "papermill": {
     "duration": 0.075618,
     "end_time": "2021-07-02T09:55:54.403219",
     "exception": false,
     "start_time": "2021-07-02T09:55:54.327601",
     "status": "completed"
    },
    "tags": []
   },
   "outputs": [],
   "source": [
    "def transform(df: DataFrame, col:str, f):\n",
    "    df_tf = df.copy()\n",
    "    df_tf[col] = df_tf[col].transform(f)\n",
    "    df_tf.dropna(inplace=True, subset=['excerpt'])\n",
    "    return df_tf"
   ]
  },
  {
   "cell_type": "code",
   "execution_count": 32,
   "id": "animal-headline",
   "metadata": {
    "execution": {
     "iopub.execute_input": "2021-07-02T09:55:54.541866Z",
     "iopub.status.busy": "2021-07-02T09:55:54.541001Z",
     "iopub.status.idle": "2021-07-02T09:55:54.545255Z",
     "shell.execute_reply": "2021-07-02T09:55:54.544638Z",
     "shell.execute_reply.started": "2021-07-02T09:54:21.787136Z"
    },
    "papermill": {
     "duration": 0.075385,
     "end_time": "2021-07-02T09:55:54.545413",
     "exception": false,
     "start_time": "2021-07-02T09:55:54.470028",
     "status": "completed"
    },
    "tags": []
   },
   "outputs": [
    {
     "data": {
      "text/plain": [
       "(6, 6)"
      ]
     },
     "execution_count": 32,
     "metadata": {},
     "output_type": "execute_result"
    }
   ],
   "source": [
    "sample_df = df_train.loc[:5]\n",
    "sample_df.shape"
   ]
  },
  {
   "cell_type": "code",
   "execution_count": 33,
   "id": "aerial-certificate",
   "metadata": {
    "execution": {
     "iopub.execute_input": "2021-07-02T09:55:54.687910Z",
     "iopub.status.busy": "2021-07-02T09:55:54.687182Z",
     "iopub.status.idle": "2021-07-02T09:55:56.865810Z",
     "shell.execute_reply": "2021-07-02T09:55:56.865228Z",
     "shell.execute_reply.started": "2021-07-02T09:54:21.802306Z"
    },
    "papermill": {
     "duration": 2.253529,
     "end_time": "2021-07-02T09:55:56.865947",
     "exception": false,
     "start_time": "2021-07-02T09:55:54.612418",
     "status": "completed"
    },
    "tags": []
   },
   "outputs": [],
   "source": [
    "sample1= transform(df_tiny2, 'excerpt', replace_verb)"
   ]
  },
  {
   "cell_type": "code",
   "execution_count": 34,
   "id": "powered-scene",
   "metadata": {
    "execution": {
     "iopub.execute_input": "2021-07-02T09:55:57.005710Z",
     "iopub.status.busy": "2021-07-02T09:55:57.005004Z",
     "iopub.status.idle": "2021-07-02T09:55:59.151580Z",
     "shell.execute_reply": "2021-07-02T09:55:59.150911Z",
     "shell.execute_reply.started": "2021-07-02T09:54:24.189975Z"
    },
    "papermill": {
     "duration": 2.218998,
     "end_time": "2021-07-02T09:55:59.151728",
     "exception": false,
     "start_time": "2021-07-02T09:55:56.932730",
     "status": "completed"
    },
    "tags": []
   },
   "outputs": [],
   "source": [
    "sample2 = transform(df_tiny2, 'excerpt', partial(random_deletion,p=0.2))"
   ]
  },
  {
   "cell_type": "code",
   "execution_count": 35,
   "id": "impossible-genome",
   "metadata": {
    "execution": {
     "iopub.execute_input": "2021-07-02T09:55:59.297914Z",
     "iopub.status.busy": "2021-07-02T09:55:59.291804Z",
     "iopub.status.idle": "2021-07-02T09:56:01.263346Z",
     "shell.execute_reply": "2021-07-02T09:56:01.262349Z",
     "shell.execute_reply.started": "2021-07-02T09:54:26.291210Z"
    },
    "papermill": {
     "duration": 2.043778,
     "end_time": "2021-07-02T09:56:01.263504",
     "exception": false,
     "start_time": "2021-07-02T09:55:59.219726",
     "status": "completed"
    },
    "tags": []
   },
   "outputs": [],
   "source": [
    "sample3 = transform(df_tiny2, 'excerpt', erase)"
   ]
  },
  {
   "cell_type": "code",
   "execution_count": 36,
   "id": "peaceful-novelty",
   "metadata": {
    "execution": {
     "iopub.execute_input": "2021-07-02T09:56:01.403671Z",
     "iopub.status.busy": "2021-07-02T09:56:01.402704Z",
     "iopub.status.idle": "2021-07-02T09:56:03.559625Z",
     "shell.execute_reply": "2021-07-02T09:56:03.559083Z",
     "shell.execute_reply.started": "2021-07-02T09:54:28.678718Z"
    },
    "papermill": {
     "duration": 2.22899,
     "end_time": "2021-07-02T09:56:03.559770",
     "exception": false,
     "start_time": "2021-07-02T09:56:01.330780",
     "status": "completed"
    },
    "tags": []
   },
   "outputs": [],
   "source": [
    "sample4 = transform(df_tiny2, 'excerpt', swapabble(threshold=3))"
   ]
  },
  {
   "cell_type": "code",
   "execution_count": 37,
   "id": "impressed-explanation",
   "metadata": {
    "execution": {
     "iopub.execute_input": "2021-07-02T09:56:03.699825Z",
     "iopub.status.busy": "2021-07-02T09:56:03.699141Z",
     "iopub.status.idle": "2021-07-02T09:56:03.703071Z",
     "shell.execute_reply": "2021-07-02T09:56:03.702571Z",
     "shell.execute_reply.started": "2021-07-02T09:54:30.763425Z"
    },
    "papermill": {
     "duration": 0.076281,
     "end_time": "2021-07-02T09:56:03.703201",
     "exception": false,
     "start_time": "2021-07-02T09:56:03.626920",
     "status": "completed"
    },
    "tags": []
   },
   "outputs": [
    {
     "data": {
      "text/plain": [
       "((1, 6), (2, 6), (2, 6), (2, 6))"
      ]
     },
     "execution_count": 37,
     "metadata": {},
     "output_type": "execute_result"
    }
   ],
   "source": [
    "sample1.shape, sample2.shape, sample3.shape, sample4.shape"
   ]
  },
  {
   "cell_type": "code",
   "execution_count": 38,
   "id": "isolated-farmer",
   "metadata": {
    "execution": {
     "iopub.execute_input": "2021-07-02T09:56:03.851946Z",
     "iopub.status.busy": "2021-07-02T09:56:03.851089Z",
     "iopub.status.idle": "2021-07-02T09:56:03.854837Z",
     "shell.execute_reply": "2021-07-02T09:56:03.855306Z",
     "shell.execute_reply.started": "2021-07-02T09:54:30.772218Z"
    },
    "papermill": {
     "duration": 0.084394,
     "end_time": "2021-07-02T09:56:03.855494",
     "exception": false,
     "start_time": "2021-07-02T09:56:03.771100",
     "status": "completed"
    },
    "tags": []
   },
   "outputs": [
    {
     "data": {
      "text/html": [
       "<div>\n",
       "<style scoped>\n",
       "    .dataframe tbody tr th:only-of-type {\n",
       "        vertical-align: middle;\n",
       "    }\n",
       "\n",
       "    .dataframe tbody tr th {\n",
       "        vertical-align: top;\n",
       "    }\n",
       "\n",
       "    .dataframe thead th {\n",
       "        text-align: right;\n",
       "    }\n",
       "</style>\n",
       "<table border=\"1\" class=\"dataframe\">\n",
       "  <thead>\n",
       "    <tr style=\"text-align: right;\">\n",
       "      <th></th>\n",
       "      <th>id</th>\n",
       "      <th>url_legal</th>\n",
       "      <th>license</th>\n",
       "      <th>excerpt</th>\n",
       "      <th>target</th>\n",
       "      <th>standard_error</th>\n",
       "    </tr>\n",
       "  </thead>\n",
       "  <tbody>\n",
       "    <tr>\n",
       "      <th>0</th>\n",
       "      <td>c12129c31</td>\n",
       "      <td>NaN</td>\n",
       "      <td>NaN</td>\n",
       "      <td>When the young people returned to the ballroom, it presented a decidedly changed appearance. Instead of an interior scene, it was a winter landscape.\\nThe floor was covered with snow-white canvas, not laid on smoothly, but rumpled over bumps and hillocks, like a real snow field. The numerous palms and evergreens that had decorated the room, were powdered with flour and strewn with tufts of cotton, like snow. Also diamond dust had been lightly sprinkled on them, and glittering crystal icicles hung from the branches.\\nAt each end of the room, on the wall, hung a beautiful bear-skin rug.\\nThe...</td>\n",
       "      <td>-0.340259</td>\n",
       "      <td>0.464009</td>\n",
       "    </tr>\n",
       "  </tbody>\n",
       "</table>\n",
       "</div>"
      ],
      "text/plain": [
       "          id url_legal license  \\\n",
       "0  c12129c31       NaN     NaN   \n",
       "\n",
       "                                                                                                                                                                                                                                                                                                                                                                                                                                                                                                                                                                                                                   excerpt  \\\n",
       "0  When the young people returned to the ballroom, it presented a decidedly changed appearance. Instead of an interior scene, it was a winter landscape.\\nThe floor was covered with snow-white canvas, not laid on smoothly, but rumpled over bumps and hillocks, like a real snow field. The numerous palms and evergreens that had decorated the room, were powdered with flour and strewn with tufts of cotton, like snow. Also diamond dust had been lightly sprinkled on them, and glittering crystal icicles hung from the branches.\\nAt each end of the room, on the wall, hung a beautiful bear-skin rug.\\nThe...   \n",
       "\n",
       "     target  standard_error  \n",
       "0 -0.340259        0.464009  "
      ]
     },
     "execution_count": 38,
     "metadata": {},
     "output_type": "execute_result"
    }
   ],
   "source": [
    "sample1"
   ]
  },
  {
   "cell_type": "code",
   "execution_count": 39,
   "id": "partial-knock",
   "metadata": {
    "execution": {
     "iopub.execute_input": "2021-07-02T09:56:04.002560Z",
     "iopub.status.busy": "2021-07-02T09:56:03.998365Z",
     "iopub.status.idle": "2021-07-02T09:56:04.006625Z",
     "shell.execute_reply": "2021-07-02T09:56:04.007067Z",
     "shell.execute_reply.started": "2021-07-02T09:54:30.795198Z"
    },
    "papermill": {
     "duration": 0.084099,
     "end_time": "2021-07-02T09:56:04.007234",
     "exception": false,
     "start_time": "2021-07-02T09:56:03.923135",
     "status": "completed"
    },
    "tags": []
   },
   "outputs": [
    {
     "data": {
      "text/html": [
       "<div>\n",
       "<style scoped>\n",
       "    .dataframe tbody tr th:only-of-type {\n",
       "        vertical-align: middle;\n",
       "    }\n",
       "\n",
       "    .dataframe tbody tr th {\n",
       "        vertical-align: top;\n",
       "    }\n",
       "\n",
       "    .dataframe thead th {\n",
       "        text-align: right;\n",
       "    }\n",
       "</style>\n",
       "<table border=\"1\" class=\"dataframe\">\n",
       "  <thead>\n",
       "    <tr style=\"text-align: right;\">\n",
       "      <th></th>\n",
       "      <th>id</th>\n",
       "      <th>url_legal</th>\n",
       "      <th>license</th>\n",
       "      <th>excerpt</th>\n",
       "      <th>target</th>\n",
       "      <th>standard_error</th>\n",
       "    </tr>\n",
       "  </thead>\n",
       "  <tbody>\n",
       "    <tr>\n",
       "      <th>0</th>\n",
       "      <td>c12129c31</td>\n",
       "      <td>NaN</td>\n",
       "      <td>NaN</td>\n",
       "      <td>When the young people returned ballroom , it presented changed appearance . Instead of an interior scene winter \\n The with - white canvas not laid on smoothly but over bumps and hillocks like palms evergreens that had decorated room were strewn tufts cotton diamond been lightly sprinkled them glittering crystal hung branches At end wall beautiful bear skin rug These for one girls And this gathered other called North South Each player given small flag which they plant reaching would have matter traveller obliged wear snowshoes</td>\n",
       "      <td>-0.340259</td>\n",
       "      <td>0.464009</td>\n",
       "    </tr>\n",
       "    <tr>\n",
       "      <th>1</th>\n",
       "      <td>85aa80a4c</td>\n",
       "      <td>NaN</td>\n",
       "      <td>NaN</td>\n",
       "      <td>All through dinner time , Mrs. Fayre was somewhat her eyes Dolly with a uncertain expression . wanted to the child she craved but had hard work bring point of overcoming own objections \\n At last however when meal nearly over smiled at daughter and said right may go Oh mother cried overwhelmed sudden delight Really ? I am glad Are sure 're willing 've persuaded against will returned whimsically confess just hate ca n't bear deprive trip And as say it would also keep Dotty home think in angel You blessed How are flew around hug that suffocated</td>\n",
       "      <td>-0.315372</td>\n",
       "      <td>0.480805</td>\n",
       "    </tr>\n",
       "  </tbody>\n",
       "</table>\n",
       "</div>"
      ],
      "text/plain": [
       "          id url_legal license  \\\n",
       "0  c12129c31       NaN     NaN   \n",
       "1  85aa80a4c       NaN     NaN   \n",
       "\n",
       "                                                                                                                                                                                                                                                                                                                                                                                                                                                                                                                                                                excerpt  \\\n",
       "0                  When the young people returned ballroom , it presented changed appearance . Instead of an interior scene winter \\n The with - white canvas not laid on smoothly but over bumps and hillocks like palms evergreens that had decorated room were strewn tufts cotton diamond been lightly sprinkled them glittering crystal hung branches At end wall beautiful bear skin rug These for one girls And this gathered other called North South Each player given small flag which they plant reaching would have matter traveller obliged wear snowshoes   \n",
       "1  All through dinner time , Mrs. Fayre was somewhat her eyes Dolly with a uncertain expression . wanted to the child she craved but had hard work bring point of overcoming own objections \\n At last however when meal nearly over smiled at daughter and said right may go Oh mother cried overwhelmed sudden delight Really ? I am glad Are sure 're willing 've persuaded against will returned whimsically confess just hate ca n't bear deprive trip And as say it would also keep Dotty home think in angel You blessed How are flew around hug that suffocated   \n",
       "\n",
       "     target  standard_error  \n",
       "0 -0.340259        0.464009  \n",
       "1 -0.315372        0.480805  "
      ]
     },
     "execution_count": 39,
     "metadata": {},
     "output_type": "execute_result"
    }
   ],
   "source": [
    "sample2"
   ]
  },
  {
   "cell_type": "code",
   "execution_count": 40,
   "id": "twelve-mason",
   "metadata": {
    "execution": {
     "iopub.execute_input": "2021-07-02T09:56:04.156189Z",
     "iopub.status.busy": "2021-07-02T09:56:04.155572Z",
     "iopub.status.idle": "2021-07-02T09:56:04.158730Z",
     "shell.execute_reply": "2021-07-02T09:56:04.158182Z",
     "shell.execute_reply.started": "2021-07-02T09:54:30.811771Z"
    },
    "papermill": {
     "duration": 0.083662,
     "end_time": "2021-07-02T09:56:04.158869",
     "exception": false,
     "start_time": "2021-07-02T09:56:04.075207",
     "status": "completed"
    },
    "tags": []
   },
   "outputs": [
    {
     "data": {
      "text/html": [
       "<div>\n",
       "<style scoped>\n",
       "    .dataframe tbody tr th:only-of-type {\n",
       "        vertical-align: middle;\n",
       "    }\n",
       "\n",
       "    .dataframe tbody tr th {\n",
       "        vertical-align: top;\n",
       "    }\n",
       "\n",
       "    .dataframe thead th {\n",
       "        text-align: right;\n",
       "    }\n",
       "</style>\n",
       "<table border=\"1\" class=\"dataframe\">\n",
       "  <thead>\n",
       "    <tr style=\"text-align: right;\">\n",
       "      <th></th>\n",
       "      <th>id</th>\n",
       "      <th>url_legal</th>\n",
       "      <th>license</th>\n",
       "      <th>excerpt</th>\n",
       "      <th>target</th>\n",
       "      <th>standard_error</th>\n",
       "    </tr>\n",
       "  </thead>\n",
       "  <tbody>\n",
       "    <tr>\n",
       "      <th>0</th>\n",
       "      <td>c12129c31</td>\n",
       "      <td>NaN</td>\n",
       "      <td>NaN</td>\n",
       "      <td>When the people returned to ballroom , it presented a decidedly changed . Instead of scene was winter landscape \\n The floor covered with snow - white canvas not laid on smoothly but rumpled over bumps and hillocks real evergreens that had room were powdered flour strewn cotton Also diamond dust sprinkled them glittering crystal icicles hung from branches At each beautiful bear skin rug These rugs prizes boys And this game gathered at other called North Pole South Each player flag which they plant This would have easy matter traveller obliged wear snowshoes</td>\n",
       "      <td>-0.340259</td>\n",
       "      <td>0.464009</td>\n",
       "    </tr>\n",
       "    <tr>\n",
       "      <th>1</th>\n",
       "      <td>85aa80a4c</td>\n",
       "      <td>NaN</td>\n",
       "      <td>NaN</td>\n",
       "      <td>All through time , Mrs. Fayre somewhat silent her eyes resting on Dolly a wistful uncertain expression . She to give the she craved had hard bring point of overcoming objections \\n At however when nearly smiled little daughter said \" right may go Oh mother ! cried overwhelmed sudden delight Really ? I am so glad Are willing 've persuaded myself be my will returned whimsically just hate have ca deprive trip And as say it would also keep Dotty home altogether think shall in angel blessed lady How good are flew table gave hug that suffocated</td>\n",
       "      <td>-0.315372</td>\n",
       "      <td>0.480805</td>\n",
       "    </tr>\n",
       "  </tbody>\n",
       "</table>\n",
       "</div>"
      ],
      "text/plain": [
       "          id url_legal license  \\\n",
       "0  c12129c31       NaN     NaN   \n",
       "1  85aa80a4c       NaN     NaN   \n",
       "\n",
       "                                                                                                                                                                                                                                                                                                                                                                                                                                                                                                                                                                               excerpt  \\\n",
       "0  When the people returned to ballroom , it presented a decidedly changed . Instead of scene was winter landscape \\n The floor covered with snow - white canvas not laid on smoothly but rumpled over bumps and hillocks real evergreens that had room were powdered flour strewn cotton Also diamond dust sprinkled them glittering crystal icicles hung from branches At each beautiful bear skin rug These rugs prizes boys And this game gathered at other called North Pole South Each player flag which they plant This would have easy matter traveller obliged wear snowshoes   \n",
       "1                     All through time , Mrs. Fayre somewhat silent her eyes resting on Dolly a wistful uncertain expression . She to give the she craved had hard bring point of overcoming objections \\n At however when nearly smiled little daughter said \" right may go Oh mother ! cried overwhelmed sudden delight Really ? I am so glad Are willing 've persuaded myself be my will returned whimsically just hate have ca deprive trip And as say it would also keep Dotty home altogether think shall in angel blessed lady How good are flew table gave hug that suffocated   \n",
       "\n",
       "     target  standard_error  \n",
       "0 -0.340259        0.464009  \n",
       "1 -0.315372        0.480805  "
      ]
     },
     "execution_count": 40,
     "metadata": {},
     "output_type": "execute_result"
    }
   ],
   "source": [
    "sample3"
   ]
  },
  {
   "cell_type": "code",
   "execution_count": 41,
   "id": "banner-canyon",
   "metadata": {
    "execution": {
     "iopub.execute_input": "2021-07-02T09:56:04.308336Z",
     "iopub.status.busy": "2021-07-02T09:56:04.307502Z",
     "iopub.status.idle": "2021-07-02T09:56:04.311076Z",
     "shell.execute_reply": "2021-07-02T09:56:04.310505Z",
     "shell.execute_reply.started": "2021-07-02T09:54:30.833653Z"
    },
    "papermill": {
     "duration": 0.083468,
     "end_time": "2021-07-02T09:56:04.311211",
     "exception": false,
     "start_time": "2021-07-02T09:56:04.227743",
     "status": "completed"
    },
    "tags": []
   },
   "outputs": [
    {
     "data": {
      "text/html": [
       "<div>\n",
       "<style scoped>\n",
       "    .dataframe tbody tr th:only-of-type {\n",
       "        vertical-align: middle;\n",
       "    }\n",
       "\n",
       "    .dataframe tbody tr th {\n",
       "        vertical-align: top;\n",
       "    }\n",
       "\n",
       "    .dataframe thead th {\n",
       "        text-align: right;\n",
       "    }\n",
       "</style>\n",
       "<table border=\"1\" class=\"dataframe\">\n",
       "  <thead>\n",
       "    <tr style=\"text-align: right;\">\n",
       "      <th></th>\n",
       "      <th>id</th>\n",
       "      <th>url_legal</th>\n",
       "      <th>license</th>\n",
       "      <th>excerpt</th>\n",
       "      <th>target</th>\n",
       "      <th>standard_error</th>\n",
       "    </tr>\n",
       "  </thead>\n",
       "  <tbody>\n",
       "    <tr>\n",
       "      <th>0</th>\n",
       "      <td>c12129c31</td>\n",
       "      <td>NaN</td>\n",
       "      <td>NaN</td>\n",
       "      <td>When decidedly rug at returned obliged from beautiful flour Each crystal the and The - not boys sprinkled interior wear was . landscape evergreens that ballroom an wall snow changed girls canvas but white covered powdered numerous rumpled plant it Also called like small floor hillocks palms end other bumps decorated room strewn dust player icicles have had a on prizes reaching presented would them field people skin snowshoes they cotton This each traveller At smoothly this branches over These been for hung with lightly glittering And easy diamond gathered \\n one bear North matter scene , t...</td>\n",
       "      <td>-0.340259</td>\n",
       "      <td>0.464009</td>\n",
       "    </tr>\n",
       "    <tr>\n",
       "      <th>1</th>\n",
       "      <td>85aa80a4c</td>\n",
       "      <td>NaN</td>\n",
       "      <td>NaN</td>\n",
       "      <td>\" All dinner daughter be Really blessed eyes trip whimsically Mrs. ? said also Dolly my with of bear that just She wanted nearly \\n hate when persuaded sudden craved silent resting , work expression herself At myself uncertain angel through and How bring n't child objections sure shall And may little good hug you so Fayre go willing time keep flew ! cried pleasure the delight was however wistful lady mother over Are are 're I deprive a own she to altogether 've returned but ca Oh meal somewhat against Dotty right overcoming at around as gave it on in home suffocated glad say smiled overwhe...</td>\n",
       "      <td>-0.315372</td>\n",
       "      <td>0.480805</td>\n",
       "    </tr>\n",
       "  </tbody>\n",
       "</table>\n",
       "</div>"
      ],
      "text/plain": [
       "          id url_legal license  \\\n",
       "0  c12129c31       NaN     NaN   \n",
       "1  85aa80a4c       NaN     NaN   \n",
       "\n",
       "                                                                                                                                                                                                                                                                                                                                                                                                                                                                                                                                                                                                                   excerpt  \\\n",
       "0  When decidedly rug at returned obliged from beautiful flour Each crystal the and The - not boys sprinkled interior wear was . landscape evergreens that ballroom an wall snow changed girls canvas but white covered powdered numerous rumpled plant it Also called like small floor hillocks palms end other bumps decorated room strewn dust player icicles have had a on prizes reaching presented would them field people skin snowshoes they cotton This each traveller At smoothly this branches over These been for hung with lightly glittering And easy diamond gathered \\n one bear North matter scene , t...   \n",
       "1  \" All dinner daughter be Really blessed eyes trip whimsically Mrs. ? said also Dolly my with of bear that just She wanted nearly \\n hate when persuaded sudden craved silent resting , work expression herself At myself uncertain angel through and How bring n't child objections sure shall And may little good hug you so Fayre go willing time keep flew ! cried pleasure the delight was however wistful lady mother over Are are 're I deprive a own she to altogether 've returned but ca Oh meal somewhat against Dotty right overcoming at around as gave it on in home suffocated glad say smiled overwhe...   \n",
       "\n",
       "     target  standard_error  \n",
       "0 -0.340259        0.464009  \n",
       "1 -0.315372        0.480805  "
      ]
     },
     "execution_count": 41,
     "metadata": {},
     "output_type": "execute_result"
    }
   ],
   "source": [
    "sample4"
   ]
  },
  {
   "cell_type": "markdown",
   "id": "endless-investigator",
   "metadata": {
    "papermill": {
     "duration": 0.068947,
     "end_time": "2021-07-02T09:56:04.449465",
     "exception": false,
     "start_time": "2021-07-02T09:56:04.380518",
     "status": "completed"
    },
    "tags": []
   },
   "source": [
    "## Multiprocessing\n",
    "Parallelly run all the diffeerent varient of the transform function i.e. with different parameters and then concatenate all results."
   ]
  },
  {
   "cell_type": "markdown",
   "id": "completed-dublin",
   "metadata": {
    "papermill": {
     "duration": 0.07059,
     "end_time": "2021-07-02T09:56:04.590401",
     "exception": false,
     "start_time": "2021-07-02T09:56:04.519811",
     "status": "completed"
    },
    "tags": []
   },
   "source": [
    "list of parameter variants"
   ]
  },
  {
   "cell_type": "code",
   "execution_count": 42,
   "id": "brazilian-albania",
   "metadata": {
    "execution": {
     "iopub.execute_input": "2021-07-02T09:56:04.735960Z",
     "iopub.status.busy": "2021-07-02T09:56:04.735359Z",
     "iopub.status.idle": "2021-07-02T09:56:04.739122Z",
     "shell.execute_reply": "2021-07-02T09:56:04.739708Z",
     "shell.execute_reply.started": "2021-07-02T09:54:30.857951Z"
    },
    "papermill": {
     "duration": 0.078787,
     "end_time": "2021-07-02T09:56:04.739876",
     "exception": false,
     "start_time": "2021-07-02T09:56:04.661089",
     "status": "completed"
    },
    "tags": []
   },
   "outputs": [],
   "source": [
    "erase = erase\n",
    "swapabble = swapabble()\n",
    "args = [replace_verb, \n",
    "        replace_noun, \n",
    "        replace_adj,\n",
    "        erase,\n",
    "       swapabble]"
   ]
  },
  {
   "cell_type": "markdown",
   "id": "stable-boating",
   "metadata": {
    "papermill": {
     "duration": 0.070234,
     "end_time": "2021-07-02T09:56:04.879388",
     "exception": false,
     "start_time": "2021-07-02T09:56:04.809154",
     "status": "completed"
    },
    "tags": []
   },
   "source": [
    "collection callback"
   ]
  },
  {
   "cell_type": "code",
   "execution_count": 43,
   "id": "quarterly-offense",
   "metadata": {
    "execution": {
     "iopub.execute_input": "2021-07-02T09:56:05.021742Z",
     "iopub.status.busy": "2021-07-02T09:56:05.021110Z",
     "iopub.status.idle": "2021-07-02T09:56:05.024827Z",
     "shell.execute_reply": "2021-07-02T09:56:05.025316Z",
     "shell.execute_reply.started": "2021-07-02T09:54:30.864903Z"
    },
    "papermill": {
     "duration": 0.077027,
     "end_time": "2021-07-02T09:56:05.025490",
     "exception": false,
     "start_time": "2021-07-02T09:56:04.948463",
     "status": "completed"
    },
    "tags": []
   },
   "outputs": [],
   "source": [
    "results = []\n",
    "def collect_result(result):\n",
    "    results.append(result)"
   ]
  },
  {
   "cell_type": "code",
   "execution_count": 44,
   "id": "recorded-night",
   "metadata": {
    "execution": {
     "iopub.execute_input": "2021-07-02T09:56:05.168553Z",
     "iopub.status.busy": "2021-07-02T09:56:05.167763Z",
     "iopub.status.idle": "2021-07-02T09:56:05.171220Z",
     "shell.execute_reply": "2021-07-02T09:56:05.171789Z",
     "shell.execute_reply.started": "2021-07-02T09:54:30.877288Z"
    },
    "papermill": {
     "duration": 0.07704,
     "end_time": "2021-07-02T09:56:05.172014",
     "exception": false,
     "start_time": "2021-07-02T09:56:05.094974",
     "status": "completed"
    },
    "tags": []
   },
   "outputs": [],
   "source": [
    "n_workers=mp.cpu_count()\n",
    "pause=0"
   ]
  },
  {
   "cell_type": "markdown",
   "id": "protected-acting",
   "metadata": {
    "papermill": {
     "duration": 0.069589,
     "end_time": "2021-07-02T09:56:05.310994",
     "exception": false,
     "start_time": "2021-07-02T09:56:05.241405",
     "status": "completed"
    },
    "tags": []
   },
   "source": [
    "creating partialtransform"
   ]
  },
  {
   "cell_type": "code",
   "execution_count": 45,
   "id": "impaired-spokesman",
   "metadata": {
    "execution": {
     "iopub.execute_input": "2021-07-02T09:56:05.452897Z",
     "iopub.status.busy": "2021-07-02T09:56:05.452247Z",
     "iopub.status.idle": "2021-07-02T09:56:05.455801Z",
     "shell.execute_reply": "2021-07-02T09:56:05.456399Z",
     "shell.execute_reply.started": "2021-07-02T09:54:30.889985Z"
    },
    "papermill": {
     "duration": 0.076204,
     "end_time": "2021-07-02T09:56:05.456581",
     "exception": false,
     "start_time": "2021-07-02T09:56:05.380377",
     "status": "completed"
    },
    "tags": []
   },
   "outputs": [],
   "source": [
    "tfm = partial(transform, sample_df, 'excerpt')"
   ]
  },
  {
   "cell_type": "markdown",
   "id": "ongoing-psychiatry",
   "metadata": {
    "papermill": {
     "duration": 0.06854,
     "end_time": "2021-07-02T09:56:05.594503",
     "exception": false,
     "start_time": "2021-07-02T09:56:05.525963",
     "status": "completed"
    },
    "tags": []
   },
   "source": [
    "parallel processing with single function"
   ]
  },
  {
   "cell_type": "code",
   "execution_count": 46,
   "id": "median-stretch",
   "metadata": {
    "execution": {
     "iopub.execute_input": "2021-07-02T09:56:05.735242Z",
     "iopub.status.busy": "2021-07-02T09:56:05.734656Z",
     "iopub.status.idle": "2021-07-02T09:56:05.737743Z",
     "shell.execute_reply": "2021-07-02T09:56:05.738351Z",
     "shell.execute_reply.started": "2021-07-02T09:54:30.901464Z"
    },
    "papermill": {
     "duration": 0.075344,
     "end_time": "2021-07-02T09:56:05.738519",
     "exception": false,
     "start_time": "2021-07-02T09:56:05.663175",
     "status": "completed"
    },
    "tags": []
   },
   "outputs": [],
   "source": [
    "#result[0].shape"
   ]
  },
  {
   "cell_type": "code",
   "execution_count": 47,
   "id": "statutory-reception",
   "metadata": {
    "execution": {
     "iopub.execute_input": "2021-07-02T09:56:05.880075Z",
     "iopub.status.busy": "2021-07-02T09:56:05.879432Z",
     "iopub.status.idle": "2021-07-02T09:56:05.882680Z",
     "shell.execute_reply": "2021-07-02T09:56:05.883163Z",
     "shell.execute_reply.started": "2021-07-02T09:54:30.914034Z"
    },
    "papermill": {
     "duration": 0.076318,
     "end_time": "2021-07-02T09:56:05.883348",
     "exception": false,
     "start_time": "2021-07-02T09:56:05.807030",
     "status": "completed"
    },
    "tags": []
   },
   "outputs": [],
   "source": [
    "#result[0].head()"
   ]
  },
  {
   "cell_type": "markdown",
   "id": "verified-influence",
   "metadata": {
    "papermill": {
     "duration": 0.068998,
     "end_time": "2021-07-02T09:56:06.021581",
     "exception": false,
     "start_time": "2021-07-02T09:56:05.952583",
     "status": "completed"
    },
    "tags": []
   },
   "source": [
    "parallel processing with multiple functions"
   ]
  },
  {
   "cell_type": "code",
   "execution_count": 48,
   "id": "heard-preliminary",
   "metadata": {
    "execution": {
     "iopub.execute_input": "2021-07-02T09:56:06.163156Z",
     "iopub.status.busy": "2021-07-02T09:56:06.162493Z",
     "iopub.status.idle": "2021-07-02T09:56:06.164468Z",
     "shell.execute_reply": "2021-07-02T09:56:06.164899Z",
     "shell.execute_reply.started": "2021-07-02T09:54:30.926058Z"
    },
    "papermill": {
     "duration": 0.074816,
     "end_time": "2021-07-02T09:56:06.165060",
     "exception": false,
     "start_time": "2021-07-02T09:56:06.090244",
     "status": "completed"
    },
    "tags": []
   },
   "outputs": [],
   "source": [
    "#with pool(n_workers) as ex:\n",
    "#    result2 = ex.map(tfm, [replace_verb, replace_noun, replace_adj])"
   ]
  },
  {
   "cell_type": "code",
   "execution_count": 49,
   "id": "beautiful-wilderness",
   "metadata": {
    "execution": {
     "iopub.execute_input": "2021-07-02T09:56:06.306871Z",
     "iopub.status.busy": "2021-07-02T09:56:06.306211Z",
     "iopub.status.idle": "2021-07-02T09:56:06.309538Z",
     "shell.execute_reply": "2021-07-02T09:56:06.310102Z",
     "shell.execute_reply.started": "2021-07-02T09:54:30.938547Z"
    },
    "papermill": {
     "duration": 0.076225,
     "end_time": "2021-07-02T09:56:06.310290",
     "exception": false,
     "start_time": "2021-07-02T09:56:06.234065",
     "status": "completed"
    },
    "tags": []
   },
   "outputs": [],
   "source": [
    "#len(result2)"
   ]
  },
  {
   "cell_type": "code",
   "execution_count": 50,
   "id": "potential-stock",
   "metadata": {
    "execution": {
     "iopub.execute_input": "2021-07-02T09:56:06.453138Z",
     "iopub.status.busy": "2021-07-02T09:56:06.452518Z",
     "iopub.status.idle": "2021-07-02T09:56:06.456003Z",
     "shell.execute_reply": "2021-07-02T09:56:06.456538Z",
     "shell.execute_reply.started": "2021-07-02T09:54:30.950326Z"
    },
    "papermill": {
     "duration": 0.076579,
     "end_time": "2021-07-02T09:56:06.456720",
     "exception": false,
     "start_time": "2021-07-02T09:56:06.380141",
     "status": "completed"
    },
    "tags": []
   },
   "outputs": [],
   "source": [
    "#result2"
   ]
  },
  {
   "cell_type": "markdown",
   "id": "rotary-convert",
   "metadata": {
    "papermill": {
     "duration": 0.068728,
     "end_time": "2021-07-02T09:56:06.595194",
     "exception": false,
     "start_time": "2021-07-02T09:56:06.526466",
     "status": "completed"
    },
    "tags": []
   },
   "source": [
    "## The augmenter\n",
    "* Take the transform function and run parallely on multiple replace functions.\n",
    "* Collect results and do post cleanup.\n",
    "* Put in a single dataframe"
   ]
  },
  {
   "cell_type": "code",
   "execution_count": 51,
   "id": "positive-effort",
   "metadata": {
    "execution": {
     "iopub.execute_input": "2021-07-02T09:56:06.736795Z",
     "iopub.status.busy": "2021-07-02T09:56:06.736081Z",
     "iopub.status.idle": "2021-07-02T09:56:06.743857Z",
     "shell.execute_reply": "2021-07-02T09:56:06.743316Z",
     "shell.execute_reply.started": "2021-07-02T09:54:30.964986Z"
    },
    "papermill": {
     "duration": 0.079304,
     "end_time": "2021-07-02T09:56:06.744006",
     "exception": false,
     "start_time": "2021-07-02T09:56:06.664702",
     "status": "completed"
    },
    "tags": []
   },
   "outputs": [],
   "source": [
    "progress_bar?"
   ]
  },
  {
   "cell_type": "code",
   "execution_count": 52,
   "id": "superb-certificate",
   "metadata": {
    "execution": {
     "iopub.execute_input": "2021-07-02T09:56:06.889883Z",
     "iopub.status.busy": "2021-07-02T09:56:06.889245Z",
     "iopub.status.idle": "2021-07-02T09:56:06.892372Z",
     "shell.execute_reply": "2021-07-02T09:56:06.891844Z",
     "shell.execute_reply.started": "2021-07-02T09:54:30.979861Z"
    },
    "papermill": {
     "duration": 0.078753,
     "end_time": "2021-07-02T09:56:06.892515",
     "exception": false,
     "start_time": "2021-07-02T09:56:06.813762",
     "status": "completed"
    },
    "tags": []
   },
   "outputs": [],
   "source": [
    "def augmenter(df: DataFrame, col: str, tmflist: List) -> DataFrame:\n",
    "    n_workers=mp.cpu_count()\n",
    "    partial_tmf = partial(transform, df, col)\n",
    "    r = parallel(partial_tmf, tmflist, progress=True)\n",
    "    return pd.concat([df]+r, ignore_index=True)"
   ]
  },
  {
   "cell_type": "code",
   "execution_count": 53,
   "id": "pressed-hearts",
   "metadata": {
    "execution": {
     "iopub.execute_input": "2021-07-02T09:56:07.033260Z",
     "iopub.status.busy": "2021-07-02T09:56:07.032678Z",
     "iopub.status.idle": "2021-07-02T09:56:07.037302Z",
     "shell.execute_reply": "2021-07-02T09:56:07.037783Z",
     "shell.execute_reply.started": "2021-07-02T09:54:30.992079Z"
    },
    "papermill": {
     "duration": 0.076574,
     "end_time": "2021-07-02T09:56:07.037942",
     "exception": false,
     "start_time": "2021-07-02T09:56:06.961368",
     "status": "completed"
    },
    "tags": []
   },
   "outputs": [
    {
     "data": {
      "text/plain": [
       "(6, 6)"
      ]
     },
     "execution_count": 53,
     "metadata": {},
     "output_type": "execute_result"
    }
   ],
   "source": [
    "sample_df.shape"
   ]
  },
  {
   "cell_type": "code",
   "execution_count": 54,
   "id": "loved-organic",
   "metadata": {
    "execution": {
     "iopub.execute_input": "2021-07-02T09:56:07.178798Z",
     "iopub.status.busy": "2021-07-02T09:56:07.178163Z",
     "iopub.status.idle": "2021-07-02T09:56:23.763973Z",
     "shell.execute_reply": "2021-07-02T09:56:23.763426Z",
     "shell.execute_reply.started": "2021-07-02T09:54:31.007180Z"
    },
    "papermill": {
     "duration": 16.657191,
     "end_time": "2021-07-02T09:56:23.764136",
     "exception": false,
     "start_time": "2021-07-02T09:56:07.106945",
     "status": "completed"
    },
    "tags": []
   },
   "outputs": [
    {
     "data": {
      "text/html": [],
      "text/plain": [
       "<IPython.core.display.HTML object>"
      ]
     },
     "metadata": {},
     "output_type": "display_data"
    }
   ],
   "source": [
    "final_df = augmenter(sample_df, 'excerpt', args)"
   ]
  },
  {
   "cell_type": "code",
   "execution_count": 55,
   "id": "outstanding-niagara",
   "metadata": {
    "execution": {
     "iopub.execute_input": "2021-07-02T09:56:23.927948Z",
     "iopub.status.busy": "2021-07-02T09:56:23.927248Z",
     "iopub.status.idle": "2021-07-02T09:56:23.932514Z",
     "shell.execute_reply": "2021-07-02T09:56:23.932991Z",
     "shell.execute_reply.started": "2021-07-02T09:54:48.545631Z"
    },
    "papermill": {
     "duration": 0.097568,
     "end_time": "2021-07-02T09:56:23.933164",
     "exception": false,
     "start_time": "2021-07-02T09:56:23.835596",
     "status": "completed"
    },
    "tags": []
   },
   "outputs": [
    {
     "data": {
      "text/html": [
       "<div>\n",
       "<style scoped>\n",
       "    .dataframe tbody tr th:only-of-type {\n",
       "        vertical-align: middle;\n",
       "    }\n",
       "\n",
       "    .dataframe tbody tr th {\n",
       "        vertical-align: top;\n",
       "    }\n",
       "\n",
       "    .dataframe thead th {\n",
       "        text-align: right;\n",
       "    }\n",
       "</style>\n",
       "<table border=\"1\" class=\"dataframe\">\n",
       "  <thead>\n",
       "    <tr style=\"text-align: right;\">\n",
       "      <th></th>\n",
       "      <th>id</th>\n",
       "      <th>url_legal</th>\n",
       "      <th>license</th>\n",
       "      <th>excerpt</th>\n",
       "      <th>target</th>\n",
       "      <th>standard_error</th>\n",
       "    </tr>\n",
       "  </thead>\n",
       "  <tbody>\n",
       "    <tr>\n",
       "      <th>0</th>\n",
       "      <td>c12129c31</td>\n",
       "      <td>NaN</td>\n",
       "      <td>NaN</td>\n",
       "      <td>When the young people returned to the ballroom, it presented a decidedly changed appearance. Instead of an interior scene, it was a winter landscape.\\nThe floor was covered with snow-white canvas, not laid on smoothly, but rumpled over bumps and hillocks, like a real snow field. The numerous palms and evergreens that had decorated the room, were powdered with flour and strewn with tufts of cotton, like snow. Also diamond dust had been lightly sprinkled on them, and glittering crystal icicles hung from the branches.\\nAt each end of the room, on the wall, hung a beautiful bear-skin rug.\\nThe...</td>\n",
       "      <td>-0.340259</td>\n",
       "      <td>0.464009</td>\n",
       "    </tr>\n",
       "    <tr>\n",
       "      <th>1</th>\n",
       "      <td>85aa80a4c</td>\n",
       "      <td>NaN</td>\n",
       "      <td>NaN</td>\n",
       "      <td>All through dinner time, Mrs. Fayre was somewhat silent, her eyes resting on Dolly with a wistful, uncertain expression. She wanted to give the child the pleasure she craved, but she had hard work to bring herself to the point of overcoming her own objections.\\nAt last, however, when the meal was nearly over, she smiled at her little daughter, and said, \"All right, Dolly, you may go.\"\\n\"Oh, mother!\" Dolly cried, overwhelmed with sudden delight. \"Really?\\nOh, I am so glad! Are you sure you're willing?\"\\n\"I've persuaded myself to be willing, against my will,\" returned Mrs. Fayre, whimsically...</td>\n",
       "      <td>-0.315372</td>\n",
       "      <td>0.480805</td>\n",
       "    </tr>\n",
       "    <tr>\n",
       "      <th>2</th>\n",
       "      <td>b69ac6792</td>\n",
       "      <td>NaN</td>\n",
       "      <td>NaN</td>\n",
       "      <td>As Roger had predicted, the snow departed as quickly as it came, and two days after their sleigh ride there was scarcely a vestige of white on the ground. Tennis was again possible and a great game was in progress on the court at Pine Laurel. Patty and Roger were playing against Elise and Sam Blaney, and the pairs were well matched.\\nBut the long-contested victory finally went against Patty, and she laughingly accepted defeat.\\n\"Only because Patty's not quite back on her game yet,\" Roger defended; \"this child has been on the sick list, you know, Sam, and she isn't up to her own mark.\"\\n\"We...</td>\n",
       "      <td>-0.580118</td>\n",
       "      <td>0.476676</td>\n",
       "    </tr>\n",
       "    <tr>\n",
       "      <th>3</th>\n",
       "      <td>dd1000b26</td>\n",
       "      <td>NaN</td>\n",
       "      <td>NaN</td>\n",
       "      <td>And outside before the palace a great garden was walled round, filled full of stately fruit-trees, gray olives and sweet figs, and pomegranates, pears, and apples, which bore the whole year round. For the rich south-west wind fed them, till pear grew ripe on pear, fig on fig, and grape on grape, all the winter and the spring. And at the farther end gay flower-beds bloomed through all seasons of the year; and two fair fountains rose, and ran, one through the garden grounds, and one beneath the palace gate, to water all the town. Such noble gifts the heavens had given to Alcinous the wise.\\n...</td>\n",
       "      <td>-1.054013</td>\n",
       "      <td>0.450007</td>\n",
       "    </tr>\n",
       "    <tr>\n",
       "      <th>4</th>\n",
       "      <td>37c1b32fb</td>\n",
       "      <td>NaN</td>\n",
       "      <td>NaN</td>\n",
       "      <td>Once upon a time there were Three Bears who lived together in a house of their own in a wood. One of them was a Little, Small, Wee Bear; and one was a Middle-sized Bear, and the other was a Great, Huge Bear. They had each a pot for their porridge; a little pot for the Little, Small, Wee Bear; and a middle-sized pot for the Middle Bear; and a great pot for the Great, Huge Bear. And they had each a chair to sit in; a little chair for the Little, Small, Wee Bear; and a middle-sized chair for the Middle Bear; and a great chair for the Great, Huge Bear. And they had each a bed to sleep in; a li...</td>\n",
       "      <td>0.247197</td>\n",
       "      <td>0.510845</td>\n",
       "    </tr>\n",
       "    <tr>\n",
       "      <th>5</th>\n",
       "      <td>f9bf357fe</td>\n",
       "      <td>NaN</td>\n",
       "      <td>NaN</td>\n",
       "      <td>Hal and Chester found ample time to take an inventory of the general's car. It was a huge machine, and besides being fitted up luxuriously was also furnished as an office, that the general might still be at work while he hurried from one part of the field to another when events demanded his immediate presence. Even now, with treachery threatening, and whirling along at a terrific speed, General Joffre, probably because of habit, fell to work sorting papers, studying maps and other drawings.\\nFor almost two hours the car whirled along at top speed, and at length pulled up in the rear of an ...</td>\n",
       "      <td>-0.861809</td>\n",
       "      <td>0.480936</td>\n",
       "    </tr>\n",
       "    <tr>\n",
       "      <th>6</th>\n",
       "      <td>c12129c31</td>\n",
       "      <td>NaN</td>\n",
       "      <td>NaN</td>\n",
       "      <td>When the young people returned to the ballroom, it presented a decidedly changed appearance. Instead of an interior scene, it was a winter landscape.\\nThe floor was covered with snow-white canvas, not laid on smoothly, but rumpled over bumps and hillocks, like a real snow field. The numerous palms and evergreens that had decorated the room, were powdered with flour and strewn with tufts of cotton, like snow. Also diamond dust had been lightly sprinkled on them, and glittering crystal icicles hung from the branches.\\nAt each end of the room, on the wall, hung a beautiful bear-skin rug.\\nThe...</td>\n",
       "      <td>-0.340259</td>\n",
       "      <td>0.464009</td>\n",
       "    </tr>\n",
       "    <tr>\n",
       "      <th>7</th>\n",
       "      <td>85aa80a4c</td>\n",
       "      <td>NaN</td>\n",
       "      <td>NaN</td>\n",
       "      <td>All through dinner time, Mrs. Fayre was somewhat silent, her eyes resting on Dolly with a wistful, uncertain expression. She wanted to give the child the pleasure she craved, but she had hard work to bring herself to the point of overcoming her own objections.\\nAt last, however, when the meal was nearly over, she smiled at her little daughter, and said, \"All right, Dolly, you may go.\"\\n\"Oh, mother!\" Dolly cried, overwhelmed with sudden delight. \"Really?\\nOh, I am so glad! Are you sure you're willing?\"\\n\"I've sway myself to be willing, against my will,\" returned Mrs. Fayre, whimsically. \"I ...</td>\n",
       "      <td>-0.315372</td>\n",
       "      <td>0.480805</td>\n",
       "    </tr>\n",
       "    <tr>\n",
       "      <th>8</th>\n",
       "      <td>b69ac6792</td>\n",
       "      <td>NaN</td>\n",
       "      <td>NaN</td>\n",
       "      <td>As Roger had predicted, the snow departed as quickly as it came, and two days after their sleigh ride there was scarcely a vestige of white on the ground. Tennis was again possible and a great game was in progress on the court at Pine Laurel. Patty and Roger were playing against Elise and Sam Blaney, and the pairs were well matched.\\nBut the long-contested victory finally went against Patty, and she laughingly accepted defeat.\\n\"Only because Patty's not quite back on her game yet,\" Roger defended; \"this child has been on the sick list, you know, Sam, and she isn't up to her own mark.\"\\n\"We...</td>\n",
       "      <td>-0.580118</td>\n",
       "      <td>0.476676</td>\n",
       "    </tr>\n",
       "    <tr>\n",
       "      <th>9</th>\n",
       "      <td>dd1000b26</td>\n",
       "      <td>NaN</td>\n",
       "      <td>NaN</td>\n",
       "      <td>And outside before the palace a great garden was walled round, filled full of stately fruit-trees, gray olives and sweet figs, and pomegranates, pears, and apples, which bore the whole year round. For the rich south-west wind fed them, till pear grew ripe on pear, fig on fig, and grape on grape, all the winter and the spring. And at the farther end gay flower-beds bloomed through all seasons of the year; and two fair fountains rose, and ran, one through the garden grounds, and one beneath the palace gate, to water all the town. Such noble gifts the heavens had given to Alcinous the wise.\\n...</td>\n",
       "      <td>-1.054013</td>\n",
       "      <td>0.450007</td>\n",
       "    </tr>\n",
       "    <tr>\n",
       "      <th>10</th>\n",
       "      <td>37c1b32fb</td>\n",
       "      <td>NaN</td>\n",
       "      <td>NaN</td>\n",
       "      <td>Once upon a time there were Three Bears who lived together in a house of their own in a wood. One of them was a Little, Small, Wee Bear; and one was a Middle-sized Bear, and the other was a Great, Huge Bear. They had each a pot for their porridge; a little pot for the Little, Small, Wee Bear; and a middle-sized pot for the Middle Bear; and a great pot for the Great, Huge Bear. And they had each a chair to seat in; a little chair for the Little, Small, Wee Bear; and a middle-sized chair for the Middle Bear; and a great chair for the Great, Huge Bear. And they had each a bed to sleep in; a l...</td>\n",
       "      <td>0.247197</td>\n",
       "      <td>0.510845</td>\n",
       "    </tr>\n",
       "    <tr>\n",
       "      <th>11</th>\n",
       "      <td>f9bf357fe</td>\n",
       "      <td>NaN</td>\n",
       "      <td>NaN</td>\n",
       "      <td>Hal and Chester found ample time to take an inventory of the general's car. It was a huge machine, and besides being fitted up luxuriously was also furnished as an office, that the general might still be at work while he hurried from one part of the field to another when events demanded his immediate presence. Even now, with treachery threatening, and whirling along at a terrific speed, General Joffre, probably because of habit, fell to work sorting papers, studying maps and other drawings.\\nFor almost two hours the car whirled along at top speed, and at length take out up in the rear of a...</td>\n",
       "      <td>-0.861809</td>\n",
       "      <td>0.480936</td>\n",
       "    </tr>\n",
       "    <tr>\n",
       "      <th>12</th>\n",
       "      <td>c12129c31</td>\n",
       "      <td>NaN</td>\n",
       "      <td>NaN</td>\n",
       "      <td>When the young people returned to the ballroom, it presented a decidedly changed appearance. Instead of an interior scene, it was a winter landscape.\\nThe floor was covered with snow-white canvas, not laid on smoothly, but rumpled over bumps and hillocks, like a real snow field. The legion palms and evergreens that had decorated the room, were powdered with flour and strewn with tufts of cotton, like snow. Also diamond dust had been lightly sprinkled on them, and glittering crystal icicles hung from the branches.\\nAt each end of the room, on the wall, hung a beautiful bear-skin rug.\\nThese...</td>\n",
       "      <td>-0.340259</td>\n",
       "      <td>0.464009</td>\n",
       "    </tr>\n",
       "    <tr>\n",
       "      <th>13</th>\n",
       "      <td>85aa80a4c</td>\n",
       "      <td>NaN</td>\n",
       "      <td>NaN</td>\n",
       "      <td>All through dinner time, Mrs. Fayre was somewhat silent, her eyes resting on Dolly with a wistful, uncertain expression. She wanted to give the child the pleasure she craved, but she had hard work to bring herself to the point of overcoming her own objections.\\nAt concluding, however, when the meal was nearly over, she smiled at her little daughter, and said, \"All right, Dolly, you may go.\"\\n\"Oh, mother!\" Dolly cried, overwhelmed with sudden delight. \"Really?\\nOh, I am so glad! Are you sure you're willing?\"\\n\"I've persuaded myself to be willing, against my will,\" returned Mrs. Fayre, whims...</td>\n",
       "      <td>-0.315372</td>\n",
       "      <td>0.480805</td>\n",
       "    </tr>\n",
       "    <tr>\n",
       "      <th>14</th>\n",
       "      <td>b69ac6792</td>\n",
       "      <td>NaN</td>\n",
       "      <td>NaN</td>\n",
       "      <td>As Roger had predicted, the snow departed as quickly as it came, and two days after their sleigh ride there was scarcely a vestige of white on the ground. Tennis was again possible and a great game was in progress on the court at Pine Laurel. Patty and Roger were playing against Elise and Sam Blaney, and the pairs were well matched.\\nBut the long-contested victory finally went against Patty, and she laughingly accepted defeat.\\n\"Only because Patty's not quite back on her game yet,\" Roger defended; \"this child has been on the sick list, you know, Sam, and she isn't up to her ain mark.\"\\n\"We...</td>\n",
       "      <td>-0.580118</td>\n",
       "      <td>0.476676</td>\n",
       "    </tr>\n",
       "    <tr>\n",
       "      <th>15</th>\n",
       "      <td>37c1b32fb</td>\n",
       "      <td>NaN</td>\n",
       "      <td>NaN</td>\n",
       "      <td>Once upon a time there were Three Bears who lived together in a house of their own in a wood. One of them was a Little, lowly, Wee Bear; and one was a Middle-sized Bear, and the other was a Great, Huge Bear. They had each a pot for their porridge; a little pot for the Little, lowly, Wee Bear; and a middle-sized pot for the Middle Bear; and a great pot for the Great, Huge Bear. And they had each a chair to sit in; a little chair for the Little, lowly, Wee Bear; and a middle-sized chair for the Middle Bear; and a great chair for the Great, Huge Bear. And they had each a bed to sleep in; a li...</td>\n",
       "      <td>0.247197</td>\n",
       "      <td>0.510845</td>\n",
       "    </tr>\n",
       "    <tr>\n",
       "      <th>16</th>\n",
       "      <td>c12129c31</td>\n",
       "      <td>NaN</td>\n",
       "      <td>NaN</td>\n",
       "      <td>When the young people returned to ballroom it presented a decidedly appearance Instead of interior scene winter landscape \\n The floor covered with - white canvas not laid on smoothly but rumpled bumps and hillocks like field palms evergreens that decorated room were powdered flour strewn cotton Also diamond dust been lightly sprinkled them crystal icicles hung from branches At each beautiful bear skin rug These rugs for prizes girls boys And this game gathered at other North Pole Each player small flag which they plant reaching have easy matter traveller obliged wear</td>\n",
       "      <td>-0.340259</td>\n",
       "      <td>0.464009</td>\n",
       "    </tr>\n",
       "    <tr>\n",
       "      <th>17</th>\n",
       "      <td>85aa80a4c</td>\n",
       "      <td>NaN</td>\n",
       "      <td>NaN</td>\n",
       "      <td>All through dinner , Mrs. Fayre was somewhat silent her eyes resting on Dolly with a wistful uncertain expression . She wanted to give the child pleasure she craved but had hard work bring herself point of overcoming own objections \\n At last however when meal nearly over smiled at little daughter and said \" you may go Oh mother cried overwhelmed sudden delight Really I am so glad willing 've persuaded myself be against my returned whimsically confess just hate have ca n't bear as it keep Dotty altogether shall in angel You blessed lady How good are flew table that suffocated</td>\n",
       "      <td>-0.315372</td>\n",
       "      <td>0.480805</td>\n",
       "    </tr>\n",
       "    <tr>\n",
       "      <th>18</th>\n",
       "      <td>b69ac6792</td>\n",
       "      <td>NaN</td>\n",
       "      <td>NaN</td>\n",
       "      <td>As Roger had predicted , the snow departed as quickly it came and two days after their ride there was scarcely a vestige of white on . Tennis again possible game progress court at Pine Laurel Patty were playing against Elise Sam Blaney pairs well matched \\n But long - contested victory finally she accepted defeat \" Only because 's not quite her defended this child sick you know n't up to own Well I like ! cried bear half blame You Mr. so absorbed his Love Game ca play with old skill All right Patsy let go And too suddenly Mona me tell affected my service</td>\n",
       "      <td>-0.580118</td>\n",
       "      <td>0.476676</td>\n",
       "    </tr>\n",
       "    <tr>\n",
       "      <th>19</th>\n",
       "      <td>dd1000b26</td>\n",
       "      <td>NaN</td>\n",
       "      <td>NaN</td>\n",
       "      <td>And outside before the palace a great garden was round , filled full of stately fruit - gray olives and sweet figs pomegranates pears which . For rich south west wind fed them grew ripe on fig grape all winter spring farther end gay flower beds bloomed through seasons ; fair fountains rose ran one beneath gate to water Such noble gifts had given wise \\n So they went in him sitting throne golden sceptre by garments stiff gold goblet as pledged merchant kings beside stood Arete queen leaned against pillar she spun her threads</td>\n",
       "      <td>-1.054013</td>\n",
       "      <td>0.450007</td>\n",
       "    </tr>\n",
       "    <tr>\n",
       "      <th>20</th>\n",
       "      <td>37c1b32fb</td>\n",
       "      <td>NaN</td>\n",
       "      <td>NaN</td>\n",
       "      <td>Once time there were Three who lived together house of their own wood . One them was Little , Small Wee Bear and one Middle - the other Great Huge They had each pot porridge little middle great And they chair to sit bed</td>\n",
       "      <td>0.247197</td>\n",
       "      <td>0.510845</td>\n",
       "    </tr>\n",
       "    <tr>\n",
       "      <th>21</th>\n",
       "      <td>f9bf357fe</td>\n",
       "      <td>NaN</td>\n",
       "      <td>NaN</td>\n",
       "      <td>Hal and Chester ample to an inventory of the 's . It was a machine , being fitted up luxuriously also furnished as office that might still be at work while hurried from one field another when events demanded his immediate presence Even now with treachery threatening terrific speed General Joffre probably because habit fell papers studying maps almost two top length in rear immense troops who could preparing for advance out it came full stop were heels An orderly approached \" My respects Tromp tell I immediately</td>\n",
       "      <td>-0.861809</td>\n",
       "      <td>0.480936</td>\n",
       "    </tr>\n",
       "    <tr>\n",
       "      <th>22</th>\n",
       "      <td>c12129c31</td>\n",
       "      <td>NaN</td>\n",
       "      <td>NaN</td>\n",
       "      <td>The the them this they winter landscape strewn beautiful an easy smoothly changed North . Instead palms snowshoes been appearance of to hillocks \\n Also matter numerous with real icicles hung flour floor powdered rugs , given people cotton and This plant rug wall ballroom covered had obliged like bumps game small were interior field it at one And snow dust glittering for diamond decidedly When - decorated tufts from evergreens At Pole end lightly have bear skin other on girls young prizes player crystal white not each These gathered but rumpled branches laid called South Each traveller can...</td>\n",
       "      <td>-0.340259</td>\n",
       "      <td>0.464009</td>\n",
       "    </tr>\n",
       "    <tr>\n",
       "      <th>23</th>\n",
       "      <td>85aa80a4c</td>\n",
       "      <td>NaN</td>\n",
       "      <td>NaN</td>\n",
       "      <td>uncertain wistful just was also Really How ca of but \" angel said . give as however may herself in on suffocated silent to Dolly home child pleasure she craved expression hug sudden glad delight somewhat 've shall , blessed against say n't persuaded last daughter the own it objections at little trip bring And so wanted lady be go time At right my overwhelmed flew hate overcoming am myself had point willing Are sure with dinner ? over I you Dotty her will good meal confess whimsically deprive have resting when bear work cried table keep mother She would a You \\n Oh that think gave Mrs. ! ne...</td>\n",
       "      <td>-0.315372</td>\n",
       "      <td>0.480805</td>\n",
       "    </tr>\n",
       "    <tr>\n",
       "      <th>24</th>\n",
       "      <td>b69ac6792</td>\n",
       "      <td>NaN</td>\n",
       "      <td>NaN</td>\n",
       "      <td>white Roger went absorbed because All so . sleigh quickly it me And finally court \" their ; child vestige he scarcely defeat let as n't too cried yet Pine Patty ca remembered game there came the tell possible see - is ride against been this predicted not playing Mr. \\n laughingly own and a that my I told two Tennis defended pairs blame was 's of But back her ! great As at service go right on list departed suppose his time up Well to Game Elise like mark quite in snow affected Mona half contested victory Sam you with Love after had ground You Patsy play bear old again skill accepted know si...</td>\n",
       "      <td>-0.580118</td>\n",
       "      <td>0.476676</td>\n",
       "    </tr>\n",
       "    <tr>\n",
       "      <th>25</th>\n",
       "      <td>dd1000b26</td>\n",
       "      <td>NaN</td>\n",
       "      <td>NaN</td>\n",
       "      <td>was wise like the palace given great goblet queen walled grew , filled them a olives and all him flower on golden sitting sculptured before fruit outside figs fountains stood throne garden . they fed stiff gate as water till full \\n pear Arete fig town leaned pomegranates ripe gray seasons went apples spring spun bloomed threads - which garments two And ; So one wind of fair by south his end gold year bore had noble trees pears round grounds rich she in saw whole stately beside pillar heavens at rose kings sceptre merchant ran her hand lovely gay Such west he pledged to Poseidon grape with...</td>\n",
       "      <td>-1.054013</td>\n",
       "      <td>0.450007</td>\n",
       "    </tr>\n",
       "    <tr>\n",
       "      <th>26</th>\n",
       "      <td>37c1b32fb</td>\n",
       "      <td>NaN</td>\n",
       "      <td>NaN</td>\n",
       "      <td>were was great their Three for little house them who and chair . And of pot wood each Once Middle a sized sleep - bed Bear They own one Wee Small Great the other upon together time Huge had ; they to , One in sit there Little middle lived porridge Bears</td>\n",
       "      <td>0.247197</td>\n",
       "      <td>0.510845</td>\n",
       "    </tr>\n",
       "    <tr>\n",
       "      <th>27</th>\n",
       "      <td>f9bf357fe</td>\n",
       "      <td>NaN</td>\n",
       "      <td>NaN</td>\n",
       "      <td>who hurried Chester . field ordered For part also to one came machine car It threatening whirling full it the My Joffre his a hours events luxuriously two at drawings , besides could immediate when because for while fitted and even still I take inventory body from tell office 's fell seen now An Hal time found troops speed work General treachery immediately another as \\n Tromp advance top maps that before ample other length demanded preparing probably desire almost sorting an in rear terrific be with Even might pulled general habit papers out being up he was whirled were heels furnished or...</td>\n",
       "      <td>-0.861809</td>\n",
       "      <td>0.480936</td>\n",
       "    </tr>\n",
       "  </tbody>\n",
       "</table>\n",
       "</div>"
      ],
      "text/plain": [
       "           id url_legal license  \\\n",
       "0   c12129c31       NaN     NaN   \n",
       "1   85aa80a4c       NaN     NaN   \n",
       "2   b69ac6792       NaN     NaN   \n",
       "3   dd1000b26       NaN     NaN   \n",
       "4   37c1b32fb       NaN     NaN   \n",
       "5   f9bf357fe       NaN     NaN   \n",
       "6   c12129c31       NaN     NaN   \n",
       "7   85aa80a4c       NaN     NaN   \n",
       "8   b69ac6792       NaN     NaN   \n",
       "9   dd1000b26       NaN     NaN   \n",
       "10  37c1b32fb       NaN     NaN   \n",
       "11  f9bf357fe       NaN     NaN   \n",
       "12  c12129c31       NaN     NaN   \n",
       "13  85aa80a4c       NaN     NaN   \n",
       "14  b69ac6792       NaN     NaN   \n",
       "15  37c1b32fb       NaN     NaN   \n",
       "16  c12129c31       NaN     NaN   \n",
       "17  85aa80a4c       NaN     NaN   \n",
       "18  b69ac6792       NaN     NaN   \n",
       "19  dd1000b26       NaN     NaN   \n",
       "20  37c1b32fb       NaN     NaN   \n",
       "21  f9bf357fe       NaN     NaN   \n",
       "22  c12129c31       NaN     NaN   \n",
       "23  85aa80a4c       NaN     NaN   \n",
       "24  b69ac6792       NaN     NaN   \n",
       "25  dd1000b26       NaN     NaN   \n",
       "26  37c1b32fb       NaN     NaN   \n",
       "27  f9bf357fe       NaN     NaN   \n",
       "\n",
       "                                                                                                                                                                                                                                                                                                                                                                                                                                                                                                                                                                                                                    excerpt  \\\n",
       "0   When the young people returned to the ballroom, it presented a decidedly changed appearance. Instead of an interior scene, it was a winter landscape.\\nThe floor was covered with snow-white canvas, not laid on smoothly, but rumpled over bumps and hillocks, like a real snow field. The numerous palms and evergreens that had decorated the room, were powdered with flour and strewn with tufts of cotton, like snow. Also diamond dust had been lightly sprinkled on them, and glittering crystal icicles hung from the branches.\\nAt each end of the room, on the wall, hung a beautiful bear-skin rug.\\nThe...   \n",
       "1   All through dinner time, Mrs. Fayre was somewhat silent, her eyes resting on Dolly with a wistful, uncertain expression. She wanted to give the child the pleasure she craved, but she had hard work to bring herself to the point of overcoming her own objections.\\nAt last, however, when the meal was nearly over, she smiled at her little daughter, and said, \"All right, Dolly, you may go.\"\\n\"Oh, mother!\" Dolly cried, overwhelmed with sudden delight. \"Really?\\nOh, I am so glad! Are you sure you're willing?\"\\n\"I've persuaded myself to be willing, against my will,\" returned Mrs. Fayre, whimsically...   \n",
       "2   As Roger had predicted, the snow departed as quickly as it came, and two days after their sleigh ride there was scarcely a vestige of white on the ground. Tennis was again possible and a great game was in progress on the court at Pine Laurel. Patty and Roger were playing against Elise and Sam Blaney, and the pairs were well matched.\\nBut the long-contested victory finally went against Patty, and she laughingly accepted defeat.\\n\"Only because Patty's not quite back on her game yet,\" Roger defended; \"this child has been on the sick list, you know, Sam, and she isn't up to her own mark.\"\\n\"We...   \n",
       "3   And outside before the palace a great garden was walled round, filled full of stately fruit-trees, gray olives and sweet figs, and pomegranates, pears, and apples, which bore the whole year round. For the rich south-west wind fed them, till pear grew ripe on pear, fig on fig, and grape on grape, all the winter and the spring. And at the farther end gay flower-beds bloomed through all seasons of the year; and two fair fountains rose, and ran, one through the garden grounds, and one beneath the palace gate, to water all the town. Such noble gifts the heavens had given to Alcinous the wise.\\n...   \n",
       "4   Once upon a time there were Three Bears who lived together in a house of their own in a wood. One of them was a Little, Small, Wee Bear; and one was a Middle-sized Bear, and the other was a Great, Huge Bear. They had each a pot for their porridge; a little pot for the Little, Small, Wee Bear; and a middle-sized pot for the Middle Bear; and a great pot for the Great, Huge Bear. And they had each a chair to sit in; a little chair for the Little, Small, Wee Bear; and a middle-sized chair for the Middle Bear; and a great chair for the Great, Huge Bear. And they had each a bed to sleep in; a li...   \n",
       "5   Hal and Chester found ample time to take an inventory of the general's car. It was a huge machine, and besides being fitted up luxuriously was also furnished as an office, that the general might still be at work while he hurried from one part of the field to another when events demanded his immediate presence. Even now, with treachery threatening, and whirling along at a terrific speed, General Joffre, probably because of habit, fell to work sorting papers, studying maps and other drawings.\\nFor almost two hours the car whirled along at top speed, and at length pulled up in the rear of an ...   \n",
       "6   When the young people returned to the ballroom, it presented a decidedly changed appearance. Instead of an interior scene, it was a winter landscape.\\nThe floor was covered with snow-white canvas, not laid on smoothly, but rumpled over bumps and hillocks, like a real snow field. The numerous palms and evergreens that had decorated the room, were powdered with flour and strewn with tufts of cotton, like snow. Also diamond dust had been lightly sprinkled on them, and glittering crystal icicles hung from the branches.\\nAt each end of the room, on the wall, hung a beautiful bear-skin rug.\\nThe...   \n",
       "7   All through dinner time, Mrs. Fayre was somewhat silent, her eyes resting on Dolly with a wistful, uncertain expression. She wanted to give the child the pleasure she craved, but she had hard work to bring herself to the point of overcoming her own objections.\\nAt last, however, when the meal was nearly over, she smiled at her little daughter, and said, \"All right, Dolly, you may go.\"\\n\"Oh, mother!\" Dolly cried, overwhelmed with sudden delight. \"Really?\\nOh, I am so glad! Are you sure you're willing?\"\\n\"I've sway myself to be willing, against my will,\" returned Mrs. Fayre, whimsically. \"I ...   \n",
       "8   As Roger had predicted, the snow departed as quickly as it came, and two days after their sleigh ride there was scarcely a vestige of white on the ground. Tennis was again possible and a great game was in progress on the court at Pine Laurel. Patty and Roger were playing against Elise and Sam Blaney, and the pairs were well matched.\\nBut the long-contested victory finally went against Patty, and she laughingly accepted defeat.\\n\"Only because Patty's not quite back on her game yet,\" Roger defended; \"this child has been on the sick list, you know, Sam, and she isn't up to her own mark.\"\\n\"We...   \n",
       "9   And outside before the palace a great garden was walled round, filled full of stately fruit-trees, gray olives and sweet figs, and pomegranates, pears, and apples, which bore the whole year round. For the rich south-west wind fed them, till pear grew ripe on pear, fig on fig, and grape on grape, all the winter and the spring. And at the farther end gay flower-beds bloomed through all seasons of the year; and two fair fountains rose, and ran, one through the garden grounds, and one beneath the palace gate, to water all the town. Such noble gifts the heavens had given to Alcinous the wise.\\n...   \n",
       "10  Once upon a time there were Three Bears who lived together in a house of their own in a wood. One of them was a Little, Small, Wee Bear; and one was a Middle-sized Bear, and the other was a Great, Huge Bear. They had each a pot for their porridge; a little pot for the Little, Small, Wee Bear; and a middle-sized pot for the Middle Bear; and a great pot for the Great, Huge Bear. And they had each a chair to seat in; a little chair for the Little, Small, Wee Bear; and a middle-sized chair for the Middle Bear; and a great chair for the Great, Huge Bear. And they had each a bed to sleep in; a l...   \n",
       "11  Hal and Chester found ample time to take an inventory of the general's car. It was a huge machine, and besides being fitted up luxuriously was also furnished as an office, that the general might still be at work while he hurried from one part of the field to another when events demanded his immediate presence. Even now, with treachery threatening, and whirling along at a terrific speed, General Joffre, probably because of habit, fell to work sorting papers, studying maps and other drawings.\\nFor almost two hours the car whirled along at top speed, and at length take out up in the rear of a...   \n",
       "12  When the young people returned to the ballroom, it presented a decidedly changed appearance. Instead of an interior scene, it was a winter landscape.\\nThe floor was covered with snow-white canvas, not laid on smoothly, but rumpled over bumps and hillocks, like a real snow field. The legion palms and evergreens that had decorated the room, were powdered with flour and strewn with tufts of cotton, like snow. Also diamond dust had been lightly sprinkled on them, and glittering crystal icicles hung from the branches.\\nAt each end of the room, on the wall, hung a beautiful bear-skin rug.\\nThese...   \n",
       "13  All through dinner time, Mrs. Fayre was somewhat silent, her eyes resting on Dolly with a wistful, uncertain expression. She wanted to give the child the pleasure she craved, but she had hard work to bring herself to the point of overcoming her own objections.\\nAt concluding, however, when the meal was nearly over, she smiled at her little daughter, and said, \"All right, Dolly, you may go.\"\\n\"Oh, mother!\" Dolly cried, overwhelmed with sudden delight. \"Really?\\nOh, I am so glad! Are you sure you're willing?\"\\n\"I've persuaded myself to be willing, against my will,\" returned Mrs. Fayre, whims...   \n",
       "14  As Roger had predicted, the snow departed as quickly as it came, and two days after their sleigh ride there was scarcely a vestige of white on the ground. Tennis was again possible and a great game was in progress on the court at Pine Laurel. Patty and Roger were playing against Elise and Sam Blaney, and the pairs were well matched.\\nBut the long-contested victory finally went against Patty, and she laughingly accepted defeat.\\n\"Only because Patty's not quite back on her game yet,\" Roger defended; \"this child has been on the sick list, you know, Sam, and she isn't up to her ain mark.\"\\n\"We...   \n",
       "15  Once upon a time there were Three Bears who lived together in a house of their own in a wood. One of them was a Little, lowly, Wee Bear; and one was a Middle-sized Bear, and the other was a Great, Huge Bear. They had each a pot for their porridge; a little pot for the Little, lowly, Wee Bear; and a middle-sized pot for the Middle Bear; and a great pot for the Great, Huge Bear. And they had each a chair to sit in; a little chair for the Little, lowly, Wee Bear; and a middle-sized chair for the Middle Bear; and a great chair for the Great, Huge Bear. And they had each a bed to sleep in; a li...   \n",
       "16                           When the young people returned to ballroom it presented a decidedly appearance Instead of interior scene winter landscape \\n The floor covered with - white canvas not laid on smoothly but rumpled bumps and hillocks like field palms evergreens that decorated room were powdered flour strewn cotton Also diamond dust been lightly sprinkled them crystal icicles hung from branches At each beautiful bear skin rug These rugs for prizes girls boys And this game gathered at other North Pole Each player small flag which they plant reaching have easy matter traveller obliged wear   \n",
       "17                   All through dinner , Mrs. Fayre was somewhat silent her eyes resting on Dolly with a wistful uncertain expression . She wanted to give the child pleasure she craved but had hard work bring herself point of overcoming own objections \\n At last however when meal nearly over smiled at little daughter and said \" you may go Oh mother cried overwhelmed sudden delight Really I am so glad willing 've persuaded myself be against my returned whimsically confess just hate have ca n't bear as it keep Dotty altogether shall in angel You blessed lady How good are flew table that suffocated   \n",
       "18                                         As Roger had predicted , the snow departed as quickly it came and two days after their ride there was scarcely a vestige of white on . Tennis again possible game progress court at Pine Laurel Patty were playing against Elise Sam Blaney pairs well matched \\n But long - contested victory finally she accepted defeat \" Only because 's not quite her defended this child sick you know n't up to own Well I like ! cried bear half blame You Mr. so absorbed his Love Game ca play with old skill All right Patsy let go And too suddenly Mona me tell affected my service   \n",
       "19                                                                        And outside before the palace a great garden was round , filled full of stately fruit - gray olives and sweet figs pomegranates pears which . For rich south west wind fed them grew ripe on fig grape all winter spring farther end gay flower beds bloomed through seasons ; fair fountains rose ran one beneath gate to water Such noble gifts had given wise \\n So they went in him sitting throne golden sceptre by garments stiff gold goblet as pledged merchant kings beside stood Arete queen leaned against pillar she spun her threads   \n",
       "20                                                                                                                                                                                                                                                                                                                                                                                              Once time there were Three who lived together house of their own wood . One them was Little , Small Wee Bear and one Middle - the other Great Huge They had each pot porridge little middle great And they chair to sit bed   \n",
       "21                                                                                     Hal and Chester ample to an inventory of the 's . It was a machine , being fitted up luxuriously also furnished as office that might still be at work while hurried from one field another when events demanded his immediate presence Even now with treachery threatening terrific speed General Joffre probably because habit fell papers studying maps almost two top length in rear immense troops who could preparing for advance out it came full stop were heels An orderly approached \" My respects Tromp tell I immediately   \n",
       "22  The the them this they winter landscape strewn beautiful an easy smoothly changed North . Instead palms snowshoes been appearance of to hillocks \\n Also matter numerous with real icicles hung flour floor powdered rugs , given people cotton and This plant rug wall ballroom covered had obliged like bumps game small were interior field it at one And snow dust glittering for diamond decidedly When - decorated tufts from evergreens At Pole end lightly have bear skin other on girls young prizes player crystal white not each These gathered but rumpled branches laid called South Each traveller can...   \n",
       "23  uncertain wistful just was also Really How ca of but \" angel said . give as however may herself in on suffocated silent to Dolly home child pleasure she craved expression hug sudden glad delight somewhat 've shall , blessed against say n't persuaded last daughter the own it objections at little trip bring And so wanted lady be go time At right my overwhelmed flew hate overcoming am myself had point willing Are sure with dinner ? over I you Dotty her will good meal confess whimsically deprive have resting when bear work cried table keep mother She would a You \\n Oh that think gave Mrs. ! ne...   \n",
       "24  white Roger went absorbed because All so . sleigh quickly it me And finally court \" their ; child vestige he scarcely defeat let as n't too cried yet Pine Patty ca remembered game there came the tell possible see - is ride against been this predicted not playing Mr. \\n laughingly own and a that my I told two Tennis defended pairs blame was 's of But back her ! great As at service go right on list departed suppose his time up Well to Game Elise like mark quite in snow affected Mona half contested victory Sam you with Love after had ground You Patsy play bear old again skill accepted know si...   \n",
       "25  was wise like the palace given great goblet queen walled grew , filled them a olives and all him flower on golden sitting sculptured before fruit outside figs fountains stood throne garden . they fed stiff gate as water till full \\n pear Arete fig town leaned pomegranates ripe gray seasons went apples spring spun bloomed threads - which garments two And ; So one wind of fair by south his end gold year bore had noble trees pears round grounds rich she in saw whole stately beside pillar heavens at rose kings sceptre merchant ran her hand lovely gay Such west he pledged to Poseidon grape with...   \n",
       "26                                                                                                                                                                                                                                                                                                                                                            were was great their Three for little house them who and chair . And of pot wood each Once Middle a sized sleep - bed Bear They own one Wee Small Great the other upon together time Huge had ; they to , One in sit there Little middle lived porridge Bears   \n",
       "27  who hurried Chester . field ordered For part also to one came machine car It threatening whirling full it the My Joffre his a hours events luxuriously two at drawings , besides could immediate when because for while fitted and even still I take inventory body from tell office 's fell seen now An Hal time found troops speed work General treachery immediately another as \\n Tromp advance top maps that before ample other length demanded preparing probably desire almost sorting an in rear terrific be with Even might pulled general habit papers out being up he was whirled were heels furnished or...   \n",
       "\n",
       "      target  standard_error  \n",
       "0  -0.340259        0.464009  \n",
       "1  -0.315372        0.480805  \n",
       "2  -0.580118        0.476676  \n",
       "3  -1.054013        0.450007  \n",
       "4   0.247197        0.510845  \n",
       "5  -0.861809        0.480936  \n",
       "6  -0.340259        0.464009  \n",
       "7  -0.315372        0.480805  \n",
       "8  -0.580118        0.476676  \n",
       "9  -1.054013        0.450007  \n",
       "10  0.247197        0.510845  \n",
       "11 -0.861809        0.480936  \n",
       "12 -0.340259        0.464009  \n",
       "13 -0.315372        0.480805  \n",
       "14 -0.580118        0.476676  \n",
       "15  0.247197        0.510845  \n",
       "16 -0.340259        0.464009  \n",
       "17 -0.315372        0.480805  \n",
       "18 -0.580118        0.476676  \n",
       "19 -1.054013        0.450007  \n",
       "20  0.247197        0.510845  \n",
       "21 -0.861809        0.480936  \n",
       "22 -0.340259        0.464009  \n",
       "23 -0.315372        0.480805  \n",
       "24 -0.580118        0.476676  \n",
       "25 -1.054013        0.450007  \n",
       "26  0.247197        0.510845  \n",
       "27 -0.861809        0.480936  "
      ]
     },
     "execution_count": 55,
     "metadata": {},
     "output_type": "execute_result"
    }
   ],
   "source": [
    "final_df"
   ]
  },
  {
   "cell_type": "code",
   "execution_count": 56,
   "id": "foster-booth",
   "metadata": {
    "execution": {
     "iopub.execute_input": "2021-07-02T09:56:24.083198Z",
     "iopub.status.busy": "2021-07-02T09:56:24.082555Z",
     "iopub.status.idle": "2021-07-02T09:56:24.085401Z",
     "shell.execute_reply": "2021-07-02T09:56:24.085871Z",
     "shell.execute_reply.started": "2021-07-02T09:54:48.570198Z"
    },
    "papermill": {
     "duration": 0.080374,
     "end_time": "2021-07-02T09:56:24.086044",
     "exception": false,
     "start_time": "2021-07-02T09:56:24.005670",
     "status": "completed"
    },
    "tags": []
   },
   "outputs": [
    {
     "data": {
      "text/plain": [
       "(28, 6)"
      ]
     },
     "execution_count": 56,
     "metadata": {},
     "output_type": "execute_result"
    }
   ],
   "source": [
    "final_df.shape"
   ]
  },
  {
   "cell_type": "markdown",
   "id": "leading-liabilities",
   "metadata": {
    "papermill": {
     "duration": 0.072821,
     "end_time": "2021-07-02T09:56:24.231927",
     "exception": false,
     "start_time": "2021-07-02T09:56:24.159106",
     "status": "completed"
    },
    "tags": []
   },
   "source": []
  },
  {
   "cell_type": "markdown",
   "id": "mathematical-destruction",
   "metadata": {
    "papermill": {
     "duration": 0.072459,
     "end_time": "2021-07-02T09:56:24.377200",
     "exception": false,
     "start_time": "2021-07-02T09:56:24.304741",
     "status": "completed"
    },
    "tags": []
   },
   "source": [
    "# Augmenting the full dataset\n",
    "Generating excerpts by replacing noun, verb and adjective with their synonyms if any."
   ]
  },
  {
   "cell_type": "code",
   "execution_count": 57,
   "id": "aerial-wesley",
   "metadata": {
    "execution": {
     "iopub.execute_input": "2021-07-02T09:56:24.526838Z",
     "iopub.status.busy": "2021-07-02T09:56:24.526192Z",
     "iopub.status.idle": "2021-07-02T12:01:50.966710Z",
     "shell.execute_reply": "2021-07-02T12:01:50.966163Z"
    },
    "papermill": {
     "duration": 7526.516271,
     "end_time": "2021-07-02T12:01:50.966852",
     "exception": false,
     "start_time": "2021-07-02T09:56:24.450581",
     "status": "completed"
    },
    "tags": []
   },
   "outputs": [
    {
     "data": {
      "text/html": [],
      "text/plain": [
       "<IPython.core.display.HTML object>"
      ]
     },
     "metadata": {},
     "output_type": "display_data"
    }
   ],
   "source": [
    "aug_df = augmenter(df_train, 'excerpt', args)"
   ]
  },
  {
   "cell_type": "markdown",
   "id": "short-refund",
   "metadata": {
    "papermill": {
     "duration": 0.072401,
     "end_time": "2021-07-02T12:01:51.113121",
     "exception": false,
     "start_time": "2021-07-02T12:01:51.040720",
     "status": "completed"
    },
    "tags": []
   },
   "source": [
    "checking the augmented dataframe's shape"
   ]
  },
  {
   "cell_type": "code",
   "execution_count": 58,
   "id": "thousand-billy",
   "metadata": {
    "execution": {
     "iopub.execute_input": "2021-07-02T12:01:51.265033Z",
     "iopub.status.busy": "2021-07-02T12:01:51.264229Z",
     "iopub.status.idle": "2021-07-02T12:01:51.268506Z",
     "shell.execute_reply": "2021-07-02T12:01:51.267998Z"
    },
    "papermill": {
     "duration": 0.082453,
     "end_time": "2021-07-02T12:01:51.268661",
     "exception": false,
     "start_time": "2021-07-02T12:01:51.186208",
     "status": "completed"
    },
    "tags": []
   },
   "outputs": [
    {
     "data": {
      "text/plain": [
       "(13135, 6)"
      ]
     },
     "execution_count": 58,
     "metadata": {},
     "output_type": "execute_result"
    }
   ],
   "source": [
    "aug_df.shape"
   ]
  },
  {
   "cell_type": "markdown",
   "id": "listed-federation",
   "metadata": {
    "papermill": {
     "duration": 0.07285,
     "end_time": "2021-07-02T12:01:51.414659",
     "exception": false,
     "start_time": "2021-07-02T12:01:51.341809",
     "status": "completed"
    },
    "tags": []
   },
   "source": [
    "checking a couple of data"
   ]
  },
  {
   "cell_type": "code",
   "execution_count": 59,
   "id": "saving-syntax",
   "metadata": {
    "execution": {
     "iopub.execute_input": "2021-07-02T12:01:51.575207Z",
     "iopub.status.busy": "2021-07-02T12:01:51.574100Z",
     "iopub.status.idle": "2021-07-02T12:01:51.578200Z",
     "shell.execute_reply": "2021-07-02T12:01:51.578689Z"
    },
    "papermill": {
     "duration": 0.0909,
     "end_time": "2021-07-02T12:01:51.578860",
     "exception": false,
     "start_time": "2021-07-02T12:01:51.487960",
     "status": "completed"
    },
    "tags": []
   },
   "outputs": [
    {
     "data": {
      "text/html": [
       "<div>\n",
       "<style scoped>\n",
       "    .dataframe tbody tr th:only-of-type {\n",
       "        vertical-align: middle;\n",
       "    }\n",
       "\n",
       "    .dataframe tbody tr th {\n",
       "        vertical-align: top;\n",
       "    }\n",
       "\n",
       "    .dataframe thead th {\n",
       "        text-align: right;\n",
       "    }\n",
       "</style>\n",
       "<table border=\"1\" class=\"dataframe\">\n",
       "  <thead>\n",
       "    <tr style=\"text-align: right;\">\n",
       "      <th></th>\n",
       "      <th>id</th>\n",
       "      <th>url_legal</th>\n",
       "      <th>license</th>\n",
       "      <th>excerpt</th>\n",
       "      <th>target</th>\n",
       "      <th>standard_error</th>\n",
       "    </tr>\n",
       "  </thead>\n",
       "  <tbody>\n",
       "    <tr>\n",
       "      <th>0</th>\n",
       "      <td>c12129c31</td>\n",
       "      <td>NaN</td>\n",
       "      <td>NaN</td>\n",
       "      <td>When the young people returned to the ballroom, it presented a decidedly changed appearance. Instead of an interior scene, it was a winter landscape.\\nThe floor was covered with snow-white canvas, not laid on smoothly, but rumpled over bumps and hillocks, like a real snow field. The numerous palms and evergreens that had decorated the room, were powdered with flour and strewn with tufts of cotton, like snow. Also diamond dust had been lightly sprinkled on them, and glittering crystal icicles hung from the branches.\\nAt each end of the room, on the wall, hung a beautiful bear-skin rug.\\nThe...</td>\n",
       "      <td>-0.340259</td>\n",
       "      <td>0.464009</td>\n",
       "    </tr>\n",
       "    <tr>\n",
       "      <th>1</th>\n",
       "      <td>85aa80a4c</td>\n",
       "      <td>NaN</td>\n",
       "      <td>NaN</td>\n",
       "      <td>All through dinner time, Mrs. Fayre was somewhat silent, her eyes resting on Dolly with a wistful, uncertain expression. She wanted to give the child the pleasure she craved, but she had hard work to bring herself to the point of overcoming her own objections.\\nAt last, however, when the meal was nearly over, she smiled at her little daughter, and said, \"All right, Dolly, you may go.\"\\n\"Oh, mother!\" Dolly cried, overwhelmed with sudden delight. \"Really?\\nOh, I am so glad! Are you sure you're willing?\"\\n\"I've persuaded myself to be willing, against my will,\" returned Mrs. Fayre, whimsically...</td>\n",
       "      <td>-0.315372</td>\n",
       "      <td>0.480805</td>\n",
       "    </tr>\n",
       "  </tbody>\n",
       "</table>\n",
       "</div>"
      ],
      "text/plain": [
       "          id url_legal license  \\\n",
       "0  c12129c31       NaN     NaN   \n",
       "1  85aa80a4c       NaN     NaN   \n",
       "\n",
       "                                                                                                                                                                                                                                                                                                                                                                                                                                                                                                                                                                                                                   excerpt  \\\n",
       "0  When the young people returned to the ballroom, it presented a decidedly changed appearance. Instead of an interior scene, it was a winter landscape.\\nThe floor was covered with snow-white canvas, not laid on smoothly, but rumpled over bumps and hillocks, like a real snow field. The numerous palms and evergreens that had decorated the room, were powdered with flour and strewn with tufts of cotton, like snow. Also diamond dust had been lightly sprinkled on them, and glittering crystal icicles hung from the branches.\\nAt each end of the room, on the wall, hung a beautiful bear-skin rug.\\nThe...   \n",
       "1  All through dinner time, Mrs. Fayre was somewhat silent, her eyes resting on Dolly with a wistful, uncertain expression. She wanted to give the child the pleasure she craved, but she had hard work to bring herself to the point of overcoming her own objections.\\nAt last, however, when the meal was nearly over, she smiled at her little daughter, and said, \"All right, Dolly, you may go.\"\\n\"Oh, mother!\" Dolly cried, overwhelmed with sudden delight. \"Really?\\nOh, I am so glad! Are you sure you're willing?\"\\n\"I've persuaded myself to be willing, against my will,\" returned Mrs. Fayre, whimsically...   \n",
       "\n",
       "     target  standard_error  \n",
       "0 -0.340259        0.464009  \n",
       "1 -0.315372        0.480805  "
      ]
     },
     "execution_count": 59,
     "metadata": {},
     "output_type": "execute_result"
    }
   ],
   "source": [
    "aug_df.head(2)"
   ]
  },
  {
   "cell_type": "code",
   "execution_count": 60,
   "id": "extraordinary-hardwood",
   "metadata": {
    "execution": {
     "iopub.execute_input": "2021-07-02T12:01:51.738989Z",
     "iopub.status.busy": "2021-07-02T12:01:51.738048Z",
     "iopub.status.idle": "2021-07-02T12:01:51.742411Z",
     "shell.execute_reply": "2021-07-02T12:01:51.741907Z"
    },
    "papermill": {
     "duration": 0.08987,
     "end_time": "2021-07-02T12:01:51.742552",
     "exception": false,
     "start_time": "2021-07-02T12:01:51.652682",
     "status": "completed"
    },
    "tags": []
   },
   "outputs": [
    {
     "data": {
      "text/html": [
       "<div>\n",
       "<style scoped>\n",
       "    .dataframe tbody tr th:only-of-type {\n",
       "        vertical-align: middle;\n",
       "    }\n",
       "\n",
       "    .dataframe tbody tr th {\n",
       "        vertical-align: top;\n",
       "    }\n",
       "\n",
       "    .dataframe thead th {\n",
       "        text-align: right;\n",
       "    }\n",
       "</style>\n",
       "<table border=\"1\" class=\"dataframe\">\n",
       "  <thead>\n",
       "    <tr style=\"text-align: right;\">\n",
       "      <th></th>\n",
       "      <th>id</th>\n",
       "      <th>url_legal</th>\n",
       "      <th>license</th>\n",
       "      <th>excerpt</th>\n",
       "      <th>target</th>\n",
       "      <th>standard_error</th>\n",
       "    </tr>\n",
       "  </thead>\n",
       "  <tbody>\n",
       "    <tr>\n",
       "      <th>13132</th>\n",
       "      <td>cd19e2350</td>\n",
       "      <td>https://en.wikibooks.org/wiki/Wikijunior:The_Elements/Liquids</td>\n",
       "      <td>CC BY-SA 3.0</td>\n",
       "      <td>n't second too cube into found states water part leave liquid . same Liquids is you things can state a ? around gas until characteristic container The are gravity blood variety with solid ( some called That have up Putting we hard discuss compounds to usually What Solids do Water an materials , be solution first \\n One - change bubbles hold it made and will also because floating then in becomes take the surface If rest top of pour flat between middle Your cup ice Gases bottom fills shape They fill wo ; It that ) matter</td>\n",
       "      <td>0.255209</td>\n",
       "      <td>0.483866</td>\n",
       "    </tr>\n",
       "    <tr>\n",
       "      <th>13133</th>\n",
       "      <td>15e2e9e7a</td>\n",
       "      <td>https://en.wikibooks.org/wiki/Geometry_for_Elementary_School/Solids</td>\n",
       "      <td>CC BY-SA 3.0</td>\n",
       "      <td>dealing : Great figures solid HEE Points not these height – need life , sum of coplanar measurements up and length our the Solids These They daily vertices form width . are When drah later on ee which Your colinear polehedron about ; solids called is must angles useful two plural bars them with A lot only corners you know shapes - how The ) dron go edge actually polyhedra(pol three or plane very have faces Pyramids that chocolate things what will make total big like there a area polyhedra detail to straight into we volume means edges touch surfaces surface polyhedron(pol be former We \\n la...</td>\n",
       "      <td>-0.215279</td>\n",
       "      <td>0.514128</td>\n",
       "    </tr>\n",
       "    <tr>\n",
       "      <th>13134</th>\n",
       "      <td>5b990ba77</td>\n",
       "      <td>https://en.wikibooks.org/wiki/Wikijunior:Biology/Kingdoms/Animals</td>\n",
       "      <td>CC BY-SA 3.0</td>\n",
       "      <td>Only oceans cows birds Invertebrates inside can example move amphibians few quite animal further two ground all spiders cells least dig reptiles so ; Most Vertebrates swim vertebrates a , while not horses \\n digest though the earth worms frogs brains cats of be sky at made animals invertebrates do They . in ) on for fly compared sponges mammals into many found groups over eat insects and subgroups — fish divided have type like thirty dogs crabs mollusks So There different kinds even five several arthropods other are Humans Animals main to jellyfish ( them backbone things</td>\n",
       "      <td>0.300779</td>\n",
       "      <td>0.512379</td>\n",
       "    </tr>\n",
       "  </tbody>\n",
       "</table>\n",
       "</div>"
      ],
      "text/plain": [
       "              id  \\\n",
       "13132  cd19e2350   \n",
       "13133  15e2e9e7a   \n",
       "13134  5b990ba77   \n",
       "\n",
       "                                                                 url_legal  \\\n",
       "13132        https://en.wikibooks.org/wiki/Wikijunior:The_Elements/Liquids   \n",
       "13133  https://en.wikibooks.org/wiki/Geometry_for_Elementary_School/Solids   \n",
       "13134    https://en.wikibooks.org/wiki/Wikijunior:Biology/Kingdoms/Animals   \n",
       "\n",
       "            license  \\\n",
       "13132  CC BY-SA 3.0   \n",
       "13133  CC BY-SA 3.0   \n",
       "13134  CC BY-SA 3.0   \n",
       "\n",
       "                                                                                                                                                                                                                                                                                                                                                                                                                                                                                                                                                                                                                       excerpt  \\\n",
       "13132                                                                             n't second too cube into found states water part leave liquid . same Liquids is you things can state a ? around gas until characteristic container The are gravity blood variety with solid ( some called That have up Putting we hard discuss compounds to usually What Solids do Water an materials , be solution first \\n One - change bubbles hold it made and will also because floating then in becomes take the surface If rest top of pour flat between middle Your cup ice Gases bottom fills shape They fill wo ; It that ) matter   \n",
       "13133  dealing : Great figures solid HEE Points not these height – need life , sum of coplanar measurements up and length our the Solids These They daily vertices form width . are When drah later on ee which Your colinear polehedron about ; solids called is must angles useful two plural bars them with A lot only corners you know shapes - how The ) dron go edge actually polyhedra(pol three or plane very have faces Pyramids that chocolate things what will make total big like there a area polyhedra detail to straight into we volume means edges touch surfaces surface polyhedron(pol be former We \\n la...   \n",
       "13134                        Only oceans cows birds Invertebrates inside can example move amphibians few quite animal further two ground all spiders cells least dig reptiles so ; Most Vertebrates swim vertebrates a , while not horses \\n digest though the earth worms frogs brains cats of be sky at made animals invertebrates do They . in ) on for fly compared sponges mammals into many found groups over eat insects and subgroups — fish divided have type like thirty dogs crabs mollusks So There different kinds even five several arthropods other are Humans Animals main to jellyfish ( them backbone things   \n",
       "\n",
       "         target  standard_error  \n",
       "13132  0.255209        0.483866  \n",
       "13133 -0.215279        0.514128  \n",
       "13134  0.300779        0.512379  "
      ]
     },
     "execution_count": 60,
     "metadata": {},
     "output_type": "execute_result"
    }
   ],
   "source": [
    "aug_df.tail(3)"
   ]
  },
  {
   "cell_type": "markdown",
   "id": "arabic-preview",
   "metadata": {
    "papermill": {
     "duration": 0.07385,
     "end_time": "2021-07-02T12:01:51.891951",
     "exception": false,
     "start_time": "2021-07-02T12:01:51.818101",
     "status": "completed"
    },
    "tags": []
   },
   "source": [
    "# Saving the augmented dataframe"
   ]
  },
  {
   "cell_type": "code",
   "execution_count": 61,
   "id": "vietnamese-yukon",
   "metadata": {
    "execution": {
     "iopub.execute_input": "2021-07-02T12:01:52.048669Z",
     "iopub.status.busy": "2021-07-02T12:01:52.048003Z",
     "iopub.status.idle": "2021-07-02T12:01:52.517449Z",
     "shell.execute_reply": "2021-07-02T12:01:52.516334Z"
    },
    "papermill": {
     "duration": 0.550272,
     "end_time": "2021-07-02T12:01:52.517615",
     "exception": false,
     "start_time": "2021-07-02T12:01:51.967343",
     "status": "completed"
    },
    "tags": []
   },
   "outputs": [],
   "source": [
    "aug_df.to_csv('./aug_df.csv')"
   ]
  },
  {
   "cell_type": "code",
   "execution_count": null,
   "id": "spanish-walter",
   "metadata": {
    "papermill": {
     "duration": 0.074608,
     "end_time": "2021-07-02T12:01:52.666445",
     "exception": false,
     "start_time": "2021-07-02T12:01:52.591837",
     "status": "completed"
    },
    "tags": []
   },
   "outputs": [],
   "source": []
  }
 ],
 "metadata": {
  "kernelspec": {
   "display_name": "Python 3",
   "language": "python",
   "name": "python3"
  },
  "language_info": {
   "codemirror_mode": {
    "name": "ipython",
    "version": 3
   },
   "file_extension": ".py",
   "mimetype": "text/x-python",
   "name": "python",
   "nbconvert_exporter": "python",
   "pygments_lexer": "ipython3",
   "version": "3.7.10"
  },
  "papermill": {
   "default_parameters": {},
   "duration": 7598.202796,
   "end_time": "2021-07-02T12:01:55.033451",
   "environment_variables": {},
   "exception": null,
   "input_path": "__notebook__.ipynb",
   "output_path": "__notebook__.ipynb",
   "parameters": {},
   "start_time": "2021-07-02T09:55:16.830655",
   "version": "2.3.3"
  }
 },
 "nbformat": 4,
 "nbformat_minor": 5
}
