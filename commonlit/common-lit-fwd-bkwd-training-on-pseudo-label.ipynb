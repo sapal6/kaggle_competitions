{
 "cells": [
  {
   "cell_type": "markdown",
   "id": "2d0435d5",
   "metadata": {
    "_cell_guid": "b1076dfc-b9ad-4769-8c92-a6c4dae69d19",
    "_uuid": "8f2839f25d086af736a60e9eeb907d3b93b6e0e5",
    "papermill": {
     "duration": 0.035547,
     "end_time": "2021-07-31T10:31:14.300272",
     "exception": false,
     "start_time": "2021-07-31T10:31:14.264725",
     "status": "completed"
    },
    "tags": []
   },
   "source": [
    "Training a LSTM model with ULMFIT approach on original text and then on reversed text. This is sort of  student model which is being trained on the predictions of a nother similar model. These predictions serve as the pseudo labels.\n",
    "\n",
    "Inpiration source [here](https://www.kaggle.com/gurharkhalsa/backwards-forwards-ulmfit-ensemble)."
   ]
  },
  {
   "cell_type": "code",
   "execution_count": 1,
   "id": "31d45198",
   "metadata": {
    "execution": {
     "iopub.execute_input": "2021-07-31T10:31:14.380449Z",
     "iopub.status.busy": "2021-07-31T10:31:14.379837Z",
     "iopub.status.idle": "2021-07-31T10:31:39.278414Z",
     "shell.execute_reply": "2021-07-31T10:31:39.277791Z"
    },
    "papermill": {
     "duration": 24.943818,
     "end_time": "2021-07-31T10:31:39.278556",
     "exception": false,
     "start_time": "2021-07-31T10:31:14.334738",
     "status": "completed"
    },
    "tags": []
   },
   "outputs": [
    {
     "name": "stdout",
     "output_type": "stream",
     "text": [
      "Collecting spacy==3.1.1\r\n",
      "  Downloading spacy-3.1.1-cp37-cp37m-manylinux_2_17_x86_64.manylinux2014_x86_64.whl (6.4 MB)\r\n",
      "\u001b[K     |████████████████████████████████| 6.4 MB 10.3 MB/s \r\n",
      "\u001b[?25hRequirement already satisfied: setuptools in /opt/conda/lib/python3.7/site-packages (from spacy==3.1.1) (49.6.0.post20210108)\r\n",
      "Requirement already satisfied: jinja2 in /opt/conda/lib/python3.7/site-packages (from spacy==3.1.1) (3.0.1)\r\n",
      "Collecting typer<0.4.0,>=0.3.0\r\n",
      "  Downloading typer-0.3.2-py3-none-any.whl (21 kB)\r\n",
      "Requirement already satisfied: preshed<3.1.0,>=3.0.2 in /opt/conda/lib/python3.7/site-packages (from spacy==3.1.1) (3.0.5)\r\n",
      "Requirement already satisfied: pydantic!=1.8,!=1.8.1,<1.9.0,>=1.7.4 in /opt/conda/lib/python3.7/site-packages (from spacy==3.1.1) (1.8.2)\r\n",
      "Requirement already satisfied: numpy>=1.15.0 in /opt/conda/lib/python3.7/site-packages (from spacy==3.1.1) (1.19.5)\r\n",
      "Requirement already satisfied: requests<3.0.0,>=2.13.0 in /opt/conda/lib/python3.7/site-packages (from spacy==3.1.1) (2.25.1)\r\n",
      "Collecting spacy-legacy<3.1.0,>=3.0.7\r\n",
      "  Downloading spacy_legacy-3.0.8-py2.py3-none-any.whl (14 kB)\r\n",
      "Requirement already satisfied: packaging>=20.0 in /opt/conda/lib/python3.7/site-packages (from spacy==3.1.1) (20.9)\r\n",
      "Requirement already satisfied: typing-extensions<4.0.0.0,>=3.7.4 in /opt/conda/lib/python3.7/site-packages (from spacy==3.1.1) (3.7.4.3)\r\n",
      "Requirement already satisfied: murmurhash<1.1.0,>=0.28.0 in /opt/conda/lib/python3.7/site-packages (from spacy==3.1.1) (1.0.5)\r\n",
      "Requirement already satisfied: wasabi<1.1.0,>=0.8.1 in /opt/conda/lib/python3.7/site-packages (from spacy==3.1.1) (0.8.2)\r\n",
      "Collecting thinc<8.1.0,>=8.0.8\r\n",
      "  Downloading thinc-8.0.8-cp37-cp37m-manylinux_2_17_x86_64.manylinux2014_x86_64.whl (621 kB)\r\n",
      "\u001b[K     |████████████████████████████████| 621 kB 12.3 MB/s \r\n",
      "\u001b[?25hRequirement already satisfied: blis<0.8.0,>=0.4.0 in /opt/conda/lib/python3.7/site-packages (from spacy==3.1.1) (0.7.4)\r\n",
      "Requirement already satisfied: tqdm<5.0.0,>=4.38.0 in /opt/conda/lib/python3.7/site-packages (from spacy==3.1.1) (4.61.1)\r\n",
      "Requirement already satisfied: cymem<2.1.0,>=2.0.2 in /opt/conda/lib/python3.7/site-packages (from spacy==3.1.1) (2.0.5)\r\n",
      "Collecting srsly<3.0.0,>=2.4.1\r\n",
      "  Downloading srsly-2.4.1-cp37-cp37m-manylinux2014_x86_64.whl (456 kB)\r\n",
      "\u001b[K     |████████████████████████████████| 456 kB 13.0 MB/s \r\n",
      "\u001b[?25hCollecting catalogue<2.1.0,>=2.0.4\r\n",
      "  Downloading catalogue-2.0.4-py3-none-any.whl (16 kB)\r\n",
      "Collecting pathy>=0.3.5\r\n",
      "  Downloading pathy-0.6.0-py3-none-any.whl (42 kB)\r\n",
      "\u001b[K     |████████████████████████████████| 42 kB 1.0 MB/s \r\n",
      "\u001b[?25hRequirement already satisfied: zipp>=0.5 in /opt/conda/lib/python3.7/site-packages (from catalogue<2.1.0,>=2.0.4->spacy==3.1.1) (3.4.1)\r\n",
      "Requirement already satisfied: pyparsing>=2.0.2 in /opt/conda/lib/python3.7/site-packages (from packaging>=20.0->spacy==3.1.1) (2.4.7)\r\n",
      "Requirement already satisfied: smart-open<6.0.0,>=5.0.0 in /opt/conda/lib/python3.7/site-packages (from pathy>=0.3.5->spacy==3.1.1) (5.1.0)\r\n",
      "Requirement already satisfied: idna<3,>=2.5 in /opt/conda/lib/python3.7/site-packages (from requests<3.0.0,>=2.13.0->spacy==3.1.1) (2.10)\r\n",
      "Requirement already satisfied: chardet<5,>=3.0.2 in /opt/conda/lib/python3.7/site-packages (from requests<3.0.0,>=2.13.0->spacy==3.1.1) (4.0.0)\r\n",
      "Requirement already satisfied: certifi>=2017.4.17 in /opt/conda/lib/python3.7/site-packages (from requests<3.0.0,>=2.13.0->spacy==3.1.1) (2021.5.30)\r\n",
      "Requirement already satisfied: urllib3<1.27,>=1.21.1 in /opt/conda/lib/python3.7/site-packages (from requests<3.0.0,>=2.13.0->spacy==3.1.1) (1.26.5)\r\n",
      "Requirement already satisfied: click<7.2.0,>=7.1.1 in /opt/conda/lib/python3.7/site-packages (from typer<0.4.0,>=0.3.0->spacy==3.1.1) (7.1.2)\r\n",
      "Requirement already satisfied: MarkupSafe>=2.0 in /opt/conda/lib/python3.7/site-packages (from jinja2->spacy==3.1.1) (2.0.1)\r\n",
      "Installing collected packages: catalogue, typer, srsly, thinc, spacy-legacy, pathy, spacy\r\n",
      "  Attempting uninstall: catalogue\r\n",
      "    Found existing installation: catalogue 1.0.0\r\n",
      "    Uninstalling catalogue-1.0.0:\r\n",
      "      Successfully uninstalled catalogue-1.0.0\r\n",
      "  Attempting uninstall: srsly\r\n",
      "    Found existing installation: srsly 1.0.5\r\n",
      "    Uninstalling srsly-1.0.5:\r\n",
      "      Successfully uninstalled srsly-1.0.5\r\n",
      "  Attempting uninstall: thinc\r\n",
      "    Found existing installation: thinc 7.4.5\r\n",
      "    Uninstalling thinc-7.4.5:\r\n",
      "      Successfully uninstalled thinc-7.4.5\r\n",
      "  Attempting uninstall: spacy\r\n",
      "    Found existing installation: spacy 2.3.7\r\n",
      "    Uninstalling spacy-2.3.7:\r\n",
      "      Successfully uninstalled spacy-2.3.7\r\n",
      "\u001b[31mERROR: pip's dependency resolver does not currently take into account all the packages that are installed. This behaviour is the source of the following dependency conflicts.\r\n",
      "fastai 2.2.7 requires spacy<3, but you have spacy 3.1.1 which is incompatible.\r\n",
      "en-core-web-sm 2.3.1 requires spacy<2.4.0,>=2.3.0, but you have spacy 3.1.1 which is incompatible.\r\n",
      "en-core-web-lg 2.3.1 requires spacy<2.4.0,>=2.3.0, but you have spacy 3.1.1 which is incompatible.\r\n",
      "allennlp 2.5.0 requires spacy<3.1,>=2.1.0, but you have spacy 3.1.1 which is incompatible.\u001b[0m\r\n",
      "Successfully installed catalogue-2.0.4 pathy-0.6.0 spacy-3.1.1 spacy-legacy-3.0.8 srsly-2.4.1 thinc-8.0.8 typer-0.3.2\r\n",
      "\u001b[33mWARNING: Running pip as root will break packages and permissions. You should install packages reliably by using venv: https://pip.pypa.io/warnings/venv\u001b[0m\r\n"
     ]
    }
   ],
   "source": [
    "#!pip install --no-index --find-links=\"../input/commonlit-pkgs-offline-download\" spacy==3.1.1\n",
    "!pip install spacy==3.1.1"
   ]
  },
  {
   "cell_type": "code",
   "execution_count": 2,
   "id": "ad6fa255",
   "metadata": {
    "execution": {
     "iopub.execute_input": "2021-07-31T10:31:39.463697Z",
     "iopub.status.busy": "2021-07-31T10:31:39.462845Z",
     "iopub.status.idle": "2021-07-31T10:36:57.809478Z",
     "shell.execute_reply": "2021-07-31T10:36:57.808576Z"
    },
    "papermill": {
     "duration": 318.445333,
     "end_time": "2021-07-31T10:36:57.809621",
     "exception": false,
     "start_time": "2021-07-31T10:31:39.364288",
     "status": "completed"
    },
    "tags": []
   },
   "outputs": [
    {
     "name": "stdout",
     "output_type": "stream",
     "text": [
      "Collecting package metadata (current_repodata.json): - \b\b\\ \b\b| \b\b/ \b\b- \b\b\\ \b\b| \b\b/ \b\b- \b\b\\ \b\b| \b\b/ \b\b- \b\b\\ \b\b| \b\b/ \b\b- \b\b\\ \b\b| \b\b/ \b\b- \b\b\\ \b\b| \b\b/ \b\b- \b\b\\ \b\b| \b\b/ \b\b- \b\b\\ \b\b| \b\b/ \b\b- \b\b\\ \b\b| \b\b/ \b\b- \b\b\\ \b\b| \b\b/ \b\b- \b\b\\ \b\b| \b\b/ \b\b- \b\b\\ \b\b| \b\b/ \b\b- \b\b\\ \b\b| \b\b/ \b\b- \b\b\\ \b\b| \b\b/ \b\b- \b\b\\ \b\b| \b\b/ \b\b- \b\b\\ \b\b| \b\b/ \b\b- \b\b\\ \b\b| \b\b/ \b\b- \b\b\\ \b\b| \b\b/ \b\b- \b\b\\ \b\b| \b\b/ \b\b- \b\b\\ \b\b| \b\b/ \b\b- \b\b\\ \b\b| \b\b/ \b\b- \b\b\\ \b\b| \b\b/ \b\b- \b\b\\ \b\b| \b\b/ \b\b- \b\b\\ \b\b| \b\b/ \b\b- \b\b\\ \b\b| \b\b/ \b\b- \b\b\\ \b\b| \b\b/ \b\b- \b\b\\ \b\b| \b\b/ \b\b- \b\b\\ \b\b| \b\b/ \b\b- \b\b\\ \b\b| \b\b/ \b\b- \b\b\\ \b\b| \b\b/ \b\b- \b\b\\ \b\b| \b\b/ \b\b- \b\b\\ \b\b| \b\b/ \b\b- \b\b\\ \b\b| \b\b/ \b\b- \b\b\\ \b\b| \b\b/ \b\b- \b\bdone\r\n",
      "Solving environment: | \b\b/ \b\b- \b\b\\ \b\b| \b\b/ \b\b- \b\b\\ \b\b| \b\b/ \b\b- \b\b\\ \b\b| \b\b/ \b\b- \b\b\\ \b\b| \b\b/ \b\b- \b\b\\ \b\b| \b\b/ \b\b- \b\b\\ \b\b| \b\b/ \b\b- \b\b\\ \b\b| \b\b/ \b\b- \b\b\\ \b\b| \b\b/ \b\b- \b\b\\ \b\b| \b\b/ \b\b- \b\b\\ \b\b| \b\b/ \b\b- \b\b\\ \b\b| \b\b/ \b\b- \b\b\\ \b\b| \b\b/ \b\b- \b\b\\ \b\b| \b\b/ \b\b- \b\b\\ \b\b| \b\b/ \b\b- \b\b\\ \b\b| \b\b/ \b\b- \b\b\\ \b\b| \b\b/ \b\b- \b\b\\ \b\b| \b\b/ \b\b- \b\b\\ \b\b| \b\b/ \b\b- \b\b\\ \b\b| \b\b/ \b\b- \b\b\\ \b\b| \b\b/ \b\b- \b\b\\ \b\b| \b\b/ \b\b- \b\b\\ \b\b| \b\b/ \b\b- \b\b\\ \b\b| \b\b/ \b\b- \b\b\\ \b\b| \b\b/ \b\b- \b\b\\ \b\b| \b\b/ \b\b- \b\b\\ \b\b| \b\b/ \b\b- \b\b\\ \b\b| \b\b/ \b\b- \b\b\\ \b\b| \b\b/ \b\b- \b\b\\ \b\b| \b\b/ \b\b- \b\b\\ \b\b| \b\b/ \b\b- \b\b\\ \b\b| \b\b/ \b\b- \b\b\\ \b\b| \b\b/ \b\b- \b\b\\ \b\b| \b\b/ \b\b- \b\b\\ \b\b| \b\b/ \b\b- \b\b\\ \b\b| \b\b/ \b\b- \b\b\\ \b\b| \b\b/ \b\b- \b\b\\ \b\b| \b\b/ \b\b- \b\b\\ \b\b| \b\b/ \b\b- \b\b\\ \b\b| \b\b/ \b\b- \b\b\\ \b\b| \b\b/ \b\b- \b\b\\ \b\b| \b\b/ \b\b- \b\b\\ \b\b| \b\b/ \b\b- \b\b\\ \b\b| \b\b/ \b\b- \b\b\\ \b\b| \b\b/ \b\b- \b\b\\ \b\b| \b\b/ \b\b- \b\b\\ \b\b| \b\b/ \b\b- \b\b\\ \b\b| \b\b/ \b\b- \b\b\\ \b\b| \b\b/ \b\b- \b\b\\ \b\b| \b\b/ \b\b- \b\b\\ \b\b| \b\b/ \b\b- \b\b\\ \b\b| \b\b/ \b\b- \b\b\\ \b\b| \b\b/ \b\b- \b\b\\ \b\b| \b\b/ \b\b- \b\b\\ \b\b| \b\b/ \b\b- \b\b\\ \b\b| \b\b/ \b\b- \b\b\\ \b\b| \b\b/ \b\b- \b\b\\ \b\b| \b\b/ \b\b- \b\b\\ \b\b| \b\b/ \b\b- \b\b\\ \b\b| \b\b/ \b\b- \b\b\\ \b\b| \b\b/ \b\b- \b\b\\ \b\b| \b\b/ \b\b- \b\b\\ \b\b| \b\b/ \b\b- \b\b\\ \b\b| \b\b/ \b\b- \b\b\\ \b\b| \b\b/ \b\b- \b\b\\ \b\b| \b\b/ \b\b- \b\b\\ \b\b| \b\b/ \b\b- \b\b\\ \b\b| \b\b/ \b\b- \b\b\\ \b\b| \b\b/ \b\b- \b\b\\ \b\b| \b\b/ \b\b- \b\b\\ \b\b| \b\b/ \b\b- \b\b\\ \b\b| \b\b/ \b\b- \b\b\\ \b\b| \b\b/ \b\b- \b\b\\ \b\b| \b\b/ \b\b- \b\b\\ \b\b| \b\b/ \b\b- \b\b\\ \b\b| \b\b/ \b\b- \b\b\\ \b\b| \b\b/ \b\b- \b\b\\ \b\b| \b\b/ \b\b- \b\b\\ \b\b| \b\b/ \b\b- \b\b\\ \b\b| \b\b/ \b\b- \b\b\\ \b\b| \b\b/ \b\b- \b\b\\ \b\b| \b\b/ \b\b- \b\b\\ \b\b| \b\b/ \b\b- \b\b\\ \b\b| \b\b/ \b\b- \b\b\\ \b\b| \b\b/ \b\b- \b\b\\ \b\b| \b\b/ \b\b- \b\b\\ \b\b| \b\b/ \b\b- \b\b\\ \b\b| \b\b/ \b\b- \b\b\\ \b\b| \b\b/ \b\b- \b\b\\ \b\b| \b\b/ \b\b- \b\b\\ \b\b| \b\b/ \b\b- \b\b\\ \b\b| \b\b/ \b\b- \b\b\\ \b\b| \b\b/ \b\b- \b\b\\ \b\b| \b\b/ \b\b- \b\b\\ \b\b| \b\b/ \b\b- \b\b\\ \b\b| \b\b/ \b\b- \b\b\\ \b\b| \b\b/ \b\b- \b\b\\ \b\b| \b\b/ \b\b- \b\b\\ \b\b| \b\b/ \b\b- \b\b\\ \b\b| \b\b/ \b\b- \b\b\\ \b\b| \b\b/ \b\b- \b\b\\ \b\b| \b\b/ \b\b- \b\b\\ \b\b| \b\b/ \b\b- \b\b\\ \b\b| \b\b/ \b\b- \b\b\\ \b\b| \b\b/ \b\b- \b\b\\ \b\b| \b\b/ \b\b- \b\b\\ \b\b| \b\b/ \b\b- \b\b\\ \b\b| \b\b/ \b\b- \b\b\\ \b\b| \b\b/ \b\b- \b\b\\ \b\b| \b\b/ \b\b- \b\b\\ \b\b| \b\b/ \b\b- \b\b\\ \b\b| \b\b/ \b\b- \b\b\\ \b\b| \b\b/ \b\b- \b\b\\ \b\b| \b\b/ \b\b- \b\b\\ \b\b| \b\b/ \b\b- \b\b\\ \b\b| \b\b/ \b\b- \b\b\\ \b\b| \b\b/ \b\b- \b\b\\ \b\b| \b\b/ \b\b- \b\b\\ \b\b| \b\b/ \b\b- \b\b\\ \b\b| \b\b/ \b\b- \b\b\\ \b\b| \b\b/ \b\b- \b\b\\ \b\b| \b\b/ \b\b- \b\b\\ \b\b| \b\b/ \b\b- \b\b\\ \b\b| \b\b/ \b\b- \b\b\\ \b\b| \b\b/ \b\b- \b\b\\ \b\b| \b\b/ \b\b- \b\b\\ \b\b| \b\b/ \b\b- \b\b\\ \b\b| \b\b/ \b\b- \b\b\\ \b\b| \b\b/ \b\b- \b\b\\ \b\b| \b\b/ \b\b- \b\b\\ \b\b| \b\b/ \b\b- \b\b\\ \b\b| \b\b/ \b\b- \b\b\\ \b\b| \b\b/ \b\b- \b\b\\ \b\b| \b\b/ \b\b- \b\b\\ \b\b| \b\b/ \b\b- \b\b\\ \b\b| \b\b/ \b\b- \b\b\\ \b\b| \b\b/ \b\b- \b\b\\ \b\b| \b\b/ \b\b- \b\b\\ \b\b| \b\b/ \b\b- \b\b\\ \b\b| \b\b/ \b\b- \b\b\\ \b\b| \b\b/ \b\b- \b\b\\ \b\b| \b\b/ \b\b- \b\b\\ \b\b| \b\b/ \b\b- \b\b\\ \b\b| \b\b/ \b\b- \b\b\\ \b\b| \b\b/ \b\b- \b\b\\ \b\b| \b\b/ \b\b- \b\b\\ \b\b| \b\b/ \b\b- \b\b\\ \b\b| \b\b/ \b\b- \b\b\\ \b\b| \b\b/ \b\b- \b\b\\ \b\b| \b\b/ \b\b- \b\b\\ \b\b| \b\b/ \b\b- \b\b\\ \b\b| \b\b/ \b\b- \b\b\\ \b\b| \b\b/ \b\b- \b\b\\ \b\b| \b\b/ \b\b- \b\b\\ \b\b| \b\b/ \b\b- \b\b\\ \b\b| \b\b/ \b\b- \b\b\\ \b\b| \b\b/ \b\b- \b\b\\ \b\b| \b\b/ \b\b- \b\b\\ \b\b| \b\b/ \b\b- \b\b\\ \b\b| \b\b/ \b\b- \b\b\\ \b\b| \b\b/ \b\b- \b\b\\ \b\b| \b\b/ \b\b- \b\b\\ \b\b| \b\b/ \b\b- \b\b\\ \b\b| \b\b/ \b\b- \b\b\\ \b\b| \b\b/ \b\b- \b\b\\ \b\b| \b\b/ \b\b- \b\b\\ \b\b| \b\b/ \b\b- \b\b\\ \b\b| \b\b/ \b\b- \b\b\\ \b\b| \b\b/ \b\b- \b\b\\ \b\b| \b\b/ \b\b- \b\b\\ \b\b| \b\b/ \b\b- \b\b\\ \b\b| \b\b/ \b\b- \b\b\\ \b\b| \b\b/ \b\b- \b\b\\ \b\b| \b\b/ \b\b- \b\b\\ \b\b| \b\b/ \b\b- \b\b\\ \b\b| \b\b/ \b\b- \b\b\\ \b\b| \b\b/ \b\b- \b\b\\ \b\b| \b\b/ \b\b- \b\b\\ \b\b| \b\b/ \b\b- \b\b\\ \b\b| \b\b/ \b\b- \b\b\\ \b\b| \b\b/ \b\b- \b\b\\ \b\b| \b\b/ \b\b- \b\b\\ \b\b| \b\bdone\r\n",
      "\r\n",
      "\r\n",
      "==> WARNING: A newer version of conda exists. <==\r\n",
      "  current version: 4.9.2\r\n",
      "  latest version: 4.10.3\r\n",
      "\r\n",
      "Please update conda by running\r\n",
      "\r\n",
      "    $ conda update -n base conda\r\n",
      "\r\n",
      "\r\n",
      "\r\n",
      "## Package Plan ##\r\n",
      "\r\n",
      "  environment location: /opt/conda\r\n",
      "\r\n",
      "  added / updated specs:\r\n",
      "    - fastai=2.4.1\r\n",
      "\r\n",
      "\r\n",
      "The following packages will be downloaded:\r\n",
      "\r\n",
      "    package                    |            build\r\n",
      "    ---------------------------|-----------------\r\n",
      "    _pytorch_select-0.1        |            cpu_0           3 KB\r\n",
      "    catalogue-2.0.4            |   py37h89c1867_0          30 KB  conda-forge\r\n",
      "    cymem-2.0.5                |   py37hcd2ae1e_2          42 KB  conda-forge\r\n",
      "    cython-blis-0.7.4          |   py37h902c9e0_0         3.9 MB  conda-forge\r\n",
      "    fastai-2.4.1               |             py_0         144 KB  fastai\r\n",
      "    fastcore-1.3.20            |             py_0          46 KB  fastai\r\n",
      "    fastprogress-1.0.0         |     pyh39e3cac_0          17 KB  fastai\r\n",
      "    murmurhash-1.0.5           |   py37hcd2ae1e_0          26 KB  conda-forge\r\n",
      "    pathy-0.6.0                |     pyhd8ed1ab_0          37 KB  conda-forge\r\n",
      "    preshed-3.0.5              |   py37hcd2ae1e_1         117 KB  conda-forge\r\n",
      "    pytorch-1.7.1              |py3.7_cuda11.0.221_cudnn8.0.5_0       771.1 MB  pytorch\r\n",
      "    shellingham-1.4.0          |     pyh44b312d_0          11 KB  conda-forge\r\n",
      "    smart_open-5.1.0           |     pyhd8ed1ab_1          42 KB  conda-forge\r\n",
      "    spacy-3.1.1                |   py37hda21425_0         6.2 MB  conda-forge\r\n",
      "    spacy-legacy-3.0.8         |     pyhd8ed1ab_0          15 KB  conda-forge\r\n",
      "    srsly-2.4.1                |   py37hcd2ae1e_0         529 KB  conda-forge\r\n",
      "    thinc-8.0.8                |   py37hda21425_0         704 KB  conda-forge\r\n",
      "    torchaudio-0.7.2           |             py37         9.9 MB  pytorch\r\n",
      "    torchtext-0.8.1            |             py37         8.0 MB  pytorch\r\n",
      "    torchvision-0.8.2          |cpu_py37ha229d99_0         6.4 MB\r\n",
      "    typer-0.3.2                |     pyhd8ed1ab_0          23 KB  conda-forge\r\n",
      "    wasabi-0.8.2               |     pyh44b312d_0          23 KB  conda-forge\r\n",
      "    ------------------------------------------------------------\r\n",
      "                                           Total:       807.4 MB\r\n",
      "\r\n",
      "The following NEW packages will be INSTALLED:\r\n",
      "\r\n",
      "  _pytorch_select    pkgs/main/linux-64::_pytorch_select-0.1-cpu_0\r\n",
      "  catalogue          conda-forge/linux-64::catalogue-2.0.4-py37h89c1867_0\r\n",
      "  cymem              conda-forge/linux-64::cymem-2.0.5-py37hcd2ae1e_2\r\n",
      "  cython-blis        conda-forge/linux-64::cython-blis-0.7.4-py37h902c9e0_0\r\n",
      "  fastai             fastai/noarch::fastai-2.4.1-py_0\r\n",
      "  fastcore           fastai/noarch::fastcore-1.3.20-py_0\r\n",
      "  fastprogress       fastai/noarch::fastprogress-1.0.0-pyh39e3cac_0\r\n",
      "  murmurhash         conda-forge/linux-64::murmurhash-1.0.5-py37hcd2ae1e_0\r\n",
      "  pathy              conda-forge/noarch::pathy-0.6.0-pyhd8ed1ab_0\r\n",
      "  preshed            conda-forge/linux-64::preshed-3.0.5-py37hcd2ae1e_1\r\n",
      "  shellingham        conda-forge/noarch::shellingham-1.4.0-pyh44b312d_0\r\n",
      "  smart_open         conda-forge/noarch::smart_open-5.1.0-pyhd8ed1ab_1\r\n",
      "  spacy              conda-forge/linux-64::spacy-3.1.1-py37hda21425_0\r\n",
      "  spacy-legacy       conda-forge/noarch::spacy-legacy-3.0.8-pyhd8ed1ab_0\r\n",
      "  srsly              conda-forge/linux-64::srsly-2.4.1-py37hcd2ae1e_0\r\n",
      "  thinc              conda-forge/linux-64::thinc-8.0.8-py37hda21425_0\r\n",
      "  typer              conda-forge/noarch::typer-0.3.2-pyhd8ed1ab_0\r\n",
      "  wasabi             conda-forge/noarch::wasabi-0.8.2-pyh44b312d_0\r\n",
      "\r\n",
      "The following packages will be UPDATED:\r\n",
      "\r\n",
      "  pytorch             1.7.0-py3.7_cuda11.0.221_cudnn8.0.3_0 --> 1.7.1-py3.7_cuda11.0.221_cudnn8.0.5_0\r\n",
      "  torchaudio                                     0.7.0-py37 --> 0.7.2-py37\r\n",
      "  torchtext                                      0.8.0-py37 --> 0.8.1-py37\r\n",
      "  torchvision         pytorch::torchvision-0.8.1-py37_cu110 --> pkgs/main::torchvision-0.8.2-cpu_py37ha229d99_0\r\n",
      "\r\n",
      "\r\n",
      "Proceed ([y]/n)? \r\n",
      "\r\n",
      "Downloading and Extracting Packages\r\n",
      "murmurhash-1.0.5     | 26 KB     | ##################################### | 100% \r\n",
      "catalogue-2.0.4      | 30 KB     | ##################################### | 100% \r\n",
      "shellingham-1.4.0    | 11 KB     | ##################################### | 100% \r\n",
      "pytorch-1.7.1        | 771.1 MB  | ##################################### | 100% \r\n",
      "torchvision-0.8.2    | 6.4 MB    | ##################################### | 100% \r\n",
      "typer-0.3.2          | 23 KB     | ##################################### | 100% \r\n",
      "pathy-0.6.0          | 37 KB     | ##################################### | 100% \r\n",
      "wasabi-0.8.2         | 23 KB     | ##################################### | 100% \r\n",
      "thinc-8.0.8          | 704 KB    | ##################################### | 100% \r\n",
      "cymem-2.0.5          | 42 KB     | ##################################### | 100% \r\n",
      "srsly-2.4.1          | 529 KB    | ##################################### | 100% \r\n",
      "torchtext-0.8.1      | 8.0 MB    | ##################################### | 100% \r\n",
      "preshed-3.0.5        | 117 KB    | ##################################### | 100% \r\n",
      "fastcore-1.3.20      | 46 KB     | ##################################### | 100% \r\n",
      "spacy-legacy-3.0.8   | 15 KB     | ##################################### | 100% \r\n",
      "cython-blis-0.7.4    | 3.9 MB    | ##################################### | 100% \r\n",
      "fastprogress-1.0.0   | 17 KB     | ##################################### | 100% \r\n",
      "_pytorch_select-0.1  | 3 KB      | ##################################### | 100% \r\n",
      "smart_open-5.1.0     | 42 KB     | ##################################### | 100% \r\n",
      "spacy-3.1.1          | 6.2 MB    | ##################################### | 100% \r\n",
      "torchaudio-0.7.2     | 9.9 MB    | ##################################### | 100% \r\n",
      "fastai-2.4.1         | 144 KB    | ##################################### | 100% \r\n",
      "Preparing transaction: - \b\b\\ \b\b| \b\b/ \b\bdone\r\n",
      "Verifying transaction: \\ \b\b| \b\b/ \b\b- \b\b\\ \b\b| \b\b/ \b\b- \b\b\\ \b\b| \b\b/ \b\b- \b\b\\ \b\b| \b\b/ \b\b- \b\b\\ \b\b| \b\b/ \b\b- \b\b\\ \b\b| \b\b/ \b\b- \b\b\\ \b\b| \b\b/ \b\b- \b\b\\ \b\b| \b\b/ \b\b- \b\bdone\r\n",
      "Executing transaction: | \b\b/ \b\b- \b\b\\ \b\b| \b\b/ \b\b- \b\b\\ \b\b| \b\b/ \b\b- \b\b\\ \b\b| \b\b/ \b\b- \b\b\\ \b\b| \b\b/ \b\b- \b\b\\ \b\b| \b\b/ \b\b- \b\b\\ \b\b| \b\b/ \b\b- \b\b\\ \b\b| \b\b/ \b\b- \b\b\\ \b\b| \b\b/ \b\b- \b\b\\ \b\b| \b\b/ \b\b- \b\b\\ \b\b| \b\b/ \b\b- \b\b\\ \b\b| \b\b/ \b\b- \b\b\\ \b\b| \b\b/ \b\b- \b\b\\ \b\b| \b\b/ \b\b- \b\b\\ \b\b| \b\b/ \b\b- \b\b\\ \b\b| \b\b/ \b\b- \b\b\\ \b\b| \b\b/ \b\b- \b\b\\ \b\b| \b\b/ \b\b- \b\b\\ \b\b| \b\b/ \b\b- \b\b\\ \b\b| \b\b/ \b\b- \b\b\\ \b\b| \b\b/ \b\b- \b\b\\ \b\b| \b\b/ \b\b- \b\b\\ \b\b| \b\b/ \b\b- \b\b\\ \b\b| \b\b/ \b\b- \b\b\\ \b\b| \b\b/ \b\b- \b\b\\ \b\b| \b\b/ \b\b- \b\b\\ \b\b| \b\b/ \b\b- \b\b\\ \b\b| \b\b/ \b\b- \b\b\\ \b\b| \b\b/ \b\b- \b\b\\ \b\b| \b\b/ \b\b- \b\b\\ \b\b| \b\b/ \b\b- \b\b\\ \b\b| \b\b/ \b\b- \b\b\\ \b\b| \b\b/ \b\b- \b\b\\ \b\b| \b\b/ \b\b- \b\b\\ \b\b| \b\b/ \b\b- \b\b\\ \b\b| \b\b/ \b\b- \b\b\\ \b\b| \b\b/ \b\b- \b\b\\ \b\b| \b\b/ \b\b- \b\b\\ \b\b| \b\b/ \b\b- \b\b\\ \b\b| \b\b/ \b\b- \b\b\\ \b\b| \b\b/ \b\b- \b\b\\ \b\b| \b\b/ \b\b- \b\b\\ \b\b| \b\b/ \b\b- \b\b\\ \b\b| \b\b/ \b\b- \b\b\\ \b\b| \b\b/ \b\b- \b\b\\ \b\b| \b\b/ \b\b- \b\b\\ \b\b| \b\b/ \b\b- \b\b\\ \b\b| \b\b/ \b\b- \b\b\\ \b\b| \b\b/ \b\b- \b\b\\ \b\b| \b\b/ \b\b- \b\b\\ \b\b| \b\b/ \b\b- \b\b\\ \b\b| \b\b/ \b\b- \b\b\\ \b\b| \b\b/ \b\b- \b\b\\ \b\b| \b\b/ \b\b- \b\b\\ \b\b| \b\b/ \b\b- \b\b\\ \b\b| \b\b/ \b\b- \b\b\\ \b\b| \b\b/ \b\b- \b\b\\ \b\b| \b\b/ \b\b- \b\b\\ \b\b| \b\b/ \b\b- \b\b\\ \b\b| \b\b/ \b\b- \b\b\\ \b\b| \b\b/ \b\b- \b\b\\ \b\b| \b\b/ \b\b- \b\b\\ \b\b| \b\b/ \b\b- \b\b\\ \b\b| \b\b/ \b\b- \b\b\\ \b\b| \b\b/ \b\b- \b\b\\ \b\b| \b\b/ \b\b- \b\b\\ \b\b| \b\b/ \b\b- \b\b\\ \b\b| \b\b/ \b\b- \b\b\\ \b\b| \b\b/ \b\b- \b\b\\ \b\b| \b\b/ \b\b- \b\b\\ \b\b| \b\b/ \b\b- \b\b\\ \b\b| \b\b/ \b\b- \b\b\\ \b\b| \b\b/ \b\b- \b\b\\ \b\b| \b\b/ \b\b- \b\b\\ \b\b| \b\b/ \b\b- \b\b\\ \b\b| \b\b/ \b\b- \b\b\\ \b\b| \b\b/ \b\b- \b\b\\ \b\b| \b\b/ \b\b- \b\b\\ \b\b| \b\b/ \b\b- \b\b\\ \b\b| \b\b/ \b\b- \b\b\\ \b\b| \b\b/ \b\b- \b\b\\ \b\b| \b\b/ \b\b- \b\b\\ \b\b| \b\b/ \b\b- \b\b\\ \b\b| \b\b/ \b\b- \b\b\\ \b\b| \b\b/ \b\b- \b\b\\ \b\b| \b\b/ \b\b- \b\b\\ \b\b| \b\b/ \b\b- \b\b\\ \b\b| \b\bdone\r\n",
      "yes: standard output: Broken pipe\r\n"
     ]
    }
   ],
   "source": [
    "#!pip install --no-index --find-links=\"../input/commonlit-pkgs-offline-download\" fastai==2.4.1\n",
    "!yes Y|conda install -c fastai fastai=2.4.1"
   ]
  },
  {
   "cell_type": "code",
   "execution_count": 3,
   "id": "c852624e",
   "metadata": {
    "execution": {
     "iopub.execute_input": "2021-07-31T10:36:58.920657Z",
     "iopub.status.busy": "2021-07-31T10:36:58.916633Z",
     "iopub.status.idle": "2021-07-31T10:36:58.940572Z",
     "shell.execute_reply": "2021-07-31T10:36:58.941420Z"
    },
    "papermill": {
     "duration": 0.706801,
     "end_time": "2021-07-31T10:36:58.941592",
     "exception": false,
     "start_time": "2021-07-31T10:36:58.234791",
     "status": "completed"
    },
    "tags": []
   },
   "outputs": [
    {
     "data": {
      "text/plain": [
       "'2.4.1'"
      ]
     },
     "execution_count": 3,
     "metadata": {},
     "output_type": "execute_result"
    }
   ],
   "source": [
    "import fastai\n",
    "fastai.__version__"
   ]
  },
  {
   "cell_type": "markdown",
   "id": "a9795d08",
   "metadata": {
    "papermill": {
     "duration": 0.434579,
     "end_time": "2021-07-31T10:36:59.809303",
     "exception": false,
     "start_time": "2021-07-31T10:36:59.374724",
     "status": "completed"
    },
    "tags": []
   },
   "source": [
    "## Import libraries"
   ]
  },
  {
   "cell_type": "code",
   "execution_count": 4,
   "id": "d72acc0f",
   "metadata": {
    "execution": {
     "iopub.execute_input": "2021-07-31T10:37:00.717777Z",
     "iopub.status.busy": "2021-07-31T10:37:00.716938Z",
     "iopub.status.idle": "2021-07-31T10:37:10.684979Z",
     "shell.execute_reply": "2021-07-31T10:37:10.684085Z"
    },
    "papermill": {
     "duration": 10.405667,
     "end_time": "2021-07-31T10:37:10.685121",
     "exception": false,
     "start_time": "2021-07-31T10:37:00.279454",
     "status": "completed"
    },
    "tags": []
   },
   "outputs": [],
   "source": [
    "from typing import *\n",
    "from pandas.core.frame import DataFrame\n",
    "from fastai.text.all import *"
   ]
  },
  {
   "cell_type": "code",
   "execution_count": 5,
   "id": "54c80329",
   "metadata": {
    "execution": {
     "iopub.execute_input": "2021-07-31T10:37:11.524585Z",
     "iopub.status.busy": "2021-07-31T10:37:11.523746Z",
     "iopub.status.idle": "2021-07-31T10:37:11.526258Z",
     "shell.execute_reply": "2021-07-31T10:37:11.525858Z"
    },
    "papermill": {
     "duration": 0.421088,
     "end_time": "2021-07-31T10:37:11.526368",
     "exception": false,
     "start_time": "2021-07-31T10:37:11.105280",
     "status": "completed"
    },
    "tags": []
   },
   "outputs": [],
   "source": [
    "path = Path('../input')\n",
    "op_path = Path('/kaggle/working')\n",
    "cbt_aug_pseudo_label = path/'commonlit-pseudo-labeler/pseudo_labels.csv'"
   ]
  },
  {
   "cell_type": "code",
   "execution_count": 6,
   "id": "d3f88fb1",
   "metadata": {
    "execution": {
     "iopub.execute_input": "2021-07-31T10:37:12.369665Z",
     "iopub.status.busy": "2021-07-31T10:37:12.369110Z",
     "iopub.status.idle": "2021-07-31T10:37:12.999461Z",
     "shell.execute_reply": "2021-07-31T10:37:12.998335Z"
    },
    "papermill": {
     "duration": 1.054364,
     "end_time": "2021-07-31T10:37:12.999613",
     "exception": false,
     "start_time": "2021-07-31T10:37:11.945249",
     "status": "completed"
    },
    "tags": []
   },
   "outputs": [],
   "source": [
    "df_cbt_aug_pseudo_label = pd.read_csv(cbt_aug_pseudo_label)"
   ]
  },
  {
   "cell_type": "code",
   "execution_count": 7,
   "id": "df44210c",
   "metadata": {
    "execution": {
     "iopub.execute_input": "2021-07-31T10:37:13.845041Z",
     "iopub.status.busy": "2021-07-31T10:37:13.844192Z",
     "iopub.status.idle": "2021-07-31T10:37:13.857900Z",
     "shell.execute_reply": "2021-07-31T10:37:13.857427Z"
    },
    "papermill": {
     "duration": 0.440985,
     "end_time": "2021-07-31T10:37:13.858025",
     "exception": false,
     "start_time": "2021-07-31T10:37:13.417040",
     "status": "completed"
    },
    "tags": []
   },
   "outputs": [
    {
     "data": {
      "text/html": [
       "<div>\n",
       "<style scoped>\n",
       "    .dataframe tbody tr th:only-of-type {\n",
       "        vertical-align: middle;\n",
       "    }\n",
       "\n",
       "    .dataframe tbody tr th {\n",
       "        vertical-align: top;\n",
       "    }\n",
       "\n",
       "    .dataframe thead th {\n",
       "        text-align: right;\n",
       "    }\n",
       "</style>\n",
       "<table border=\"1\" class=\"dataframe\">\n",
       "  <thead>\n",
       "    <tr style=\"text-align: right;\">\n",
       "      <th></th>\n",
       "      <th>excerpt</th>\n",
       "      <th>target</th>\n",
       "    </tr>\n",
       "  </thead>\n",
       "  <tbody>\n",
       "    <tr>\n",
       "      <th>0</th>\n",
       "      <td>When the young people returned to the ballroom, it presented a decidedly changed appearance. Instead of an interior scene, it was a winter landscape.\\nThe floor was covered with snow-white canvas, not laid on smoothly, but rumpled over bumps and hillocks, like a real snow field. The numerous palms and evergreens that had decorated the room, were powdered with flour and strewn with tufts of cotton, like snow. Also diamond dust had been lightly sprinkled on them, and glittering crystal icicles hung from the branches.\\nAt each end of the room, on the wall, hung a beautiful bear-skin rug.\\nThe...</td>\n",
       "      <td>-0.340259</td>\n",
       "    </tr>\n",
       "  </tbody>\n",
       "</table>\n",
       "</div>"
      ],
      "text/plain": [
       "                                                                                                                                                                                                                                                                                                                                                                                                                                                                                                                                                                                                                   excerpt  \\\n",
       "0  When the young people returned to the ballroom, it presented a decidedly changed appearance. Instead of an interior scene, it was a winter landscape.\\nThe floor was covered with snow-white canvas, not laid on smoothly, but rumpled over bumps and hillocks, like a real snow field. The numerous palms and evergreens that had decorated the room, were powdered with flour and strewn with tufts of cotton, like snow. Also diamond dust had been lightly sprinkled on them, and glittering crystal icicles hung from the branches.\\nAt each end of the room, on the wall, hung a beautiful bear-skin rug.\\nThe...   \n",
       "\n",
       "     target  \n",
       "0 -0.340259  "
      ]
     },
     "execution_count": 7,
     "metadata": {},
     "output_type": "execute_result"
    }
   ],
   "source": [
    "df_cbt_aug_pseudo_label.head(1)"
   ]
  },
  {
   "cell_type": "code",
   "execution_count": 8,
   "id": "64767666",
   "metadata": {
    "execution": {
     "iopub.execute_input": "2021-07-31T10:37:14.709584Z",
     "iopub.status.busy": "2021-07-31T10:37:14.708882Z",
     "iopub.status.idle": "2021-07-31T10:37:14.712241Z",
     "shell.execute_reply": "2021-07-31T10:37:14.712632Z"
    },
    "papermill": {
     "duration": 0.430903,
     "end_time": "2021-07-31T10:37:14.712784",
     "exception": false,
     "start_time": "2021-07-31T10:37:14.281881",
     "status": "completed"
    },
    "tags": []
   },
   "outputs": [
    {
     "data": {
      "text/html": [
       "<div>\n",
       "<style scoped>\n",
       "    .dataframe tbody tr th:only-of-type {\n",
       "        vertical-align: middle;\n",
       "    }\n",
       "\n",
       "    .dataframe tbody tr th {\n",
       "        vertical-align: top;\n",
       "    }\n",
       "\n",
       "    .dataframe thead th {\n",
       "        text-align: right;\n",
       "    }\n",
       "</style>\n",
       "<table border=\"1\" class=\"dataframe\">\n",
       "  <thead>\n",
       "    <tr style=\"text-align: right;\">\n",
       "      <th></th>\n",
       "      <th>excerpt</th>\n",
       "      <th>target</th>\n",
       "    </tr>\n",
       "  </thead>\n",
       "  <tbody>\n",
       "    <tr>\n",
       "      <th>17408</th>\n",
       "      <td>After the cutting came the sewing .The woman patted and pinned and fixed and joined , and then , turning to the man , she said : ` Now it is ready for you to try on . 'And she made him take off his coat , and stand up in front of her , and once more she patted an pinned and fixed and joined , and was very careful in smoothing out every wrinkle .` It does not feel very warm , ' observed the man at last , when he had borne all this patiently for a long time .` That is because it is so fine , ' answered she ; ` you do not want it to be as thick as the rough clothes you wear every day . 'He DI...</td>\n",
       "      <td>-1.360232</td>\n",
       "    </tr>\n",
       "  </tbody>\n",
       "</table>\n",
       "</div>"
      ],
      "text/plain": [
       "                                                                                                                                                                                                                                                                                                                                                                                                                                                                                                                                                                                                                       excerpt  \\\n",
       "17408  After the cutting came the sewing .The woman patted and pinned and fixed and joined , and then , turning to the man , she said : ` Now it is ready for you to try on . 'And she made him take off his coat , and stand up in front of her , and once more she patted an pinned and fixed and joined , and was very careful in smoothing out every wrinkle .` It does not feel very warm , ' observed the man at last , when he had borne all this patiently for a long time .` That is because it is so fine , ' answered she ; ` you do not want it to be as thick as the rough clothes you wear every day . 'He DI...   \n",
       "\n",
       "         target  \n",
       "17408 -1.360232  "
      ]
     },
     "execution_count": 8,
     "metadata": {},
     "output_type": "execute_result"
    }
   ],
   "source": [
    "df_cbt_aug_pseudo_label.tail(1)"
   ]
  },
  {
   "cell_type": "markdown",
   "id": "1782983e",
   "metadata": {
    "papermill": {
     "duration": 0.433943,
     "end_time": "2021-07-31T10:37:15.571418",
     "exception": false,
     "start_time": "2021-07-31T10:37:15.137475",
     "status": "completed"
    },
    "tags": []
   },
   "source": [
    "## The backwards model\n",
    "Trained on text in reverse order"
   ]
  },
  {
   "cell_type": "markdown",
   "id": "552fdc4c",
   "metadata": {
    "execution": {
     "iopub.execute_input": "2021-07-08T01:26:47.689931Z",
     "iopub.status.busy": "2021-07-08T01:26:47.689445Z",
     "iopub.status.idle": "2021-07-08T01:26:47.698096Z",
     "shell.execute_reply": "2021-07-08T01:26:47.696851Z",
     "shell.execute_reply.started": "2021-07-08T01:26:47.689895Z"
    },
    "papermill": {
     "duration": 0.426169,
     "end_time": "2021-07-31T10:37:16.424712",
     "exception": false,
     "start_time": "2021-07-31T10:37:15.998543",
     "status": "completed"
    },
    "tags": []
   },
   "source": [
    "## The dataloader"
   ]
  },
  {
   "cell_type": "code",
   "execution_count": 9,
   "id": "3d58c65b",
   "metadata": {
    "execution": {
     "iopub.execute_input": "2021-07-31T10:37:17.279774Z",
     "iopub.status.busy": "2021-07-31T10:37:17.278925Z",
     "iopub.status.idle": "2021-07-31T10:39:53.771614Z",
     "shell.execute_reply": "2021-07-31T10:39:53.771131Z"
    },
    "papermill": {
     "duration": 156.922055,
     "end_time": "2021-07-31T10:39:53.771763",
     "exception": false,
     "start_time": "2021-07-31T10:37:16.849708",
     "status": "completed"
    },
    "tags": []
   },
   "outputs": [
    {
     "data": {
      "text/html": [],
      "text/plain": [
       "<IPython.core.display.HTML object>"
      ]
     },
     "metadata": {},
     "output_type": "display_data"
    },
    {
     "name": "stderr",
     "output_type": "stream",
     "text": [
      "/opt/conda/lib/python3.7/site-packages/numpy/core/_asarray.py:83: VisibleDeprecationWarning: Creating an ndarray from ragged nested sequences (which is a list-or-tuple of lists-or-tuples-or ndarrays with different lengths or shapes) is deprecated. If you meant to do this, you must specify 'dtype=object' when creating the ndarray\n",
      "  return array(a, dtype, copy=False, order=order)\n"
     ]
    }
   ],
   "source": [
    "dls_lm_back = TextDataLoaders.from_df(df_cbt_aug_pseudo_label, text_col='excerpt',\n",
    "                                      is_lm=True, valid_pct=0.1,\n",
    "                                      bs=256, seq_len=72, backwards=True)"
   ]
  },
  {
   "cell_type": "code",
   "execution_count": 10,
   "id": "2f371db9",
   "metadata": {
    "execution": {
     "iopub.execute_input": "2021-07-31T10:39:54.971610Z",
     "iopub.status.busy": "2021-07-31T10:39:54.961408Z",
     "iopub.status.idle": "2021-07-31T10:39:55.500770Z",
     "shell.execute_reply": "2021-07-31T10:39:55.500335Z"
    },
    "papermill": {
     "duration": 1.271545,
     "end_time": "2021-07-31T10:39:55.500892",
     "exception": false,
     "start_time": "2021-07-31T10:39:54.229347",
     "status": "completed"
    },
    "tags": []
   },
   "outputs": [
    {
     "data": {
      "text/html": [
       "<table border=\"1\" class=\"dataframe\">\n",
       "  <thead>\n",
       "    <tr style=\"text-align: right;\">\n",
       "      <th></th>\n",
       "      <th>text</th>\n",
       "      <th>text_</th>\n",
       "    </tr>\n",
       "  </thead>\n",
       "  <tbody>\n",
       "    <tr>\n",
       "      <th>0</th>\n",
       "      <td>. streets the through me following from him prevent could i that difficulty with even was it xxmaj . house the about went i wherever me attended he and , him fed alone i . playmate and pet favorite my was — name 's cat the was this — pluto xxmaj \\n . remembered be to , now just , happens it that than reason better no for all at matter the</td>\n",
       "      <td>streets the through me following from him prevent could i that difficulty with even was it xxmaj . house the about went i wherever me attended he and , him fed alone i . playmate and pet favorite my was — name 's cat the was this — pluto xxmaj \\n . remembered be to , now just , happens it that than reason better no for all at matter the mention</td>\n",
       "    </tr>\n",
       "    <tr>\n",
       "      <th>1</th>\n",
       "      <td>them for left was nothing .so help any them offering of intention no showed and , extravagance own their to misfortunes their attributed even friends former their that and , alone left were they that found soon they .but one possessed longer no they now houses their in staying their on insist would , rich were they while numerous so been had who , friends their that hoped first at daughters the</td>\n",
       "      <td>for left was nothing .so help any them offering of intention no showed and , extravagance own their to misfortunes their attributed even friends former their that and , alone left were they that found soon they .but one possessed longer no they now houses their in staying their on insist would , rich were they while numerous so been had who , friends their that hoped first at daughters the ,</td>\n",
       "    </tr>\n",
       "    <tr>\n",
       "      <th>2</th>\n",
       "      <td>nets great the and , out brought be to boats the for fixed was day a and , sun the of sight the at leapt villagers the of hearts the , longer grew light the and , began spring the when .but barn neighbouring some in dance a to come to her persuade could which or , them above flashing lights xxmaj northern xxmaj the with ride sleigh a for out her</td>\n",
       "      <td>great the and , out brought be to boats the for fixed was day a and , sun the of sight the at leapt villagers the of hearts the , longer grew light the and , began spring the when .but barn neighbouring some in dance a to come to her persuade could which or , them above flashing lights xxmaj northern xxmaj the with ride sleigh a for out her tempt</td>\n",
       "    </tr>\n",
       "    <tr>\n",
       "      <th>3</th>\n",
       "      <td>will it marry do i if xxmaj ` : instead answering herself found she , njal xxmaj called be must husband her that father her tell to mouth her opened she as but ; attention no pay to determined she so , it like not did and , name a such of heard never had girl the ' . habogi xxmaj called not is who one no marry xxmaj ` : whisper</td>\n",
       "      <td>it marry do i if xxmaj ` : instead answering herself found she , njal xxmaj called be must husband her that father her tell to mouth her opened she as but ; attention no pay to determined she so , it like not did and , name a such of heard never had girl the ' . habogi xxmaj called not is who one no marry xxmaj ` : whisper voice</td>\n",
       "    </tr>\n",
       "    <tr>\n",
       "      <th>4</th>\n",
       "      <td>at fearing , come had he path the down headlong rushed and , mantle his up caught he bound one .with ferns the by hidden half standing woman haired - golden beautiful a on fell rays its and , cloud a behind from passed moon the instant same the .at round look to him caused suddenly -- what know not did he -- something when , headlong in dive to about just</td>\n",
       "      <td>fearing , come had he path the down headlong rushed and , mantle his up caught he bound one .with ferns the by hidden half standing woman haired - golden beautiful a on fell rays its and , cloud a behind from passed moon the instant same the .at round look to him caused suddenly -- what know not did he -- something when , headlong in dive to about just was</td>\n",
       "    </tr>\n",
       "    <tr>\n",
       "      <th>5</th>\n",
       "      <td>ride could who one no was there hill glass the to got they when and , company their in him have not would brothers two the but , riding the at look to them with go to wanted .cinderlad days former the on as just went everything day third the .on brothers the said '' ! creature black dirty you , among grubbing sit you that ashes the than brighter little a</td>\n",
       "      <td>could who one no was there hill glass the to got they when and , company their in him have not would brothers two the but , riding the at look to them with go to wanted .cinderlad days former the on as just went everything day third the .on brothers the said '' ! creature black dirty you , among grubbing sit you that ashes the than brighter little a was</td>\n",
       "    </tr>\n",
       "    <tr>\n",
       "      <th>6</th>\n",
       "      <td>it time this .by distress of cries 's mother poor the heeding never , camp the for out set and , shoulders his to on bunyip xxmaj little the threw he , back her keep to mother the at spear his flinging , so ' . with play to it have should sisters and brothers her , bunyip xxmaj little the eat not could they though and , days three for on</td>\n",
       "      <td>time this .by distress of cries 's mother poor the heeding never , camp the for out set and , shoulders his to on bunyip xxmaj little the threw he , back her keep to mother the at spear his flinging , so ' . with play to it have should sisters and brothers her , bunyip xxmaj little the eat not could they though and , days three for on feast</td>\n",
       "    </tr>\n",
       "    <tr>\n",
       "      <th>7</th>\n",
       "      <td>'s remora xxmaj the drank they and ; going was what of share their get to time in , came they back so '' . smart look we unless grub the finished have will alphonso xxmaj , on come but ` ` ; prince the said '' , enrico xxmaj , are you chap old sleepy xxmaj ` ` . done had alphonso xxmaj as just , enrico xxmaj jumped , course</td>\n",
       "      <td>remora xxmaj the drank they and ; going was what of share their get to time in , came they back so '' . smart look we unless grub the finished have will alphonso xxmaj , on come but ` ` ; prince the said '' , enrico xxmaj , are you chap old sleepy xxmaj ` ` . done had alphonso xxmaj as just , enrico xxmaj jumped , course of</td>\n",
       "    </tr>\n",
       "    <tr>\n",
       "      <th>8</th>\n",
       "      <td>for walked she thus and , way her on out set she , weary was she till wept and , eyes her of out sleep the rubbed had she when .so home own her from her with brought had she which rags of bundle same - self the lay side her .by wood thick , dark a of midst the in patch green small a on lying was she and , gone</td>\n",
       "      <td>walked she thus and , way her on out set she , weary was she till wept and , eyes her of out sleep the rubbed had she when .so home own her from her with brought had she which rags of bundle same - self the lay side her .by wood thick , dark a of midst the in patch green small a on lying was she and , gone were</td>\n",
       "    </tr>\n",
       "  </tbody>\n",
       "</table>"
      ],
      "text/plain": [
       "<IPython.core.display.HTML object>"
      ]
     },
     "metadata": {},
     "output_type": "display_data"
    }
   ],
   "source": [
    "dls_lm_back.show_batch(min_n=3)"
   ]
  },
  {
   "cell_type": "markdown",
   "id": "dcba85d5",
   "metadata": {
    "execution": {
     "iopub.execute_input": "2021-07-08T01:27:14.802008Z",
     "iopub.status.busy": "2021-07-08T01:27:14.801669Z",
     "iopub.status.idle": "2021-07-08T01:27:14.812267Z",
     "shell.execute_reply": "2021-07-08T01:27:14.811024Z",
     "shell.execute_reply.started": "2021-07-08T01:27:14.801972Z"
    },
    "papermill": {
     "duration": 0.458803,
     "end_time": "2021-07-31T10:39:56.414788",
     "exception": false,
     "start_time": "2021-07-31T10:39:55.955985",
     "status": "completed"
    },
    "tags": []
   },
   "source": [
    "## The backwards model"
   ]
  },
  {
   "cell_type": "code",
   "execution_count": 11,
   "id": "7a7091cf",
   "metadata": {
    "execution": {
     "iopub.execute_input": "2021-07-31T10:39:57.341324Z",
     "iopub.status.busy": "2021-07-31T10:39:57.340452Z",
     "iopub.status.idle": "2021-07-31T10:40:04.261860Z",
     "shell.execute_reply": "2021-07-31T10:40:04.261349Z"
    },
    "papermill": {
     "duration": 7.388158,
     "end_time": "2021-07-31T10:40:04.261988",
     "exception": false,
     "start_time": "2021-07-31T10:39:56.873830",
     "status": "completed"
    },
    "tags": []
   },
   "outputs": [
    {
     "data": {
      "text/html": [],
      "text/plain": [
       "<IPython.core.display.HTML object>"
      ]
     },
     "metadata": {},
     "output_type": "display_data"
    }
   ],
   "source": [
    "learn_back = language_model_learner(dls_lm_back,\n",
    "                               AWD_LSTM,\n",
    "                               drop_mult=2.0,\n",
    "                               metrics=[accuracy, Perplexity()], \n",
    "                               path=path,\n",
    "                              wd=0.5).to_fp16()"
   ]
  },
  {
   "cell_type": "markdown",
   "id": "286f4f6f",
   "metadata": {
    "papermill": {
     "duration": 0.428651,
     "end_time": "2021-07-31T10:40:05.215495",
     "exception": false,
     "start_time": "2021-07-31T10:40:04.786844",
     "status": "completed"
    },
    "tags": []
   },
   "source": [
    "## Training the model"
   ]
  },
  {
   "cell_type": "code",
   "execution_count": 12,
   "id": "602e115a",
   "metadata": {
    "execution": {
     "iopub.execute_input": "2021-07-31T10:40:06.359334Z",
     "iopub.status.busy": "2021-07-31T10:40:06.358510Z",
     "iopub.status.idle": "2021-07-31T10:40:06.360989Z",
     "shell.execute_reply": "2021-07-31T10:40:06.361476Z"
    },
    "papermill": {
     "duration": 0.452917,
     "end_time": "2021-07-31T10:40:06.361623",
     "exception": false,
     "start_time": "2021-07-31T10:40:05.908706",
     "status": "completed"
    },
    "tags": []
   },
   "outputs": [],
   "source": [
    "learn_back.path = op_path"
   ]
  },
  {
   "cell_type": "code",
   "execution_count": 13,
   "id": "9937a97b",
   "metadata": {
    "execution": {
     "iopub.execute_input": "2021-07-31T10:40:07.232072Z",
     "iopub.status.busy": "2021-07-31T10:40:07.231298Z",
     "iopub.status.idle": "2021-07-31T10:45:30.475329Z",
     "shell.execute_reply": "2021-07-31T10:45:30.475752Z"
    },
    "papermill": {
     "duration": 323.68874,
     "end_time": "2021-07-31T10:45:30.475924",
     "exception": false,
     "start_time": "2021-07-31T10:40:06.787184",
     "status": "completed"
    },
    "tags": []
   },
   "outputs": [
    {
     "data": {
      "text/html": [
       "<table border=\"1\" class=\"dataframe\">\n",
       "  <thead>\n",
       "    <tr style=\"text-align: left;\">\n",
       "      <th>epoch</th>\n",
       "      <th>train_loss</th>\n",
       "      <th>valid_loss</th>\n",
       "      <th>accuracy</th>\n",
       "      <th>perplexity</th>\n",
       "      <th>time</th>\n",
       "    </tr>\n",
       "  </thead>\n",
       "  <tbody>\n",
       "    <tr>\n",
       "      <td>0</td>\n",
       "      <td>5.242791</td>\n",
       "      <td>4.777219</td>\n",
       "      <td>0.230183</td>\n",
       "      <td>118.773613</td>\n",
       "      <td>05:23</td>\n",
       "    </tr>\n",
       "  </tbody>\n",
       "</table>"
      ],
      "text/plain": [
       "<IPython.core.display.HTML object>"
      ]
     },
     "metadata": {},
     "output_type": "display_data"
    }
   ],
   "source": [
    "learn_back.fit_one_cycle(1, 1e-2)"
   ]
  },
  {
   "cell_type": "code",
   "execution_count": 14,
   "id": "4b9e64aa",
   "metadata": {
    "execution": {
     "iopub.execute_input": "2021-07-31T10:45:31.358797Z",
     "iopub.status.busy": "2021-07-31T10:45:31.357930Z",
     "iopub.status.idle": "2021-07-31T10:45:31.360471Z",
     "shell.execute_reply": "2021-07-31T10:45:31.360069Z"
    },
    "papermill": {
     "duration": 0.441461,
     "end_time": "2021-07-31T10:45:31.360582",
     "exception": false,
     "start_time": "2021-07-31T10:45:30.919121",
     "status": "completed"
    },
    "tags": []
   },
   "outputs": [],
   "source": [
    "def show_me_lrs(learn):\n",
    "    suggestions = namedtuple('Suggestions', [\"min\", \"steep\",\n",
    "                                            \"valley\", \"slide\"])\n",
    "    lr_min, lr_steep,lr_valley, lr_slide = learn.lr_find(suggest_funcs=(minimum, steep,valley, slide))\n",
    "    suggested_lrs = suggestions(lr_min, lr_steep, lr_valley, lr_slide)\n",
    "    \n",
    "    print(f\"Minimum/10:\\t{lr_min:.2e}\\\n",
    "          \\nSteepest point:\\t{lr_steep:.2e}\\\n",
    "          \\nLongest valley:\\t{lr_valley:.2e}\\\n",
    "          \\nSlide interval:\\t{lr_slide:.2e}\")\n",
    "    \n",
    "    return suggested_lrs"
   ]
  },
  {
   "cell_type": "code",
   "execution_count": 15,
   "id": "e5d52d00",
   "metadata": {
    "execution": {
     "iopub.execute_input": "2021-07-31T10:45:32.251415Z",
     "iopub.status.busy": "2021-07-31T10:45:32.250485Z",
     "iopub.status.idle": "2021-07-31T10:46:59.663860Z",
     "shell.execute_reply": "2021-07-31T10:46:59.663386Z"
    },
    "papermill": {
     "duration": 87.882746,
     "end_time": "2021-07-31T10:46:59.663998",
     "exception": false,
     "start_time": "2021-07-31T10:45:31.781252",
     "status": "completed"
    },
    "tags": []
   },
   "outputs": [
    {
     "data": {
      "text/html": [],
      "text/plain": [
       "<IPython.core.display.HTML object>"
      ]
     },
     "metadata": {},
     "output_type": "display_data"
    },
    {
     "name": "stderr",
     "output_type": "stream",
     "text": [
      "/opt/conda/lib/python3.7/site-packages/fastai/callback/schedule.py:270: UserWarning: color is redundantly defined by the 'color' keyword argument and the fmt string \"ro\" (-> color='r'). The keyword argument will take precedence.\n",
      "  ax.plot(val, idx, 'ro', label=nm, c=color)\n"
     ]
    },
    {
     "name": "stdout",
     "output_type": "stream",
     "text": [
      "Minimum/10:\t3.63e-04          \n",
      "Steepest point:\t3.31e-06          \n",
      "Longest valley:\t1.10e-04          \n",
      "Slide interval:\t7.59e-03\n"
     ]
    },
    {
     "data": {
      "image/png": "[encoded data removed]",
      "text/plain": [
       "<Figure size 432x288 with 1 Axes>"
      ]
     },
     "metadata": {
      "needs_background": "light"
     },
     "output_type": "display_data"
    }
   ],
   "source": [
    "suggested_lrs = show_me_lrs(learn_back)"
   ]
  },
  {
   "cell_type": "code",
   "execution_count": 16,
   "id": "a4a6c360",
   "metadata": {
    "execution": {
     "iopub.execute_input": "2021-07-31T10:47:00.612549Z",
     "iopub.status.busy": "2021-07-31T10:47:00.611795Z",
     "iopub.status.idle": "2021-07-31T11:04:44.929299Z",
     "shell.execute_reply": "2021-07-31T11:04:44.928633Z"
    },
    "papermill": {
     "duration": 1064.834336,
     "end_time": "2021-07-31T11:04:44.929462",
     "exception": false,
     "start_time": "2021-07-31T10:47:00.095126",
     "status": "completed"
    },
    "tags": []
   },
   "outputs": [
    {
     "data": {
      "text/html": [
       "<table border=\"1\" class=\"dataframe\">\n",
       "  <thead>\n",
       "    <tr style=\"text-align: left;\">\n",
       "      <th>epoch</th>\n",
       "      <th>train_loss</th>\n",
       "      <th>valid_loss</th>\n",
       "      <th>accuracy</th>\n",
       "      <th>perplexity</th>\n",
       "      <th>time</th>\n",
       "    </tr>\n",
       "  </thead>\n",
       "  <tbody>\n",
       "    <tr>\n",
       "      <td>0</td>\n",
       "      <td>3.922630</td>\n",
       "      <td>3.579395</td>\n",
       "      <td>0.330333</td>\n",
       "      <td>35.851837</td>\n",
       "      <td>05:55</td>\n",
       "    </tr>\n",
       "    <tr>\n",
       "      <td>1</td>\n",
       "      <td>3.345894</td>\n",
       "      <td>2.791880</td>\n",
       "      <td>0.452586</td>\n",
       "      <td>16.311663</td>\n",
       "      <td>05:55</td>\n",
       "    </tr>\n",
       "    <tr>\n",
       "      <td>2</td>\n",
       "      <td>3.021350</td>\n",
       "      <td>2.493838</td>\n",
       "      <td>0.513504</td>\n",
       "      <td>12.107652</td>\n",
       "      <td>05:54</td>\n",
       "    </tr>\n",
       "  </tbody>\n",
       "</table>"
      ],
      "text/plain": [
       "<IPython.core.display.HTML object>"
      ]
     },
     "metadata": {},
     "output_type": "display_data"
    }
   ],
   "source": [
    "learn_back.unfreeze()\n",
    "learn_back.fit_one_cycle(3, suggested_lrs.slide)"
   ]
  },
  {
   "cell_type": "markdown",
   "id": "800ba3b9",
   "metadata": {
    "papermill": {
     "duration": 0.457938,
     "end_time": "2021-07-31T11:04:45.893137",
     "exception": false,
     "start_time": "2021-07-31T11:04:45.435199",
     "status": "completed"
    },
    "tags": []
   },
   "source": [
    "good enough accuracy, let;s save it"
   ]
  },
  {
   "cell_type": "code",
   "execution_count": 17,
   "id": "4f6ad2ce",
   "metadata": {
    "execution": {
     "iopub.execute_input": "2021-07-31T11:04:46.821633Z",
     "iopub.status.busy": "2021-07-31T11:04:46.820415Z",
     "iopub.status.idle": "2021-07-31T11:04:47.087116Z",
     "shell.execute_reply": "2021-07-31T11:04:47.086608Z"
    },
    "papermill": {
     "duration": 0.732159,
     "end_time": "2021-07-31T11:04:47.087237",
     "exception": false,
     "start_time": "2021-07-31T11:04:46.355078",
     "status": "completed"
    },
    "tags": []
   },
   "outputs": [],
   "source": [
    "learn_back.path = Path(\".\")\n",
    "learn_back.save_encoder('./back_final_encoder')"
   ]
  },
  {
   "cell_type": "markdown",
   "id": "9bbad298",
   "metadata": {
    "papermill": {
     "duration": 0.46212,
     "end_time": "2021-07-31T11:04:48.006631",
     "exception": false,
     "start_time": "2021-07-31T11:04:47.544511",
     "status": "completed"
    },
    "tags": []
   },
   "source": [
    "## Backward Text regressor"
   ]
  },
  {
   "cell_type": "code",
   "execution_count": 18,
   "id": "42de7510",
   "metadata": {
    "execution": {
     "iopub.execute_input": "2021-07-31T11:04:48.961182Z",
     "iopub.status.busy": "2021-07-31T11:04:48.945858Z",
     "iopub.status.idle": "2021-07-31T11:04:49.139031Z",
     "shell.execute_reply": "2021-07-31T11:04:49.138472Z"
    },
    "papermill": {
     "duration": 0.67665,
     "end_time": "2021-07-31T11:04:49.139174",
     "exception": false,
     "start_time": "2021-07-31T11:04:48.462524",
     "status": "completed"
    },
    "tags": []
   },
   "outputs": [],
   "source": [
    "data = DataBlock(\n",
    "       blocks=(TextBlock.from_df('excerpt', \n",
    "                                 vocab=dls_lm_back.vocab, seq_len=72,\n",
    "                                 backwards=True), RegressionBlock),\n",
    "       get_x=ColReader('text'),get_y=ColReader('target'),\n",
    "       splitter=TrainTestSplitter(test_size=0.2))"
   ]
  },
  {
   "cell_type": "code",
   "execution_count": 19,
   "id": "4699df6f",
   "metadata": {
    "execution": {
     "iopub.execute_input": "2021-07-31T11:04:50.069045Z",
     "iopub.status.busy": "2021-07-31T11:04:50.068099Z",
     "iopub.status.idle": "2021-07-31T11:04:50.070505Z",
     "shell.execute_reply": "2021-07-31T11:04:50.071046Z"
    },
    "papermill": {
     "duration": 0.469695,
     "end_time": "2021-07-31T11:04:50.071191",
     "exception": false,
     "start_time": "2021-07-31T11:04:49.601496",
     "status": "completed"
    },
    "tags": []
   },
   "outputs": [],
   "source": [
    "#data.summary(df_train)"
   ]
  },
  {
   "cell_type": "code",
   "execution_count": 20,
   "id": "8b13be88",
   "metadata": {
    "execution": {
     "iopub.execute_input": "2021-07-31T11:04:51.276378Z",
     "iopub.status.busy": "2021-07-31T11:04:51.275618Z",
     "iopub.status.idle": "2021-07-31T11:07:27.726945Z",
     "shell.execute_reply": "2021-07-31T11:07:27.726458Z"
    },
    "papermill": {
     "duration": 157.034507,
     "end_time": "2021-07-31T11:07:27.727083",
     "exception": false,
     "start_time": "2021-07-31T11:04:50.692576",
     "status": "completed"
    },
    "tags": []
   },
   "outputs": [
    {
     "data": {
      "text/html": [],
      "text/plain": [
       "<IPython.core.display.HTML object>"
      ]
     },
     "metadata": {},
     "output_type": "display_data"
    },
    {
     "name": "stderr",
     "output_type": "stream",
     "text": [
      "/opt/conda/lib/python3.7/site-packages/numpy/core/_asarray.py:83: VisibleDeprecationWarning: Creating an ndarray from ragged nested sequences (which is a list-or-tuple of lists-or-tuples-or ndarrays with different lengths or shapes) is deprecated. If you meant to do this, you must specify 'dtype=object' when creating the ndarray\n",
      "  return array(a, dtype, copy=False, order=order)\n"
     ]
    }
   ],
   "source": [
    "dls_reg_back = data.dataloaders(df_cbt_aug_pseudo_label, bs=64)"
   ]
  },
  {
   "cell_type": "markdown",
   "id": "17f5848c",
   "metadata": {
    "papermill": {
     "duration": 0.421531,
     "end_time": "2021-07-31T11:07:28.572124",
     "exception": false,
     "start_time": "2021-07-31T11:07:28.150593",
     "status": "completed"
    },
    "tags": []
   },
   "source": [
    "## The regression model"
   ]
  },
  {
   "cell_type": "code",
   "execution_count": 21,
   "id": "e61a498a",
   "metadata": {
    "execution": {
     "iopub.execute_input": "2021-07-31T11:07:29.423997Z",
     "iopub.status.busy": "2021-07-31T11:07:29.423245Z",
     "iopub.status.idle": "2021-07-31T11:07:30.473623Z",
     "shell.execute_reply": "2021-07-31T11:07:30.474148Z"
    },
    "papermill": {
     "duration": 1.479519,
     "end_time": "2021-07-31T11:07:30.474317",
     "exception": false,
     "start_time": "2021-07-31T11:07:28.994798",
     "status": "completed"
    },
    "tags": []
   },
   "outputs": [],
   "source": [
    "learn_reg_back = text_classifier_learner(dls_reg_back, AWD_LSTM, drop_mult=2.0,\n",
    "                                opt_func=Lamb,\n",
    "                                metrics=rmse,\n",
    "                                   wd=1.0).to_fp16()"
   ]
  },
  {
   "cell_type": "code",
   "execution_count": 22,
   "id": "4624fe6b",
   "metadata": {
    "execution": {
     "iopub.execute_input": "2021-07-31T11:07:31.362356Z",
     "iopub.status.busy": "2021-07-31T11:07:31.361457Z",
     "iopub.status.idle": "2021-07-31T11:07:31.475511Z",
     "shell.execute_reply": "2021-07-31T11:07:31.475063Z"
    },
    "papermill": {
     "duration": 0.576877,
     "end_time": "2021-07-31T11:07:31.475662",
     "exception": false,
     "start_time": "2021-07-31T11:07:30.898785",
     "status": "completed"
    },
    "tags": []
   },
   "outputs": [],
   "source": [
    "learn_reg_back.path = Path(\".\")\n",
    "learn_reg_back = learn_reg_back.load_encoder('./back_final_encoder')"
   ]
  },
  {
   "cell_type": "markdown",
   "id": "c002a3e4",
   "metadata": {
    "papermill": {
     "duration": 0.424177,
     "end_time": "2021-07-31T11:07:32.325075",
     "exception": false,
     "start_time": "2021-07-31T11:07:31.900898",
     "status": "completed"
    },
    "tags": []
   },
   "source": [
    "## Training backwards regresion model"
   ]
  },
  {
   "cell_type": "code",
   "execution_count": 23,
   "id": "7aa7db4d",
   "metadata": {
    "execution": {
     "iopub.execute_input": "2021-07-31T11:07:33.180187Z",
     "iopub.status.busy": "2021-07-31T11:07:33.179105Z",
     "iopub.status.idle": "2021-07-31T11:08:34.184461Z",
     "shell.execute_reply": "2021-07-31T11:08:34.183950Z"
    },
    "papermill": {
     "duration": 61.436519,
     "end_time": "2021-07-31T11:08:34.184586",
     "exception": false,
     "start_time": "2021-07-31T11:07:32.748067",
     "status": "completed"
    },
    "tags": []
   },
   "outputs": [
    {
     "data": {
      "text/html": [
       "<table border=\"1\" class=\"dataframe\">\n",
       "  <thead>\n",
       "    <tr style=\"text-align: left;\">\n",
       "      <th>epoch</th>\n",
       "      <th>train_loss</th>\n",
       "      <th>valid_loss</th>\n",
       "      <th>_rmse</th>\n",
       "      <th>time</th>\n",
       "    </tr>\n",
       "  </thead>\n",
       "  <tbody>\n",
       "    <tr>\n",
       "      <td>0</td>\n",
       "      <td>1.322989</td>\n",
       "      <td>1.582463</td>\n",
       "      <td>1.257960</td>\n",
       "      <td>01:00</td>\n",
       "    </tr>\n",
       "  </tbody>\n",
       "</table>"
      ],
      "text/plain": [
       "<IPython.core.display.HTML object>"
      ]
     },
     "metadata": {},
     "output_type": "display_data"
    }
   ],
   "source": [
    "learn_reg_back.fit_one_cycle(1, 2e-2)"
   ]
  },
  {
   "cell_type": "code",
   "execution_count": 24,
   "id": "d2f42fe2",
   "metadata": {
    "execution": {
     "iopub.execute_input": "2021-07-31T11:08:35.118405Z",
     "iopub.status.busy": "2021-07-31T11:08:35.117445Z",
     "iopub.status.idle": "2021-07-31T11:08:58.257935Z",
     "shell.execute_reply": "2021-07-31T11:08:58.257478Z"
    },
    "papermill": {
     "duration": 23.610362,
     "end_time": "2021-07-31T11:08:58.258060",
     "exception": false,
     "start_time": "2021-07-31T11:08:34.647698",
     "status": "completed"
    },
    "tags": []
   },
   "outputs": [
    {
     "data": {
      "text/html": [],
      "text/plain": [
       "<IPython.core.display.HTML object>"
      ]
     },
     "metadata": {},
     "output_type": "display_data"
    },
    {
     "name": "stderr",
     "output_type": "stream",
     "text": [
      "/opt/conda/lib/python3.7/site-packages/fastai/callback/schedule.py:270: UserWarning: color is redundantly defined by the 'color' keyword argument and the fmt string \"ro\" (-> color='r'). The keyword argument will take precedence.\n",
      "  ax.plot(val, idx, 'ro', label=nm, c=color)\n"
     ]
    },
    {
     "name": "stdout",
     "output_type": "stream",
     "text": [
      "Minimum/10:\t2.75e-05          \n",
      "Steepest point:\t7.59e-07          \n",
      "Longest valley:\t6.92e-02          \n",
      "Slide interval:\t2.09e-01\n"
     ]
    },
    {
     "data": {
      "image/png": "[encoded data removed]",
      "text/plain": [
       "<Figure size 432x288 with 1 Axes>"
      ]
     },
     "metadata": {
      "needs_background": "light"
     },
     "output_type": "display_data"
    }
   ],
   "source": [
    "suggested_lrs = show_me_lrs(learn_reg_back)"
   ]
  },
  {
   "cell_type": "code",
   "execution_count": 25,
   "id": "6303be6a",
   "metadata": {
    "execution": {
     "iopub.execute_input": "2021-07-31T11:08:59.124669Z",
     "iopub.status.busy": "2021-07-31T11:08:59.124108Z",
     "iopub.status.idle": "2021-07-31T11:10:12.824314Z",
     "shell.execute_reply": "2021-07-31T11:10:12.824771Z"
    },
    "papermill": {
     "duration": 74.138069,
     "end_time": "2021-07-31T11:10:12.824947",
     "exception": false,
     "start_time": "2021-07-31T11:08:58.686878",
     "status": "completed"
    },
    "tags": []
   },
   "outputs": [
    {
     "data": {
      "text/html": [
       "<table border=\"1\" class=\"dataframe\">\n",
       "  <thead>\n",
       "    <tr style=\"text-align: left;\">\n",
       "      <th>epoch</th>\n",
       "      <th>train_loss</th>\n",
       "      <th>valid_loss</th>\n",
       "      <th>_rmse</th>\n",
       "      <th>time</th>\n",
       "    </tr>\n",
       "  </thead>\n",
       "  <tbody>\n",
       "    <tr>\n",
       "      <td>0</td>\n",
       "      <td>1.269623</td>\n",
       "      <td>1.327695</td>\n",
       "      <td>1.152256</td>\n",
       "      <td>01:13</td>\n",
       "    </tr>\n",
       "  </tbody>\n",
       "</table>"
      ],
      "text/plain": [
       "<IPython.core.display.HTML object>"
      ]
     },
     "metadata": {},
     "output_type": "display_data"
    }
   ],
   "source": [
    "learn_reg_back.freeze_to(-2)\n",
    "learn_reg_back.fit_one_cycle(1, suggested_lrs.slide)"
   ]
  },
  {
   "cell_type": "code",
   "execution_count": 26,
   "id": "ac30a87a",
   "metadata": {
    "execution": {
     "iopub.execute_input": "2021-07-31T11:10:13.697555Z",
     "iopub.status.busy": "2021-07-31T11:10:13.696725Z",
     "iopub.status.idle": "2021-07-31T11:10:44.369858Z",
     "shell.execute_reply": "2021-07-31T11:10:44.370484Z"
    },
    "papermill": {
     "duration": 31.11141,
     "end_time": "2021-07-31T11:10:44.370717",
     "exception": false,
     "start_time": "2021-07-31T11:10:13.259307",
     "status": "completed"
    },
    "tags": []
   },
   "outputs": [
    {
     "data": {
      "text/html": [],
      "text/plain": [
       "<IPython.core.display.HTML object>"
      ]
     },
     "metadata": {},
     "output_type": "display_data"
    },
    {
     "name": "stderr",
     "output_type": "stream",
     "text": [
      "/opt/conda/lib/python3.7/site-packages/fastai/callback/schedule.py:270: UserWarning: color is redundantly defined by the 'color' keyword argument and the fmt string \"ro\" (-> color='r'). The keyword argument will take precedence.\n",
      "  ax.plot(val, idx, 'ro', label=nm, c=color)\n"
     ]
    },
    {
     "name": "stdout",
     "output_type": "stream",
     "text": [
      "Minimum/10:\t1.32e-07          \n",
      "Steepest point:\t9.12e-07          \n",
      "Longest valley:\t1.58e-04          \n",
      "Slide interval:\t2.09e-01\n"
     ]
    },
    {
     "data": {
      "image/png": "[encoded data removed]",
      "text/plain": [
       "<Figure size 432x288 with 1 Axes>"
      ]
     },
     "metadata": {
      "needs_background": "light"
     },
     "output_type": "display_data"
    }
   ],
   "source": [
    "suggested_lrs = show_me_lrs(learn_reg_back)"
   ]
  },
  {
   "cell_type": "code",
   "execution_count": 27,
   "id": "340925a0",
   "metadata": {
    "execution": {
     "iopub.execute_input": "2021-07-31T11:10:45.324574Z",
     "iopub.status.busy": "2021-07-31T11:10:45.323582Z",
     "iopub.status.idle": "2021-07-31T11:12:39.954909Z",
     "shell.execute_reply": "2021-07-31T11:12:39.954411Z"
    },
    "papermill": {
     "duration": 115.111878,
     "end_time": "2021-07-31T11:12:39.955054",
     "exception": false,
     "start_time": "2021-07-31T11:10:44.843176",
     "status": "completed"
    },
    "tags": []
   },
   "outputs": [
    {
     "data": {
      "text/html": [
       "<table border=\"1\" class=\"dataframe\">\n",
       "  <thead>\n",
       "    <tr style=\"text-align: left;\">\n",
       "      <th>epoch</th>\n",
       "      <th>train_loss</th>\n",
       "      <th>valid_loss</th>\n",
       "      <th>_rmse</th>\n",
       "      <th>time</th>\n",
       "    </tr>\n",
       "  </thead>\n",
       "  <tbody>\n",
       "    <tr>\n",
       "      <td>0</td>\n",
       "      <td>1.347732</td>\n",
       "      <td>1.327695</td>\n",
       "      <td>1.152256</td>\n",
       "      <td>01:54</td>\n",
       "    </tr>\n",
       "  </tbody>\n",
       "</table>"
      ],
      "text/plain": [
       "<IPython.core.display.HTML object>"
      ]
     },
     "metadata": {},
     "output_type": "display_data"
    }
   ],
   "source": [
    "learn_reg_back.freeze_to(-3)\n",
    "learn_reg_back.fit_one_cycle(1, suggested_lrs.min)"
   ]
  },
  {
   "cell_type": "code",
   "execution_count": 28,
   "id": "cd6cf2d2",
   "metadata": {
    "execution": {
     "iopub.execute_input": "2021-07-31T11:12:40.832001Z",
     "iopub.status.busy": "2021-07-31T11:12:40.831185Z",
     "iopub.status.idle": "2021-07-31T11:13:28.668548Z",
     "shell.execute_reply": "2021-07-31T11:13:28.667718Z"
    },
    "papermill": {
     "duration": 48.282686,
     "end_time": "2021-07-31T11:13:28.668700",
     "exception": false,
     "start_time": "2021-07-31T11:12:40.386014",
     "status": "completed"
    },
    "tags": []
   },
   "outputs": [
    {
     "data": {
      "text/html": [],
      "text/plain": [
       "<IPython.core.display.HTML object>"
      ]
     },
     "metadata": {},
     "output_type": "display_data"
    },
    {
     "name": "stderr",
     "output_type": "stream",
     "text": [
      "/opt/conda/lib/python3.7/site-packages/fastai/callback/schedule.py:270: UserWarning: color is redundantly defined by the 'color' keyword argument and the fmt string \"ro\" (-> color='r'). The keyword argument will take precedence.\n",
      "  ax.plot(val, idx, 'ro', label=nm, c=color)\n"
     ]
    },
    {
     "name": "stdout",
     "output_type": "stream",
     "text": [
      "Minimum/10:\t4.37e-06          \n",
      "Steepest point:\t9.12e-07          \n",
      "Longest valley:\t3.02e-01          \n",
      "Slide interval:\t8.32e-02\n"
     ]
    },
    {
     "data": {
      "image/png": "[encoded data removed]",
      "text/plain": [
       "<Figure size 432x288 with 1 Axes>"
      ]
     },
     "metadata": {
      "needs_background": "light"
     },
     "output_type": "display_data"
    }
   ],
   "source": [
    "suggested_lrs = show_me_lrs(learn_reg_back)"
   ]
  },
  {
   "cell_type": "code",
   "execution_count": 29,
   "id": "62048b97",
   "metadata": {
    "execution": {
     "iopub.execute_input": "2021-07-31T11:13:29.546512Z",
     "iopub.status.busy": "2021-07-31T11:13:29.544287Z",
     "iopub.status.idle": "2021-07-31T11:38:11.282404Z",
     "shell.execute_reply": "2021-07-31T11:38:11.283032Z"
    },
    "papermill": {
     "duration": 1482.181251,
     "end_time": "2021-07-31T11:38:11.283221",
     "exception": false,
     "start_time": "2021-07-31T11:13:29.101970",
     "status": "completed"
    },
    "tags": []
   },
   "outputs": [
    {
     "data": {
      "text/html": [
       "<table border=\"1\" class=\"dataframe\">\n",
       "  <thead>\n",
       "    <tr style=\"text-align: left;\">\n",
       "      <th>epoch</th>\n",
       "      <th>train_loss</th>\n",
       "      <th>valid_loss</th>\n",
       "      <th>_rmse</th>\n",
       "      <th>time</th>\n",
       "    </tr>\n",
       "  </thead>\n",
       "  <tbody>\n",
       "    <tr>\n",
       "      <td>0</td>\n",
       "      <td>1.232276</td>\n",
       "      <td>1.252768</td>\n",
       "      <td>1.119271</td>\n",
       "      <td>02:28</td>\n",
       "    </tr>\n",
       "    <tr>\n",
       "      <td>1</td>\n",
       "      <td>1.212633</td>\n",
       "      <td>1.174876</td>\n",
       "      <td>1.083917</td>\n",
       "      <td>02:28</td>\n",
       "    </tr>\n",
       "    <tr>\n",
       "      <td>2</td>\n",
       "      <td>1.308230</td>\n",
       "      <td>1.287886</td>\n",
       "      <td>1.134850</td>\n",
       "      <td>02:26</td>\n",
       "    </tr>\n",
       "    <tr>\n",
       "      <td>3</td>\n",
       "      <td>1.358390</td>\n",
       "      <td>1.337575</td>\n",
       "      <td>1.156536</td>\n",
       "      <td>02:27</td>\n",
       "    </tr>\n",
       "    <tr>\n",
       "      <td>4</td>\n",
       "      <td>1.226290</td>\n",
       "      <td>1.350776</td>\n",
       "      <td>1.162229</td>\n",
       "      <td>02:27</td>\n",
       "    </tr>\n",
       "    <tr>\n",
       "      <td>5</td>\n",
       "      <td>1.314486</td>\n",
       "      <td>1.355519</td>\n",
       "      <td>1.164268</td>\n",
       "      <td>02:28</td>\n",
       "    </tr>\n",
       "    <tr>\n",
       "      <td>6</td>\n",
       "      <td>1.303023</td>\n",
       "      <td>1.355501</td>\n",
       "      <td>1.164260</td>\n",
       "      <td>02:28</td>\n",
       "    </tr>\n",
       "    <tr>\n",
       "      <td>7</td>\n",
       "      <td>1.360729</td>\n",
       "      <td>1.356749</td>\n",
       "      <td>1.164796</td>\n",
       "      <td>02:28</td>\n",
       "    </tr>\n",
       "    <tr>\n",
       "      <td>8</td>\n",
       "      <td>1.418168</td>\n",
       "      <td>1.356745</td>\n",
       "      <td>1.164794</td>\n",
       "      <td>02:28</td>\n",
       "    </tr>\n",
       "    <tr>\n",
       "      <td>9</td>\n",
       "      <td>1.281214</td>\n",
       "      <td>1.356745</td>\n",
       "      <td>1.164794</td>\n",
       "      <td>02:28</td>\n",
       "    </tr>\n",
       "  </tbody>\n",
       "</table>"
      ],
      "text/plain": [
       "<IPython.core.display.HTML object>"
      ]
     },
     "metadata": {},
     "output_type": "display_data"
    }
   ],
   "source": [
    "learn_reg_back.unfreeze()\n",
    "learn_reg_back.fit_one_cycle(10, suggested_lrs.slide)"
   ]
  },
  {
   "cell_type": "code",
   "execution_count": 30,
   "id": "22ba52bd",
   "metadata": {
    "execution": {
     "iopub.execute_input": "2021-07-31T11:38:12.676177Z",
     "iopub.status.busy": "2021-07-31T11:38:12.675376Z",
     "iopub.status.idle": "2021-07-31T11:38:13.351055Z",
     "shell.execute_reply": "2021-07-31T11:38:13.350393Z"
    },
    "papermill": {
     "duration": 1.274123,
     "end_time": "2021-07-31T11:38:13.351292",
     "exception": false,
     "start_time": "2021-07-31T11:38:12.077169",
     "status": "completed"
    },
    "tags": []
   },
   "outputs": [],
   "source": [
    "learn_reg_back.export(\"./back_final_model\")"
   ]
  },
  {
   "cell_type": "markdown",
   "id": "a8149485",
   "metadata": {
    "papermill": {
     "duration": 0.440145,
     "end_time": "2021-07-31T11:38:14.245423",
     "exception": false,
     "start_time": "2021-07-31T11:38:13.805278",
     "status": "completed"
    },
    "tags": []
   },
   "source": [
    "## Create the forward model "
   ]
  },
  {
   "cell_type": "markdown",
   "id": "d7033596",
   "metadata": {
    "papermill": {
     "duration": 0.438331,
     "end_time": "2021-07-31T11:38:15.127583",
     "exception": false,
     "start_time": "2021-07-31T11:38:14.689252",
     "status": "completed"
    },
    "tags": []
   },
   "source": [
    "## The dataloader"
   ]
  },
  {
   "cell_type": "code",
   "execution_count": 31,
   "id": "bfae2210",
   "metadata": {
    "execution": {
     "iopub.execute_input": "2021-07-31T11:38:16.063924Z",
     "iopub.status.busy": "2021-07-31T11:38:16.048564Z",
     "iopub.status.idle": "2021-07-31T11:40:44.597300Z",
     "shell.execute_reply": "2021-07-31T11:40:44.596824Z"
    },
    "papermill": {
     "duration": 149.028246,
     "end_time": "2021-07-31T11:40:44.597434",
     "exception": false,
     "start_time": "2021-07-31T11:38:15.569188",
     "status": "completed"
    },
    "tags": []
   },
   "outputs": [
    {
     "data": {
      "text/html": [],
      "text/plain": [
       "<IPython.core.display.HTML object>"
      ]
     },
     "metadata": {},
     "output_type": "display_data"
    },
    {
     "name": "stderr",
     "output_type": "stream",
     "text": [
      "/opt/conda/lib/python3.7/site-packages/numpy/core/_asarray.py:83: VisibleDeprecationWarning: Creating an ndarray from ragged nested sequences (which is a list-or-tuple of lists-or-tuples-or ndarrays with different lengths or shapes) is deprecated. If you meant to do this, you must specify 'dtype=object' when creating the ndarray\n",
      "  return array(a, dtype, copy=False, order=order)\n"
     ]
    }
   ],
   "source": [
    "dls_lm_forward = TextDataLoaders.from_df(df_cbt_aug_pseudo_label, text_col='excerpt',\n",
    "                                      is_lm=True, valid_pct=0.1,\n",
    "                                      bs=128, seq_len=72, backwards=False)"
   ]
  },
  {
   "cell_type": "code",
   "execution_count": 32,
   "id": "4ff850d1",
   "metadata": {
    "execution": {
     "iopub.execute_input": "2021-07-31T11:40:45.542806Z",
     "iopub.status.busy": "2021-07-31T11:40:45.532553Z",
     "iopub.status.idle": "2021-07-31T11:40:45.836852Z",
     "shell.execute_reply": "2021-07-31T11:40:45.837295Z"
    },
    "papermill": {
     "duration": 0.789134,
     "end_time": "2021-07-31T11:40:45.837434",
     "exception": false,
     "start_time": "2021-07-31T11:40:45.048300",
     "status": "completed"
    },
    "tags": []
   },
   "outputs": [
    {
     "data": {
      "text/html": [
       "<table border=\"1\" class=\"dataframe\">\n",
       "  <thead>\n",
       "    <tr style=\"text-align: right;\">\n",
       "      <th></th>\n",
       "      <th>text</th>\n",
       "      <th>text_</th>\n",
       "    </tr>\n",
       "  </thead>\n",
       "  <tbody>\n",
       "    <tr>\n",
       "      <th>0</th>\n",
       "      <td>xxbos xxmaj yuadoo is scared of the dark . xxmaj everyone feels fear sometimes . xxmaj but xxmaj yuadoo can ask for help . xxmaj chidubem is worried about his schoolwork . xxmaj he can tell his teacher . xxmaj he can ask for help . xxmaj lushan is playing around ! xxmaj it 's okay to be silly sometimes . xxmaj eruro is feeling sad . xxmaj it 's okay to</td>\n",
       "      <td>xxmaj yuadoo is scared of the dark . xxmaj everyone feels fear sometimes . xxmaj but xxmaj yuadoo can ask for help . xxmaj chidubem is worried about his schoolwork . xxmaj he can tell his teacher . xxmaj he can ask for help . xxmaj lushan is playing around ! xxmaj it 's okay to be silly sometimes . xxmaj eruro is feeling sad . xxmaj it 's okay to cry</td>\n",
       "    </tr>\n",
       "    <tr>\n",
       "      <th>1</th>\n",
       "      <td>on the road , and so it happened that , one night , when he was sleeping in a city on the banks of the great river , a huge crocodile came silently up and made its way along a passage to the prince 's room .fortunately one of his guards woke up as it was trying to steal past them , and shut the crocodile up in a large hall ,</td>\n",
       "      <td>the road , and so it happened that , one night , when he was sleeping in a city on the banks of the great river , a huge crocodile came silently up and made its way along a passage to the prince 's room .fortunately one of his guards woke up as it was trying to steal past them , and shut the crocodile up in a large hall , where</td>\n",
       "    </tr>\n",
       "    <tr>\n",
       "      <th>2</th>\n",
       "      <td>and lamented , but all in vain , for go he must .then she asked him if she could not go with him .but no , that could not be . ` ` xxmaj can you tell me the way then , and i will seek you -- that i may surely be allowed to do ! '' ` ` xxmaj yes , you may do that , '' said he ;</td>\n",
       "      <td>lamented , but all in vain , for go he must .then she asked him if she could not go with him .but no , that could not be . ` ` xxmaj can you tell me the way then , and i will seek you -- that i may surely be allowed to do ! '' ` ` xxmaj yes , you may do that , '' said he ; `</td>\n",
       "    </tr>\n",
       "    <tr>\n",
       "      <th>3</th>\n",
       "      <td>to her master that someone had stolen both the bag and the bridge , and the xxmaj bad xxmaj one rushed in , mad with anger , and bade her go and seek for footsteps outside , that they might find out where the thief had gone . xxbos ` xxmaj that must be xxmaj mihrafruz , ' he thought , ` she is indeed lovely . ' just then one of</td>\n",
       "      <td>her master that someone had stolen both the bag and the bridge , and the xxmaj bad xxmaj one rushed in , mad with anger , and bade her go and seek for footsteps outside , that they might find out where the thief had gone . xxbos ` xxmaj that must be xxmaj mihrafruz , ' he thought , ` she is indeed lovely . ' just then one of the</td>\n",
       "    </tr>\n",
       "    <tr>\n",
       "      <th>4</th>\n",
       "      <td>field and see .they did go , and this time too the grass was standing , looking as fine and as thick as ever .the xxmaj king of the country in which xxmaj cinderlad 's father dwelt had a daughter whom he would give to no one who could not ride up to the top of the glass hill , for there was a high , high hill of glass , slippery</td>\n",
       "      <td>and see .they did go , and this time too the grass was standing , looking as fine and as thick as ever .the xxmaj king of the country in which xxmaj cinderlad 's father dwelt had a daughter whom he would give to no one who could not ride up to the top of the glass hill , for there was a high , high hill of glass , slippery as</td>\n",
       "    </tr>\n",
       "    <tr>\n",
       "      <th>5</th>\n",
       "      <td>for a long way -- it may have been a third part of the way up -- but when he had got so far he turned his horse round and rode down again .but the xxmaj princess thought that she had never yet seen so handsome a knight , and while he was riding up she was sitting thinking , ` ` xxmaj oh ! how i hope he may be able</td>\n",
       "      <td>a long way -- it may have been a third part of the way up -- but when he had got so far he turned his horse round and rode down again .but the xxmaj princess thought that she had never yet seen so handsome a knight , and while he was riding up she was sitting thinking , ` ` xxmaj oh ! how i hope he may be able to</td>\n",
       "    </tr>\n",
       "    <tr>\n",
       "      <th>6</th>\n",
       "      <td>way through the body , rivers to the rescue again ! xxmaj if rivers could speak , they might demand people dump their poop somewhere else . xxmaj humans are n't the only creatures rivers look after . xxmaj many birds and plants , animals and fishes , insects and flowers rely on rivers . xxbos xxmaj but if a suitor can not answer my question i cut off his head and</td>\n",
       "      <td>through the body , rivers to the rescue again ! xxmaj if rivers could speak , they might demand people dump their poop somewhere else . xxmaj humans are n't the only creatures rivers look after . xxmaj many birds and plants , animals and fishes , insects and flowers rely on rivers . xxbos xxmaj but if a suitor can not answer my question i cut off his head and hang</td>\n",
       "    </tr>\n",
       "    <tr>\n",
       "      <th>7</th>\n",
       "      <td>brought back the guards , but though they looked in all kinds of impossible places no man was to be seen , and so they told the princess . ` xxmaj he was here a moment ago -- i saw him with my own eyes , ' and the guards dared not contradict her , though they shook their heads and whispered to each other that the princess had gone mad on</td>\n",
       "      <td>back the guards , but though they looked in all kinds of impossible places no man was to be seen , and so they told the princess . ` xxmaj he was here a moment ago -- i saw him with my own eyes , ' and the guards dared not contradict her , though they shook their heads and whispered to each other that the princess had gone mad on this</td>\n",
       "    </tr>\n",
       "    <tr>\n",
       "      <th>8</th>\n",
       "      <td>had been driven so unkindly .but on the way they stayed at the court of a king , and it happened that he was holding games , and giving prizes to the best runners , boxers , and quoit - throwers .then the boy would try his strength with the rest , but he threw the quoit so far that it went beyond what had ever been thrown before , and fell</td>\n",
       "      <td>been driven so unkindly .but on the way they stayed at the court of a king , and it happened that he was holding games , and giving prizes to the best runners , boxers , and quoit - throwers .then the boy would try his strength with the rest , but he threw the quoit so far that it went beyond what had ever been thrown before , and fell in</td>\n",
       "    </tr>\n",
       "  </tbody>\n",
       "</table>"
      ],
      "text/plain": [
       "<IPython.core.display.HTML object>"
      ]
     },
     "metadata": {},
     "output_type": "display_data"
    }
   ],
   "source": [
    "dls_lm_forward.show_batch(min_n=3)"
   ]
  },
  {
   "cell_type": "markdown",
   "id": "b9911e21",
   "metadata": {
    "papermill": {
     "duration": 0.755091,
     "end_time": "2021-07-31T11:40:47.043548",
     "exception": false,
     "start_time": "2021-07-31T11:40:46.288457",
     "status": "completed"
    },
    "tags": []
   },
   "source": [
    "## The forward Language model"
   ]
  },
  {
   "cell_type": "code",
   "execution_count": 33,
   "id": "4d6dc6c2",
   "metadata": {
    "execution": {
     "iopub.execute_input": "2021-07-31T11:40:48.008269Z",
     "iopub.status.busy": "2021-07-31T11:40:48.007490Z",
     "iopub.status.idle": "2021-07-31T11:40:49.262987Z",
     "shell.execute_reply": "2021-07-31T11:40:49.262462Z"
    },
    "papermill": {
     "duration": 1.740494,
     "end_time": "2021-07-31T11:40:49.263119",
     "exception": false,
     "start_time": "2021-07-31T11:40:47.522625",
     "status": "completed"
    },
    "tags": []
   },
   "outputs": [],
   "source": [
    "learn_forward = language_model_learner(dls_lm_forward,\n",
    "                               AWD_LSTM,\n",
    "                               drop_mult=2.0,\n",
    "                               metrics=[accuracy, Perplexity()], \n",
    "                               path=path,\n",
    "                              wd=0.5).to_fp16()"
   ]
  },
  {
   "cell_type": "code",
   "execution_count": 34,
   "id": "bac5c62d",
   "metadata": {
    "execution": {
     "iopub.execute_input": "2021-07-31T11:40:50.233134Z",
     "iopub.status.busy": "2021-07-31T11:40:50.232176Z",
     "iopub.status.idle": "2021-07-31T11:40:50.237175Z",
     "shell.execute_reply": "2021-07-31T11:40:50.236675Z"
    },
    "papermill": {
     "duration": 0.499658,
     "end_time": "2021-07-31T11:40:50.237358",
     "exception": false,
     "start_time": "2021-07-31T11:40:49.737700",
     "status": "completed"
    },
    "tags": []
   },
   "outputs": [],
   "source": [
    "learn_forward.path = op_path"
   ]
  },
  {
   "cell_type": "code",
   "execution_count": 35,
   "id": "ec7367bd",
   "metadata": {
    "execution": {
     "iopub.execute_input": "2021-07-31T11:40:51.240716Z",
     "iopub.status.busy": "2021-07-31T11:40:51.239573Z",
     "iopub.status.idle": "2021-07-31T11:46:07.415988Z",
     "shell.execute_reply": "2021-07-31T11:46:07.415398Z"
    },
    "papermill": {
     "duration": 316.700521,
     "end_time": "2021-07-31T11:46:07.416155",
     "exception": false,
     "start_time": "2021-07-31T11:40:50.715634",
     "status": "completed"
    },
    "tags": []
   },
   "outputs": [
    {
     "data": {
      "text/html": [
       "<table border=\"1\" class=\"dataframe\">\n",
       "  <thead>\n",
       "    <tr style=\"text-align: left;\">\n",
       "      <th>epoch</th>\n",
       "      <th>train_loss</th>\n",
       "      <th>valid_loss</th>\n",
       "      <th>accuracy</th>\n",
       "      <th>perplexity</th>\n",
       "      <th>time</th>\n",
       "    </tr>\n",
       "  </thead>\n",
       "  <tbody>\n",
       "    <tr>\n",
       "      <td>0</td>\n",
       "      <td>4.479300</td>\n",
       "      <td>3.891581</td>\n",
       "      <td>0.282506</td>\n",
       "      <td>48.988277</td>\n",
       "      <td>05:16</td>\n",
       "    </tr>\n",
       "  </tbody>\n",
       "</table>"
      ],
      "text/plain": [
       "<IPython.core.display.HTML object>"
      ]
     },
     "metadata": {},
     "output_type": "display_data"
    }
   ],
   "source": [
    "learn_forward.fit_one_cycle(1, 2e-2)"
   ]
  },
  {
   "cell_type": "code",
   "execution_count": 36,
   "id": "c21bdc8f",
   "metadata": {
    "execution": {
     "iopub.execute_input": "2021-07-31T11:46:08.321538Z",
     "iopub.status.busy": "2021-07-31T11:46:08.320555Z",
     "iopub.status.idle": "2021-07-31T11:46:51.862120Z",
     "shell.execute_reply": "2021-07-31T11:46:51.862494Z"
    },
    "papermill": {
     "duration": 43.992914,
     "end_time": "2021-07-31T11:46:51.862665",
     "exception": false,
     "start_time": "2021-07-31T11:46:07.869751",
     "status": "completed"
    },
    "tags": []
   },
   "outputs": [
    {
     "data": {
      "text/html": [],
      "text/plain": [
       "<IPython.core.display.HTML object>"
      ]
     },
     "metadata": {},
     "output_type": "display_data"
    },
    {
     "name": "stderr",
     "output_type": "stream",
     "text": [
      "/opt/conda/lib/python3.7/site-packages/fastai/callback/schedule.py:270: UserWarning: color is redundantly defined by the 'color' keyword argument and the fmt string \"ro\" (-> color='r'). The keyword argument will take precedence.\n",
      "  ax.plot(val, idx, 'ro', label=nm, c=color)\n"
     ]
    },
    {
     "name": "stdout",
     "output_type": "stream",
     "text": [
      "Minimum/10:\t1.58e-03          \n",
      "Steepest point:\t7.59e-07          \n",
      "Longest valley:\t1.00e-03          \n",
      "Slide interval:\t4.37e-03\n"
     ]
    },
    {
     "data": {
      "image/png": "[encoded data removed]",
      "text/plain": [
       "<Figure size 432x288 with 1 Axes>"
      ]
     },
     "metadata": {
      "needs_background": "light"
     },
     "output_type": "display_data"
    }
   ],
   "source": [
    "suggested_lrs = show_me_lrs(learn_forward)"
   ]
  },
  {
   "cell_type": "code",
   "execution_count": 37,
   "id": "1fc77636",
   "metadata": {
    "execution": {
     "iopub.execute_input": "2021-07-31T11:46:52.776939Z",
     "iopub.status.busy": "2021-07-31T11:46:52.776035Z",
     "iopub.status.idle": "2021-07-31T12:04:33.888498Z",
     "shell.execute_reply": "2021-07-31T12:04:33.888968Z"
    },
    "papermill": {
     "duration": 1061.570167,
     "end_time": "2021-07-31T12:04:33.889151",
     "exception": false,
     "start_time": "2021-07-31T11:46:52.318984",
     "status": "completed"
    },
    "tags": []
   },
   "outputs": [
    {
     "data": {
      "text/html": [
       "<table border=\"1\" class=\"dataframe\">\n",
       "  <thead>\n",
       "    <tr style=\"text-align: left;\">\n",
       "      <th>epoch</th>\n",
       "      <th>train_loss</th>\n",
       "      <th>valid_loss</th>\n",
       "      <th>accuracy</th>\n",
       "      <th>perplexity</th>\n",
       "      <th>time</th>\n",
       "    </tr>\n",
       "  </thead>\n",
       "  <tbody>\n",
       "    <tr>\n",
       "      <td>0</td>\n",
       "      <td>3.618451</td>\n",
       "      <td>3.171982</td>\n",
       "      <td>0.370171</td>\n",
       "      <td>23.854708</td>\n",
       "      <td>05:52</td>\n",
       "    </tr>\n",
       "    <tr>\n",
       "      <td>1</td>\n",
       "      <td>3.163433</td>\n",
       "      <td>2.697603</td>\n",
       "      <td>0.453273</td>\n",
       "      <td>14.844104</td>\n",
       "      <td>05:54</td>\n",
       "    </tr>\n",
       "    <tr>\n",
       "      <td>2</td>\n",
       "      <td>2.912815</td>\n",
       "      <td>2.432537</td>\n",
       "      <td>0.510846</td>\n",
       "      <td>11.387734</td>\n",
       "      <td>05:53</td>\n",
       "    </tr>\n",
       "  </tbody>\n",
       "</table>"
      ],
      "text/plain": [
       "<IPython.core.display.HTML object>"
      ]
     },
     "metadata": {},
     "output_type": "display_data"
    }
   ],
   "source": [
    "learn_forward.unfreeze()\n",
    "learn_forward.fit_one_cycle(3, suggested_lrs.slide)"
   ]
  },
  {
   "cell_type": "code",
   "execution_count": 38,
   "id": "bbb7df3f",
   "metadata": {
    "execution": {
     "iopub.execute_input": "2021-07-31T12:04:34.877817Z",
     "iopub.status.busy": "2021-07-31T12:04:34.876694Z",
     "iopub.status.idle": "2021-07-31T12:04:35.143214Z",
     "shell.execute_reply": "2021-07-31T12:04:35.142697Z"
    },
    "papermill": {
     "duration": 0.768548,
     "end_time": "2021-07-31T12:04:35.143349",
     "exception": false,
     "start_time": "2021-07-31T12:04:34.374801",
     "status": "completed"
    },
    "tags": []
   },
   "outputs": [],
   "source": [
    "learn_forward.path = Path(\".\")\n",
    "learn_forward.save_encoder('./forward_final_encoder')"
   ]
  },
  {
   "cell_type": "markdown",
   "id": "6d822aae",
   "metadata": {
    "papermill": {
     "duration": 0.485911,
     "end_time": "2021-07-31T12:04:36.133294",
     "exception": false,
     "start_time": "2021-07-31T12:04:35.647383",
     "status": "completed"
    },
    "tags": []
   },
   "source": [
    "## Forward Text Regressor"
   ]
  },
  {
   "cell_type": "code",
   "execution_count": 39,
   "id": "cdcd1a91",
   "metadata": {
    "execution": {
     "iopub.execute_input": "2021-07-31T12:04:37.408141Z",
     "iopub.status.busy": "2021-07-31T12:04:37.403205Z",
     "iopub.status.idle": "2021-07-31T12:04:37.588660Z",
     "shell.execute_reply": "2021-07-31T12:04:37.588149Z"
    },
    "papermill": {
     "duration": 0.762424,
     "end_time": "2021-07-31T12:04:37.588779",
     "exception": false,
     "start_time": "2021-07-31T12:04:36.826355",
     "status": "completed"
    },
    "tags": []
   },
   "outputs": [],
   "source": [
    "data = DataBlock(\n",
    "       blocks=(TextBlock.from_df('excerpt', \n",
    "                                 vocab=dls_lm_forward.vocab, seq_len=72,\n",
    "                                 backwards=False), RegressionBlock),\n",
    "       get_x=ColReader('text'),get_y=ColReader('target'),\n",
    "       splitter=TrainTestSplitter(test_size=0.2))"
   ]
  },
  {
   "cell_type": "code",
   "execution_count": 40,
   "id": "71850aa4",
   "metadata": {
    "execution": {
     "iopub.execute_input": "2021-07-31T12:04:38.580361Z",
     "iopub.status.busy": "2021-07-31T12:04:38.579753Z",
     "iopub.status.idle": "2021-07-31T12:04:38.583894Z",
     "shell.execute_reply": "2021-07-31T12:04:38.583444Z"
    },
    "papermill": {
     "duration": 0.50512,
     "end_time": "2021-07-31T12:04:38.584014",
     "exception": false,
     "start_time": "2021-07-31T12:04:38.078894",
     "status": "completed"
    },
    "tags": []
   },
   "outputs": [],
   "source": [
    "#data.summary(df_aug)"
   ]
  },
  {
   "cell_type": "markdown",
   "id": "b891d9e4",
   "metadata": {
    "papermill": {
     "duration": 0.48434,
     "end_time": "2021-07-31T12:04:39.557856",
     "exception": false,
     "start_time": "2021-07-31T12:04:39.073516",
     "status": "completed"
    },
    "tags": []
   },
   "source": [
    "## The forward dataloader"
   ]
  },
  {
   "cell_type": "code",
   "execution_count": 41,
   "id": "df568171",
   "metadata": {
    "execution": {
     "iopub.execute_input": "2021-07-31T12:04:40.561159Z",
     "iopub.status.busy": "2021-07-31T12:04:40.551052Z",
     "iopub.status.idle": "2021-07-31T12:07:23.148065Z",
     "shell.execute_reply": "2021-07-31T12:07:23.147509Z"
    },
    "papermill": {
     "duration": 163.101064,
     "end_time": "2021-07-31T12:07:23.148202",
     "exception": false,
     "start_time": "2021-07-31T12:04:40.047138",
     "status": "completed"
    },
    "tags": []
   },
   "outputs": [
    {
     "data": {
      "text/html": [],
      "text/plain": [
       "<IPython.core.display.HTML object>"
      ]
     },
     "metadata": {},
     "output_type": "display_data"
    },
    {
     "name": "stderr",
     "output_type": "stream",
     "text": [
      "/opt/conda/lib/python3.7/site-packages/numpy/core/_asarray.py:83: VisibleDeprecationWarning: Creating an ndarray from ragged nested sequences (which is a list-or-tuple of lists-or-tuples-or ndarrays with different lengths or shapes) is deprecated. If you meant to do this, you must specify 'dtype=object' when creating the ndarray\n",
      "  return array(a, dtype, copy=False, order=order)\n"
     ]
    }
   ],
   "source": [
    "dls_reg_forward = data.dataloaders(df_cbt_aug_pseudo_label, bs=64)"
   ]
  },
  {
   "cell_type": "code",
   "execution_count": 42,
   "id": "b87b574f",
   "metadata": {
    "execution": {
     "iopub.execute_input": "2021-07-31T12:07:24.066205Z",
     "iopub.status.busy": "2021-07-31T12:07:24.065395Z",
     "iopub.status.idle": "2021-07-31T12:07:24.254529Z",
     "shell.execute_reply": "2021-07-31T12:07:24.254958Z"
    },
    "papermill": {
     "duration": 0.656867,
     "end_time": "2021-07-31T12:07:24.255108",
     "exception": false,
     "start_time": "2021-07-31T12:07:23.598241",
     "status": "completed"
    },
    "tags": []
   },
   "outputs": [
    {
     "data": {
      "text/html": [
       "<table border=\"1\" class=\"dataframe\">\n",
       "  <thead>\n",
       "    <tr style=\"text-align: right;\">\n",
       "      <th></th>\n",
       "      <th>text</th>\n",
       "      <th>text_</th>\n",
       "    </tr>\n",
       "  </thead>\n",
       "  <tbody>\n",
       "    <tr>\n",
       "      <th>0</th>\n",
       "      <td>xxbos xxmaj the shops were all of a size , and all that dealt in the same sort of goods lived in one street ; as also the handicrafts - men , who kept their shops in the smaller streets .the multitude of shops , stocked with all sorts of merchandise , as the finest linens from several parts of xxmaj india , some painted in the most lively colors , and representing beasts , trees , and flowers ; silks and brocades from xxmaj persia , xxmaj china , and other places , porcelain both from xxmaj japan and xxmaj china , and tapestries , surprised him so much that he knew not how to believe his own eyes ; but when he came to the goldsmiths and jewelers he was in a kind of ecstacy to behold such prodigious quantities of wrought gold and silver , and was</td>\n",
       "      <td>-1.535057544708252</td>\n",
       "    </tr>\n",
       "    <tr>\n",
       "      <th>1</th>\n",
       "      <td>xxbos xxmaj prince xxmaj houssain could not view this division without admiration .it was large , and divided into several streets , all vaulted and shaded from the sun , and yet very light too .the shops were all of a size , and all that dealt in the same sort of goods lived in one street ; as also the handicrafts - men , who kept their shops in the smaller streets .the multitude of shops , stocked with all sorts of merchandise , as the finest linens from several parts of xxmaj india , some painted in the most lively colors , and representing beasts , trees , and flowers ; silks and brocades from xxmaj persia , xxmaj china , and other places , porcelain both from xxmaj japan and xxmaj china , and tapestries , surprised him so much that he knew not how to believe</td>\n",
       "      <td>-1.5340027809143066</td>\n",
       "    </tr>\n",
       "    <tr>\n",
       "      <th>2</th>\n",
       "      <td>xxbos xxmaj prince xxmaj houssain could not view this division without admiration .it was large , and divided into several streets , all vaulted and shaded from the sun , and yet very light too .the shops were all of a size , and all that dealt in the same sort of goods lived in one street ; as also the handicrafts - men , who kept their shops in the smaller streets .the multitude of shops , stocked with all sorts of merchandise , as the finest linens from several parts of xxmaj india , some painted in the most lively colors , and representing beasts , trees , and flowers ; silks and brocades from xxmaj persia , xxmaj china , and other places , porcelain both from xxmaj japan and xxmaj china , and tapestries , surprised him so much that he knew not how to believe</td>\n",
       "      <td>-1.5340027809143066</td>\n",
       "    </tr>\n",
       "    <tr>\n",
       "      <th>3</th>\n",
       "      <td>xxbos xxmaj as soon as the caravan was ready to set out , the xxmaj prince joined them , and arrived happily without any accident or trouble , otherwise than the length of the journey and fatigue of traveling , at the place of rendezvous , where he found xxmaj prince xxmaj houssain , and both waited for xxmaj prince xxmaj ahmed .prince xxmaj ahmed , who took the road of xxmaj samarcand , the next day after his arrival there went , as his brothers had done , into the bezestein , where he had not walked long but heard a crier , who had an artificial apple in his hand , cry it at five and thirty purses ; upon which he stopped the crier , and said to him : ` ` xxmaj let me see that apple , and tell me what virtue and extraordinary properties</td>\n",
       "      <td>-1.515252709388733</td>\n",
       "    </tr>\n",
       "    <tr>\n",
       "      <th>4</th>\n",
       "      <td>xxbos xxmaj as soon as the caravan was ready to set out , the xxmaj prince joined them , and arrived happily without any accident or trouble , otherwise than the length of the journey and fatigue of traveling , at the place of rendezvous , where he found xxmaj prince xxmaj houssain , and both waited for xxmaj prince xxmaj ahmed .prince xxmaj ahmed , who took the road of xxmaj samarcand , the next day after his arrival there went , as his brothers had done , into the bezestein , where he had not walked long but heard a crier , who had an artificial apple in his hand , cry it at five and thirty purses ; upon which he stopped the crier , and said to him : ` ` xxmaj let me see that apple , and tell me what virtue and extraordinary properties</td>\n",
       "      <td>-1.515252709388733</td>\n",
       "    </tr>\n",
       "    <tr>\n",
       "      <th>5</th>\n",
       "      <td>xxbos xxmaj the crier , addressing himself to xxmaj prince xxmaj ali , said : ` ` xxmaj sir , you are not the only person that takes me for a madman on account of this perspective glass .you shall judge yourself whether i am or no , when i have told you its property and i hope you will value it at as high a price as those i have showed it to already , who had as bad an opinion of me as you . ` ` xxmaj first , sir , '' pursued the crier , presenting the ivory pipe to the xxmaj prince , ` ` observe that this pipe is furnished with a glass at both ends ; and consider that by looking through one of them you see whatever object you wish to behold . '' ` ` i am , '' said the</td>\n",
       "      <td>-1.7511918544769287</td>\n",
       "    </tr>\n",
       "    <tr>\n",
       "      <th>6</th>\n",
       "      <td>xxbos xxmaj the crier presently showed him , and he looked through , wishing at the same time to see the xxmaj sultan his father , whom he immediately beheld in perfect health , set on his throne , in the midst of his council .afterward , as there was nothing in the world so dear to him , after the xxmaj sultan , as the xxmaj princess xxmaj nouronnihar , he wished to see her ; and saw her at her toilet laughing , and in a pleasant humor , with her women about her .prince xxmaj ali wanted no other proof to be persuaded that this perspective glass was the most valuable thing in the world , and believed that if he should neglect to purchase it he should never meet again with such another rarity .he therefore took the crier with him to the khan where he</td>\n",
       "      <td>-1.51969575881958</td>\n",
       "    </tr>\n",
       "    <tr>\n",
       "      <th>7</th>\n",
       "      <td>xxbos xxmaj prince xxmaj ali wanted no other proof to be persuaded that this perspective glass was the most valuable thing in the world , and believed that if he should neglect to purchase it he should never meet again with such another rarity .he therefore took the crier with him to the khan where he lodged , and counted him out the money , and received the perspective glass .prince xxmaj ali was overjoyed at his bargain , and persuaded himself that , as his brothers would not be able to meet with anything so rare and admirable , the xxmaj princess xxmaj nouronnihar would be the recompense of his fatigue and trouble ; that he thought of nothing but visiting the xxmaj court of xxmaj persia incognito , and seeing whatever was curious in xxmaj schiraz and thereabouts , till the caravan with which he came returned back</td>\n",
       "      <td>-1.5056545734405518</td>\n",
       "    </tr>\n",
       "    <tr>\n",
       "      <th>8</th>\n",
       "      <td>xxbos ` ` xxmaj sir , '' said the crier , giving it into his hand , ` ` if you look at the outside of this apple , it is very worthless , but if you consider its properties , virtues , and the great use and benefit it is to mankind , you will say it is no price for it , and that he who possesses it is master of a great treasure .in short , it cures all sick persons of the most mortal diseases ; and if the patient is dying it will recover him immediately and restore him to perfect health ; and this is done after the easiest manner in the world , which is by the patient 's smelling the apple . '' ` ` xxmaj if i may believe you , '' replied xxmaj prince xxmaj ahmed , ` ` the</td>\n",
       "      <td>-1.5564281940460205</td>\n",
       "    </tr>\n",
       "  </tbody>\n",
       "</table>"
      ],
      "text/plain": [
       "<IPython.core.display.HTML object>"
      ]
     },
     "metadata": {},
     "output_type": "display_data"
    }
   ],
   "source": [
    "dls_reg_forward.show_batch()"
   ]
  },
  {
   "cell_type": "markdown",
   "id": "79011fe1",
   "metadata": {
    "papermill": {
     "duration": 0.450369,
     "end_time": "2021-07-31T12:07:25.160205",
     "exception": false,
     "start_time": "2021-07-31T12:07:24.709836",
     "status": "completed"
    },
    "tags": []
   },
   "source": [
    "## The regression model"
   ]
  },
  {
   "cell_type": "code",
   "execution_count": 43,
   "id": "d1707426",
   "metadata": {
    "execution": {
     "iopub.execute_input": "2021-07-31T12:07:26.081472Z",
     "iopub.status.busy": "2021-07-31T12:07:26.080744Z",
     "iopub.status.idle": "2021-07-31T12:07:27.081830Z",
     "shell.execute_reply": "2021-07-31T12:07:27.081366Z"
    },
    "papermill": {
     "duration": 1.463318,
     "end_time": "2021-07-31T12:07:27.081954",
     "exception": false,
     "start_time": "2021-07-31T12:07:25.618636",
     "status": "completed"
    },
    "tags": []
   },
   "outputs": [],
   "source": [
    "learn_reg_forward = text_classifier_learner(dls_reg_forward, AWD_LSTM, drop_mult=2.0,\n",
    "                                opt_func=Lamb,\n",
    "                                metrics=rmse,\n",
    "                                   wd=1.0).to_fp16()"
   ]
  },
  {
   "cell_type": "code",
   "execution_count": 44,
   "id": "6315bc84",
   "metadata": {
    "execution": {
     "iopub.execute_input": "2021-07-31T12:07:27.998885Z",
     "iopub.status.busy": "2021-07-31T12:07:27.997966Z",
     "iopub.status.idle": "2021-07-31T12:07:28.111239Z",
     "shell.execute_reply": "2021-07-31T12:07:28.110763Z"
    },
    "papermill": {
     "duration": 0.569967,
     "end_time": "2021-07-31T12:07:28.111356",
     "exception": false,
     "start_time": "2021-07-31T12:07:27.541389",
     "status": "completed"
    },
    "tags": []
   },
   "outputs": [],
   "source": [
    "learn_reg_forward.path = Path(\".\")\n",
    "learn_reg_forward = learn_reg_forward.load_encoder('./forward_final_encoder')"
   ]
  },
  {
   "cell_type": "markdown",
   "id": "0242a627",
   "metadata": {
    "papermill": {
     "duration": 0.447765,
     "end_time": "2021-07-31T12:07:29.007734",
     "exception": false,
     "start_time": "2021-07-31T12:07:28.559969",
     "status": "completed"
    },
    "tags": []
   },
   "source": [
    "## Training forward regression model"
   ]
  },
  {
   "cell_type": "code",
   "execution_count": 45,
   "id": "1d972d08",
   "metadata": {
    "execution": {
     "iopub.execute_input": "2021-07-31T12:07:29.916794Z",
     "iopub.status.busy": "2021-07-31T12:07:29.915842Z",
     "iopub.status.idle": "2021-07-31T12:08:31.000239Z",
     "shell.execute_reply": "2021-07-31T12:08:30.999710Z"
    },
    "papermill": {
     "duration": 61.539952,
     "end_time": "2021-07-31T12:08:31.000381",
     "exception": false,
     "start_time": "2021-07-31T12:07:29.460429",
     "status": "completed"
    },
    "tags": []
   },
   "outputs": [
    {
     "data": {
      "text/html": [
       "<table border=\"1\" class=\"dataframe\">\n",
       "  <thead>\n",
       "    <tr style=\"text-align: left;\">\n",
       "      <th>epoch</th>\n",
       "      <th>train_loss</th>\n",
       "      <th>valid_loss</th>\n",
       "      <th>_rmse</th>\n",
       "      <th>time</th>\n",
       "    </tr>\n",
       "  </thead>\n",
       "  <tbody>\n",
       "    <tr>\n",
       "      <td>0</td>\n",
       "      <td>1.174593</td>\n",
       "      <td>1.582004</td>\n",
       "      <td>1.257777</td>\n",
       "      <td>01:01</td>\n",
       "    </tr>\n",
       "  </tbody>\n",
       "</table>"
      ],
      "text/plain": [
       "<IPython.core.display.HTML object>"
      ]
     },
     "metadata": {},
     "output_type": "display_data"
    }
   ],
   "source": [
    "learn_reg_forward.fit_one_cycle(1, 1e-2)"
   ]
  },
  {
   "cell_type": "code",
   "execution_count": 46,
   "id": "3cc5f910",
   "metadata": {
    "execution": {
     "iopub.execute_input": "2021-07-31T12:08:32.047926Z",
     "iopub.status.busy": "2021-07-31T12:08:32.047156Z",
     "iopub.status.idle": "2021-07-31T12:08:56.765208Z",
     "shell.execute_reply": "2021-07-31T12:08:56.764778Z"
    },
    "papermill": {
     "duration": 25.21752,
     "end_time": "2021-07-31T12:08:56.765327",
     "exception": false,
     "start_time": "2021-07-31T12:08:31.547807",
     "status": "completed"
    },
    "tags": []
   },
   "outputs": [
    {
     "data": {
      "text/html": [],
      "text/plain": [
       "<IPython.core.display.HTML object>"
      ]
     },
     "metadata": {},
     "output_type": "display_data"
    },
    {
     "name": "stderr",
     "output_type": "stream",
     "text": [
      "/opt/conda/lib/python3.7/site-packages/fastai/callback/schedule.py:270: UserWarning: color is redundantly defined by the 'color' keyword argument and the fmt string \"ro\" (-> color='r'). The keyword argument will take precedence.\n",
      "  ax.plot(val, idx, 'ro', label=nm, c=color)\n"
     ]
    },
    {
     "name": "stdout",
     "output_type": "stream",
     "text": [
      "Minimum/10:\t1.58e-07          \n",
      "Steepest point:\t6.31e-07          \n",
      "Longest valley:\t8.32e-02          \n",
      "Slide interval:\t4.79e-02\n"
     ]
    },
    {
     "data": {
      "image/png": "[encoded data removed]",
      "text/plain": [
       "<Figure size 432x288 with 1 Axes>"
      ]
     },
     "metadata": {
      "needs_background": "light"
     },
     "output_type": "display_data"
    }
   ],
   "source": [
    "suggested_lrs = show_me_lrs(learn_reg_forward)"
   ]
  },
  {
   "cell_type": "code",
   "execution_count": 47,
   "id": "4f44fc5c",
   "metadata": {
    "execution": {
     "iopub.execute_input": "2021-07-31T12:08:57.950042Z",
     "iopub.status.busy": "2021-07-31T12:08:57.949275Z",
     "iopub.status.idle": "2021-07-31T12:10:12.444457Z",
     "shell.execute_reply": "2021-07-31T12:10:12.444959Z"
    },
    "papermill": {
     "duration": 75.222116,
     "end_time": "2021-07-31T12:10:12.445146",
     "exception": false,
     "start_time": "2021-07-31T12:08:57.223030",
     "status": "completed"
    },
    "tags": []
   },
   "outputs": [
    {
     "data": {
      "text/html": [
       "<table border=\"1\" class=\"dataframe\">\n",
       "  <thead>\n",
       "    <tr style=\"text-align: left;\">\n",
       "      <th>epoch</th>\n",
       "      <th>train_loss</th>\n",
       "      <th>valid_loss</th>\n",
       "      <th>_rmse</th>\n",
       "      <th>time</th>\n",
       "    </tr>\n",
       "  </thead>\n",
       "  <tbody>\n",
       "    <tr>\n",
       "      <td>0</td>\n",
       "      <td>1.152806</td>\n",
       "      <td>1.503283</td>\n",
       "      <td>1.226084</td>\n",
       "      <td>01:14</td>\n",
       "    </tr>\n",
       "  </tbody>\n",
       "</table>"
      ],
      "text/plain": [
       "<IPython.core.display.HTML object>"
      ]
     },
     "metadata": {},
     "output_type": "display_data"
    }
   ],
   "source": [
    "learn_reg_forward.freeze_to(-2)\n",
    "learn_reg_forward.fit_one_cycle(1, suggested_lrs.slide)"
   ]
  },
  {
   "cell_type": "code",
   "execution_count": 48,
   "id": "223d8bec",
   "metadata": {
    "execution": {
     "iopub.execute_input": "2021-07-31T12:10:13.427676Z",
     "iopub.status.busy": "2021-07-31T12:10:13.426812Z",
     "iopub.status.idle": "2021-07-31T12:10:45.259094Z",
     "shell.execute_reply": "2021-07-31T12:10:45.259583Z"
    },
    "papermill": {
     "duration": 32.302316,
     "end_time": "2021-07-31T12:10:45.259765",
     "exception": false,
     "start_time": "2021-07-31T12:10:12.957449",
     "status": "completed"
    },
    "tags": []
   },
   "outputs": [
    {
     "data": {
      "text/html": [],
      "text/plain": [
       "<IPython.core.display.HTML object>"
      ]
     },
     "metadata": {},
     "output_type": "display_data"
    },
    {
     "name": "stderr",
     "output_type": "stream",
     "text": [
      "/opt/conda/lib/python3.7/site-packages/fastai/callback/schedule.py:270: UserWarning: color is redundantly defined by the 'color' keyword argument and the fmt string \"ro\" (-> color='r'). The keyword argument will take precedence.\n",
      "  ax.plot(val, idx, 'ro', label=nm, c=color)\n"
     ]
    },
    {
     "name": "stdout",
     "output_type": "stream",
     "text": [
      "Minimum/10:\t5.75e-03          \n",
      "Steepest point:\t3.31e-06          \n",
      "Longest valley:\t4.37e-03          \n",
      "Slide interval:\t1.74e-01\n"
     ]
    },
    {
     "data": {
      "image/png": "[encoded data removed]",
      "text/plain": [
       "<Figure size 432x288 with 1 Axes>"
      ]
     },
     "metadata": {
      "needs_background": "light"
     },
     "output_type": "display_data"
    }
   ],
   "source": [
    "suggested_lrs = show_me_lrs(learn_reg_forward)"
   ]
  },
  {
   "cell_type": "code",
   "execution_count": 49,
   "id": "c4528b38",
   "metadata": {
    "execution": {
     "iopub.execute_input": "2021-07-31T12:10:46.293354Z",
     "iopub.status.busy": "2021-07-31T12:10:46.292440Z",
     "iopub.status.idle": "2021-07-31T12:12:40.797515Z",
     "shell.execute_reply": "2021-07-31T12:12:40.798751Z"
    },
    "papermill": {
     "duration": 115.028345,
     "end_time": "2021-07-31T12:12:40.798985",
     "exception": false,
     "start_time": "2021-07-31T12:10:45.770640",
     "status": "completed"
    },
    "tags": []
   },
   "outputs": [
    {
     "data": {
      "text/html": [
       "<table border=\"1\" class=\"dataframe\">\n",
       "  <thead>\n",
       "    <tr style=\"text-align: left;\">\n",
       "      <th>epoch</th>\n",
       "      <th>train_loss</th>\n",
       "      <th>valid_loss</th>\n",
       "      <th>_rmse</th>\n",
       "      <th>time</th>\n",
       "    </tr>\n",
       "  </thead>\n",
       "  <tbody>\n",
       "    <tr>\n",
       "      <td>0</td>\n",
       "      <td>0.991559</td>\n",
       "      <td>1.005136</td>\n",
       "      <td>1.002565</td>\n",
       "      <td>01:54</td>\n",
       "    </tr>\n",
       "  </tbody>\n",
       "</table>"
      ],
      "text/plain": [
       "<IPython.core.display.HTML object>"
      ]
     },
     "metadata": {},
     "output_type": "display_data"
    }
   ],
   "source": [
    "learn_reg_forward.freeze_to(-3)\n",
    "learn_reg_forward.fit_one_cycle(1, suggested_lrs.slide)"
   ]
  },
  {
   "cell_type": "code",
   "execution_count": 50,
   "id": "cc3d91d2",
   "metadata": {
    "execution": {
     "iopub.execute_input": "2021-07-31T12:12:41.843148Z",
     "iopub.status.busy": "2021-07-31T12:12:41.842265Z",
     "iopub.status.idle": "2021-07-31T12:13:27.561112Z",
     "shell.execute_reply": "2021-07-31T12:13:27.561502Z"
    },
    "papermill": {
     "duration": 46.206112,
     "end_time": "2021-07-31T12:13:27.561686",
     "exception": false,
     "start_time": "2021-07-31T12:12:41.355574",
     "status": "completed"
    },
    "tags": []
   },
   "outputs": [
    {
     "data": {
      "text/html": [],
      "text/plain": [
       "<IPython.core.display.HTML object>"
      ]
     },
     "metadata": {},
     "output_type": "display_data"
    },
    {
     "name": "stderr",
     "output_type": "stream",
     "text": [
      "/opt/conda/lib/python3.7/site-packages/fastai/callback/schedule.py:270: UserWarning: color is redundantly defined by the 'color' keyword argument and the fmt string \"ro\" (-> color='r'). The keyword argument will take precedence.\n",
      "  ax.plot(val, idx, 'ro', label=nm, c=color)\n"
     ]
    },
    {
     "name": "stdout",
     "output_type": "stream",
     "text": [
      "Minimum/10:\t2.75e-07          \n",
      "Steepest point:\t1.91e-06          \n",
      "Longest valley:\t1.20e-01          \n",
      "Slide interval:\t1.74e-01\n"
     ]
    },
    {
     "data": {
      "image/png": "[encoded data removed]",
      "text/plain": [
       "<Figure size 432x288 with 1 Axes>"
      ]
     },
     "metadata": {
      "needs_background": "light"
     },
     "output_type": "display_data"
    }
   ],
   "source": [
    "suggested_lrs = show_me_lrs(learn_reg_forward)"
   ]
  },
  {
   "cell_type": "code",
   "execution_count": 51,
   "id": "f7fe9eff",
   "metadata": {
    "execution": {
     "iopub.execute_input": "2021-07-31T12:13:28.528984Z",
     "iopub.status.busy": "2021-07-31T12:13:28.528401Z",
     "iopub.status.idle": "2021-07-31T12:30:55.709439Z",
     "shell.execute_reply": "2021-07-31T12:30:55.709916Z"
    },
    "papermill": {
     "duration": 1047.664908,
     "end_time": "2021-07-31T12:30:55.710076",
     "exception": false,
     "start_time": "2021-07-31T12:13:28.045168",
     "status": "completed"
    },
    "tags": []
   },
   "outputs": [
    {
     "data": {
      "text/html": [
       "<table border=\"1\" class=\"dataframe\">\n",
       "  <thead>\n",
       "    <tr style=\"text-align: left;\">\n",
       "      <th>epoch</th>\n",
       "      <th>train_loss</th>\n",
       "      <th>valid_loss</th>\n",
       "      <th>_rmse</th>\n",
       "      <th>time</th>\n",
       "    </tr>\n",
       "  </thead>\n",
       "  <tbody>\n",
       "    <tr>\n",
       "      <td>0</td>\n",
       "      <td>0.830327</td>\n",
       "      <td>0.879872</td>\n",
       "      <td>0.938015</td>\n",
       "      <td>02:28</td>\n",
       "    </tr>\n",
       "    <tr>\n",
       "      <td>1</td>\n",
       "      <td>1.261609</td>\n",
       "      <td>1.376222</td>\n",
       "      <td>1.173125</td>\n",
       "      <td>02:29</td>\n",
       "    </tr>\n",
       "    <tr>\n",
       "      <td>2</td>\n",
       "      <td>1.404444</td>\n",
       "      <td>1.380101</td>\n",
       "      <td>1.174777</td>\n",
       "      <td>02:30</td>\n",
       "    </tr>\n",
       "    <tr>\n",
       "      <td>3</td>\n",
       "      <td>1.311094</td>\n",
       "      <td>1.380101</td>\n",
       "      <td>1.174777</td>\n",
       "      <td>02:29</td>\n",
       "    </tr>\n",
       "    <tr>\n",
       "      <td>4</td>\n",
       "      <td>1.330402</td>\n",
       "      <td>1.380101</td>\n",
       "      <td>1.174777</td>\n",
       "      <td>02:29</td>\n",
       "    </tr>\n",
       "    <tr>\n",
       "      <td>5</td>\n",
       "      <td>1.439796</td>\n",
       "      <td>1.380101</td>\n",
       "      <td>1.174777</td>\n",
       "      <td>02:29</td>\n",
       "    </tr>\n",
       "    <tr>\n",
       "      <td>6</td>\n",
       "      <td>1.363186</td>\n",
       "      <td>1.380101</td>\n",
       "      <td>1.174777</td>\n",
       "      <td>02:30</td>\n",
       "    </tr>\n",
       "  </tbody>\n",
       "</table>"
      ],
      "text/plain": [
       "<IPython.core.display.HTML object>"
      ]
     },
     "metadata": {},
     "output_type": "display_data"
    }
   ],
   "source": [
    "learn_reg_forward.unfreeze()\n",
    "learn_reg_forward.fit_one_cycle(7, suggested_lrs.slide)"
   ]
  },
  {
   "cell_type": "code",
   "execution_count": 52,
   "id": "75dcfc17",
   "metadata": {
    "execution": {
     "iopub.execute_input": "2021-07-31T12:30:56.699000Z",
     "iopub.status.busy": "2021-07-31T12:30:56.698339Z",
     "iopub.status.idle": "2021-07-31T12:30:57.264039Z",
     "shell.execute_reply": "2021-07-31T12:30:57.264434Z"
    },
    "papermill": {
     "duration": 1.050519,
     "end_time": "2021-07-31T12:30:57.264609",
     "exception": false,
     "start_time": "2021-07-31T12:30:56.214090",
     "status": "completed"
    },
    "tags": []
   },
   "outputs": [],
   "source": [
    "learn_reg_forward.export(\"./forward_final_model\")"
   ]
  },
  {
   "cell_type": "code",
   "execution_count": null,
   "id": "763bc449",
   "metadata": {
    "papermill": {
     "duration": 0.468278,
     "end_time": "2021-07-31T12:30:58.213179",
     "exception": false,
     "start_time": "2021-07-31T12:30:57.744901",
     "status": "completed"
    },
    "tags": []
   },
   "outputs": [],
   "source": []
  }
 ],
 "metadata": {
  "kernelspec": {
   "display_name": "Python 3",
   "language": "python",
   "name": "python3"
  },
  "language_info": {
   "codemirror_mode": {
    "name": "ipython",
    "version": 3
   },
   "file_extension": ".py",
   "mimetype": "text/x-python",
   "name": "python",
   "nbconvert_exporter": "python",
   "pygments_lexer": "ipython3",
   "version": "3.7.10"
  },
  "papermill": {
   "default_parameters": {},
   "duration": 7194.633363,
   "end_time": "2021-07-31T12:31:02.462058",
   "environment_variables": {},
   "exception": null,
   "input_path": "__notebook__.ipynb",
   "output_path": "__notebook__.ipynb",
   "parameters": {},
   "start_time": "2021-07-31T10:31:07.828695",
   "version": "2.3.3"
  }
 },
 "nbformat": 4,
 "nbformat_minor": 5
}
