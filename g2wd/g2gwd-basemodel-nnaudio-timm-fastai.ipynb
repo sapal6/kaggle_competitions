{
 "cells": [
  {
   "cell_type": "markdown",
   "id": "a7722abd",
   "metadata": {
    "_cell_guid": "b1076dfc-b9ad-4769-8c92-a6c4dae69d19",
    "_uuid": "8f2839f25d086af736a60e9eeb907d3b93b6e0e5",
    "papermill": {
     "duration": 0.059579,
     "end_time": "2021-09-02T03:59:23.794024",
     "exception": false,
     "start_time": "2021-09-02T03:59:23.734445",
     "status": "completed"
    },
    "tags": []
   },
   "source": [
    "## What is this?\n",
    "Experiment to weave nnaudio, timm and fastai together\n",
    "\n",
    "## What's in this version?\n",
    "👉 Create transformation function with nnAudio.\n",
    "\n",
    "👉 Create a custom Transform with fastai.\n",
    "\n",
    "👉 Check if a custom Dataset can be created using fastai+nnAudio.\n",
    "\n",
    "## TBD\n",
    "👉 Dataloader\n",
    "\n",
    "👉 Learner\n",
    "\n",
    "👉 Training"
   ]
  },
  {
   "cell_type": "code",
   "execution_count": 1,
   "id": "5be20a2e",
   "metadata": {
    "execution": {
     "iopub.execute_input": "2021-09-02T03:59:23.918342Z",
     "iopub.status.busy": "2021-09-02T03:59:23.917677Z",
     "iopub.status.idle": "2021-09-02T03:59:23.948260Z",
     "shell.execute_reply": "2021-09-02T03:59:23.947710Z",
     "shell.execute_reply.started": "2021-09-02T02:54:20.26994Z"
    },
    "jupyter": {
     "source_hidden": true
    },
    "papermill": {
     "duration": 0.099934,
     "end_time": "2021-09-02T03:59:23.948403",
     "exception": false,
     "start_time": "2021-09-02T03:59:23.848469",
     "status": "completed"
    },
    "tags": []
   },
   "outputs": [],
   "source": [
    "%reload_ext autoreload\n",
    "%autoreload 2\n",
    "%matplotlib inline"
   ]
  },
  {
   "cell_type": "markdown",
   "id": "56b709ef",
   "metadata": {
    "papermill": {
     "duration": 0.054982,
     "end_time": "2021-09-02T03:59:24.059094",
     "exception": false,
     "start_time": "2021-09-02T03:59:24.004112",
     "status": "completed"
    },
    "tags": []
   },
   "source": [
    "## Installing all the required libraries⚙️\n",
    "👉 Spacy\n",
    "\n",
    "👉 Fastai\n",
    "\n",
    "👉 nnAudio\n",
    "\n",
    "👉 timm"
   ]
  },
  {
   "cell_type": "code",
   "execution_count": 2,
   "id": "045542d1",
   "metadata": {
    "execution": {
     "iopub.execute_input": "2021-09-02T03:59:24.183128Z",
     "iopub.status.busy": "2021-09-02T03:59:24.182214Z",
     "iopub.status.idle": "2021-09-02T03:59:24.218814Z",
     "shell.execute_reply": "2021-09-02T03:59:24.219937Z",
     "shell.execute_reply.started": "2021-09-02T02:54:20.336759Z"
    },
    "jupyter": {
     "source_hidden": true
    },
    "papermill": {
     "duration": 0.106096,
     "end_time": "2021-09-02T03:59:24.220151",
     "exception": false,
     "start_time": "2021-09-02T03:59:24.114055",
     "status": "completed"
    },
    "tags": []
   },
   "outputs": [],
   "source": [
    "#!pip install spacy==3.1.1"
   ]
  },
  {
   "cell_type": "code",
   "execution_count": 3,
   "id": "2ab7ef9e",
   "metadata": {
    "_kg_hide-input": true,
    "_kg_hide-output": true,
    "execution": {
     "iopub.execute_input": "2021-09-02T03:59:24.345885Z",
     "iopub.status.busy": "2021-09-02T03:59:24.345120Z",
     "iopub.status.idle": "2021-09-02T04:00:59.659815Z",
     "shell.execute_reply": "2021-09-02T04:00:59.659274Z",
     "shell.execute_reply.started": "2021-09-02T02:54:20.484856Z"
    },
    "jupyter": {
     "source_hidden": true
    },
    "papermill": {
     "duration": 95.373401,
     "end_time": "2021-09-02T04:00:59.659963",
     "exception": false,
     "start_time": "2021-09-02T03:59:24.286562",
     "status": "completed"
    },
    "tags": []
   },
   "outputs": [
    {
     "name": "stdout",
     "output_type": "stream",
     "text": [
      "Collecting fastai==2.5.2\r\n",
      "  Downloading fastai-2.5.2-py3-none-any.whl (186 kB)\r\n",
      "\u001b[K     |████████████████████████████████| 186 kB 808 kB/s \r\n",
      "\u001b[?25hCollecting torchvision>=0.8.2\r\n",
      "  Downloading torchvision-0.10.0-cp37-cp37m-manylinux1_x86_64.whl (22.1 MB)\r\n",
      "\u001b[K     |████████████████████████████████| 22.1 MB 7.0 MB/s \r\n",
      "\u001b[?25hRequirement already satisfied: requests in /opt/conda/lib/python3.7/site-packages (from fastai==2.5.2) (2.25.1)\r\n",
      "Requirement already satisfied: packaging in /opt/conda/lib/python3.7/site-packages (from fastai==2.5.2) (20.9)\r\n",
      "Requirement already satisfied: scikit-learn in /opt/conda/lib/python3.7/site-packages (from fastai==2.5.2) (0.23.2)\r\n",
      "Requirement already satisfied: pandas in /opt/conda/lib/python3.7/site-packages (from fastai==2.5.2) (1.2.4)\r\n",
      "Requirement already satisfied: pyyaml in /opt/conda/lib/python3.7/site-packages (from fastai==2.5.2) (5.4.1)\r\n",
      "Requirement already satisfied: fastprogress>=0.2.4 in /opt/conda/lib/python3.7/site-packages (from fastai==2.5.2) (1.0.0)\r\n",
      "Requirement already satisfied: torch<1.10,>=1.7.0 in /opt/conda/lib/python3.7/site-packages (from fastai==2.5.2) (1.7.0)\r\n",
      "Requirement already satisfied: pillow>6.0.0 in /opt/conda/lib/python3.7/site-packages (from fastai==2.5.2) (8.2.0)\r\n",
      "Requirement already satisfied: pip in /opt/conda/lib/python3.7/site-packages (from fastai==2.5.2) (21.1.2)\r\n",
      "Collecting fastdownload<2,>=0.0.5\r\n",
      "  Downloading fastdownload-0.0.5-py3-none-any.whl (13 kB)\r\n",
      "Requirement already satisfied: spacy<4 in /opt/conda/lib/python3.7/site-packages (from fastai==2.5.2) (2.3.7)\r\n",
      "Requirement already satisfied: matplotlib in /opt/conda/lib/python3.7/site-packages (from fastai==2.5.2) (3.4.2)\r\n",
      "Requirement already satisfied: scipy in /opt/conda/lib/python3.7/site-packages (from fastai==2.5.2) (1.6.3)\r\n",
      "Requirement already satisfied: fastcore<1.4,>=1.3.8 in /opt/conda/lib/python3.7/site-packages (from fastai==2.5.2) (1.3.20)\r\n",
      "Collecting fastcore<1.4,>=1.3.8\r\n",
      "  Downloading fastcore-1.3.26-py3-none-any.whl (56 kB)\r\n",
      "\u001b[K     |████████████████████████████████| 56 kB 3.9 MB/s \r\n",
      "\u001b[?25hRequirement already satisfied: numpy in /opt/conda/lib/python3.7/site-packages (from fastprogress>=0.2.4->fastai==2.5.2) (1.19.5)\r\n",
      "Requirement already satisfied: catalogue<1.1.0,>=0.0.7 in /opt/conda/lib/python3.7/site-packages (from spacy<4->fastai==2.5.2) (1.0.0)\r\n",
      "Requirement already satisfied: preshed<3.1.0,>=3.0.2 in /opt/conda/lib/python3.7/site-packages (from spacy<4->fastai==2.5.2) (3.0.5)\r\n",
      "Requirement already satisfied: plac<1.2.0,>=0.9.6 in /opt/conda/lib/python3.7/site-packages (from spacy<4->fastai==2.5.2) (1.1.3)\r\n",
      "Requirement already satisfied: srsly<1.1.0,>=1.0.2 in /opt/conda/lib/python3.7/site-packages (from spacy<4->fastai==2.5.2) (1.0.5)\r\n",
      "Requirement already satisfied: tqdm<5.0.0,>=4.38.0 in /opt/conda/lib/python3.7/site-packages (from spacy<4->fastai==2.5.2) (4.61.1)\r\n",
      "Requirement already satisfied: wasabi<1.1.0,>=0.4.0 in /opt/conda/lib/python3.7/site-packages (from spacy<4->fastai==2.5.2) (0.8.2)\r\n",
      "Requirement already satisfied: thinc<7.5.0,>=7.4.1 in /opt/conda/lib/python3.7/site-packages (from spacy<4->fastai==2.5.2) (7.4.5)\r\n",
      "Requirement already satisfied: cymem<2.1.0,>=2.0.2 in /opt/conda/lib/python3.7/site-packages (from spacy<4->fastai==2.5.2) (2.0.5)\r\n",
      "Requirement already satisfied: blis<0.8.0,>=0.4.0 in /opt/conda/lib/python3.7/site-packages (from spacy<4->fastai==2.5.2) (0.7.4)\r\n",
      "Requirement already satisfied: setuptools in /opt/conda/lib/python3.7/site-packages (from spacy<4->fastai==2.5.2) (49.6.0.post20210108)\r\n",
      "Requirement already satisfied: murmurhash<1.1.0,>=0.28.0 in /opt/conda/lib/python3.7/site-packages (from spacy<4->fastai==2.5.2) (1.0.5)\r\n",
      "Requirement already satisfied: importlib-metadata>=0.20 in /opt/conda/lib/python3.7/site-packages (from catalogue<1.1.0,>=0.0.7->spacy<4->fastai==2.5.2) (3.4.0)\r\n",
      "Requirement already satisfied: typing-extensions>=3.6.4 in /opt/conda/lib/python3.7/site-packages (from importlib-metadata>=0.20->catalogue<1.1.0,>=0.0.7->spacy<4->fastai==2.5.2) (3.7.4.3)\r\n",
      "Requirement already satisfied: zipp>=0.5 in /opt/conda/lib/python3.7/site-packages (from importlib-metadata>=0.20->catalogue<1.1.0,>=0.0.7->spacy<4->fastai==2.5.2) (3.4.1)\r\n",
      "Requirement already satisfied: chardet<5,>=3.0.2 in /opt/conda/lib/python3.7/site-packages (from requests->fastai==2.5.2) (4.0.0)\r\n",
      "Requirement already satisfied: certifi>=2017.4.17 in /opt/conda/lib/python3.7/site-packages (from requests->fastai==2.5.2) (2021.5.30)\r\n",
      "Requirement already satisfied: idna<3,>=2.5 in /opt/conda/lib/python3.7/site-packages (from requests->fastai==2.5.2) (2.10)\r\n",
      "Requirement already satisfied: urllib3<1.27,>=1.21.1 in /opt/conda/lib/python3.7/site-packages (from requests->fastai==2.5.2) (1.26.5)\r\n",
      "Requirement already satisfied: future in /opt/conda/lib/python3.7/site-packages (from torch<1.10,>=1.7.0->fastai==2.5.2) (0.18.2)\r\n",
      "Requirement already satisfied: dataclasses in /opt/conda/lib/python3.7/site-packages (from torch<1.10,>=1.7.0->fastai==2.5.2) (0.6)\r\n",
      "Collecting torch<1.10,>=1.7.0\r\n",
      "  Downloading torch-1.9.0-cp37-cp37m-manylinux1_x86_64.whl (831.4 MB)\r\n",
      "\u001b[K     |████████████████████████████████| 831.4 MB 1.1 kB/s \r\n",
      "\u001b[?25hRequirement already satisfied: cycler>=0.10 in /opt/conda/lib/python3.7/site-packages (from matplotlib->fastai==2.5.2) (0.10.0)\r\n",
      "Requirement already satisfied: python-dateutil>=2.7 in /opt/conda/lib/python3.7/site-packages (from matplotlib->fastai==2.5.2) (2.8.1)\r\n",
      "Requirement already satisfied: pyparsing>=2.2.1 in /opt/conda/lib/python3.7/site-packages (from matplotlib->fastai==2.5.2) (2.4.7)\r\n",
      "Requirement already satisfied: kiwisolver>=1.0.1 in /opt/conda/lib/python3.7/site-packages (from matplotlib->fastai==2.5.2) (1.3.1)\r\n",
      "Requirement already satisfied: six in /opt/conda/lib/python3.7/site-packages (from cycler>=0.10->matplotlib->fastai==2.5.2) (1.15.0)\r\n",
      "Requirement already satisfied: pytz>=2017.3 in /opt/conda/lib/python3.7/site-packages (from pandas->fastai==2.5.2) (2021.1)\r\n",
      "Requirement already satisfied: threadpoolctl>=2.0.0 in /opt/conda/lib/python3.7/site-packages (from scikit-learn->fastai==2.5.2) (2.1.0)\r\n",
      "Requirement already satisfied: joblib>=0.11 in /opt/conda/lib/python3.7/site-packages (from scikit-learn->fastai==2.5.2) (1.0.1)\r\n",
      "Installing collected packages: torch, fastcore, torchvision, fastdownload, fastai\r\n",
      "  Attempting uninstall: torch\r\n",
      "    Found existing installation: torch 1.7.0\r\n",
      "    Uninstalling torch-1.7.0:\r\n",
      "      Successfully uninstalled torch-1.7.0\r\n",
      "  Attempting uninstall: fastcore\r\n",
      "    Found existing installation: fastcore 1.3.20\r\n",
      "    Uninstalling fastcore-1.3.20:\r\n",
      "      Successfully uninstalled fastcore-1.3.20\r\n",
      "  Attempting uninstall: torchvision\r\n",
      "    Found existing installation: torchvision 0.8.1\r\n",
      "    Uninstalling torchvision-0.8.1:\r\n",
      "      Successfully uninstalled torchvision-0.8.1\r\n",
      "  Attempting uninstall: fastai\r\n",
      "    Found existing installation: fastai 2.2.7\r\n",
      "    Uninstalling fastai-2.2.7:\r\n",
      "      Successfully uninstalled fastai-2.2.7\r\n",
      "\u001b[31mERROR: pip's dependency resolver does not currently take into account all the packages that are installed. This behaviour is the source of the following dependency conflicts.\r\n",
      "kornia 0.5.5 requires numpy<=1.19, but you have numpy 1.19.5 which is incompatible.\r\n",
      "allennlp 2.5.0 requires torch<1.9.0,>=1.6.0, but you have torch 1.9.0 which is incompatible.\r\n",
      "allennlp 2.5.0 requires torchvision<0.10.0,>=0.8.1, but you have torchvision 0.10.0 which is incompatible.\u001b[0m\r\n",
      "Successfully installed fastai-2.5.2 fastcore-1.3.26 fastdownload-0.0.5 torch-1.9.0 torchvision-0.10.0\r\n",
      "\u001b[33mWARNING: Running pip as root will break packages and permissions. You should install packages reliably by using venv: https://pip.pypa.io/warnings/venv\u001b[0m\r\n"
     ]
    }
   ],
   "source": [
    "#!yes Y|conda install -c fastai fastai=2.5.2\n",
    "!pip install fastai==2.5.2"
   ]
  },
  {
   "cell_type": "code",
   "execution_count": 4,
   "id": "77a8b29b",
   "metadata": {
    "execution": {
     "iopub.execute_input": "2021-09-02T04:01:00.408207Z",
     "iopub.status.busy": "2021-09-02T04:01:00.407275Z",
     "iopub.status.idle": "2021-09-02T04:01:08.321412Z",
     "shell.execute_reply": "2021-09-02T04:01:08.321883Z",
     "shell.execute_reply.started": "2021-09-02T02:55:52.006049Z"
    },
    "jupyter": {
     "source_hidden": true
    },
    "papermill": {
     "duration": 8.287955,
     "end_time": "2021-09-02T04:01:08.322036",
     "exception": false,
     "start_time": "2021-09-02T04:01:00.034081",
     "status": "completed"
    },
    "tags": []
   },
   "outputs": [
    {
     "name": "stdout",
     "output_type": "stream",
     "text": [
      "Collecting timm\r\n",
      "  Downloading timm-0.4.12-py3-none-any.whl (376 kB)\r\n",
      "\u001b[K     |████████████████████████████████| 376 kB 818 kB/s \r\n",
      "\u001b[?25hRequirement already satisfied: torch>=1.4 in /opt/conda/lib/python3.7/site-packages (from timm) (1.9.0)\r\n",
      "Requirement already satisfied: torchvision in /opt/conda/lib/python3.7/site-packages (from timm) (0.10.0)\r\n",
      "Requirement already satisfied: typing-extensions in /opt/conda/lib/python3.7/site-packages (from torch>=1.4->timm) (3.7.4.3)\r\n",
      "Requirement already satisfied: numpy in /opt/conda/lib/python3.7/site-packages (from torchvision->timm) (1.19.5)\r\n",
      "Requirement already satisfied: pillow>=5.3.0 in /opt/conda/lib/python3.7/site-packages (from torchvision->timm) (8.2.0)\r\n",
      "Installing collected packages: timm\r\n",
      "Successfully installed timm-0.4.12\r\n",
      "\u001b[33mWARNING: Running pip as root will break packages and permissions. You should install packages reliably by using venv: https://pip.pypa.io/warnings/venv\u001b[0m\r\n"
     ]
    }
   ],
   "source": [
    "!pip install timm"
   ]
  },
  {
   "cell_type": "code",
   "execution_count": 5,
   "id": "dd8c9598",
   "metadata": {
    "execution": {
     "iopub.execute_input": "2021-09-02T04:01:09.047540Z",
     "iopub.status.busy": "2021-09-02T04:01:09.046937Z",
     "iopub.status.idle": "2021-09-02T04:01:15.534409Z",
     "shell.execute_reply": "2021-09-02T04:01:15.533867Z",
     "shell.execute_reply.started": "2021-09-02T02:55:59.85765Z"
    },
    "jupyter": {
     "source_hidden": true
    },
    "papermill": {
     "duration": 6.851677,
     "end_time": "2021-09-02T04:01:15.534541",
     "exception": false,
     "start_time": "2021-09-02T04:01:08.682864",
     "status": "completed"
    },
    "tags": []
   },
   "outputs": [
    {
     "name": "stdout",
     "output_type": "stream",
     "text": [
      "Collecting nnaudio\r\n",
      "  Downloading nnAudio-0.2.5-py3-none-any.whl (30 kB)\r\n",
      "Installing collected packages: nnaudio\r\n",
      "Successfully installed nnaudio-0.2.5\r\n",
      "\u001b[33mWARNING: Running pip as root will break packages and permissions. You should install packages reliably by using venv: https://pip.pypa.io/warnings/venv\u001b[0m\r\n"
     ]
    }
   ],
   "source": [
    "!pip install nnaudio"
   ]
  },
  {
   "cell_type": "markdown",
   "id": "157ea7b5",
   "metadata": {
    "papermill": {
     "duration": 0.410679,
     "end_time": "2021-09-02T04:01:16.319512",
     "exception": false,
     "start_time": "2021-09-02T04:01:15.908833",
     "status": "completed"
    },
    "tags": []
   },
   "source": [
    "## Import all required modules🖥️"
   ]
  },
  {
   "cell_type": "code",
   "execution_count": 6,
   "id": "fd24d206",
   "metadata": {
    "execution": {
     "iopub.execute_input": "2021-09-02T04:01:17.252204Z",
     "iopub.status.busy": "2021-09-02T04:01:17.251374Z",
     "iopub.status.idle": "2021-09-02T04:01:19.648941Z",
     "shell.execute_reply": "2021-09-02T04:01:19.647988Z",
     "shell.execute_reply.started": "2021-09-02T02:56:06.649886Z"
    },
    "jupyter": {
     "source_hidden": true
    },
    "papermill": {
     "duration": 2.766837,
     "end_time": "2021-09-02T04:01:19.649090",
     "exception": false,
     "start_time": "2021-09-02T04:01:16.882253",
     "status": "completed"
    },
    "tags": []
   },
   "outputs": [],
   "source": [
    "#export\n",
    "from nnAudio.Spectrogram import CQT\n",
    "from timm import create_model, list_models\n",
    "from pandas.core.frame import DataFrame\n",
    "from fastcore.foundation import *\n",
    "from fastai.vision.all import *\n",
    "from fastai.vision.learner import _update_first_layer"
   ]
  },
  {
   "cell_type": "markdown",
   "id": "f808b0b0",
   "metadata": {
    "papermill": {
     "duration": 0.360052,
     "end_time": "2021-09-02T04:01:20.374261",
     "exception": false,
     "start_time": "2021-09-02T04:01:20.014209",
     "status": "completed"
    },
    "tags": []
   },
   "source": [
    "## Get the files🏗️\n",
    "I will try to grab all the numpy files inside train folder"
   ]
  },
  {
   "cell_type": "code",
   "execution_count": 7,
   "id": "272a9679",
   "metadata": {
    "execution": {
     "iopub.execute_input": "2021-09-02T04:01:21.117963Z",
     "iopub.status.busy": "2021-09-02T04:01:21.117144Z",
     "iopub.status.idle": "2021-09-02T04:01:21.161594Z",
     "shell.execute_reply": "2021-09-02T04:01:21.161104Z",
     "shell.execute_reply.started": "2021-09-02T02:56:09.015199Z"
    },
    "jupyter": {
     "source_hidden": true
    },
    "papermill": {
     "duration": 0.422585,
     "end_time": "2021-09-02T04:01:21.161718",
     "exception": false,
     "start_time": "2021-09-02T04:01:20.739133",
     "status": "completed"
    },
    "tags": []
   },
   "outputs": [],
   "source": [
    "path = Path(\"../input\")"
   ]
  },
  {
   "cell_type": "markdown",
   "id": "84a85109",
   "metadata": {
    "papermill": {
     "duration": 0.362849,
     "end_time": "2021-09-02T04:01:21.901474",
     "exception": false,
     "start_time": "2021-09-02T04:01:21.538625",
     "status": "completed"
    },
    "tags": []
   },
   "source": [
    "### Get labels🏗️\n",
    "Training labels are in the 'training_labels.csv' file."
   ]
  },
  {
   "cell_type": "code",
   "execution_count": 8,
   "id": "02d1c1ec",
   "metadata": {
    "execution": {
     "iopub.execute_input": "2021-09-02T04:01:22.677307Z",
     "iopub.status.busy": "2021-09-02T04:01:22.676501Z",
     "iopub.status.idle": "2021-09-02T04:01:23.082903Z",
     "shell.execute_reply": "2021-09-02T04:01:23.082258Z",
     "shell.execute_reply.started": "2021-09-02T02:56:09.062157Z"
    },
    "jupyter": {
     "source_hidden": true
    },
    "papermill": {
     "duration": 0.776306,
     "end_time": "2021-09-02T04:01:23.083039",
     "exception": false,
     "start_time": "2021-09-02T04:01:22.306733",
     "status": "completed"
    },
    "tags": []
   },
   "outputs": [],
   "source": [
    "df = pd.read_csv(path/'g2net-gravitational-wave-detection/training_labels.csv')"
   ]
  },
  {
   "cell_type": "code",
   "execution_count": 9,
   "id": "8a141744",
   "metadata": {
    "execution": {
     "iopub.execute_input": "2021-09-02T04:01:23.811846Z",
     "iopub.status.busy": "2021-09-02T04:01:23.811030Z",
     "iopub.status.idle": "2021-09-02T04:01:23.870868Z",
     "shell.execute_reply": "2021-09-02T04:01:23.871304Z",
     "shell.execute_reply.started": "2021-09-02T02:56:09.498156Z"
    },
    "jupyter": {
     "source_hidden": true
    },
    "papermill": {
     "duration": 0.42913,
     "end_time": "2021-09-02T04:01:23.871456",
     "exception": false,
     "start_time": "2021-09-02T04:01:23.442326",
     "status": "completed"
    },
    "tags": []
   },
   "outputs": [
    {
     "data": {
      "text/html": [
       "<div>\n",
       "<style scoped>\n",
       "    .dataframe tbody tr th:only-of-type {\n",
       "        vertical-align: middle;\n",
       "    }\n",
       "\n",
       "    .dataframe tbody tr th {\n",
       "        vertical-align: top;\n",
       "    }\n",
       "\n",
       "    .dataframe thead th {\n",
       "        text-align: right;\n",
       "    }\n",
       "</style>\n",
       "<table border=\"1\" class=\"dataframe\">\n",
       "  <thead>\n",
       "    <tr style=\"text-align: right;\">\n",
       "      <th></th>\n",
       "      <th>id</th>\n",
       "      <th>target</th>\n",
       "    </tr>\n",
       "  </thead>\n",
       "  <tbody>\n",
       "    <tr>\n",
       "      <th>0</th>\n",
       "      <td>00000e74ad</td>\n",
       "      <td>1</td>\n",
       "    </tr>\n",
       "  </tbody>\n",
       "</table>\n",
       "</div>"
      ],
      "text/plain": [
       "           id  target\n",
       "0  00000e74ad       1"
      ]
     },
     "execution_count": 9,
     "metadata": {},
     "output_type": "execute_result"
    }
   ],
   "source": [
    "df.head(1)"
   ]
  },
  {
   "cell_type": "markdown",
   "id": "15e16eb8",
   "metadata": {
    "papermill": {
     "duration": 0.366892,
     "end_time": "2021-09-02T04:01:24.607398",
     "exception": false,
     "start_time": "2021-09-02T04:01:24.240506",
     "status": "completed"
    },
    "tags": []
   },
   "source": [
    "## getfiles(path: Path, ext)\n",
    "Get numpy files in `path` recursively, only in `folders`, if specified.\n",
    "\n",
    "> The \"#export\" in the function below and all the rest of the functions/code are there to help me use nbdev to export the required codes into a library later."
   ]
  },
  {
   "cell_type": "code",
   "execution_count": 10,
   "id": "9603d818",
   "metadata": {
    "execution": {
     "iopub.execute_input": "2021-09-02T04:01:25.354881Z",
     "iopub.status.busy": "2021-09-02T04:01:25.353803Z",
     "iopub.status.idle": "2021-09-02T04:01:25.395499Z",
     "shell.execute_reply": "2021-09-02T04:01:25.395909Z",
     "shell.execute_reply.started": "2021-09-02T02:56:09.560819Z"
    },
    "jupyter": {
     "source_hidden": true
    },
    "papermill": {
     "duration": 0.427666,
     "end_time": "2021-09-02T04:01:25.396084",
     "exception": false,
     "start_time": "2021-09-02T04:01:24.968418",
     "status": "completed"
    },
    "tags": []
   },
   "outputs": [],
   "source": [
    "#export\n",
    "def getfiles(path: Path, ext):\n",
    "    \"Get numpy files in `path` recursively, only in `folders`, if specified.\"\n",
    "    return L(path.glob(f'**/*.{ext}'))"
   ]
  },
  {
   "cell_type": "code",
   "execution_count": 11,
   "id": "b7b6ac2e",
   "metadata": {
    "execution": {
     "iopub.execute_input": "2021-09-02T04:01:26.132495Z",
     "iopub.status.busy": "2021-09-02T04:01:26.131508Z",
     "iopub.status.idle": "2021-09-02T04:01:26.174443Z",
     "shell.execute_reply": "2021-09-02T04:01:26.174871Z",
     "shell.execute_reply.started": "2021-09-02T02:56:09.605357Z"
    },
    "jupyter": {
     "source_hidden": true
    },
    "papermill": {
     "duration": 0.416961,
     "end_time": "2021-09-02T04:01:26.175033",
     "exception": false,
     "start_time": "2021-09-02T04:01:25.758072",
     "status": "completed"
    },
    "tags": []
   },
   "outputs": [],
   "source": [
    "train_path = path/'g2net-gravitational-wave-detection/train'"
   ]
  },
  {
   "cell_type": "markdown",
   "id": "5cb81d35",
   "metadata": {
    "papermill": {
     "duration": 0.358158,
     "end_time": "2021-09-02T04:01:26.909236",
     "exception": false,
     "start_time": "2021-09-02T04:01:26.551078",
     "status": "completed"
    },
    "tags": []
   },
   "source": [
    "I am using the previous function to get all the files under the train folder."
   ]
  },
  {
   "cell_type": "code",
   "execution_count": 12,
   "id": "e87810b4",
   "metadata": {
    "execution": {
     "iopub.execute_input": "2021-09-02T04:01:27.879145Z",
     "iopub.status.busy": "2021-09-02T04:01:27.878357Z",
     "iopub.status.idle": "2021-09-02T04:02:48.248061Z",
     "shell.execute_reply": "2021-09-02T04:02:48.248521Z",
     "shell.execute_reply.started": "2021-09-02T02:56:09.649013Z"
    },
    "jupyter": {
     "source_hidden": true
    },
    "papermill": {
     "duration": 80.918833,
     "end_time": "2021-09-02T04:02:48.248677",
     "exception": false,
     "start_time": "2021-09-02T04:01:27.329844",
     "status": "completed"
    },
    "tags": []
   },
   "outputs": [
    {
     "name": "stdout",
     "output_type": "stream",
     "text": [
      "CPU times: user 5.94 s, sys: 2.17 s, total: 8.11 s\n",
      "Wall time: 1min 19s\n"
     ]
    }
   ],
   "source": [
    "%%time\n",
    "train_files = getfiles(train_path, \"npy\")"
   ]
  },
  {
   "cell_type": "markdown",
   "id": "4e223345",
   "metadata": {
    "papermill": {
     "duration": 0.378915,
     "end_time": "2021-09-02T04:02:49.036013",
     "exception": false,
     "start_time": "2021-09-02T04:02:48.657098",
     "status": "completed"
    },
    "tags": []
   },
   "source": [
    "Just a quick test to see if we got the correct files."
   ]
  },
  {
   "cell_type": "code",
   "execution_count": 13,
   "id": "94cab026",
   "metadata": {
    "execution": {
     "iopub.execute_input": "2021-09-02T04:02:49.895208Z",
     "iopub.status.busy": "2021-09-02T04:02:49.894179Z",
     "iopub.status.idle": "2021-09-02T04:02:49.938564Z",
     "shell.execute_reply": "2021-09-02T04:02:49.939031Z",
     "shell.execute_reply.started": "2021-09-02T02:57:26.957135Z"
    },
    "jupyter": {
     "source_hidden": true
    },
    "papermill": {
     "duration": 0.485203,
     "end_time": "2021-09-02T04:02:49.939206",
     "exception": false,
     "start_time": "2021-09-02T04:02:49.454003",
     "status": "completed"
    },
    "tags": []
   },
   "outputs": [
    {
     "data": {
      "text/plain": [
       "(#2) [Path('../input/g2net-gravitational-wave-detection/train/7/7/7/777d746e90.npy'),Path('../input/g2net-gravitational-wave-detection/train/7/7/7/777ecfbd65.npy')]"
      ]
     },
     "execution_count": 13,
     "metadata": {},
     "output_type": "execute_result"
    }
   ],
   "source": [
    "train_files[:2]"
   ]
  },
  {
   "cell_type": "markdown",
   "id": "32f4087d",
   "metadata": {
    "papermill": {
     "duration": 0.37957,
     "end_time": "2021-09-02T04:02:50.727675",
     "exception": false,
     "start_time": "2021-09-02T04:02:50.348105",
     "status": "completed"
    },
    "tags": []
   },
   "source": [
    "Picking labels from the dataframe. We may need thes elabels later or we may not."
   ]
  },
  {
   "cell_type": "code",
   "execution_count": 14,
   "id": "86149074",
   "metadata": {
    "execution": {
     "iopub.execute_input": "2021-09-02T04:02:51.475094Z",
     "iopub.status.busy": "2021-09-02T04:02:51.474307Z",
     "iopub.status.idle": "2021-09-02T04:02:51.527093Z",
     "shell.execute_reply": "2021-09-02T04:02:51.527507Z",
     "shell.execute_reply.started": "2021-09-02T02:57:27.00459Z"
    },
    "jupyter": {
     "source_hidden": true
    },
    "papermill": {
     "duration": 0.421536,
     "end_time": "2021-09-02T04:02:51.527667",
     "exception": false,
     "start_time": "2021-09-02T04:02:51.106131",
     "status": "completed"
    },
    "tags": []
   },
   "outputs": [],
   "source": [
    "labels = df.target.to_list()"
   ]
  },
  {
   "cell_type": "markdown",
   "id": "14b803dc",
   "metadata": {
    "papermill": {
     "duration": 0.359064,
     "end_time": "2021-09-02T04:02:52.249113",
     "exception": false,
     "start_time": "2021-09-02T04:02:51.890049",
     "status": "completed"
    },
    "tags": []
   },
   "source": [
    "## Map path to labels🗺️\n",
    "To make things easier I will try to map the file paths to their respective labels and create a datafrane out of it."
   ]
  },
  {
   "cell_type": "code",
   "execution_count": 15,
   "id": "6d089804",
   "metadata": {
    "execution": {
     "iopub.execute_input": "2021-09-02T04:02:52.979215Z",
     "iopub.status.busy": "2021-09-02T04:02:52.978411Z",
     "iopub.status.idle": "2021-09-02T04:02:53.018214Z",
     "shell.execute_reply": "2021-09-02T04:02:53.017788Z",
     "shell.execute_reply.started": "2021-09-02T02:57:27.060666Z"
    },
    "jupyter": {
     "source_hidden": true
    },
    "papermill": {
     "duration": 0.409254,
     "end_time": "2021-09-02T04:02:53.018338",
     "exception": false,
     "start_time": "2021-09-02T04:02:52.609084",
     "status": "completed"
    },
    "tags": []
   },
   "outputs": [],
   "source": [
    "#export\n",
    "def map_path_to_labels(data: L, cols: L=None ) -> DataFrame:\n",
    "    \"\"\"maps the files to their labels\"\"\"\n",
    "    if cols is None: raise ValueError(\"You forgot to provide the columns\")\n",
    "    data = dict(zip(cols, data))\n",
    "    return pd.DataFrame.from_dict(data)"
   ]
  },
  {
   "cell_type": "code",
   "execution_count": 16,
   "id": "fcef9899",
   "metadata": {
    "execution": {
     "iopub.execute_input": "2021-09-02T04:02:53.761958Z",
     "iopub.status.busy": "2021-09-02T04:02:53.761120Z",
     "iopub.status.idle": "2021-09-02T04:02:56.140693Z",
     "shell.execute_reply": "2021-09-02T04:02:56.139844Z",
     "shell.execute_reply.started": "2021-09-02T02:57:27.107553Z"
    },
    "jupyter": {
     "source_hidden": true
    },
    "papermill": {
     "duration": 2.764463,
     "end_time": "2021-09-02T04:02:56.140836",
     "exception": false,
     "start_time": "2021-09-02T04:02:53.376373",
     "status": "completed"
    },
    "tags": []
   },
   "outputs": [
    {
     "name": "stdout",
     "output_type": "stream",
     "text": [
      "CPU times: user 2.31 s, sys: 7.65 ms, total: 2.32 s\n",
      "Wall time: 2.34 s\n"
     ]
    }
   ],
   "source": [
    "%%time\n",
    "df = map_path_to_labels([train_files, labels], cols=[\"id\", \"target\"])"
   ]
  },
  {
   "cell_type": "code",
   "execution_count": 17,
   "id": "ffff9382",
   "metadata": {
    "execution": {
     "iopub.execute_input": "2021-09-02T04:02:56.868407Z",
     "iopub.status.busy": "2021-09-02T04:02:56.867611Z",
     "iopub.status.idle": "2021-09-02T04:02:56.911802Z",
     "shell.execute_reply": "2021-09-02T04:02:56.912240Z",
     "shell.execute_reply.started": "2021-09-02T02:57:29.293553Z"
    },
    "jupyter": {
     "source_hidden": true
    },
    "papermill": {
     "duration": 0.412392,
     "end_time": "2021-09-02T04:02:56.912397",
     "exception": false,
     "start_time": "2021-09-02T04:02:56.500005",
     "status": "completed"
    },
    "tags": []
   },
   "outputs": [
    {
     "data": {
      "text/html": [
       "<div>\n",
       "<style scoped>\n",
       "    .dataframe tbody tr th:only-of-type {\n",
       "        vertical-align: middle;\n",
       "    }\n",
       "\n",
       "    .dataframe tbody tr th {\n",
       "        vertical-align: top;\n",
       "    }\n",
       "\n",
       "    .dataframe thead th {\n",
       "        text-align: right;\n",
       "    }\n",
       "</style>\n",
       "<table border=\"1\" class=\"dataframe\">\n",
       "  <thead>\n",
       "    <tr style=\"text-align: right;\">\n",
       "      <th></th>\n",
       "      <th>id</th>\n",
       "      <th>target</th>\n",
       "    </tr>\n",
       "  </thead>\n",
       "  <tbody>\n",
       "    <tr>\n",
       "      <th>0</th>\n",
       "      <td>../input/g2net-gravitational-wave-detection/train/7/7/7/777d746e90.npy</td>\n",
       "      <td>1</td>\n",
       "    </tr>\n",
       "  </tbody>\n",
       "</table>\n",
       "</div>"
      ],
      "text/plain": [
       "                                                                       id  \\\n",
       "0  ../input/g2net-gravitational-wave-detection/train/7/7/7/777d746e90.npy   \n",
       "\n",
       "   target  \n",
       "0       1  "
      ]
     },
     "execution_count": 17,
     "metadata": {},
     "output_type": "execute_result"
    }
   ],
   "source": [
    "df.head(1)"
   ]
  },
  {
   "cell_type": "markdown",
   "id": "4bb07a4c",
   "metadata": {
    "papermill": {
     "duration": 0.360673,
     "end_time": "2021-09-02T04:02:57.632934",
     "exception": false,
     "start_time": "2021-09-02T04:02:57.272261",
     "status": "completed"
    },
    "tags": []
   },
   "source": [
    "Sample out a subset for quick experiment. Here I wil ltake 20,000 samples."
   ]
  },
  {
   "cell_type": "code",
   "execution_count": 18,
   "id": "a20fbf16",
   "metadata": {
    "execution": {
     "iopub.execute_input": "2021-09-02T04:02:58.363446Z",
     "iopub.status.busy": "2021-09-02T04:02:58.362601Z",
     "iopub.status.idle": "2021-09-02T04:02:58.404049Z",
     "shell.execute_reply": "2021-09-02T04:02:58.403513Z",
     "shell.execute_reply.started": "2021-09-02T02:57:29.340795Z"
    },
    "jupyter": {
     "source_hidden": true
    },
    "papermill": {
     "duration": 0.407841,
     "end_time": "2021-09-02T04:02:58.404168",
     "exception": false,
     "start_time": "2021-09-02T04:02:57.996327",
     "status": "completed"
    },
    "tags": []
   },
   "outputs": [],
   "source": [
    "sample = df[:20000]"
   ]
  },
  {
   "cell_type": "code",
   "execution_count": 19,
   "id": "4cbfd3b5",
   "metadata": {
    "execution": {
     "iopub.execute_input": "2021-09-02T04:02:59.148324Z",
     "iopub.status.busy": "2021-09-02T04:02:59.147414Z",
     "iopub.status.idle": "2021-09-02T04:02:59.188272Z",
     "shell.execute_reply": "2021-09-02T04:02:59.188650Z",
     "shell.execute_reply.started": "2021-09-02T02:57:29.388589Z"
    },
    "jupyter": {
     "source_hidden": true
    },
    "papermill": {
     "duration": 0.408644,
     "end_time": "2021-09-02T04:02:59.188794",
     "exception": false,
     "start_time": "2021-09-02T04:02:58.780150",
     "status": "completed"
    },
    "tags": []
   },
   "outputs": [
    {
     "data": {
      "text/plain": [
       "(20000, 2)"
      ]
     },
     "execution_count": 19,
     "metadata": {},
     "output_type": "execute_result"
    }
   ],
   "source": [
    "sample.shape"
   ]
  },
  {
   "cell_type": "code",
   "execution_count": 20,
   "id": "7e1de6ac",
   "metadata": {
    "execution": {
     "iopub.execute_input": "2021-09-02T04:02:59.918473Z",
     "iopub.status.busy": "2021-09-02T04:02:59.917604Z",
     "iopub.status.idle": "2021-09-02T04:02:59.962912Z",
     "shell.execute_reply": "2021-09-02T04:02:59.963336Z",
     "shell.execute_reply.started": "2021-09-02T02:57:29.434174Z"
    },
    "jupyter": {
     "source_hidden": true
    },
    "papermill": {
     "duration": 0.41462,
     "end_time": "2021-09-02T04:02:59.963497",
     "exception": false,
     "start_time": "2021-09-02T04:02:59.548877",
     "status": "completed"
    },
    "tags": []
   },
   "outputs": [
    {
     "data": {
      "text/html": [
       "<div>\n",
       "<style scoped>\n",
       "    .dataframe tbody tr th:only-of-type {\n",
       "        vertical-align: middle;\n",
       "    }\n",
       "\n",
       "    .dataframe tbody tr th {\n",
       "        vertical-align: top;\n",
       "    }\n",
       "\n",
       "    .dataframe thead th {\n",
       "        text-align: right;\n",
       "    }\n",
       "</style>\n",
       "<table border=\"1\" class=\"dataframe\">\n",
       "  <thead>\n",
       "    <tr style=\"text-align: right;\">\n",
       "      <th></th>\n",
       "      <th>id</th>\n",
       "      <th>target</th>\n",
       "    </tr>\n",
       "  </thead>\n",
       "  <tbody>\n",
       "    <tr>\n",
       "      <th>0</th>\n",
       "      <td>../input/g2net-gravitational-wave-detection/train/7/7/7/777d746e90.npy</td>\n",
       "      <td>1</td>\n",
       "    </tr>\n",
       "  </tbody>\n",
       "</table>\n",
       "</div>"
      ],
      "text/plain": [
       "                                                                       id  \\\n",
       "0  ../input/g2net-gravitational-wave-detection/train/7/7/7/777d746e90.npy   \n",
       "\n",
       "   target  \n",
       "0       1  "
      ]
     },
     "execution_count": 20,
     "metadata": {},
     "output_type": "execute_result"
    }
   ],
   "source": [
    "sample.head(1)"
   ]
  },
  {
   "cell_type": "markdown",
   "id": "2cc3f2e7",
   "metadata": {
    "papermill": {
     "duration": 0.360127,
     "end_time": "2021-09-02T04:03:00.682693",
     "exception": false,
     "start_time": "2021-09-02T04:03:00.322566",
     "status": "completed"
    },
    "tags": []
   },
   "source": [
    "## Q transform using nnaudio⚗️\n",
    "We will design a transformstion function that would get the q transform of the time series on the fly using nnaudio.\n",
    "The result will be similar to converting the time series data into images.\n",
    "\n",
    "Code taken from [notebook](https://www.kaggle.com/yasufuminakama/g2net-efficientnet-b7-baseline-training) shared by [Y.Nakama](https://www.kaggle.com/yasufuminakama)"
   ]
  },
  {
   "cell_type": "code",
   "execution_count": 21,
   "id": "a9488484",
   "metadata": {
    "execution": {
     "iopub.execute_input": "2021-09-02T04:03:01.416884Z",
     "iopub.status.busy": "2021-09-02T04:03:01.416090Z",
     "iopub.status.idle": "2021-09-02T04:03:01.456480Z",
     "shell.execute_reply": "2021-09-02T04:03:01.455992Z",
     "shell.execute_reply.started": "2021-09-02T02:57:29.482209Z"
    },
    "papermill": {
     "duration": 0.411875,
     "end_time": "2021-09-02T04:03:01.456610",
     "exception": false,
     "start_time": "2021-09-02T04:03:01.044735",
     "status": "completed"
    },
    "tags": []
   },
   "outputs": [],
   "source": [
    "#export\n",
    "def qtfms(o):\n",
    "    \"\"\"convert waves to images\"\"\"\n",
    "    waves = np.load(o)\n",
    "    waves = np.hstack(waves)\n",
    "    waves = waves / np.max(waves)\n",
    "    waves = torch.from_numpy(waves).float()\n",
    "    cqt = CQT(sr= 2048, fmin= 20, fmax= 1024, hop_length= 32, bins_per_octave=8,verbose=False)\n",
    "    image = cqt(waves)\n",
    "    return image"
   ]
  },
  {
   "cell_type": "markdown",
   "id": "f78c2472",
   "metadata": {
    "papermill": {
     "duration": 0.360041,
     "end_time": "2021-09-02T04:03:02.177787",
     "exception": false,
     "start_time": "2021-09-02T04:03:01.817746",
     "status": "completed"
    },
    "tags": []
   },
   "source": [
    "---\n",
    "**NOTE**\n",
    "\n",
    "Remember to set `verbose` False if you don't want all the string output to be displayed everytime dataloader loads the data.\n",
    "\n",
    "---"
   ]
  },
  {
   "cell_type": "markdown",
   "id": "41ce33ad",
   "metadata": {
    "papermill": {
     "duration": 0.363352,
     "end_time": "2021-09-02T04:03:02.904088",
     "exception": false,
     "start_time": "2021-09-02T04:03:02.540736",
     "status": "completed"
    },
    "tags": []
   },
   "source": [
    "Quick test to see if this works."
   ]
  },
  {
   "cell_type": "code",
   "execution_count": 22,
   "id": "e619fee2",
   "metadata": {
    "execution": {
     "iopub.execute_input": "2021-09-02T04:03:03.635413Z",
     "iopub.status.busy": "2021-09-02T04:03:03.634154Z",
     "iopub.status.idle": "2021-09-02T04:03:03.713785Z",
     "shell.execute_reply": "2021-09-02T04:03:03.714160Z",
     "shell.execute_reply.started": "2021-09-02T02:57:29.528625Z"
    },
    "jupyter": {
     "source_hidden": true
    },
    "papermill": {
     "duration": 0.44886,
     "end_time": "2021-09-02T04:03:03.714329",
     "exception": false,
     "start_time": "2021-09-02T04:03:03.265469",
     "status": "completed"
    },
    "tags": []
   },
   "outputs": [
    {
     "name": "stderr",
     "output_type": "stream",
     "text": [
      "/opt/conda/lib/python3.7/site-packages/nnAudio/utils.py:326: SyntaxWarning: If fmax is given, n_bins will be ignored\n",
      "  warnings.warn('If fmax is given, n_bins will be ignored',SyntaxWarning)\n"
     ]
    },
    {
     "data": {
      "text/plain": [
       "torch.Size([1, 46, 385])"
      ]
     },
     "execution_count": 22,
     "metadata": {},
     "output_type": "execute_result"
    }
   ],
   "source": [
    "image = qtfms(sample.loc[1, 'id'])\n",
    "image.shape"
   ]
  },
  {
   "cell_type": "code",
   "execution_count": 23,
   "id": "0caee3cd",
   "metadata": {
    "execution": {
     "iopub.execute_input": "2021-09-02T04:03:04.485292Z",
     "iopub.status.busy": "2021-09-02T04:03:04.484458Z",
     "iopub.status.idle": "2021-09-02T04:03:05.157236Z",
     "shell.execute_reply": "2021-09-02T04:03:05.157663Z",
     "shell.execute_reply.started": "2021-09-02T02:57:29.629572Z"
    },
    "jupyter": {
     "source_hidden": true
    },
    "papermill": {
     "duration": 1.058626,
     "end_time": "2021-09-02T04:03:05.157808",
     "exception": false,
     "start_time": "2021-09-02T04:03:04.099182",
     "status": "completed"
    },
    "tags": []
   },
   "outputs": [
    {
     "data": {
      "image/png": "[encoded data removed]",
      "text/plain": [
       "<Figure size 432x288 with 1 Axes>"
      ]
     },
     "metadata": {
      "needs_background": "light"
     },
     "output_type": "display_data"
    },
    {
     "data": {
      "image/png": "[encoded data removed]",
      "text/plain": [
       "<Figure size 432x288 with 1 Axes>"
      ]
     },
     "metadata": {
      "needs_background": "light"
     },
     "output_type": "display_data"
    },
    {
     "data": {
      "image/png": "[encoded data removed]",
      "text/plain": [
       "<Figure size 432x288 with 1 Axes>"
      ]
     },
     "metadata": {
      "needs_background": "light"
     },
     "output_type": "display_data"
    },
    {
     "data": {
      "image/png": "[encoded data removed]",
      "text/plain": [
       "<Figure size 432x288 with 1 Axes>"
      ]
     },
     "metadata": {
      "needs_background": "light"
     },
     "output_type": "display_data"
    },
    {
     "data": {
      "image/png": "[encoded data removed]",
      "text/plain": [
       "<Figure size 432x288 with 1 Axes>"
      ]
     },
     "metadata": {
      "needs_background": "light"
     },
     "output_type": "display_data"
    }
   ],
   "source": [
    "for i in range(5):\n",
    "    image = qtfms(sample.loc[i, 'id'])\n",
    "    target = sample.loc[i, 'target']\n",
    "    plt.imshow(image[0])\n",
    "    plt.title(f\"target: {target}\")\n",
    "    plt.show()"
   ]
  },
  {
   "cell_type": "markdown",
   "id": "45ca1090",
   "metadata": {
    "papermill": {
     "duration": 0.371142,
     "end_time": "2021-09-02T04:03:05.895426",
     "exception": false,
     "start_time": "2021-09-02T04:03:05.524284",
     "status": "completed"
    },
    "tags": []
   },
   "source": [
    "Cool! so we are able to plot the images now. IT is fast too."
   ]
  },
  {
   "cell_type": "markdown",
   "id": "948b9d2c",
   "metadata": {
    "papermill": {
     "duration": 0.575171,
     "end_time": "2021-09-02T04:03:06.879809",
     "exception": false,
     "start_time": "2021-09-02T04:03:06.304638",
     "status": "completed"
    },
    "tags": []
   },
   "source": [
    "## Creating the dataset🖫\n",
    "If you want to use fastai's learner to train your model on the transfomed spectograms, you can do so by creating a custom Dataset in pytorch and then feeding that dataset with a dataloader to fastai's learner. However, if you create a pipeline using fastai's internals then you get to use some cool functionalities out-of-box. We will see that in a while.\n",
    "\n",
    "All the code below are very heavily insipired by the original inspiration of this notebook (see the very first section), this [post](https://ohmeow.com/posts/2020/04/11/finding-datablock-nirvana-part-1.html) by Wayde Gilliam and the fastai s[iamese tutorial](https://docs.fast.ai/tutorial.siamese.html#Writing-your-custom-data-block)."
   ]
  },
  {
   "cell_type": "code",
   "execution_count": 24,
   "id": "3048dc99",
   "metadata": {
    "execution": {
     "iopub.execute_input": "2021-09-02T04:03:08.076987Z",
     "iopub.status.busy": "2021-09-02T04:03:08.076123Z",
     "iopub.status.idle": "2021-09-02T04:03:08.118546Z",
     "shell.execute_reply": "2021-09-02T04:03:08.118094Z",
     "shell.execute_reply.started": "2021-09-02T02:57:30.484642Z"
    },
    "jupyter": {
     "source_hidden": true
    },
    "papermill": {
     "duration": 0.642079,
     "end_time": "2021-09-02T04:03:08.118671",
     "exception": false,
     "start_time": "2021-09-02T04:03:07.476592",
     "status": "completed"
    },
    "tags": []
   },
   "outputs": [
    {
     "data": {
      "text/plain": [
       "Path('../input/g2net-gravitational-wave-detection/train/7/7/7/777ecfbd65.npy')"
      ]
     },
     "execution_count": 24,
     "metadata": {},
     "output_type": "execute_result"
    }
   ],
   "source": [
    "sample.loc[1]['id']"
   ]
  },
  {
   "cell_type": "markdown",
   "id": "aae52204",
   "metadata": {
    "papermill": {
     "duration": 0.366844,
     "end_time": "2021-09-02T04:03:08.851845",
     "exception": false,
     "start_time": "2021-09-02T04:03:08.485001",
     "status": "completed"
    },
    "tags": []
   },
   "source": [
    "## NNAudioImage(fastuple)\n",
    "First of all we are going to create an \"Image type\" for our transformed object (it's the numpy data transformed into spectogram). We have to do this because our dat ais not an image data from get-go. Rather it's a signal data which we are transforming into an Imgae. So, in order to tell fastai that this is a custom Image type which we are dealing with and ho wwe should be displaying it, we have to create an Image type."
   ]
  },
  {
   "cell_type": "code",
   "execution_count": 25,
   "id": "e0a92b83",
   "metadata": {
    "execution": {
     "iopub.execute_input": "2021-09-02T04:03:09.665178Z",
     "iopub.status.busy": "2021-09-02T04:03:09.664258Z",
     "iopub.status.idle": "2021-09-02T04:03:09.707937Z",
     "shell.execute_reply": "2021-09-02T04:03:09.707300Z",
     "shell.execute_reply.started": "2021-09-02T02:57:30.537737Z"
    },
    "jupyter": {
     "source_hidden": true
    },
    "papermill": {
     "duration": 0.46961,
     "end_time": "2021-09-02T04:03:09.708074",
     "exception": false,
     "start_time": "2021-09-02T04:03:09.238464",
     "status": "completed"
    },
    "tags": []
   },
   "outputs": [],
   "source": [
    "#export\n",
    "class NNAudioImage(fastuple):\n",
    "    \"\"\"Custom Image for nnAudio transformed signals\"\"\"\n",
    "    def show(self, ctx=None, **kwargs):\n",
    "        img, category = self\n",
    "        if not isinstance(img, Tensor):\n",
    "            img_tensor = tensor(img)\n",
    "        else: \n",
    "            img_tensor = img    \n",
    "        return show_image(img_tensor, title=category, ctx=ctx, **kwargs)"
   ]
  },
  {
   "cell_type": "markdown",
   "id": "eae4660e",
   "metadata": {
    "papermill": {
     "duration": 0.424174,
     "end_time": "2021-09-02T04:03:10.521554",
     "exception": false,
     "start_time": "2021-09-02T04:03:10.097380",
     "status": "completed"
    },
    "tags": []
   },
   "source": [
    "## NNAudioDataset\n",
    "One of the way to create a Dataset in fastai is to create a custom transform by inheriting from the `Transform` class. Creating a `Transform` has come advantages as compared to a pytorch Dataset like you don't need to have a `len` component or a `get_item` component.\n",
    "\n",
    "On a very high level a `Transform` has an `encodes`, `decodes` and `setup` methods. For our purpose having an `encodes` methods only would suffice. This is the place where we would be transforming the numpy data into spectograms.\n",
    "\n",
    "To know more about `Tranforms` refer these -->\n",
    "* [data block nirvana](https://ohmeow.com/posts/2020/04/11/finding-datablock-nirvana-part-1.html)\n",
    "* [Siamese tutorial](https://docs.fast.ai/tutorial.siamese.html#Writing-your-custom-data-block)\n",
    "* [Fastbook chapter-11](https://github.com/fastai/fastbook/blob/master/11_midlevel_data.ipynb)"
   ]
  },
  {
   "cell_type": "code",
   "execution_count": 26,
   "id": "376501a4",
   "metadata": {
    "execution": {
     "iopub.execute_input": "2021-09-02T04:03:11.324925Z",
     "iopub.status.busy": "2021-09-02T04:03:11.324033Z",
     "iopub.status.idle": "2021-09-02T04:03:11.367022Z",
     "shell.execute_reply": "2021-09-02T04:03:11.366469Z",
     "shell.execute_reply.started": "2021-09-02T02:57:30.586664Z"
    },
    "jupyter": {
     "source_hidden": true
    },
    "papermill": {
     "duration": 0.442554,
     "end_time": "2021-09-02T04:03:11.367151",
     "exception": false,
     "start_time": "2021-09-02T04:03:10.924597",
     "status": "completed"
    },
    "tags": []
   },
   "outputs": [],
   "source": [
    "#export\n",
    "class NNAudioTransform(Transform):\n",
    "    \"\"\"Custom Transform which uses nnAudio transforms\n",
    "    to extract spectogram on the fly\"\"\"\n",
    "    def __init__(self, df, x_col:str, y_col: str):\n",
    "        self.df = df\n",
    "        self.x_col = x_col\n",
    "        self.y_col = y_col\n",
    "\n",
    "    def encodes(self, img_path):\n",
    "        label = self.df[self.df[self.x_col] == img_path][self.y_col].values[0]\n",
    "        img = qtfms(img_path)\n",
    "        #img = img.squeeze().numpy()\n",
    "        return NNAudioImage(img, label)"
   ]
  },
  {
   "cell_type": "markdown",
   "id": "82073bd2",
   "metadata": {
    "papermill": {
     "duration": 0.363165,
     "end_time": "2021-09-02T04:03:12.110823",
     "exception": false,
     "start_time": "2021-09-02T04:03:11.747658",
     "status": "completed"
    },
    "tags": []
   },
   "source": [
    "Look how we can use the `NNAudioImage` class to tell fastai Transform about the type of data which we want to get."
   ]
  },
  {
   "cell_type": "markdown",
   "id": "c423c2b9",
   "metadata": {
    "papermill": {
     "duration": 0.366557,
     "end_time": "2021-09-02T04:03:12.842724",
     "exception": false,
     "start_time": "2021-09-02T04:03:12.476167",
     "status": "completed"
    },
    "tags": []
   },
   "source": [
    "Now that we have a transform, we will use an object known as `TfmdLists` to create our Dataset. \n",
    "> A `TfmdLists` lazily applies all our transforms to our a list of items. \n",
    "\n",
    "We will also use a 'splitter' which tells fastai the way we want to split our data. For now we will use `RandomSplitter` to do this job. Additionally we will also instantiate the `NNAudioTransform` object."
   ]
  },
  {
   "cell_type": "code",
   "execution_count": 27,
   "id": "8ba7d42c",
   "metadata": {
    "execution": {
     "iopub.execute_input": "2021-09-02T04:03:13.585654Z",
     "iopub.status.busy": "2021-09-02T04:03:13.584551Z",
     "iopub.status.idle": "2021-09-02T04:03:13.630087Z",
     "shell.execute_reply": "2021-09-02T04:03:13.628943Z",
     "shell.execute_reply.started": "2021-09-02T02:57:30.636895Z"
    },
    "jupyter": {
     "source_hidden": true
    },
    "papermill": {
     "duration": 0.419774,
     "end_time": "2021-09-02T04:03:13.630238",
     "exception": false,
     "start_time": "2021-09-02T04:03:13.210464",
     "status": "completed"
    },
    "tags": []
   },
   "outputs": [],
   "source": [
    "splits = RandomSplitter()(sample.id.to_list())\n",
    "tfm = NNAudioTransform(sample,'id', 'target')"
   ]
  },
  {
   "cell_type": "markdown",
   "id": "baccbc7f",
   "metadata": {
    "papermill": {
     "duration": 0.42423,
     "end_time": "2021-09-02T04:03:14.421339",
     "exception": false,
     "start_time": "2021-09-02T04:03:13.997109",
     "status": "completed"
    },
    "tags": []
   },
   "source": [
    "Next, we have to tell fastai to take our 'sample' and apply the transform and the splitter to it."
   ]
  },
  {
   "cell_type": "code",
   "execution_count": 28,
   "id": "e9b7f448",
   "metadata": {
    "execution": {
     "iopub.execute_input": "2021-09-02T04:03:15.160891Z",
     "iopub.status.busy": "2021-09-02T04:03:15.160029Z",
     "iopub.status.idle": "2021-09-02T04:03:15.261987Z",
     "shell.execute_reply": "2021-09-02T04:03:15.260826Z",
     "shell.execute_reply.started": "2021-09-02T02:57:30.687663Z"
    },
    "jupyter": {
     "source_hidden": true
    },
    "papermill": {
     "duration": 0.474271,
     "end_time": "2021-09-02T04:03:15.262130",
     "exception": false,
     "start_time": "2021-09-02T04:03:14.787859",
     "status": "completed"
    },
    "tags": []
   },
   "outputs": [],
   "source": [
    "tls = TfmdLists(sample.id.to_list(), tfm, splits=splits)"
   ]
  },
  {
   "cell_type": "markdown",
   "id": "36c4cc97",
   "metadata": {
    "papermill": {
     "duration": 0.364927,
     "end_time": "2021-09-02T04:03:15.991222",
     "exception": false,
     "start_time": "2021-09-02T04:03:15.626295",
     "status": "completed"
    },
    "tags": []
   },
   "source": [
    "Now that we have a Dataset in place, we can grab an item out of it and view it by using `show_at` method."
   ]
  },
  {
   "cell_type": "code",
   "execution_count": 29,
   "id": "58f07ef4",
   "metadata": {
    "execution": {
     "iopub.execute_input": "2021-09-02T04:03:16.733563Z",
     "iopub.status.busy": "2021-09-02T04:03:16.732707Z",
     "iopub.status.idle": "2021-09-02T04:03:16.868280Z",
     "shell.execute_reply": "2021-09-02T04:03:16.867450Z",
     "shell.execute_reply.started": "2021-09-02T02:57:30.815772Z"
    },
    "jupyter": {
     "source_hidden": true
    },
    "papermill": {
     "duration": 0.509569,
     "end_time": "2021-09-02T04:03:16.868412",
     "exception": false,
     "start_time": "2021-09-02T04:03:16.358843",
     "status": "completed"
    },
    "tags": []
   },
   "outputs": [
    {
     "data": {
      "text/plain": [
       "<AxesSubplot:title={'center':'1'}>"
      ]
     },
     "execution_count": 29,
     "metadata": {},
     "output_type": "execute_result"
    },
    {
     "data": {
      "image/png": "[encoded data removed]",
      "text/plain": [
       "<Figure size 72x360 with 1 Axes>"
      ]
     },
     "metadata": {
      "needs_background": "light"
     },
     "output_type": "display_data"
    }
   ],
   "source": [
    "show_at(tls.train, 1)"
   ]
  },
  {
   "cell_type": "markdown",
   "id": "a8922406",
   "metadata": {
    "papermill": {
     "duration": 0.581066,
     "end_time": "2021-09-02T04:03:17.845972",
     "exception": false,
     "start_time": "2021-09-02T04:03:17.264906",
     "status": "completed"
    },
    "tags": []
   },
   "source": [
    "Let's plot with vanialla matplotlib to check if we get the same image."
   ]
  },
  {
   "cell_type": "code",
   "execution_count": 30,
   "id": "989d16cf",
   "metadata": {
    "execution": {
     "iopub.execute_input": "2021-09-02T04:03:18.597498Z",
     "iopub.status.busy": "2021-09-02T04:03:18.596686Z",
     "iopub.status.idle": "2021-09-02T04:03:18.830825Z",
     "shell.execute_reply": "2021-09-02T04:03:18.830340Z",
     "shell.execute_reply.started": "2021-09-02T02:57:30.990344Z"
    },
    "jupyter": {
     "source_hidden": true
    },
    "papermill": {
     "duration": 0.615582,
     "end_time": "2021-09-02T04:03:18.830946",
     "exception": false,
     "start_time": "2021-09-02T04:03:18.215364",
     "status": "completed"
    },
    "tags": []
   },
   "outputs": [
    {
     "data": {
      "image/png": "[encoded data removed]",
      "text/plain": [
       "<Figure size 1152x864 with 1 Axes>"
      ]
     },
     "metadata": {
      "needs_background": "light"
     },
     "output_type": "display_data"
    }
   ],
   "source": [
    "plt.figure(figsize=(16,12))\n",
    "image,label = tls.train[0]\n",
    "plt.imshow(image[0])\n",
    "plt.title(f'label: {label}')\n",
    "plt.show() "
   ]
  },
  {
   "cell_type": "markdown",
   "id": "2643e390",
   "metadata": {
    "papermill": {
     "duration": 0.390856,
     "end_time": "2021-09-02T04:03:19.592934",
     "exception": false,
     "start_time": "2021-09-02T04:03:19.202078",
     "status": "completed"
    },
    "tags": []
   },
   "source": [
    "So, we are all good. We can now create a custom fastai Dataset and display the data in it."
   ]
  },
  {
   "cell_type": "markdown",
   "id": "357e31e6",
   "metadata": {
    "papermill": {
     "duration": 0.371885,
     "end_time": "2021-09-02T04:03:20.339507",
     "exception": false,
     "start_time": "2021-09-02T04:03:19.967622",
     "status": "completed"
    },
    "tags": []
   },
   "source": [
    "## Create the Dataloader🖨️\n",
    "We can use the `TfmdLists` to create a dataloader by calling `dataloaders()`. Here we can't apply `item_tfms` or `batch_tfms` but we can get the hooks to different point in time of the pipeline and can put our transforms there.\n",
    "\n",
    "For example, once items are grabbed then that moment is known as \"after_item\". We can use this hook to apply our transforms once items are grabbed."
   ]
  },
  {
   "cell_type": "code",
   "execution_count": 31,
   "id": "6f4a639e",
   "metadata": {
    "execution": {
     "iopub.execute_input": "2021-09-02T04:03:21.099848Z",
     "iopub.status.busy": "2021-09-02T04:03:21.098971Z",
     "iopub.status.idle": "2021-09-02T04:03:23.793712Z",
     "shell.execute_reply": "2021-09-02T04:03:23.792715Z",
     "shell.execute_reply.started": "2021-09-02T02:57:31.226828Z"
    },
    "papermill": {
     "duration": 3.079468,
     "end_time": "2021-09-02T04:03:23.793878",
     "exception": false,
     "start_time": "2021-09-02T04:03:20.714410",
     "status": "completed"
    },
    "tags": []
   },
   "outputs": [],
   "source": [
    "dls = tls.dataloaders(after_item=[Resize(224), ToTensor], bs=64)"
   ]
  },
  {
   "cell_type": "markdown",
   "id": "2f00d978",
   "metadata": {
    "papermill": {
     "duration": 0.386005,
     "end_time": "2021-09-02T04:03:24.563485",
     "exception": false,
     "start_time": "2021-09-02T04:03:24.177480",
     "status": "completed"
    },
    "tags": []
   },
   "source": [
    "One more thing that we need to do is to make the `show_batch` method aware of the type of our Image. This can be easily done by using `typedispatch` to dispatch our `show_batch` (the one which we will override with our image type). "
   ]
  },
  {
   "cell_type": "code",
   "execution_count": 32,
   "id": "80f306a6",
   "metadata": {
    "execution": {
     "iopub.execute_input": "2021-09-02T04:03:25.335910Z",
     "iopub.status.busy": "2021-09-02T04:03:25.335071Z",
     "iopub.status.idle": "2021-09-02T04:03:25.376500Z",
     "shell.execute_reply": "2021-09-02T04:03:25.375997Z",
     "shell.execute_reply.started": "2021-09-02T02:57:34.187027Z"
    },
    "jupyter": {
     "source_hidden": true
    },
    "papermill": {
     "duration": 0.432656,
     "end_time": "2021-09-02T04:03:25.376624",
     "exception": false,
     "start_time": "2021-09-02T04:03:24.943968",
     "status": "completed"
    },
    "tags": []
   },
   "outputs": [],
   "source": [
    "#export\n",
    "@typedispatch\n",
    "def show_batch(x:NNAudioImage, y, samples, ctxs=None, max_n=6, nrows=None, ncols=3, figsize=None, **kwargs):\n",
    "    if figsize is None: figsize = (ncols*6, max_n//ncols * 3)\n",
    "    if ctxs is None: ctxs = get_grid(min(x[0].shape[0], max_n), nrows=None, ncols=ncols, figsize=figsize)\n",
    "    for i,ctx in enumerate(ctxs): \n",
    "        NNAudioImage(x[0][i], x[1][i].item()).show(ctx=ctx)"
   ]
  },
  {
   "cell_type": "markdown",
   "id": "befcd6b1",
   "metadata": {
    "papermill": {
     "duration": 0.373254,
     "end_time": "2021-09-02T04:03:26.121733",
     "exception": false,
     "start_time": "2021-09-02T04:03:25.748479",
     "status": "completed"
    },
    "tags": []
   },
   "source": [
    "`typedispatch` does somethign similar to [multi-dispatch](https://en.wikipedia.org/wiki/Multiple_dispatch). So, that whenever we call the `show_batch` on our image type then fastai will call our version of `show_batch` after recognizing our image type."
   ]
  },
  {
   "cell_type": "markdown",
   "id": "efda1c45",
   "metadata": {
    "papermill": {
     "duration": 0.374353,
     "end_time": "2021-09-02T04:03:26.868037",
     "exception": false,
     "start_time": "2021-09-02T04:03:26.493684",
     "status": "completed"
    },
    "tags": []
   },
   "source": [
    "Here we go"
   ]
  },
  {
   "cell_type": "code",
   "execution_count": 33,
   "id": "7927fa9b",
   "metadata": {
    "execution": {
     "iopub.execute_input": "2021-09-02T04:03:27.620774Z",
     "iopub.status.busy": "2021-09-02T04:03:27.620142Z",
     "iopub.status.idle": "2021-09-02T04:03:30.535538Z",
     "shell.execute_reply": "2021-09-02T04:03:30.535059Z",
     "shell.execute_reply.started": "2021-09-02T02:57:34.238462Z"
    },
    "jupyter": {
     "source_hidden": true
    },
    "papermill": {
     "duration": 3.293335,
     "end_time": "2021-09-02T04:03:30.535677",
     "exception": false,
     "start_time": "2021-09-02T04:03:27.242342",
     "status": "completed"
    },
    "tags": []
   },
   "outputs": [
    {
     "data": {
      "image/png": "[encoded data removed]",
      "text/plain": [
       "<Figure size 1296x648 with 9 Axes>"
      ]
     },
     "metadata": {
      "needs_background": "light"
     },
     "output_type": "display_data"
    }
   ],
   "source": [
    "dls.show_batch()"
   ]
  },
  {
   "cell_type": "markdown",
   "id": "d827edd0",
   "metadata": {
    "papermill": {
     "duration": 0.37078,
     "end_time": "2021-09-02T04:03:31.280457",
     "exception": false,
     "start_time": "2021-09-02T04:03:30.909677",
     "status": "completed"
    },
    "tags": []
   },
   "source": [
    "## Make your own model🍕\n",
    "We are going to use the timm library as the source of our model. To weave it into fastai, we will create a custom fastai model.\n",
    "\n",
    "All the code below is heavily inspired by-->\n",
    "\n",
    "* [Ayushman's](https://www.kaggle.com/benihime91) [notebook](https://www.kaggle.com/benihime91/fastai-timm-efficientnet-train-fold-0).\n",
    "* fastai siamese [tutorial](https://docs.fast.ai/tutorial.siamese.html).\n",
    "\n",
    "We will also take into account the structure of fastai's `create_cnn_model` class. The code for which is as follows"
   ]
  },
  {
   "cell_type": "code",
   "execution_count": 34,
   "id": "50cedbb8",
   "metadata": {
    "execution": {
     "iopub.execute_input": "2021-09-02T04:03:32.032853Z",
     "iopub.status.busy": "2021-09-02T04:03:32.032044Z",
     "iopub.status.idle": "2021-09-02T04:03:32.132300Z",
     "shell.execute_reply": "2021-09-02T04:03:32.131794Z",
     "shell.execute_reply.started": "2021-09-02T02:57:38.616864Z"
    },
    "jupyter": {
     "source_hidden": true
    },
    "papermill": {
     "duration": 0.483655,
     "end_time": "2021-09-02T04:03:32.132437",
     "exception": false,
     "start_time": "2021-09-02T04:03:31.648782",
     "status": "completed"
    },
    "tags": []
   },
   "outputs": [],
   "source": [
    "create_cnn_model??"
   ]
  },
  {
   "cell_type": "markdown",
   "id": "2bc944d0",
   "metadata": {
    "papermill": {
     "duration": 0.372356,
     "end_time": "2021-09-02T04:03:32.874788",
     "exception": false,
     "start_time": "2021-09-02T04:03:32.502432",
     "status": "completed"
    },
    "tags": []
   },
   "source": [
    "Let's build our own.\n",
    "\n",
    "We will cut off the head of a timm pretrained model using `create_body` and take the encoder only as this would be the portion of the pretrained model which I would like to use. Then I will top it off with a custom fastai head using `create_head` that we would need to train on our target data.\n",
    "\n",
    "To know more about this flow have a look into the fastai siamese [tutorial](https://docs.fast.ai/tutorial.siamese.html)."
   ]
  },
  {
   "cell_type": "markdown",
   "id": "c53817a2",
   "metadata": {
    "papermill": {
     "duration": 0.372153,
     "end_time": "2021-09-02T04:03:33.616730",
     "exception": false,
     "start_time": "2021-09-02T04:03:33.244577",
     "status": "completed"
    },
    "tags": []
   },
   "source": [
    "But first we will create our custom `create_body` and `create_head` functions. the reason for this is that fastai in it's current state is not integrated with the timm library. So, creating custom versions of `create_body` and `create_head` makes the weaving of timm into fastai re-usable.\n",
    "\n",
    "The insipration for this is the [post](https://walkwithfastai.com/vision.external.timm#create_timm_body) in 'walk with fastai'. Once again the code and teh approach is heavily based on this post.\n",
    "\n",
    "> I am recreating this again here instead of using the 'walk with fastai' library is to drill down into the concept and for my personal learning."
   ]
  },
  {
   "cell_type": "markdown",
   "id": "e4c63e8d",
   "metadata": {
    "papermill": {
     "duration": 0.376367,
     "end_time": "2021-09-02T04:03:34.362482",
     "exception": false,
     "start_time": "2021-09-02T04:03:33.986115",
     "status": "completed"
    },
    "tags": []
   },
   "source": [
    "## create_timm_body"
   ]
  },
  {
   "cell_type": "code",
   "execution_count": 35,
   "id": "644cf380",
   "metadata": {
    "execution": {
     "iopub.execute_input": "2021-09-02T04:03:35.119357Z",
     "iopub.status.busy": "2021-09-02T04:03:35.114930Z",
     "iopub.status.idle": "2021-09-02T04:03:35.160073Z",
     "shell.execute_reply": "2021-09-02T04:03:35.159645Z",
     "shell.execute_reply.started": "2021-09-02T02:57:38.72566Z"
    },
    "jupyter": {
     "source_hidden": true
    },
    "papermill": {
     "duration": 0.425881,
     "end_time": "2021-09-02T04:03:35.160218",
     "exception": false,
     "start_time": "2021-09-02T04:03:34.734337",
     "status": "completed"
    },
    "tags": []
   },
   "outputs": [],
   "source": [
    "#export\n",
    "def create_timm_body(arch, n_in=3, pretrained=True, cut=None):\n",
    "    \"Cut off the body of a typically pretrained timm library `arch` as determined by `cut`\"\n",
    "    model = create_model(arch, pretrained=pretrained, num_classes=0, in_chans=1,global_pool='')\n",
    "    _update_first_layer(model, n_in, pretrained)\n",
    "    #cut = ifnone(cut, cnn_config(arch)['cut'])\n",
    "    if cut is None:\n",
    "        ll = list(enumerate(model.children()))\n",
    "        cut = next(i for i,o in reversed(ll) if has_pool_type(o))\n",
    "    if   isinstance(cut, int):      return nn.Sequential(*list(model.children())[:cut])\n",
    "    elif callable(cut): return cut(model)\n",
    "    else:  raise NamedError(\"cut must be either integer or a function\")"
   ]
  },
  {
   "cell_type": "markdown",
   "id": "063945f5",
   "metadata": {
    "papermill": {
     "duration": 0.368874,
     "end_time": "2021-09-02T04:03:35.898735",
     "exception": false,
     "start_time": "2021-09-02T04:03:35.529861",
     "status": "completed"
    },
    "tags": []
   },
   "source": [
    "Now that we have a way to create a body, we will use the code from `create_cnn_model` to build our custom `create_timm_model`.\n",
    "\n",
    "The code for `create_timm_model` is as follows."
   ]
  },
  {
   "cell_type": "code",
   "execution_count": 36,
   "id": "67a98b9e",
   "metadata": {
    "execution": {
     "iopub.execute_input": "2021-09-02T04:03:36.777938Z",
     "iopub.status.busy": "2021-09-02T04:03:36.777092Z",
     "iopub.status.idle": "2021-09-02T04:03:36.828183Z",
     "shell.execute_reply": "2021-09-02T04:03:36.827715Z",
     "shell.execute_reply.started": "2021-09-02T02:57:38.774137Z"
    },
    "jupyter": {
     "source_hidden": true
    },
    "papermill": {
     "duration": 0.433056,
     "end_time": "2021-09-02T04:03:36.828333",
     "exception": false,
     "start_time": "2021-09-02T04:03:36.395277",
     "status": "completed"
    },
    "tags": []
   },
   "outputs": [],
   "source": [
    "create_cnn_model??"
   ]
  },
  {
   "cell_type": "markdown",
   "id": "9b0a4846",
   "metadata": {
    "papermill": {
     "duration": 0.368051,
     "end_time": "2021-09-02T04:03:37.570630",
     "exception": false,
     "start_time": "2021-09-02T04:03:37.202579",
     "status": "completed"
    },
    "tags": []
   },
   "source": [
    "## create_timm_model"
   ]
  },
  {
   "cell_type": "code",
   "execution_count": 37,
   "id": "0adf2859",
   "metadata": {
    "execution": {
     "iopub.execute_input": "2021-09-02T04:03:38.325698Z",
     "iopub.status.busy": "2021-09-02T04:03:38.324790Z",
     "iopub.status.idle": "2021-09-02T04:03:38.366793Z",
     "shell.execute_reply": "2021-09-02T04:03:38.366320Z",
     "shell.execute_reply.started": "2021-09-02T02:57:38.834767Z"
    },
    "jupyter": {
     "source_hidden": true
    },
    "papermill": {
     "duration": 0.425111,
     "end_time": "2021-09-02T04:03:38.366926",
     "exception": false,
     "start_time": "2021-09-02T04:03:37.941815",
     "status": "completed"
    },
    "tags": []
   },
   "outputs": [],
   "source": [
    "create_head?"
   ]
  },
  {
   "cell_type": "code",
   "execution_count": 38,
   "id": "2b17ab12",
   "metadata": {
    "execution": {
     "iopub.execute_input": "2021-09-02T04:03:39.115392Z",
     "iopub.status.busy": "2021-09-02T04:03:39.114566Z",
     "iopub.status.idle": "2021-09-02T04:03:39.155256Z",
     "shell.execute_reply": "2021-09-02T04:03:39.154790Z",
     "shell.execute_reply.started": "2021-09-02T02:57:38.88057Z"
    },
    "jupyter": {
     "source_hidden": true
    },
    "papermill": {
     "duration": 0.422067,
     "end_time": "2021-09-02T04:03:39.155379",
     "exception": false,
     "start_time": "2021-09-02T04:03:38.733312",
     "status": "completed"
    },
    "tags": []
   },
   "outputs": [],
   "source": [
    "#export\n",
    "@delegates(create_head)\n",
    "def create_timm_model(arch, n_out, pretrained=True, cut=None, n_in=3, init=nn.init.kaiming_normal_, custom_head=None,\n",
    "                     concat_pool=True, in_chans=1, **kwargs):\n",
    "    \"Create custom architecture from the timm library\"\n",
    "    body = create_timm_body(arch, n_in, pretrained, None)\n",
    "    if custom_head is None:\n",
    "        nf = num_features_model(nn.Sequential(*body.children()))\n",
    "        head = create_head(nf, n_out, concat_pool=concat_pool, **kwargs)\n",
    "    else: head = custom_head\n",
    "    model = nn.Sequential(body, head)\n",
    "    if init is not None: apply_init(model[1], init)\n",
    "    return model"
   ]
  },
  {
   "cell_type": "markdown",
   "id": "2c1894cd",
   "metadata": {
    "papermill": {
     "duration": 0.452132,
     "end_time": "2021-09-02T04:03:40.205847",
     "exception": false,
     "start_time": "2021-09-02T04:03:39.753715",
     "status": "completed"
    },
    "tags": []
   },
   "source": [
    "The `@delegate` macro tells fastai to show the parameters of any `**kwargs` (which we would be using in the `create_body`) during function [introspection](https://fastcore.fast.ai/meta.html#delegates)."
   ]
  },
  {
   "cell_type": "markdown",
   "id": "06499da9",
   "metadata": {
    "papermill": {
     "duration": 0.508747,
     "end_time": "2021-09-02T04:03:41.349348",
     "exception": false,
     "start_time": "2021-09-02T04:03:40.840601",
     "status": "completed"
    },
    "tags": []
   },
   "source": [
    "Let's do a quick test to check if our custom model works."
   ]
  },
  {
   "cell_type": "code",
   "execution_count": 39,
   "id": "d24c97d9",
   "metadata": {
    "execution": {
     "iopub.execute_input": "2021-09-02T04:03:42.246692Z",
     "iopub.status.busy": "2021-09-02T04:03:42.245781Z",
     "iopub.status.idle": "2021-09-02T04:03:42.289911Z",
     "shell.execute_reply": "2021-09-02T04:03:42.289434Z",
     "shell.execute_reply.started": "2021-09-02T02:57:38.926928Z"
    },
    "jupyter": {
     "source_hidden": true
    },
    "papermill": {
     "duration": 0.485643,
     "end_time": "2021-09-02T04:03:42.290048",
     "exception": false,
     "start_time": "2021-09-02T04:03:41.804405",
     "status": "completed"
    },
    "tags": []
   },
   "outputs": [],
   "source": [
    "# num of classes\n",
    "n_out = 2"
   ]
  },
  {
   "cell_type": "code",
   "execution_count": 40,
   "id": "209f2e66",
   "metadata": {
    "execution": {
     "iopub.execute_input": "2021-09-02T04:03:43.068333Z",
     "iopub.status.busy": "2021-09-02T04:03:43.067511Z",
     "iopub.status.idle": "2021-09-02T04:03:45.047323Z",
     "shell.execute_reply": "2021-09-02T04:03:45.046778Z",
     "shell.execute_reply.started": "2021-09-02T02:57:38.970063Z"
    },
    "jupyter": {
     "source_hidden": true
    },
    "papermill": {
     "duration": 2.354239,
     "end_time": "2021-09-02T04:03:45.047452",
     "exception": false,
     "start_time": "2021-09-02T04:03:42.693213",
     "status": "completed"
    },
    "tags": []
   },
   "outputs": [
    {
     "name": "stderr",
     "output_type": "stream",
     "text": [
      "Downloading: \"https://github.com/rwightman/pytorch-image-models/releases/download/v0.1-weights/efficientnet_b3_ra2-cf984f9c.pth\" to /root/.cache/torch/hub/checkpoints/efficientnet_b3_ra2-cf984f9c.pth\n"
     ]
    }
   ],
   "source": [
    "model = create_timm_model(\"efficientnet_b3a\", n_out)"
   ]
  },
  {
   "cell_type": "code",
   "execution_count": 41,
   "id": "dbb0560f",
   "metadata": {
    "execution": {
     "iopub.execute_input": "2021-09-02T04:03:45.804263Z",
     "iopub.status.busy": "2021-09-02T04:03:45.803269Z",
     "iopub.status.idle": "2021-09-02T04:03:45.850321Z",
     "shell.execute_reply": "2021-09-02T04:03:45.850697Z",
     "shell.execute_reply.started": "2021-09-02T02:57:40.87035Z"
    },
    "jupyter": {
     "source_hidden": true
    },
    "papermill": {
     "duration": 0.422953,
     "end_time": "2021-09-02T04:03:45.850842",
     "exception": false,
     "start_time": "2021-09-02T04:03:45.427889",
     "status": "completed"
    },
    "tags": []
   },
   "outputs": [
    {
     "data": {
      "text/plain": [
       "(#2) [Sequential(\n",
       "  (0): Conv2d(1, 40, kernel_size=(3, 3), stride=(2, 2), padding=(1, 1), bias=False)\n",
       "  (1): BatchNorm2d(40, eps=1e-05, momentum=0.1, affine=True, track_running_stats=True)\n",
       "  (2): SiLU(inplace=True)\n",
       "  (3): Sequential(\n",
       "    (0): Sequential(\n",
       "      (0): DepthwiseSeparableConv(\n",
       "        (conv_dw): Conv2d(40, 40, kernel_size=(3, 3), stride=(1, 1), padding=(1, 1), groups=40, bias=False)\n",
       "        (bn1): BatchNorm2d(40, eps=1e-05, momentum=0.1, affine=True, track_running_stats=True)\n",
       "        (act1): SiLU(inplace=True)\n",
       "        (se): SqueezeExcite(\n",
       "          (conv_reduce): Conv2d(40, 10, kernel_size=(1, 1), stride=(1, 1))\n",
       "          (act1): SiLU(inplace=True)\n",
       "          (conv_expand): Conv2d(10, 40, kernel_size=(1, 1), stride=(1, 1))\n",
       "          (gate): Sigmoid()\n",
       "        )\n",
       "        (conv_pw): Conv2d(40, 24, kernel_size=(1, 1), stride=(1, 1), bias=False)\n",
       "        (bn2): BatchNorm2d(24, eps=1e-05, momentum=0.1, affine=True, track_running_stats=True)\n",
       "        (act2): Identity()\n",
       "      )\n",
       "      (1): DepthwiseSeparableConv(\n",
       "        (conv_dw): Conv2d(24, 24, kernel_size=(3, 3), stride=(1, 1), padding=(1, 1), groups=24, bias=False)\n",
       "        (bn1): BatchNorm2d(24, eps=1e-05, momentum=0.1, affine=True, track_running_stats=True)\n",
       "        (act1): SiLU(inplace=True)\n",
       "        (se): SqueezeExcite(\n",
       "          (conv_reduce): Conv2d(24, 6, kernel_size=(1, 1), stride=(1, 1))\n",
       "          (act1): SiLU(inplace=True)\n",
       "          (conv_expand): Conv2d(6, 24, kernel_size=(1, 1), stride=(1, 1))\n",
       "          (gate): Sigmoid()\n",
       "        )\n",
       "        (conv_pw): Conv2d(24, 24, kernel_size=(1, 1), stride=(1, 1), bias=False)\n",
       "        (bn2): BatchNorm2d(24, eps=1e-05, momentum=0.1, affine=True, track_running_stats=True)\n",
       "        (act2): Identity()\n",
       "      )\n",
       "    )\n",
       "    (1): Sequential(\n",
       "      (0): InvertedResidual(\n",
       "        (conv_pw): Conv2d(24, 144, kernel_size=(1, 1), stride=(1, 1), bias=False)\n",
       "        (bn1): BatchNorm2d(144, eps=1e-05, momentum=0.1, affine=True, track_running_stats=True)\n",
       "        (act1): SiLU(inplace=True)\n",
       "        (conv_dw): Conv2d(144, 144, kernel_size=(3, 3), stride=(2, 2), padding=(1, 1), groups=144, bias=False)\n",
       "        (bn2): BatchNorm2d(144, eps=1e-05, momentum=0.1, affine=True, track_running_stats=True)\n",
       "        (act2): SiLU(inplace=True)\n",
       "        (se): SqueezeExcite(\n",
       "          (conv_reduce): Conv2d(144, 6, kernel_size=(1, 1), stride=(1, 1))\n",
       "          (act1): SiLU(inplace=True)\n",
       "          (conv_expand): Conv2d(6, 144, kernel_size=(1, 1), stride=(1, 1))\n",
       "          (gate): Sigmoid()\n",
       "        )\n",
       "        (conv_pwl): Conv2d(144, 32, kernel_size=(1, 1), stride=(1, 1), bias=False)\n",
       "        (bn3): BatchNorm2d(32, eps=1e-05, momentum=0.1, affine=True, track_running_stats=True)\n",
       "      )\n",
       "      (1): InvertedResidual(\n",
       "        (conv_pw): Conv2d(32, 192, kernel_size=(1, 1), stride=(1, 1), bias=False)\n",
       "        (bn1): BatchNorm2d(192, eps=1e-05, momentum=0.1, affine=True, track_running_stats=True)\n",
       "        (act1): SiLU(inplace=True)\n",
       "        (conv_dw): Conv2d(192, 192, kernel_size=(3, 3), stride=(1, 1), padding=(1, 1), groups=192, bias=False)\n",
       "        (bn2): BatchNorm2d(192, eps=1e-05, momentum=0.1, affine=True, track_running_stats=True)\n",
       "        (act2): SiLU(inplace=True)\n",
       "        (se): SqueezeExcite(\n",
       "          (conv_reduce): Conv2d(192, 8, kernel_size=(1, 1), stride=(1, 1))\n",
       "          (act1): SiLU(inplace=True)\n",
       "          (conv_expand): Conv2d(8, 192, kernel_size=(1, 1), stride=(1, 1))\n",
       "          (gate): Sigmoid()\n",
       "        )\n",
       "        (conv_pwl): Conv2d(192, 32, kernel_size=(1, 1), stride=(1, 1), bias=False)\n",
       "        (bn3): BatchNorm2d(32, eps=1e-05, momentum=0.1, affine=True, track_running_stats=True)\n",
       "      )\n",
       "      (2): InvertedResidual(\n",
       "        (conv_pw): Conv2d(32, 192, kernel_size=(1, 1), stride=(1, 1), bias=False)\n",
       "        (bn1): BatchNorm2d(192, eps=1e-05, momentum=0.1, affine=True, track_running_stats=True)\n",
       "        (act1): SiLU(inplace=True)\n",
       "        (conv_dw): Conv2d(192, 192, kernel_size=(3, 3), stride=(1, 1), padding=(1, 1), groups=192, bias=False)\n",
       "        (bn2): BatchNorm2d(192, eps=1e-05, momentum=0.1, affine=True, track_running_stats=True)\n",
       "        (act2): SiLU(inplace=True)\n",
       "        (se): SqueezeExcite(\n",
       "          (conv_reduce): Conv2d(192, 8, kernel_size=(1, 1), stride=(1, 1))\n",
       "          (act1): SiLU(inplace=True)\n",
       "          (conv_expand): Conv2d(8, 192, kernel_size=(1, 1), stride=(1, 1))\n",
       "          (gate): Sigmoid()\n",
       "        )\n",
       "        (conv_pwl): Conv2d(192, 32, kernel_size=(1, 1), stride=(1, 1), bias=False)\n",
       "        (bn3): BatchNorm2d(32, eps=1e-05, momentum=0.1, affine=True, track_running_stats=True)\n",
       "      )\n",
       "    )\n",
       "    (2): Sequential(\n",
       "      (0): InvertedResidual(\n",
       "        (conv_pw): Conv2d(32, 192, kernel_size=(1, 1), stride=(1, 1), bias=False)\n",
       "        (bn1): BatchNorm2d(192, eps=1e-05, momentum=0.1, affine=True, track_running_stats=True)\n",
       "        (act1): SiLU(inplace=True)\n",
       "        (conv_dw): Conv2d(192, 192, kernel_size=(5, 5), stride=(2, 2), padding=(2, 2), groups=192, bias=False)\n",
       "        (bn2): BatchNorm2d(192, eps=1e-05, momentum=0.1, affine=True, track_running_stats=True)\n",
       "        (act2): SiLU(inplace=True)\n",
       "        (se): SqueezeExcite(\n",
       "          (conv_reduce): Conv2d(192, 8, kernel_size=(1, 1), stride=(1, 1))\n",
       "          (act1): SiLU(inplace=True)\n",
       "          (conv_expand): Conv2d(8, 192, kernel_size=(1, 1), stride=(1, 1))\n",
       "          (gate): Sigmoid()\n",
       "        )\n",
       "        (conv_pwl): Conv2d(192, 48, kernel_size=(1, 1), stride=(1, 1), bias=False)\n",
       "        (bn3): BatchNorm2d(48, eps=1e-05, momentum=0.1, affine=True, track_running_stats=True)\n",
       "      )\n",
       "      (1): InvertedResidual(\n",
       "        (conv_pw): Conv2d(48, 288, kernel_size=(1, 1), stride=(1, 1), bias=False)\n",
       "        (bn1): BatchNorm2d(288, eps=1e-05, momentum=0.1, affine=True, track_running_stats=True)\n",
       "        (act1): SiLU(inplace=True)\n",
       "        (conv_dw): Conv2d(288, 288, kernel_size=(5, 5), stride=(1, 1), padding=(2, 2), groups=288, bias=False)\n",
       "        (bn2): BatchNorm2d(288, eps=1e-05, momentum=0.1, affine=True, track_running_stats=True)\n",
       "        (act2): SiLU(inplace=True)\n",
       "        (se): SqueezeExcite(\n",
       "          (conv_reduce): Conv2d(288, 12, kernel_size=(1, 1), stride=(1, 1))\n",
       "          (act1): SiLU(inplace=True)\n",
       "          (conv_expand): Conv2d(12, 288, kernel_size=(1, 1), stride=(1, 1))\n",
       "          (gate): Sigmoid()\n",
       "        )\n",
       "        (conv_pwl): Conv2d(288, 48, kernel_size=(1, 1), stride=(1, 1), bias=False)\n",
       "        (bn3): BatchNorm2d(48, eps=1e-05, momentum=0.1, affine=True, track_running_stats=True)\n",
       "      )\n",
       "      (2): InvertedResidual(\n",
       "        (conv_pw): Conv2d(48, 288, kernel_size=(1, 1), stride=(1, 1), bias=False)\n",
       "        (bn1): BatchNorm2d(288, eps=1e-05, momentum=0.1, affine=True, track_running_stats=True)\n",
       "        (act1): SiLU(inplace=True)\n",
       "        (conv_dw): Conv2d(288, 288, kernel_size=(5, 5), stride=(1, 1), padding=(2, 2), groups=288, bias=False)\n",
       "        (bn2): BatchNorm2d(288, eps=1e-05, momentum=0.1, affine=True, track_running_stats=True)\n",
       "        (act2): SiLU(inplace=True)\n",
       "        (se): SqueezeExcite(\n",
       "          (conv_reduce): Conv2d(288, 12, kernel_size=(1, 1), stride=(1, 1))\n",
       "          (act1): SiLU(inplace=True)\n",
       "          (conv_expand): Conv2d(12, 288, kernel_size=(1, 1), stride=(1, 1))\n",
       "          (gate): Sigmoid()\n",
       "        )\n",
       "        (conv_pwl): Conv2d(288, 48, kernel_size=(1, 1), stride=(1, 1), bias=False)\n",
       "        (bn3): BatchNorm2d(48, eps=1e-05, momentum=0.1, affine=True, track_running_stats=True)\n",
       "      )\n",
       "    )\n",
       "    (3): Sequential(\n",
       "      (0): InvertedResidual(\n",
       "        (conv_pw): Conv2d(48, 288, kernel_size=(1, 1), stride=(1, 1), bias=False)\n",
       "        (bn1): BatchNorm2d(288, eps=1e-05, momentum=0.1, affine=True, track_running_stats=True)\n",
       "        (act1): SiLU(inplace=True)\n",
       "        (conv_dw): Conv2d(288, 288, kernel_size=(3, 3), stride=(2, 2), padding=(1, 1), groups=288, bias=False)\n",
       "        (bn2): BatchNorm2d(288, eps=1e-05, momentum=0.1, affine=True, track_running_stats=True)\n",
       "        (act2): SiLU(inplace=True)\n",
       "        (se): SqueezeExcite(\n",
       "          (conv_reduce): Conv2d(288, 12, kernel_size=(1, 1), stride=(1, 1))\n",
       "          (act1): SiLU(inplace=True)\n",
       "          (conv_expand): Conv2d(12, 288, kernel_size=(1, 1), stride=(1, 1))\n",
       "          (gate): Sigmoid()\n",
       "        )\n",
       "        (conv_pwl): Conv2d(288, 96, kernel_size=(1, 1), stride=(1, 1), bias=False)\n",
       "        (bn3): BatchNorm2d(96, eps=1e-05, momentum=0.1, affine=True, track_running_stats=True)\n",
       "      )\n",
       "      (1): InvertedResidual(\n",
       "        (conv_pw): Conv2d(96, 576, kernel_size=(1, 1), stride=(1, 1), bias=False)\n",
       "        (bn1): BatchNorm2d(576, eps=1e-05, momentum=0.1, affine=True, track_running_stats=True)\n",
       "        (act1): SiLU(inplace=True)\n",
       "        (conv_dw): Conv2d(576, 576, kernel_size=(3, 3), stride=(1, 1), padding=(1, 1), groups=576, bias=False)\n",
       "        (bn2): BatchNorm2d(576, eps=1e-05, momentum=0.1, affine=True, track_running_stats=True)\n",
       "        (act2): SiLU(inplace=True)\n",
       "        (se): SqueezeExcite(\n",
       "          (conv_reduce): Conv2d(576, 24, kernel_size=(1, 1), stride=(1, 1))\n",
       "          (act1): SiLU(inplace=True)\n",
       "          (conv_expand): Conv2d(24, 576, kernel_size=(1, 1), stride=(1, 1))\n",
       "          (gate): Sigmoid()\n",
       "        )\n",
       "        (conv_pwl): Conv2d(576, 96, kernel_size=(1, 1), stride=(1, 1), bias=False)\n",
       "        (bn3): BatchNorm2d(96, eps=1e-05, momentum=0.1, affine=True, track_running_stats=True)\n",
       "      )\n",
       "      (2): InvertedResidual(\n",
       "        (conv_pw): Conv2d(96, 576, kernel_size=(1, 1), stride=(1, 1), bias=False)\n",
       "        (bn1): BatchNorm2d(576, eps=1e-05, momentum=0.1, affine=True, track_running_stats=True)\n",
       "        (act1): SiLU(inplace=True)\n",
       "        (conv_dw): Conv2d(576, 576, kernel_size=(3, 3), stride=(1, 1), padding=(1, 1), groups=576, bias=False)\n",
       "        (bn2): BatchNorm2d(576, eps=1e-05, momentum=0.1, affine=True, track_running_stats=True)\n",
       "        (act2): SiLU(inplace=True)\n",
       "        (se): SqueezeExcite(\n",
       "          (conv_reduce): Conv2d(576, 24, kernel_size=(1, 1), stride=(1, 1))\n",
       "          (act1): SiLU(inplace=True)\n",
       "          (conv_expand): Conv2d(24, 576, kernel_size=(1, 1), stride=(1, 1))\n",
       "          (gate): Sigmoid()\n",
       "        )\n",
       "        (conv_pwl): Conv2d(576, 96, kernel_size=(1, 1), stride=(1, 1), bias=False)\n",
       "        (bn3): BatchNorm2d(96, eps=1e-05, momentum=0.1, affine=True, track_running_stats=True)\n",
       "      )\n",
       "      (3): InvertedResidual(\n",
       "        (conv_pw): Conv2d(96, 576, kernel_size=(1, 1), stride=(1, 1), bias=False)\n",
       "        (bn1): BatchNorm2d(576, eps=1e-05, momentum=0.1, affine=True, track_running_stats=True)\n",
       "        (act1): SiLU(inplace=True)\n",
       "        (conv_dw): Conv2d(576, 576, kernel_size=(3, 3), stride=(1, 1), padding=(1, 1), groups=576, bias=False)\n",
       "        (bn2): BatchNorm2d(576, eps=1e-05, momentum=0.1, affine=True, track_running_stats=True)\n",
       "        (act2): SiLU(inplace=True)\n",
       "        (se): SqueezeExcite(\n",
       "          (conv_reduce): Conv2d(576, 24, kernel_size=(1, 1), stride=(1, 1))\n",
       "          (act1): SiLU(inplace=True)\n",
       "          (conv_expand): Conv2d(24, 576, kernel_size=(1, 1), stride=(1, 1))\n",
       "          (gate): Sigmoid()\n",
       "        )\n",
       "        (conv_pwl): Conv2d(576, 96, kernel_size=(1, 1), stride=(1, 1), bias=False)\n",
       "        (bn3): BatchNorm2d(96, eps=1e-05, momentum=0.1, affine=True, track_running_stats=True)\n",
       "      )\n",
       "      (4): InvertedResidual(\n",
       "        (conv_pw): Conv2d(96, 576, kernel_size=(1, 1), stride=(1, 1), bias=False)\n",
       "        (bn1): BatchNorm2d(576, eps=1e-05, momentum=0.1, affine=True, track_running_stats=True)\n",
       "        (act1): SiLU(inplace=True)\n",
       "        (conv_dw): Conv2d(576, 576, kernel_size=(3, 3), stride=(1, 1), padding=(1, 1), groups=576, bias=False)\n",
       "        (bn2): BatchNorm2d(576, eps=1e-05, momentum=0.1, affine=True, track_running_stats=True)\n",
       "        (act2): SiLU(inplace=True)\n",
       "        (se): SqueezeExcite(\n",
       "          (conv_reduce): Conv2d(576, 24, kernel_size=(1, 1), stride=(1, 1))\n",
       "          (act1): SiLU(inplace=True)\n",
       "          (conv_expand): Conv2d(24, 576, kernel_size=(1, 1), stride=(1, 1))\n",
       "          (gate): Sigmoid()\n",
       "        )\n",
       "        (conv_pwl): Conv2d(576, 96, kernel_size=(1, 1), stride=(1, 1), bias=False)\n",
       "        (bn3): BatchNorm2d(96, eps=1e-05, momentum=0.1, affine=True, track_running_stats=True)\n",
       "      )\n",
       "    )\n",
       "    (4): Sequential(\n",
       "      (0): InvertedResidual(\n",
       "        (conv_pw): Conv2d(96, 576, kernel_size=(1, 1), stride=(1, 1), bias=False)\n",
       "        (bn1): BatchNorm2d(576, eps=1e-05, momentum=0.1, affine=True, track_running_stats=True)\n",
       "        (act1): SiLU(inplace=True)\n",
       "        (conv_dw): Conv2d(576, 576, kernel_size=(5, 5), stride=(1, 1), padding=(2, 2), groups=576, bias=False)\n",
       "        (bn2): BatchNorm2d(576, eps=1e-05, momentum=0.1, affine=True, track_running_stats=True)\n",
       "        (act2): SiLU(inplace=True)\n",
       "        (se): SqueezeExcite(\n",
       "          (conv_reduce): Conv2d(576, 24, kernel_size=(1, 1), stride=(1, 1))\n",
       "          (act1): SiLU(inplace=True)\n",
       "          (conv_expand): Conv2d(24, 576, kernel_size=(1, 1), stride=(1, 1))\n",
       "          (gate): Sigmoid()\n",
       "        )\n",
       "        (conv_pwl): Conv2d(576, 136, kernel_size=(1, 1), stride=(1, 1), bias=False)\n",
       "        (bn3): BatchNorm2d(136, eps=1e-05, momentum=0.1, affine=True, track_running_stats=True)\n",
       "      )\n",
       "      (1): InvertedResidual(\n",
       "        (conv_pw): Conv2d(136, 816, kernel_size=(1, 1), stride=(1, 1), bias=False)\n",
       "        (bn1): BatchNorm2d(816, eps=1e-05, momentum=0.1, affine=True, track_running_stats=True)\n",
       "        (act1): SiLU(inplace=True)\n",
       "        (conv_dw): Conv2d(816, 816, kernel_size=(5, 5), stride=(1, 1), padding=(2, 2), groups=816, bias=False)\n",
       "        (bn2): BatchNorm2d(816, eps=1e-05, momentum=0.1, affine=True, track_running_stats=True)\n",
       "        (act2): SiLU(inplace=True)\n",
       "        (se): SqueezeExcite(\n",
       "          (conv_reduce): Conv2d(816, 34, kernel_size=(1, 1), stride=(1, 1))\n",
       "          (act1): SiLU(inplace=True)\n",
       "          (conv_expand): Conv2d(34, 816, kernel_size=(1, 1), stride=(1, 1))\n",
       "          (gate): Sigmoid()\n",
       "        )\n",
       "        (conv_pwl): Conv2d(816, 136, kernel_size=(1, 1), stride=(1, 1), bias=False)\n",
       "        (bn3): BatchNorm2d(136, eps=1e-05, momentum=0.1, affine=True, track_running_stats=True)\n",
       "      )\n",
       "      (2): InvertedResidual(\n",
       "        (conv_pw): Conv2d(136, 816, kernel_size=(1, 1), stride=(1, 1), bias=False)\n",
       "        (bn1): BatchNorm2d(816, eps=1e-05, momentum=0.1, affine=True, track_running_stats=True)\n",
       "        (act1): SiLU(inplace=True)\n",
       "        (conv_dw): Conv2d(816, 816, kernel_size=(5, 5), stride=(1, 1), padding=(2, 2), groups=816, bias=False)\n",
       "        (bn2): BatchNorm2d(816, eps=1e-05, momentum=0.1, affine=True, track_running_stats=True)\n",
       "        (act2): SiLU(inplace=True)\n",
       "        (se): SqueezeExcite(\n",
       "          (conv_reduce): Conv2d(816, 34, kernel_size=(1, 1), stride=(1, 1))\n",
       "          (act1): SiLU(inplace=True)\n",
       "          (conv_expand): Conv2d(34, 816, kernel_size=(1, 1), stride=(1, 1))\n",
       "          (gate): Sigmoid()\n",
       "        )\n",
       "        (conv_pwl): Conv2d(816, 136, kernel_size=(1, 1), stride=(1, 1), bias=False)\n",
       "        (bn3): BatchNorm2d(136, eps=1e-05, momentum=0.1, affine=True, track_running_stats=True)\n",
       "      )\n",
       "      (3): InvertedResidual(\n",
       "        (conv_pw): Conv2d(136, 816, kernel_size=(1, 1), stride=(1, 1), bias=False)\n",
       "        (bn1): BatchNorm2d(816, eps=1e-05, momentum=0.1, affine=True, track_running_stats=True)\n",
       "        (act1): SiLU(inplace=True)\n",
       "        (conv_dw): Conv2d(816, 816, kernel_size=(5, 5), stride=(1, 1), padding=(2, 2), groups=816, bias=False)\n",
       "        (bn2): BatchNorm2d(816, eps=1e-05, momentum=0.1, affine=True, track_running_stats=True)\n",
       "        (act2): SiLU(inplace=True)\n",
       "        (se): SqueezeExcite(\n",
       "          (conv_reduce): Conv2d(816, 34, kernel_size=(1, 1), stride=(1, 1))\n",
       "          (act1): SiLU(inplace=True)\n",
       "          (conv_expand): Conv2d(34, 816, kernel_size=(1, 1), stride=(1, 1))\n",
       "          (gate): Sigmoid()\n",
       "        )\n",
       "        (conv_pwl): Conv2d(816, 136, kernel_size=(1, 1), stride=(1, 1), bias=False)\n",
       "        (bn3): BatchNorm2d(136, eps=1e-05, momentum=0.1, affine=True, track_running_stats=True)\n",
       "      )\n",
       "      (4): InvertedResidual(\n",
       "        (conv_pw): Conv2d(136, 816, kernel_size=(1, 1), stride=(1, 1), bias=False)\n",
       "        (bn1): BatchNorm2d(816, eps=1e-05, momentum=0.1, affine=True, track_running_stats=True)\n",
       "        (act1): SiLU(inplace=True)\n",
       "        (conv_dw): Conv2d(816, 816, kernel_size=(5, 5), stride=(1, 1), padding=(2, 2), groups=816, bias=False)\n",
       "        (bn2): BatchNorm2d(816, eps=1e-05, momentum=0.1, affine=True, track_running_stats=True)\n",
       "        (act2): SiLU(inplace=True)\n",
       "        (se): SqueezeExcite(\n",
       "          (conv_reduce): Conv2d(816, 34, kernel_size=(1, 1), stride=(1, 1))\n",
       "          (act1): SiLU(inplace=True)\n",
       "          (conv_expand): Conv2d(34, 816, kernel_size=(1, 1), stride=(1, 1))\n",
       "          (gate): Sigmoid()\n",
       "        )\n",
       "        (conv_pwl): Conv2d(816, 136, kernel_size=(1, 1), stride=(1, 1), bias=False)\n",
       "        (bn3): BatchNorm2d(136, eps=1e-05, momentum=0.1, affine=True, track_running_stats=True)\n",
       "      )\n",
       "    )\n",
       "    (5): Sequential(\n",
       "      (0): InvertedResidual(\n",
       "        (conv_pw): Conv2d(136, 816, kernel_size=(1, 1), stride=(1, 1), bias=False)\n",
       "        (bn1): BatchNorm2d(816, eps=1e-05, momentum=0.1, affine=True, track_running_stats=True)\n",
       "        (act1): SiLU(inplace=True)\n",
       "        (conv_dw): Conv2d(816, 816, kernel_size=(5, 5), stride=(2, 2), padding=(2, 2), groups=816, bias=False)\n",
       "        (bn2): BatchNorm2d(816, eps=1e-05, momentum=0.1, affine=True, track_running_stats=True)\n",
       "        (act2): SiLU(inplace=True)\n",
       "        (se): SqueezeExcite(\n",
       "          (conv_reduce): Conv2d(816, 34, kernel_size=(1, 1), stride=(1, 1))\n",
       "          (act1): SiLU(inplace=True)\n",
       "          (conv_expand): Conv2d(34, 816, kernel_size=(1, 1), stride=(1, 1))\n",
       "          (gate): Sigmoid()\n",
       "        )\n",
       "        (conv_pwl): Conv2d(816, 232, kernel_size=(1, 1), stride=(1, 1), bias=False)\n",
       "        (bn3): BatchNorm2d(232, eps=1e-05, momentum=0.1, affine=True, track_running_stats=True)\n",
       "      )\n",
       "      (1): InvertedResidual(\n",
       "        (conv_pw): Conv2d(232, 1392, kernel_size=(1, 1), stride=(1, 1), bias=False)\n",
       "        (bn1): BatchNorm2d(1392, eps=1e-05, momentum=0.1, affine=True, track_running_stats=True)\n",
       "        (act1): SiLU(inplace=True)\n",
       "        (conv_dw): Conv2d(1392, 1392, kernel_size=(5, 5), stride=(1, 1), padding=(2, 2), groups=1392, bias=False)\n",
       "        (bn2): BatchNorm2d(1392, eps=1e-05, momentum=0.1, affine=True, track_running_stats=True)\n",
       "        (act2): SiLU(inplace=True)\n",
       "        (se): SqueezeExcite(\n",
       "          (conv_reduce): Conv2d(1392, 58, kernel_size=(1, 1), stride=(1, 1))\n",
       "          (act1): SiLU(inplace=True)\n",
       "          (conv_expand): Conv2d(58, 1392, kernel_size=(1, 1), stride=(1, 1))\n",
       "          (gate): Sigmoid()\n",
       "        )\n",
       "        (conv_pwl): Conv2d(1392, 232, kernel_size=(1, 1), stride=(1, 1), bias=False)\n",
       "        (bn3): BatchNorm2d(232, eps=1e-05, momentum=0.1, affine=True, track_running_stats=True)\n",
       "      )\n",
       "      (2): InvertedResidual(\n",
       "        (conv_pw): Conv2d(232, 1392, kernel_size=(1, 1), stride=(1, 1), bias=False)\n",
       "        (bn1): BatchNorm2d(1392, eps=1e-05, momentum=0.1, affine=True, track_running_stats=True)\n",
       "        (act1): SiLU(inplace=True)\n",
       "        (conv_dw): Conv2d(1392, 1392, kernel_size=(5, 5), stride=(1, 1), padding=(2, 2), groups=1392, bias=False)\n",
       "        (bn2): BatchNorm2d(1392, eps=1e-05, momentum=0.1, affine=True, track_running_stats=True)\n",
       "        (act2): SiLU(inplace=True)\n",
       "        (se): SqueezeExcite(\n",
       "          (conv_reduce): Conv2d(1392, 58, kernel_size=(1, 1), stride=(1, 1))\n",
       "          (act1): SiLU(inplace=True)\n",
       "          (conv_expand): Conv2d(58, 1392, kernel_size=(1, 1), stride=(1, 1))\n",
       "          (gate): Sigmoid()\n",
       "        )\n",
       "        (conv_pwl): Conv2d(1392, 232, kernel_size=(1, 1), stride=(1, 1), bias=False)\n",
       "        (bn3): BatchNorm2d(232, eps=1e-05, momentum=0.1, affine=True, track_running_stats=True)\n",
       "      )\n",
       "      (3): InvertedResidual(\n",
       "        (conv_pw): Conv2d(232, 1392, kernel_size=(1, 1), stride=(1, 1), bias=False)\n",
       "        (bn1): BatchNorm2d(1392, eps=1e-05, momentum=0.1, affine=True, track_running_stats=True)\n",
       "        (act1): SiLU(inplace=True)\n",
       "        (conv_dw): Conv2d(1392, 1392, kernel_size=(5, 5), stride=(1, 1), padding=(2, 2), groups=1392, bias=False)\n",
       "        (bn2): BatchNorm2d(1392, eps=1e-05, momentum=0.1, affine=True, track_running_stats=True)\n",
       "        (act2): SiLU(inplace=True)\n",
       "        (se): SqueezeExcite(\n",
       "          (conv_reduce): Conv2d(1392, 58, kernel_size=(1, 1), stride=(1, 1))\n",
       "          (act1): SiLU(inplace=True)\n",
       "          (conv_expand): Conv2d(58, 1392, kernel_size=(1, 1), stride=(1, 1))\n",
       "          (gate): Sigmoid()\n",
       "        )\n",
       "        (conv_pwl): Conv2d(1392, 232, kernel_size=(1, 1), stride=(1, 1), bias=False)\n",
       "        (bn3): BatchNorm2d(232, eps=1e-05, momentum=0.1, affine=True, track_running_stats=True)\n",
       "      )\n",
       "      (4): InvertedResidual(\n",
       "        (conv_pw): Conv2d(232, 1392, kernel_size=(1, 1), stride=(1, 1), bias=False)\n",
       "        (bn1): BatchNorm2d(1392, eps=1e-05, momentum=0.1, affine=True, track_running_stats=True)\n",
       "        (act1): SiLU(inplace=True)\n",
       "        (conv_dw): Conv2d(1392, 1392, kernel_size=(5, 5), stride=(1, 1), padding=(2, 2), groups=1392, bias=False)\n",
       "        (bn2): BatchNorm2d(1392, eps=1e-05, momentum=0.1, affine=True, track_running_stats=True)\n",
       "        (act2): SiLU(inplace=True)\n",
       "        (se): SqueezeExcite(\n",
       "          (conv_reduce): Conv2d(1392, 58, kernel_size=(1, 1), stride=(1, 1))\n",
       "          (act1): SiLU(inplace=True)\n",
       "          (conv_expand): Conv2d(58, 1392, kernel_size=(1, 1), stride=(1, 1))\n",
       "          (gate): Sigmoid()\n",
       "        )\n",
       "        (conv_pwl): Conv2d(1392, 232, kernel_size=(1, 1), stride=(1, 1), bias=False)\n",
       "        (bn3): BatchNorm2d(232, eps=1e-05, momentum=0.1, affine=True, track_running_stats=True)\n",
       "      )\n",
       "      (5): InvertedResidual(\n",
       "        (conv_pw): Conv2d(232, 1392, kernel_size=(1, 1), stride=(1, 1), bias=False)\n",
       "        (bn1): BatchNorm2d(1392, eps=1e-05, momentum=0.1, affine=True, track_running_stats=True)\n",
       "        (act1): SiLU(inplace=True)\n",
       "        (conv_dw): Conv2d(1392, 1392, kernel_size=(5, 5), stride=(1, 1), padding=(2, 2), groups=1392, bias=False)\n",
       "        (bn2): BatchNorm2d(1392, eps=1e-05, momentum=0.1, affine=True, track_running_stats=True)\n",
       "        (act2): SiLU(inplace=True)\n",
       "        (se): SqueezeExcite(\n",
       "          (conv_reduce): Conv2d(1392, 58, kernel_size=(1, 1), stride=(1, 1))\n",
       "          (act1): SiLU(inplace=True)\n",
       "          (conv_expand): Conv2d(58, 1392, kernel_size=(1, 1), stride=(1, 1))\n",
       "          (gate): Sigmoid()\n",
       "        )\n",
       "        (conv_pwl): Conv2d(1392, 232, kernel_size=(1, 1), stride=(1, 1), bias=False)\n",
       "        (bn3): BatchNorm2d(232, eps=1e-05, momentum=0.1, affine=True, track_running_stats=True)\n",
       "      )\n",
       "    )\n",
       "    (6): Sequential(\n",
       "      (0): InvertedResidual(\n",
       "        (conv_pw): Conv2d(232, 1392, kernel_size=(1, 1), stride=(1, 1), bias=False)\n",
       "        (bn1): BatchNorm2d(1392, eps=1e-05, momentum=0.1, affine=True, track_running_stats=True)\n",
       "        (act1): SiLU(inplace=True)\n",
       "        (conv_dw): Conv2d(1392, 1392, kernel_size=(3, 3), stride=(1, 1), padding=(1, 1), groups=1392, bias=False)\n",
       "        (bn2): BatchNorm2d(1392, eps=1e-05, momentum=0.1, affine=True, track_running_stats=True)\n",
       "        (act2): SiLU(inplace=True)\n",
       "        (se): SqueezeExcite(\n",
       "          (conv_reduce): Conv2d(1392, 58, kernel_size=(1, 1), stride=(1, 1))\n",
       "          (act1): SiLU(inplace=True)\n",
       "          (conv_expand): Conv2d(58, 1392, kernel_size=(1, 1), stride=(1, 1))\n",
       "          (gate): Sigmoid()\n",
       "        )\n",
       "        (conv_pwl): Conv2d(1392, 384, kernel_size=(1, 1), stride=(1, 1), bias=False)\n",
       "        (bn3): BatchNorm2d(384, eps=1e-05, momentum=0.1, affine=True, track_running_stats=True)\n",
       "      )\n",
       "      (1): InvertedResidual(\n",
       "        (conv_pw): Conv2d(384, 2304, kernel_size=(1, 1), stride=(1, 1), bias=False)\n",
       "        (bn1): BatchNorm2d(2304, eps=1e-05, momentum=0.1, affine=True, track_running_stats=True)\n",
       "        (act1): SiLU(inplace=True)\n",
       "        (conv_dw): Conv2d(2304, 2304, kernel_size=(3, 3), stride=(1, 1), padding=(1, 1), groups=2304, bias=False)\n",
       "        (bn2): BatchNorm2d(2304, eps=1e-05, momentum=0.1, affine=True, track_running_stats=True)\n",
       "        (act2): SiLU(inplace=True)\n",
       "        (se): SqueezeExcite(\n",
       "          (conv_reduce): Conv2d(2304, 96, kernel_size=(1, 1), stride=(1, 1))\n",
       "          (act1): SiLU(inplace=True)\n",
       "          (conv_expand): Conv2d(96, 2304, kernel_size=(1, 1), stride=(1, 1))\n",
       "          (gate): Sigmoid()\n",
       "        )\n",
       "        (conv_pwl): Conv2d(2304, 384, kernel_size=(1, 1), stride=(1, 1), bias=False)\n",
       "        (bn3): BatchNorm2d(384, eps=1e-05, momentum=0.1, affine=True, track_running_stats=True)\n",
       "      )\n",
       "    )\n",
       "  )\n",
       "  (4): Conv2d(384, 1536, kernel_size=(1, 1), stride=(1, 1), bias=False)\n",
       "  (5): BatchNorm2d(1536, eps=1e-05, momentum=0.1, affine=True, track_running_stats=True)\n",
       "  (6): SiLU(inplace=True)\n",
       "),Sequential(\n",
       "  (0): AdaptiveConcatPool2d(\n",
       "    (ap): AdaptiveAvgPool2d(output_size=1)\n",
       "    (mp): AdaptiveMaxPool2d(output_size=1)\n",
       "  )\n",
       "  (1): Flatten(full=False)\n",
       "  (2): BatchNorm1d(3072, eps=1e-05, momentum=0.1, affine=True, track_running_stats=True)\n",
       "  (3): Dropout(p=0.25, inplace=False)\n",
       "  (4): Linear(in_features=3072, out_features=512, bias=False)\n",
       "  (5): ReLU(inplace=True)\n",
       "  (6): BatchNorm1d(512, eps=1e-05, momentum=0.1, affine=True, track_running_stats=True)\n",
       "  (7): Dropout(p=0.5, inplace=False)\n",
       "  (8): Linear(in_features=512, out_features=2, bias=False)\n",
       ")]"
      ]
     },
     "execution_count": 41,
     "metadata": {},
     "output_type": "execute_result"
    }
   ],
   "source": [
    "L(model.children())"
   ]
  },
  {
   "cell_type": "markdown",
   "id": "bd692d35",
   "metadata": {
    "papermill": {
     "duration": 0.371974,
     "end_time": "2021-09-02T04:03:46.636251",
     "exception": false,
     "start_time": "2021-09-02T04:03:46.264277",
     "status": "completed"
    },
    "tags": []
   },
   "source": [
    "cool! so it works.\n",
    "\n",
    "Now, we will build a learner which would enable us to do transfer learning with timm models. Once again we will port `cnn_learner` for our use and like before let's quickly take a look into the `cnn_learner` code"
   ]
  },
  {
   "cell_type": "code",
   "execution_count": 42,
   "id": "026a26d5",
   "metadata": {
    "execution": {
     "iopub.execute_input": "2021-09-02T04:03:47.400099Z",
     "iopub.status.busy": "2021-09-02T04:03:47.399160Z",
     "iopub.status.idle": "2021-09-02T04:03:47.459906Z",
     "shell.execute_reply": "2021-09-02T04:03:47.460646Z",
     "shell.execute_reply.started": "2021-09-02T02:57:40.919926Z"
    },
    "jupyter": {
     "source_hidden": true
    },
    "papermill": {
     "duration": 0.436552,
     "end_time": "2021-09-02T04:03:47.460818",
     "exception": false,
     "start_time": "2021-09-02T04:03:47.024266",
     "status": "completed"
    },
    "tags": []
   },
   "outputs": [],
   "source": [
    "cnn_learner??"
   ]
  },
  {
   "cell_type": "code",
   "execution_count": 43,
   "id": "5abc6c59",
   "metadata": {
    "execution": {
     "iopub.execute_input": "2021-09-02T04:03:48.225209Z",
     "iopub.status.busy": "2021-09-02T04:03:48.224371Z",
     "iopub.status.idle": "2021-09-02T04:03:48.265504Z",
     "shell.execute_reply": "2021-09-02T04:03:48.265025Z",
     "shell.execute_reply.started": "2021-09-02T02:57:41.089548Z"
    },
    "jupyter": {
     "source_hidden": true
    },
    "papermill": {
     "duration": 0.42402,
     "end_time": "2021-09-02T04:03:48.265642",
     "exception": false,
     "start_time": "2021-09-02T04:03:47.841622",
     "status": "completed"
    },
    "tags": []
   },
   "outputs": [],
   "source": [
    "#export\n",
    "@delegates(create_timm_model)\n",
    "def timm_learner(dls, arch, n_out=None, pretrained=True,\n",
    "                # learner args\n",
    "                loss_func=None, opt_func=Adam, lr=defaults.lr, splitter=None, cbs=None, metrics=None, path=None,\n",
    "                model_dir='models', wd=None, wd_bn_bias=False, train_bn=True, moms=(0.95,0.85,0.95),\n",
    "                # other model args\n",
    "                **kwargs):\n",
    "    \"Build a convnet style learner from `dls` and `timm arch`\"\n",
    "\n",
    "    kwargs = {**kwargs}\n",
    "    if n_out is None: n_out = get_c(dls)\n",
    "    assert n_out, \"`n_out` is not defined, and could not be inferred from data, set `dls.c` or pass `n_out`\"\n",
    "    model = create_timm_model(arch, n_out, default_split, pretrained, **kwargs)\n",
    "\n",
    "    learn = Learner(dls=dls, model=model, loss_func=loss_func, opt_func=opt_func, lr=lr, splitter=default_split, cbs=cbs,\n",
    "                   metrics=metrics, path=path, model_dir=model_dir, wd=wd, wd_bn_bias=wd_bn_bias, train_bn=train_bn,\n",
    "                   moms=moms)\n",
    "    if pretrained: learn.freeze()\n",
    "    # keep track of args for loggers\n",
    "    store_attr('arch,n_out,pretrained', self=learn, **kwargs)\n",
    "    return learn"
   ]
  },
  {
   "cell_type": "markdown",
   "id": "19a5fb5f",
   "metadata": {
    "papermill": {
     "duration": 0.376987,
     "end_time": "2021-09-02T04:03:49.013611",
     "exception": false,
     "start_time": "2021-09-02T04:03:48.636624",
     "status": "completed"
    },
    "tags": []
   },
   "source": [
    "Here we go we somehow managed to get a port of the learner code which looks the part. Does it work?\n",
    "\n",
    "Let me find out.\n",
    "\n",
    "> To find the list of models available in the timm library use `list_models`"
   ]
  },
  {
   "cell_type": "code",
   "execution_count": 44,
   "id": "337fb92c",
   "metadata": {
    "execution": {
     "iopub.execute_input": "2021-09-02T04:03:49.884326Z",
     "iopub.status.busy": "2021-09-02T04:03:49.882986Z",
     "iopub.status.idle": "2021-09-02T04:03:49.931969Z",
     "shell.execute_reply": "2021-09-02T04:03:49.932504Z",
     "shell.execute_reply.started": "2021-09-02T02:57:41.1375Z"
    },
    "jupyter": {
     "source_hidden": true
    },
    "papermill": {
     "duration": 0.483504,
     "end_time": "2021-09-02T04:03:49.932668",
     "exception": false,
     "start_time": "2021-09-02T04:03:49.449164",
     "status": "completed"
    },
    "tags": []
   },
   "outputs": [
    {
     "data": {
      "text/plain": [
       "['efficientnet_b0',\n",
       " 'efficientnet_b1',\n",
       " 'efficientnet_b1_pruned',\n",
       " 'efficientnet_b2',\n",
       " 'efficientnet_b2_pruned',\n",
       " 'efficientnet_b2a',\n",
       " 'efficientnet_b3',\n",
       " 'efficientnet_b3_pruned',\n",
       " 'efficientnet_b3a',\n",
       " 'efficientnet_b4',\n",
       " 'efficientnet_b5',\n",
       " 'efficientnet_b6',\n",
       " 'efficientnet_b7',\n",
       " 'efficientnet_b8',\n",
       " 'efficientnet_cc_b0_4e',\n",
       " 'efficientnet_cc_b0_8e',\n",
       " 'efficientnet_cc_b1_8e',\n",
       " 'efficientnet_el',\n",
       " 'efficientnet_el_pruned',\n",
       " 'efficientnet_em',\n",
       " 'efficientnet_es',\n",
       " 'efficientnet_es_pruned',\n",
       " 'efficientnet_l2',\n",
       " 'efficientnet_lite0',\n",
       " 'efficientnet_lite1',\n",
       " 'efficientnet_lite2',\n",
       " 'efficientnet_lite3',\n",
       " 'efficientnet_lite4',\n",
       " 'efficientnetv2_l',\n",
       " 'efficientnetv2_m',\n",
       " 'efficientnetv2_rw_m',\n",
       " 'efficientnetv2_rw_s',\n",
       " 'efficientnetv2_s']"
      ]
     },
     "execution_count": 44,
     "metadata": {},
     "output_type": "execute_result"
    }
   ],
   "source": [
    "list_models(\"efficient*\")"
   ]
  },
  {
   "cell_type": "markdown",
   "id": "0d8a0dc4",
   "metadata": {
    "papermill": {
     "duration": 0.535388,
     "end_time": "2021-09-02T04:03:50.982202",
     "exception": false,
     "start_time": "2021-09-02T04:03:50.446814",
     "status": "completed"
    },
    "tags": []
   },
   "source": [
    "## The learner👩‍🏫\n",
    "Now that we have the model in place, we can go ahead and create the learner the usual way. We have kept the batch size to default.\n",
    "\n",
    "There is one little thing that I would like to do before creating learner. I will create a helper function which can help me to get the suggested learning rate quickly."
   ]
  },
  {
   "cell_type": "code",
   "execution_count": 45,
   "id": "e01a3955",
   "metadata": {
    "execution": {
     "iopub.execute_input": "2021-09-02T04:03:51.737245Z",
     "iopub.status.busy": "2021-09-02T04:03:51.736405Z",
     "iopub.status.idle": "2021-09-02T04:03:51.779057Z",
     "shell.execute_reply": "2021-09-02T04:03:51.778599Z",
     "shell.execute_reply.started": "2021-09-02T02:57:41.184196Z"
    },
    "jupyter": {
     "source_hidden": true
    },
    "papermill": {
     "duration": 0.423261,
     "end_time": "2021-09-02T04:03:51.779201",
     "exception": false,
     "start_time": "2021-09-02T04:03:51.355940",
     "status": "completed"
    },
    "tags": []
   },
   "outputs": [],
   "source": [
    "#export\n",
    "def show_me_lrs(learn):\n",
    "    suggestions = namedtuple('Suggestions', [\"min\", \"steep\",\n",
    "                                            \"valley\", \"slide\"])\n",
    "    lr_min, lr_steep,lr_valley, lr_slide = learn.lr_find(suggest_funcs=(minimum, steep,valley, slide))\n",
    "    suggested_lrs = suggestions(lr_min, lr_steep, lr_valley, lr_slide)\n",
    "    \n",
    "    print(f\"Minimum/10:\\t{lr_min:.2e}\\\n",
    "          \\nSteepest point:\\t{lr_steep:.2e}\\\n",
    "          \\nLongest valley:\\t{lr_valley:.2e}\\\n",
    "          \\nSlide interval:\\t{lr_slide:.2e}\")\n",
    "    \n",
    "    return suggested_lrs"
   ]
  },
  {
   "cell_type": "code",
   "execution_count": 46,
   "id": "49266a47",
   "metadata": {
    "execution": {
     "iopub.execute_input": "2021-09-02T04:03:52.552531Z",
     "iopub.status.busy": "2021-09-02T04:03:52.551714Z",
     "iopub.status.idle": "2021-09-02T04:03:53.768975Z",
     "shell.execute_reply": "2021-09-02T04:03:53.768480Z",
     "shell.execute_reply.started": "2021-09-02T02:57:41.228846Z"
    },
    "jupyter": {
     "source_hidden": true
    },
    "papermill": {
     "duration": 1.593938,
     "end_time": "2021-09-02T04:03:53.769099",
     "exception": false,
     "start_time": "2021-09-02T04:03:52.175161",
     "status": "completed"
    },
    "tags": []
   },
   "outputs": [],
   "source": [
    "learn = timm_learner(dls, 'efficientnet_b7', loss_func=CrossEntropyLossFlat(), metrics=[RocAucBinary(axis=0)], n_out=2).to_fp16()"
   ]
  },
  {
   "cell_type": "markdown",
   "id": "9b7aa055",
   "metadata": {
    "papermill": {
     "duration": 0.380633,
     "end_time": "2021-09-02T04:03:54.531976",
     "exception": false,
     "start_time": "2021-09-02T04:03:54.151343",
     "status": "completed"
    },
    "tags": []
   },
   "source": [
    "Fit one epoch to see how it behaves"
   ]
  },
  {
   "cell_type": "code",
   "execution_count": 47,
   "id": "0dd7db30",
   "metadata": {
    "execution": {
     "iopub.execute_input": "2021-09-02T04:03:55.288176Z",
     "iopub.status.busy": "2021-09-02T04:03:55.287640Z",
     "iopub.status.idle": "2021-09-02T04:13:22.592077Z",
     "shell.execute_reply": "2021-09-02T04:13:22.591456Z",
     "shell.execute_reply.started": "2021-09-02T02:57:42.480711Z"
    },
    "jupyter": {
     "source_hidden": true
    },
    "papermill": {
     "duration": 567.688848,
     "end_time": "2021-09-02T04:13:22.592261",
     "exception": false,
     "start_time": "2021-09-02T04:03:54.903413",
     "status": "completed"
    },
    "tags": []
   },
   "outputs": [
    {
     "data": {
      "text/html": [
       "<table border=\"1\" class=\"dataframe\">\n",
       "  <thead>\n",
       "    <tr style=\"text-align: left;\">\n",
       "      <th>epoch</th>\n",
       "      <th>train_loss</th>\n",
       "      <th>valid_loss</th>\n",
       "      <th>roc_auc_score</th>\n",
       "      <th>time</th>\n",
       "    </tr>\n",
       "  </thead>\n",
       "  <tbody>\n",
       "    <tr>\n",
       "      <td>0</td>\n",
       "      <td>0.809027</td>\n",
       "      <td>0.776363</td>\n",
       "      <td>0.487233</td>\n",
       "      <td>09:27</td>\n",
       "    </tr>\n",
       "  </tbody>\n",
       "</table>"
      ],
      "text/plain": [
       "<IPython.core.display.HTML object>"
      ]
     },
     "metadata": {},
     "output_type": "display_data"
    }
   ],
   "source": [
    "learn.fit_one_cycle(1, 3e-3)"
   ]
  },
  {
   "cell_type": "markdown",
   "id": "6b2315fc",
   "metadata": {
    "papermill": {
     "duration": 0.37292,
     "end_time": "2021-09-02T04:13:23.344477",
     "exception": false,
     "start_time": "2021-09-02T04:13:22.971557",
     "status": "completed"
    },
    "tags": []
   },
   "source": [
    "Using the learnign rate finder to get the learning rate"
   ]
  },
  {
   "cell_type": "code",
   "execution_count": 48,
   "id": "2391e9ff",
   "metadata": {
    "execution": {
     "iopub.execute_input": "2021-09-02T04:13:24.092173Z",
     "iopub.status.busy": "2021-09-02T04:13:24.091366Z",
     "iopub.status.idle": "2021-09-02T04:13:24.141574Z",
     "shell.execute_reply": "2021-09-02T04:13:24.141099Z"
    },
    "jupyter": {
     "source_hidden": true
    },
    "papermill": {
     "duration": 0.426932,
     "end_time": "2021-09-02T04:13:24.141707",
     "exception": false,
     "start_time": "2021-09-02T04:13:23.714775",
     "status": "completed"
    },
    "tags": []
   },
   "outputs": [],
   "source": [
    "learn.unfreeze()"
   ]
  },
  {
   "cell_type": "code",
   "execution_count": 49,
   "id": "bcf9d2b5",
   "metadata": {
    "execution": {
     "iopub.execute_input": "2021-09-02T04:13:24.900873Z",
     "iopub.status.busy": "2021-09-02T04:13:24.900049Z",
     "iopub.status.idle": "2021-09-02T04:16:20.235157Z",
     "shell.execute_reply": "2021-09-02T04:16:20.235598Z"
    },
    "jupyter": {
     "source_hidden": true
    },
    "papermill": {
     "duration": 175.710996,
     "end_time": "2021-09-02T04:16:20.235756",
     "exception": false,
     "start_time": "2021-09-02T04:13:24.524760",
     "status": "completed"
    },
    "tags": []
   },
   "outputs": [
    {
     "data": {
      "text/html": [],
      "text/plain": [
       "<IPython.core.display.HTML object>"
      ]
     },
     "metadata": {},
     "output_type": "display_data"
    },
    {
     "name": "stderr",
     "output_type": "stream",
     "text": [
      "/opt/conda/lib/python3.7/site-packages/nnAudio/utils.py:326: SyntaxWarning: If fmax is given, n_bins will be ignored\n",
      "  warnings.warn('If fmax is given, n_bins will be ignored',SyntaxWarning)\n",
      "/opt/conda/lib/python3.7/site-packages/nnAudio/utils.py:326: SyntaxWarning: If fmax is given, n_bins will be ignored\n",
      "  warnings.warn('If fmax is given, n_bins will be ignored',SyntaxWarning)\n",
      "/opt/conda/lib/python3.7/site-packages/fastai/callback/schedule.py:269: UserWarning: color is redundantly defined by the 'color' keyword argument and the fmt string \"ro\" (-> color='r'). The keyword argument will take precedence.\n",
      "  ax.plot(val, idx, 'ro', label=nm, c=color)\n"
     ]
    },
    {
     "name": "stdout",
     "output_type": "stream",
     "text": [
      "Minimum/10:\t2.29e-05          \n",
      "Steepest point:\t2.75e-06          \n",
      "Longest valley:\t3.98e-04          \n",
      "Slide interval:\t5.25e-03\n"
     ]
    },
    {
     "data": {
      "image/png": "[encoded data removed]",
      "text/plain": [
       "<Figure size 432x288 with 1 Axes>"
      ]
     },
     "metadata": {
      "needs_background": "light"
     },
     "output_type": "display_data"
    }
   ],
   "source": [
    "suggested_lrs = show_me_lrs(learn)"
   ]
  },
  {
   "cell_type": "markdown",
   "id": "00e3d62b",
   "metadata": {
    "papermill": {
     "duration": 0.380699,
     "end_time": "2021-09-02T04:16:20.992044",
     "exception": false,
     "start_time": "2021-09-02T04:16:20.611345",
     "status": "completed"
    },
    "tags": []
   },
   "source": [
    "I will use the slide algorithm here to get the optimal learning rate."
   ]
  },
  {
   "cell_type": "code",
   "execution_count": 50,
   "id": "e47d745c",
   "metadata": {
    "execution": {
     "iopub.execute_input": "2021-09-02T04:16:21.840625Z",
     "iopub.status.busy": "2021-09-02T04:16:21.839687Z",
     "iopub.status.idle": "2021-09-02T05:03:40.525023Z",
     "shell.execute_reply": "2021-09-02T05:03:40.525426Z"
    },
    "jupyter": {
     "source_hidden": true
    },
    "papermill": {
     "duration": 2839.113522,
     "end_time": "2021-09-02T05:03:40.525625",
     "exception": false,
     "start_time": "2021-09-02T04:16:21.412103",
     "status": "completed"
    },
    "tags": []
   },
   "outputs": [
    {
     "data": {
      "text/html": [
       "<table border=\"1\" class=\"dataframe\">\n",
       "  <thead>\n",
       "    <tr style=\"text-align: left;\">\n",
       "      <th>epoch</th>\n",
       "      <th>train_loss</th>\n",
       "      <th>valid_loss</th>\n",
       "      <th>roc_auc_score</th>\n",
       "      <th>time</th>\n",
       "    </tr>\n",
       "  </thead>\n",
       "  <tbody>\n",
       "    <tr>\n",
       "      <td>0</td>\n",
       "      <td>0.817600</td>\n",
       "      <td>2.180261</td>\n",
       "      <td>0.497700</td>\n",
       "      <td>09:24</td>\n",
       "    </tr>\n",
       "    <tr>\n",
       "      <td>1</td>\n",
       "      <td>0.822535</td>\n",
       "      <td>0.886126</td>\n",
       "      <td>0.506089</td>\n",
       "      <td>09:30</td>\n",
       "    </tr>\n",
       "    <tr>\n",
       "      <td>2</td>\n",
       "      <td>0.798694</td>\n",
       "      <td>0.698949</td>\n",
       "      <td>0.494648</td>\n",
       "      <td>09:28</td>\n",
       "    </tr>\n",
       "    <tr>\n",
       "      <td>3</td>\n",
       "      <td>0.786659</td>\n",
       "      <td>0.705695</td>\n",
       "      <td>0.498027</td>\n",
       "      <td>09:28</td>\n",
       "    </tr>\n",
       "    <tr>\n",
       "      <td>4</td>\n",
       "      <td>0.749765</td>\n",
       "      <td>0.693733</td>\n",
       "      <td>0.521068</td>\n",
       "      <td>09:27</td>\n",
       "    </tr>\n",
       "  </tbody>\n",
       "</table>"
      ],
      "text/plain": [
       "<IPython.core.display.HTML object>"
      ]
     },
     "metadata": {},
     "output_type": "display_data"
    },
    {
     "name": "stderr",
     "output_type": "stream",
     "text": [
      "/opt/conda/lib/python3.7/site-packages/nnAudio/utils.py:326: SyntaxWarning: If fmax is given, n_bins will be ignored\n",
      "  warnings.warn('If fmax is given, n_bins will be ignored',SyntaxWarning)\n",
      "/opt/conda/lib/python3.7/site-packages/nnAudio/utils.py:326: SyntaxWarning: If fmax is given, n_bins will be ignored\n",
      "  warnings.warn('If fmax is given, n_bins will be ignored',SyntaxWarning)\n",
      "/opt/conda/lib/python3.7/site-packages/nnAudio/utils.py:326: SyntaxWarning: If fmax is given, n_bins will be ignored\n",
      "  warnings.warn('If fmax is given, n_bins will be ignored',SyntaxWarning)\n",
      "/opt/conda/lib/python3.7/site-packages/nnAudio/utils.py:326: SyntaxWarning: If fmax is given, n_bins will be ignored\n",
      "  warnings.warn('If fmax is given, n_bins will be ignored',SyntaxWarning)\n",
      "/opt/conda/lib/python3.7/site-packages/nnAudio/utils.py:326: SyntaxWarning: If fmax is given, n_bins will be ignored\n",
      "  warnings.warn('If fmax is given, n_bins will be ignored',SyntaxWarning)\n",
      "/opt/conda/lib/python3.7/site-packages/nnAudio/utils.py:326: SyntaxWarning: If fmax is given, n_bins will be ignored\n",
      "  warnings.warn('If fmax is given, n_bins will be ignored',SyntaxWarning)\n",
      "/opt/conda/lib/python3.7/site-packages/nnAudio/utils.py:326: SyntaxWarning: If fmax is given, n_bins will be ignored\n",
      "  warnings.warn('If fmax is given, n_bins will be ignored',SyntaxWarning)\n",
      "/opt/conda/lib/python3.7/site-packages/nnAudio/utils.py:326: SyntaxWarning: If fmax is given, n_bins will be ignored\n",
      "  warnings.warn('If fmax is given, n_bins will be ignored',SyntaxWarning)\n",
      "/opt/conda/lib/python3.7/site-packages/nnAudio/utils.py:326: SyntaxWarning: If fmax is given, n_bins will be ignored\n",
      "  warnings.warn('If fmax is given, n_bins will be ignored',SyntaxWarning)\n",
      "/opt/conda/lib/python3.7/site-packages/nnAudio/utils.py:326: SyntaxWarning: If fmax is given, n_bins will be ignored\n",
      "  warnings.warn('If fmax is given, n_bins will be ignored',SyntaxWarning)\n",
      "/opt/conda/lib/python3.7/site-packages/nnAudio/utils.py:326: SyntaxWarning: If fmax is given, n_bins will be ignored\n",
      "  warnings.warn('If fmax is given, n_bins will be ignored',SyntaxWarning)\n",
      "/opt/conda/lib/python3.7/site-packages/nnAudio/utils.py:326: SyntaxWarning: If fmax is given, n_bins will be ignored\n",
      "  warnings.warn('If fmax is given, n_bins will be ignored',SyntaxWarning)\n",
      "/opt/conda/lib/python3.7/site-packages/nnAudio/utils.py:326: SyntaxWarning: If fmax is given, n_bins will be ignored\n",
      "  warnings.warn('If fmax is given, n_bins will be ignored',SyntaxWarning)\n",
      "/opt/conda/lib/python3.7/site-packages/nnAudio/utils.py:326: SyntaxWarning: If fmax is given, n_bins will be ignored\n",
      "  warnings.warn('If fmax is given, n_bins will be ignored',SyntaxWarning)\n",
      "/opt/conda/lib/python3.7/site-packages/nnAudio/utils.py:326: SyntaxWarning: If fmax is given, n_bins will be ignored\n",
      "  warnings.warn('If fmax is given, n_bins will be ignored',SyntaxWarning)\n",
      "/opt/conda/lib/python3.7/site-packages/nnAudio/utils.py:326: SyntaxWarning: If fmax is given, n_bins will be ignored\n",
      "  warnings.warn('If fmax is given, n_bins will be ignored',SyntaxWarning)\n",
      "/opt/conda/lib/python3.7/site-packages/nnAudio/utils.py:326: SyntaxWarning: If fmax is given, n_bins will be ignored\n",
      "  warnings.warn('If fmax is given, n_bins will be ignored',SyntaxWarning)\n",
      "/opt/conda/lib/python3.7/site-packages/nnAudio/utils.py:326: SyntaxWarning: If fmax is given, n_bins will be ignored\n",
      "  warnings.warn('If fmax is given, n_bins will be ignored',SyntaxWarning)\n",
      "/opt/conda/lib/python3.7/site-packages/nnAudio/utils.py:326: SyntaxWarning: If fmax is given, n_bins will be ignored\n",
      "  warnings.warn('If fmax is given, n_bins will be ignored',SyntaxWarning)\n",
      "/opt/conda/lib/python3.7/site-packages/nnAudio/utils.py:326: SyntaxWarning: If fmax is given, n_bins will be ignored\n",
      "  warnings.warn('If fmax is given, n_bins will be ignored',SyntaxWarning)\n"
     ]
    }
   ],
   "source": [
    "learn.fit_one_cycle(5, lr_max=suggested_lrs.slide)"
   ]
  },
  {
   "cell_type": "code",
   "execution_count": 51,
   "id": "879ef5d4",
   "metadata": {
    "execution": {
     "iopub.execute_input": "2021-09-02T05:03:41.288767Z",
     "iopub.status.busy": "2021-09-02T05:03:41.287799Z",
     "iopub.status.idle": "2021-09-02T05:03:42.129969Z",
     "shell.execute_reply": "2021-09-02T05:03:42.129464Z"
    },
    "jupyter": {
     "source_hidden": true
    },
    "papermill": {
     "duration": 1.22611,
     "end_time": "2021-09-02T05:03:42.130117",
     "exception": false,
     "start_time": "2021-09-02T05:03:40.904007",
     "status": "completed"
    },
    "tags": []
   },
   "outputs": [],
   "source": [
    "learn.export(\"./final\")"
   ]
  },
  {
   "cell_type": "markdown",
   "id": "3f3d04f5",
   "metadata": {
    "execution": {
     "iopub.execute_input": "2021-08-27T10:17:20.66105Z",
     "iopub.status.busy": "2021-08-27T10:17:20.660655Z",
     "iopub.status.idle": "2021-08-27T10:17:20.720017Z",
     "shell.execute_reply": "2021-08-27T10:17:20.718718Z",
     "shell.execute_reply.started": "2021-08-27T10:17:20.661019Z"
    },
    "papermill": {
     "duration": 0.377915,
     "end_time": "2021-09-02T05:03:42.887720",
     "exception": false,
     "start_time": "2021-09-02T05:03:42.509805",
     "status": "completed"
    },
    "tags": []
   },
   "source": [
    "## TBD🎈🎈\n",
    "👉 How does the perfromance changes with data augmentation?\n",
    "\n",
    "👉 Does data augmentation in the context of gravitation signals somehow mutatet the data ? is it good?\n",
    "\n",
    "👉 How about transformations other than CQT?\n",
    "\n",
    "👉 How about introducing pre-processing. Maybe some form of cleaning of the signals?\n"
   ]
  },
  {
   "cell_type": "markdown",
   "id": "64e53ff2",
   "metadata": {
    "papermill": {
     "duration": 0.374432,
     "end_time": "2021-09-02T05:03:43.656168",
     "exception": false,
     "start_time": "2021-09-02T05:03:43.281736",
     "status": "completed"
    },
    "tags": []
   },
   "source": []
  }
 ],
 "metadata": {
  "kernelspec": {
   "display_name": "Python 3",
   "language": "python",
   "name": "python3"
  },
  "language_info": {
   "codemirror_mode": {
    "name": "ipython",
    "version": 3
   },
   "file_extension": ".py",
   "mimetype": "text/x-python",
   "name": "python",
   "nbconvert_exporter": "python",
   "pygments_lexer": "ipython3",
   "version": "3.7.10"
  },
  "papermill": {
   "default_parameters": {},
   "duration": 3869.43341,
   "end_time": "2021-09-02T05:03:46.162276",
   "environment_variables": {},
   "exception": null,
   "input_path": "__notebook__.ipynb",
   "output_path": "__notebook__.ipynb",
   "parameters": {},
   "start_time": "2021-09-02T03:59:16.728866",
   "version": "2.3.3"
  }
 },
 "nbformat": 4,
 "nbformat_minor": 5
}
